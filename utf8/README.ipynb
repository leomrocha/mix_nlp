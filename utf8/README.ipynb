{
 "cells": [
  {
   "cell_type": "markdown",
   "metadata": {},
   "source": [
    "# A Comprehensive Study of Multiple Encoding Techniques on Low Resource Embeddings for Character-Level NLP\n",
    "\n",
    "## Flexible Universal Character Level Encoding method for Text in NLP\n",
    "\n",
    "    Leonardo M. Rocha\n",
    "    leo <dot> m <dot> rocha <at> gmail <dot> com\n",
    "    "
   ]
  },
  {
   "cell_type": "markdown",
   "metadata": {},
   "source": [
    "## Abstract\n",
    "\n",
    "Currently NLP deals with *Out of Vocabulary* (OOV) in different ways, this leads to several non-necessarilly efficient ways of pre-processing NLP datasets to be able to deal with \n",
    "In this work we present **Segment-Multihot-Encoding** (SME) a technique that deals with OOV and allows to encode all possible symbols in a computationally efficient manner to encode all (or part) of the UTF-8 domain in a fixed multi-hot encoding that can be further compressed by overfitting. This technique eliminates the need of complex and compute consuming pre-processing replacing it for a much more simple one that works for *any* dataset. This work focuses on being able to encode a symbol, as once it is encoded the network can be fine-tunned later to handle previously unseen ones.\n",
    "\n",
    "This work presents the SME technique for UTF8 and we call it **SME-UTF8**, the source code and encoding vectors are also given with usage examples.\n",
    "\n",
    "There is an extra advantage of this methodology is that with deterministic and defined process with small representation size can be implemented efficiently in hardware.\n",
    "\n",
    "This is also presented directly as an ipython notebook to also be Executable in the places that is needed. We call this, the Executable Paper and the idea is to improve reproducibility.\n",
    "\n"
   ]
  },
  {
   "cell_type": "markdown",
   "metadata": {},
   "source": [
    "## Introduction and Related Work\n",
    "\n",
    "Currently for NLP tasks there is the need to first analyze the input domain and encode it to deal with *Out of Vocabulary* (OOV) words or symbols and Polysemy. \n",
    "\n",
    "It is important to separate (and we do in this work) the encoding part (to be able to represent the symbol) from the learning to use those symbols (the network to be able to do something useful with it) as this work focuses solely on being able to encode all feasible symbols in a defined text encoding domain. In this case the work is done for UTF-8 which is the most used text encoding in the web [94.6% according to w3techs](https://w3techs.com/technologies/details/en-utf8).\n"
   ]
  },
  {
   "cell_type": "markdown",
   "metadata": {},
   "source": [
    "\n",
    "Diverse techniques deal differently with OOV, ranging from techniques that can not deal with them, like [GloVe - Pennington et al. 2014](https://nlp.stanford.edu/pubs/glove.pdf) or [Word2Vec - Milikov et al. 2013](https://arxiv.org/abs/1301.3781) to others such as [Universal Sentence Encoder -Cer et al. 2018](https://arxiv.org/abs/1803.11175) or the one for FastText can encode OOV with subword embeddings\n",
    "One of the most used techniques is [Byte Pair Encoding from Neural Machine Translation of Rare Words with Subword Units Sennrich et al. 2015](https://arxiv.org/abs/1508.07909) which has the advantage of compressing the input size hence accelerate training compared to a full character level input on the current SoTA.\n",
    "\n",
    "\n",
    "[ELMo - Peters et al. 2018](https://arxiv.org/abs/1802.05365)\n",
    "\n",
    "[Transformer - ]()\n",
    "[ULM-FiT - ]()\n",
    "[BERT - ]()\n",
    "[AlBERT - ]()\n",
    "[CamemBERT]()\n",
    "\n",
    "\n",
    "... TODO more papers and references here\n",
    "\n"
   ]
  },
  {
   "cell_type": "markdown",
   "metadata": {},
   "source": [
    "All current methods deal with subdomains of the possible inputs available, which for most tasks is enough, nevertheless the weakness is that they can not deal with **all** posisble input symbols, which for the current study is UTF-8.\n",
    "\n",
    "In the case of continual learning the need to add new symbols is a given, be it due to adding new domain in the same language, or new languages\n",
    "\n",
    "The goal of this work is to try to set a more standard way to deal with all possible symbols in a defined encoding standard.\n",
    "\n",
    "This work analyzes UTF-8 encoding and presents a technique to be able to encode part or all of the UTF-8 domain in an computationally efficient way. The same technique can be used for other text encodings without any modification, and as utf-8 is a superset of other encodings (ASCII, Unicode, ...) the same matrix encoding can be applied without any modification in those datasets.\n",
    "\n",
    "There is also another point to say about this computational complexity, all the current SoTA methods are trained in clusters (and wiht prices) that are unavailable to most users. The current work is part or a larger work on trying to get enough permormance in commercially available (and relatively accessible) single GPUs for end users (being at the current time the NVidia RTX2080ti one of the more computationally strong cards in the market).\n"
   ]
  },
  {
   "cell_type": "markdown",
   "metadata": {},
   "source": [
    "### Sections\n",
    "\n",
    "This paper deals first with an analysis of the UTF-8 encoding\n",
    "\n",
    "Then goes to deal with the construction of the multi-hot code proposed\n",
    "\n",
    "After works on compressing the multi-hot code with Overfitting (yes, OVERFITTING)\n",
    "\n",
    "Then goes to the evaluation of the codes and compare results with other encoding methods\n",
    "\n",
    "Finally goes to the conclussion and future work.\n"
   ]
  },
  {
   "cell_type": "markdown",
   "metadata": {},
   "source": [
    "## UTF-8 Analysis"
   ]
  },
  {
   "cell_type": "markdown",
   "metadata": {},
   "source": [
    "### One-Hot encoding\n",
    "\n",
    "[One-hot encoding](https://en.wikipedia.org/wiki/One-hot) is one of the most used to encode cathegorical variables, in the case of State of the Art NLP tasks is used to encode the input symbols, this is computationally expensive and the goal here is to reduce this complexity leaving memory and computational space for other more complex tasks in the network."
   ]
  },
  {
   "cell_type": "markdown",
   "metadata": {},
   "source": [
    "### Number of code-points\n",
    "\n",
    "As this file tries to encode all the characters possible by utf-8 we have to check the feasible number so:\n",
    "\n",
    "From [Wikipedia utf-8](https://en.wikipedia.org/wiki/UTF-8)\n",
    "\n",
    "UTF-8 is a variable width character encoding capable of encoding all **1,112,064**.\n",
    "\n",
    "$$ 17×2^{16} = 1114112 $$ code points minus 2,048 technically-invalid surrogate code points\n",
    "\n",
    "This is, if encoding with one-hot we would need 1.1M parameters per neuron in the input layer, which is expensive. The goal is to reduce this complexity (which we argue is unnecessary) by orders of magnitude."
   ]
  },
  {
   "cell_type": "markdown",
   "metadata": {},
   "source": [
    "## UTF-8 structure and Encoding Details\n",
    "\n",
    "Since the entire utf-8 univers is NOT the entire $2^{32}$ domain, but there are limitations explained in [the utf-8 description](https://en.wikipedia.org/wiki/UTF-8)\n",
    "\n",
    "| Number of bytes | Bits for code point | First code point | Last code point | Byte 1   | Byte 2   | Byte 3   | Byte 4   |\n",
    "|----------------|--------------------|-----------------|----------------|----------|----------|----------|----------|\n",
    "| 1              | 7                  | U+0000          | U+007F         | 0xxxxxxx |          |          |          |\n",
    "| 2              | 11                 | U+0080          | U+07FF         | 110xxxxx | 10xxxxxx |          |          |\n",
    "| 3              | 16                 | U+0800          | U+FFFF         | 1110xxxx | 10xxxxxx | 10xxxxxx |          |\n",
    "| 4              | 21                 | U+10000         | U+10FFFF       | 11110xxx | 10xxxxxx | 10xxxxxx | 10xxxxxx |\n",
    "\n",
    "The UTF-8 code is formed by 4 segments, we will refer to this often during the current work.\n",
    "\n",
    "The thing is that the number of elements in the table should be at most $2^{21}$, There is only the need to create a index that can handle the 4 cases which can be done with 4 different conversion tables.\n",
    "\n",
    "\n",
    "In fact it is possible to just cut the utf-8 value in chunks and do one-hot per different parts:\n",
    "- there are only 4 segment ranges, that can be coded to add redundancy in one-hot also add there either hamming or other ECC\n",
    "- the largest value is for 8 bits -> 256 values\n",
    "- the others contain 6 bits -> 64 values\n",
    "The prefix of each can be taken away and replaced by the initial one-hot\n",
    "\n",
    "So a complete code would be:  $ 4 + 256 + 64 + 64 + 64 = 324 $\n",
    "\n",
    "Instead of having a vector of dimension 1,112,064 to encode any utf-8 value, one with dimension 452 would be able to encode everything in the utf-8 domain.\n",
    "\n",
    "This embedding can stil be reduced but should be sparse enough already to make a good input, the goal here is to have sparse vector that makes each vector far enough of the others, at least by one dimension. Adding the redundancy code (the first 4 dimensions) allows to make distance even bigger for vectors that should be further appart taking into account the locality of the utf-8 encoding (each character set is close to the ones used with it, segment 3 encodes mostly CJK Chinese-Japanese-Korean).\n",
    "\n",
    "#### Notes\n",
    "It is worth noting here that the first author has also experience in communications which allowed during the curse of this research the analysis of multiple Error Correcting Codes (ECCs) and different kinds of encoding (for example encoding as a Fourier Series), the conclusion is that even if the one-hot is the best in distance, other codes can be used and a multi-hot sparse is the simplest to implement (and fastest to encode). As a note, one pending task is to analyze ECCs in an end to end manner for a neural network. Some of these analysis (without proper formating) can be found in the anex notebooks folders of this repository or at [text subfolder in the minibrain project](https://github.com/leomrocha/minibrain/tree/master/predictors/sequence/text) where most of the experimental code is located."
   ]
  },
  {
   "cell_type": "markdown",
   "metadata": {},
   "source": [
    "## Encoding details"
   ]
  },
  {
   "cell_type": "markdown",
   "metadata": {},
   "source": [
    "### UTF-8 Segments\n",
    "To cut even more memory consumption the table can be generated for 1-4 segments of the utf-8 code, taking into account that the 4th segment is mostly composed of:\n",
    "* Supplementary Multilingual Plane (SMP) of historic scripts\n",
    "* Supplementary Special-purpose Plane (SSP)\n",
    "* Private Use Areas (SSU)\n",
    "* Invalid Codes\n",
    "\n",
    "We can safely ignore this 4th segment (for the purpose of this article and most usages) which adds to most of the code-points\n",
    "\n",
    "If CJK, Indic and some Miscelaneous Symbols are not (and will not be) needed then the 3rd segment can be safely ignored too reducing even more the memory consumption of the application\n",
    "\n",
    "So the result would be:\n",
    "\n",
    "| Segment | # of code points | First index | Last index | Vector Size | # code exceptions | Size (MB) |Matrix Size (MB) | Sparse Size (MB) |\n",
    "|---------------|-----------------------|-------------|-------------|------------|-------------------|-------------------|-----------|-----------|\n",
    "| 4             | 1107904             | 61440        | 1107904     | 452 | 790656  | 11538.59   | 3820.59 | 83.59 |\n",
    "| 3             | 59328               | 2112         | 61439       | 388 | 4224    | 530.71     | 175.62  | 3.59  |\n",
    "| 2             | 1984                | 128          | 2111        | 324 | 128     |  14.84     | 4.90    | 0.09  |\n",
    "| 1             | 128                 | 0            | 127         | 260 | 0       |  0.77      | 0.25    | 0.005  |\n",
    "\n",
    "Where:\n",
    "* Segment: number of segments used from utf-8 to generate the code\n",
    "* \\# of Code Points: The total encoded code points generated\n",
    "* Vector Size: The embedding vector size\n",
    "* First / Last Index: corresponds to the segment first and last index in the embedding matrix\n",
    "* \\# Code Exceptions: Number of code exceptions during encoding with Python, notice that we use the standard library for this.\n",
    "* Size (MB): Size of the embedding matrix and conversion dictionaries (from-to code) once saved in disk in Dense mode\n",
    "* Matrix Size (MB): Size of the embedding matrix in disk in Dense Mode\n",
    "* Sparse Size (MB): Size of the embedding matrix in disk in Sparse mode\n",
    "\n",
    "\n",
    "Notice that the code for 1 segment corresponds to one-hot encoding of ASCII encoding (plus the vector of size 4 that we don't modify in any case)"
   ]
  },
  {
   "cell_type": "markdown",
   "metadata": {},
   "source": [
    "## Signaling the Start and End of a Sequence \n",
    "\n",
    "To this end we can use the codes available in the utf-8 and add the mapping to the encoding and decoding dictionaries (not the matrix), The first 0x20 codes in UTF-8 signal different communication an control codes, we can use those same for our NLP purposes or we could choose the invalid codes at 0xC0 and 0xC1 or codes larger than U+10FFFF (at the end of segment 4 as per in our vocabulary for this paper).\n",
    "\n",
    "In order to avoid any issues and as we don't count on using the current models for communication protocols but only for NLP purposes (this encoding could also be used for allowing the network to deal directly with network communication protocols) we decide to use the control codes at the beginning of the block of the first segment\n",
    "\n",
    "To this end there are 3 codes that are re-mapped by design and signaled by the following:\n",
    "* \\<start\\>: 0x02 - STX Start of Text\n",
    "* \\<end\\>: 0x03 - ETX End of Text\n",
    "* \\<unk\\>\": 0x15 - NAK  Negative Acknowledge\n",
    "\n",
    "The \\<unk\\> (Unknown) element should not be used as per design there should be no unrepresented symbols in the code design, but is added for completion and in case of future use.\n",
    "\n",
    "The mapping is created in a way to be as close as possible to the original meaning of the control symbols.\n"
   ]
  },
  {
   "cell_type": "markdown",
   "metadata": {},
   "source": [
    "### Codes Creation\n",
    "\n",
    "This section is dedicated to code execution and measurements to fill the table above"
   ]
  },
  {
   "cell_type": "code",
   "execution_count": 34,
   "metadata": {},
   "outputs": [
    {
     "name": "stdout",
     "output_type": "stream",
     "text": [
      "number of codes =  128\n",
      "number of code_exceptions =  0\n",
      "number of codes =  1984\n",
      "number of code_exceptions =  128\n",
      "number of codes =  59328\n",
      "number of code_exceptions =  4224\n",
      "number of codes =  1107904\n",
      "number of code_exceptions =  790656\n",
      "| Segments | exec_time (sec) |  matrix_shape | Size in Disk (MB): | Matrix Size in Disk (MB):            | Sparse Matrix Size in Disk (MB): |code path\n",
      "| 1 | 0.012 | (128, 260) | 0.78 | 0.25 | 0.00 | codes/utf8_codes-1seg.pkl |\n",
      "| 2 | 0.065 | (1984, 324) | 14.85 | 4.90 | 0.09 | codes/utf8_codes-2seg.pkl |\n",
      "| 3 | 1.952 | (59328, 388) | 530.71 | 175.62 | 3.59 | codes/utf8_codes-3seg.pkl |\n",
      "| 4 | 39.106 | (1107904, 452) | 11538.59 | 3820.59 | 83.59 | codes/utf8_codes-4seg.pkl |\n"
     ]
    }
   ],
   "source": [
    "from paper_main import create_measure_tables\n",
    "create_measure_tables()"
   ]
  },
  {
   "cell_type": "markdown",
   "metadata": {},
   "source": [
    "### Observations\n",
    "\n",
    "### Execution of previous results\n",
    "\n",
    "The execution of all the previous code is done in a single thread of an Intel i7 7700.\n",
    "\n",
    "#### Embedding Sizes\n",
    "\n",
    "Size of the embedding matrix grows with the number of code points and embedding size, observing the size of the matrices, the sparse representation of them is negligeable in comparison with current models. \n",
    "\n",
    "NVidia provides support for sparse operations with [cuSPARSE ](https://developer.nvidia.com/cusparse) ([documentation](https://docs.nvidia.com/cuda/cusparse/index.html)) which means we can use these matrices. \n",
    "\n",
    "Nevertheless many applications work in dense mode and if is the case working with less than the 4 segments would be advisable. The 3 segments embedding provides enough representation for all languages on earth and the 2 segment one support most languages already as stated in a previous section.\n",
    "\n",
    "#### Execution Time\n",
    "\n",
    "As seen in the code execution above, even if vectors are big to keep saved and download, the creation of the vectors is defined and can be recreated with less than a minute execution in a single thread of an off-the-shelf CPU.\n"
   ]
  },
  {
   "cell_type": "markdown",
   "metadata": {},
   "source": [
    "### PC Configuration:\n",
    "\n",
    "#### Hardware\n",
    "\n",
    "    intel i7 7700\n",
    "    64GB of RAM\n",
    "    GPU-0 GTX1080 -> runs the GUI and other tasks, sometimes used for train and testing\n",
    "    GPU-1 RTX2080ti -> only used for computation\n",
    "\n",
    "#### Software\n",
    "\n",
    "    Cuda V10.1\n",
    "    Pytorch V1.3\n",
    "    Python 3.7\n"
   ]
  },
  {
   "cell_type": "markdown",
   "metadata": {},
   "source": [
    "## Overfitting Compression\n",
    "\n",
    "In the literature overfitting is an evil creature, but in this case, as we know the entire domain, we are going to use it to our advantage with overfitting the sparse input (the multi-hot encoded vector) into a smaller embedding vector than the input, the goal is lossless compression here.\n",
    "\n",
    "This is done to be able to make a more informed decision at the end of the study and show the comparative results.\n",
    "\n",
    "Once the network is trained (basically an overfitted autoencoder), a new encoding matrix is generating making each element of the input domain pass by the autoencoder and getting the latent vector, which is used to generate a matrix that can be given as Embedding directly to the network.\n",
    "\n",
    "As the UTF-8 coding uses a max of 4 bytes for the code representation, there is at least the need to use vectors of size 32. The best code for this would be directly using the utf-8 code as the embedding (which we should also test as input to be able to compare the results)\n",
    "\n",
    "But then, any vector representation that handles the complete domain must be at least of dimension 32, here we'll test several dimensions for each number of codes, the representation of 1 segment coding is just done for completion, the one for 2 segments coding might be useful but having only 1984 elements a one-hot encoding does not pose a big problem with current resources, the code starts to be more interesting for 3 segment and 4 segment coding.\n",
    "\n"
   ]
  },
  {
   "cell_type": "markdown",
   "metadata": {},
   "source": []
  },
  {
   "cell_type": "markdown",
   "metadata": {},
   "source": [
    "The training is done with the following configuration:\n",
    "\n",
    "    Batch Size: Size of all the simbols, each batch contains once every symbol in the domain\n",
    "    Network Configuration: Autoencoder\n",
    "    Loss: CrossEntropy\n",
    "    \n",
    "And we measure:\n",
    "\n",
    "    Output Vector Embedding Size\n",
    "    Execution Time\n",
    "    Matrix Size on Disk (here only the dense matrix is taken into account as there should be close to no sparsity)\n",
    "    \n",
    "\n",
    "The experiments on overfitting were run on different vector sizes from 32 to 128 for encodings using 3 and 4 segments\n",
    "\n",
    "**TODO do the runs again (with a better and more clean script) and put here the results**"
   ]
  },
  {
   "cell_type": "markdown",
   "metadata": {},
   "source": [
    "## Sparse Codes"
   ]
  },
  {
   "cell_type": "markdown",
   "metadata": {},
   "source": [
    "In this section we develop a methodology and different codes with different vector sizes and distances. All the generated codes are saved and later used to test in NLP tasks.\n",
    "\n",
    "Two different ideas are used to create the sparse codes, the first one is choose k from N, the second idea is to generate a multi-hot with the combination of different smaller codes of co-prime sizes, this leads to longer cycles on the combination of the codes\n",
    "\n",
    "Although any code order might be enough we look for repeatable, predictable and deterministic process to reach to the same values each time we recompute the code."
   ]
  },
  {
   "cell_type": "markdown",
   "metadata": {},
   "source": [
    "## Sparse Codes, Choosing *k* of *N*\n",
    "\n",
    "For completion, this study also deals with different sparse coding techniques, the basic idea will be choosing the \n",
    "\n",
    "We need to basically do the following: ${N\\choose k}$ \n",
    "\n",
    "Where $ 32 <= N <= M$ and defining $M$ as the maximum value of the desired vector dimension \n",
    "\n",
    "and $ k $ should be minimized to augment the sparcity of the vector as much as possible\n",
    "\n",
    "Also We can again add some redundancy as in the previous multi-hot code. i.e. the first 4 elements should indicate which of the UTF-8 segment are being used for the code-point.\n",
    "\n",
    "${N\\choose k} = \\frac{(n)!}{k!(n-k)!} $ "
   ]
  },
  {
   "cell_type": "markdown",
   "metadata": {},
   "source": [
    "The vector sizes are explored here:"
   ]
  },
  {
   "cell_type": "code",
   "execution_count": 37,
   "metadata": {},
   "outputs": [],
   "source": [
    "import numpy as np\n",
    "NCODES = [128, 1984, 59328, 1107904]\n",
    "def sparse_Nk_dimension_analysis():\n",
    "    # find the minimum N and k for which the condition is filled for the different codes\n",
    "    results = []\n",
    "    for code_points in NCODES:\n",
    "        for k in [2, 3, 4, 5, 6]:\n",
    "            for N in range(10, 256):\n",
    "                v = int(np.prod(list(range(N, N - k, -1))) / np.prod(list(range(1, k + 1))))\n",
    "                if v > code_points:\n",
    "                    # print(\"code_size={}; N={},k={}\".format(v, N, k))\n",
    "                    results.append((code_points, v, N, k, '{:.3f}'.format(k/N)))\n",
    "                    break\n",
    "    return results"
   ]
  },
  {
   "cell_type": "code",
   "execution_count": 38,
   "metadata": {},
   "outputs": [
    {
     "name": "stdout",
     "output_type": "stream",
     "text": [
      "CPU times: user 24.5 ms, sys: 166 µs, total: 24.7 ms\n",
      "Wall time: 24.2 ms\n"
     ]
    },
    {
     "data": {
      "text/plain": [
       "18"
      ]
     },
     "execution_count": 38,
     "metadata": {},
     "output_type": "execute_result"
    }
   ],
   "source": [
    "%%time\n",
    "results = sparse_Nk_dimension_analysis()\n",
    "len(results)"
   ]
  },
  {
   "cell_type": "code",
   "execution_count": 39,
   "metadata": {
    "scrolled": true
   },
   "outputs": [
    {
     "data": {
      "text/plain": [
       "[(128, 136, 17, 2, '0.118'),\n",
       " (128, 165, 11, 3, '0.273'),\n",
       " (128, 210, 10, 4, '0.400'),\n",
       " (128, 252, 10, 5, '0.500'),\n",
       " (128, 210, 10, 6, '0.600'),\n",
       " (1984, 2016, 64, 2, '0.031'),\n",
       " (1984, 2024, 24, 3, '0.125'),\n",
       " (1984, 2380, 17, 4, '0.235'),\n",
       " (1984, 2002, 14, 5, '0.357'),\n",
       " (1984, 3003, 14, 6, '0.429'),\n",
       " (59328, 59640, 72, 3, '0.042'),\n",
       " (59328, 66045, 37, 4, '0.108'),\n",
       " (59328, 65780, 26, 5, '0.192'),\n",
       " (59328, 74613, 22, 6, '0.273'),\n",
       " (1107904, 1125180, 190, 3, '0.016'),\n",
       " (1107904, 1150626, 74, 4, '0.054'),\n",
       " (1107904, 1221759, 45, 5, '0.111'),\n",
       " (1107904, 1344904, 34, 6, '0.176')]"
      ]
     },
     "execution_count": 39,
     "metadata": {},
     "output_type": "execute_result"
    }
   ],
   "source": [
    "# results: (code points needed, possible code points, vector size, number of  ones in code, sparsity ratio)\n",
    "results"
   ]
  },
  {
   "cell_type": "markdown",
   "metadata": {},
   "source": [
    "We can observe that the size of the vectors on these representation are much smaller than the manual one-hot code by segment created before. We can again use the same technique as in the first part of adding first 4 vector elements that represent the segment to which the symbol belongs.\n",
    "\n",
    "There is another point too to take into account, the size of the vector is important as hardware is more adapted for certain sizes, it also has consequences on the kind of techniques can be done, for example groups convolution.\n",
    "\n",
    "It is convenient then to have vector sizes of powers of two and also multiple of 96 (tensor operation sizes in NVidia tensor cores are of size 96)"
   ]
  },
  {
   "cell_type": "markdown",
   "metadata": {},
   "source": [
    "## Sparse Codes, multiple joint co-prime codes\n",
    "\n",
    "The idea here is to create multiple ohe-hot codes, each code of a prime size (which is the simplest way to choose co-primes), then joining the codes.\n",
    "\n",
    "Again we look for combinations that minimize the vector size."
   ]
  },
  {
   "cell_type": "code",
   "execution_count": 115,
   "metadata": {},
   "outputs": [],
   "source": [
    "PRIMES = [2, 3, 5, 7, 11, 13, 17, 19, 23, 27, 29, 31, 37, 41, 43, 47, 49, ]\n",
    "from itertools import combinations\n"
   ]
  },
  {
   "cell_type": "code",
   "execution_count": 139,
   "metadata": {},
   "outputs": [
    {
     "data": {
      "text/plain": [
       "array([[ 2,  3,  5,  7, 11, 13],\n",
       "       [ 2,  3,  5,  7, 11, 17],\n",
       "       [ 2,  3,  5,  7, 11, 19],\n",
       "       ...,\n",
       "       [23, 27, 31, 37, 41, 43],\n",
       "       [23, 29, 31, 37, 41, 43],\n",
       "       [27, 29, 31, 37, 41, 43]])"
      ]
     },
     "execution_count": 139,
     "metadata": {},
     "output_type": "execute_result"
    }
   ],
   "source": [
    "np.array(list(combinations(PRIMES, 6)))\n"
   ]
  },
  {
   "cell_type": "code",
   "execution_count": 243,
   "metadata": {},
   "outputs": [],
   "source": [
    "def multihot_primes():\n",
    "    all_codes = []\n",
    "    for i in range(2, 7):\n",
    "        print(\"Start counting for sparsity = \", i)\n",
    "        arr = list(combinations(PRIMES, i))\n",
    "        for a in arr:\n",
    "            ll = len(a)\n",
    "            ncodes = np.prod(a)\n",
    "            vsizes = np.sum(a)\n",
    "            all_codes.append((a, ll, vsizes, ncodes))\n",
    "    all_codes = sorted(all_codes, key=lambda x: x[-2])\n",
    "    return all_codes\n"
   ]
  },
  {
   "cell_type": "code",
   "execution_count": 244,
   "metadata": {},
   "outputs": [
    {
     "name": "stdout",
     "output_type": "stream",
     "text": [
      "Start counting for sparsity =  2\n",
      "Start counting for sparsity =  3\n",
      "Start counting for sparsity =  4\n",
      "Start counting for sparsity =  5\n",
      "Start counting for sparsity =  6\n",
      "CPU times: user 110 ms, sys: 0 ns, total: 110 ms\n",
      "Wall time: 109 ms\n"
     ]
    }
   ],
   "source": [
    "%%time\n",
    "C= multihot_primes()"
   ]
  },
  {
   "cell_type": "code",
   "execution_count": 245,
   "metadata": {},
   "outputs": [
    {
     "name": "stdout",
     "output_type": "stream",
     "text": [
      "Start counting for sparsity =  2\n",
      "Start counting for sparsity =  3\n",
      "Start counting for sparsity =  4\n",
      "Start counting for sparsity =  5\n",
      "Start counting for sparsity =  6\n",
      "CPU times: user 133 ms, sys: 3.83 ms, total: 137 ms\n",
      "Wall time: 135 ms\n"
     ]
    }
   ],
   "source": [
    "%%time\n",
    "c,c1s,c2s,c3s,c4s = multihot_primes()"
   ]
  },
  {
   "cell_type": "code",
   "execution_count": 254,
   "metadata": {
    "scrolled": true
   },
   "outputs": [],
   "source": [
    "all_codes = c"
   ]
  },
  {
   "cell_type": "code",
   "execution_count": 255,
   "metadata": {
    "scrolled": true
   },
   "outputs": [],
   "source": [
    "codes_1seg = [ i for i in all_codes if i[-1] > NCODES[0] and i[-1] < NCODES[3]*2]\n",
    "codes_2seg = [ i for i in all_codes if i[-1] > NCODES[1] and i[-1] < NCODES[3]*2]\n",
    "codes_2seg = [ i for i in all_codes if i[-1] > NCODES[2] and i[-1] < NCODES[3]*2]\n",
    "codes_2seg = [ i for i in all_codes if i[-1] > NCODES[3] and i[-1] < NCODES[3]*2]"
   ]
  },
  {
   "cell_type": "code",
   "execution_count": 247,
   "metadata": {},
   "outputs": [
    {
     "data": {
      "text/plain": [
       "9933"
      ]
     },
     "execution_count": 247,
     "metadata": {},
     "output_type": "execute_result"
    }
   ],
   "source": [
    "len(c)"
   ]
  },
  {
   "cell_type": "code",
   "execution_count": 230,
   "metadata": {},
   "outputs": [
    {
     "data": {
      "text/plain": [
       "[128, 1984, 59328, 1107904]"
      ]
     },
     "execution_count": 230,
     "metadata": {},
     "output_type": "execute_result"
    }
   ],
   "source": [
    "NCODES"
   ]
  },
  {
   "cell_type": "code",
   "execution_count": 252,
   "metadata": {
    "scrolled": true
   },
   "outputs": [
    {
     "data": {
      "text/plain": [
       "[]"
      ]
     },
     "execution_count": 252,
     "metadata": {},
     "output_type": "execute_result"
    }
   ],
   "source": [
    "c3s"
   ]
  },
  {
   "cell_type": "code",
   "execution_count": 93,
   "metadata": {
    "scrolled": true
   },
   "outputs": [
    {
     "data": {
      "text/plain": [
       "[array([[  2,   3,   5,   6],\n",
       "        [  2,   5,   7,  10],\n",
       "        [  3,   5,   8,  15],\n",
       "        [  2,   7,   9,  14],\n",
       "        [  3,   7,  10,  21],\n",
       "        [  5,   7,  12,  35],\n",
       "        [  2,  11,  13,  22],\n",
       "        [  7,  11,  18,  77],\n",
       "        [  5,  11,  16,  55],\n",
       "        [  3,  11,  14,  33],\n",
       "        [ 11,  13,  24, 143],\n",
       "        [  7,  13,  20,  91],\n",
       "        [  5,  13,  18,  65],\n",
       "        [  3,  13,  16,  39],\n",
       "        [  2,  13,  15,  26],\n",
       "        [ 13,  17,  30, 221],\n",
       "        [  5,  17,  22,  85],\n",
       "        [ 11,  17,  28, 187],\n",
       "        [  2,  17,  19,  34],\n",
       "        [  7,  17,  24, 119],\n",
       "        [  3,  17,  20,  51],\n",
       "        [  3,  19,  22,  57],\n",
       "        [ 17,  19,  36, 323],\n",
       "        [ 13,  19,  32, 247],\n",
       "        [ 11,  19,  30, 209],\n",
       "        [  7,  19,  26, 133],\n",
       "        [  2,  19,  21,  38],\n",
       "        [  5,  19,  24,  95],\n",
       "        [  5,  23,  28, 115],\n",
       "        [ 11,  23,  34, 253],\n",
       "        [ 17,  23,  40, 391],\n",
       "        [  2,  23,  25,  46],\n",
       "        [ 13,  23,  36, 299],\n",
       "        [  3,  23,  26,  69],\n",
       "        [  7,  23,  30, 161],\n",
       "        [ 19,  23,  42, 437]]), array([[   2,    3,    5,   10,   30],\n",
       "        [   2,    3,    7,   12,   42],\n",
       "        [   2,    3,   11,   16,   66],\n",
       "        [   2,    3,   13,   18,   78],\n",
       "        [   2,    3,   17,   22,  102],\n",
       "        [   2,    3,   19,   24,  114],\n",
       "        [   2,    3,   23,   28,  138],\n",
       "        [   3,    5,   11,   19,  165],\n",
       "        [   3,    5,   13,   21,  195],\n",
       "        [   3,    5,   17,   25,  255],\n",
       "        [   3,    5,   19,   27,  285],\n",
       "        [   3,    5,   23,   31,  345],\n",
       "        [   2,    5,   23,   30,  230],\n",
       "        [   2,    5,   19,   26,  190],\n",
       "        [   2,    5,   17,   24,  170],\n",
       "        [   2,    5,   13,   20,  130],\n",
       "        [   2,    5,   11,   18,  110],\n",
       "        [   2,    5,    7,   14,   70],\n",
       "        [   3,    5,    7,   15,  105],\n",
       "        [   5,    7,   17,   29,  595],\n",
       "        [   3,    7,   23,   33,  483],\n",
       "        [   3,    7,   19,   29,  399],\n",
       "        [   3,    7,   17,   27,  357],\n",
       "        [   3,    7,   13,   23,  273],\n",
       "        [   3,    7,   11,   21,  231],\n",
       "        [   5,    7,   19,   31,  665],\n",
       "        [   5,    7,   11,   23,  385],\n",
       "        [   5,    7,   13,   25,  455],\n",
       "        [   2,    7,   23,   32,  322],\n",
       "        [   2,    7,   19,   28,  266],\n",
       "        [   2,    7,   17,   26,  238],\n",
       "        [   2,    7,   13,   22,  182],\n",
       "        [   2,    7,   11,   20,  154],\n",
       "        [   5,    7,   23,   35,  805],\n",
       "        [   5,   11,   13,   29,  715],\n",
       "        [   5,   11,   17,   33,  935],\n",
       "        [   5,   11,   19,   35, 1045],\n",
       "        [   5,   11,   23,   39, 1265],\n",
       "        [   7,   11,   13,   31, 1001],\n",
       "        [   7,   11,   19,   37, 1463],\n",
       "        [   7,   11,   23,   41, 1771],\n",
       "        [   7,   11,   17,   35, 1309],\n",
       "        [   3,   11,   19,   33,  627],\n",
       "        [   2,   11,   13,   26,  286],\n",
       "        [   3,   11,   17,   31,  561],\n",
       "        [   3,   11,   13,   27,  429],\n",
       "        [   2,   11,   17,   30,  374],\n",
       "        [   2,   11,   19,   32,  418],\n",
       "        [   2,   11,   23,   36,  506],\n",
       "        [   3,   11,   23,   37,  759],\n",
       "        [   3,   13,   17,   33,  663],\n",
       "        [  11,   13,   19,   43, 2717],\n",
       "        [  11,   13,   17,   41, 2431],\n",
       "        [   7,   13,   23,   43, 2093],\n",
       "        [   7,   13,   19,   39, 1729],\n",
       "        [   7,   13,   17,   37, 1547],\n",
       "        [  11,   13,   23,   47, 3289],\n",
       "        [   5,   13,   19,   37, 1235],\n",
       "        [   5,   13,   23,   41, 1495],\n",
       "        [   2,   13,   17,   32,  442],\n",
       "        [   2,   13,   19,   34,  494],\n",
       "        [   3,   13,   19,   35,  741],\n",
       "        [   3,   13,   23,   39,  897],\n",
       "        [   2,   13,   23,   38,  598],\n",
       "        [   5,   13,   17,   35, 1105],\n",
       "        [  11,   17,   23,   51, 4301],\n",
       "        [   7,   17,   23,   47, 2737],\n",
       "        [   7,   17,   19,   43, 2261],\n",
       "        [   3,   17,   19,   39,  969],\n",
       "        [  13,   17,   23,   53, 5083],\n",
       "        [  13,   17,   19,   49, 4199],\n",
       "        [   2,   17,   23,   42,  782],\n",
       "        [   2,   17,   19,   38,  646],\n",
       "        [   5,   17,   23,   45, 1955],\n",
       "        [   5,   17,   19,   41, 1615],\n",
       "        [   3,   17,   23,   43, 1173],\n",
       "        [  11,   17,   19,   47, 3553],\n",
       "        [  11,   19,   23,   53, 4807],\n",
       "        [   5,   19,   23,   47, 2185],\n",
       "        [   2,   19,   23,   44,  874],\n",
       "        [  13,   19,   23,   55, 5681],\n",
       "        [   3,   19,   23,   45, 1311],\n",
       "        [   7,   19,   23,   49, 3059],\n",
       "        [  17,   19,   23,   59, 7429]]), array([[    2,     3,     5,     7,    17,   210],\n",
       "        [    2,     3,    19,    23,    47,  2622],\n",
       "        [    2,     3,    17,    23,    45,  2346],\n",
       "        [    2,     3,    17,    19,    41,  1938],\n",
       "        [    2,     3,    13,    19,    37,  1482],\n",
       "        [    2,     3,    13,    17,    35,  1326],\n",
       "        [    2,     3,    11,    23,    39,  1518],\n",
       "        [    2,     3,    11,    19,    35,  1254],\n",
       "        [    2,     3,    11,    17,    33,  1122],\n",
       "        [    2,     3,    11,    13,    29,   858],\n",
       "        [    2,     3,    13,    23,    41,  1794],\n",
       "        [    2,     3,     7,    19,    31,   798],\n",
       "        [    2,     3,     7,    17,    29,   714],\n",
       "        [    2,     3,     7,    13,    25,   546],\n",
       "        [    2,     3,     7,    11,    23,   462],\n",
       "        [    2,     3,     5,    23,    33,   690],\n",
       "        [    2,     3,     5,    19,    29,   570],\n",
       "        [    2,     3,     5,    17,    27,   510],\n",
       "        [    2,     3,     5,    13,    23,   390],\n",
       "        [    2,     3,     5,    11,    21,   330],\n",
       "        [    2,     3,     7,    23,    35,   966],\n",
       "        [    3,     5,     7,    17,    32,  1785],\n",
       "        [    3,     5,     7,    19,    34,  1995],\n",
       "        [    3,     5,     7,    23,    38,  2415],\n",
       "        [    3,     5,    11,    13,    32,  2145],\n",
       "        [    3,     5,    11,    19,    38,  3135],\n",
       "        [    3,     5,    11,    23,    42,  3795],\n",
       "        [    3,     5,    17,    23,    48,  5865],\n",
       "        [    3,     5,    13,    19,    40,  3705],\n",
       "        [    3,     5,    13,    23,    44,  4485],\n",
       "        [    3,     5,    17,    19,    44,  4845],\n",
       "        [    3,     5,    19,    23,    50,  6555],\n",
       "        [    3,     5,     7,    13,    28,  1365],\n",
       "        [    3,     5,    13,    17,    38,  3315],\n",
       "        [    3,     5,     7,    11,    26,  1155],\n",
       "        [    3,     5,    11,    17,    36,  2805],\n",
       "        [    2,     5,     7,    11,    25,   770],\n",
       "        [    2,     5,    17,    23,    47,  3910],\n",
       "        [    2,     5,    17,    19,    43,  3230],\n",
       "        [    2,     5,    13,    23,    43,  2990],\n",
       "        [    2,     5,    19,    23,    49,  4370],\n",
       "        [    2,     5,    13,    19,    39,  2470],\n",
       "        [    2,     5,    13,    17,    37,  2210],\n",
       "        [    2,     5,    11,    23,    41,  2530],\n",
       "        [    2,     5,    11,    19,    37,  2090],\n",
       "        [    2,     5,    11,    17,    35,  1870],\n",
       "        [    2,     5,    11,    13,    31,  1430],\n",
       "        [    2,     5,     7,    23,    37,  1610],\n",
       "        [    2,     5,     7,    19,    33,  1330],\n",
       "        [    2,     5,     7,    17,    31,  1190],\n",
       "        [    2,     5,     7,    13,    27,   910],\n",
       "        [    3,     7,    11,    19,    40,  4389],\n",
       "        [    3,     7,    11,    17,    38,  3927],\n",
       "        [    3,     7,    11,    13,    34,  3003],\n",
       "        [    2,     7,    11,    13,    33,  2002],\n",
       "        [    3,     7,    13,    19,    42,  5187],\n",
       "        [    3,     7,    13,    23,    46,  6279],\n",
       "        [    3,     7,    17,    19,    46,  6783],\n",
       "        [    3,     7,    17,    23,    50,  8211],\n",
       "        [    5,     7,    11,    13,    36,  5005],\n",
       "        [    5,     7,    11,    17,    40,  6545],\n",
       "        [    5,     7,    11,    19,    42,  7315],\n",
       "        [    5,     7,    11,    23,    46,  8855],\n",
       "        [    5,     7,    13,    17,    42,  7735],\n",
       "        [    5,     7,    13,    19,    44,  8645],\n",
       "        [    5,     7,    13,    23,    48, 10465],\n",
       "        [    5,     7,    17,    19,    48, 11305],\n",
       "        [    5,     7,    17,    23,    52, 13685],\n",
       "        [    5,     7,    19,    23,    54, 15295],\n",
       "        [    3,     7,    13,    17,    40,  4641],\n",
       "        [    3,     7,    11,    23,    44,  5313],\n",
       "        [    3,     7,    19,    23,    52,  9177],\n",
       "        [    2,     7,    11,    23,    43,  3542],\n",
       "        [    2,     7,    11,    17,    37,  2618],\n",
       "        [    2,     7,    11,    19,    39,  2926],\n",
       "        [    2,     7,    13,    17,    39,  3094],\n",
       "        [    2,     7,    13,    19,    41,  3458],\n",
       "        [    2,     7,    17,    19,    45,  4522],\n",
       "        [    2,     7,    17,    23,    49,  5474],\n",
       "        [    2,     7,    19,    23,    51,  6118],\n",
       "        [    2,     7,    13,    23,    45,  4186],\n",
       "        [    3,    11,    13,    17,    44,  7293],\n",
       "        [    5,    11,    17,    23,    56, 21505],\n",
       "        [    5,    11,    17,    19,    52, 17765],\n",
       "        [    5,    11,    13,    23,    52, 16445],\n",
       "        [    5,    11,    13,    19,    48, 13585],\n",
       "        [    5,    11,    13,    17,    46, 12155],\n",
       "        [    2,    11,    13,    19,    45,  5434],\n",
       "        [    7,    11,    13,    17,    48, 17017],\n",
       "        [    7,    11,    13,    19,    50, 19019],\n",
       "        [    2,    11,    19,    23,    55,  9614],\n",
       "        [    7,    11,    13,    23,    54, 23023],\n",
       "        [    5,    11,    19,    23,    58, 24035],\n",
       "        [    2,    11,    17,    23,    53,  8602],\n",
       "        [    2,    11,    13,    23,    49,  6578],\n",
       "        [    2,    11,    13,    17,    43,  4862],\n",
       "        [    7,    11,    17,    19,    54, 24871],\n",
       "        [    7,    11,    17,    23,    58, 30107],\n",
       "        [    7,    11,    19,    23,    60, 33649],\n",
       "        [    3,    11,    19,    23,    56, 14421],\n",
       "        [    3,    11,    17,    23,    54, 12903],\n",
       "        [    3,    11,    17,    19,    50, 10659],\n",
       "        [    3,    11,    13,    23,    50,  9867],\n",
       "        [    3,    11,    13,    19,    46,  8151],\n",
       "        [    2,    11,    17,    19,    49,  7106],\n",
       "        [   11,    13,    17,    19,    60, 46189],\n",
       "        [    7,    13,    17,    19,    56, 29393],\n",
       "        [    5,    13,    19,    23,    60, 28405],\n",
       "        [    2,    13,    19,    23,    57, 11362],\n",
       "        [    5,    13,    17,    19,    54, 20995],\n",
       "        [    2,    13,    17,    23,    55, 10166],\n",
       "        [   11,    13,    17,    23,    64, 55913],\n",
       "        [    2,    13,    17,    19,    51,  8398],\n",
       "        [    7,    13,    17,    23,    60, 35581],\n",
       "        [   11,    13,    19,    23,    66, 62491],\n",
       "        [    3,    13,    19,    23,    58, 17043],\n",
       "        [    3,    13,    17,    23,    56, 15249],\n",
       "        [    3,    13,    17,    19,    52, 12597],\n",
       "        [    5,    13,    17,    23,    58, 25415],\n",
       "        [    7,    13,    19,    23,    62, 39767],\n",
       "        [    2,    17,    19,    23,    61, 14858],\n",
       "        [    5,    17,    19,    23,    64, 37145],\n",
       "        [   11,    17,    19,    23,    70, 81719],\n",
       "        [    3,    17,    19,    23,    62, 22287],\n",
       "        [    7,    17,    19,    23,    66, 52003],\n",
       "        [   13,    17,    19,    23,    72, 96577]])]"
      ]
     },
     "execution_count": 93,
     "metadata": {},
     "output_type": "execute_result"
    }
   ],
   "source": [
    "mp"
   ]
  },
  {
   "cell_type": "markdown",
   "metadata": {},
   "source": [
    "## Decoding\n",
    "\n",
    "Decoding the vectors can be done by cosine similarity (or any other method of vector similarity), in this case we use [faiss](https://github.com/facebookresearch/faiss) library from Facebook AI Research\n",
    "\n"
   ]
  },
  {
   "cell_type": "markdown",
   "metadata": {},
   "source": [
    "## Method Validation\n",
    "\n",
    "To validate this method is sufficient to show that the performance of a network does not decay with compared to one-hot in several tasks. This article deals with this in a restricted environment\n",
    "\n",
    "There are a few key points to measure:\n",
    "\n",
    "* Pre-processing time (dataset) for each method\n",
    "* Network Performance \n",
    "* Network Size (total and trainable parameters)\n",
    "* Network Memory Consumption\n",
    "* Network Training Time\n",
    "\n",
    "To this end simple enough NLP tasks will be tackled such as the training and testing time is not excesive (running on a single end user graphic GPU card, in this case an RTX2080ti).\n",
    "\n",
    "The tasks will be evaluated on the same (except of the first embedding layer) networks with different encoding, to be able to compare networks all will be done at character level. For completeness some otehr methods also will be evaluated, mainly BPE which is currently used in most SoTA papers."
   ]
  },
  {
   "cell_type": "markdown",
   "metadata": {},
   "source": [
    "## Results and Discussion\n",
    "\n",
    "The TODO here"
   ]
  },
  {
   "cell_type": "markdown",
   "metadata": {},
   "source": [
    "## Conclussion\n",
    "\n",
    "This work shows a different take of the current approach in how to deal with input coding for Natural Language Processing tasks on Deep Learning Networks. \n",
    "\n",
    "This work shows that is possible to reduce computational complexity *and* add representational capability to a deep neural network without loss of performance and making pre-processing easier .... BLBLBLABLABLABLABLABLABLABLABLA TODO here.\n",
    "\n",
    "## Future Work:\n",
    "\n",
    "This study is the first part of a deeper study on how to make networks train faster and be able to run on consumer grade GPUs in a competitive way (even if they are not SoTA). ..... TODO here"
   ]
  },
  {
   "cell_type": "code",
   "execution_count": null,
   "metadata": {},
   "outputs": [],
   "source": []
  }
 ],
 "metadata": {
  "kernelspec": {
   "display_name": "Python 3",
   "language": "python",
   "name": "python3"
  },
  "language_info": {
   "codemirror_mode": {
    "name": "ipython",
    "version": 3
   },
   "file_extension": ".py",
   "mimetype": "text/x-python",
   "name": "python",
   "nbconvert_exporter": "python",
   "pygments_lexer": "ipython3",
   "version": "3.7.3"
  }
 },
 "nbformat": 4,
 "nbformat_minor": 4
}
