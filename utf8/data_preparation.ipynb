{
 "cells": [
  {
   "cell_type": "markdown",
   "metadata": {},
   "source": [
    "# Data Preparation\n",
    "\n",
    "This notebook develops the data preparation for text-to-text learning for supervised datasets (like T5 from Deep Mind), it extends T5 for more tasks and is developed with PyTorch.\n",
    "\n",
    "The source code is open-sourced.\n",
    "\n",
    "For the processed text, it will be given when/if I get resources to get it in the open (due to data volumes).\n",
    "\n"
   ]
  },
  {
   "cell_type": "markdown",
   "metadata": {},
   "source": [
    "## Dataset preparation.\n",
    "\n",
    "One of the ideas of this process is to do less pre-processing and use the least pre-processed text possible. Uppercase, punctuation and other simbols have information that with some pre-processing is lost. This might not be too problematic for English or other languages, but certainly is for German (and might be for others).\n",
    "\n",
    "Due to this, many of the pre-processsd (tokenized) datasets available are discarded and the data preparation will be done from Raw data (example for the GLUE and SuperGLUE benchmmarks)\n",
    "\n",
    "Data preparation would be much faster with Scala in Spark than with Python but for ease of portability and usage I'll be using python. Also the data preparation is one off only, no need to re-process once done.\n",
    "\n",
    "Nevertheless, even if working with Python, choosing the right libraries is good. This is why for json we choose [orjson](https://github.com/ijl/orjson) and for csv even though there seems to be a [faster library ](https://github.com/juancarlospaco/faster-than-csv) it does not have many users or community so we keep with the standard csv library which is the fastest other way of doing it."
   ]
  },
  {
   "cell_type": "markdown",
   "metadata": {},
   "source": [
    "### Text Task Description\n",
    "\n",
    "In the original T5 paper the tasks are described in english and with a single representation, for example: \n",
    " \n",
    "    Source String: \"translate {}\"\n",
    "    Target String: \"to {}\"\n",
    " \n",
    "In this work we add a few variations to this. The first variation is that the task will be described in multiple languages, for starting:\n",
    "\n",
    "* English\n",
    "* Spanish\n",
    "* French\n",
    "* German\n",
    "\n",
    "TODO The second change is that instead of a single description of the task, there will be multiple ones and they'll be chosen randomly.\n",
    "\n",
    "Examples for language translation:\n",
    " \n",
    "    \" Cómo se dice: {} en {} ?\"\n",
    "    \" Cómo se escribe: {} en {} ?\"\n",
    "    \" Escribe: {} en {} ?\"\n",
    "    \" Traducir: {} al {}.\"\n",
    "    \" Por favor traduce: {} al {}\"\n",
    "    \" Traduce: {} al {}\"\n",
    "\n"
   ]
  },
  {
   "cell_type": "markdown",
   "metadata": {},
   "source": [
    "## Datasets List to process/analyze\n",
    "\n",
    "* ~~MUSE~~ Issue downloading data, only multilang dictionaries available\n",
    "* GLUE\n",
    "    - [CoLA](https://nyu-mll.github.io/CoLA/); [Neural Network Acceptability Judgments ](https://arxiv.org/abs/1805.12471); [Source Code](https://github.com/nyu-mll/CoLA-baselines)\n",
    "    - [MNLI](https://www.nyu.edu/projects/bowman/multinli/); [Paper](https://arxiv.org/abs/1704.05426); [Baseline](https://github.com/nyu-mll/multiNLI/blob/master/README.md)\n",
    "    - MRPC [Paper](https://pdfs.semanticscholar.org/13d7/cbe9035abbb0f243a5e63e19d9c01bcf69d8.pdf); [Original Dataset](https://www.microsoft.com/en-us/download/details.aspx?id=52398&from=http%3A%2F%2Fresearch.microsoft.com%2Fen-us%2Fdownloads%2F607d14d9-20cd-47e3-85bc-a2f65cd28042%2F)\n",
    "    - QNLI [Paper](https://www.nyu.edu/projects/bowman/glue.pdf) \n",
    "    - QQP\n",
    "    - RTE\n",
    "    - SNLI\n",
    "    - SST-2\n",
    "    - STS-B\n",
    "    - WNLI\n",
    "* [SuperGLUE](https://w4ngatang.github.io/static/papers/superglue.pdf) \n",
    "    - BoolQ\n",
    "    - CB\n",
    "    - COPA\n",
    "    - MultiRC\n",
    "    - ReCoRD\n",
    "    - RTE\n",
    "    - WiC\n",
    "    - WSC\n",
    "* [XNLI](https://github.com/facebookresearch/XNLI) <- this one is interesting\n",
    "* UD-Treebank v2.5 <- this one is interesting\n",
    "* [SWAG](http://rowanzellers.com/swag/); [Paper](https://arxiv.org/abs/1808.05326); [Source Code](https://github.com/rowanz/swagaf)\n",
    "* [WikiMatrix](https://ai.facebook.com/blog/wikimatrix/); [Paper](https://arxiv.org/abs/1907.05791); [Github](https://github.com/facebookresearch/LASER/tree/master/tasks/WikiMatrix)\n",
    "* ~~[SETimes](http://nlp.ffzg.hr/resources/corpora/setimes/)~~ No need of it, already many samples at WikiMatrix and UD-Treebank\n",
    "* Tatoeba:  Wikimatrix is nice but this one has different kind of phrases (questions, answers and some other things)\n",
    "* [EuroParliament](http://www.statmt.org/europarl/)\n",
    "* [Wikipedia Translation Dataset](http://opus.nlpl.eu/Wikipedia.php); [WikiExtractor](https://github.com/tatuylonen/wiktextract)\n",
    "* [ConceptNET](http://conceptnet.io/); [Github](https://github.com/commonsense/conceptnet5/wiki) \n",
    "* [Open Multilingual WordNet](http://compling.hss.ntu.edu.sg/omw/) and [Global WordNet Association](http://globalwordnet.org/resources/wordnets-in-the-world/)\n",
    "\n",
    "\n",
    "* [BabelNET](https://babelnet.org/) [Downloads](https://babelnet.org/download) seem proprietary ...\n",
    "* [PanLex](https://panlex.org/)  Word level traductions for many (many) language pairs. [Downloads](https://panlex.org/source-list/) and [Vocabulary](https://vocab.panlex.org/)\n",
    "* [ASJD Database](https://asjp.clld.org)\n",
    "* Thesaurus [Some](https://old.datahub.io/dataset/open-data-thesaurus) [links](http://vocabulary.semantic-web.at/PoolParty/wiki/OpenData) [where](https://www.thesaurus.net/) [to](https://www.powerthesaurus.org/multilingual) find\n",
    "\n",
    "* [bAbI](https://research.fb.com/downloads/babi/); [Code on Github](https://github.com/facebook/bAbI-tasks). Although it seems that there are [issues](https://www.reddit.com/r/MachineLearning/comments/3ohkt8/i_solved_facebooks_babi_and_found_lots_of_errors/) in the [dataset](http://jamesknighton.com/2015/babi/)\n",
    "* [MALMO](https://www.microsoft.com/en-us/research/project/project-malmo/) Minecraft Artificial Intelligence; [Github](https://github.com/Microsoft/malmo)\n",
    "\n",
    "\n",
    "* [FastText](https://fasttext.cc/docs/en/dataset.html)\n",
    "\n",
    "* [DBPedia](https://wiki.dbpedia.org/develop/datasets)\n",
    "* [W3C](https://www.w3.org/community/sentiment/wiki/Datasets)\n",
    "* [Europarl](http://opus.nlpl.eu/Europarl.php)\n",
    "* [Amazon Registry Open Data on AWS](https://registry.opendata.aws/)\n",
    "* [Peter Jansen Cognitiveai.org Explanation Bank](http://cognitiveai.org/explanationbank/)\n",
    "\n",
    "* [List of Awesome Public Datasets](https://github.com/awesomedata/awesome-public-datasets#naturallanguage)\n",
    "\n",
    "* [Emoji Database - Kaggle](https://www.kaggle.com/eliasdabbas/emoji-data-descriptions-codepoints)\n",
    "* [Emoji Sentiment Data - Kaggle](https://www.kaggle.com/thomasseleck/emoji-sentiment-data)\n",
    "* [EmojiNet - Kaggle](https://www.kaggle.com/rtatman/emojinet)\n",
    "* [Twitter Emoji Prediction - Kaggle](https://www.kaggle.com/hariharasudhanas/twitter-emoji-prediction)\n",
    "* [Sentiment Analysis multi-language - Kaggle](https://www.kaggle.com/weywenn/sentiment-analysis-multilanguage)\n",
    "\n",
    "### Question Answering:\n",
    "\n",
    "* XuAD;  [Paper](https://arxiv.org/abs/1910.11856) [Dataset](https://github.com/deepmind/xquad)\n",
    "* XQA; [Paper](https://www.aclweb.org/anthology/P19-1227/)\n",
    "* MLQA; [Paper](https://arxiv.org/abs/1910.07475)\n",
    "\n"
   ]
  },
  {
   "cell_type": "markdown",
   "metadata": {},
   "source": [
    "## Unsupervised Datasets\n",
    "\n",
    "* Gutenberg\n",
    "* [Wiktionary](https://dumps.wikimedia.org/enwiktionary/)\n",
    "* Scholarpedia\n",
    "* [Wikipedia](https://dumps.wikimedia.org/)\n",
    "* ArXiv\n",
    "* Wikitext-2\n",
    "* Wikitext-103 \n",
    "\n",
    "## Source Code (Programming) Datasets\n",
    "\n",
    "* "
   ]
  },
  {
   "cell_type": "markdown",
   "metadata": {},
   "source": [
    "### CoLA\n",
    "\n",
    "\n"
   ]
  },
  {
   "cell_type": "markdown",
   "metadata": {},
   "source": [
    "## MNLI - MultiNLI Dataset\n",
    "\n",
    "There are more than one task that are possible as the dataset contains also the parse tree for each sentence, which is nice. So the output format of the json will be:\n",
    "\n",
    "    {\n",
    "        'input': \"task: MNLI | Sentence 1: {} | Sentence 2: {}\".format(sentence_1, sentence_2),\n",
    "        'target': e['gold_label'],\n",
    "        'input_sentence_1': \"task: MNLI parse tree of: {}\".format(sentence_1),\n",
    "        'input_sentence_2': \"task: MNLI parse tree of: {}\".format(sentence_2),\n",
    "        'parse_target_1': e['sentence1_parse'],\n",
    "        'parse_target_2': e['sentence2_parse'],\n",
    "    }"
   ]
  },
  {
   "cell_type": "markdown",
   "metadata": {},
   "source": [
    "## MRPC \n",
    "\n",
    "\n",
    "\n",
    "This data consists of 5 columns:\n",
    "\n",
    "    label: 0 Not equivalent, 1 semantically equivalent\n",
    "    sentence 1 id\n",
    "    sentence 2 id\n",
    "    sentence 1 text\n",
    "    sentence 2 text\n",
    "    \n",
    "    \n",
    "    \n",
    "The note to make is that the dataset is already tokenized meaning is not the raw text. Nothing else will be done to the text"
   ]
  },
  {
   "cell_type": "markdown",
   "metadata": {},
   "source": [
    "## QNLI\n",
    "\n",
    "The dataset download contains the following columns:\n",
    "\n",
    "    ndex\n",
    "    Question\n",
    "    Sentence\n",
    "    Label - [entailment|not_entailment]\n"
   ]
  },
  {
   "cell_type": "markdown",
   "metadata": {},
   "source": [
    "## QQP\n",
    "\n",
    "Columns in the dataset:\n",
    "\n",
    "    id\n",
    "    qid1\n",
    "    qid2\n",
    "    question1\n",
    "    question2\n",
    "    is_duplicate\n",
    "\n"
   ]
  },
  {
   "cell_type": "code",
   "execution_count": 1,
   "metadata": {},
   "outputs": [],
   "source": [
    "from preprocess import process_glue, process_superglue, rename_files"
   ]
  },
  {
   "cell_type": "code",
   "execution_count": 2,
   "metadata": {
    "scrolled": true
   },
   "outputs": [
    {
     "name": "stdout",
     "output_type": "stream",
     "text": [
      "/home/leo/projects/Datasets/text/GLUE/CoLA/cola_cola_train-txt2txtmax-256.json\n",
      "/home/leo/projects/Datasets/text/GLUE/CoLA/cola_cola_train.tsv\n",
      "/home/leo/projects/Datasets/text/GLUE/CoLA/cola_cola_dev-txt2txtmax-256.json\n",
      "/home/leo/projects/Datasets/text/GLUE/CoLA/cola_cola_train-txt2txt.json\n",
      "/home/leo/projects/Datasets/text/GLUE/CoLA/cola_cola_dev-txt2txt.json\n",
      "/home/leo/projects/Datasets/text/GLUE/CoLA/cola_cola_dev.tsv\n",
      "/home/leo/projects/Datasets/text/GLUE/CoLA/cola_cola_test.tsv\n",
      "/home/leo/projects/Datasets/text/GLUE/CoLA/cola_cola_test-txt2txt.json\n",
      "/home/leo/projects/Datasets/text/GLUE/CoLA/original/raw/cola_cola_out_of_domain_dev.tsv\n",
      "/home/leo/projects/Datasets/text/GLUE/CoLA/original/raw/cola_cola_in_domain_dev.tsv\n",
      "/home/leo/projects/Datasets/text/GLUE/CoLA/original/raw/cola_cola_in_domain_train.tsv\n",
      "/home/leo/projects/Datasets/text/GLUE/CoLA/original/tokenized/cola_cola_out_of_domain_dev.tsv\n",
      "/home/leo/projects/Datasets/text/GLUE/CoLA/original/tokenized/cola_cola_in_domain_dev.tsv\n",
      "/home/leo/projects/Datasets/text/GLUE/CoLA/original/tokenized/cola_cola_in_domain_train.tsv\n",
      "/home/leo/projects/Datasets/text/GLUE/MNLI/original/mnli_mnli_multinli_1.0_dev_matched-txt2txtmax-512.json\n",
      "/home/leo/projects/Datasets/text/GLUE/MNLI/original/mnli_mnli_multinli_1.0_train-txt2txt.json\n",
      "/home/leo/projects/Datasets/text/GLUE/MNLI/original/mnli_mnli_multinli_1.0_dev_matched-txt2txtmax-2048.json\n",
      "/home/leo/projects/Datasets/text/GLUE/MNLI/original/mnli_mnli_multinli_1.0_train-txt2txtmax-2048.json\n",
      "/home/leo/projects/Datasets/text/GLUE/MNLI/original/mnli_mnli_multinli_1.0_dev_mismatched-txt2txtmax-384.json\n",
      "/home/leo/projects/Datasets/text/GLUE/MNLI/original/mnli_mnli_multinli_1.0_train-txt2txtmax-768.json\n",
      "/home/leo/projects/Datasets/text/GLUE/MNLI/original/mnli_mnli_multinli_1.0_dev_mismatched-txt2txtmax-1024.json\n",
      "/home/leo/projects/Datasets/text/GLUE/MNLI/original/mnli_mnli_multinli_1.0_dev_matched-txt2txtmax-1024.json\n",
      "/home/leo/projects/Datasets/text/GLUE/MNLI/original/mnli_mnli_multinli_1.0_train-txt2txtmax-512.json\n",
      "/home/leo/projects/Datasets/text/GLUE/MNLI/original/mnli_mnli_multinli_1.0_dev_mismatched-txt2txtmax-768.json\n",
      "/home/leo/projects/Datasets/text/GLUE/MNLI/original/mnli_mnli_multinli_1.0_dev_mismatched-txt2txt.json\n",
      "/home/leo/projects/Datasets/text/GLUE/MNLI/original/mnli_mnli_multinli_1.0_dev_matched.jsonl\n",
      "/home/leo/projects/Datasets/text/GLUE/MNLI/original/mnli_mnli_multinli_1.0_train-txt2txtmax-256.json\n",
      "/home/leo/projects/Datasets/text/GLUE/MNLI/original/mnli_mnli_multinli_1.0_train-txt2txtmax-384.json\n",
      "/home/leo/projects/Datasets/text/GLUE/MNLI/original/mnli_mnli_multinli_1.0_dev_matched-txt2txt.json\n",
      "/home/leo/projects/Datasets/text/GLUE/MNLI/original/mnli_mnli_multinli_1.0_train.txt\n",
      "/home/leo/projects/Datasets/text/GLUE/MNLI/original/mnli_mnli_multinli_1.0_train.jsonl\n",
      "/home/leo/projects/Datasets/text/GLUE/MNLI/original/mnli_mnli_multinli_1.0_dev_matched-txt2txtmax-384.json\n",
      "/home/leo/projects/Datasets/text/GLUE/MNLI/original/mnli_mnli_multinli_1.0_dev_matched-txt2txtmax-768.json\n",
      "/home/leo/projects/Datasets/text/GLUE/MNLI/original/mnli_mnli_multinli_1.0_dev_mismatched.txt\n",
      "/home/leo/projects/Datasets/text/GLUE/MNLI/original/mnli_mnli_multinli_1.0_dev_mismatched.jsonl\n",
      "/home/leo/projects/Datasets/text/GLUE/MNLI/original/mnli_mnli_multinli_1.0_train-txt2txtmax-1024.json\n",
      "/home/leo/projects/Datasets/text/GLUE/MNLI/original/mnli_mnli_multinli_1.0_dev_mismatched-txt2txtmax-256.json\n",
      "/home/leo/projects/Datasets/text/GLUE/MNLI/original/mnli_mnli_multinli_1.0_dev_matched.txt\n",
      "/home/leo/projects/Datasets/text/GLUE/MNLI/original/mnli_mnli_multinli_1.0_dev_matched-txt2txtmax-256.json\n",
      "/home/leo/projects/Datasets/text/GLUE/MNLI/original/mnli_mnli_multinli_1.0_dev_mismatched-txt2txtmax-512.json\n",
      "/home/leo/projects/Datasets/text/GLUE/MRPC/mrpc_mrpc_dev-txt2txtmax-512.json\n",
      "/home/leo/projects/Datasets/text/GLUE/MRPC/mrpc_mrpc_test-txt2txtmax-256.json\n",
      "/home/leo/projects/Datasets/text/GLUE/MRPC/mrpc_mrpc_dev-txt2txtmax-256.json\n",
      "/home/leo/projects/Datasets/text/GLUE/MRPC/mrpc_mrpc_test-txt2txtmax-512.json\n",
      "/home/leo/projects/Datasets/text/GLUE/MRPC/mrpc_mrpc_msr_paraphrase_test.txt\n",
      "/home/leo/projects/Datasets/text/GLUE/MRPC/mrpc_mrpc_dev-txt2txtmax-384.json\n",
      "/home/leo/projects/Datasets/text/GLUE/MRPC/mrpc_mrpc_dev.tsv\n",
      "/home/leo/projects/Datasets/text/GLUE/MRPC/mrpc_mrpc_test-txt2txt.json\n",
      "/home/leo/projects/Datasets/text/GLUE/MRPC/mrpc_mrpc_dev_ids-txt2txt.json\n",
      "/home/leo/projects/Datasets/text/GLUE/MRPC/mrpc_mrpc_train-txt2txtmax-512.json\n",
      "/home/leo/projects/Datasets/text/GLUE/MRPC/mrpc_mrpc_train-txt2txt.json\n",
      "/home/leo/projects/Datasets/text/GLUE/MRPC/mrpc_mrpc_test-txt2txtmax-384.json\n",
      "/home/leo/projects/Datasets/text/GLUE/MRPC/mrpc_mrpc_msr_paraphrase_train.txt\n",
      "/home/leo/projects/Datasets/text/GLUE/MRPC/mrpc_mrpc_test.tsv\n",
      "/home/leo/projects/Datasets/text/GLUE/MRPC/mrpc_mrpc_train-txt2txtmax-256.json\n",
      "/home/leo/projects/Datasets/text/GLUE/MRPC/mrpc_mrpc_train-txt2txtmax-384.json\n",
      "/home/leo/projects/Datasets/text/GLUE/MRPC/mrpc_mrpc_dev-txt2txt.json\n",
      "/home/leo/projects/Datasets/text/GLUE/MRPC/mrpc_mrpc_dev_ids.tsv\n",
      "/home/leo/projects/Datasets/text/GLUE/MRPC/mrpc_mrpc_train.tsv\n",
      "/home/leo/projects/Datasets/text/GLUE/QNLI/qnli_qnli_dev-txt2txtmax-768.json\n",
      "/home/leo/projects/Datasets/text/GLUE/QNLI/qnli_qnli_train-txt2txtmax-384.json\n",
      "/home/leo/projects/Datasets/text/GLUE/QNLI/qnli_qnli_dev-txt2txtmax-256.json\n",
      "/home/leo/projects/Datasets/text/GLUE/QNLI/qnli_qnli_train-txt2txtmax-768.json\n",
      "/home/leo/projects/Datasets/text/GLUE/QNLI/qnli_qnli_test.tsv\n",
      "/home/leo/projects/Datasets/text/GLUE/QNLI/qnli_qnli_train.tsv\n",
      "/home/leo/projects/Datasets/text/GLUE/QNLI/qnli_qnli_dev-txt2txt.json\n",
      "/home/leo/projects/Datasets/text/GLUE/QNLI/qnli_qnli_train-txt2txtmax-256.json\n",
      "/home/leo/projects/Datasets/text/GLUE/QNLI/qnli_qnli_dev.tsv\n",
      "/home/leo/projects/Datasets/text/GLUE/QNLI/qnli_qnli_train-txt2txtmax-512.json\n",
      "/home/leo/projects/Datasets/text/GLUE/QNLI/qnli_qnli_dev-txt2txtmax-1024.json\n",
      "/home/leo/projects/Datasets/text/GLUE/QNLI/qnli_qnli_dev-txt2txtmax-2048.json\n",
      "/home/leo/projects/Datasets/text/GLUE/QNLI/qnli_qnli_test-txt2txt.json\n",
      "/home/leo/projects/Datasets/text/GLUE/QNLI/qnli_qnli_train-txt2txtmax-2048.json\n",
      "/home/leo/projects/Datasets/text/GLUE/QNLI/qnli_qnli_dev-txt2txtmax-384.json\n",
      "/home/leo/projects/Datasets/text/GLUE/QNLI/qnli_qnli_train-txt2txtmax-1024.json\n",
      "/home/leo/projects/Datasets/text/GLUE/QNLI/qnli_qnli_train-txt2txt.json\n",
      "/home/leo/projects/Datasets/text/GLUE/QNLI/qnli_qnli_dev-txt2txtmax-512.json\n",
      "/home/leo/projects/Datasets/text/GLUE/QNLI/qnli_qnli_train-txt2txtmax-0.json\n",
      "/home/leo/projects/Datasets/text/GLUE/QQP/qqp_qqp_train.tsv\n",
      "/home/leo/projects/Datasets/text/GLUE/QQP/qqp_qqp_dev-txt2txtmax-1024.json\n",
      "/home/leo/projects/Datasets/text/GLUE/QQP/qqp_qqp_train-txt2txt.json\n",
      "/home/leo/projects/Datasets/text/GLUE/QQP/qqp_qqp_train-txt2txtmax-512.json\n",
      "/home/leo/projects/Datasets/text/GLUE/QQP/qqp_qqp_dev-txt2txtmax-384.json\n",
      "/home/leo/projects/Datasets/text/GLUE/QQP/qqp_qqp_dev-txt2txtmax-512.json\n",
      "/home/leo/projects/Datasets/text/GLUE/QQP/qqp_qqp_train-txt2txtmax-2048.json\n",
      "/home/leo/projects/Datasets/text/GLUE/QQP/qqp_qqp_dev-txt2txt.json\n",
      "/home/leo/projects/Datasets/text/GLUE/QQP/qqp_qqp_dev.tsv\n",
      "/home/leo/projects/Datasets/text/GLUE/QQP/qqp_qqp_test.tsv\n",
      "/home/leo/projects/Datasets/text/GLUE/QQP/qqp_qqp_train-txt2txtmax-768.json\n",
      "/home/leo/projects/Datasets/text/GLUE/QQP/qqp_qqp_train-txt2txtmax-1024.json\n",
      "/home/leo/projects/Datasets/text/GLUE/QQP/qqp_qqp_train-txt2txtmax-384.json\n",
      "/home/leo/projects/Datasets/text/GLUE/QQP/qqp_qqp_dev-txt2txtmax-256.json\n",
      "/home/leo/projects/Datasets/text/GLUE/QQP/qqp_qqp_test-txt2txt.json\n",
      "/home/leo/projects/Datasets/text/GLUE/QQP/qqp_qqp_dev-txt2txtmax-768.json\n",
      "/home/leo/projects/Datasets/text/GLUE/QQP/qqp_qqp_train-txt2txtmax-256.json\n",
      "/home/leo/projects/Datasets/text/GLUE/RTE/rte_rte_dev-txt2txtmax-1024.json\n",
      "/home/leo/projects/Datasets/text/GLUE/RTE/rte_rte_dev.tsv\n",
      "/home/leo/projects/Datasets/text/GLUE/RTE/rte_rte_train-txt2txtmax-512.json\n",
      "/home/leo/projects/Datasets/text/GLUE/RTE/rte_rte_train-txt2txtmax-384.json\n",
      "/home/leo/projects/Datasets/text/GLUE/RTE/rte_rte_dev-txt2txtmax-768.json\n",
      "/home/leo/projects/Datasets/text/GLUE/RTE/rte_rte_train-txt2txtmax-768.json\n",
      "/home/leo/projects/Datasets/text/GLUE/RTE/rte_rte_test-txt2txt.json\n",
      "/home/leo/projects/Datasets/text/GLUE/RTE/rte_rte_train.tsv\n",
      "/home/leo/projects/Datasets/text/GLUE/RTE/rte_rte_test.tsv\n",
      "/home/leo/projects/Datasets/text/GLUE/RTE/rte_rte_dev-txt2txtmax-2048.json\n",
      "/home/leo/projects/Datasets/text/GLUE/RTE/rte_rte_dev-txt2txtmax-384.json\n",
      "/home/leo/projects/Datasets/text/GLUE/RTE/rte_rte_train-txt2txtmax-1024.json\n",
      "/home/leo/projects/Datasets/text/GLUE/RTE/rte_rte_train-txt2txtmax-2048.json\n",
      "/home/leo/projects/Datasets/text/GLUE/RTE/rte_rte_train-txt2txt.json\n",
      "/home/leo/projects/Datasets/text/GLUE/RTE/rte_rte_dev-txt2txtmax-512.json\n",
      "/home/leo/projects/Datasets/text/GLUE/RTE/rte_rte_train-txt2txtmax-256.json\n",
      "/home/leo/projects/Datasets/text/GLUE/RTE/rte_rte_dev-txt2txtmax-256.json\n",
      "/home/leo/projects/Datasets/text/GLUE/RTE/rte_rte_dev-txt2txt.json\n",
      "/home/leo/projects/Datasets/text/GLUE/SNLI/original/snli_snli_snli_1.0_train-txt2txtmax-768.json\n",
      "/home/leo/projects/Datasets/text/GLUE/SNLI/original/snli_snli_snli_1.0_dev-txt2txtmax-512.json\n",
      "/home/leo/projects/Datasets/text/GLUE/SNLI/original/snli_snli_snli_1.0_train.txt\n",
      "/home/leo/projects/Datasets/text/GLUE/SNLI/original/snli_snli_snli_1.0_train-txt2txt.json\n",
      "/home/leo/projects/Datasets/text/GLUE/SNLI/original/snli_snli_snli_1.0_dev-txt2txtmax-384.json\n",
      "/home/leo/projects/Datasets/text/GLUE/SNLI/original/snli_snli_snli_1.0_train-txt2txtmax-512.json\n",
      "/home/leo/projects/Datasets/text/GLUE/SNLI/original/snli_snli_snli_1.0_test-txt2txt.json\n",
      "/home/leo/projects/Datasets/text/GLUE/SNLI/original/snli_snli_snli_1.0_test.txt\n",
      "/home/leo/projects/Datasets/text/GLUE/SNLI/original/snli_snli_snli_1.0_test-txt2txtmax-384.json\n",
      "/home/leo/projects/Datasets/text/GLUE/SNLI/original/snli_snli_snli_1.0_test-txt2txtmax-256.json\n",
      "/home/leo/projects/Datasets/text/GLUE/SNLI/original/snli_snli_snli_1.0_dev-txt2txt.json\n",
      "/home/leo/projects/Datasets/text/GLUE/SNLI/original/snli_snli_snli_1.0_train-txt2txtmax-256.json\n",
      "/home/leo/projects/Datasets/text/GLUE/SNLI/original/snli_snli_snli_1.0_dev.txt\n",
      "/home/leo/projects/Datasets/text/GLUE/SNLI/original/snli_snli_snli_1.0_dev-txt2txtmax-256.json\n",
      "/home/leo/projects/Datasets/text/GLUE/SNLI/original/snli_snli_snli_1.0_train-txt2txtmax-384.json\n",
      "/home/leo/projects/Datasets/text/GLUE/SNLI/original/snli_snli_snli_1.0_train.jsonl\n",
      "/home/leo/projects/Datasets/text/GLUE/SNLI/original/snli_snli_snli_1.0_test.jsonl\n",
      "/home/leo/projects/Datasets/text/GLUE/SNLI/original/snli_snli_snli_1.0_test-txt2txtmax-512.json\n",
      "/home/leo/projects/Datasets/text/GLUE/SNLI/original/snli_snli_snli_1.0_dev.jsonl\n",
      "/home/leo/projects/Datasets/text/GLUE/SST-2/sst2_sst2_train-txt2txtmax-384.json\n",
      "/home/leo/projects/Datasets/text/GLUE/SST-2/sst2_sst2_train-txt2txtmax-256.json\n",
      "/home/leo/projects/Datasets/text/GLUE/SST-2/sst2_sst2_test-txt2txt.json\n",
      "/home/leo/projects/Datasets/text/GLUE/SST-2/sst2_sst2_train.tsv\n",
      "/home/leo/projects/Datasets/text/GLUE/SST-2/sst2_sst2_dev-txt2txtmax-256.json\n",
      "/home/leo/projects/Datasets/text/GLUE/SST-2/sst2_sst2_dev.tsv\n",
      "/home/leo/projects/Datasets/text/GLUE/SST-2/sst2_sst2_test.tsv\n",
      "/home/leo/projects/Datasets/text/GLUE/SST-2/sst2_sst2_dev-txt2txt.json\n",
      "/home/leo/projects/Datasets/text/GLUE/SST-2/sst2_sst2_train-txt2txt.json\n",
      "/home/leo/projects/Datasets/text/GLUE/SST-2/sst2_sst2_dev-txt2txtmax-384.json\n",
      "/home/leo/projects/Datasets/text/GLUE/SST-2/original/sst2_sst2_sentiment_labels.txt\n",
      "/home/leo/projects/Datasets/text/GLUE/SST-2/original/sst2_sst2_datasetSplit.txt\n",
      "/home/leo/projects/Datasets/text/GLUE/SST-2/original/sst2_sst2_original_rt_snippets.txt\n",
      "/home/leo/projects/Datasets/text/GLUE/SST-2/original/sst2_sst2_datasetSentences.txt\n",
      "/home/leo/projects/Datasets/text/GLUE/SST-2/original/sst2_sst2_README.txt\n",
      "/home/leo/projects/Datasets/text/GLUE/SST-2/original/sst2_sst2_dictionary.txt\n",
      "/home/leo/projects/Datasets/text/GLUE/SST-2/original/sst2_sst2_STree.txt\n",
      "/home/leo/projects/Datasets/text/GLUE/SST-2/original/sst2_sst2_SOStr.txt\n",
      "/home/leo/projects/Datasets/text/GLUE/STS-B/stsb_stsb_dev-txt2txtmax-512.json\n",
      "/home/leo/projects/Datasets/text/GLUE/STS-B/stsb_stsb_LICENSE.txt\n",
      "/home/leo/projects/Datasets/text/GLUE/STS-B/stsb_stsb_train-txt2txt.json\n",
      "/home/leo/projects/Datasets/text/GLUE/STS-B/stsb_stsb_train.tsv\n",
      "/home/leo/projects/Datasets/text/GLUE/STS-B/stsb_stsb_dev-txt2txtmax-256.json\n",
      "/home/leo/projects/Datasets/text/GLUE/STS-B/stsb_stsb_dev.tsv\n",
      "/home/leo/projects/Datasets/text/GLUE/STS-B/stsb_stsb_dev-txt2txtmax-384.json\n",
      "/home/leo/projects/Datasets/text/GLUE/STS-B/stsb_stsb_test-txt2txt.json\n",
      "/home/leo/projects/Datasets/text/GLUE/STS-B/stsb_stsb_train-txt2txtmax-512.json\n",
      "/home/leo/projects/Datasets/text/GLUE/STS-B/stsb_stsb_train-txt2txtmax-384.json\n",
      "/home/leo/projects/Datasets/text/GLUE/STS-B/stsb_stsb_train-txt2txtmax-256.json\n",
      "/home/leo/projects/Datasets/text/GLUE/STS-B/stsb_stsb_train-txt2txtmax-768.json\n",
      "/home/leo/projects/Datasets/text/GLUE/STS-B/stsb_stsb_readme.txt\n",
      "/home/leo/projects/Datasets/text/GLUE/STS-B/stsb_stsb_test.tsv\n",
      "/home/leo/projects/Datasets/text/GLUE/STS-B/stsb_stsb_dev-txt2txt.json\n",
      "/home/leo/projects/Datasets/text/GLUE/STS-B/original/stsb_stsb_sts-test.tsv\n",
      "/home/leo/projects/Datasets/text/GLUE/STS-B/original/stsb_stsb_sts-train.tsv\n",
      "/home/leo/projects/Datasets/text/GLUE/STS-B/original/stsb_stsb_sts-dev.tsv\n",
      "/home/leo/projects/Datasets/text/GLUE/WNLI/wnli_wnli_train-txt2txtmax-256.json\n",
      "/home/leo/projects/Datasets/text/GLUE/WNLI/wnli_wnli_test-txt2txt.json\n",
      "/home/leo/projects/Datasets/text/GLUE/WNLI/wnli_wnli_train.tsv\n",
      "/home/leo/projects/Datasets/text/GLUE/WNLI/wnli_wnli_train-txt2txtmax-512.json\n",
      "/home/leo/projects/Datasets/text/GLUE/WNLI/wnli_wnli_train-txt2txt.json\n",
      "/home/leo/projects/Datasets/text/GLUE/WNLI/wnli_wnli_dev-txt2txtmax-384.json\n",
      "/home/leo/projects/Datasets/text/GLUE/WNLI/wnli_wnli_train-txt2txtmax-384.json\n",
      "/home/leo/projects/Datasets/text/GLUE/WNLI/wnli_wnli_test.tsv\n",
      "/home/leo/projects/Datasets/text/GLUE/WNLI/wnli_wnli_dev-txt2txtmax-256.json\n",
      "/home/leo/projects/Datasets/text/GLUE/WNLI/wnli_wnli_dev-txt2txtmax-512.json\n",
      "/home/leo/projects/Datasets/text/GLUE/WNLI/wnli_wnli_dev.tsv\n",
      "/home/leo/projects/Datasets/text/GLUE/WNLI/wnli_wnli_dev-txt2txt.json\n",
      "/home/leo/projects/Datasets/text/SuperGLUE/BoolQ/sg_boolq_sg_boolq_train-txt2txtmax-512.json\n",
      "/home/leo/projects/Datasets/text/SuperGLUE/BoolQ/sg_boolq_sg_boolq_val-txt2txtmax-384.json\n",
      "/home/leo/projects/Datasets/text/SuperGLUE/BoolQ/sg_boolq_sg_boolq_val-txt2txtmax-1024.json\n",
      "/home/leo/projects/Datasets/text/SuperGLUE/BoolQ/sg_boolq_sg_boolq_val.jsonl\n",
      "/home/leo/projects/Datasets/text/SuperGLUE/BoolQ/sg_boolq_sg_boolq_val-txt2txtmax-0.json\n",
      "/home/leo/projects/Datasets/text/SuperGLUE/BoolQ/sg_boolq_sg_boolq_train-txt2txtmax-256.json\n",
      "/home/leo/projects/Datasets/text/SuperGLUE/BoolQ/sg_boolq_sg_boolq_train-txt2txtmax-1024.json\n",
      "/home/leo/projects/Datasets/text/SuperGLUE/BoolQ/sg_boolq_sg_boolq_train-txt2txtmax-2048.json\n",
      "/home/leo/projects/Datasets/text/SuperGLUE/BoolQ/sg_boolq_sg_boolq_val-txt2txt.json\n",
      "/home/leo/projects/Datasets/text/SuperGLUE/BoolQ/sg_boolq_sg_boolq_train.jsonl\n",
      "/home/leo/projects/Datasets/text/SuperGLUE/BoolQ/sg_boolq_sg_boolq_val-txt2txtmax-2048.json\n",
      "/home/leo/projects/Datasets/text/SuperGLUE/BoolQ/sg_boolq_sg_boolq_train-txt2txtmax-768.json\n",
      "/home/leo/projects/Datasets/text/SuperGLUE/BoolQ/sg_boolq_sg_boolq_val-txt2txtmax-768.json\n",
      "/home/leo/projects/Datasets/text/SuperGLUE/BoolQ/sg_boolq_sg_boolq_test.jsonl\n",
      "/home/leo/projects/Datasets/text/SuperGLUE/BoolQ/sg_boolq_sg_boolq_val-txt2txtmax-256.json\n",
      "/home/leo/projects/Datasets/text/SuperGLUE/BoolQ/sg_boolq_sg_boolq_train-txt2txtmax-384.json\n",
      "/home/leo/projects/Datasets/text/SuperGLUE/BoolQ/sg_boolq_sg_boolq_val-txt2txtmax-512.json\n",
      "/home/leo/projects/Datasets/text/SuperGLUE/BoolQ/sg_boolq_sg_boolq_test-txt2txt.json\n",
      "/home/leo/projects/Datasets/text/SuperGLUE/BoolQ/sg_boolq_sg_boolq_train-txt2txtmax-0.json\n",
      "/home/leo/projects/Datasets/text/SuperGLUE/BoolQ/sg_boolq_sg_boolq_train-txt2txt.json\n",
      "/home/leo/projects/Datasets/text/SuperGLUE/CB/sg_cb_sg_cb_train-txt2txtmax-768.json\n",
      "/home/leo/projects/Datasets/text/SuperGLUE/CB/sg_cb_sg_cb_test-txt2txt.json\n",
      "/home/leo/projects/Datasets/text/SuperGLUE/CB/sg_cb_sg_cb_val-txt2txt.json\n",
      "/home/leo/projects/Datasets/text/SuperGLUE/CB/sg_cb_sg_cb_train-txt2txt.json\n",
      "/home/leo/projects/Datasets/text/SuperGLUE/CB/sg_cb_sg_cb_val-txt2txtmax-2048.json\n",
      "/home/leo/projects/Datasets/text/SuperGLUE/CB/sg_cb_sg_cb_train-txt2txtmax-2048.json\n",
      "/home/leo/projects/Datasets/text/SuperGLUE/CB/sg_cb_sg_cb_val.jsonl\n",
      "/home/leo/projects/Datasets/text/SuperGLUE/CB/sg_cb_sg_cb_val-txt2txtmax-768.json\n",
      "/home/leo/projects/Datasets/text/SuperGLUE/CB/sg_cb_sg_cb_val-txt2txtmax-256.json\n",
      "/home/leo/projects/Datasets/text/SuperGLUE/CB/sg_cb_sg_cb_train.jsonl\n",
      "/home/leo/projects/Datasets/text/SuperGLUE/CB/sg_cb_sg_cb_val-txt2txtmax-512.json\n",
      "/home/leo/projects/Datasets/text/SuperGLUE/CB/sg_cb_sg_cb_train-txt2txtmax-384.json\n",
      "/home/leo/projects/Datasets/text/SuperGLUE/CB/sg_cb_sg_cb_val-txt2txtmax-1024.json\n",
      "/home/leo/projects/Datasets/text/SuperGLUE/CB/sg_cb_sg_cb_train-txt2txtmax-256.json\n",
      "/home/leo/projects/Datasets/text/SuperGLUE/CB/sg_cb_sg_cb_train-txt2txtmax-512.json\n",
      "/home/leo/projects/Datasets/text/SuperGLUE/CB/sg_cb_sg_cb_test.jsonl\n",
      "/home/leo/projects/Datasets/text/SuperGLUE/CB/sg_cb_sg_cb_val-txt2txtmax-384.json\n",
      "/home/leo/projects/Datasets/text/SuperGLUE/CB/sg_cb_sg_cb_train-txt2txtmax-1024.json\n",
      "/home/leo/projects/Datasets/text/SuperGLUE/COPA/sg_copa_sg_copa_train.jsonl\n",
      "/home/leo/projects/Datasets/text/SuperGLUE/COPA/sg_copa_sg_copa_train-txt2txtmax-256.json\n",
      "/home/leo/projects/Datasets/text/SuperGLUE/COPA/sg_copa_sg_copa_train-txt2txt.json\n",
      "/home/leo/projects/Datasets/text/SuperGLUE/COPA/sg_copa_sg_copa_val-txt2txt.json\n",
      "/home/leo/projects/Datasets/text/SuperGLUE/COPA/sg_copa_sg_copa_val-txt2txtmax-256.json\n",
      "/home/leo/projects/Datasets/text/SuperGLUE/COPA/sg_copa_sg_copa_val.jsonl\n",
      "/home/leo/projects/Datasets/text/SuperGLUE/COPA/sg_copa_sg_copa_test.jsonl\n",
      "/home/leo/projects/Datasets/text/SuperGLUE/COPA/sg_copa_sg_copa_test-txt2txt.json\n",
      "/home/leo/projects/Datasets/text/SuperGLUE/MultiRC/sg_multirc_sg_multirc_test.jsonl\n",
      "/home/leo/projects/Datasets/text/SuperGLUE/MultiRC/sg_multirc_sg_multirc_val.jsonl\n",
      "/home/leo/projects/Datasets/text/SuperGLUE/MultiRC/sg_multirc_sg_multirc_train.jsonl\n",
      "/home/leo/projects/Datasets/text/SuperGLUE/ReCoRD/sg_record_sg_record_test-txt2txt.json\n",
      "/home/leo/projects/Datasets/text/SuperGLUE/ReCoRD/sg_record_sg_record_val.jsonl\n",
      "/home/leo/projects/Datasets/text/SuperGLUE/ReCoRD/sg_record_sg_record_train.jsonl\n",
      "/home/leo/projects/Datasets/text/SuperGLUE/ReCoRD/sg_record_sg_record_val-txt2txt.json\n",
      "/home/leo/projects/Datasets/text/SuperGLUE/ReCoRD/sg_record_sg_record_train-txt2txt.json\n",
      "/home/leo/projects/Datasets/text/SuperGLUE/ReCoRD/sg_record_sg_record_test.jsonl\n",
      "/home/leo/projects/Datasets/text/SuperGLUE/RTE/sg_rte_sg_rte_train-txt2txtmax-2048.json\n",
      "/home/leo/projects/Datasets/text/SuperGLUE/RTE/sg_rte_sg_rte_test-txt2txt.json\n",
      "/home/leo/projects/Datasets/text/SuperGLUE/RTE/sg_rte_sg_rte_val-txt2txtmax-2048.json\n",
      "/home/leo/projects/Datasets/text/SuperGLUE/RTE/sg_rte_sg_rte_train-txt2txtmax-384.json\n",
      "/home/leo/projects/Datasets/text/SuperGLUE/RTE/sg_rte_sg_rte_val-txt2txtmax-384.json\n",
      "/home/leo/projects/Datasets/text/SuperGLUE/RTE/sg_rte_sg_rte_test.jsonl\n",
      "/home/leo/projects/Datasets/text/SuperGLUE/RTE/sg_rte_sg_rte_val-txt2txtmax-512.json\n",
      "/home/leo/projects/Datasets/text/SuperGLUE/RTE/sg_rte_sg_rte_train-txt2txtmax-1024.json\n",
      "/home/leo/projects/Datasets/text/SuperGLUE/RTE/sg_rte_sg_rte_train-txt2txtmax-512.json\n",
      "/home/leo/projects/Datasets/text/SuperGLUE/RTE/sg_rte_sg_rte_val-txt2txtmax-768.json\n",
      "/home/leo/projects/Datasets/text/SuperGLUE/RTE/sg_rte_sg_rte_val-txt2txt.json\n",
      "/home/leo/projects/Datasets/text/SuperGLUE/RTE/sg_rte_sg_rte_train-txt2txtmax-256.json\n",
      "/home/leo/projects/Datasets/text/SuperGLUE/RTE/sg_rte_sg_rte_val-txt2txtmax-256.json\n",
      "/home/leo/projects/Datasets/text/SuperGLUE/RTE/sg_rte_sg_rte_train.jsonl\n",
      "/home/leo/projects/Datasets/text/SuperGLUE/RTE/sg_rte_sg_rte_val-txt2txtmax-1024.json\n",
      "/home/leo/projects/Datasets/text/SuperGLUE/RTE/sg_rte_sg_rte_train-txt2txtmax-768.json\n",
      "/home/leo/projects/Datasets/text/SuperGLUE/RTE/sg_rte_sg_rte_train-txt2txt.json\n",
      "/home/leo/projects/Datasets/text/SuperGLUE/RTE/sg_rte_sg_rte_val.jsonl\n",
      "/home/leo/projects/Datasets/text/SuperGLUE/RTE/diagnostics/sg_rte_sg_rte_AX-g.jsonl\n",
      "/home/leo/projects/Datasets/text/SuperGLUE/RTE/diagnostics/sg_rte_sg_rte_AX-b.jsonl\n",
      "/home/leo/projects/Datasets/text/SuperGLUE/WiC/sg_wic_sg_wic_val-txt2txtmax-256.json\n",
      "/home/leo/projects/Datasets/text/SuperGLUE/WiC/sg_wic_sg_wic_train-txt2txt.json\n",
      "/home/leo/projects/Datasets/text/SuperGLUE/WiC/sg_wic_sg_wic_val-txt2txt.json\n",
      "/home/leo/projects/Datasets/text/SuperGLUE/WiC/sg_wic_sg_wic_test-txt2txt.json\n",
      "/home/leo/projects/Datasets/text/SuperGLUE/WiC/sg_wic_sg_wic_train-txt2txtmax-256.json\n",
      "/home/leo/projects/Datasets/text/SuperGLUE/WiC/sg_wic_sg_wic_train.jsonl\n",
      "/home/leo/projects/Datasets/text/SuperGLUE/WiC/sg_wic_sg_wic_test.jsonl\n",
      "/home/leo/projects/Datasets/text/SuperGLUE/WiC/sg_wic_sg_wic_val.jsonl\n",
      "/home/leo/projects/Datasets/text/SuperGLUE/WSC/sg_wsc_sg_wsc_train-txt2txt.json\n",
      "/home/leo/projects/Datasets/text/SuperGLUE/WSC/sg_wsc_sg_wsc_train.jsonl\n",
      "/home/leo/projects/Datasets/text/SuperGLUE/WSC/sg_wsc_sg_wsc_test-txt2txt.json\n",
      "/home/leo/projects/Datasets/text/SuperGLUE/WSC/sg_wsc_sg_wsc_train-txt2txtmax-384.json\n",
      "/home/leo/projects/Datasets/text/SuperGLUE/WSC/sg_wsc_sg_wsc_val-txt2txt.json\n",
      "/home/leo/projects/Datasets/text/SuperGLUE/WSC/sg_wsc_sg_wsc_train-txt2txtmax-256.json\n",
      "/home/leo/projects/Datasets/text/SuperGLUE/WSC/sg_wsc_sg_wsc_val-txt2txtmax-256.json\n",
      "/home/leo/projects/Datasets/text/SuperGLUE/WSC/sg_wsc_sg_wsc_val.jsonl\n",
      "/home/leo/projects/Datasets/text/SuperGLUE/WSC/sg_wsc_sg_wsc_test.jsonl\n",
      "/home/leo/projects/Datasets/text/SuperGLUE/WSC/sg_wsc_sg_wsc_train-txt2txtmax-768.json\n",
      "/home/leo/projects/Datasets/text/SuperGLUE/WSC/sg_wsc_sg_wsc_val-txt2txtmax-384.json\n",
      "CPU times: user 77.9 ms, sys: 12.9 ms, total: 90.8 ms\n",
      "Wall time: 73.4 ms\n"
     ]
    }
   ],
   "source": [
    "%time rename_files()"
   ]
  },
  {
   "cell_type": "code",
   "execution_count": 2,
   "metadata": {
    "scrolled": true
   },
   "outputs": [
    {
     "name": "stdout",
     "output_type": "stream",
     "text": [
      "opening /home/leo/projects/Datasets/text/GLUE/CoLA/dev.tsv\n",
      "opening /home/leo/projects/Datasets/text/GLUE/CoLA/test.tsv\n",
      "opening /home/leo/projects/Datasets/text/GLUE/MNLI/original/multinli_1.0_dev_matched.jsonl\n",
      "opening /home/leo/projects/Datasets/text/GLUE/MNLI/original/multinli_1.0_train.jsonl\n",
      "opening /home/leo/projects/Datasets/text/GLUE/CoLA/train.tsv\n",
      "opening /home/leo/projects/Datasets/text/GLUE/MRPC/dev_ids.tsv\n",
      "opening /home/leo/projects/Datasets/text/GLUE/MNLI/original/multinli_1.0_dev_mismatched.jsonl\n",
      "saving to /home/leo/projects/Datasets/text/GLUE/CoLA/test-txt2txt.json\n",
      "opening /home/leo/projects/Datasets/text/GLUE/MRPC/test.tsv\n",
      "saving to /home/leo/projects/Datasets/text/GLUE/CoLA/dev-txt2txt.json\n",
      "opening /home/leo/projects/Datasets/text/GLUE/MRPC/dev.tsv\n",
      "opening /home/leo/projects/Datasets/text/GLUE/MRPC/train.tsv\n",
      "saving to /home/leo/projects/Datasets/text/GLUE/MRPC/dev-txt2txt.json\n",
      "opening /home/leo/projects/Datasets/text/GLUE/QNLI/train.tsv\n",
      "saving to /home/leo/projects/Datasets/text/GLUE/MRPC/test-txt2txt.json\n",
      "saving to /home/leo/projects/Datasets/text/GLUE/MRPC/dev_ids-txt2txt.json\n",
      "opening /home/leo/projects/Datasets/text/GLUE/QNLI/test.tsv\n",
      "saving to /home/leo/projects/Datasets/text/GLUE/CoLA/train-txt2txt.json\n",
      "opening /home/leo/projects/Datasets/text/GLUE/QNLI/dev.tsv\n",
      "opening /home/leo/projects/Datasets/text/GLUE/QQP/train.tsv\n",
      "saving to /home/leo/projects/Datasets/text/GLUE/MRPC/train-txt2txt.json\n",
      "opening /home/leo/projects/Datasets/text/GLUE/QQP/test.tsv\n",
      "saving to /home/leo/projects/Datasets/text/GLUE/QNLI/test-txt2txt.json\n",
      "opening /home/leo/projects/Datasets/text/GLUE/QQP/dev.tsv\n",
      "saving to /home/leo/projects/Datasets/text/GLUE/QNLI/dev-txt2txt.json\n",
      "opening /home/leo/projects/Datasets/text/GLUE/RTE/train.tsv\n",
      "saving to /home/leo/projects/Datasets/text/GLUE/RTE/train-txt2txt.json\n",
      "opening /home/leo/projects/Datasets/text/GLUE/RTE/test.tsv\n",
      "saving to /home/leo/projects/Datasets/text/GLUE/RTE/test-txt2txt.json\n",
      "opening /home/leo/projects/Datasets/text/GLUE/RTE/dev.tsv\n",
      "saving to /home/leo/projects/Datasets/text/GLUE/MNLI/original/multinli_1.0_dev_mismatched-txt2txt.json\n",
      "saving to /home/leo/projects/Datasets/text/GLUE/RTE/dev-txt2txt.json\n",
      "saving to /home/leo/projects/Datasets/text/GLUE/MNLI/original/multinli_1.0_dev_matched-txt2txt.json\n",
      "opening /home/leo/projects/Datasets/text/GLUE/SNLI/original/snli_1.0_dev.jsonl\n",
      "opening /home/leo/projects/Datasets/text/GLUE/SNLI/original/snli_1.0_train.jsonl\n",
      "opening /home/leo/projects/Datasets/text/GLUE/SNLI/original/snli_1.0_test.jsonl\n",
      "saving to /home/leo/projects/Datasets/text/GLUE/QQP/dev-txt2txt.json\n",
      "opening /home/leo/projects/Datasets/text/GLUE/SST-2/train.tsv\n",
      "saving to /home/leo/projects/Datasets/text/GLUE/SNLI/original/snli_1.0_dev-txt2txt.json\n",
      "opening /home/leo/projects/Datasets/text/GLUE/SST-2/test.tsv\n",
      "saving to /home/leo/projects/Datasets/text/GLUE/SNLI/original/snli_1.0_test-txt2txt.json\n",
      "saving to /home/leo/projects/Datasets/text/GLUE/SST-2/test-txt2txt.json\n",
      "opening /home/leo/projects/Datasets/text/GLUE/SST-2/dev.tsv\n",
      "opening /home/leo/projects/Datasets/text/GLUE/STS-B/train.tsv\n",
      "saving to /home/leo/projects/Datasets/text/GLUE/SST-2/dev-txt2txt.json\n",
      "opening /home/leo/projects/Datasets/text/GLUE/STS-B/test.tsv\n",
      "saving to /home/leo/projects/Datasets/text/GLUE/STS-B/test-txt2txt.json\n",
      "opening /home/leo/projects/Datasets/text/GLUE/STS-B/dev.tsv\n",
      "saving to /home/leo/projects/Datasets/text/GLUE/STS-B/dev-txt2txt.json\n",
      "opening /home/leo/projects/Datasets/text/GLUE/WNLI/train.tsv\n",
      "saving to /home/leo/projects/Datasets/text/GLUE/STS-B/train-txt2txt.json\n",
      "opening /home/leo/projects/Datasets/text/GLUE/WNLI/test.tsv\n",
      "saving to /home/leo/projects/Datasets/text/GLUE/WNLI/test-txt2txt.json\n",
      "opening /home/leo/projects/Datasets/text/GLUE/WNLI/dev.tsv\n",
      "saving to /home/leo/projects/Datasets/text/GLUE/WNLI/train-txt2txt.json\n",
      "saving to /home/leo/projects/Datasets/text/GLUE/SST-2/train-txt2txt.json\n",
      "saving to /home/leo/projects/Datasets/text/GLUE/WNLI/dev-txt2txt.json\n",
      "saving to /home/leo/projects/Datasets/text/GLUE/QNLI/train-txt2txt.json\n",
      "saving to /home/leo/projects/Datasets/text/GLUE/QQP/test-txt2txt.json\n",
      "saving to /home/leo/projects/Datasets/text/GLUE/QQP/train-txt2txt.json\n",
      "saving to /home/leo/projects/Datasets/text/GLUE/MNLI/original/multinli_1.0_train-txt2txt.json\n",
      "saving to /home/leo/projects/Datasets/text/GLUE/SNLI/original/snli_1.0_train-txt2txt.json\n",
      "CPU times: user 38.8 ms, sys: 31 ms, total: 69.8 ms\n",
      "Wall time: 4.29 s\n"
     ]
    }
   ],
   "source": [
    "%time process_glue()"
   ]
  },
  {
   "cell_type": "markdown",
   "metadata": {},
   "source": [
    "## SuperGLUE"
   ]
  },
  {
   "cell_type": "code",
   "execution_count": 3,
   "metadata": {
    "scrolled": true
   },
   "outputs": [
    {
     "name": "stdout",
     "output_type": "stream",
     "text": [
      "opening /home/leo/projects/Datasets/text/SuperGLUE/CB/val.jsonl\n",
      "opening /home/leo/projects/Datasets/text/SuperGLUE/CB/test.jsonl\n",
      "opening /home/leo/projects/Datasets/text/SuperGLUE/CB/train.jsonl\n",
      "opening /home/leo/projects/Datasets/text/SuperGLUE/BoolQ/test.jsonl\n",
      "opening /home/leo/projects/Datasets/text/SuperGLUE/BoolQ/val.jsonl\n",
      "opening /home/leo/projects/Datasets/text/SuperGLUE/BoolQ/train.jsonl\n",
      "opening /home/leo/projects/Datasets/text/SuperGLUE/COPA/test.jsonl\n",
      "opening /home/leo/projects/Datasets/text/SuperGLUE/COPA/val.jsonl\n",
      "saving to /home/leo/projects/Datasets/text/SuperGLUE/COPA/val-txt2txt.json\n",
      "saving to /home/leo/projects/Datasets/text/SuperGLUE/CB/train-txt2txt.json\n",
      "saving to /home/leo/projects/Datasets/text/SuperGLUE/COPA/test-txt2txt.json\n",
      "opening /home/leo/projects/Datasets/text/SuperGLUE/COPA/train.jsonl\n",
      "opening /home/leo/projects/Datasets/text/SuperGLUE/ReCoRD/val.jsonl\n",
      "opening /home/leo/projects/Datasets/text/SuperGLUE/ReCoRD/test.jsonl\n",
      "saving to /home/leo/projects/Datasets/text/SuperGLUE/BoolQ/test-txt2txt.json\n",
      "saving to /home/leo/projects/Datasets/text/SuperGLUE/CB/val-txt2txt.json\n",
      "saving to /home/leo/projects/Datasets/text/SuperGLUE/COPA/train-txt2txt.json\n",
      "opening /home/leo/projects/Datasets/text/SuperGLUE/ReCoRD/train.jsonl\n",
      "saving to /home/leo/projects/Datasets/text/SuperGLUE/CB/test-txt2txt.json\n",
      "opening /home/leo/projects/Datasets/text/SuperGLUE/RTE/val.jsonl\n",
      "opening /home/leo/projects/Datasets/text/SuperGLUE/RTE/test.jsonl\n",
      "opening /home/leo/projects/Datasets/text/SuperGLUE/RTE/train.jsonl\n",
      "saving to /home/leo/projects/Datasets/text/SuperGLUE/RTE/val-txt2txt.json\n",
      "opening /home/leo/projects/Datasets/text/SuperGLUE/WiC/val.jsonl\n",
      "saving to /home/leo/projects/Datasets/text/SuperGLUE/RTE/test-txt2txt.json\n",
      "saving to /home/leo/projects/Datasets/text/SuperGLUE/BoolQ/val-txt2txt.json\n",
      "opening /home/leo/projects/Datasets/text/SuperGLUE/WiC/test.jsonl\n",
      "saving to /home/leo/projects/Datasets/text/SuperGLUE/RTE/train-txt2txt.json\n",
      "saving to /home/leo/projects/Datasets/text/SuperGLUE/WiC/val-txt2txt.json\n",
      "opening /home/leo/projects/Datasets/text/SuperGLUE/WSC/val.jsonl\n",
      "saving to /home/leo/projects/Datasets/text/SuperGLUE/WiC/test-txt2txt.json\n",
      "opening /home/leo/projects/Datasets/text/SuperGLUE/WSC/test.jsonl\n",
      "opening /home/leo/projects/Datasets/text/SuperGLUE/WiC/train.jsonl\n",
      "opening /home/leo/projects/Datasets/text/SuperGLUE/WSC/train.jsonl\n",
      "saving to /home/leo/projects/Datasets/text/SuperGLUE/WSC/val-txt2txt.json\n",
      "saving to /home/leo/projects/Datasets/text/SuperGLUE/WSC/test-txt2txt.json\n",
      "saving to /home/leo/projects/Datasets/text/SuperGLUE/WSC/train-txt2txt.json\n",
      "saving to /home/leo/projects/Datasets/text/SuperGLUE/BoolQ/train-txt2txt.json\n",
      "saving to /home/leo/projects/Datasets/text/SuperGLUE/WiC/train-txt2txt.json\n",
      "saving to /home/leo/projects/Datasets/text/SuperGLUE/ReCoRD/test-txt2txt.json\n",
      "saving to /home/leo/projects/Datasets/text/SuperGLUE/ReCoRD/val-txt2txt.json\n",
      "saving to /home/leo/projects/Datasets/text/SuperGLUE/ReCoRD/train-txt2txt.json\n",
      "CPU times: user 22.3 ms, sys: 21.7 ms, total: 43.9 ms\n",
      "Wall time: 850 ms\n"
     ]
    }
   ],
   "source": [
    "%time process_superglue()"
   ]
  },
  {
   "cell_type": "markdown",
   "metadata": {},
   "source": [
    "## SwagAF\n"
   ]
  },
  {
   "cell_type": "code",
   "execution_count": null,
   "metadata": {},
   "outputs": [],
   "source": []
  },
  {
   "cell_type": "markdown",
   "metadata": {},
   "source": [
    "## Universal Dependencies v2.5"
   ]
  },
  {
   "cell_type": "code",
   "execution_count": 4,
   "metadata": {},
   "outputs": [],
   "source": [
    "# from preprocess_conllu import conllu_process\n",
    "from preprocess_conllu import *"
   ]
  },
  {
   "cell_type": "code",
   "execution_count": 5,
   "metadata": {
    "scrolled": true
   },
   "outputs": [
    {
     "name": "stdout",
     "output_type": "stream",
     "text": [
      "CPU times: user 53.1 ms, sys: 38.6 ms, total: 91.8 ms\n",
      "Wall time: 1min 39s\n"
     ]
    }
   ],
   "source": [
    "%%time\n",
    "conllu_process()"
   ]
  },
  {
   "cell_type": "code",
   "execution_count": 6,
   "metadata": {},
   "outputs": [],
   "source": [
    "all_wm = get_all_files_recurse(\"/media/nfs/Datasets/text/WikiMatrix/\")"
   ]
  },
  {
   "cell_type": "markdown",
   "metadata": {},
   "source": [
    "## WikiMatrix\n",
    "\n",
    "File structure is:\n",
    " \n",
    "    v1/*.gz - 65 GB\n",
    "    vi/SMALL/*.gz - 4,6GB\n",
    "    \n",
    "We can use all the big files for the training and the small ones for validation. Checking the files they are different language pairs, so this can be used for Zero-Shot learning on translation pairs.\n",
    "\n"
   ]
  },
  {
   "cell_type": "code",
   "execution_count": 1,
   "metadata": {},
   "outputs": [],
   "source": [
    "from utils import *"
   ]
  },
  {
   "cell_type": "code",
   "execution_count": 4,
   "metadata": {},
   "outputs": [],
   "source": [
    "# WIKIMATRIX_BASEPATH = \"/media/nfs/Datasets/text/WikiMatrix/v1\"\n",
    "# all_files = get_all_files_recurse(WIKIMATRIX_BASEPATH)"
   ]
  },
  {
   "cell_type": "code",
   "execution_count": 6,
   "metadata": {
    "scrolled": true
   },
   "outputs": [],
   "source": [
    "# all_files = [ f for f in all_files if 'txt2txt' in f]"
   ]
  },
  {
   "cell_type": "code",
   "execution_count": 8,
   "metadata": {},
   "outputs": [],
   "source": [
    "# import os\n",
    "\n",
    "# for f in all_files:\n",
    "#     os.system('rm {}'.format(f))"
   ]
  },
  {
   "cell_type": "code",
   "execution_count": 2,
   "metadata": {},
   "outputs": [],
   "source": [
    "from preprocess_wikimatrix import *"
   ]
  },
  {
   "cell_type": "code",
   "execution_count": 3,
   "metadata": {
    "scrolled": true
   },
   "outputs": [
    {
     "name": "stdout",
     "output_type": "stream",
     "text": [
      "Error processing file: /media/nfs/Datasets/text/WikiMatrix/v1/WikiMatrix.en-wuu.tsv.gz \n",
      "With error: 'NoneType' object has no attribute 'name'\n",
      "Error processing file: /media/nfs/Datasets/text/WikiMatrix/v1/WikiMatrix.ru-wuu.tsv.gz \n",
      "With error: 'NoneType' object has no attribute 'name'\n",
      "Error processing file: /media/nfs/Datasets/text/WikiMatrix/v1/WikiMatrix.es-gom.tsv.gz \n",
      "With error: 'NoneType' object has no attribute 'name'\n",
      "Error processing file: /media/nfs/Datasets/text/WikiMatrix/v1/WikiMatrix.it-lmo.tsv.gz \n",
      "With error: 'NoneType' object has no attribute 'name'\n",
      "Error processing file: /media/nfs/Datasets/text/WikiMatrix/v1/WikiMatrix.fr-wuu.tsv.gz \n",
      "With error: 'NoneType' object has no attribute 'name'\n",
      "Error processing file: /media/nfs/Datasets/text/WikiMatrix/v1/WikiMatrix.it-wuu.tsv.gz \n",
      "With error: 'NoneType' object has no attribute 'name'\n",
      "Error processing file: /media/nfs/Datasets/text/WikiMatrix/v1/WikiMatrix.en-mwl.tsv.gz \n",
      "With error: 'NoneType' object has no attribute 'name'\n",
      "Error processing file: /media/nfs/Datasets/text/WikiMatrix/v1/WikiMatrix.es-wuu.tsv.gz \n",
      "With error: 'NoneType' object has no attribute 'name'\n",
      "Error processing file: /media/nfs/Datasets/text/WikiMatrix/v1/SMALL/WikiMatrix.da-gom.tsv.gz \n",
      "With error: 'NoneType' object has no attribute 'name'\n",
      "Error processing file: /media/nfs/Datasets/text/WikiMatrix/v1/SMALL/WikiMatrix.cs-wuu.tsv.gz \n",
      "With error: 'NoneType' object has no attribute 'name'\n",
      "Error processing file: /media/nfs/Datasets/text/WikiMatrix/v1/SMALL/WikiMatrix.ca-ilo.tsv.gz \n",
      "With error: 'NoneType' object has no attribute 'name'\n",
      "Error processing file: /media/nfs/Datasets/text/WikiMatrix/v1/SMALL/WikiMatrix.id-lmo.tsv.gz \n",
      "With error: 'NoneType' object has no attribute 'name'\n",
      "Error processing file: /media/nfs/Datasets/text/WikiMatrix/v1/SMALL/WikiMatrix.hr-mwl.tsv.gz \n",
      "With error: 'NoneType' object has no attribute 'name'\n",
      "Error processing file: /media/nfs/Datasets/text/WikiMatrix/v1/WikiMatrix.en-lmo.tsv.gz \n",
      "With error: 'NoneType' object has no attribute 'name'\n",
      "Error processing file: /media/nfs/Datasets/text/WikiMatrix/v1/SMALL/WikiMatrix.hr-wuu.tsv.gz \n",
      "With error: 'NoneType' object has no attribute 'name'\n",
      "Error processing file: /media/nfs/Datasets/text/WikiMatrix/v1/WikiMatrix.fr-gom.tsv.gz \n",
      "With error: 'NoneType' object has no attribute 'name'\n",
      "Error processing file: /media/nfs/Datasets/text/WikiMatrix/v1/SMALL/WikiMatrix.gl-mwl.tsv.gz \n",
      "With error: 'NoneType' object has no attribute 'name'\n",
      "Error processing file: /media/nfs/Datasets/text/WikiMatrix/v1/SMALL/WikiMatrix.da-ilo.tsv.gz \n",
      "With error: 'NoneType' object has no attribute 'name'\n",
      "Error processing file: /media/nfs/Datasets/text/WikiMatrix/v1/WikiMatrix.de-gom.tsv.gz \n",
      "With error: 'NoneType' object has no attribute 'name'\n",
      "Error processing file: /media/nfs/Datasets/text/WikiMatrix/v1/SMALL/WikiMatrix.ar-bpy.tsv.gz \n",
      "With error: 'NoneType' object has no attribute 'name'\n",
      "Error processing file: /media/nfs/Datasets/text/WikiMatrix/v1/SMALL/WikiMatrix.cs-ilo.tsv.gz \n",
      "With error: 'NoneType' object has no attribute 'name'\n",
      "Error processing file: /media/nfs/Datasets/text/WikiMatrix/v1/SMALL/WikiMatrix.cs-lmo.tsv.gz \n",
      "With error: 'NoneType' object has no attribute 'name'\n",
      "Error processing file: /media/nfs/Datasets/text/WikiMatrix/v1/SMALL/WikiMatrix.de-ilo.tsv.gz \n",
      "With error: 'NoneType' object has no attribute 'name'\n",
      "Error processing file: /media/nfs/Datasets/text/WikiMatrix/v1/SMALL/WikiMatrix.de-lmo.tsv.gz \n",
      "With error: 'NoneType' object has no attribute 'name'\n",
      "Error processing file: /media/nfs/Datasets/text/WikiMatrix/v1/SMALL/WikiMatrix.ar-mwl.tsv.gz \n",
      "With error: 'NoneType' object has no attribute 'name'\n",
      "Error processing file: /media/nfs/Datasets/text/WikiMatrix/v1/SMALL/WikiMatrix.el-gom.tsv.gz \n",
      "With error: 'NoneType' object has no attribute 'name'\n",
      "Error processing file: /media/nfs/Datasets/text/WikiMatrix/v1/SMALL/WikiMatrix.el-wuu.tsv.gz \n",
      "With error: 'NoneType' object has no attribute 'name'\n",
      "Error processing file: /media/nfs/Datasets/text/WikiMatrix/v1/SMALL/WikiMatrix.es-mwl.tsv.gz \n",
      "With error: 'NoneType' object has no attribute 'name'\n",
      "Error processing file: /media/nfs/Datasets/text/WikiMatrix/v1/SMALL/WikiMatrix.bg-bpy.tsv.gz \n",
      "With error: 'NoneType' object has no attribute 'name'\n",
      "Error processing file: /media/nfs/Datasets/text/WikiMatrix/v1/SMALL/WikiMatrix.ja-mwl.tsv.gz \n",
      "With error: 'NoneType' object has no attribute 'name'\n",
      "Error processing file: /media/nfs/Datasets/text/WikiMatrix/v1/WikiMatrix.pt-wuu.tsv.gz \n",
      "With error: 'NoneType' object has no attribute 'name'\n",
      "Error processing file: /media/nfs/Datasets/text/WikiMatrix/v1/SMALL/WikiMatrix.el-ilo.tsv.gz \n",
      "With error: 'NoneType' object has no attribute 'name'\n",
      "Error processing file: /media/nfs/Datasets/text/WikiMatrix/v1/SMALL/WikiMatrix.fr-lmo.tsv.gz \n",
      "With error: 'NoneType' object has no attribute 'name'\n",
      "Error processing file: /media/nfs/Datasets/text/WikiMatrix/v1/SMALL/WikiMatrix.fi-gom.tsv.gz \n",
      "With error: 'NoneType' object has no attribute 'name'\n",
      "Error processing file: /media/nfs/Datasets/text/WikiMatrix/v1/SMALL/WikiMatrix.hu-ilo.tsv.gz \n",
      "With error: 'NoneType' object has no attribute 'name'\n",
      "Error processing file: /media/nfs/Datasets/text/WikiMatrix/v1/SMALL/WikiMatrix.fi-lmo.tsv.gz \n",
      "With error: 'NoneType' object has no attribute 'name'\n",
      "Error processing file: /media/nfs/Datasets/text/WikiMatrix/v1/SMALL/WikiMatrix.gl-wuu.tsv.gz \n",
      "With error: 'NoneType' object has no attribute 'name'\n",
      "Error processing file: /media/nfs/Datasets/text/WikiMatrix/v1/SMALL/WikiMatrix.hu-lmo.tsv.gz \n",
      "With error: 'NoneType' object has no attribute 'name'\n",
      "Error processing file: /media/nfs/Datasets/text/WikiMatrix/v1/SMALL/WikiMatrix.da-lmo.tsv.gz \n",
      "With error: 'NoneType' object has no attribute 'name'\n",
      "Error processing file: /media/nfs/Datasets/text/WikiMatrix/v1/SMALL/WikiMatrix.hu-mwl.tsv.gz \n",
      "With error: 'NoneType' object has no attribute 'name'\n",
      "Error processing file: /media/nfs/Datasets/text/WikiMatrix/v1/SMALL/WikiMatrix.gl-lmo.tsv.gz \n",
      "With error: 'NoneType' object has no attribute 'name'\n",
      "Error processing file: /media/nfs/Datasets/text/WikiMatrix/v1/SMALL/WikiMatrix.en-gom.tsv.gz \n",
      "With error: 'NoneType' object has no attribute 'name'\n",
      "Error processing file: /media/nfs/Datasets/text/WikiMatrix/v1/SMALL/WikiMatrix.hi-ilo.tsv.gz \n",
      "With error: 'NoneType' object has no attribute 'name'\n",
      "Error processing file: /media/nfs/Datasets/text/WikiMatrix/v1/SMALL/WikiMatrix.fi-ilo.tsv.gz \n",
      "With error: 'NoneType' object has no attribute 'name'\n",
      "Error processing file: /media/nfs/Datasets/text/WikiMatrix/v1/SMALL/WikiMatrix.it-mwl.tsv.gz \n",
      "With error: 'NoneType' object has no attribute 'name'\n",
      "Error processing file: /media/nfs/Datasets/text/WikiMatrix/v1/SMALL/WikiMatrix.el-mwl.tsv.gz \n",
      "With error: 'NoneType' object has no attribute 'name'\n",
      "Error processing file: /media/nfs/Datasets/text/WikiMatrix/v1/SMALL/WikiMatrix.hr-lmo.tsv.gz \n",
      "With error: 'NoneType' object has no attribute 'name'\n",
      "Error processing file: /media/nfs/Datasets/text/WikiMatrix/v1/SMALL/WikiMatrix.ca-lmo.tsv.gz \n",
      "With error: 'NoneType' object has no attribute 'name'\n",
      "Error processing file: /media/nfs/Datasets/text/WikiMatrix/v1/SMALL/WikiMatrix.hu-wuu.tsv.gz \n",
      "With error: 'NoneType' object has no attribute 'name'\n",
      "Error processing file: /media/nfs/Datasets/text/WikiMatrix/v1/SMALL/WikiMatrix.vi-wuu.tsv.gz \n",
      "With error: 'NoneType' object has no attribute 'name'\n",
      "Error processing file: /media/nfs/Datasets/text/WikiMatrix/v1/SMALL/WikiMatrix.id-ilo.tsv.gz \n",
      "With error: 'NoneType' object has no attribute 'name'\n",
      "Error processing file: /media/nfs/Datasets/text/WikiMatrix/v1/SMALL/WikiMatrix.id-mwl.tsv.gz \n",
      "With error: 'NoneType' object has no attribute 'name'\n",
      "Error processing file: /media/nfs/Datasets/text/WikiMatrix/v1/SMALL/WikiMatrix.q*tsv.gz \n",
      "With error: not enough values to unpack (expected 2, got 1)\n",
      "Error processing file: /media/nfs/Datasets/text/WikiMatrix/v1/SMALL/WikiMatrix.cs-mwl.tsv.gz \n",
      "With error: 'NoneType' object has no attribute 'name'\n",
      "Error processing file: /media/nfs/Datasets/text/WikiMatrix/v1/SMALL/WikiMatrix.bg-ilo.tsv.gz \n",
      "With error: 'NoneType' object has no attribute 'name'\n",
      "Error processing file: /media/nfs/Datasets/text/WikiMatrix/v1/SMALL/WikiMatrix.no-wuu.tsv.gz \n",
      "With error: 'NoneType' object has no attribute 'name'\n",
      "Error processing file: /media/nfs/Datasets/text/WikiMatrix/v1/SMALL/WikiMatrix.ca-mwl.tsv.gz \n",
      "With error: 'NoneType' object has no attribute 'name'\n",
      "Error processing file: /media/nfs/Datasets/text/WikiMatrix/v1/SMALL/WikiMatrix.uk-wuu.tsv.gz \n",
      "With error: 'NoneType' object has no attribute 'name'\n",
      "Error processing file: /media/nfs/Datasets/text/WikiMatrix/v1/SMALL/WikiMatrix.fr-ilo.tsv.gz \n",
      "With error: 'NoneType' object has no attribute 'name'\n",
      "Error processing file: /media/nfs/Datasets/text/WikiMatrix/v1/SMALL/WikiMatrix.ca-gom.tsv.gz \n",
      "With error: 'NoneType' object has no attribute 'name'\n",
      "Error processing file: /media/nfs/Datasets/text/WikiMatrix/v1/SMALL/WikiMatrix.bg-wuu.tsv.gz \n",
      "With error: 'NoneType' object has no attribute 'name'\n",
      "Error processing file: /media/nfs/Datasets/text/WikiMatrix/v1/SMALL/WikiMatrix.es-ilo.tsv.gz \n",
      "With error: 'NoneType' object has no attribute 'name'\n",
      "Error processing file: /media/nfs/Datasets/text/WikiMatrix/v1/SMALL/WikiMatrix.gl-gom.tsv.gz \n",
      "With error: 'NoneType' object has no attribute 'name'\n",
      "Error processing file: /media/nfs/Datasets/text/WikiMatrix/v1/SMALL/WikiMatrix.ro-wuu.tsv.gz \n",
      "With error: 'NoneType' object has no attribute 'name'\n",
      "Error processing file: /media/nfs/Datasets/text/WikiMatrix/v1/SMALL/WikiMatrix.he-wuu.tsv.gz \n",
      "With error: 'NoneType' object has no attribute 'name'\n",
      "Error processing file: /media/nfs/Datasets/text/WikiMatrix/v1/SMALL/WikiMatrix.de-mwl.tsv.gz \n",
      "With error: 'NoneType' object has no attribute 'name'\n",
      "Error processing file: /media/nfs/Datasets/text/WikiMatrix/v1/SMALL/WikiMatrix.en-ilo.tsv.gz \n",
      "With error: 'NoneType' object has no attribute 'name'\n",
      "Error processing file: /media/nfs/Datasets/text/WikiMatrix/v1/SMALL/WikiMatrix.bg-lmo.tsv.gz \n",
      "With error: 'NoneType' object has no attribute 'name'\n",
      "Error processing file: /media/nfs/Datasets/text/WikiMatrix/v1/SMALL/WikiMatrix.gl-ilo.tsv.gz \n",
      "With error: 'NoneType' object has no attribute 'name'\n",
      "Error processing file: /media/nfs/Datasets/text/WikiMatrix/v1/SMALL/WikiMatrix.id-wuu.tsv.gz \n",
      "With error: 'NoneType' object has no attribute 'name'\n",
      "Error processing file: /media/nfs/Datasets/text/WikiMatrix/v1/SMALL/WikiMatrix.fi-mwl.tsv.gz \n",
      "With error: 'NoneType' object has no attribute 'name'\n",
      "Error processing file: /media/nfs/Datasets/text/WikiMatrix/v1/SMALL/WikiMatrix.ja-lmo.tsv.gz \n",
      "With error: 'NoneType' object has no attribute 'name'\n",
      "Error processing file: /media/nfs/Datasets/text/WikiMatrix/v1/SMALL/WikiMatrix.ar-ckb.tsv.gz \n",
      "With error: 'NoneType' object has no attribute 'name'\n",
      "Error processing file: /media/nfs/Datasets/text/WikiMatrix/v1/SMALL/WikiMatrix.ar-ilo.tsv.gz \n",
      "With error: 'NoneType' object has no attribute 'name'\n",
      "Error processing file: /media/nfs/Datasets/text/WikiMatrix/v1/SMALL/WikiMatrix.he-ilo.tsv.gz \n",
      "With error: 'NoneType' object has no attribute 'name'\n",
      "Error processing file: /media/nfs/Datasets/text/WikiMatrix/v1/SMALL/WikiMatrix.hi-mwl.tsv.gz \n",
      "With error: 'NoneType' object has no attribute 'name'\n",
      "Error processing file: /media/nfs/Datasets/text/WikiMatrix/v1/SMALL/WikiMatrix.fr-mwl.tsv.gz \n",
      "With error: 'NoneType' object has no attribute 'name'\n",
      "Error processing file: /media/nfs/Datasets/text/WikiMatrix/v1/SMALL/WikiMatrix.bg-ckb.tsv.gz \n",
      "With error: 'NoneType' object has no attribute 'name'\n",
      "Error processing file: /media/nfs/Datasets/text/WikiMatrix/v1/SMALL/WikiMatrix.ca-wuu.tsv.gz \n",
      "With error: 'NoneType' object has no attribute 'name'\n",
      "Error processing file: /media/nfs/Datasets/text/WikiMatrix/v1/SMALL/WikiMatrix.ar-lmo.tsv.gz \n",
      "With error: 'NoneType' object has no attribute 'name'\n",
      "Error processing file: /media/nfs/Datasets/text/WikiMatrix/v1/SMALL/WikiMatrix.he-mwl.tsv.gz \n",
      "With error: 'NoneType' object has no attribute 'name'\n",
      "Error processing file: /media/nfs/Datasets/text/WikiMatrix/v1/SMALL/WikiMatrix.ja-wuu.tsv.gz \n",
      "With error: 'NoneType' object has no attribute 'name'\n",
      "Error processing file: /media/nfs/Datasets/text/WikiMatrix/v1/SMALL/WikiMatrix.he-lmo.tsv.gz \n",
      "With error: 'NoneType' object has no attribute 'name'\n",
      "Error processing file: /media/nfs/Datasets/text/WikiMatrix/v1/SMALL/WikiMatrix.hr-ilo.tsv.gz \n",
      "With error: 'NoneType' object has no attribute 'name'\n",
      "Error processing file: /media/nfs/Datasets/text/WikiMatrix/v1/SMALL/WikiMatrix.da-wuu.tsv.gz \n",
      "With error: 'NoneType' object has no attribute 'name'\n",
      "Error processing file: /media/nfs/Datasets/text/WikiMatrix/v1/WikiMatrix.de-wuu.tsv.gz \n",
      "With error: 'NoneType' object has no attribute 'name'\n",
      "Error processing file: /media/nfs/Datasets/text/WikiMatrix/v1/SMALL/WikiMatrix.ca-ckb.tsv.gz \n",
      "With error: 'NoneType' object has no attribute 'name'\n",
      "Error processing file: /media/nfs/Datasets/text/WikiMatrix/v1/SMALL/WikiMatrix.sv-wuu.tsv.gz \n",
      "With error: 'NoneType' object has no attribute 'name'\n",
      "Error processing file: /media/nfs/Datasets/text/WikiMatrix/v1/SMALL/WikiMatrix.ar-gom.tsv.gz \n",
      "With error: 'NoneType' object has no attribute 'name'\n",
      "Error processing file: /media/nfs/Datasets/text/WikiMatrix/v1/SMALL/WikiMatrix.pl-wuu.tsv.gz \n",
      "With error: 'NoneType' object has no attribute 'name'\n",
      "Error processing file: /media/nfs/Datasets/text/WikiMatrix/v1/SMALL/WikiMatrix.ar-wuu.tsv.gz \n",
      "With error: 'NoneType' object has no attribute 'name'\n",
      "Error processing file: /media/nfs/Datasets/text/WikiMatrix/v1/SMALL/WikiMatrix.hi-wuu.tsv.gz \n",
      "With error: 'NoneType' object has no attribute 'name'\n",
      "Error processing file: /media/nfs/Datasets/text/WikiMatrix/v1/SMALL/WikiMatrix.hi-lmo.tsv.gz \n",
      "With error: 'NoneType' object has no attribute 'name'\n",
      "Error processing file: /media/nfs/Datasets/text/WikiMatrix/v1/SMALL/WikiMatrix.el-lmo.tsv.gz \n",
      "With error: 'NoneType' object has no attribute 'name'\n",
      "Error processing file: /media/nfs/Datasets/text/WikiMatrix/v1/SMALL/WikiMatrix.tr-wuu.tsv.gz \n",
      "With error: 'NoneType' object has no attribute 'name'\n",
      "Error processing file: /media/nfs/Datasets/text/WikiMatrix/v1/SMALL/WikiMatrix.nl-wuu.tsv.gz \n",
      "With error: 'NoneType' object has no attribute 'name'\n",
      "Error processing file: /media/nfs/Datasets/text/WikiMatrix/v1/SMALL/WikiMatrix.cs-gom.tsv.gz \n",
      "With error: 'NoneType' object has no attribute 'name'\n",
      "Error processing file: /media/nfs/Datasets/text/WikiMatrix/v1/SMALL/WikiMatrix.bg-mwl.tsv.gz \n",
      "With error: 'NoneType' object has no attribute 'name'\n",
      "Error processing file: /media/nfs/Datasets/text/WikiMatrix/v1/SMALL/WikiMatrix.da-mwl.tsv.gz \n",
      "With error: 'NoneType' object has no attribute 'name'\n",
      "Error processing file: /media/nfs/Datasets/text/WikiMatrix/v1/SMALL/WikiMatrix.fi-wuu.tsv.gz \n",
      "With error: 'NoneType' object has no attribute 'name'\n",
      "Error processing file: /media/nfs/Datasets/text/WikiMatrix/v1/SMALL/WikiMatrix.bg-gom.tsv.gz \n",
      "With error: 'NoneType' object has no attribute 'name'\n",
      "Error processing file: /media/nfs/Datasets/text/WikiMatrix/v1/SMALL/WikiMatrix.es-lmo.tsv.gz \n",
      "With error: 'NoneType' object has no attribute 'name'\n",
      "CPU times: user 758 ms, sys: 389 ms, total: 1.15 s\n",
      "Wall time: 24min 58s\n"
     ]
    }
   ],
   "source": [
    "%%time\n",
    "wikimedia_process()"
   ]
  },
  {
   "cell_type": "code",
   "execution_count": 10,
   "metadata": {},
   "outputs": [
    {
     "data": {
      "text/plain": [
       "3545"
      ]
     },
     "execution_count": 10,
     "metadata": {},
     "output_type": "execute_result"
    }
   ],
   "source": [
    "sum([1620, 1925])  # 1620 are the complete files, 1925 are the files in the SMALL dataset"
   ]
  },
  {
   "cell_type": "code",
   "execution_count": 11,
   "metadata": {},
   "outputs": [],
   "source": [
    "# WIKIMATRIX_BASEPATH = \"/media/nfs/Datasets/text/WikiMatrix/v1\"\n",
    "\n",
    "# allfiles = get_all_files_recurse(WIKIMATRIX_BASEPATH)"
   ]
  },
  {
   "cell_type": "code",
   "execution_count": 12,
   "metadata": {},
   "outputs": [],
   "source": [
    "# t2t = [f for f in allfiles if 'txt2txt' in f]"
   ]
  },
  {
   "cell_type": "code",
   "execution_count": 13,
   "metadata": {},
   "outputs": [],
   "source": [
    "# len(t2t)"
   ]
  },
  {
   "cell_type": "markdown",
   "metadata": {},
   "source": [
    "3545 files processed and 3545 files existing, everything seems OK."
   ]
  },
  {
   "cell_type": "markdown",
   "metadata": {},
   "source": [
    "# Data preparation by length and task\n",
    "\n",
    "This part checks some things that should work"
   ]
  },
  {
   "cell_type": "code",
   "execution_count": 8,
   "metadata": {},
   "outputs": [],
   "source": [
    "from prepare_data import *"
   ]
  },
  {
   "cell_type": "code",
   "execution_count": 15,
   "metadata": {},
   "outputs": [],
   "source": [
    "tfile = '/home/leo/projects/Datasets/text/SuperGLUE/CB/val-txt2txt.json'\n",
    "fname = '/media/nfs/Datasets/text/WikiMatrix/v1/SMALL/WikiMatrix.ja-su-txt2txt.json.gz'"
   ]
  },
  {
   "cell_type": "code",
   "execution_count": 9,
   "metadata": {},
   "outputs": [
    {
     "name": "stdout",
     "output_type": "stream",
     "text": [
      "CPU times: user 434 ms, sys: 127 ms, total: 562 ms\n",
      "Wall time: 14min 23s\n"
     ]
    }
   ],
   "source": [
    "%%time\n",
    "process()"
   ]
  },
  {
   "cell_type": "code",
   "execution_count": 10,
   "metadata": {},
   "outputs": [],
   "source": [
    "# separate_by_strlen(fname)"
   ]
  },
  {
   "cell_type": "code",
   "execution_count": 11,
   "metadata": {},
   "outputs": [
    {
     "name": "stdout",
     "output_type": "stream",
     "text": [
      "Preparing 10109 files of max_len 512\n",
      "CPU times: user 836 ms, sys: 1.13 s, total: 1.96 s\n",
      "Wall time: 35.2 s\n"
     ]
    }
   ],
   "source": [
    "%%time\n",
    "prepare_select_all()"
   ]
  },
  {
   "cell_type": "code",
   "execution_count": 12,
   "metadata": {},
   "outputs": [
    {
     "name": "stdout",
     "output_type": "stream",
     "text": [
      "CPU times: user 32min 59s, sys: 48.2 s, total: 33min 47s\n",
      "Wall time: 33min 47s\n"
     ]
    }
   ],
   "source": [
    "%%time\n",
    "prepare_lm_data_wikimatrix()"
   ]
  },
  {
   "cell_type": "code",
   "execution_count": 14,
   "metadata": {},
   "outputs": [
    {
     "name": "stdout",
     "output_type": "stream",
     "text": [
      "CPU times: user 12min 20s, sys: 58.7 s, total: 13min 19s\n",
      "Wall time: 13min 20s\n"
     ]
    }
   ],
   "source": [
    "%%time\n",
    "# OUTPUT_FNAME = '/home/leo/projects/Datasets/text/train_selected_monofile/monofile.txt'\n",
    "OUTPUT_FNAME = '/home/leo/projects/Datasets/text/train_selected_monofile/monofile_2.txt'\n",
    "\n",
    "json2lines(separator='\\t', ofile=OUTPUT_FNAME)"
   ]
  },
  {
   "cell_type": "markdown",
   "metadata": {},
   "source": [
    "the output file of this is 273M samples (lines)\n",
    "\n",
    "    wc -l \n",
    "    273332515 monofile_2.txt\n"
   ]
  },
  {
   "cell_type": "code",
   "execution_count": 15,
   "metadata": {},
   "outputs": [
    {
     "data": {
      "text/plain": [
       "1000000.0"
      ]
     },
     "execution_count": 15,
     "metadata": {},
     "output_type": "execute_result"
    }
   ],
   "source": [
    "1e6"
   ]
  },
  {
   "cell_type": "code",
   "execution_count": 24,
   "metadata": {},
   "outputs": [],
   "source": [
    "model_vocab_sizes = [32000, 64000, 96000, 128000]\n",
    "model_prefixes = ['all_34G_32k', 'all_34G_64k', 'all_34G_96k', 'all_34G_128k']\n",
    "model_types = ['unigram', 'bpe', 'word', 'char']\n",
    "input_sentence_size = [1e6, 1e7, 273332515]\n",
    "\n",
    "cmd = \"spm_train --input={} --vocab_size={} --input_format=tsv --model_prefix={} --model_type={} --character_coverage=0.9995\"\n",
    "cmd2 = \"spm_train --input={} --input_sentence_size={} --vocab_size={} --input_format=tsv --model_prefix={} --model_type={} --character_coverage=0.9995 --shuffle_input_sentence\"\n",
    "\n",
    "commands = []\n",
    "commands2 = []\n",
    "file = OUTPUT_FNAME\n",
    "for vs in model_vocab_sizes:\n",
    "    for t in model_types:\n",
    "        for pref in model_prefixes:\n",
    "            for ss in input_sentence_size:\n",
    "                prefix = '-'.join((t,pref))\n",
    "                c = cmd.format(file, vs, prefix,t )\n",
    "                commands.append(c)\n",
    "                c2 = cmd2.format(file, int(ss), vs, prefix,t )\n",
    "                commands2.append(c2)\n"
   ]
  },
  {
   "cell_type": "code",
   "execution_count": 25,
   "metadata": {
    "scrolled": true
   },
   "outputs": [
    {
     "data": {
      "text/plain": [
       "['spm_train --input=/home/leo/projects/Datasets/text/train_selected_monofile/monofile_2.txt --vocab_size=32000 --input_format=tsv --model_prefix=unigram-all_34G_32k --model_type=unigram --character_coverage=0.9995',\n",
       " 'spm_train --input=/home/leo/projects/Datasets/text/train_selected_monofile/monofile_2.txt --vocab_size=32000 --input_format=tsv --model_prefix=unigram-all_34G_32k --model_type=unigram --character_coverage=0.9995',\n",
       " 'spm_train --input=/home/leo/projects/Datasets/text/train_selected_monofile/monofile_2.txt --vocab_size=32000 --input_format=tsv --model_prefix=unigram-all_34G_32k --model_type=unigram --character_coverage=0.9995',\n",
       " 'spm_train --input=/home/leo/projects/Datasets/text/train_selected_monofile/monofile_2.txt --vocab_size=32000 --input_format=tsv --model_prefix=unigram-all_34G_64k --model_type=unigram --character_coverage=0.9995',\n",
       " 'spm_train --input=/home/leo/projects/Datasets/text/train_selected_monofile/monofile_2.txt --vocab_size=32000 --input_format=tsv --model_prefix=unigram-all_34G_64k --model_type=unigram --character_coverage=0.9995',\n",
       " 'spm_train --input=/home/leo/projects/Datasets/text/train_selected_monofile/monofile_2.txt --vocab_size=32000 --input_format=tsv --model_prefix=unigram-all_34G_64k --model_type=unigram --character_coverage=0.9995',\n",
       " 'spm_train --input=/home/leo/projects/Datasets/text/train_selected_monofile/monofile_2.txt --vocab_size=32000 --input_format=tsv --model_prefix=unigram-all_34G_96k --model_type=unigram --character_coverage=0.9995',\n",
       " 'spm_train --input=/home/leo/projects/Datasets/text/train_selected_monofile/monofile_2.txt --vocab_size=32000 --input_format=tsv --model_prefix=unigram-all_34G_96k --model_type=unigram --character_coverage=0.9995',\n",
       " 'spm_train --input=/home/leo/projects/Datasets/text/train_selected_monofile/monofile_2.txt --vocab_size=32000 --input_format=tsv --model_prefix=unigram-all_34G_96k --model_type=unigram --character_coverage=0.9995',\n",
       " 'spm_train --input=/home/leo/projects/Datasets/text/train_selected_monofile/monofile_2.txt --vocab_size=32000 --input_format=tsv --model_prefix=unigram-all_34G_128k --model_type=unigram --character_coverage=0.9995',\n",
       " 'spm_train --input=/home/leo/projects/Datasets/text/train_selected_monofile/monofile_2.txt --vocab_size=32000 --input_format=tsv --model_prefix=unigram-all_34G_128k --model_type=unigram --character_coverage=0.9995',\n",
       " 'spm_train --input=/home/leo/projects/Datasets/text/train_selected_monofile/monofile_2.txt --vocab_size=32000 --input_format=tsv --model_prefix=unigram-all_34G_128k --model_type=unigram --character_coverage=0.9995',\n",
       " 'spm_train --input=/home/leo/projects/Datasets/text/train_selected_monofile/monofile_2.txt --vocab_size=32000 --input_format=tsv --model_prefix=bpe-all_34G_32k --model_type=bpe --character_coverage=0.9995',\n",
       " 'spm_train --input=/home/leo/projects/Datasets/text/train_selected_monofile/monofile_2.txt --vocab_size=32000 --input_format=tsv --model_prefix=bpe-all_34G_32k --model_type=bpe --character_coverage=0.9995',\n",
       " 'spm_train --input=/home/leo/projects/Datasets/text/train_selected_monofile/monofile_2.txt --vocab_size=32000 --input_format=tsv --model_prefix=bpe-all_34G_32k --model_type=bpe --character_coverage=0.9995',\n",
       " 'spm_train --input=/home/leo/projects/Datasets/text/train_selected_monofile/monofile_2.txt --vocab_size=32000 --input_format=tsv --model_prefix=bpe-all_34G_64k --model_type=bpe --character_coverage=0.9995',\n",
       " 'spm_train --input=/home/leo/projects/Datasets/text/train_selected_monofile/monofile_2.txt --vocab_size=32000 --input_format=tsv --model_prefix=bpe-all_34G_64k --model_type=bpe --character_coverage=0.9995',\n",
       " 'spm_train --input=/home/leo/projects/Datasets/text/train_selected_monofile/monofile_2.txt --vocab_size=32000 --input_format=tsv --model_prefix=bpe-all_34G_64k --model_type=bpe --character_coverage=0.9995',\n",
       " 'spm_train --input=/home/leo/projects/Datasets/text/train_selected_monofile/monofile_2.txt --vocab_size=32000 --input_format=tsv --model_prefix=bpe-all_34G_96k --model_type=bpe --character_coverage=0.9995',\n",
       " 'spm_train --input=/home/leo/projects/Datasets/text/train_selected_monofile/monofile_2.txt --vocab_size=32000 --input_format=tsv --model_prefix=bpe-all_34G_96k --model_type=bpe --character_coverage=0.9995',\n",
       " 'spm_train --input=/home/leo/projects/Datasets/text/train_selected_monofile/monofile_2.txt --vocab_size=32000 --input_format=tsv --model_prefix=bpe-all_34G_96k --model_type=bpe --character_coverage=0.9995',\n",
       " 'spm_train --input=/home/leo/projects/Datasets/text/train_selected_monofile/monofile_2.txt --vocab_size=32000 --input_format=tsv --model_prefix=bpe-all_34G_128k --model_type=bpe --character_coverage=0.9995',\n",
       " 'spm_train --input=/home/leo/projects/Datasets/text/train_selected_monofile/monofile_2.txt --vocab_size=32000 --input_format=tsv --model_prefix=bpe-all_34G_128k --model_type=bpe --character_coverage=0.9995',\n",
       " 'spm_train --input=/home/leo/projects/Datasets/text/train_selected_monofile/monofile_2.txt --vocab_size=32000 --input_format=tsv --model_prefix=bpe-all_34G_128k --model_type=bpe --character_coverage=0.9995',\n",
       " 'spm_train --input=/home/leo/projects/Datasets/text/train_selected_monofile/monofile_2.txt --vocab_size=32000 --input_format=tsv --model_prefix=word-all_34G_32k --model_type=word --character_coverage=0.9995',\n",
       " 'spm_train --input=/home/leo/projects/Datasets/text/train_selected_monofile/monofile_2.txt --vocab_size=32000 --input_format=tsv --model_prefix=word-all_34G_32k --model_type=word --character_coverage=0.9995',\n",
       " 'spm_train --input=/home/leo/projects/Datasets/text/train_selected_monofile/monofile_2.txt --vocab_size=32000 --input_format=tsv --model_prefix=word-all_34G_32k --model_type=word --character_coverage=0.9995',\n",
       " 'spm_train --input=/home/leo/projects/Datasets/text/train_selected_monofile/monofile_2.txt --vocab_size=32000 --input_format=tsv --model_prefix=word-all_34G_64k --model_type=word --character_coverage=0.9995',\n",
       " 'spm_train --input=/home/leo/projects/Datasets/text/train_selected_monofile/monofile_2.txt --vocab_size=32000 --input_format=tsv --model_prefix=word-all_34G_64k --model_type=word --character_coverage=0.9995',\n",
       " 'spm_train --input=/home/leo/projects/Datasets/text/train_selected_monofile/monofile_2.txt --vocab_size=32000 --input_format=tsv --model_prefix=word-all_34G_64k --model_type=word --character_coverage=0.9995',\n",
       " 'spm_train --input=/home/leo/projects/Datasets/text/train_selected_monofile/monofile_2.txt --vocab_size=32000 --input_format=tsv --model_prefix=word-all_34G_96k --model_type=word --character_coverage=0.9995',\n",
       " 'spm_train --input=/home/leo/projects/Datasets/text/train_selected_monofile/monofile_2.txt --vocab_size=32000 --input_format=tsv --model_prefix=word-all_34G_96k --model_type=word --character_coverage=0.9995',\n",
       " 'spm_train --input=/home/leo/projects/Datasets/text/train_selected_monofile/monofile_2.txt --vocab_size=32000 --input_format=tsv --model_prefix=word-all_34G_96k --model_type=word --character_coverage=0.9995',\n",
       " 'spm_train --input=/home/leo/projects/Datasets/text/train_selected_monofile/monofile_2.txt --vocab_size=32000 --input_format=tsv --model_prefix=word-all_34G_128k --model_type=word --character_coverage=0.9995',\n",
       " 'spm_train --input=/home/leo/projects/Datasets/text/train_selected_monofile/monofile_2.txt --vocab_size=32000 --input_format=tsv --model_prefix=word-all_34G_128k --model_type=word --character_coverage=0.9995',\n",
       " 'spm_train --input=/home/leo/projects/Datasets/text/train_selected_monofile/monofile_2.txt --vocab_size=32000 --input_format=tsv --model_prefix=word-all_34G_128k --model_type=word --character_coverage=0.9995',\n",
       " 'spm_train --input=/home/leo/projects/Datasets/text/train_selected_monofile/monofile_2.txt --vocab_size=32000 --input_format=tsv --model_prefix=char-all_34G_32k --model_type=char --character_coverage=0.9995',\n",
       " 'spm_train --input=/home/leo/projects/Datasets/text/train_selected_monofile/monofile_2.txt --vocab_size=32000 --input_format=tsv --model_prefix=char-all_34G_32k --model_type=char --character_coverage=0.9995',\n",
       " 'spm_train --input=/home/leo/projects/Datasets/text/train_selected_monofile/monofile_2.txt --vocab_size=32000 --input_format=tsv --model_prefix=char-all_34G_32k --model_type=char --character_coverage=0.9995',\n",
       " 'spm_train --input=/home/leo/projects/Datasets/text/train_selected_monofile/monofile_2.txt --vocab_size=32000 --input_format=tsv --model_prefix=char-all_34G_64k --model_type=char --character_coverage=0.9995',\n",
       " 'spm_train --input=/home/leo/projects/Datasets/text/train_selected_monofile/monofile_2.txt --vocab_size=32000 --input_format=tsv --model_prefix=char-all_34G_64k --model_type=char --character_coverage=0.9995',\n",
       " 'spm_train --input=/home/leo/projects/Datasets/text/train_selected_monofile/monofile_2.txt --vocab_size=32000 --input_format=tsv --model_prefix=char-all_34G_64k --model_type=char --character_coverage=0.9995',\n",
       " 'spm_train --input=/home/leo/projects/Datasets/text/train_selected_monofile/monofile_2.txt --vocab_size=32000 --input_format=tsv --model_prefix=char-all_34G_96k --model_type=char --character_coverage=0.9995',\n",
       " 'spm_train --input=/home/leo/projects/Datasets/text/train_selected_monofile/monofile_2.txt --vocab_size=32000 --input_format=tsv --model_prefix=char-all_34G_96k --model_type=char --character_coverage=0.9995',\n",
       " 'spm_train --input=/home/leo/projects/Datasets/text/train_selected_monofile/monofile_2.txt --vocab_size=32000 --input_format=tsv --model_prefix=char-all_34G_96k --model_type=char --character_coverage=0.9995',\n",
       " 'spm_train --input=/home/leo/projects/Datasets/text/train_selected_monofile/monofile_2.txt --vocab_size=32000 --input_format=tsv --model_prefix=char-all_34G_128k --model_type=char --character_coverage=0.9995',\n",
       " 'spm_train --input=/home/leo/projects/Datasets/text/train_selected_monofile/monofile_2.txt --vocab_size=32000 --input_format=tsv --model_prefix=char-all_34G_128k --model_type=char --character_coverage=0.9995',\n",
       " 'spm_train --input=/home/leo/projects/Datasets/text/train_selected_monofile/monofile_2.txt --vocab_size=32000 --input_format=tsv --model_prefix=char-all_34G_128k --model_type=char --character_coverage=0.9995',\n",
       " 'spm_train --input=/home/leo/projects/Datasets/text/train_selected_monofile/monofile_2.txt --vocab_size=64000 --input_format=tsv --model_prefix=unigram-all_34G_32k --model_type=unigram --character_coverage=0.9995',\n",
       " 'spm_train --input=/home/leo/projects/Datasets/text/train_selected_monofile/monofile_2.txt --vocab_size=64000 --input_format=tsv --model_prefix=unigram-all_34G_32k --model_type=unigram --character_coverage=0.9995',\n",
       " 'spm_train --input=/home/leo/projects/Datasets/text/train_selected_monofile/monofile_2.txt --vocab_size=64000 --input_format=tsv --model_prefix=unigram-all_34G_32k --model_type=unigram --character_coverage=0.9995',\n",
       " 'spm_train --input=/home/leo/projects/Datasets/text/train_selected_monofile/monofile_2.txt --vocab_size=64000 --input_format=tsv --model_prefix=unigram-all_34G_64k --model_type=unigram --character_coverage=0.9995',\n",
       " 'spm_train --input=/home/leo/projects/Datasets/text/train_selected_monofile/monofile_2.txt --vocab_size=64000 --input_format=tsv --model_prefix=unigram-all_34G_64k --model_type=unigram --character_coverage=0.9995',\n",
       " 'spm_train --input=/home/leo/projects/Datasets/text/train_selected_monofile/monofile_2.txt --vocab_size=64000 --input_format=tsv --model_prefix=unigram-all_34G_64k --model_type=unigram --character_coverage=0.9995',\n",
       " 'spm_train --input=/home/leo/projects/Datasets/text/train_selected_monofile/monofile_2.txt --vocab_size=64000 --input_format=tsv --model_prefix=unigram-all_34G_96k --model_type=unigram --character_coverage=0.9995',\n",
       " 'spm_train --input=/home/leo/projects/Datasets/text/train_selected_monofile/monofile_2.txt --vocab_size=64000 --input_format=tsv --model_prefix=unigram-all_34G_96k --model_type=unigram --character_coverage=0.9995',\n",
       " 'spm_train --input=/home/leo/projects/Datasets/text/train_selected_monofile/monofile_2.txt --vocab_size=64000 --input_format=tsv --model_prefix=unigram-all_34G_96k --model_type=unigram --character_coverage=0.9995',\n",
       " 'spm_train --input=/home/leo/projects/Datasets/text/train_selected_monofile/monofile_2.txt --vocab_size=64000 --input_format=tsv --model_prefix=unigram-all_34G_128k --model_type=unigram --character_coverage=0.9995',\n",
       " 'spm_train --input=/home/leo/projects/Datasets/text/train_selected_monofile/monofile_2.txt --vocab_size=64000 --input_format=tsv --model_prefix=unigram-all_34G_128k --model_type=unigram --character_coverage=0.9995',\n",
       " 'spm_train --input=/home/leo/projects/Datasets/text/train_selected_monofile/monofile_2.txt --vocab_size=64000 --input_format=tsv --model_prefix=unigram-all_34G_128k --model_type=unigram --character_coverage=0.9995',\n",
       " 'spm_train --input=/home/leo/projects/Datasets/text/train_selected_monofile/monofile_2.txt --vocab_size=64000 --input_format=tsv --model_prefix=bpe-all_34G_32k --model_type=bpe --character_coverage=0.9995',\n",
       " 'spm_train --input=/home/leo/projects/Datasets/text/train_selected_monofile/monofile_2.txt --vocab_size=64000 --input_format=tsv --model_prefix=bpe-all_34G_32k --model_type=bpe --character_coverage=0.9995',\n",
       " 'spm_train --input=/home/leo/projects/Datasets/text/train_selected_monofile/monofile_2.txt --vocab_size=64000 --input_format=tsv --model_prefix=bpe-all_34G_32k --model_type=bpe --character_coverage=0.9995',\n",
       " 'spm_train --input=/home/leo/projects/Datasets/text/train_selected_monofile/monofile_2.txt --vocab_size=64000 --input_format=tsv --model_prefix=bpe-all_34G_64k --model_type=bpe --character_coverage=0.9995',\n",
       " 'spm_train --input=/home/leo/projects/Datasets/text/train_selected_monofile/monofile_2.txt --vocab_size=64000 --input_format=tsv --model_prefix=bpe-all_34G_64k --model_type=bpe --character_coverage=0.9995',\n",
       " 'spm_train --input=/home/leo/projects/Datasets/text/train_selected_monofile/monofile_2.txt --vocab_size=64000 --input_format=tsv --model_prefix=bpe-all_34G_64k --model_type=bpe --character_coverage=0.9995',\n",
       " 'spm_train --input=/home/leo/projects/Datasets/text/train_selected_monofile/monofile_2.txt --vocab_size=64000 --input_format=tsv --model_prefix=bpe-all_34G_96k --model_type=bpe --character_coverage=0.9995',\n",
       " 'spm_train --input=/home/leo/projects/Datasets/text/train_selected_monofile/monofile_2.txt --vocab_size=64000 --input_format=tsv --model_prefix=bpe-all_34G_96k --model_type=bpe --character_coverage=0.9995',\n",
       " 'spm_train --input=/home/leo/projects/Datasets/text/train_selected_monofile/monofile_2.txt --vocab_size=64000 --input_format=tsv --model_prefix=bpe-all_34G_96k --model_type=bpe --character_coverage=0.9995',\n",
       " 'spm_train --input=/home/leo/projects/Datasets/text/train_selected_monofile/monofile_2.txt --vocab_size=64000 --input_format=tsv --model_prefix=bpe-all_34G_128k --model_type=bpe --character_coverage=0.9995',\n",
       " 'spm_train --input=/home/leo/projects/Datasets/text/train_selected_monofile/monofile_2.txt --vocab_size=64000 --input_format=tsv --model_prefix=bpe-all_34G_128k --model_type=bpe --character_coverage=0.9995',\n",
       " 'spm_train --input=/home/leo/projects/Datasets/text/train_selected_monofile/monofile_2.txt --vocab_size=64000 --input_format=tsv --model_prefix=bpe-all_34G_128k --model_type=bpe --character_coverage=0.9995',\n",
       " 'spm_train --input=/home/leo/projects/Datasets/text/train_selected_monofile/monofile_2.txt --vocab_size=64000 --input_format=tsv --model_prefix=word-all_34G_32k --model_type=word --character_coverage=0.9995',\n",
       " 'spm_train --input=/home/leo/projects/Datasets/text/train_selected_monofile/monofile_2.txt --vocab_size=64000 --input_format=tsv --model_prefix=word-all_34G_32k --model_type=word --character_coverage=0.9995',\n",
       " 'spm_train --input=/home/leo/projects/Datasets/text/train_selected_monofile/monofile_2.txt --vocab_size=64000 --input_format=tsv --model_prefix=word-all_34G_32k --model_type=word --character_coverage=0.9995',\n",
       " 'spm_train --input=/home/leo/projects/Datasets/text/train_selected_monofile/monofile_2.txt --vocab_size=64000 --input_format=tsv --model_prefix=word-all_34G_64k --model_type=word --character_coverage=0.9995',\n",
       " 'spm_train --input=/home/leo/projects/Datasets/text/train_selected_monofile/monofile_2.txt --vocab_size=64000 --input_format=tsv --model_prefix=word-all_34G_64k --model_type=word --character_coverage=0.9995',\n",
       " 'spm_train --input=/home/leo/projects/Datasets/text/train_selected_monofile/monofile_2.txt --vocab_size=64000 --input_format=tsv --model_prefix=word-all_34G_64k --model_type=word --character_coverage=0.9995',\n",
       " 'spm_train --input=/home/leo/projects/Datasets/text/train_selected_monofile/monofile_2.txt --vocab_size=64000 --input_format=tsv --model_prefix=word-all_34G_96k --model_type=word --character_coverage=0.9995',\n",
       " 'spm_train --input=/home/leo/projects/Datasets/text/train_selected_monofile/monofile_2.txt --vocab_size=64000 --input_format=tsv --model_prefix=word-all_34G_96k --model_type=word --character_coverage=0.9995',\n",
       " 'spm_train --input=/home/leo/projects/Datasets/text/train_selected_monofile/monofile_2.txt --vocab_size=64000 --input_format=tsv --model_prefix=word-all_34G_96k --model_type=word --character_coverage=0.9995',\n",
       " 'spm_train --input=/home/leo/projects/Datasets/text/train_selected_monofile/monofile_2.txt --vocab_size=64000 --input_format=tsv --model_prefix=word-all_34G_128k --model_type=word --character_coverage=0.9995',\n",
       " 'spm_train --input=/home/leo/projects/Datasets/text/train_selected_monofile/monofile_2.txt --vocab_size=64000 --input_format=tsv --model_prefix=word-all_34G_128k --model_type=word --character_coverage=0.9995',\n",
       " 'spm_train --input=/home/leo/projects/Datasets/text/train_selected_monofile/monofile_2.txt --vocab_size=64000 --input_format=tsv --model_prefix=word-all_34G_128k --model_type=word --character_coverage=0.9995',\n",
       " 'spm_train --input=/home/leo/projects/Datasets/text/train_selected_monofile/monofile_2.txt --vocab_size=64000 --input_format=tsv --model_prefix=char-all_34G_32k --model_type=char --character_coverage=0.9995',\n",
       " 'spm_train --input=/home/leo/projects/Datasets/text/train_selected_monofile/monofile_2.txt --vocab_size=64000 --input_format=tsv --model_prefix=char-all_34G_32k --model_type=char --character_coverage=0.9995',\n",
       " 'spm_train --input=/home/leo/projects/Datasets/text/train_selected_monofile/monofile_2.txt --vocab_size=64000 --input_format=tsv --model_prefix=char-all_34G_32k --model_type=char --character_coverage=0.9995',\n",
       " 'spm_train --input=/home/leo/projects/Datasets/text/train_selected_monofile/monofile_2.txt --vocab_size=64000 --input_format=tsv --model_prefix=char-all_34G_64k --model_type=char --character_coverage=0.9995',\n",
       " 'spm_train --input=/home/leo/projects/Datasets/text/train_selected_monofile/monofile_2.txt --vocab_size=64000 --input_format=tsv --model_prefix=char-all_34G_64k --model_type=char --character_coverage=0.9995',\n",
       " 'spm_train --input=/home/leo/projects/Datasets/text/train_selected_monofile/monofile_2.txt --vocab_size=64000 --input_format=tsv --model_prefix=char-all_34G_64k --model_type=char --character_coverage=0.9995',\n",
       " 'spm_train --input=/home/leo/projects/Datasets/text/train_selected_monofile/monofile_2.txt --vocab_size=64000 --input_format=tsv --model_prefix=char-all_34G_96k --model_type=char --character_coverage=0.9995',\n",
       " 'spm_train --input=/home/leo/projects/Datasets/text/train_selected_monofile/monofile_2.txt --vocab_size=64000 --input_format=tsv --model_prefix=char-all_34G_96k --model_type=char --character_coverage=0.9995',\n",
       " 'spm_train --input=/home/leo/projects/Datasets/text/train_selected_monofile/monofile_2.txt --vocab_size=64000 --input_format=tsv --model_prefix=char-all_34G_96k --model_type=char --character_coverage=0.9995',\n",
       " 'spm_train --input=/home/leo/projects/Datasets/text/train_selected_monofile/monofile_2.txt --vocab_size=64000 --input_format=tsv --model_prefix=char-all_34G_128k --model_type=char --character_coverage=0.9995',\n",
       " 'spm_train --input=/home/leo/projects/Datasets/text/train_selected_monofile/monofile_2.txt --vocab_size=64000 --input_format=tsv --model_prefix=char-all_34G_128k --model_type=char --character_coverage=0.9995',\n",
       " 'spm_train --input=/home/leo/projects/Datasets/text/train_selected_monofile/monofile_2.txt --vocab_size=64000 --input_format=tsv --model_prefix=char-all_34G_128k --model_type=char --character_coverage=0.9995',\n",
       " 'spm_train --input=/home/leo/projects/Datasets/text/train_selected_monofile/monofile_2.txt --vocab_size=96000 --input_format=tsv --model_prefix=unigram-all_34G_32k --model_type=unigram --character_coverage=0.9995',\n",
       " 'spm_train --input=/home/leo/projects/Datasets/text/train_selected_monofile/monofile_2.txt --vocab_size=96000 --input_format=tsv --model_prefix=unigram-all_34G_32k --model_type=unigram --character_coverage=0.9995',\n",
       " 'spm_train --input=/home/leo/projects/Datasets/text/train_selected_monofile/monofile_2.txt --vocab_size=96000 --input_format=tsv --model_prefix=unigram-all_34G_32k --model_type=unigram --character_coverage=0.9995',\n",
       " 'spm_train --input=/home/leo/projects/Datasets/text/train_selected_monofile/monofile_2.txt --vocab_size=96000 --input_format=tsv --model_prefix=unigram-all_34G_64k --model_type=unigram --character_coverage=0.9995',\n",
       " 'spm_train --input=/home/leo/projects/Datasets/text/train_selected_monofile/monofile_2.txt --vocab_size=96000 --input_format=tsv --model_prefix=unigram-all_34G_64k --model_type=unigram --character_coverage=0.9995',\n",
       " 'spm_train --input=/home/leo/projects/Datasets/text/train_selected_monofile/monofile_2.txt --vocab_size=96000 --input_format=tsv --model_prefix=unigram-all_34G_64k --model_type=unigram --character_coverage=0.9995',\n",
       " 'spm_train --input=/home/leo/projects/Datasets/text/train_selected_monofile/monofile_2.txt --vocab_size=96000 --input_format=tsv --model_prefix=unigram-all_34G_96k --model_type=unigram --character_coverage=0.9995',\n",
       " 'spm_train --input=/home/leo/projects/Datasets/text/train_selected_monofile/monofile_2.txt --vocab_size=96000 --input_format=tsv --model_prefix=unigram-all_34G_96k --model_type=unigram --character_coverage=0.9995',\n",
       " 'spm_train --input=/home/leo/projects/Datasets/text/train_selected_monofile/monofile_2.txt --vocab_size=96000 --input_format=tsv --model_prefix=unigram-all_34G_96k --model_type=unigram --character_coverage=0.9995',\n",
       " 'spm_train --input=/home/leo/projects/Datasets/text/train_selected_monofile/monofile_2.txt --vocab_size=96000 --input_format=tsv --model_prefix=unigram-all_34G_128k --model_type=unigram --character_coverage=0.9995',\n",
       " 'spm_train --input=/home/leo/projects/Datasets/text/train_selected_monofile/monofile_2.txt --vocab_size=96000 --input_format=tsv --model_prefix=unigram-all_34G_128k --model_type=unigram --character_coverage=0.9995',\n",
       " 'spm_train --input=/home/leo/projects/Datasets/text/train_selected_monofile/monofile_2.txt --vocab_size=96000 --input_format=tsv --model_prefix=unigram-all_34G_128k --model_type=unigram --character_coverage=0.9995',\n",
       " 'spm_train --input=/home/leo/projects/Datasets/text/train_selected_monofile/monofile_2.txt --vocab_size=96000 --input_format=tsv --model_prefix=bpe-all_34G_32k --model_type=bpe --character_coverage=0.9995',\n",
       " 'spm_train --input=/home/leo/projects/Datasets/text/train_selected_monofile/monofile_2.txt --vocab_size=96000 --input_format=tsv --model_prefix=bpe-all_34G_32k --model_type=bpe --character_coverage=0.9995',\n",
       " 'spm_train --input=/home/leo/projects/Datasets/text/train_selected_monofile/monofile_2.txt --vocab_size=96000 --input_format=tsv --model_prefix=bpe-all_34G_32k --model_type=bpe --character_coverage=0.9995',\n",
       " 'spm_train --input=/home/leo/projects/Datasets/text/train_selected_monofile/monofile_2.txt --vocab_size=96000 --input_format=tsv --model_prefix=bpe-all_34G_64k --model_type=bpe --character_coverage=0.9995',\n",
       " 'spm_train --input=/home/leo/projects/Datasets/text/train_selected_monofile/monofile_2.txt --vocab_size=96000 --input_format=tsv --model_prefix=bpe-all_34G_64k --model_type=bpe --character_coverage=0.9995',\n",
       " 'spm_train --input=/home/leo/projects/Datasets/text/train_selected_monofile/monofile_2.txt --vocab_size=96000 --input_format=tsv --model_prefix=bpe-all_34G_64k --model_type=bpe --character_coverage=0.9995',\n",
       " 'spm_train --input=/home/leo/projects/Datasets/text/train_selected_monofile/monofile_2.txt --vocab_size=96000 --input_format=tsv --model_prefix=bpe-all_34G_96k --model_type=bpe --character_coverage=0.9995',\n",
       " 'spm_train --input=/home/leo/projects/Datasets/text/train_selected_monofile/monofile_2.txt --vocab_size=96000 --input_format=tsv --model_prefix=bpe-all_34G_96k --model_type=bpe --character_coverage=0.9995',\n",
       " 'spm_train --input=/home/leo/projects/Datasets/text/train_selected_monofile/monofile_2.txt --vocab_size=96000 --input_format=tsv --model_prefix=bpe-all_34G_96k --model_type=bpe --character_coverage=0.9995',\n",
       " 'spm_train --input=/home/leo/projects/Datasets/text/train_selected_monofile/monofile_2.txt --vocab_size=96000 --input_format=tsv --model_prefix=bpe-all_34G_128k --model_type=bpe --character_coverage=0.9995',\n",
       " 'spm_train --input=/home/leo/projects/Datasets/text/train_selected_monofile/monofile_2.txt --vocab_size=96000 --input_format=tsv --model_prefix=bpe-all_34G_128k --model_type=bpe --character_coverage=0.9995',\n",
       " 'spm_train --input=/home/leo/projects/Datasets/text/train_selected_monofile/monofile_2.txt --vocab_size=96000 --input_format=tsv --model_prefix=bpe-all_34G_128k --model_type=bpe --character_coverage=0.9995',\n",
       " 'spm_train --input=/home/leo/projects/Datasets/text/train_selected_monofile/monofile_2.txt --vocab_size=96000 --input_format=tsv --model_prefix=word-all_34G_32k --model_type=word --character_coverage=0.9995',\n",
       " 'spm_train --input=/home/leo/projects/Datasets/text/train_selected_monofile/monofile_2.txt --vocab_size=96000 --input_format=tsv --model_prefix=word-all_34G_32k --model_type=word --character_coverage=0.9995',\n",
       " 'spm_train --input=/home/leo/projects/Datasets/text/train_selected_monofile/monofile_2.txt --vocab_size=96000 --input_format=tsv --model_prefix=word-all_34G_32k --model_type=word --character_coverage=0.9995',\n",
       " 'spm_train --input=/home/leo/projects/Datasets/text/train_selected_monofile/monofile_2.txt --vocab_size=96000 --input_format=tsv --model_prefix=word-all_34G_64k --model_type=word --character_coverage=0.9995',\n",
       " 'spm_train --input=/home/leo/projects/Datasets/text/train_selected_monofile/monofile_2.txt --vocab_size=96000 --input_format=tsv --model_prefix=word-all_34G_64k --model_type=word --character_coverage=0.9995',\n",
       " 'spm_train --input=/home/leo/projects/Datasets/text/train_selected_monofile/monofile_2.txt --vocab_size=96000 --input_format=tsv --model_prefix=word-all_34G_64k --model_type=word --character_coverage=0.9995',\n",
       " 'spm_train --input=/home/leo/projects/Datasets/text/train_selected_monofile/monofile_2.txt --vocab_size=96000 --input_format=tsv --model_prefix=word-all_34G_96k --model_type=word --character_coverage=0.9995',\n",
       " 'spm_train --input=/home/leo/projects/Datasets/text/train_selected_monofile/monofile_2.txt --vocab_size=96000 --input_format=tsv --model_prefix=word-all_34G_96k --model_type=word --character_coverage=0.9995',\n",
       " 'spm_train --input=/home/leo/projects/Datasets/text/train_selected_monofile/monofile_2.txt --vocab_size=96000 --input_format=tsv --model_prefix=word-all_34G_96k --model_type=word --character_coverage=0.9995',\n",
       " 'spm_train --input=/home/leo/projects/Datasets/text/train_selected_monofile/monofile_2.txt --vocab_size=96000 --input_format=tsv --model_prefix=word-all_34G_128k --model_type=word --character_coverage=0.9995',\n",
       " 'spm_train --input=/home/leo/projects/Datasets/text/train_selected_monofile/monofile_2.txt --vocab_size=96000 --input_format=tsv --model_prefix=word-all_34G_128k --model_type=word --character_coverage=0.9995',\n",
       " 'spm_train --input=/home/leo/projects/Datasets/text/train_selected_monofile/monofile_2.txt --vocab_size=96000 --input_format=tsv --model_prefix=word-all_34G_128k --model_type=word --character_coverage=0.9995',\n",
       " 'spm_train --input=/home/leo/projects/Datasets/text/train_selected_monofile/monofile_2.txt --vocab_size=96000 --input_format=tsv --model_prefix=char-all_34G_32k --model_type=char --character_coverage=0.9995',\n",
       " 'spm_train --input=/home/leo/projects/Datasets/text/train_selected_monofile/monofile_2.txt --vocab_size=96000 --input_format=tsv --model_prefix=char-all_34G_32k --model_type=char --character_coverage=0.9995',\n",
       " 'spm_train --input=/home/leo/projects/Datasets/text/train_selected_monofile/monofile_2.txt --vocab_size=96000 --input_format=tsv --model_prefix=char-all_34G_32k --model_type=char --character_coverage=0.9995',\n",
       " 'spm_train --input=/home/leo/projects/Datasets/text/train_selected_monofile/monofile_2.txt --vocab_size=96000 --input_format=tsv --model_prefix=char-all_34G_64k --model_type=char --character_coverage=0.9995',\n",
       " 'spm_train --input=/home/leo/projects/Datasets/text/train_selected_monofile/monofile_2.txt --vocab_size=96000 --input_format=tsv --model_prefix=char-all_34G_64k --model_type=char --character_coverage=0.9995',\n",
       " 'spm_train --input=/home/leo/projects/Datasets/text/train_selected_monofile/monofile_2.txt --vocab_size=96000 --input_format=tsv --model_prefix=char-all_34G_64k --model_type=char --character_coverage=0.9995',\n",
       " 'spm_train --input=/home/leo/projects/Datasets/text/train_selected_monofile/monofile_2.txt --vocab_size=96000 --input_format=tsv --model_prefix=char-all_34G_96k --model_type=char --character_coverage=0.9995',\n",
       " 'spm_train --input=/home/leo/projects/Datasets/text/train_selected_monofile/monofile_2.txt --vocab_size=96000 --input_format=tsv --model_prefix=char-all_34G_96k --model_type=char --character_coverage=0.9995',\n",
       " 'spm_train --input=/home/leo/projects/Datasets/text/train_selected_monofile/monofile_2.txt --vocab_size=96000 --input_format=tsv --model_prefix=char-all_34G_96k --model_type=char --character_coverage=0.9995',\n",
       " 'spm_train --input=/home/leo/projects/Datasets/text/train_selected_monofile/monofile_2.txt --vocab_size=96000 --input_format=tsv --model_prefix=char-all_34G_128k --model_type=char --character_coverage=0.9995',\n",
       " 'spm_train --input=/home/leo/projects/Datasets/text/train_selected_monofile/monofile_2.txt --vocab_size=96000 --input_format=tsv --model_prefix=char-all_34G_128k --model_type=char --character_coverage=0.9995',\n",
       " 'spm_train --input=/home/leo/projects/Datasets/text/train_selected_monofile/monofile_2.txt --vocab_size=96000 --input_format=tsv --model_prefix=char-all_34G_128k --model_type=char --character_coverage=0.9995',\n",
       " 'spm_train --input=/home/leo/projects/Datasets/text/train_selected_monofile/monofile_2.txt --vocab_size=128000 --input_format=tsv --model_prefix=unigram-all_34G_32k --model_type=unigram --character_coverage=0.9995',\n",
       " 'spm_train --input=/home/leo/projects/Datasets/text/train_selected_monofile/monofile_2.txt --vocab_size=128000 --input_format=tsv --model_prefix=unigram-all_34G_32k --model_type=unigram --character_coverage=0.9995',\n",
       " 'spm_train --input=/home/leo/projects/Datasets/text/train_selected_monofile/monofile_2.txt --vocab_size=128000 --input_format=tsv --model_prefix=unigram-all_34G_32k --model_type=unigram --character_coverage=0.9995',\n",
       " 'spm_train --input=/home/leo/projects/Datasets/text/train_selected_monofile/monofile_2.txt --vocab_size=128000 --input_format=tsv --model_prefix=unigram-all_34G_64k --model_type=unigram --character_coverage=0.9995',\n",
       " 'spm_train --input=/home/leo/projects/Datasets/text/train_selected_monofile/monofile_2.txt --vocab_size=128000 --input_format=tsv --model_prefix=unigram-all_34G_64k --model_type=unigram --character_coverage=0.9995',\n",
       " 'spm_train --input=/home/leo/projects/Datasets/text/train_selected_monofile/monofile_2.txt --vocab_size=128000 --input_format=tsv --model_prefix=unigram-all_34G_64k --model_type=unigram --character_coverage=0.9995',\n",
       " 'spm_train --input=/home/leo/projects/Datasets/text/train_selected_monofile/monofile_2.txt --vocab_size=128000 --input_format=tsv --model_prefix=unigram-all_34G_96k --model_type=unigram --character_coverage=0.9995',\n",
       " 'spm_train --input=/home/leo/projects/Datasets/text/train_selected_monofile/monofile_2.txt --vocab_size=128000 --input_format=tsv --model_prefix=unigram-all_34G_96k --model_type=unigram --character_coverage=0.9995',\n",
       " 'spm_train --input=/home/leo/projects/Datasets/text/train_selected_monofile/monofile_2.txt --vocab_size=128000 --input_format=tsv --model_prefix=unigram-all_34G_96k --model_type=unigram --character_coverage=0.9995',\n",
       " 'spm_train --input=/home/leo/projects/Datasets/text/train_selected_monofile/monofile_2.txt --vocab_size=128000 --input_format=tsv --model_prefix=unigram-all_34G_128k --model_type=unigram --character_coverage=0.9995',\n",
       " 'spm_train --input=/home/leo/projects/Datasets/text/train_selected_monofile/monofile_2.txt --vocab_size=128000 --input_format=tsv --model_prefix=unigram-all_34G_128k --model_type=unigram --character_coverage=0.9995',\n",
       " 'spm_train --input=/home/leo/projects/Datasets/text/train_selected_monofile/monofile_2.txt --vocab_size=128000 --input_format=tsv --model_prefix=unigram-all_34G_128k --model_type=unigram --character_coverage=0.9995',\n",
       " 'spm_train --input=/home/leo/projects/Datasets/text/train_selected_monofile/monofile_2.txt --vocab_size=128000 --input_format=tsv --model_prefix=bpe-all_34G_32k --model_type=bpe --character_coverage=0.9995',\n",
       " 'spm_train --input=/home/leo/projects/Datasets/text/train_selected_monofile/monofile_2.txt --vocab_size=128000 --input_format=tsv --model_prefix=bpe-all_34G_32k --model_type=bpe --character_coverage=0.9995',\n",
       " 'spm_train --input=/home/leo/projects/Datasets/text/train_selected_monofile/monofile_2.txt --vocab_size=128000 --input_format=tsv --model_prefix=bpe-all_34G_32k --model_type=bpe --character_coverage=0.9995',\n",
       " 'spm_train --input=/home/leo/projects/Datasets/text/train_selected_monofile/monofile_2.txt --vocab_size=128000 --input_format=tsv --model_prefix=bpe-all_34G_64k --model_type=bpe --character_coverage=0.9995',\n",
       " 'spm_train --input=/home/leo/projects/Datasets/text/train_selected_monofile/monofile_2.txt --vocab_size=128000 --input_format=tsv --model_prefix=bpe-all_34G_64k --model_type=bpe --character_coverage=0.9995',\n",
       " 'spm_train --input=/home/leo/projects/Datasets/text/train_selected_monofile/monofile_2.txt --vocab_size=128000 --input_format=tsv --model_prefix=bpe-all_34G_64k --model_type=bpe --character_coverage=0.9995',\n",
       " 'spm_train --input=/home/leo/projects/Datasets/text/train_selected_monofile/monofile_2.txt --vocab_size=128000 --input_format=tsv --model_prefix=bpe-all_34G_96k --model_type=bpe --character_coverage=0.9995',\n",
       " 'spm_train --input=/home/leo/projects/Datasets/text/train_selected_monofile/monofile_2.txt --vocab_size=128000 --input_format=tsv --model_prefix=bpe-all_34G_96k --model_type=bpe --character_coverage=0.9995',\n",
       " 'spm_train --input=/home/leo/projects/Datasets/text/train_selected_monofile/monofile_2.txt --vocab_size=128000 --input_format=tsv --model_prefix=bpe-all_34G_96k --model_type=bpe --character_coverage=0.9995',\n",
       " 'spm_train --input=/home/leo/projects/Datasets/text/train_selected_monofile/monofile_2.txt --vocab_size=128000 --input_format=tsv --model_prefix=bpe-all_34G_128k --model_type=bpe --character_coverage=0.9995',\n",
       " 'spm_train --input=/home/leo/projects/Datasets/text/train_selected_monofile/monofile_2.txt --vocab_size=128000 --input_format=tsv --model_prefix=bpe-all_34G_128k --model_type=bpe --character_coverage=0.9995',\n",
       " 'spm_train --input=/home/leo/projects/Datasets/text/train_selected_monofile/monofile_2.txt --vocab_size=128000 --input_format=tsv --model_prefix=bpe-all_34G_128k --model_type=bpe --character_coverage=0.9995',\n",
       " 'spm_train --input=/home/leo/projects/Datasets/text/train_selected_monofile/monofile_2.txt --vocab_size=128000 --input_format=tsv --model_prefix=word-all_34G_32k --model_type=word --character_coverage=0.9995',\n",
       " 'spm_train --input=/home/leo/projects/Datasets/text/train_selected_monofile/monofile_2.txt --vocab_size=128000 --input_format=tsv --model_prefix=word-all_34G_32k --model_type=word --character_coverage=0.9995',\n",
       " 'spm_train --input=/home/leo/projects/Datasets/text/train_selected_monofile/monofile_2.txt --vocab_size=128000 --input_format=tsv --model_prefix=word-all_34G_32k --model_type=word --character_coverage=0.9995',\n",
       " 'spm_train --input=/home/leo/projects/Datasets/text/train_selected_monofile/monofile_2.txt --vocab_size=128000 --input_format=tsv --model_prefix=word-all_34G_64k --model_type=word --character_coverage=0.9995',\n",
       " 'spm_train --input=/home/leo/projects/Datasets/text/train_selected_monofile/monofile_2.txt --vocab_size=128000 --input_format=tsv --model_prefix=word-all_34G_64k --model_type=word --character_coverage=0.9995',\n",
       " 'spm_train --input=/home/leo/projects/Datasets/text/train_selected_monofile/monofile_2.txt --vocab_size=128000 --input_format=tsv --model_prefix=word-all_34G_64k --model_type=word --character_coverage=0.9995',\n",
       " 'spm_train --input=/home/leo/projects/Datasets/text/train_selected_monofile/monofile_2.txt --vocab_size=128000 --input_format=tsv --model_prefix=word-all_34G_96k --model_type=word --character_coverage=0.9995',\n",
       " 'spm_train --input=/home/leo/projects/Datasets/text/train_selected_monofile/monofile_2.txt --vocab_size=128000 --input_format=tsv --model_prefix=word-all_34G_96k --model_type=word --character_coverage=0.9995',\n",
       " 'spm_train --input=/home/leo/projects/Datasets/text/train_selected_monofile/monofile_2.txt --vocab_size=128000 --input_format=tsv --model_prefix=word-all_34G_96k --model_type=word --character_coverage=0.9995',\n",
       " 'spm_train --input=/home/leo/projects/Datasets/text/train_selected_monofile/monofile_2.txt --vocab_size=128000 --input_format=tsv --model_prefix=word-all_34G_128k --model_type=word --character_coverage=0.9995',\n",
       " 'spm_train --input=/home/leo/projects/Datasets/text/train_selected_monofile/monofile_2.txt --vocab_size=128000 --input_format=tsv --model_prefix=word-all_34G_128k --model_type=word --character_coverage=0.9995',\n",
       " 'spm_train --input=/home/leo/projects/Datasets/text/train_selected_monofile/monofile_2.txt --vocab_size=128000 --input_format=tsv --model_prefix=word-all_34G_128k --model_type=word --character_coverage=0.9995',\n",
       " 'spm_train --input=/home/leo/projects/Datasets/text/train_selected_monofile/monofile_2.txt --vocab_size=128000 --input_format=tsv --model_prefix=char-all_34G_32k --model_type=char --character_coverage=0.9995',\n",
       " 'spm_train --input=/home/leo/projects/Datasets/text/train_selected_monofile/monofile_2.txt --vocab_size=128000 --input_format=tsv --model_prefix=char-all_34G_32k --model_type=char --character_coverage=0.9995',\n",
       " 'spm_train --input=/home/leo/projects/Datasets/text/train_selected_monofile/monofile_2.txt --vocab_size=128000 --input_format=tsv --model_prefix=char-all_34G_32k --model_type=char --character_coverage=0.9995',\n",
       " 'spm_train --input=/home/leo/projects/Datasets/text/train_selected_monofile/monofile_2.txt --vocab_size=128000 --input_format=tsv --model_prefix=char-all_34G_64k --model_type=char --character_coverage=0.9995',\n",
       " 'spm_train --input=/home/leo/projects/Datasets/text/train_selected_monofile/monofile_2.txt --vocab_size=128000 --input_format=tsv --model_prefix=char-all_34G_64k --model_type=char --character_coverage=0.9995',\n",
       " 'spm_train --input=/home/leo/projects/Datasets/text/train_selected_monofile/monofile_2.txt --vocab_size=128000 --input_format=tsv --model_prefix=char-all_34G_64k --model_type=char --character_coverage=0.9995',\n",
       " 'spm_train --input=/home/leo/projects/Datasets/text/train_selected_monofile/monofile_2.txt --vocab_size=128000 --input_format=tsv --model_prefix=char-all_34G_96k --model_type=char --character_coverage=0.9995',\n",
       " 'spm_train --input=/home/leo/projects/Datasets/text/train_selected_monofile/monofile_2.txt --vocab_size=128000 --input_format=tsv --model_prefix=char-all_34G_96k --model_type=char --character_coverage=0.9995',\n",
       " 'spm_train --input=/home/leo/projects/Datasets/text/train_selected_monofile/monofile_2.txt --vocab_size=128000 --input_format=tsv --model_prefix=char-all_34G_96k --model_type=char --character_coverage=0.9995',\n",
       " 'spm_train --input=/home/leo/projects/Datasets/text/train_selected_monofile/monofile_2.txt --vocab_size=128000 --input_format=tsv --model_prefix=char-all_34G_128k --model_type=char --character_coverage=0.9995',\n",
       " 'spm_train --input=/home/leo/projects/Datasets/text/train_selected_monofile/monofile_2.txt --vocab_size=128000 --input_format=tsv --model_prefix=char-all_34G_128k --model_type=char --character_coverage=0.9995',\n",
       " 'spm_train --input=/home/leo/projects/Datasets/text/train_selected_monofile/monofile_2.txt --vocab_size=128000 --input_format=tsv --model_prefix=char-all_34G_128k --model_type=char --character_coverage=0.9995']"
      ]
     },
     "execution_count": 25,
     "metadata": {},
     "output_type": "execute_result"
    }
   ],
   "source": [
    "commands"
   ]
  },
  {
   "cell_type": "markdown",
   "metadata": {},
   "source": [
    "SentencePiece\n",
    "\n",
    "--input_sentence_size {} --vocab_size {} --input_format tsv --model_prefix {} --input {} --model_type {} --character_coverage=0.9995\n"
   ]
  },
  {
   "cell_type": "markdown",
   "metadata": {},
   "source": [
    "BPEmb: Subword Embeddings in 275 Languages\n",
    "\n",
    "BPEmb \n",
    "\n",
    "https://nlp.h-its.org/bpemb/\n",
    "https://nlp.h-its.org/bpemb/multi/\n",
    "\n"
   ]
  },
  {
   "cell_type": "code",
   "execution_count": 1,
   "metadata": {},
   "outputs": [],
   "source": [
    "import sentencepiece as spm"
   ]
  },
  {
   "cell_type": "code",
   "execution_count": 48,
   "metadata": {},
   "outputs": [
    {
     "data": {
      "text/plain": [
       "True"
      ]
     },
     "execution_count": 48,
     "metadata": {},
     "output_type": "execute_result"
    }
   ],
   "source": [
    "s = spm.SentencePieceProcessor()\n",
    "# s.Load('/home/leo/projects/Datasets/text/sentencepiece/bpe-all_2G5_64k.model')\n",
    "s.Load('/home/leo/projects/Datasets/text/sentencepiece/bpe-all_2G5_64k.model')"
   ]
  },
  {
   "cell_type": "code",
   "execution_count": 49,
   "metadata": {},
   "outputs": [],
   "source": [
    "p = s.SampleEncodeAsPieces('New York', -1, 0.1)"
   ]
  },
  {
   "cell_type": "code",
   "execution_count": 45,
   "metadata": {},
   "outputs": [
    {
     "data": {
      "text/plain": [
       "<bound method SentencePieceProcessor.EncodeAsPieces of <sentencepiece.SentencePieceProcessor; proxy of <Swig Object of type 'sentencepiece::SentencePieceProcessor *' at 0x7f9f4b628120> >>"
      ]
     },
     "execution_count": 45,
     "metadata": {},
     "output_type": "execute_result"
    }
   ],
   "source": [
    "s.EncodeAsPieces"
   ]
  },
  {
   "cell_type": "code",
   "execution_count": 43,
   "metadata": {},
   "outputs": [
    {
     "data": {
      "text/plain": [
       "\u001b[0;31mSignature:\u001b[0m \u001b[0ms\u001b[0m\u001b[0;34m.\u001b[0m\u001b[0mSampleEncodeAsPieces\u001b[0m\u001b[0;34m(\u001b[0m\u001b[0minput\u001b[0m\u001b[0;34m,\u001b[0m \u001b[0mnbest_size\u001b[0m\u001b[0;34m,\u001b[0m \u001b[0malpha\u001b[0m\u001b[0;34m)\u001b[0m\u001b[0;34m\u001b[0m\u001b[0;34m\u001b[0m\u001b[0m\n",
       "\u001b[0;31mDocstring:\u001b[0m <no docstring>\n",
       "\u001b[0;31mFile:\u001b[0m      ~/venv3/lib/python3.7/site-packages/sentencepiece.py\n",
       "\u001b[0;31mType:\u001b[0m      method\n"
      ]
     },
     "metadata": {},
     "output_type": "display_data"
    }
   ],
   "source": [
    "s.SampleEncodeAsPieces?"
   ]
  },
  {
   "cell_type": "code",
   "execution_count": 53,
   "metadata": {
    "scrolled": true
   },
   "outputs": [
    {
     "name": "stdout",
     "output_type": "stream",
     "text": [
      "['▁', '吾輩', 'は', '猫', 'である'] [60452, 0, 60718, 0, 3515]\n",
      "['▁New', '▁York'] [1176, 2076]\n",
      "[]\n",
      "['▁', '吾輩', 'は', '猫', 'である'] [60452, 0, 60718, 0, 3515]\n",
      "['▁New', '▁York'] [1176, 2076]\n",
      "[]\n",
      "['▁', '吾輩', 'は', '猫', 'である'] [60452, 0, 60718, 0, 3515]\n",
      "['▁New', '▁York'] [1176, 2076]\n",
      "[]\n",
      "['▁', '吾輩', 'は', '猫', 'である'] [60452, 0, 60718, 0, 3515]\n",
      "['▁New', '▁York'] [1176, 2076]\n",
      "[]\n",
      "['▁', '吾輩', 'は', '猫', 'である'] [60452, 0, 60718, 0, 3515]\n",
      "['▁New', '▁York'] [1176, 2076]\n",
      "[]\n",
      "['▁', '吾輩', 'は', '猫', 'である'] [60452, 0, 60718, 0, 3515]\n",
      "['▁New', '▁York'] [1176, 2076]\n",
      "[]\n",
      "['▁', '吾輩', 'は', '猫', 'である'] [60452, 0, 60718, 0, 3515]\n",
      "['▁New', '▁York'] [1176, 2076]\n",
      "[]\n",
      "['▁', '吾輩', 'は', '猫', 'である'] [60452, 0, 60718, 0, 3515]\n",
      "['▁New', '▁York'] [1176, 2076]\n",
      "[]\n",
      "['▁', '吾輩', 'は', '猫', 'である'] [60452, 0, 60718, 0, 3515]\n",
      "['▁New', '▁York'] [1176, 2076]\n",
      "[]\n",
      "['▁', '吾輩', 'は', '猫', 'である'] [60452, 0, 60718, 0, 3515]\n",
      "['▁New', '▁York'] [1176, 2076]\n",
      "[]\n"
     ]
    }
   ],
   "source": [
    "for i in range(10):\n",
    "    print(s.EncodeAsPieces('吾輩は猫である'), s.EncodeAsIds('吾輩は猫である'))\n",
    "    print(s.EncodeAsPieces('New York'), s.EncodeAsIds('New York'))\n",
    "    print(s.SampleEncodeAsPieces('New York', -1, 0.1))"
   ]
  },
  {
   "cell_type": "code",
   "execution_count": null,
   "metadata": {},
   "outputs": [],
   "source": []
  },
  {
   "cell_type": "code",
   "execution_count": 35,
   "metadata": {},
   "outputs": [
    {
     "data": {
      "text/plain": [
       "[803, 390, 7, 62657]"
      ]
     },
     "execution_count": 35,
     "metadata": {},
     "output_type": "execute_result"
    }
   ],
   "source": [
    "s.SampleEncodeAsIds('New York', -1, 0.1)"
   ]
  },
  {
   "cell_type": "code",
   "execution_count": 27,
   "metadata": {},
   "outputs": [
    {
     "data": {
      "text/plain": [
       "'New York'"
      ]
     },
     "execution_count": 27,
     "metadata": {},
     "output_type": "execute_result"
    }
   ],
   "source": [
    "s.DecodeIds([474, 13, 390, 776])"
   ]
  },
  {
   "cell_type": "code",
   "execution_count": 18,
   "metadata": {},
   "outputs": [
    {
     "data": {
      "text/plain": [
       "('U+2588', '█')"
      ]
     },
     "execution_count": 18,
     "metadata": {},
     "output_type": "execute_result"
    }
   ],
   "source": [
    "'U+2588', chr(0x2588)"
   ]
  },
  {
   "cell_type": "code",
   "execution_count": 21,
   "metadata": {},
   "outputs": [
    {
     "data": {
      "text/plain": [
       "'█'"
      ]
     },
     "execution_count": 21,
     "metadata": {},
     "output_type": "execute_result"
    }
   ],
   "source": [
    "'█'"
   ]
  },
  {
   "cell_type": "code",
   "execution_count": 3,
   "metadata": {},
   "outputs": [],
   "source": [
    "from pycountry import languages"
   ]
  },
  {
   "cell_type": "code",
   "execution_count": 5,
   "metadata": {},
   "outputs": [],
   "source": [
    "l = languages.get(alpha_2='es')"
   ]
  },
  {
   "cell_type": "code",
   "execution_count": 6,
   "metadata": {},
   "outputs": [
    {
     "data": {
      "text/plain": [
       "'Spanish'"
      ]
     },
     "execution_count": 6,
     "metadata": {},
     "output_type": "execute_result"
    }
   ],
   "source": [
    "l.name"
   ]
  }
 ],
 "metadata": {
  "kernelspec": {
   "display_name": "Python 3",
   "language": "python",
   "name": "python3"
  },
  "language_info": {
   "codemirror_mode": {
    "name": "ipython",
    "version": 3
   },
   "file_extension": ".py",
   "mimetype": "text/x-python",
   "name": "python",
   "nbconvert_exporter": "python",
   "pygments_lexer": "ipython3",
   "version": "3.7.3"
  }
 },
 "nbformat": 4,
 "nbformat_minor": 4
}
