{
 "cells": [
  {
   "cell_type": "markdown",
   "metadata": {},
   "source": [
    "# A statistical Conllu file Exploration of  Universal Dependencies\n",
    "\n",
    "## Introduction\n",
    "\n",
    "While much work is being done in the current days on NLP and NLU, there is little work on describing why a certain length of transformer (or other as LSTM time steps) architecture has been chosen for the training, it is mostly arbitrary and depends on the goal of the work and resources available (mainly hardware). These decisions are hard once the model has been trained and there is nothing that can be done to extend the length of a transformer (for example) without having to retrain the entire network. There are however some works that tackle variable length sequences. \n",
    "\n",
    "This work presents a first complete analysis of the Universal Dependencies v2.6 dataset and presents the globan and individual results of each language present in the dataset.\n",
    "\n",
    "This work does not intend to be a conference level paper (that is why there are no references to all the papers on each subject), but an informational technical report that might help to better select the most effective compromise text or token length for your particular NLP application.\n",
    "\n",
    "The number of analyzed languages is 92, the token length is measured as the named UPOS tag in the dataset, while the character length is just that. There is no analysis on what constitutes a word or not, this means that a token includes the punctuiation and other symbols presents in the text samples. For lingüstic analysis purposes more de\n",
    "\n",
    "\n"
   ]
  },
  {
   "cell_type": "markdown",
   "metadata": {},
   "source": [
    "## Observations\n",
    "\n",
    "The histograms show a skew on the distribution, this can be a skewed gaussian, a generalized gaussian or a beta distribution form. Due to this, I will be testing different distribution fits with the Kolmogorov-Smirnov test.\n",
    "\n",
    "There are many languages that do not have enough samples so the dsitribution fit will not be good  and errors will be big.\n",
    "This is not an issue  from the code point of view. The important thing is if this data is used, take into account the number of samples available.\n",
    "\n",
    "\n",
    "While doing this work I found quite interesting that are languages whose number of tokens or characters avoid certain bins in the histogram (Bulgarian, Breton Welsh, Danish, Slovak, Tamil and Thai are a few examples of this). This can mean that, either the language structure supports only those lengths, or that the analyzed dataset only contains samples that avoid some sentence lengths.\n",
    "\n",
    "For some languages the number of samples is too small to make any good assumption from the data.\n"
   ]
  },
  {
   "cell_type": "markdown",
   "metadata": {},
   "source": [
    "## Conclusion\n",
    "\n",
    "This work presents a sample length analysis by language on the UniversalDependencies v2.6 dataset presenting the statistics for all 92 represented languages. The analysis then shows the length histograms by character and token length.\n",
    "\n",
    "The best compromise for choosing a sequence length on the NLP architecture for training will depend mostly on the requirements of the applicatino, nevertheless with the numbers here you should be able to make an informed guess on what might be better for your case.\n",
    "\n",
    "We can see that having a multi-lingual approach will necessary make the needed sequences longer as there is a large variability on sequence length, but appliying to single language might allow you to optimize your neural architectures"
   ]
  },
  {
   "cell_type": "markdown",
   "metadata": {},
   "source": [
    "## Future Work\n",
    "\n",
    "I am currently working on a more in depth analysis of the complete Gutenberg project dataset ( ~60K books in several languages) that will discriminate several other text characteristics.\n",
    "\n",
    "I also have started to work on a complete parsing of a few of the Wiktionary datasets.\n",
    "\n",
    "Stay tuned for those results ;)"
   ]
  },
  {
   "cell_type": "code",
   "execution_count": 172,
   "metadata": {},
   "outputs": [],
   "source": [
    "from preprocessors.ud_conllu_stats import *\n",
    "import json\n",
    "import gzip"
   ]
  },
  {
   "cell_type": "code",
   "execution_count": 265,
   "metadata": {},
   "outputs": [],
   "source": [
    "import matplotlib.pyplot as plt\n",
    "import bokeh\n",
    "from bokeh.plotting import figure, output_file, show\n",
    "from bokeh.io import output_notebook\n",
    "\n",
    "%matplotlib inline\n",
    "\n",
    "import ipywidgets as widgets\n",
    "from ipywidgets import interact, interact_manual"
   ]
  },
  {
   "cell_type": "code",
   "execution_count": 266,
   "metadata": {},
   "outputs": [
    {
     "data": {
      "text/html": [
       "\n",
       "    <div class=\"bk-root\">\n",
       "        <a href=\"https://bokeh.org\" target=\"_blank\" class=\"bk-logo bk-logo-small bk-logo-notebook\"></a>\n",
       "        <span id=\"2481\">Loading BokehJS ...</span>\n",
       "    </div>"
      ]
     },
     "metadata": {},
     "output_type": "display_data"
    },
    {
     "data": {
      "application/javascript": [
       "\n",
       "(function(root) {\n",
       "  function now() {\n",
       "    return new Date();\n",
       "  }\n",
       "\n",
       "  var force = true;\n",
       "\n",
       "  if (typeof root._bokeh_onload_callbacks === \"undefined\" || force === true) {\n",
       "    root._bokeh_onload_callbacks = [];\n",
       "    root._bokeh_is_loading = undefined;\n",
       "  }\n",
       "\n",
       "  var JS_MIME_TYPE = 'application/javascript';\n",
       "  var HTML_MIME_TYPE = 'text/html';\n",
       "  var EXEC_MIME_TYPE = 'application/vnd.bokehjs_exec.v0+json';\n",
       "  var CLASS_NAME = 'output_bokeh rendered_html';\n",
       "\n",
       "  /**\n",
       "   * Render data to the DOM node\n",
       "   */\n",
       "  function render(props, node) {\n",
       "    var script = document.createElement(\"script\");\n",
       "    node.appendChild(script);\n",
       "  }\n",
       "\n",
       "  /**\n",
       "   * Handle when an output is cleared or removed\n",
       "   */\n",
       "  function handleClearOutput(event, handle) {\n",
       "    var cell = handle.cell;\n",
       "\n",
       "    var id = cell.output_area._bokeh_element_id;\n",
       "    var server_id = cell.output_area._bokeh_server_id;\n",
       "    // Clean up Bokeh references\n",
       "    if (id != null && id in Bokeh.index) {\n",
       "      Bokeh.index[id].model.document.clear();\n",
       "      delete Bokeh.index[id];\n",
       "    }\n",
       "\n",
       "    if (server_id !== undefined) {\n",
       "      // Clean up Bokeh references\n",
       "      var cmd = \"from bokeh.io.state import curstate; print(curstate().uuid_to_server['\" + server_id + \"'].get_sessions()[0].document.roots[0]._id)\";\n",
       "      cell.notebook.kernel.execute(cmd, {\n",
       "        iopub: {\n",
       "          output: function(msg) {\n",
       "            var id = msg.content.text.trim();\n",
       "            if (id in Bokeh.index) {\n",
       "              Bokeh.index[id].model.document.clear();\n",
       "              delete Bokeh.index[id];\n",
       "            }\n",
       "          }\n",
       "        }\n",
       "      });\n",
       "      // Destroy server and session\n",
       "      var cmd = \"import bokeh.io.notebook as ion; ion.destroy_server('\" + server_id + \"')\";\n",
       "      cell.notebook.kernel.execute(cmd);\n",
       "    }\n",
       "  }\n",
       "\n",
       "  /**\n",
       "   * Handle when a new output is added\n",
       "   */\n",
       "  function handleAddOutput(event, handle) {\n",
       "    var output_area = handle.output_area;\n",
       "    var output = handle.output;\n",
       "\n",
       "    // limit handleAddOutput to display_data with EXEC_MIME_TYPE content only\n",
       "    if ((output.output_type != \"display_data\") || (!output.data.hasOwnProperty(EXEC_MIME_TYPE))) {\n",
       "      return\n",
       "    }\n",
       "\n",
       "    var toinsert = output_area.element.find(\".\" + CLASS_NAME.split(' ')[0]);\n",
       "\n",
       "    if (output.metadata[EXEC_MIME_TYPE][\"id\"] !== undefined) {\n",
       "      toinsert[toinsert.length - 1].firstChild.textContent = output.data[JS_MIME_TYPE];\n",
       "      // store reference to embed id on output_area\n",
       "      output_area._bokeh_element_id = output.metadata[EXEC_MIME_TYPE][\"id\"];\n",
       "    }\n",
       "    if (output.metadata[EXEC_MIME_TYPE][\"server_id\"] !== undefined) {\n",
       "      var bk_div = document.createElement(\"div\");\n",
       "      bk_div.innerHTML = output.data[HTML_MIME_TYPE];\n",
       "      var script_attrs = bk_div.children[0].attributes;\n",
       "      for (var i = 0; i < script_attrs.length; i++) {\n",
       "        toinsert[toinsert.length - 1].firstChild.setAttribute(script_attrs[i].name, script_attrs[i].value);\n",
       "        toinsert[toinsert.length - 1].firstChild.textContent = bk_div.children[0].textContent\n",
       "      }\n",
       "      // store reference to server id on output_area\n",
       "      output_area._bokeh_server_id = output.metadata[EXEC_MIME_TYPE][\"server_id\"];\n",
       "    }\n",
       "  }\n",
       "\n",
       "  function register_renderer(events, OutputArea) {\n",
       "\n",
       "    function append_mime(data, metadata, element) {\n",
       "      // create a DOM node to render to\n",
       "      var toinsert = this.create_output_subarea(\n",
       "        metadata,\n",
       "        CLASS_NAME,\n",
       "        EXEC_MIME_TYPE\n",
       "      );\n",
       "      this.keyboard_manager.register_events(toinsert);\n",
       "      // Render to node\n",
       "      var props = {data: data, metadata: metadata[EXEC_MIME_TYPE]};\n",
       "      render(props, toinsert[toinsert.length - 1]);\n",
       "      element.append(toinsert);\n",
       "      return toinsert\n",
       "    }\n",
       "\n",
       "    /* Handle when an output is cleared or removed */\n",
       "    events.on('clear_output.CodeCell', handleClearOutput);\n",
       "    events.on('delete.Cell', handleClearOutput);\n",
       "\n",
       "    /* Handle when a new output is added */\n",
       "    events.on('output_added.OutputArea', handleAddOutput);\n",
       "\n",
       "    /**\n",
       "     * Register the mime type and append_mime function with output_area\n",
       "     */\n",
       "    OutputArea.prototype.register_mime_type(EXEC_MIME_TYPE, append_mime, {\n",
       "      /* Is output safe? */\n",
       "      safe: true,\n",
       "      /* Index of renderer in `output_area.display_order` */\n",
       "      index: 0\n",
       "    });\n",
       "  }\n",
       "\n",
       "  // register the mime type if in Jupyter Notebook environment and previously unregistered\n",
       "  if (root.Jupyter !== undefined) {\n",
       "    var events = require('base/js/events');\n",
       "    var OutputArea = require('notebook/js/outputarea').OutputArea;\n",
       "\n",
       "    if (OutputArea.prototype.mime_types().indexOf(EXEC_MIME_TYPE) == -1) {\n",
       "      register_renderer(events, OutputArea);\n",
       "    }\n",
       "  }\n",
       "\n",
       "  \n",
       "  if (typeof (root._bokeh_timeout) === \"undefined\" || force === true) {\n",
       "    root._bokeh_timeout = Date.now() + 5000;\n",
       "    root._bokeh_failed_load = false;\n",
       "  }\n",
       "\n",
       "  var NB_LOAD_WARNING = {'data': {'text/html':\n",
       "     \"<div style='background-color: #fdd'>\\n\"+\n",
       "     \"<p>\\n\"+\n",
       "     \"BokehJS does not appear to have successfully loaded. If loading BokehJS from CDN, this \\n\"+\n",
       "     \"may be due to a slow or bad network connection. Possible fixes:\\n\"+\n",
       "     \"</p>\\n\"+\n",
       "     \"<ul>\\n\"+\n",
       "     \"<li>re-rerun `output_notebook()` to attempt to load from CDN again, or</li>\\n\"+\n",
       "     \"<li>use INLINE resources instead, as so:</li>\\n\"+\n",
       "     \"</ul>\\n\"+\n",
       "     \"<code>\\n\"+\n",
       "     \"from bokeh.resources import INLINE\\n\"+\n",
       "     \"output_notebook(resources=INLINE)\\n\"+\n",
       "     \"</code>\\n\"+\n",
       "     \"</div>\"}};\n",
       "\n",
       "  function display_loaded() {\n",
       "    var el = document.getElementById(\"2481\");\n",
       "    if (el != null) {\n",
       "      el.textContent = \"BokehJS is loading...\";\n",
       "    }\n",
       "    if (root.Bokeh !== undefined) {\n",
       "      if (el != null) {\n",
       "        el.textContent = \"BokehJS \" + root.Bokeh.version + \" successfully loaded.\";\n",
       "      }\n",
       "    } else if (Date.now() < root._bokeh_timeout) {\n",
       "      setTimeout(display_loaded, 100)\n",
       "    }\n",
       "  }\n",
       "\n",
       "\n",
       "  function run_callbacks() {\n",
       "    try {\n",
       "      root._bokeh_onload_callbacks.forEach(function(callback) {\n",
       "        if (callback != null)\n",
       "          callback();\n",
       "      });\n",
       "    } finally {\n",
       "      delete root._bokeh_onload_callbacks\n",
       "    }\n",
       "    console.debug(\"Bokeh: all callbacks have finished\");\n",
       "  }\n",
       "\n",
       "  function load_libs(css_urls, js_urls, callback) {\n",
       "    if (css_urls == null) css_urls = [];\n",
       "    if (js_urls == null) js_urls = [];\n",
       "\n",
       "    root._bokeh_onload_callbacks.push(callback);\n",
       "    if (root._bokeh_is_loading > 0) {\n",
       "      console.debug(\"Bokeh: BokehJS is being loaded, scheduling callback at\", now());\n",
       "      return null;\n",
       "    }\n",
       "    if (js_urls == null || js_urls.length === 0) {\n",
       "      run_callbacks();\n",
       "      return null;\n",
       "    }\n",
       "    console.debug(\"Bokeh: BokehJS not loaded, scheduling load and callback at\", now());\n",
       "    root._bokeh_is_loading = css_urls.length + js_urls.length;\n",
       "\n",
       "    function on_load() {\n",
       "      root._bokeh_is_loading--;\n",
       "      if (root._bokeh_is_loading === 0) {\n",
       "        console.debug(\"Bokeh: all BokehJS libraries/stylesheets loaded\");\n",
       "        run_callbacks()\n",
       "      }\n",
       "    }\n",
       "\n",
       "    function on_error() {\n",
       "      console.error(\"failed to load \" + url);\n",
       "    }\n",
       "\n",
       "    for (var i = 0; i < css_urls.length; i++) {\n",
       "      var url = css_urls[i];\n",
       "      const element = document.createElement(\"link\");\n",
       "      element.onload = on_load;\n",
       "      element.onerror = on_error;\n",
       "      element.rel = \"stylesheet\";\n",
       "      element.type = \"text/css\";\n",
       "      element.href = url;\n",
       "      console.debug(\"Bokeh: injecting link tag for BokehJS stylesheet: \", url);\n",
       "      document.body.appendChild(element);\n",
       "    }\n",
       "\n",
       "    const hashes = {\"https://cdn.bokeh.org/bokeh/release/bokeh-2.0.2.min.js\": \"ufR9RFnRs6lniiaFvtJziE0YeidtAgBRH6ux2oUItHw5WTvE1zuk9uzhUU/FJXDp\", \"https://cdn.bokeh.org/bokeh/release/bokeh-widgets-2.0.2.min.js\": \"8QM/PGWBT+IssZuRcDcjzwIh1mkOmJSoNMmyYDZbCfXJg3Ap1lEvdVgFuSAwhb/J\", \"https://cdn.bokeh.org/bokeh/release/bokeh-tables-2.0.2.min.js\": \"Jm8cH3Rg0P6UeZhVY5cLy1WzKajUT9KImCY+76hEqrcJt59/d8GPvFHjCkYgnSIn\", \"https://cdn.bokeh.org/bokeh/release/bokeh-gl-2.0.2.min.js\": \"Ozhzj+SI7ywm74aOI/UajcWz+C0NjsPunEVyVIrxzYkB+jA+2tUw8x5xJCbVtK5I\"};\n",
       "\n",
       "    for (var i = 0; i < js_urls.length; i++) {\n",
       "      var url = js_urls[i];\n",
       "      var element = document.createElement('script');\n",
       "      element.onload = on_load;\n",
       "      element.onerror = on_error;\n",
       "      element.async = false;\n",
       "      element.src = url;\n",
       "      if (url in hashes) {\n",
       "        element.crossOrigin = \"anonymous\";\n",
       "        element.integrity = \"sha384-\" + hashes[url];\n",
       "      }\n",
       "      console.debug(\"Bokeh: injecting script tag for BokehJS library: \", url);\n",
       "      document.head.appendChild(element);\n",
       "    }\n",
       "  };\n",
       "\n",
       "  function inject_raw_css(css) {\n",
       "    const element = document.createElement(\"style\");\n",
       "    element.appendChild(document.createTextNode(css));\n",
       "    document.body.appendChild(element);\n",
       "  }\n",
       "\n",
       "  \n",
       "  var js_urls = [\"https://cdn.bokeh.org/bokeh/release/bokeh-2.0.2.min.js\", \"https://cdn.bokeh.org/bokeh/release/bokeh-widgets-2.0.2.min.js\", \"https://cdn.bokeh.org/bokeh/release/bokeh-tables-2.0.2.min.js\", \"https://cdn.bokeh.org/bokeh/release/bokeh-gl-2.0.2.min.js\"];\n",
       "  var css_urls = [];\n",
       "  \n",
       "\n",
       "  var inline_js = [\n",
       "    function(Bokeh) {\n",
       "      Bokeh.set_log_level(\"info\");\n",
       "    },\n",
       "    function(Bokeh) {\n",
       "    \n",
       "    \n",
       "    }\n",
       "  ];\n",
       "\n",
       "  function run_inline_js() {\n",
       "    \n",
       "    if (root.Bokeh !== undefined || force === true) {\n",
       "      \n",
       "    for (var i = 0; i < inline_js.length; i++) {\n",
       "      inline_js[i].call(root, root.Bokeh);\n",
       "    }\n",
       "    if (force === true) {\n",
       "        display_loaded();\n",
       "      }} else if (Date.now() < root._bokeh_timeout) {\n",
       "      setTimeout(run_inline_js, 100);\n",
       "    } else if (!root._bokeh_failed_load) {\n",
       "      console.log(\"Bokeh: BokehJS failed to load within specified timeout.\");\n",
       "      root._bokeh_failed_load = true;\n",
       "    } else if (force !== true) {\n",
       "      var cell = $(document.getElementById(\"2481\")).parents('.cell').data().cell;\n",
       "      cell.output_area.append_execute_result(NB_LOAD_WARNING)\n",
       "    }\n",
       "\n",
       "  }\n",
       "\n",
       "  if (root._bokeh_is_loading === 0) {\n",
       "    console.debug(\"Bokeh: BokehJS loaded, going straight to plotting\");\n",
       "    run_inline_js();\n",
       "  } else {\n",
       "    load_libs(css_urls, js_urls, function() {\n",
       "      console.debug(\"Bokeh: BokehJS plotting callback run at\", now());\n",
       "      run_inline_js();\n",
       "    });\n",
       "  }\n",
       "}(window));"
      ],
      "application/vnd.bokehjs_load.v0+json": "\n(function(root) {\n  function now() {\n    return new Date();\n  }\n\n  var force = true;\n\n  if (typeof root._bokeh_onload_callbacks === \"undefined\" || force === true) {\n    root._bokeh_onload_callbacks = [];\n    root._bokeh_is_loading = undefined;\n  }\n\n  \n\n  \n  if (typeof (root._bokeh_timeout) === \"undefined\" || force === true) {\n    root._bokeh_timeout = Date.now() + 5000;\n    root._bokeh_failed_load = false;\n  }\n\n  var NB_LOAD_WARNING = {'data': {'text/html':\n     \"<div style='background-color: #fdd'>\\n\"+\n     \"<p>\\n\"+\n     \"BokehJS does not appear to have successfully loaded. If loading BokehJS from CDN, this \\n\"+\n     \"may be due to a slow or bad network connection. Possible fixes:\\n\"+\n     \"</p>\\n\"+\n     \"<ul>\\n\"+\n     \"<li>re-rerun `output_notebook()` to attempt to load from CDN again, or</li>\\n\"+\n     \"<li>use INLINE resources instead, as so:</li>\\n\"+\n     \"</ul>\\n\"+\n     \"<code>\\n\"+\n     \"from bokeh.resources import INLINE\\n\"+\n     \"output_notebook(resources=INLINE)\\n\"+\n     \"</code>\\n\"+\n     \"</div>\"}};\n\n  function display_loaded() {\n    var el = document.getElementById(\"2481\");\n    if (el != null) {\n      el.textContent = \"BokehJS is loading...\";\n    }\n    if (root.Bokeh !== undefined) {\n      if (el != null) {\n        el.textContent = \"BokehJS \" + root.Bokeh.version + \" successfully loaded.\";\n      }\n    } else if (Date.now() < root._bokeh_timeout) {\n      setTimeout(display_loaded, 100)\n    }\n  }\n\n\n  function run_callbacks() {\n    try {\n      root._bokeh_onload_callbacks.forEach(function(callback) {\n        if (callback != null)\n          callback();\n      });\n    } finally {\n      delete root._bokeh_onload_callbacks\n    }\n    console.debug(\"Bokeh: all callbacks have finished\");\n  }\n\n  function load_libs(css_urls, js_urls, callback) {\n    if (css_urls == null) css_urls = [];\n    if (js_urls == null) js_urls = [];\n\n    root._bokeh_onload_callbacks.push(callback);\n    if (root._bokeh_is_loading > 0) {\n      console.debug(\"Bokeh: BokehJS is being loaded, scheduling callback at\", now());\n      return null;\n    }\n    if (js_urls == null || js_urls.length === 0) {\n      run_callbacks();\n      return null;\n    }\n    console.debug(\"Bokeh: BokehJS not loaded, scheduling load and callback at\", now());\n    root._bokeh_is_loading = css_urls.length + js_urls.length;\n\n    function on_load() {\n      root._bokeh_is_loading--;\n      if (root._bokeh_is_loading === 0) {\n        console.debug(\"Bokeh: all BokehJS libraries/stylesheets loaded\");\n        run_callbacks()\n      }\n    }\n\n    function on_error() {\n      console.error(\"failed to load \" + url);\n    }\n\n    for (var i = 0; i < css_urls.length; i++) {\n      var url = css_urls[i];\n      const element = document.createElement(\"link\");\n      element.onload = on_load;\n      element.onerror = on_error;\n      element.rel = \"stylesheet\";\n      element.type = \"text/css\";\n      element.href = url;\n      console.debug(\"Bokeh: injecting link tag for BokehJS stylesheet: \", url);\n      document.body.appendChild(element);\n    }\n\n    const hashes = {\"https://cdn.bokeh.org/bokeh/release/bokeh-2.0.2.min.js\": \"ufR9RFnRs6lniiaFvtJziE0YeidtAgBRH6ux2oUItHw5WTvE1zuk9uzhUU/FJXDp\", \"https://cdn.bokeh.org/bokeh/release/bokeh-widgets-2.0.2.min.js\": \"8QM/PGWBT+IssZuRcDcjzwIh1mkOmJSoNMmyYDZbCfXJg3Ap1lEvdVgFuSAwhb/J\", \"https://cdn.bokeh.org/bokeh/release/bokeh-tables-2.0.2.min.js\": \"Jm8cH3Rg0P6UeZhVY5cLy1WzKajUT9KImCY+76hEqrcJt59/d8GPvFHjCkYgnSIn\", \"https://cdn.bokeh.org/bokeh/release/bokeh-gl-2.0.2.min.js\": \"Ozhzj+SI7ywm74aOI/UajcWz+C0NjsPunEVyVIrxzYkB+jA+2tUw8x5xJCbVtK5I\"};\n\n    for (var i = 0; i < js_urls.length; i++) {\n      var url = js_urls[i];\n      var element = document.createElement('script');\n      element.onload = on_load;\n      element.onerror = on_error;\n      element.async = false;\n      element.src = url;\n      if (url in hashes) {\n        element.crossOrigin = \"anonymous\";\n        element.integrity = \"sha384-\" + hashes[url];\n      }\n      console.debug(\"Bokeh: injecting script tag for BokehJS library: \", url);\n      document.head.appendChild(element);\n    }\n  };\n\n  function inject_raw_css(css) {\n    const element = document.createElement(\"style\");\n    element.appendChild(document.createTextNode(css));\n    document.body.appendChild(element);\n  }\n\n  \n  var js_urls = [\"https://cdn.bokeh.org/bokeh/release/bokeh-2.0.2.min.js\", \"https://cdn.bokeh.org/bokeh/release/bokeh-widgets-2.0.2.min.js\", \"https://cdn.bokeh.org/bokeh/release/bokeh-tables-2.0.2.min.js\", \"https://cdn.bokeh.org/bokeh/release/bokeh-gl-2.0.2.min.js\"];\n  var css_urls = [];\n  \n\n  var inline_js = [\n    function(Bokeh) {\n      Bokeh.set_log_level(\"info\");\n    },\n    function(Bokeh) {\n    \n    \n    }\n  ];\n\n  function run_inline_js() {\n    \n    if (root.Bokeh !== undefined || force === true) {\n      \n    for (var i = 0; i < inline_js.length; i++) {\n      inline_js[i].call(root, root.Bokeh);\n    }\n    if (force === true) {\n        display_loaded();\n      }} else if (Date.now() < root._bokeh_timeout) {\n      setTimeout(run_inline_js, 100);\n    } else if (!root._bokeh_failed_load) {\n      console.log(\"Bokeh: BokehJS failed to load within specified timeout.\");\n      root._bokeh_failed_load = true;\n    } else if (force !== true) {\n      var cell = $(document.getElementById(\"2481\")).parents('.cell').data().cell;\n      cell.output_area.append_execute_result(NB_LOAD_WARNING)\n    }\n\n  }\n\n  if (root._bokeh_is_loading === 0) {\n    console.debug(\"Bokeh: BokehJS loaded, going straight to plotting\");\n    run_inline_js();\n  } else {\n    load_libs(css_urls, js_urls, function() {\n      console.debug(\"Bokeh: BokehJS plotting callback run at\", now());\n      run_inline_js();\n    });\n  }\n}(window));"
     },
     "metadata": {},
     "output_type": "display_data"
    }
   ],
   "source": [
    "output_notebook()"
   ]
  },
  {
   "cell_type": "code",
   "execution_count": 3,
   "metadata": {},
   "outputs": [
    {
     "name": "stdout",
     "output_type": "stream",
     "text": [
      "CPU times: user 11.1 s, sys: 2.31 s, total: 13.4 s\n",
      "Wall time: 1min 50s\n"
     ]
    }
   ],
   "source": [
    "%%time\n",
    "res = conllu_process_get_2list(blacklist=blacklist)"
   ]
  },
  {
   "cell_type": "code",
   "execution_count": 4,
   "metadata": {},
   "outputs": [
    {
     "name": "stdout",
     "output_type": "stream",
     "text": [
      "CPU times: user 964 ms, sys: 52.7 ms, total: 1.02 s\n",
      "Wall time: 1.01 s\n"
     ]
    }
   ],
   "source": [
    "%%time\n",
    "upos_data, deprel_data, sentences_data, forms_data = extract_data_from_fields(res)"
   ]
  },
  {
   "cell_type": "code",
   "execution_count": 5,
   "metadata": {},
   "outputs": [
    {
     "name": "stderr",
     "output_type": "stream",
     "text": [
      "/home/leo/venv3/lib/python3.8/site-packages/scipy/stats/_continuous_distns.py:547: RuntimeWarning: invalid value encountered in sqrt\n",
      "  sk = 2*(b-a)*np.sqrt(a + b + 1) / (a + b + 2) / np.sqrt(a*b)\n",
      "/home/leo/venv3/lib/python3.8/site-packages/scipy/optimize/minpack.py:162: RuntimeWarning: The iteration is not making good progress, as measured by the \n",
      "  improvement from the last ten iterations.\n",
      "  warnings.warn(msg, RuntimeWarning)\n",
      "/home/leo/venv3/lib/python3.8/site-packages/scipy/stats/_distn_infrastructure.py:1702: RuntimeWarning: divide by zero encountered in log\n",
      "  return log(self._pdf(x, *args))\n"
     ]
    },
    {
     "name": "stdout",
     "output_type": "stream",
     "text": [
      "Error processing lang qhe with Exception 'NoneType' object has no attribute 'name'\n",
      "CPU times: user 20min 1s, sys: 2.8 s, total: 20min 4s\n",
      "Wall time: 20min 36s\n"
     ]
    }
   ],
   "source": [
    "%%time\n",
    "# langs = ['es', 'fr', 'de', 'en']\n",
    "# langs_data = compute_distributions(upos_data, deprel_data, sentences_data, langs)\n",
    "langs_data = compute_distributions(upos_data, deprel_data, sentences_data)"
   ]
  },
  {
   "cell_type": "code",
   "execution_count": 191,
   "metadata": {},
   "outputs": [],
   "source": []
  },
  {
   "cell_type": "code",
   "execution_count": 192,
   "metadata": {},
   "outputs": [],
   "source": []
  },
  {
   "cell_type": "markdown",
   "metadata": {},
   "source": [
    "Well the stats file is quite big now, at 166MB.\n",
    "\n",
    "This is due to all the entire data functions (data, CDF, PDF) there, so an intermediate step would be to process this, plot the right graphs and then only save the graphs and then cut down the number of elements in the output.\n",
    "\n",
    "This should have taken care of much of the size issue, but for a website that will still be too much\n",
    "\n",
    "Also there are some other approaches and the idea is to think what the user would be looking for when reading the reports so:\n",
    "Reading by language: each language can have it's own file, this means that 166MB/92 ~< 2MB per file. \n",
    "\n",
    "\n",
    "\n",
    "Also have a file with the table of the stats only, no need to have the graphs there. In this way there is an easy comparison.\n",
    "The statistics should be computed and displayed for upos, deprel and text "
   ]
  },
  {
   "cell_type": "code",
   "execution_count": null,
   "metadata": {},
   "outputs": [],
   "source": [
    "all_stats = generate_files(blacklist=[], saveto='conllu_stats.json.zip')"
   ]
  },
  {
   "cell_type": "code",
   "execution_count": null,
   "metadata": {},
   "outputs": [],
   "source": []
  },
  {
   "cell_type": "code",
   "execution_count": 232,
   "metadata": {},
   "outputs": [
    {
     "name": "stdout",
     "output_type": "stream",
     "text": [
      "CPU times: user 21 ms, sys: 8.06 ms, total: 29.1 ms\n",
      "Wall time: 28.3 ms\n"
     ]
    }
   ],
   "source": [
    "%%time\n",
    "upos_table, deprel_table, text_table = stats_dict2table(all_stats)"
   ]
  },
  {
   "cell_type": "code",
   "execution_count": 233,
   "metadata": {},
   "outputs": [
    {
     "data": {
      "text/plain": [
       "Index(['lang_code', 'lang_name', 'mean', 'variance', 'skew', 'kurtosis',\n",
       "       'median', 'std', 'intervals_99', 'intervals_98', 'intervals_95',\n",
       "       'intervals_90', 'intervals_85', 'intervals_80'],\n",
       "      dtype='object')"
      ]
     },
     "execution_count": 233,
     "metadata": {},
     "output_type": "execute_result"
    }
   ],
   "source": [
    "upos_table.columns"
   ]
  },
  {
   "cell_type": "code",
   "execution_count": 262,
   "metadata": {},
   "outputs": [],
   "source": [
    "df_tables = [upos_table, deprel_table, text_table]\n",
    "\n",
    "intervals = ['intervals_99', 'intervals_98', 'intervals_95', 'intervals_90', 'intervals_85', 'intervals_80']\n",
    "for df in df_tables:\n",
    "    for interval in intervals:\n",
    "        df[[interval+'_low', interval+'_high']] = pd.DataFrame(df[interval].tolist(), index=df.index)\n",
    "    df.drop(columns=intervals)"
   ]
  },
  {
   "cell_type": "code",
   "execution_count": 263,
   "metadata": {},
   "outputs": [],
   "source": [
    "# from bokeh.models.widgets import DataTable, DateFormatter, TableColumn\n",
    "from bokeh.models import ColumnDataSource, DataTable, DateFormatter, TableColumn\n",
    "\n",
    "df_tables = [upos_table, deprel_table, text_table]\n",
    "bk_tables = []\n",
    "\n",
    "for table in df_tables:\n",
    "    Columns = [TableColumn(field=Ci, title=Ci) for Ci in table.columns] # bokeh columns\n",
    "    data_table = DataTable(columns=Columns, source=ColumnDataSource(table)) # bokeh table\n",
    "    bk_tables.append(data_table)\n"
   ]
  },
  {
   "cell_type": "code",
   "execution_count": 264,
   "metadata": {},
   "outputs": [
    {
     "data": {
      "text/plain": [
       "Index(['lang_code', 'lang_name', 'mean', 'variance', 'skew', 'kurtosis',\n",
       "       'median', 'std', 'intervals_99', 'intervals_98', 'intervals_95',\n",
       "       'intervals_90', 'intervals_85', 'intervals_80', 'intervals_99_low',\n",
       "       'intervals_99high', 'intervals_98_low', 'intervals_98high',\n",
       "       'intervals_95_low', 'intervals_95high', 'intervals_90_low',\n",
       "       'intervals_90high', 'intervals_85_low', 'intervals_85high',\n",
       "       'intervals_80_low', 'intervals_80high', 'intervals_99_high',\n",
       "       'intervals_98_high', 'intervals_95_high', 'intervals_90_high',\n",
       "       'intervals_85_high', 'intervals_80_high'],\n",
       "      dtype='object')"
      ]
     },
     "execution_count": 264,
     "metadata": {},
     "output_type": "execute_result"
    }
   ],
   "source": [
    "upos_table.columns"
   ]
  },
  {
   "cell_type": "code",
   "execution_count": 274,
   "metadata": {},
   "outputs": [],
   "source": [
    "# upos_table"
   ]
  },
  {
   "cell_type": "code",
   "execution_count": 273,
   "metadata": {},
   "outputs": [
    {
     "data": {
      "text/html": [
       "\n",
       "\n",
       "\n",
       "\n",
       "\n",
       "\n",
       "  <div class=\"bk-root\" id=\"b6c9c5e6-653c-429c-9a8d-b827178c1776\" data-root-id=\"2479\"></div>\n"
      ]
     },
     "metadata": {},
     "output_type": "display_data"
    },
    {
     "data": {
      "application/javascript": [
       "(function(root) {\n",
       "  function embed_document(root) {\n",
       "    \n",
       "  var docs_json = {\"8034b341-232d-45ab-bed9-2c07f7461999\":{\"roots\":{\"references\":[{\"attributes\":{\"columns\":[{\"id\":\"2446\"},{\"id\":\"2447\"},{\"id\":\"2448\"},{\"id\":\"2449\"},{\"id\":\"2450\"},{\"id\":\"2451\"},{\"id\":\"2452\"},{\"id\":\"2453\"},{\"id\":\"2454\"},{\"id\":\"2455\"},{\"id\":\"2456\"},{\"id\":\"2457\"},{\"id\":\"2458\"},{\"id\":\"2459\"},{\"id\":\"2460\"},{\"id\":\"2461\"},{\"id\":\"2462\"},{\"id\":\"2463\"},{\"id\":\"2464\"},{\"id\":\"2465\"},{\"id\":\"2466\"},{\"id\":\"2467\"},{\"id\":\"2468\"},{\"id\":\"2469\"},{\"id\":\"2470\"},{\"id\":\"2471\"},{\"id\":\"2472\"},{\"id\":\"2473\"},{\"id\":\"2474\"},{\"id\":\"2475\"},{\"id\":\"2476\"},{\"id\":\"2477\"}],\"source\":{\"id\":\"2478\"},\"view\":{\"id\":\"2480\"}},\"id\":\"2479\",\"type\":\"DataTable\"},{\"attributes\":{},\"id\":\"5560\",\"type\":\"StringFormatter\"},{\"attributes\":{\"editor\":{\"id\":\"5543\"},\"field\":\"intervals_95\",\"formatter\":{\"id\":\"5544\"},\"title\":\"intervals_95\"},\"id\":\"2456\",\"type\":\"TableColumn\"},{\"attributes\":{},\"id\":\"5585\",\"type\":\"StringEditor\"},{\"attributes\":{\"editor\":{\"id\":\"5545\"},\"field\":\"intervals_90\",\"formatter\":{\"id\":\"5546\"},\"title\":\"intervals_90\"},\"id\":\"2457\",\"type\":\"TableColumn\"},{\"attributes\":{\"editor\":{\"id\":\"5561\"},\"field\":\"intervals_95high\",\"formatter\":{\"id\":\"5562\"},\"title\":\"intervals_95high\"},\"id\":\"2465\",\"type\":\"TableColumn\"},{\"attributes\":{},\"id\":\"5551\",\"type\":\"StringEditor\"},{\"attributes\":{},\"id\":\"5555\",\"type\":\"StringEditor\"},{\"attributes\":{},\"id\":\"5577\",\"type\":\"StringEditor\"},{\"attributes\":{},\"id\":\"5564\",\"type\":\"StringFormatter\"},{\"attributes\":{},\"id\":\"5561\",\"type\":\"StringEditor\"},{\"attributes\":{\"editor\":{\"id\":\"5535\"},\"field\":\"median\",\"formatter\":{\"id\":\"5536\"},\"title\":\"median\"},\"id\":\"2452\",\"type\":\"TableColumn\"},{\"attributes\":{},\"id\":\"5576\",\"type\":\"StringFormatter\"},{\"attributes\":{},\"id\":\"5581\",\"type\":\"StringEditor\"},{\"attributes\":{\"editor\":{\"id\":\"5523\"},\"field\":\"lang_code\",\"formatter\":{\"id\":\"5524\"},\"title\":\"lang_code\"},\"id\":\"2446\",\"type\":\"TableColumn\"},{\"attributes\":{\"editor\":{\"id\":\"5583\"},\"field\":\"intervals_85_high\",\"formatter\":{\"id\":\"5584\"},\"title\":\"intervals_85_high\"},\"id\":\"2476\",\"type\":\"TableColumn\"},{\"attributes\":{},\"id\":\"5559\",\"type\":\"StringEditor\"},{\"attributes\":{},\"id\":\"5554\",\"type\":\"StringFormatter\"},{\"attributes\":{\"editor\":{\"id\":\"5559\"},\"field\":\"intervals_95_low\",\"formatter\":{\"id\":\"5560\"},\"title\":\"intervals_95_low\"},\"id\":\"2464\",\"type\":\"TableColumn\"},{\"attributes\":{},\"id\":\"5579\",\"type\":\"StringEditor\"},{\"attributes\":{},\"id\":\"5540\",\"type\":\"StringFormatter\"},{\"attributes\":{},\"id\":\"5565\",\"type\":\"StringEditor\"},{\"attributes\":{\"editor\":{\"id\":\"5529\"},\"field\":\"variance\",\"formatter\":{\"id\":\"5530\"},\"title\":\"variance\"},\"id\":\"2449\",\"type\":\"TableColumn\"},{\"attributes\":{},\"id\":\"5543\",\"type\":\"StringEditor\"},{\"attributes\":{},\"id\":\"5569\",\"type\":\"StringEditor\"},{\"attributes\":{\"editor\":{\"id\":\"5537\"},\"field\":\"std\",\"formatter\":{\"id\":\"5538\"},\"title\":\"std\"},\"id\":\"2453\",\"type\":\"TableColumn\"},{\"attributes\":{},\"id\":\"5553\",\"type\":\"StringEditor\"},{\"attributes\":{\"editor\":{\"id\":\"5541\"},\"field\":\"intervals_98\",\"formatter\":{\"id\":\"5542\"},\"title\":\"intervals_98\"},\"id\":\"2455\",\"type\":\"TableColumn\"},{\"attributes\":{},\"id\":\"5574\",\"type\":\"StringFormatter\"},{\"attributes\":{\"editor\":{\"id\":\"5581\"},\"field\":\"intervals_90_high\",\"formatter\":{\"id\":\"5582\"},\"title\":\"intervals_90_high\"},\"id\":\"2475\",\"type\":\"TableColumn\"},{\"attributes\":{},\"id\":\"5537\",\"type\":\"StringEditor\"},{\"attributes\":{},\"id\":\"5575\",\"type\":\"StringEditor\"},{\"attributes\":{\"editor\":{\"id\":\"5547\"},\"field\":\"intervals_85\",\"formatter\":{\"id\":\"5548\"},\"title\":\"intervals_85\"},\"id\":\"2458\",\"type\":\"TableColumn\"},{\"attributes\":{},\"id\":\"5523\",\"type\":\"StringEditor\"},{\"attributes\":{},\"id\":\"5562\",\"type\":\"StringFormatter\"},{\"attributes\":{},\"id\":\"5583\",\"type\":\"StringEditor\"},{\"attributes\":{\"editor\":{\"id\":\"5553\"},\"field\":\"intervals_99high\",\"formatter\":{\"id\":\"5554\"},\"title\":\"intervals_99high\"},\"id\":\"2461\",\"type\":\"TableColumn\"},{\"attributes\":{},\"id\":\"5525\",\"type\":\"StringEditor\"},{\"attributes\":{},\"id\":\"5568\",\"type\":\"StringFormatter\"},{\"attributes\":{\"editor\":{\"id\":\"5525\"},\"field\":\"lang_name\",\"formatter\":{\"id\":\"5526\"},\"title\":\"lang_name\"},\"id\":\"2447\",\"type\":\"TableColumn\"},{\"attributes\":{},\"id\":\"5557\",\"type\":\"StringEditor\"},{\"attributes\":{},\"id\":\"5571\",\"type\":\"StringEditor\"},{\"attributes\":{},\"id\":\"5586\",\"type\":\"StringFormatter\"},{\"attributes\":{},\"id\":\"5545\",\"type\":\"StringEditor\"},{\"attributes\":{\"editor\":{\"id\":\"5527\"},\"field\":\"mean\",\"formatter\":{\"id\":\"5528\"},\"title\":\"mean\"},\"id\":\"2448\",\"type\":\"TableColumn\"},{\"attributes\":{\"editor\":{\"id\":\"5575\"},\"field\":\"intervals_99_high\",\"formatter\":{\"id\":\"5576\"},\"title\":\"intervals_99_high\"},\"id\":\"2472\",\"type\":\"TableColumn\"},{\"attributes\":{\"editor\":{\"id\":\"5567\"},\"field\":\"intervals_85_low\",\"formatter\":{\"id\":\"5568\"},\"title\":\"intervals_85_low\"},\"id\":\"2468\",\"type\":\"TableColumn\"},{\"attributes\":{},\"id\":\"5550\",\"type\":\"StringFormatter\"},{\"attributes\":{},\"id\":\"5522\",\"type\":\"Selection\"},{\"attributes\":{\"editor\":{\"id\":\"5539\"},\"field\":\"intervals_99\",\"formatter\":{\"id\":\"5540\"},\"title\":\"intervals_99\"},\"id\":\"2454\",\"type\":\"TableColumn\"},{\"attributes\":{\"editor\":{\"id\":\"5565\"},\"field\":\"intervals_90high\",\"formatter\":{\"id\":\"5566\"},\"title\":\"intervals_90high\"},\"id\":\"2467\",\"type\":\"TableColumn\"},{\"attributes\":{},\"id\":\"5570\",\"type\":\"StringFormatter\"},{\"attributes\":{\"editor\":{\"id\":\"5531\"},\"field\":\"skew\",\"formatter\":{\"id\":\"5532\"},\"title\":\"skew\"},\"id\":\"2450\",\"type\":\"TableColumn\"},{\"attributes\":{},\"id\":\"5552\",\"type\":\"StringFormatter\"},{\"attributes\":{},\"id\":\"5572\",\"type\":\"StringFormatter\"},{\"attributes\":{\"editor\":{\"id\":\"5551\"},\"field\":\"intervals_99_low\",\"formatter\":{\"id\":\"5552\"},\"title\":\"intervals_99_low\"},\"id\":\"2460\",\"type\":\"TableColumn\"},{\"attributes\":{},\"id\":\"5556\",\"type\":\"StringFormatter\"},{\"attributes\":{\"editor\":{\"id\":\"5549\"},\"field\":\"intervals_80\",\"formatter\":{\"id\":\"5550\"},\"title\":\"intervals_80\"},\"id\":\"2459\",\"type\":\"TableColumn\"},{\"attributes\":{},\"id\":\"5535\",\"type\":\"StringEditor\"},{\"attributes\":{},\"id\":\"5584\",\"type\":\"StringFormatter\"},{\"attributes\":{},\"id\":\"5524\",\"type\":\"StringFormatter\"},{\"attributes\":{},\"id\":\"5538\",\"type\":\"StringFormatter\"},{\"attributes\":{},\"id\":\"5567\",\"type\":\"StringEditor\"},{\"attributes\":{},\"id\":\"5541\",\"type\":\"StringEditor\"},{\"attributes\":{\"editor\":{\"id\":\"5555\"},\"field\":\"intervals_98_low\",\"formatter\":{\"id\":\"5556\"},\"title\":\"intervals_98_low\"},\"id\":\"2462\",\"type\":\"TableColumn\"},{\"attributes\":{\"editor\":{\"id\":\"5573\"},\"field\":\"intervals_80high\",\"formatter\":{\"id\":\"5574\"},\"title\":\"intervals_80high\"},\"id\":\"2471\",\"type\":\"TableColumn\"},{\"attributes\":{},\"id\":\"5582\",\"type\":\"StringFormatter\"},{\"attributes\":{\"editor\":{\"id\":\"5563\"},\"field\":\"intervals_90_low\",\"formatter\":{\"id\":\"5564\"},\"title\":\"intervals_90_low\"},\"id\":\"2466\",\"type\":\"TableColumn\"},{\"attributes\":{\"data\":{\"index\":[0,1,2,3,4,5,6,7,8,9,10,11,12,13,14,15,16,17,18,19,20,21,22,23,24,25,26,27,28,29,30,31,32,33,34,35,36,37,38,39,40,41,42,43,44,45,46,47,48,49,50,51,52,53,54,55,56,57,58,59,60,61,62,63,64,65,66,67,68,69,70,71,72,73,74,75,76,77,78,79,80,81,82,83,84,85,86,87,88,89,90],\"intervals_80\":[[63.27409930835496,256.987220589778],[18.9485056712007,73.29973195749207],[33.46398886986721,279.45232464622524],[10.540770226238775,29.506857353255864],[41.60394627580442,321.1784613133526],[32.78301737059196,274.449548367846],[25.193478834436434,143.89456191874464],[28.565879786739977,154.71631932834262],[14.474628021050552,95.41768634777137],[16.54543931915766,98.09932416964325],[23.16105560923538,127.64186508730596],[61.532816444623954,283.3503987137072],[30.110550708184725,135.1275429605289],[27.879472853198884,193.1238208321342],[14.827885547239648,95.3949480453891],[24.994039326829252,179.1172055278023],[25.591605773688713,185.46290957283878],[47.00410422381054,205.13315271748752],[49.39987086180817,265.504645759785],[20.036844513020654,172.4261086159995],[53.52556619491499,269.1475016663032],[24.972332968938122,169.48946379710705],[34.621353584184455,147.9905996324012],[35.74515758251636,223.03634449729532],[21.640604403155784,157.31198568185624],[24.41424145490137,70.20011557135544],[26.169461144878042,173.07352493092313],[15.490844476471699,87.3781557758717],[25.600122285418234,221.74631814343428],[20.204963585379442,204.4467840878454],[95.30007836645643,243.72817225266363],[18.926420708241693,108.90405982696414],[23.62635119606203,149.48860486990137],[39.54494370727032,107.45961164038329],[12.95021382160373,77.97122509023932],[33.80788444919278,160.43686788804553],[48.43838408791301,167.52512863094938],[51.31322994759039,222.53394351926516],[40.04848151847068,170.6945686481145],[55.89972733894071,261.44733709857485],[26.32709096477223,251.1703977275701],[48.44922365248945,226.41291777538774],[55.57150004796915,166.82838202544764],[35.83726425035322,224.15938220004824],[12.521860189857836,72.66670636610662],[21.331530344837418,101.38439741295372],[27.073146570631454,86.92685351525597],[20.958616915786305,79.10562011478645],[18.183001608667375,84.44036042578006],[17.63451342692835,105.409961814462],[34.74280080931852,151.84449769809532],[24.76955020048443,204.08890852370396],[32.53442679876909,238.55640495388948],[25.246237771877865,184.1550390209888],[2.214099182093399,8.59060587099264],[24.202868270948326,83.22885714247195],[15.310579922234043,61.63939620490094],[30.787936091082166,222.8105699892056],[17.3193580145635,106.2822128163697],[20.627070467037065,163.16787184531415],[24.08431621751142,162.49028083399622],[29.291627294714864,138.9894096308879],[13.453595161567968,107.64262804561139],[19.311004771563013,126.27101706078905],[19.73909461904043,136.75948802281317],[40.789114451905334,225.04291136848073],[39.43660663419167,189.96752007712277],[30.948963021130197,195.70964145283486],[16.15832314918995,78.67544488461031],[16.523002568806934,101.21648042964509],[21.554524064038084,169.25473315743173],[19.034961976522446,97.71719820070088],[24.006647102807428,118.37533714724228],[53.02792957291064,130.86674616905066],[55.48800876679113,214.68083615951852],[30.19439256287064,176.61597980704445],[18.733598255898954,147.06519875297272],[52.79862784158813,195.61179293642977],[14.982400242432657,41.271878000437795],[50.13074268967228,152.05085327780066],[18.52758458640182,73.58824654293187],[15.06702008526232,116.61371024207529],[27.84332497259095,127.9419514057644],[21.47625059100062,193.40387785779953],[50.879921885508466,204.9234978067034],[29.7687317553231,111.5247599629672],[26.567634576262133,57.59398520391481],[31.967789097809526,155.90550461737467],[45.90490749241114,166.64906259006398],[3.9077523226138546,40.37654721184786],[14.893941462477896,63.94218088269627]],\"intervals_80_high\":{\"__ndarray__\":\"jTDRp8sPcECmv/LOLlNSQGWrxLg8d3FAl/hLZ8GBPUA2B0D62hJ0QOYdoVkxJ3FAKyhRQKD8YUAtF4MW7FZjQHrqhF+72ldAfRTDU1uGWEAXm01RFOlfQO1+rjubtXFA0In51BTkYECOEhtX9iNoQC6kKtRG2VdASJrOJcBjZkAii7wn0C5nQHDffMlCpGlAd6VuBxOYcEBgSImuoo1lQAsOtSpc0nBA0yT7r6kvZUD4EgD+sn9iQLxo77sp4WtAkoxlyfupY0AWmYqxzoxRQC249FBaomVAZopItDPYVUDGTpbW4bdrQGq1JA5MjmlAcGHlL013bkAPnL8d3DlbQJEcrqair2JAqBPxRmrdWkB76EeNKH5TQIB6XdL6DWRA3gOP2s3wZED2JLgQFtFrQFKPB+g5VmVAqgrySihXcEA+Z+/lc2VvQEenVp82TWxAinwFG4LaZECyGLOoGQVsQKGdLVGrKlJAaFOb95lYWUBADWiRUbtVQK+z3nrCxlNAZMt+3S4cVUBHbnrQPFpaQLxbCSAG+2JAnTSwVtiCaUA1CcMRztFtQAaYZBT2BGdAXHqJ5GMuIUDgl22Ypc5UQDeeHrzX0U5AOlh5MPDZa0B5NFjGD5JaQGSxxjRfZWRA0ntuYbBPZEBa4GI+qV9hQCzZYdEg6VpAzy/xV1iRX0D2ddO5TRhhQAuIqYdfIWxA5y6q7PW+Z0D5+f1htXZoQLdpLn06q1NALmO70NpNWUAJjCbGJihlQKkwSJPmbVhAShgZhgWYXUAwQHZivFtgQB/i6WjJ1WpAE8hIG7YTZkBA+LEbFmJiQHi8x86Tc2hA7DD45cyiRECLoQ2XoAFjQCj409SlZVJAwLtSB0cnXUB6i4zuSPxfQHvaQZHsLGhAAbdFS42daUBvzM+qleFbQJ6PCLUHzExACsDR5Pl8Y0A4rOgexdRkQK0k9LIyMERAZwwXYpn4T0A=\",\"dtype\":\"float64\",\"shape\":[91]},\"intervals_80_low\":{\"__ndarray__\":\"0p6mrxWjT0Cm4IVE0fIyQNLkvvxju0BAL7HI1d8UJUB8j48cTs1EQDpyx+k5ZEBAaF8y1IcxOUAChGl/3ZA8QMpaqHEC8yxAErxF6aGLMEDZgL7wOik3QCc3SlQzxE5A+jMcDU0cPkCCNQYiJeE7QGFzTJ3gpy1AZKt/XHn+OEAoHtp5c5c5QFiFuXyGgEdAcgvp9y6zSED0dVqkbgk0QIKFycBFw0pAbWk+0Or4OECNqaWDiE9BQBmj21Jh30FASjpxpv6jNUDncl26C2o4QKQxO85hKzpAg7yb90/7LkDbeDWdoZk5QFsTWH54NDRAuIrkezTTV0A4PFToKe0yQJvlTo1YoDdAinEkt8DFQ0CL/Q9tguYpQG8d9MFo50BAKlZE+Bw4SECngz7rF6hJQGAldKQ0BkRAogj0QyrzS0CJg8Q7vFM6QBQEICmAOUhAUNjf6SbJS0BDsJZ5K+tBQCoMQUIxCylAVLU0LN9UNUA5rdC7uRI7QM+xDutn9TRAfleEMdkuMkC4h9F4b6IxQJG7zxgUX0FA/LXvPQHFOEDcaOsYaERAQF5BSXAJPzlAMIjJoXm2AUB/Hs0s7zM4QDGU4VQEny5ANon+LbbJPkAHRGRywVExQC42rLCHoDRA5rtkv5UVOEDaax0WqEo9QNQdAaA96CpAWsM6Ap5PM0CgbRFONb0zQADezbMBZURA8YjnueK3Q0AY3pQ97/I+QHf4q92HKDBA8b8Qf+OFMEB64/9J9Y01QHbEoUTzCDNAyivhn7MBOEAIHz0yk4NKQL3DPhJ3vktAch0EtsMxPkAYfWUYzbsyQOal5m85ZkpAVqkhKv32LUCxKiwtvBBJQDF4kMgPhzJA68DkdFAiLkCgLTkl5Nc7QGAMCY/reTVAkqXER6FwSUBngrSay8Q9QOsf5X9QkTpAa4S8BsH3P0DW5zoC1PNGQNX0U6YTQw9AD8MDsrLJLUA=\",\"dtype\":\"float64\",\"shape\":[91]},\"intervals_80high\":{\"__ndarray__\":\"jTDRp8sPcECmv/LOLlNSQGWrxLg8d3FAl/hLZ8GBPUA2B0D62hJ0QOYdoVkxJ3FAKyhRQKD8YUAtF4MW7FZjQHrqhF+72ldAfRTDU1uGWEAXm01RFOlfQO1+rjubtXFA0In51BTkYECOEhtX9iNoQC6kKtRG2VdASJrOJcBjZkAii7wn0C5nQHDffMlCpGlAd6VuBxOYcEBgSImuoo1lQAsOtSpc0nBA0yT7r6kvZUD4EgD+sn9iQLxo77sp4WtAkoxlyfupY0AWmYqxzoxRQC249FBaomVAZopItDPYVUDGTpbW4bdrQGq1JA5MjmlAcGHlL013bkAPnL8d3DlbQJEcrqair2JAqBPxRmrdWkB76EeNKH5TQIB6XdL6DWRA3gOP2s3wZED2JLgQFtFrQFKPB+g5VmVAqgrySihXcEA+Z+/lc2VvQEenVp82TWxAinwFG4LaZECyGLOoGQVsQKGdLVGrKlJAaFOb95lYWUBADWiRUbtVQK+z3nrCxlNAZMt+3S4cVUBHbnrQPFpaQLxbCSAG+2JAnTSwVtiCaUA1CcMRztFtQAaYZBT2BGdAXHqJ5GMuIUDgl22Ypc5UQDeeHrzX0U5AOlh5MPDZa0B5NFjGD5JaQGSxxjRfZWRA0ntuYbBPZEBa4GI+qV9hQCzZYdEg6VpAzy/xV1iRX0D2ddO5TRhhQAuIqYdfIWxA5y6q7PW+Z0D5+f1htXZoQLdpLn06q1NALmO70NpNWUAJjCbGJihlQKkwSJPmbVhAShgZhgWYXUAwQHZivFtgQB/i6WjJ1WpAE8hIG7YTZkBA+LEbFmJiQHi8x86Tc2hA7DD45cyiRECLoQ2XoAFjQCj409SlZVJAwLtSB0cnXUB6i4zuSPxfQHvaQZHsLGhAAbdFS42daUBvzM+qleFbQJ6PCLUHzExACsDR5Pl8Y0A4rOgexdRkQK0k9LIyMERAZwwXYpn4T0A=\",\"dtype\":\"float64\",\"shape\":[91]},\"intervals_85\":[[57.36294965084589,275.9393484068501],[17.661275146932795,79.20138548104558],[27.916578605821524,306.61020155413564],[9.807202710793725,31.102580705790235],[34.86280393915364,351.33980448497596],[27.392470282862146,299.1625850672624],[22.384154023788174,154.46511357832756],[24.94925606848374,167.4383072681496],[12.486855089736062,103.54258447969036],[14.381091835444472,106.58426975442065],[20.160734784458295,138.16956950927744],[53.759845400645965,303.3625785621956],[26.834289250793283,145.33651442517686],[23.62685361727927,210.5223044672177],[12.815941450716615,103.97502565494365],[21.352210719048614,193.50321850725805],[21.559289733860563,202.42500826515482],[41.208194689626964,218.96511451563757],[42.308344566789145,285.5244515084121],[16.632423750651995,189.1214590001722],[46.596978403805224,288.68888908871764],[21.23289680664668,184.4911337610301],[30.952876664337758,157.97785177337374],[30.42055781316732,240.25195846585441],[18.81816292617097,169.42265280497125],[22.571599844018074,74.01252243066307],[22.378738559739613,188.5251546399627],[13.554809428790975,94.81408796952074],[21.23274310545609,243.51180287034455],[16.474892579562688,225.06624611452676],[84.2236854175078,254.80456520161238],[15.489123949996944,116.77383073456404],[20.30458598274816,162.6108337596428],[37.0299378981383,111.45747502592087],[11.338488849117294,84.92402145989203],[29.96876243664845,171.53093148458242],[44.77270882368977,177.94123654722026],[45.51839970148069,238.40327149113313],[36.119839756443575,183.60142186799933],[48.914796209980864,279.1654798823462],[21.94289025620587,277.22665998037195],[42.97622006771615,243.82455481672469],[50.537827487865854,175.65139471306352],[30.760861554751987,243.6411076202242],[10.876481178351781,78.84911144317732],[18.9706962482201,109.35982973708084],[21.733657828707607,92.26634225717976],[18.654598564054357,83.80598945169594],[16.468374150496874,91.40173114511708],[15.427414937898703,114.7335658239345],[31.528843718350295,163.86561977414036],[20.88153986046965,224.16688792701717],[27.5305901444348,260.15187397011636],[21.35797425843046,201.2066772413756],[1.821075619663624,8.983629433422417],[21.91134626836349,88.19049749157706],[14.057883965056437,65.73813220988222],[26.04488739080034,243.34377468048058],[14.915109274073641,114.97540137994822],[17.318772734454026,178.75748721107925],[20.597678823053293,177.18168007725842],[26.204261490414712,148.16915672180974],[11.318871722127088,118.03022935909635],[16.869616737573036,138.03812357559215],[17.062036333739556,149.62310854134523],[35.30337819320395,242.95292041107],[34.85244012482446,204.75644376618385],[26.502252553960354,212.55758632127498],[14.317578428001113,84.90828664731097],[14.29508091279021,110.05853999110002],[17.884577151776355,183.52517147629212],[16.96141961398098,105.92137201726342],[21.87008118832545,127.11612498403997],[50.10462772496521,137.46073774636338],[49.809303859434436,229.1856639821467],[26.186457283095862,191.6634728425744],[15.915009296554647,158.51443296785538],[48.35717868838384,208.08857618001787],[14.03025587534859,43.51582985615545],[45.30380061761446,160.02597766064562],[17.179776368556283,78.19160854829614],[12.707470868168125,127.71541447428368],[25.002679318361576,138.07810256207767],[17.762782104068187,212.67835103042597],[45.895646225954124,218.86589159616537],[26.4042739515504,117.15427388296044],[25.084115856976727,60.0096204450264],[28.281675595438163,168.046926663],[40.984056789181636,176.87258262747162],[3.408050231161713,44.57399366956335],[13.260670572745813,68.18906771428139]],\"intervals_85_high\":{\"__ndarray__\":\"ie8xkgc/cUC4vu1/48xTQLJvtGLDKXNA1ZGoukIaP0AY4NPWb/V1QFyrzPKZsnJA9freNeJOY0CnyfacBu5kQJblQLS54llA1dH3rGSlWkDaFwkdbUVhQMatLR/N9XJAiljmucQqYkAnqNu3tlBqQJ0vAdJm/llASu2yXRowaEDU6+6qmU1pQN0x1jfiXmtAfM9DJ2TYcUBsMfz94qNnQNGpkLAFC3JAvzImXrcPZ0A6X82PSr9jQHFZMwsQCG5AQd0sX4YtZUCEiuEqzYBSQHB/GhHOkGdAJ0ptBBq0V0AfxGmwYHBuQCXsK7AeImxAmI2F/77Zb0DnZVhxhjFdQKyePfOLU2RASMRURUfdW0B2wucqIztVQFhWBmT9cGVAjYMbnB4+ZkBuOp2Z58xtQAHFEtk+82ZAKq07zqVycUAnMDdmoFNxQPByyMBiem5Apay5Odj0ZUCKwiD0g3RuQMjGhddXtlNA/jhOcwdXW0BQCGXACxFXQB/9x1SV81RAAISM9rXZVkDE0BG+8q5cQIWWPSize2RAWpRZJVcFbEA3bGYTbkJwQCQRlxmdJmlAVd3vRp73IUDJEmQcMQxWQGBk4Y49b1BAbDvCMwBrbkB11uj5bL5cQCjX0VU9WGZAHMW8UtAlZkBJglu7aYViQKosH0fvgV1A/8vuTjhBYUD03VKB8LNiQJIn8lJ+Xm5AuqCOyTSYaUBW0kS/15FqQAZmUV4hOlVAGNKEHr+DW0Dvbmk0zvBmQCRmVsL3elpA0Cx8l27HX0A7FRZdvi5hQLBrl/XwpWxAhRRmKzv1Z0CKnSA8dtBjQDSMtp3VAmpAeD51tgbCRUDJXBrP1ABkQDkkgFBDjFNAiojKWcntX0Bwu/HQf0JhQGZcOA21lWpAK+1KYrVba0BKfJCf30ldQHRhJD47AU5Ap1xYbIABZUCMAWcy7BtmQFxx4594SUZAW2R4rxkMUUA=\",\"dtype\":\"float64\",\"shape\":[91]},\"intervals_85_low\":{\"__ndarray__\":\"Jj1YInWuTEDku/lTSakxQHs3QOWk6jtABDR4rEmdI0AvwwZccG5BQHeLte54ZDtACcwI61diNkDOqhlyAvM4QHWdABJF+ShAZAMUeB7DLED3kzLqJSk0QC3lNJ1C4UpAvo/3+pPVOkABmIl6eaA3QKyO7BPDoSlATJ1PeypaNUBv66ucLY81QAiTox+mmkRAHCGz1XcnRUCUQ96F5qEwQIBh0MlpTEdA7OMHIJ87NUDGc5657/M+QIShRa2paz5AOLQiIHPRMkDSdAxeVJI2QNfQnwL1YDZA4FZA+w8cK0CrTVoNlTs1QLdVYo+SeTBAcDKk3FAOVUC82lF0bvouQC+50lj5TTRAHrVKAdWDQkD2CRJpTq0mQJX/ptAA+D1AAoprH+hiRkDQDuLrWsJGQMdXvehWD0JAsC/OChh1SEAMH35BYfE1QBdFeMf0fEVACKP3h9dESUCJcabSx8I+QDApGSTCwCVAinSgjH/4MkDowNz/0Ls1QD2fgMWTpzJABa1KXud3MECQMXgh1touQHICS01ihz9AatammKzhNEBp7XXB1Ic7QMjEdDOkWzVAoPhfMCAj/T/t8zH9Tek1QKrCkfeiHSxAgH1zvX0LOkA/0+gzidQtQCdWBRebUTFAkoa2egGZNEDVKSV7SjQ6QGJPhCdDoyZAL+7XM5/eMEA8k/ic4Q8xQLUQvRjVpkFAqfUMwhxtQUCal5Wfk4A6QBhcxKOZoixALzds2BSXLEAUq/Glc+IxQADIh5gf9jBA/rgIpL3eNUCAffhwZA1JQBRm1ESX50hAbP8cqrsvOkDyeTgZfNQvQOi3AAi4LUhAokS2sn0PLEBRlErw4qZGQPqK99IFLjFARU8jnzlqKUARvYCXrwA5QGryHrBFwzFAIKEYiaTyRkCeiGh/fmc6QEHK5p2IFTlA/XxO5BtIPECQeKeS9X1EQOi379avQwtAGvIBnXaFKkA=\",\"dtype\":\"float64\",\"shape\":[91]},\"intervals_85high\":{\"__ndarray__\":\"ie8xkgc/cUC4vu1/48xTQLJvtGLDKXNA1ZGoukIaP0AY4NPWb/V1QFyrzPKZsnJA9freNeJOY0CnyfacBu5kQJblQLS54llA1dH3rGSlWkDaFwkdbUVhQMatLR/N9XJAiljmucQqYkAnqNu3tlBqQJ0vAdJm/llASu2yXRowaEDU6+6qmU1pQN0x1jfiXmtAfM9DJ2TYcUBsMfz94qNnQNGpkLAFC3JAvzImXrcPZ0A6X82PSr9jQHFZMwsQCG5AQd0sX4YtZUCEiuEqzYBSQHB/GhHOkGdAJ0ptBBq0V0AfxGmwYHBuQCXsK7AeImxAmI2F/77Zb0DnZVhxhjFdQKyePfOLU2RASMRURUfdW0B2wucqIztVQFhWBmT9cGVAjYMbnB4+ZkBuOp2Z58xtQAHFEtk+82ZAKq07zqVycUAnMDdmoFNxQPByyMBiem5Apay5Odj0ZUCKwiD0g3RuQMjGhddXtlNA/jhOcwdXW0BQCGXACxFXQB/9x1SV81RAAISM9rXZVkDE0BG+8q5cQIWWPSize2RAWpRZJVcFbEA3bGYTbkJwQCQRlxmdJmlAVd3vRp73IUDJEmQcMQxWQGBk4Y49b1BAbDvCMwBrbkB11uj5bL5cQCjX0VU9WGZAHMW8UtAlZkBJglu7aYViQKosH0fvgV1A/8vuTjhBYUD03VKB8LNiQJIn8lJ+Xm5AuqCOyTSYaUBW0kS/15FqQAZmUV4hOlVAGNKEHr+DW0Dvbmk0zvBmQCRmVsL3elpA0Cx8l27HX0A7FRZdvi5hQLBrl/XwpWxAhRRmKzv1Z0CKnSA8dtBjQDSMtp3VAmpAeD51tgbCRUDJXBrP1ABkQDkkgFBDjFNAiojKWcntX0Bwu/HQf0JhQGZcOA21lWpAK+1KYrVba0BKfJCf30ldQHRhJD47AU5Ap1xYbIABZUCMAWcy7BtmQFxx4594SUZAW2R4rxkMUUA=\",\"dtype\":\"float64\",\"shape\":[91]},\"intervals_90\":[[50.502176263624364,301.9121932893837],[16.236221344109182,87.37731534103162],[21.833495326656198,344.3280596799906],[8.89056367990581,33.214742508680274],[27.373922697583552,393.09798545030736],[21.586739693949582,332.63149234921576],[19.18084318712032,168.45670894180466],[20.79709391717519,184.93402426604553],[10.261494491279846,115.39139425540556],[11.932088230925203,118.29060913289568],[16.715108977748045,152.6486982734581],[44.53765868089345,330.4843046411229],[23.01519595056989,159.3166361677016],[18.843003052310223,234.55405656165163],[10.565677621106163,115.83932550285581],[17.436283458484265,212.54202564526918],[17.040706838430253,225.87130318947942],[34.28685693246051,237.62514041192668],[34.001246802281784,312.7010471979882],[12.91482024181907,212.2135432061185],[38.558464264223886,314.9991464221953],[17.032012435278816,205.133373922705],[26.71032966097783,171.3233300770865],[24.425911004435008,263.27964469204886],[15.943363703609757,185.45280519676012],[20.260121894722445,79.0587731297581],[18.112312554167037,209.86569283402315],[11.35804420009515,105.06734579894044],[16.455590278346527,273.72526244329913],[12.489205787441142,253.57158067396963],[69.22380048813768,269.80445013098245],[11.342897481952008,127.5079667886801],[16.54989290196398,180.72096837507044],[34.1980451144315,116.28531190976969],[9.538945760060997,94.56752849891501],[25.31696962232163,186.21546771110042],[40.320379198454205,191.72840413507805],[38.67329379583597,260.00833085290293],[31.569466727242883,201.3178601309081],[40.761797311556705,302.79959521914805],[17.27151367484696,313.54484789441364],[36.60521029900725,267.74786099547214],[44.283984855411674,187.48149704491146],[24.999883466200593,270.49519831070654],[9.003984509332453,87.36868583047422],[16.24606275727382,120.31635824759304],[14.211226065055435,99.78877402083198],[15.883157033400739,90.0548342722073],[14.537517952618305,101.01518349846135],[12.955615049529051,127.6228578697623],[27.869030780986968,180.42893428152118],[16.650859940464926,252.0626361331106],[21.9926148180789,289.8087152981738],[17.0261621220871,224.8023301097539],[1.310273660383955,9.494431392702083],[19.04687065189545,94.757918596773],[12.57252683632106,71.1633793994576],[20.751166291428273,271.7476525093318],[12.214244498827835,126.76512432703626],[13.6706193712963,200.3692613451506],[16.691499256360434,197.49012787909504],[22.793799997023044,160.10459272690278],[8.975740354789698,132.44186037908534],[14.186175176899104,154.35982141564446],[14.11826085174798,167.46443162495456],[28.98598622747812,267.400176841777],[29.530467862236705,225.04503475586878],[21.46516483178396,235.71375694715942],[12.193795517058515,93.4715230078358],[11.778362285397069,122.26171583546787],[13.861017778854475,202.6836305072075],[14.618262275309533,117.24876040008635],[19.60123805260624,138.6180789554885],[46.46285938868216,146.18880274690508],[43.02742773038964,248.93153728340778],[21.624800723869114,212.3989658451512],[12.824919848646235,173.6690869078972],[42.95405668041449,224.60333417979018],[12.848774058460954,46.486012245058774],[39.162821105288565,170.58177640333082],[15.744459224847724,84.10408146438365],[10.104948847037853,143.10500088698797],[21.747621890856983,152.02552191118468],[13.725073305387825,239.4610999511818],[40.10357777397103,237.64225687842708],[22.418958169277648,124.33767713380794],[23.195307743273116,63.20688171271557],[24.03162927634991,184.65640029257221],[34.97276041624737,190.68128867663248],[2.9224330157660248,50.278307920671686],[11.254520402088149,73.81041312894055]],\"intervals_90_high\":{\"__ndarray__\":\"ipj9V5jeckCigD7vJdhVQCLLgbs/hXVA4Ou5rnybQEDdCDFZkZF4QOW4uJcaynRA8BoSXJ0OZUDAituG4x1nQMmzfZoM2VxALW0MV5mSXUAtr+EiwhRjQMguOba/p3RASyAs4iHqY0CyjdPUulFtQLpdUIK39VxAyIAqRliRakDe9jm34TtsQEIUdyYBtG1A/UREfTeLc0D70Y9Y1YZqQOhz9YD8r3NACIVjmUSkaUDKXFG4WGplQJlttmx5dHBAZfFSYX0uZ0B0jF/wwsNTQFpQdcGzO2pAOP7AZE9EWkDKr8qsmhtxQDW3jWNKsm9AUr0ZB9/ccEBzNSKHguBfQBcMRSwSl2ZAsGfijEISXUDUmA1jUqRXQKaQihzlRmdAzk0wFk/3Z0BBTIgfIkBwQHteAukrKmlAdkRbJMvsckDR/Gyyt5hzQBxYFz33u3BAfqB9bGhvZ0BOWBBV7OdwQKoYdIyY11VA2c6pNj8UXkAZ2gdGe/JYQCR1m2eCg1ZAJVU1xPhAWUDcK0Hn3OdfQInoYtS5jWZAQeh9HQGCb0Dn1nN/8BxyQKe/MbCsGWxA2IqLHCb9IkDligC9gbBXQKxg3s50ylFAo0V6Yvb7cECqfwbM97BfQCkjK/3QC2lARnKpIK+vaEBNrtjSWANkQDuyYLgjjmBA/ZIzqINLY0AODbaf3O5kQMgA1R9ntnBAeXS67HAhbED2Ks8Y13ZtQNh91m4tXldAgovG87+QXkAi4BVN4FVpQEq6vbDrT11AaIWETcdTYUBG6w6sCkZiQLfnRifPHW9ApyQFVMSMakA1c/IoabVlQEBYe4NOE2xA0v00pjU+R0B+PIzpnVJlQHJpTUWpBlVAQvXRKlzjYUDUu1MT0QBjQGtQr1TB7m1ANg9MXo20bUD6k42AnBVfQH4glxl7mk9A17UvOwEVZ0CxKOkdzdVnQFfADJifI0lAHkMHz91zUkA=\",\"dtype\":\"float64\",\"shape\":[91]},\"intervals_90_low\":{\"__ndarray__\":\"DIzST0dASUDskIMAeTwwQHJbIfNf1TVA2GZw9vfHIUB8Wt1luV87QEzHlJI0ljVA3WI2vUsuM0CkG9JYDsw0QB9DIJvihSRA2J4pqzrdJ0D8gMhhEbcwQIds6f/RREZAtLq+4eMDN0DAGUwMz9cyQMl1RX+gISVAx/nRRbBvMUAQyGvDawoxQD7GW7q3JEFALoPv2igAQUDXqZhRY9QpQMRpy8F7R0NAfJaK9zEIMUBPRycq2LU6QAwO64AIbThAhXk+kQDjL0B0zjZZl0I0QOET+4PAHDJAwNzDkVG3JkC234GQoXQwQLMlVC55+ihAVVhIv1JOUUCwuj1CkK8mQOI8/sfFjDBA1c7UilkZQUBIj9uy8BMjQGay0eskUTlA+taBLwIpRECL27h9LlZDQBirSZLIkT9AjKgFk4JhREBt4pHrgUUxQCG49Id3TUJAtkahnVkkRkCGJONc+P84QAeM8kEKAiJAMEEH+P0+MECk86LSJWwsQIpgnygtxC9AWgSXjTUTLUDclTJgRukpQG6OH8143jtAyJLOwZ6mMECCLDUBHP41QBDCko+yBjFAfIyCg+H29D99CA23/wszQKApzDwiJSlAw4ofb0zANEB+oHd0sW0oQDqQF2xbVytAwUZjGAaxMEBkxwJ6Nss2QBtrYj2U8yFAozdQWlJfLEAyT7WvjDwsQC9T6Zdp/DxAvOLnvcyHPUDuwtsKFXc1QGbBfyo5YyhAwnBggIWOJ0C46IJS17grQCiced+MPC1A9g2tvOqZM0CqhPj5PjtHQHWDesCCg0VA9Iiz8PKfNUCCg/fkW6YpQI10gIceekVA5JBtg5KyKUAPKG1S15RDQFzab8IpfS9AnI/z2rs1JEAiAfMlZL81QMmv6848cytAJ+ZXCUINRECFcLPXQGs2QHsDMrD/MTdA3oQz2xgIOEAaUM9pg3xBQNC5m48kYQdASUSGf1CCJkA=\",\"dtype\":\"float64\",\"shape\":[91]},\"intervals_90high\":{\"__ndarray__\":\"ipj9V5jeckCigD7vJdhVQCLLgbs/hXVA4Ou5rnybQEDdCDFZkZF4QOW4uJcaynRA8BoSXJ0OZUDAituG4x1nQMmzfZoM2VxALW0MV5mSXUAtr+EiwhRjQMguOba/p3RASyAs4iHqY0CyjdPUulFtQLpdUIK39VxAyIAqRliRakDe9jm34TtsQEIUdyYBtG1A/UREfTeLc0D70Y9Y1YZqQOhz9YD8r3NACIVjmUSkaUDKXFG4WGplQJlttmx5dHBAZfFSYX0uZ0B0jF/wwsNTQFpQdcGzO2pAOP7AZE9EWkDKr8qsmhtxQDW3jWNKsm9AUr0ZB9/ccEBzNSKHguBfQBcMRSwSl2ZAsGfijEISXUDUmA1jUqRXQKaQihzlRmdAzk0wFk/3Z0BBTIgfIkBwQHteAukrKmlAdkRbJMvsckDR/Gyyt5hzQBxYFz33u3BAfqB9bGhvZ0BOWBBV7OdwQKoYdIyY11VA2c6pNj8UXkAZ2gdGe/JYQCR1m2eCg1ZAJVU1xPhAWUDcK0Hn3OdfQInoYtS5jWZAQeh9HQGCb0Dn1nN/8BxyQKe/MbCsGWxA2IqLHCb9IkDligC9gbBXQKxg3s50ylFAo0V6Yvb7cECqfwbM97BfQCkjK/3QC2lARnKpIK+vaEBNrtjSWANkQDuyYLgjjmBA/ZIzqINLY0AODbaf3O5kQMgA1R9ntnBAeXS67HAhbED2Ks8Y13ZtQNh91m4tXldAgovG87+QXkAi4BVN4FVpQEq6vbDrT11AaIWETcdTYUBG6w6sCkZiQLfnRifPHW9ApyQFVMSMakA1c/IoabVlQEBYe4NOE2xA0v00pjU+R0B+PIzpnVJlQHJpTUWpBlVAQvXRKlzjYUDUu1MT0QBjQGtQr1TB7m1ANg9MXo20bUD6k42AnBVfQH4glxl7mk9A17UvOwEVZ0CxKOkdzdVnQFfADJifI0lAHkMHz91zUkA=\",\"dtype\":\"float64\",\"shape\":[91]},\"intervals_95\":[[41.64113760772045,344.76199342407347],[14.529333117892815,101.05825013246091],[14.658132100711372,407.54782660961496],[7.548958565394788,36.52641574387096],[18.353803176418246,462.9169086418649],[14.947931693023637,386.6056481891808],[14.944996060328739,190.39422898413443],[15.52576590753694,213.93442829393575],[7.5477514532865975,134.68802731871315],[8.89422633839439,137.77672598535125],[12.338679596344182,176.6533783968559],[32.21387324195357,374.5272627853586],[18.045834097305782,182.38134947672106],[12.964186474268303,274.61593783214937],[7.82577680596555,135.64528504917294],[12.977943156694572,242.152474186264],[11.522040443368281,264.9940189569643],[24.94605522349192,267.7265327200775],[23.122885883692202,356.907085489787],[8.560470280761741,250.73091838997362],[28.202090651678127,357.22742590768223],[11.882743368325674,239.33818856249178],[21.27661091260612,192.4884940923143],[17.071475320117482,299.7948696078364],[12.705863648415377,210.58659303445208],[16.861867566382344,86.97082482390863],[12.865077416875799,245.43672382901272],[8.620928839412894,122.12234689729287],[10.843242706863155,324.41311151956523],[7.982408207142801,301.02948194444593],[44.91668522436662,294.1115653947534],[5.623989478216586,144.9545544992784],[11.900220654983851,210.8729920850134],[30.75203416316063,122.81001748075134],[7.353865966450067,110.64721545907163],[18.739676669329207,209.23945456984399],[34.008331797413774,213.34540044095277],[29.585534513534675,295.329810139964],[25.71095116790158,230.6153725617795],[30.16586485192249,340.20275654758655],[12.010292515335594,374.78600692991927],[28.349433225170046,307.2779394002961],[35.30380616301599,206.44523508763334],[17.820004925968085,315.16305847785657],[6.659850741742163,101.52879748176476],[12.758136270690532,138.45451344333372],[1.358797116759746,112.64120296912768],[12.105662475170572,99.91473216092213],[12.160693331313663,117.03697665675394],[9.93959094605551,149.13303364391248],[23.28295814493528,207.95350381538836],[11.722048083254162,298.91255401057805],[15.367697940046721,338.76025547666706],[11.784859891529367,264.228665972567],[0.526339811397099,10.27836524168894],[14.852587084423025,105.05502399296633],[10.521765656543295,79.66966234032736],[14.327292984196497,319.1879836840918],[8.90825288332,145.86458747628706],[9.328455029544598,236.56401769107688],[11.92257778378732,231.37887367450895],[18.745062128483013,178.189029024109],[6.2075602701516654,156.60213483029244],[11.008901153998515,181.7140010497115],[10.630272668830944,197.36277057750928],[20.93235795521968,307.46542086527063],[22.653264432426397,258.57183877125345],[15.20810989536444,274.03369351677065],[9.476296496506208,107.64909502824402],[8.664857898196312,142.58353738490067],[9.129617185495892,233.1901696642019],[11.71783310142683,136.10734786433247],[17.070386743940325,156.33476634649017],[41.15116588255259,159.87359678974644],[33.86423391672508,281.23401425647324],[15.91318970563985,246.8618592778959],[8.92075182644351,197.43017461145263],[35.28064157841272,250.49693853315313],[11.133231097640564,51.14298194674309],[29.984887835282027,187.13212415593765],[14.138798033268678,92.87281278018577],[7.0062225719172835,168.87768790446458],[17.627753596971875,175.1632379079747],[9.026778671620711,284.4505292394438],[32.62187383471088,267.7930236015836],[17.139949131711248,134.96013732103881],[20.36986766278513,68.21981405523964],[18.601783940082086,211.97160863805766],[26.56056396746384,213.0365604712662],[2.451435527231359,59.48171968001557],[8.374690365332729,82.62415984583167]],\"intervals_95_high\":{\"__ndarray__\":\"mkIEIDGMdUAResNeukNZQMzC1eXDeHlAPQNSl2FDQkCsY2Woq+58QJzWJ7ywKXhAxD8ahp3MZ0AoXSrW5r1qQBUU3lEE1mBALyF08No4YUAXzc956BRmQDU4GqtvaHdAo1vRAzTMZkA216Dh2ilxQHXZ1Cym9GBAnm+LEeFEbkBA/GuA549wQE8DxuCfu3BA+xQTbINOdkBqn/auY1dvQCI8WYmjU3ZAEvnRcNLqbUDv2Fy+oQ9oQN6jMcm3vHJAD2HBXsVSakBINXH+Ib5VQMtfQKT5rW5A9agUiNSHXkAjItManEZ0QHwzD8J40HJATZ3L+MhhckDQlOC1ix5iQJXZGI3vW2pA+0CPU9ezXkBpi2P6a6lbQHJLoZypJ2pAUb05hQ2rakCOUP/mRnVyQFx2zCGx02xA8k6mfT5DdUDspgB8k2x3QKqolXByNHNAV42nXT/OaUCs2zTjm7JzQMGYZNHXYVlAvtbGX4tOYUAYoC14CSlcQKPwwviK+lhAT95W011CXUDmu8XPQaRiQIn2bhqD/mlAQ/Q70pmuckA9jqUBKix1QCKepp2og3BAVcuS44WOJEBJklqDhUNaQGjEbr/b6lNAsvUt+wHzc0Dk5VqzqjtiQE0x1G4Mkm1Amiqvux/sbEBgkZiGDEZmQG98Q7BEk2NAQrq6GNm2ZkBPywrRm6toQGozJl1yN3NA5VFpQCYpcEDgiTYCiiBxQHmT38WK6VpAiQSYVqzSYUAIDrHeFSZtQE/TyWRvA2FAQb/pZ7aKY0BAO0GB9PtjQJulu4W+k3FAJYroWZTbbkBG+Iv9w61oQHqAo+vmT29ACpeAO02SSUBxGHBcOmRnQHCbIircN1dApbjxBBYcZUAAh7Q+OeVlQNnUJV41x3FAIByEObC8cED8MOdxud5gQCWd+G4RDlFAAJ//ahd/akBFjd2AK6FqQNTAj/2ovU1As1QjPPKnVEA=\",\"dtype\":\"float64\",\"shape\":[91]},\"intervals_95_low\":{\"__ndarray__\":\"kLIQzBDSREAmFBzABA8tQJkB0rD2UC1ANOu0MSIyHkDy70/YkloyQMLBiE1X5S1A6+sLhtbjLUAicmQwMQ0vQETPyMHlMB5AYEDdCNjJIUDSPXxpZ60oQA3XyTJgG0BAU/iMyLsLMkCwdHzZqe0pQGSrXW+YTR9ATLMm97T0KUCH6Y7iSAsnQJcb1aww8jhAG5kDc3UfN0DUgOz19R4hQO7Igza8MzxAdnBT8PbDJ0ApXAf5z0Y1QC9g4jRMEjFAMsLK9WZpKUBkGFNao9wwQLz6W23ruilA3teEYuo9IUCyIhGCva8lQFUAxGr87R9AxrAB8VV1RkAQ9AcZ934WQL6twLjpzCdA6D+YT4XAPkAqSATXW2odQBZiQHNbvTJAXLQuBBEBQUCKTwKX5ZU9QLcwT+UAtjlAH5ByHnYqPkAZhYEPRQUoQLw9snR0WTxADD3PHuOmQUCCl8PX69ExQIIYsOmvoxpA8g3xbyqEKUCAHaYLor31P0aLVmQZNihA3lp1ZUZSKEAs2oEQEuEjQESi6vFvSDdApm5PSbBxJ0BOnYbnQrwuQBkf3CfZkSdAMBGRlsbX4D+CLVlLhrQtQBAPPt4kCyVAHKsu8pKnLEDWtpyFBtEhQJcz9EErqCJA8cOCHVzYJ0CcUkNkvL4yQFYA8a2K1BhA/KMqsY4EJkASYmgZs0IlQH7VzQKv7jRAUOl8VjynNkDmIFVhjWouQBhjZyLd8yJAHXsiQWhUIUCqaAkvXUIiQJ46/dGHbydArkub3QQSMUDM6lRnWZNEQM82jDef7kBAt4jhmY3TL0BCnYzIbNchQBmXMBDso0FAUlrO3TZEJkC5w/KbIfw9QLRGK4kQRyxA54a7NV8GHEDJ8LB1tKAxQLyuHe+1DSJAIinTj5lPQECszc+00yMxQJWCq6WvXjRAHOklgw6aMkC9ksMegY86QIywzTqKnANA8nViate/IEA=\",\"dtype\":\"float64\",\"shape\":[91]},\"intervals_95high\":{\"__ndarray__\":\"mkIEIDGMdUAResNeukNZQMzC1eXDeHlAPQNSl2FDQkCsY2Woq+58QJzWJ7ywKXhAxD8ahp3MZ0AoXSrW5r1qQBUU3lEE1mBALyF08No4YUAXzc956BRmQDU4GqtvaHdAo1vRAzTMZkA216Dh2ilxQHXZ1Cym9GBAnm+LEeFEbkBA/GuA549wQE8DxuCfu3BA+xQTbINOdkBqn/auY1dvQCI8WYmjU3ZAEvnRcNLqbUDv2Fy+oQ9oQN6jMcm3vHJAD2HBXsVSakBINXH+Ib5VQMtfQKT5rW5A9agUiNSHXkAjItManEZ0QHwzD8J40HJATZ3L+MhhckDQlOC1ix5iQJXZGI3vW2pA+0CPU9ezXkBpi2P6a6lbQHJLoZypJ2pAUb05hQ2rakCOUP/mRnVyQFx2zCGx02xA8k6mfT5DdUDspgB8k2x3QKqolXByNHNAV42nXT/OaUCs2zTjm7JzQMGYZNHXYVlAvtbGX4tOYUAYoC14CSlcQKPwwviK+lhAT95W011CXUDmu8XPQaRiQIn2bhqD/mlAQ/Q70pmuckA9jqUBKix1QCKepp2og3BAVcuS44WOJEBJklqDhUNaQGjEbr/b6lNAsvUt+wHzc0Dk5VqzqjtiQE0x1G4Mkm1Amiqvux/sbEBgkZiGDEZmQG98Q7BEk2NAQrq6GNm2ZkBPywrRm6toQGozJl1yN3NA5VFpQCYpcEDgiTYCiiBxQHmT38WK6VpAiQSYVqzSYUAIDrHeFSZtQE/TyWRvA2FAQb/pZ7aKY0BAO0GB9PtjQJulu4W+k3FAJYroWZTbbkBG+Iv9w61oQHqAo+vmT29ACpeAO02SSUBxGHBcOmRnQHCbIircN1dApbjxBBYcZUAAh7Q+OeVlQNnUJV41x3FAIByEObC8cED8MOdxud5gQCWd+G4RDlFAAJ//ahd/akBFjd2AK6FqQNTAj/2ovU1As1QjPPKnVEA=\",\"dtype\":\"float64\",\"shape\":[91]},\"intervals_98\":[[33.59407570916005,399.2025432177685],[13.14781759400342,118.72879433938084],[8.986229409141183,489.41634203510284],[6.064947500814934,40.46159371058971],[10.990138156697045,553.0195681076875],[9.960656229807874,452.5532547111265],[10.67882946076525,216.46203199008568],[10.861152106766617,250.99050010735104],[5.2897846017426975,159.40125913663343],[6.299522027852638,162.79858368572042],[8.463165833289088,207.33724856700317],[20.44520894932714,429.3474864083472],[13.481129241410583,211.7445802683157],[8.014531923636119,326.14433287796317],[5.551420781819034,161.16007331702835],[9.658959750255345,276.46830116811805],[6.919445508490426,315.3675544341232],[15.898666305507703,304.86506344826756],[13.047698929512418,411.9915737474229],[5.157321863677888,300.2028369303792],[18.858727137598606,408.7981681762299],[7.566693962483236,282.94838694551134],[16.423900503022438,217.88720801459968],[10.921854885728454,343.49362882894684],[9.906972351730005,240.45244062716628],[13.086335237753792,96.37251674426882],[8.441651241203546,291.1824167324427],[6.267131843792278,144.00458489704786],[6.434298041828226,390.07400250809206],[4.648067850854011,361.7272418551667],[14.77810842605129,324.25014219306877],[-0.07905295622477482,166.79895536412374],[7.939057559384931,249.60346260477635],[27.939650773528207,128.99128141149234],[5.547727112897695,131.41950182660995],[11.700220151761025,236.5982787526704],[27.235934668189785,239.03233315689434],[20.986244728243896,339.69997642158665],[20.415024692609915,267.9568084073751],[20.491937457406504,384.99275392111076],[8.13852378935743,454.5602804230797],[20.8130200356178,357.6018171905016],[25.769641290093773,229.74330187784213],[11.64320555927156,372.47402469679895],[4.629382495277868,119.68068171892477],[9.632368327971909,161.60098589701147],[-15.61965468579352,129.61965477168093],[8.401056341286797,111.71031107679362],[10.154328818578715,137.63844795004394],[7.427862052351661,176.83350513222686],[19.30466096177626,243.23027891009502],[7.899951481876946,359.67153338525645],[10.02194198171993,400.7500852407724],[7.476018495934957,315.0715235187103],[-0.3851527047522172,11.189857757838256],[10.211144675626768,117.2908152073565],[8.37455157888232,89.7774642973225],[9.022520134048362,380.3364452538387],[6.14854285505911,169.4349210231641],[5.848042204521918,283.3593802406263],[7.947580492419479,275.01594431246474],[15.537045580761422,198.41230712923596],[4.014121821799321,187.87297069223456],[8.482657159732717,217.10726135672257],[7.8539450453840365,236.0437880431035],[13.768110240102773,357.84857809538295],[16.40171742971107,301.2685977361694],[9.855041945206523,322.8307848513763],[7.042659603831986,125.74354131850608],[6.016442073138714,168.69112315967737],[5.42175596071951,269.8351388009281],[9.248521143088386,160.340556281487],[15.245631303563584,176.55880433408626],[35.29553585735648,176.13489317135083],[24.95903686557901,321.8941896680757],[10.964541116475482,291.0384671156584],[5.145232554885008,225.6648771789376],[27.03406442564459,281.2656569705664],[9.250220673586739,56.67674185004789],[19.617843357922105,206.79846299681932],[12.978572747680461,102.34550634254747],[4.521099988242319,202.19675562689036],[13.998922309768073,204.76004077404585],[5.390265614667064,342.8057372778652],[25.844708341303544,304.6455083755146],[12.211909001523413,146.5097314442743],[17.175402608626527,74.1765435871971],[13.75382066610662,246.4970045783434],[17.953405684408484,240.83075467122544],[2.176978063113821,70.6556663757189],[5.248242070721793,93.09731327050298]],\"intervals_98_high\":{\"__ndarray__\":\"egX1nT3zeECkSQORpK5dQHgLRFapln5A1IKxgBU7RECA9FITKEiBQFeqnCHaSHxA9uNP98gOa0A7+Ectsl9vQPqhZh3X7GNAOqlf/41ZZEDZvIG9yuppQH566E2P1XpANrX/mdN3akBu6f0vT2J0QCuzE1IfJWRA7ptdKX5HcUDxIMKA4bVzQGM0xUzXDXNADgxvfN2/eUBl5u/RPsNyQNlZ/kvFjHlAyy7KlyyvcUCN7g8CZDxrQAjLV+fld3VA8yHEZHoObkA1dnhQ1xdYQFrBzi3rMnJACdw5jyUAYkA9AUEdL2F4QJMDW8iim3ZASKkZlQBEdEAC/NYKkdlkQPP7zpBPM29AwW/Lk7gfYEDdPBiPbG1gQI6Texklk21AAW6L3wjhbUD56nkaMzt1QGwjVRZPv3BAWILvUeIPeEB225ro9mh8QAD2DwuhWXZAZQwFIcm3bED3o+ualUd3QBZxDkqQ611AsKDGRjszZEDCZT421DNgQCs0l7x17VtAYjRlKm40YUDNfvQSrBpmQCJ64HFeZ25AlH3Kmb56dkBHpWFZAAx5QBdc2PUksXNASZ05CTVhJkCkMWO3nFJdQLKznPnBcVZAGyJrFGLFd0ClWn7f6i1lQBnFfgXAtXFAfsnSTkEwcUA8f7ieMc1oQHKwO2Dve2dA8Gder24ja0C7oi62ZoFtQFn8n8aTXXZACcojLUzUckDGag7lSi10QFWNUy6Wb19AUgpRrh0WZUC22YC6XN1wQORtSdblCmRAb3igueERZkD67HsLUQRmQOZM05lOHnRAl7uxj50wckCZbIGsRjVsQJgIhiFAlHFAJuUYep9WTED3TEUCjdlpQFNzosYclllAitl00ktGaUDphAdBUphpQJaZxUzkbHVAEiKXAFQKc0DVXFG4T1BiQCBVeX1Mi1JATz4ldufPbkAz/dGKlRpuQCszGnD2qVFAvJFwYTpGV0A=\",\"dtype\":\"float64\",\"shape\":[91]},\"intervals_98_low\":{\"__ndarray__\":\"YBg/rArMQEBECWi/rksqQMU6pQ/z+CFAC9T/mIFCGEAxEnNj8/olQGxyIyLb6yNAnBj7iI9bJUBk487t6LglQCJ6bUu9KBVAFzwI57UyGUDTM3USJO0gQCA/tTb5cTRA9wNqklb2KkC7h3G6cAcgQHH9QKanNBZAPnQhLGNRI0CQrpUfg60bQHBYcP0dzC9Avp58/msYKkDqxI37GKEUQHgsrIrV2zJAGdMObEtEHkBEPU2+hGwwQBq5E1391yVA+Bwarl7QI0AzSt0hNCwqQAFqihwg4iBAaDuTAosRGUDueTmguLwZQCcHRBmflxJAwENFOmSOLUAANaOF0Dy0v7x6Ck6YwR9A+vb984zwO0DGHFRg3zAWQKWgd0GDZidAJN7jNmY8O0DyqNWIevw0QMPK6Q4/ajRAAz37nO99NEAtBBKX7EYgQKH4vxQi0DRAoJoqNgfFOUB+WjM9UkknQMKSR9h8hBJAw1QPyMVDI0C4lwRhQz0vwERcu0FXzSBAdkDZLwRPJEAFM0h4IbYdQGsyw0L+TTNAx5ea4YyZH0AGy7v6OwskQLZTgWRx5x1AIBy4h1em2L8/FaknG2wkQPHteznFvyBAf3pOwocLIkAlIkKeG5gYQJEy+CxlZBdAsxNlilLKH0DMqWuj9xIvQPAma/N1DhBA7HbY1h73IEDPBeqRcGofQKHt0b5FiStAnNcW9NZmMECQvc4OyLUjQFhGjfWuKxxACqPZMNYQGEDCu2jL4K8VQLrbyyk+fyJA4FvfYsN9LkAZEnUe1KVBQPhRpXCD9ThArdFNVdjtJUC7LsbXt5QUQL0ZOnK4CDtAIK2T7ByAIkCGU3j7Kp4zQMEWuHwH9SlAd8k9PJsVEkC2Zbe+cv8rQFf+DsqhjxVAoI5Mzj7YOUDKii5Wf2woQByvcy/nLDFAKPRHyPSBK0DdWhplEvQxQF53iXlzagFAN/dcKzP+FEA=\",\"dtype\":\"float64\",\"shape\":[91]},\"intervals_98high\":{\"__ndarray__\":\"egX1nT3zeECkSQORpK5dQHgLRFapln5A1IKxgBU7RECA9FITKEiBQFeqnCHaSHxA9uNP98gOa0A7+Ectsl9vQPqhZh3X7GNAOqlf/41ZZEDZvIG9yuppQH566E2P1XpANrX/mdN3akBu6f0vT2J0QCuzE1IfJWRA7ptdKX5HcUDxIMKA4bVzQGM0xUzXDXNADgxvfN2/eUBl5u/RPsNyQNlZ/kvFjHlAyy7KlyyvcUCN7g8CZDxrQAjLV+fld3VA8yHEZHoObkA1dnhQ1xdYQFrBzi3rMnJACdw5jyUAYkA9AUEdL2F4QJMDW8iim3ZASKkZlQBEdEAC/NYKkdlkQPP7zpBPM29AwW/Lk7gfYEDdPBiPbG1gQI6Texklk21AAW6L3wjhbUD56nkaMzt1QGwjVRZPv3BAWILvUeIPeEB225ro9mh8QAD2DwuhWXZAZQwFIcm3bED3o+ualUd3QBZxDkqQ611AsKDGRjszZEDCZT421DNgQCs0l7x17VtAYjRlKm40YUDNfvQSrBpmQCJ64HFeZ25AlH3Kmb56dkBHpWFZAAx5QBdc2PUksXNASZ05CTVhJkCkMWO3nFJdQLKznPnBcVZAGyJrFGLFd0ClWn7f6i1lQBnFfgXAtXFAfsnSTkEwcUA8f7ieMc1oQHKwO2Dve2dA8Gder24ja0C7oi62ZoFtQFn8n8aTXXZACcojLUzUckDGag7lSi10QFWNUy6Wb19AUgpRrh0WZUC22YC6XN1wQORtSdblCmRAb3igueERZkD67HsLUQRmQOZM05lOHnRAl7uxj50wckCZbIGsRjVsQJgIhiFAlHFAJuUYep9WTED3TEUCjdlpQFNzosYclllAitl00ktGaUDphAdBUphpQJaZxUzkbHVAEiKXAFQKc0DVXFG4T1BiQCBVeX1Mi1JATz4ldufPbkAz/dGKlRpuQCszGnD2qVFAvJFwYTpGV0A=\",\"dtype\":\"float64\",\"shape\":[91]},\"intervals_99\":[[29.316148393249804,439.15016543480357],[12.499115060555262,131.86831670871607],[6.390787224010763,550.3814446998584],[5.090122700864663,43.18216313034899],[7.4999500050537184,619.973515228747],[7.80691842263133,498.88511715846386],[8.035994697209812,234.48390248694557],[8.448804423693552,278.3559019328458],[4.197182855110993,177.68227993345116],[5.007850380143028,181.3209642034489],[6.457354947179925,229.97089594657544],[13.852858591816592,468.83889403840726],[11.024449234914707,233.3068036249357],[5.588531673505296,364.33686566121617],[4.453706416109313,180.0942168235397],[8.242257637065396,299.33089135984255],[4.68662314014149,352.73433299092954],[10.757324230531843,331.4034211992792],[7.584097149653399,451.67595683074694],[3.619794347246422,336.75765895983176],[13.937740959224136,445.19362959945704],[5.462415770012303,314.9905815196657],[13.898069139363207,235.49946906464604],[7.94013346637503,373.65192945830705],[8.317263865149128,261.1000739345037],[10.598903552463307,102.87233854365128],[6.270633190073185,325.0851576476709],[5.086739315664097,160.1926809712572],[4.4304245905712785,439.0019331306298],[3.2299333384959352,406.33757216983975],[-6.847250269867288,345.87550088898735],[-3.4240511573182957,182.5963631418794],[5.972636018174526,278.28157353259604],[26.62317343797405,132.35617283651294],[4.680000380978914,146.78884117005282],[7.174292563038534,255.5126915344719],[22.87481988020289,256.79089051451245],[16.212920630351476,371.9409082879272],[17.61299992386374,295.43941166688575],[15.337422377887084,416.00988547051656],[6.5004970137228995,514.2588063888572],[16.783761307339837,394.54846164407024],[19.813612110200168,246.38734539792378],[8.544323865546415,414.8234261024726],[3.6031669513462097,133.09993588069858],[7.993799182624668,178.65256482138258],[-28.456130315556436,142.45613040144386],[6.272596260510455,119.89283814151081],[9.168168229946392,152.90467074776885],[6.211285140475314,197.38407276267853],[17.29078971685089,269.3054468338917],[6.187281606002813,404.98964356409147],[7.522243222708236,445.9513036888423],[5.418122585856652,352.83097184358417],[-1.0058144271458307,11.81051948023187],[7.161391161787783,125.74998012593431],[7.0128441532694925,96.76545242333682],[6.476577560031877,425.7331309504576],[4.8110596538312915,186.2035779022085],[4.231039782567197,318.18080323892985],[6.020433998282601,307.38716106521747],[14.073561960396948,211.43444221686812],[3.0077658707298554,211.1617976235142],[7.31925714972955,243.4596800078964],[6.573846281106356,264.841911655629],[10.045373245077483,394.4275548103598],[13.074366086693654,332.6723334463305],[7.186589771032554,358.65937982643754],[5.767864865325546,139.07467996073987],[4.703872835174543,188.02437950038367],[3.7458770230048315,295.1742547296766],[8.023567088679435,178.27839194901975],[14.493803030274876,189.81873625471346],[31.457745984448007,187.37707485552374],[19.873660435323096,351.52461431950576],[8.46274400577661,323.6963789766309],[2.861015321085441,245.18482495023156],[21.71808495858565,302.5374863958098],[8.019644319523472,60.50248444582023],[12.709598565757467,220.39470652926073],[12.500153127219884,108.22019105287391],[3.3658132574995703,226.98930258511513],[12.131549072670962,226.60394306722932],[3.7640995823973116,386.33590995766355],[22.259695733722182,330.67881066063177],[9.53773510455938,153.78206025764212],[15.045336676404547,78.2947042133198],[11.224000803011531,271.69134378328215],[12.771528027332213,260.8837557280953],[2.0873964190861183,78.41481097507567],[3.219671560113307,100.33788566050457]],\"intervals_99_high\":{\"__ndarray__\":\"iffeE2dye0AwUB9AyXtgQP/44DINM4FAZbEXH1GXRUADLVrCyV+DQLELnHApLn9ATHwRIXxPbUB/ojnGsWVxQHkcujzVNWZA/p+4VkWqZkCJS2CUEb9sQEy8JxxsTX1AlOzVVdEpbUAaYT/NY8V2QMH6/9IDg2ZA2BC9VEu1ckCpRvPTvwt2QK2WyWl0tnRADhkcuNA6fED7XwBfHwx1QErTWRsZ03tAx+8BbNmvc0CXQIym+29tQKVrlU1uWndAAj4g55lRcEBxAQtl1LdZQAP8Q85cUXRAj8NIcSoGZEBYzQjrB3B7QAZYE7JmZXlAHV04DQKedUAu3SdoFdNmQLWeP1OBZHFAfpGTxGWLYECwY9YvPlliQMavE/hn8G9Aw+jPfKcMcEDsUtn1DT93QBUsh9QHd3JAMMmqfSgAekAagRUJEhKAQEaGt3/GqHhA1wotImXMbkCuTNnALO15QIRpu6wyo2BAd8uez+FUZkA1nciemM5hQEOalkIk+V1AFWoREPMcY0CjX/ZSSqxoQLUjOBzj1HBAhGd9lNVPeUBFgjeKON97QHTBIalLDXZAzbvIaPyeJ0BsYqSs/29fQAo4KSz9MFhAav6E57qbekCQBc61g0ZnQG/j75Hk4nNATBbNzzE2c0BpLl3z5m1qQAyyNXItZWpASBHZsrVubkDEMFt4eI1wQON7tkPXpnhA8j+34MHKdEAQY9zRjGp2QGuhOsdjYmFA55qEt8eAZ0Am0lO/yXJyQE6QO5boSGZAZ8FfFjO6Z0DKk0n/EGxnQKYU/NFk+HVAByRIXiQ7dEBXlwMW6qVuQMXAVYuZ6HJA9sUKaVFATkApVpZvoYxrQMe9NpwXDltAXh3lXahfbECrTGmAU1NsQA2pHuNfJXhAbzmRaNyqdEBgwjujBjljQO2MD2/cklNA1rd/vg/7cEAn3QvdI05wQDP+VEOMmlNA42kt658VWUA=\",\"dtype\":\"float64\",\"shape\":[91]},\"intervals_99_low\":{\"__ndarray__\":\"3LDhGe9QPUBEDVwCjP8oQI5Iq4YqkBlAGl0TIElcFEDvXOXk8v8dQET3rtJIOh9A7rCe5W0SIEC8IISxyeUgQG4iaE3qyRBA4uYX7gkIFEDTNPPaVNQZQATun+GptCtA5b0wnIQMJkAqdgkMqFoWQBCzLGqY0BFA4s1oMQl8IECOVu4iGr8SQIw0ZQDAgyVA7MotkB1WHkA3Wh29VvUMQIT5P5Uf4CtAFG4FhYPZFUBDOd63z8srQM/S71iywh9APwnKaHCiIECFk4Z8ozIlQFFO8t0gFRlACDjwMNJYFEBhl085wbgRQBbNSErn1glAwG0ik5VjG8CwGuTudGQLwJDiQ7L64xdAndVfS4ifOkC0SRYFUrgSQAC/6L95shxAr1wXMvTfNkDYAGj3gTYwQPxxIZDtnDFAWu07oMKsLkD4vQZKggAaQBLlvpSkyDBAdPAc4kjQM0CH6CGesRYhQN560DFJ0wxAbqgwfqb5H0BwB9T0xHQ8wAGeX3kjFxlAIrFvJRpWIkCT48EhW9gYQD/j4zFxSjFAoLLTv8a/GECrW2jtxhYeQKLkv1MorBVAKPtm3tAX8L/I94a5Q6UcQPryiAQnDRxAp2Cp8gPoGUDuPQFshj4TQOPNWLGV7BBAs2ZppuwUGEDiRMzpqSUsQEB6ho3nDwhADmmkWOtGHUDQIQlcnksaQD9xdyk7FyRAvo/MTxMmKkBraZFjEb8cQFxI0SpLEhdASHheCsTQEkATJmVfjvcNQLxHRvwQDCBAgGQzwNP8LEBbFEHXLnU/QJaF1TWo3zNADnZGyOzsIEDUVSsAXOMGQPjfdGrUtzVAnM/70Q4KIEAEb9KAUGspQJXNGBIUAClAJjtLgC/tCkC/4WlmWkMoQApF6j3gHA5AXD9ra3tCNkDD/P8DUhMjQAnvbF42Fy5Army2O7ByJkCyrbq4BYspQF8ZzuT8sgBANGK0KePBCUA=\",\"dtype\":\"float64\",\"shape\":[91]},\"intervals_99high\":{\"__ndarray__\":\"iffeE2dye0AwUB9AyXtgQP/44DINM4FAZbEXH1GXRUADLVrCyV+DQLELnHApLn9ATHwRIXxPbUB/ojnGsWVxQHkcujzVNWZA/p+4VkWqZkCJS2CUEb9sQEy8JxxsTX1AlOzVVdEpbUAaYT/NY8V2QMH6/9IDg2ZA2BC9VEu1ckCpRvPTvwt2QK2WyWl0tnRADhkcuNA6fED7XwBfHwx1QErTWRsZ03tAx+8BbNmvc0CXQIym+29tQKVrlU1uWndAAj4g55lRcEBxAQtl1LdZQAP8Q85cUXRAj8NIcSoGZEBYzQjrB3B7QAZYE7JmZXlAHV04DQKedUAu3SdoFdNmQLWeP1OBZHFAfpGTxGWLYECwY9YvPlliQMavE/hn8G9Aw+jPfKcMcEDsUtn1DT93QBUsh9QHd3JAMMmqfSgAekAagRUJEhKAQEaGt3/GqHhA1wotImXMbkCuTNnALO15QIRpu6wyo2BAd8uez+FUZkA1nciemM5hQEOalkIk+V1AFWoREPMcY0CjX/ZSSqxoQLUjOBzj1HBAhGd9lNVPeUBFgjeKON97QHTBIalLDXZAzbvIaPyeJ0BsYqSs/29fQAo4KSz9MFhAav6E57qbekCQBc61g0ZnQG/j75Hk4nNATBbNzzE2c0BpLl3z5m1qQAyyNXItZWpASBHZsrVubkDEMFt4eI1wQON7tkPXpnhA8j+34MHKdEAQY9zRjGp2QGuhOsdjYmFA55qEt8eAZ0Am0lO/yXJyQE6QO5boSGZAZ8FfFjO6Z0DKk0n/EGxnQKYU/NFk+HVAByRIXiQ7dEBXlwMW6qVuQMXAVYuZ6HJA9sUKaVFATkApVpZvoYxrQMe9NpwXDltAXh3lXahfbECrTGmAU1NsQA2pHuNfJXhAbzmRaNyqdEBgwjujBjljQO2MD2/cklNA1rd/vg/7cEAn3QvdI05wQDP+VEOMmlNA42kt658VWUA=\",\"dtype\":\"float64\",\"shape\":[91]},\"kurtosis\":[\"NaN\",\"NaN\",\"NaN\",\"NaN\",\"NaN\",\"NaN\",\"NaN\",\"NaN\",\"NaN\",\"NaN\",\"NaN\",\"NaN\",\"NaN\",\"NaN\",\"NaN\",\"NaN\",\"NaN\",\"NaN\",\"NaN\",\"NaN\",\"NaN\",\"NaN\",\"NaN\",\"NaN\",\"NaN\",\"NaN\",\"NaN\",\"NaN\",\"NaN\",\"NaN\",\"NaN\",\"NaN\",\"NaN\",\"NaN\",\"NaN\",\"NaN\",\"NaN\",\"NaN\",\"NaN\",\"NaN\",\"NaN\",\"NaN\",\"NaN\",\"NaN\",\"NaN\",\"NaN\",\"NaN\",\"NaN\",\"NaN\",\"NaN\",\"NaN\",\"NaN\",\"NaN\",\"NaN\",\"NaN\",\"NaN\",\"NaN\",\"NaN\",\"NaN\",\"NaN\",\"NaN\",\"NaN\",\"NaN\",\"NaN\",\"NaN\",\"NaN\",\"NaN\",\"NaN\",\"NaN\",\"NaN\",\"NaN\",\"NaN\",\"NaN\",\"NaN\",\"NaN\",\"NaN\",\"NaN\",\"NaN\",\"NaN\",\"NaN\",\"NaN\",\"NaN\",\"NaN\",\"NaN\",\"NaN\",\"NaN\",\"NaN\",\"NaN\",\"NaN\",\"NaN\",\"NaN\"],\"lang_code\":[\"af\",\"aii\",\"akk\",\"am\",\"ar\",\"be\",\"bg\",\"bho\",\"bm\",\"br\",\"bxr\",\"ca\",\"cop\",\"cs\",\"cu\",\"cy\",\"da\",\"de\",\"el\",\"en\",\"es\",\"et\",\"eu\",\"fa\",\"fi\",\"fo\",\"fr\",\"fro\",\"ga\",\"gd\",\"gl\",\"got\",\"grc\",\"gsw\",\"gun\",\"he\",\"hi\",\"hr\",\"hsb\",\"hu\",\"hy\",\"id\",\"is\",\"it\",\"ja\",\"kk\",\"kmr\",\"ko\",\"koi\",\"kpv\",\"krl\",\"la\",\"lt\",\"lv\",\"lzh\",\"mdf\",\"mr\",\"mt\",\"myv\",\"nl\",\"no\",\"olo\",\"orv\",\"pcm\",\"pl\",\"pt\",\"ro\",\"ru\",\"sa\",\"sk\",\"sl\",\"sme\",\"sms\",\"sq\",\"sr\",\"sv\",\"swl\",\"ta\",\"te\",\"th\",\"tl\",\"tr\",\"ug\",\"uk\",\"ur\",\"vi\",\"wbp\",\"wo\",\"yo\",\"yue\",\"zh\"],\"lang_name\":[\"Afrikaans\",\"Assyrian Neo-Aramaic\",\"Akkadian\",\"Amharic\",\"Arabic\",\"Belarusian\",\"Bulgarian\",\"Bhojpuri\",\"Bambara\",\"Breton\",\"Russia Buriat\",\"Catalan\",\"Coptic\",\"Czech\",\"Church Slavic\",\"Welsh\",\"Danish\",\"German\",\"Modern Greek (1453-)\",\"English\",\"Spanish\",\"Estonian\",\"Basque\",\"Persian\",\"Finnish\",\"Faroese\",\"French\",\"Old French (842-ca. 1400)\",\"Irish\",\"Scottish Gaelic\",\"Galician\",\"Gothic\",\"Ancient Greek (to 1453)\",\"Swiss German\",\"Mby\\u00e1 Guaran\\u00ed\",\"Hebrew\",\"Hindi\",\"Croatian\",\"Upper Sorbian\",\"Hungarian\",\"Armenian\",\"Indonesian\",\"Icelandic\",\"Italian\",\"Japanese\",\"Kazakh\",\"Northern Kurdish\",\"Korean\",\"Komi-Permyak\",\"Komi-Zyrian\",\"Karelian\",\"Latin\",\"Lithuanian\",\"Latvian\",\"Literary Chinese\",\"Moksha\",\"Marathi\",\"Maltese\",\"Erzya\",\"Dutch\",\"Norwegian\",\"Livvi\",\"Old Russian\",\"Nigerian Pidgin\",\"Polish\",\"Portuguese\",\"Romanian\",\"Russian\",\"Sanskrit\",\"Slovak\",\"Slovenian\",\"Northern Sami\",\"Skolt Sami\",\"Albanian\",\"Serbian\",\"Swedish\",\"Swedish Sign Language\",\"Tamil\",\"Telugu\",\"Thai\",\"Tagalog\",\"Turkish\",\"Uighur\",\"Ukrainian\",\"Urdu\",\"Vietnamese\",\"Warlpiri\",\"Wolof\",\"Yoruba\",\"Yue Chinese\",\"Chinese\"],\"mean\":[150.1877745853449,42.582207927051805,139.82445314170369,19.198496516401484,163.42695754950543,137.57080190266774,77.62410398536147,84.70199345663808,49.150511299225045,52.491880516094646,69.66599318595317,163.0350132851233,77.35124430449133,100.44312306077028,50.08004512655116,92.60899231501347,95.62645134083967,119.86476084306923,147.44063048909598,85.89004438414538,151.2947018848739,88.51655990947606,86.17329422298148,119.53614001065331,81.6218075498885,45.43075841692537,90.7000907857506,47.23357922829927,110.28871752199471,98.98263535948577,169.51412530956003,60.54421034046993,79.06487951164064,72.0086194433795,41.41325316673787,90.25620138862922,101.57829712905496,129.23315085001073,98.5425560341468,149.99247873070772,121.99477582935582,128.4548703871753,108.35634513443082,119.00672698735366,39.1308997266453,57.084160650091064,57.00000004294371,48.135994617007796,47.29799740806065,56.072207288717664,86.57132269978923,101.96119426200914,122.50180983927945,94.60929323844398,5.4023525265430195,51.16074154772292,35.841687218238945,114.69851201352155,56.75022640150974,82.46348815301538,84.70697879021192,78.68192373014745,54.2029471298901,65.6230345087397,70.42017013973815,123.28673047834117,106.9438600713349,103.76352111551537,44.073522515608516,53.81317576948786,86.51923176879377,53.684424713915845,65.25590955173564,88.42605941597559,128.41283414111726,94.97820620665071,75.4058536253871,116.57173014865256,26.88662319813675,98.24430995823873,42.97867802328917,59.125427908489605,72.33134055339715,95.45393436459794,120.78354223115527,68.67581653117871,41.24226352366042,87.4258031104666,102.28616147495521,18.91524001457795,36.91638046665489],\"median\":{\"__ndarray__\":\"OWLop7neYECi52klhZdCQNgwyYDroFxA5vBC8bgUMkAqxNs5DgFhQO3mpEKGo1xA5yQVjnAQUUDuP8SqUYRSQJpH+exV6ERAXLQ1GpONRkC4LuhGMnBOQCaxF0oul2JA0X16HQBRUUBh1avC7kRVQGsLupQ8M0VAs2Sg/H/mU0CqjgFAoiBUQKwBq1F+nVtAlQfk16CJYEBMenix8JJRQC/Q0TAADmFAlA2e9bnUUkBL65mUhKxTQNE6G0T6WFpAhynF1NqpUUDyYGaCPnFFQL5bCWd9RFNA23nHJmJnRECbGX8UCXtWQBPkRm0QxlNAZtPrtnMwZUBUz+BVVaxLQEiCkLMZ51BAEgtHu6OHUUDi4zrE+ZVBQLwKw/9lQ1RA6hwX3YM/V0BFH6Qo+l1dQBazpXENBFZA/JuWZr4pYUDOPQR/cyVYQEykElChoFxAliYNS4P8WUCRzLt2X4xZQHAnIS1X6kBADF5zKc5DSUCOOFwAAIBMQMWLy1ymqEZAzILUYi6VRECByPf4O+BHQCIiUSUfElNArdFHRybAVEDDdxuw779ZQB8LD+C/zVNAaNz7TAKcFUBeOVPFodlHQKxCCt/JJ0BAfBKKqvcOWECCurMPn6lIQMYm7i7sBVFAjXLFiNnmUUAIjtvW9NBRQFCPDSiNRUZA0WEYs7VaS0BuOLEj0D9NQP/2KxPkLltAH2d39DHCV0Cxh79m0E9WQH4jbGIceUNAWtaAwrQKR0Az0WmpbXdSQE0J4X4HQkdAYuXar9eZTEDMLLVujOpUQBado8f+h11Ab0v2yz6FVEDf0P0k90hQQOCE1/lclVpAMKLQ1lM2OUAwu+6id5RXQOoN8nW1d0NAe7nJNrBySECFQ49O5udPQJHWn5u/TlNAX4rPfhuPW0CDyIYPgnxQQII0X/PBCkRAldZeBShiU0Chd8J5EgdYQOBIaAlu3yxA1SYyLsLGQEA=\",\"dtype\":\"float64\",\"shape\":[91]},\"skew\":[\"NaN\",\"NaN\",\"NaN\",\"NaN\",\"NaN\",\"NaN\",\"NaN\",\"NaN\",\"NaN\",\"NaN\",\"NaN\",\"NaN\",\"NaN\",\"NaN\",\"NaN\",\"NaN\",\"NaN\",\"NaN\",\"NaN\",\"NaN\",\"NaN\",\"NaN\",\"NaN\",\"NaN\",\"NaN\",\"NaN\",\"NaN\",\"NaN\",\"NaN\",\"NaN\",\"NaN\",\"NaN\",\"NaN\",\"NaN\",\"NaN\",\"NaN\",\"NaN\",\"NaN\",\"NaN\",\"NaN\",\"NaN\",\"NaN\",\"NaN\",\"NaN\",\"NaN\",\"NaN\",\"NaN\",\"NaN\",\"NaN\",\"NaN\",\"NaN\",\"NaN\",\"NaN\",\"NaN\",\"NaN\",\"NaN\",\"NaN\",\"NaN\",\"NaN\",\"NaN\",\"NaN\",\"NaN\",\"NaN\",\"NaN\",\"NaN\",\"NaN\",\"NaN\",\"NaN\",\"NaN\",\"NaN\",\"NaN\",\"NaN\",\"NaN\",\"NaN\",\"NaN\",\"NaN\",\"NaN\",\"NaN\",\"NaN\",\"NaN\",\"NaN\",\"NaN\",\"NaN\",\"NaN\",\"NaN\",\"NaN\",\"NaN\",\"NaN\",\"NaN\",\"NaN\",\"NaN\"],\"std\":{\"__ndarray__\":\"lbb3CWPkU0CZ81ed6AM3QHVvstldMFpAGh7940oZHkCAAwwdCIldQEIvV1qG0lhAzLAqnLyoR0C1HlPqPiBKQHjsxKY2qEBA0dmMiYcKQUAMgbYzn6JFQEBfZK2+UFZAbhLBbUiLRUAAdRoIZVNRQCv5csUp9EBAf8hN3KO3TkBtyUhWL81QQL3bLV/YmE9A3Q1/hDfXVUAuKUNYfSVQQPx9JA+VmFVABTJ0MPodTkDi4p9vZ4NGQNWygeS0t1JABCOvjIHzSkCxPpikYSUyQKne64DMy05AQGsAWN/9PUA0/ueP9elUQM8cGp0Dn1NAay83l21aTkD5JIpBRxBCQHElY836UEpAtsrcrO8uOUAB4LDFT287QMqfTVqXPElAq/FJuLy6R0DN9dnFq1hRQLFcof+U6UpAs6CvvetVVEDM6OEr71dYQClg0GYOTlJA76WInrkARkB7gKo/NKRTQKI0Ka8oDDlA/jg0m9CGQEDnCxjw4UU6QH6DQEFF1zZA5Zp4eTbFO0CVhakAtnRCQDUohkrWX0hAyFBJy7otU0BUiR4d4HpVQJKl2bBXwlBAte72gwfnA0CS9Ulnfmo3QBa6yzbDejJAz/53ELY6VEAqD98EsB9CQC2ikV0mQE5A31ChOWgYTUD7plPtrVZFQIcrA5BaC0RAwpdyvla+RkDzoaS/S+BIQOWi29zl1lJAqYsgnuv2TkAf/O24OxlRQBZlrZZd0TlALawZqBa3QUCd+Qp61NZNQDRjcBITdEBAtbn+7pm8QkDLfcYKuuc+QIkpA5D6F1BA0AXDSKJ8TkDLfWkMEoxJQHbBeQYfdExAsFFqStrkJECpgh60iBlEQImQsRKRUzVA/8JKPT6MRUCmHiW2fcFEQJw7aqpqZVJAdDS80mbbTkDY2tKpbRs/QCRrw3OydyhAS3pOPCNsSUDQr1y/BxhIQLVoGcIe9C5AlyyW/yuGM0A=\",\"dtype\":\"float64\",\"shape\":[91]},\"variance\":[6331.153330650373,529.7025688205371,10973.76258495989,56.62110628844081,13957.32428366497,9858.394930908822,2239.0173434256967,2730.26314614467,1109.8337781827906,1161.600533297559,1872.3347388258499,7967.6400219386105,1856.5884850869033,4802.911558762528,1149.7202352463773,3774.220905323029,4516.648347893905,3993.4946720622734,7632.252450406125,4171.322388916737,7462.212361107148,3628.1585690311354,2027.3941777978487,5605.57916331556,2905.4677596601505,329.278084053418,3793.5964467786093,899.5014213853423,6998.261573555994,6159.831740452988,3685.275432150843,1305.172741759463,2770.1962543049476,634.2008479617447,752.6688533784456,2547.560970061691,2252.3456964977713,4814.345415332941,2897.115508276156,6616.6045002845585,9481.690591462566,5361.114071622148,1936.4985213456994,6172.567489189852,627.3770454487179,1092.5167510494296,690.2694144079695,521.7067354575738,771.1930314292578,1362.4812950690796,2376.438398323756,5885.118500373501,7382.234168017682,4493.906037599769,6.1891851788661425,548.3086468719903,341.4934440694911,6547.619525617389,1313.8855461057767,3660.391670862901,3386.155320116732,1821.341934524682,1607.1039678832967,2069.0691899738204,2475.292515911464,5678.794962432178,3835.209151360182,4677.776191386316,666.5605678622815,1255.31175082819,3561.5065657806235,1082.859594387928,1404.2592810166893,955.1303070288518,4144.0978961115725,3717.792399185207,2610.6275738363133,3238.4290495544947,109.13934778125069,1615.998543011254,454.81671842723944,1857.2349968995043,1723.216995280367,5414.698560572323,3808.6271042739113,967.6542884031156,149.6654552319643,2585.196260228424,2322.0579427465495,239.53125053126388,381.19082685832177]},\"selected\":{\"id\":\"5522\"},\"selection_policy\":{\"id\":\"5521\"}},\"id\":\"2478\",\"type\":\"ColumnDataSource\"},{\"attributes\":{},\"id\":\"5563\",\"type\":\"StringEditor\"},{\"attributes\":{},\"id\":\"5544\",\"type\":\"StringFormatter\"},{\"attributes\":{},\"id\":\"5548\",\"type\":\"StringFormatter\"},{\"attributes\":{},\"id\":\"5573\",\"type\":\"StringEditor\"},{\"attributes\":{},\"id\":\"5521\",\"type\":\"UnionRenderers\"},{\"attributes\":{},\"id\":\"5536\",\"type\":\"StringFormatter\"},{\"attributes\":{\"editor\":{\"id\":\"5557\"},\"field\":\"intervals_98high\",\"formatter\":{\"id\":\"5558\"},\"title\":\"intervals_98high\"},\"id\":\"2463\",\"type\":\"TableColumn\"},{\"attributes\":{\"editor\":{\"id\":\"5533\"},\"field\":\"kurtosis\",\"formatter\":{\"id\":\"5534\"},\"title\":\"kurtosis\"},\"id\":\"2451\",\"type\":\"TableColumn\"},{\"attributes\":{},\"id\":\"5580\",\"type\":\"StringFormatter\"},{\"attributes\":{},\"id\":\"5542\",\"type\":\"StringFormatter\"},{\"attributes\":{},\"id\":\"5558\",\"type\":\"StringFormatter\"},{\"attributes\":{},\"id\":\"5539\",\"type\":\"StringEditor\"},{\"attributes\":{\"editor\":{\"id\":\"5571\"},\"field\":\"intervals_80_low\",\"formatter\":{\"id\":\"5572\"},\"title\":\"intervals_80_low\"},\"id\":\"2470\",\"type\":\"TableColumn\"},{\"attributes\":{},\"id\":\"5549\",\"type\":\"StringEditor\"},{\"attributes\":{\"editor\":{\"id\":\"5577\"},\"field\":\"intervals_98_high\",\"formatter\":{\"id\":\"5578\"},\"title\":\"intervals_98_high\"},\"id\":\"2473\",\"type\":\"TableColumn\"},{\"attributes\":{\"editor\":{\"id\":\"5585\"},\"field\":\"intervals_80_high\",\"formatter\":{\"id\":\"5586\"},\"title\":\"intervals_80_high\"},\"id\":\"2477\",\"type\":\"TableColumn\"},{\"attributes\":{},\"id\":\"5566\",\"type\":\"StringFormatter\"},{\"attributes\":{\"editor\":{\"id\":\"5569\"},\"field\":\"intervals_85high\",\"formatter\":{\"id\":\"5570\"},\"title\":\"intervals_85high\"},\"id\":\"2469\",\"type\":\"TableColumn\"},{\"attributes\":{},\"id\":\"5546\",\"type\":\"StringFormatter\"},{\"attributes\":{},\"id\":\"5578\",\"type\":\"StringFormatter\"},{\"attributes\":{},\"id\":\"5526\",\"type\":\"StringFormatter\"},{\"attributes\":{},\"id\":\"5532\",\"type\":\"StringFormatter\"},{\"attributes\":{},\"id\":\"5530\",\"type\":\"StringFormatter\"},{\"attributes\":{\"source\":{\"id\":\"2478\"}},\"id\":\"2480\",\"type\":\"CDSView\"},{\"attributes\":{},\"id\":\"5531\",\"type\":\"StringEditor\"},{\"attributes\":{},\"id\":\"5547\",\"type\":\"StringEditor\"},{\"attributes\":{},\"id\":\"5528\",\"type\":\"StringFormatter\"},{\"attributes\":{},\"id\":\"5533\",\"type\":\"StringEditor\"},{\"attributes\":{},\"id\":\"5534\",\"type\":\"StringFormatter\"},{\"attributes\":{},\"id\":\"5529\",\"type\":\"StringEditor\"},{\"attributes\":{},\"id\":\"5527\",\"type\":\"StringEditor\"},{\"attributes\":{\"editor\":{\"id\":\"5579\"},\"field\":\"intervals_95_high\",\"formatter\":{\"id\":\"5580\"},\"title\":\"intervals_95_high\"},\"id\":\"2474\",\"type\":\"TableColumn\"}],\"root_ids\":[\"2479\"]},\"title\":\"Bokeh Application\",\"version\":\"2.0.2\"}};\n",
       "  var render_items = [{\"docid\":\"8034b341-232d-45ab-bed9-2c07f7461999\",\"root_ids\":[\"2479\"],\"roots\":{\"2479\":\"b6c9c5e6-653c-429c-9a8d-b827178c1776\"}}];\n",
       "  root.Bokeh.embed.embed_items_notebook(docs_json, render_items);\n",
       "\n",
       "  }\n",
       "  if (root.Bokeh !== undefined) {\n",
       "    embed_document(root);\n",
       "  } else {\n",
       "    var attempts = 0;\n",
       "    var timer = setInterval(function(root) {\n",
       "      if (root.Bokeh !== undefined) {\n",
       "        clearInterval(timer);\n",
       "        embed_document(root);\n",
       "      } else {\n",
       "        attempts++;\n",
       "        if (attempts > 100) {\n",
       "          clearInterval(timer);\n",
       "          console.log(\"Bokeh: ERROR: Unable to run BokehJS code because BokehJS library is missing\");\n",
       "        }\n",
       "      }\n",
       "    }, 10, root)\n",
       "  }\n",
       "})(window);"
      ],
      "application/vnd.bokehjs_exec.v0+json": ""
     },
     "metadata": {
      "application/vnd.bokehjs_exec.v0+json": {
       "id": "2479"
      }
     },
     "output_type": "display_data"
    }
   ],
   "source": [
    "show(bk_tables[2])"
   ]
  },
  {
   "cell_type": "code",
   "execution_count": 275,
   "metadata": {},
   "outputs": [],
   "source": [
    "frstats = all_stats['fr']"
   ]
  },
  {
   "cell_type": "code",
   "execution_count": 276,
   "metadata": {},
   "outputs": [
    {
     "data": {
      "text/plain": [
       "dict_keys(['lang', 'upos_len', 'upos_distrib', 'deprel_len', 'deprel_distrib', 'text_len', 'text_distrib', 'upos_stats', 'deprel_stats', 'text_stats', 'upos_functions', 'deprel_functions', 'text_functions'])"
      ]
     },
     "execution_count": 276,
     "metadata": {},
     "output_type": "execute_result"
    }
   ],
   "source": [
    "frstats.keys()"
   ]
  },
  {
   "cell_type": "code",
   "execution_count": 278,
   "metadata": {},
   "outputs": [],
   "source": [
    "from bokeh.palettes import Spectral4\n",
    "from bokeh.plotting import figure, output_file, show\n",
    "# from bokeh.sampledata.stocks import AAPL, GOOG, IBM, MSFT"
   ]
  },
  {
   "cell_type": "code",
   "execution_count": 306,
   "metadata": {},
   "outputs": [],
   "source": [
    "cdf, pdf = frstats['text_functions']['cdf'], frstats['text_functions']['pdf']"
   ]
  },
  {
   "cell_type": "code",
   "execution_count": 375,
   "metadata": {},
   "outputs": [],
   "source": [
    "cdf100 = resample(cdf, 100)\n",
    "pdf100 = resample(pdf, 100)"
   ]
  },
  {
   "cell_type": "code",
   "execution_count": 390,
   "metadata": {},
   "outputs": [],
   "source": [
    "hist, bin_edges = np.histogram(frstats['text_len'], bins=100)"
   ]
  },
  {
   "cell_type": "code",
   "execution_count": 291,
   "metadata": {},
   "outputs": [],
   "source": [
    "from scipy.signal import resample"
   ]
  },
  {
   "cell_type": "code",
   "execution_count": 292,
   "metadata": {},
   "outputs": [],
   "source": [
    "cdf = resample(cdf, 100)"
   ]
  },
  {
   "cell_type": "code",
   "execution_count": 293,
   "metadata": {},
   "outputs": [],
   "source": [
    "pdf = resample(pdf, 100)"
   ]
  },
  {
   "cell_type": "code",
   "execution_count": 362,
   "metadata": {},
   "outputs": [],
   "source": [
    "import numpy as np\n",
    "import scipy.special\n",
    "\n",
    "from bokeh.layouts import gridplot\n",
    "from bokeh.plotting import figure, output_file, show\n",
    "from bokeh.models import LinearAxis, Range1d, HoverTool\n"
   ]
  },
  {
   "cell_type": "code",
   "execution_count": 386,
   "metadata": {},
   "outputs": [],
   "source": [
    "max_len = max(frstats['text_len'])\n",
    "x = np.linspace(0, max_len, 100)\n"
   ]
  },
  {
   "cell_type": "code",
   "execution_count": 419,
   "metadata": {},
   "outputs": [
    {
     "name": "stderr",
     "output_type": "stream",
     "text": [
      "BokehUserWarning: ColumnDataSource's columns must be of the same length. Current lengths: ('x', 100), ('y', 12)\n"
     ]
    }
   ],
   "source": [
    "cr = plot.circle(x, y, size=10,\n",
    "                fill_color=\"grey\", hover_fill_color=\"firebrick\",\n",
    "                fill_alpha=0.05, hover_alpha=0.3,\n",
    "                line_color=None, hover_line_color=\"white\")\n",
    "\n"
   ]
  },
  {
   "cell_type": "code",
   "execution_count": 420,
   "metadata": {},
   "outputs": [],
   "source": [
    "# TODO make it even better being able to change the Sizing mode from a dropdown menu ?\n",
    "\n",
    "hover = HoverTool(\n",
    "#     names=[\"hist\"],\n",
    "    tooltips=[\n",
    "#         (\"index\", \"$index\"),\n",
    "        (\"Count\", \"@hist\"),\n",
    "        (\"pdf\", \"@pdf\"),\n",
    "        (\"cdf\", \"@cdf\"),\n",
    "    ],\n",
    "\n",
    "#     formatters={\n",
    "#         '@date'        : 'datetime', # use 'datetime' formatter for '@date' field\n",
    "#         '@{adj close}' : 'printf',   # use 'printf' formatter for '@{adj close}' field\n",
    "#         '@numeral': '(.00)'                             # use default 'numeral' formatter for other fields\n",
    "#     },\n",
    "#     renderers=[cr],\n",
    "    # display a tooltip whenever the cursor is vertically in line with a glyph\n",
    "    mode='vline',\n",
    ")"
   ]
  },
  {
   "cell_type": "code",
   "execution_count": 414,
   "metadata": {},
   "outputs": [],
   "source": [
    "def make_plot(title, data_source):\n",
    "\n",
    "    p = figure(title=title, background_fill_color=\"#fafafa\", \n",
    "               plot_height=500,  sizing_mode=\"stretch_width\",\n",
    "               tools=\"crosshair,pan,wheel_zoom,box_zoom,zoom_in,zoom_out,undo,redo,reset\",\n",
    "                toolbar_location=\"left\",\n",
    "               output_backend=\"webgl\")\n",
    "    p.add_tools(hover)\n",
    "    # p = figure(title=title, tools='', background_fill_color=\"#fafafa\")\n",
    "    p.xaxis.axis_label = 'Length'\n",
    "    p.yaxis.axis_label = 'Count'\n",
    "    # second axe, probability\n",
    "    p.extra_y_ranges = {\"Pr(x)\": Range1d(start=0., end=1.)}\n",
    "    p.add_layout(LinearAxis(y_range_name=\"Pr(x)\", axis_label='Pr(x)'), 'right')\n",
    "    p.quad(name='hist', top='hist', bottom=0, left='bin_edges_left', right='bin_edges_right',\n",
    "           fill_color=\"blue\", line_color=\"white\", alpha=0.5, legend_label=\"Freq.\", source=data_source)\n",
    "    p.line(name='PDF', x='x', y='pdf', line_color=\"green\", line_width=4, alpha=0.7, legend_label=\"PDF\", y_range_name=\"Pr(x)\", source=data_source)\n",
    "    p.line(name='CDF', x='x', y='cdf', line_color=\"red\", line_width=2, alpha=0.7, legend_label=\"CDF\", y_range_name=\"Pr(x)\", source=data_source)\n",
    "\n",
    "\n",
    "    p.y_range.start = 0\n",
    "\n",
    "    p.title.align='center'\n",
    "    p.legend.location = \"center_right\"\n",
    "    #     p.legend.location = \"bottom_right\"\n",
    "    p.legend.background_fill_color = \"#fefefe\"\n",
    "    p.grid.grid_line_color=\"grey\"\n",
    "    #     p.legend.click_policy=\"mute\"\n",
    "    p.legend.click_policy=\"hide\"\n",
    "\n",
    "    show(p)"
   ]
  },
  {
   "cell_type": "code",
   "execution_count": 404,
   "metadata": {},
   "outputs": [],
   "source": [
    "data_source = ColumnDataSource({'hist':hist,\n",
    "                                'bin_edges_left': bin_edges[:-1],\n",
    "                                'bin_edges_right': bin_edges[1:],\n",
    "                                'x': x,\n",
    "                                'pdf': pdf100,\n",
    "                                'cdf': cdf100})"
   ]
  },
  {
   "cell_type": "code",
   "execution_count": 417,
   "metadata": {},
   "outputs": [
    {
     "data": {
      "text/html": [
       "\n",
       "\n",
       "\n",
       "\n",
       "\n",
       "\n",
       "  <div class=\"bk-root\" id=\"c92c78b1-12c1-48ad-be5a-ca80aff5fa62\" data-root-id=\"33889\"></div>\n"
      ]
     },
     "metadata": {},
     "output_type": "display_data"
    },
    {
     "data": {
      "application/javascript": [
       "(function(root) {\n",
       "  function embed_document(root) {\n",
       "    \n",
       "  var docs_json = {\"1bcc6431-5d8c-4a85-8b09-6f39a92b32a0\":{\"roots\":{\"references\":[{\"attributes\":{\"background_fill_color\":\"#fafafa\",\"below\":[{\"id\":\"33900\"}],\"center\":[{\"id\":\"33903\"},{\"id\":\"33907\"},{\"id\":\"33944\"}],\"extra_y_ranges\":{\"Pr(x)\":{\"id\":\"33929\"}},\"left\":[{\"id\":\"33904\"}],\"output_backend\":\"webgl\",\"plot_height\":500,\"renderers\":[{\"id\":\"33934\"},{\"id\":\"33949\"},{\"id\":\"33965\"}],\"right\":[{\"id\":\"33930\"}],\"sizing_mode\":\"stretch_width\",\"title\":{\"id\":\"33890\"},\"toolbar\":{\"id\":\"33918\"},\"toolbar_location\":\"left\",\"x_range\":{\"id\":\"33892\"},\"x_scale\":{\"id\":\"33896\"},\"y_range\":{\"id\":\"33894\"},\"y_scale\":{\"id\":\"33898\"}},\"id\":\"33889\",\"subtype\":\"Figure\",\"type\":\"Plot\"},{\"attributes\":{\"line_alpha\":0.1,\"line_color\":\"red\",\"line_width\":2,\"x\":{\"field\":\"x\"},\"y\":{\"field\":\"cdf\"}},\"id\":\"33964\",\"type\":\"Line\"},{\"attributes\":{},\"id\":\"28502\",\"type\":\"Selection\"},{\"attributes\":{\"bottom\":{\"value\":0},\"fill_alpha\":{\"value\":0.5},\"fill_color\":{\"value\":\"blue\"},\"left\":{\"field\":\"bin_edges_left\"},\"line_alpha\":{\"value\":0.5},\"line_color\":{\"value\":\"white\"},\"right\":{\"field\":\"bin_edges_right\"},\"top\":{\"field\":\"hist\"}},\"id\":\"33932\",\"type\":\"Quad\"},{\"attributes\":{\"source\":{\"id\":\"28433\"}},\"id\":\"33966\",\"type\":\"CDSView\"},{\"attributes\":{\"axis_label\":\"Length\",\"formatter\":{\"id\":\"33940\"},\"ticker\":{\"id\":\"33901\"}},\"id\":\"33900\",\"type\":\"LinearAxis\"},{\"attributes\":{\"callback\":null,\"mode\":\"vline\",\"names\":[\"hist\"],\"tooltips\":[[\"index\",\"$index\"],[\"Count\",\"@hist\"],[\"pdf\",\"@pdf\"],[\"cdf\",\"@cdf\"]]},\"id\":\"30212\",\"type\":\"HoverTool\"},{\"attributes\":{},\"id\":\"33942\",\"type\":\"BasicTickFormatter\"},{\"attributes\":{},\"id\":\"33912\",\"type\":\"ZoomInTool\"},{\"attributes\":{\"axis_label\":\"Pr(x)\",\"formatter\":{\"id\":\"33938\"},\"ticker\":{\"id\":\"33937\"},\"y_range_name\":\"Pr(x)\"},\"id\":\"33930\",\"type\":\"LinearAxis\"},{\"attributes\":{\"start\":0},\"id\":\"33894\",\"type\":\"DataRange1d\"},{\"attributes\":{\"axis\":{\"id\":\"33904\"},\"dimension\":1,\"grid_line_color\":\"grey\",\"ticker\":null},\"id\":\"33907\",\"type\":\"Grid\"},{\"attributes\":{},\"id\":\"33938\",\"type\":\"BasicTickFormatter\"},{\"attributes\":{},\"id\":\"33915\",\"type\":\"RedoTool\"},{\"attributes\":{},\"id\":\"33940\",\"type\":\"BasicTickFormatter\"},{\"attributes\":{\"data_source\":{\"id\":\"28433\"},\"glyph\":{\"id\":\"33932\"},\"hover_glyph\":null,\"muted_glyph\":null,\"name\":\"hist\",\"nonselection_glyph\":{\"id\":\"33933\"},\"selection_glyph\":null,\"view\":{\"id\":\"33935\"}},\"id\":\"33934\",\"type\":\"GlyphRenderer\"},{\"attributes\":{},\"id\":\"33929\",\"type\":\"Range1d\"},{\"attributes\":{\"line_alpha\":0.1,\"line_color\":\"green\",\"line_width\":4,\"x\":{\"field\":\"x\"},\"y\":{\"field\":\"pdf\"}},\"id\":\"33948\",\"type\":\"Line\"},{\"attributes\":{},\"id\":\"33937\",\"type\":\"BasicTicker\"},{\"attributes\":{\"align\":\"center\",\"text\":\"frech, txt-len\"},\"id\":\"33890\",\"type\":\"Title\"},{\"attributes\":{\"background_fill_color\":\"#fefefe\",\"click_policy\":\"hide\",\"items\":[{\"id\":\"33945\"},{\"id\":\"33961\"},{\"id\":\"33977\"}],\"location\":\"center_right\"},\"id\":\"33944\",\"type\":\"Legend\"},{\"attributes\":{\"data_source\":{\"id\":\"28433\"},\"glyph\":{\"id\":\"33963\"},\"hover_glyph\":null,\"muted_glyph\":null,\"name\":\"CDF\",\"nonselection_glyph\":{\"id\":\"33964\"},\"selection_glyph\":null,\"view\":{\"id\":\"33966\"},\"y_range_name\":\"Pr(x)\"},\"id\":\"33965\",\"type\":\"GlyphRenderer\"},{\"attributes\":{\"active_drag\":\"auto\",\"active_inspect\":\"auto\",\"active_multi\":null,\"active_scroll\":\"auto\",\"active_tap\":\"auto\",\"tools\":[{\"id\":\"33908\"},{\"id\":\"33909\"},{\"id\":\"33910\"},{\"id\":\"33911\"},{\"id\":\"33912\"},{\"id\":\"33913\"},{\"id\":\"33914\"},{\"id\":\"33915\"},{\"id\":\"33916\"},{\"id\":\"30212\"}]},\"id\":\"33918\",\"type\":\"Toolbar\"},{\"attributes\":{\"label\":{\"value\":\"Freq.\"},\"renderers\":[{\"id\":\"33934\"}]},\"id\":\"33945\",\"type\":\"LegendItem\"},{\"attributes\":{\"data\":{\"bin_edges_left\":{\"__ndarray__\":\"AAAAAAAA8D9SuB6F6xEyQFK4HoXrkUFAexSuR+EaSkBSuB6F61FRQGZmZmZmllVAexSuR+HaWUCQwvUoXB9eQFK4HoXrMWFAXI/C9ShUY0BmZmZmZnZlQHE9CtejmGdAexSuR+G6aUCF61G4Ht1rQJDC9Shc/21AzczMzMwQcEBSuB6F6yFxQNejcD0KM3JAXI/C9ShEc0DhehSuR1V0QGZmZmZmZnVA7FG4HoV3dkBxPQrXo4h3QPYoXI/CmXhAexSuR+GqeUAAAAAAALx6QIXrUbgezXtACtejcD3efECQwvUoXO99QBWuR+F6AH9AzczMzMwIgECPwvUoXJGAQFK4HoXrGYFAFa5H4XqigUDXo3A9CiuCQJqZmZmZs4JAXI/C9Sg8g0AfhetRuMSDQOF6FK5HTYRApHA9CtfVhEBmZmZmZl6FQClcj8L15oVA7FG4HoVvhkCuR+F6FPiGQHE9CtejgIdAMzMzMzMJiED2KFyPwpGIQLgehetRGolAexSuR+GiiUA+CtejcCuKQAAAAAAAtIpAw/UoXI88i0CF61G4HsWLQEjhehSuTYxACtejcD3WjEDNzMzMzF6NQJDC9Shc541AUrgehetvjkAVrkfheviOQNejcD0KgY9AzczMzMwEkECuR+F6FEmQQI/C9ShcjZBAcT0K16PRkEBSuB6F6xWRQDMzMzMzWpFAFa5H4XqekUD2KFyPwuKRQNejcD0KJ5JAuB6F61FrkkCamZmZma+SQHsUrkfh85JAXI/C9Sg4k0A+CtejcHyTQB+F61G4wJNAAAAAAAAFlEDhehSuR0mUQMP1KFyPjZRApHA9CtfRlECF61G4HhaVQGZmZmZmWpVASOF6FK6elUApXI/C9eKVQArXo3A9J5ZA7FG4HoVrlkDNzMzMzK+WQK5H4XoU9JZAj8L1KFw4l0BxPQrXo3yXQFK4HoXrwJdAMzMzMzMFmEAVrkfhekmYQPYoXI/CjZhA16NwPQrSmEC4HoXrURaZQJqZmZmZWplAexSuR+GemUBcj8L1KOOZQD4K16NwJ5pAH4XrUbhrmkA=\",\"dtype\":\"float64\",\"shape\":[100]},\"bin_edges_right\":{\"__ndarray__\":\"UrgehesRMkBSuB6F65FBQHsUrkfhGkpAUrgehetRUUBmZmZmZpZVQHsUrkfh2llAkML1KFwfXkBSuB6F6zFhQFyPwvUoVGNAZmZmZmZ2ZUBxPQrXo5hnQHsUrkfhumlAhetRuB7da0CQwvUoXP9tQM3MzMzMEHBAUrgeheshcUDXo3A9CjNyQFyPwvUoRHNA4XoUrkdVdEBmZmZmZmZ1QOxRuB6Fd3ZAcT0K16OId0D2KFyPwpl4QHsUrkfhqnlAAAAAAAC8ekCF61G4Hs17QArXo3A93nxAkML1KFzvfUAVrkfhegB/QM3MzMzMCIBAj8L1KFyRgEBSuB6F6xmBQBWuR+F6ooFA16NwPQorgkCamZmZmbOCQFyPwvUoPINAH4XrUbjEg0DhehSuR02EQKRwPQrX1YRAZmZmZmZehUApXI/C9eaFQOxRuB6Fb4ZArkfhehT4hkBxPQrXo4CHQDMzMzMzCYhA9ihcj8KRiEC4HoXrURqJQHsUrkfhoolAPgrXo3ArikAAAAAAALSKQMP1KFyPPItAhetRuB7Fi0BI4XoUrk2MQArXo3A91oxAzczMzMxejUCQwvUoXOeNQFK4HoXrb45AFa5H4Xr4jkDXo3A9CoGPQM3MzMzMBJBArkfhehRJkECPwvUoXI2QQHE9Ctej0ZBAUrgehesVkUAzMzMzM1qRQBWuR+F6npFA9ihcj8LikUDXo3A9CieSQLgehetRa5JAmpmZmZmvkkB7FK5H4fOSQFyPwvUoOJNAPgrXo3B8k0AfhetRuMCTQAAAAAAABZRA4XoUrkdJlEDD9Shcj42UQKRwPQrX0ZRAhetRuB4WlUBmZmZmZlqVQEjhehSunpVAKVyPwvXilUAK16NwPSeWQOxRuB6Fa5ZAzczMzMyvlkCuR+F6FPSWQI/C9ShcOJdAcT0K16N8l0BSuB6F68CXQDMzMzMzBZhAFa5H4XpJmED2KFyPwo2YQNejcD0K0phAuB6F61EWmUCamZmZmVqZQHsUrkfhnplAXI/C9SjjmUA+CtejcCeaQB+F61G4a5pAAAAAAACwmkA=\",\"dtype\":\"float64\",\"shape\":[100]},\"cdf\":{\"__ndarray__\":\"1EJttmqp1T+AtIp7VX7WP0Cop64+o9c/RWy0Vxwt4j/jQXqxVBrjP5S6Dz2f9+I/eYs46VMf4z/7dpo7gLriPzhEeoHuTeQ/mGvrSbgm5T92EbJu3p7lP+f2QeTbTeU/0oFc6WRz5T8sGGRSYlvlP3v6q62c/eQ/Ak5azyF95D+1U/sXq+HlPzpU2qY9FeU/gHtG+taU5T9LKy+zJvXkPyfueh8hIuU/Q8hHFa0q5T/SOnQ+aUzlP0MR9C5f4uQ/xetcbm3E5D/DYDtrjkTlP21tAdieMOU/2PK3OYtk5T+VhQFhvKHkP7S157Iot+Q/C1I1KxSC5T9P20n9xWnkP8gQsW7kg+Q/nPT1w0Ua5T8Cq0Zjq/rlP+77uZjLU+U/MkbcTqAi5T/4J/QxPAblP2XsIJZk8eQ/trsK6Wlc5T9maVsTHy/lP9V5wETHaec/R0wV3g7d5D9UewcrLiLWP+dAR2gZcdY/ulU9VUOa1j+qKm5G/c/WPyE/MMaPeNU/Qs2+LMxd1j+qjXEtlePUP2Fl5ZDxEdY/xRYvzmI/1j/it3aPrAnWP3qlgisrUNU/ttobwwef1T+kkZS+8xHWP6g1h1yBPNU/FFsbVcgC1j+LT4lIcIXWP2pyVPojtNY/fp2jIe6w1T8ixRPylUDVP/a9fQXGlNY/ttmZRyYb1z886rzwAxrWP0a8XziD0dQ/KDfALMbU1T8GaCPPuJ7WP0yDpr7F1tQ/DSzhVWyX1D/FYIknItTVP/awOeqhpdY/uV39sz7L1D+bNcFNTD/VP3kul8Xj2tY/tvThQzXr2T89Dm6AJyXiP+WUwCLizOQ/lxWpK6gH5j/tGLoT+I3nP/bQXWGau94/AomnZ90I0D9KSAKTqkHTP/kBqJWmJ9E/neIvyp3J0j/UJKFKcg7TP8FtuDO+0NU/GaShRjQW1D9sXm0g5UnWP/xTrd3K3tQ/3swbxRQB1T/umJRE+prTP/F7iT0iw9M/c7kOjkdV4j+E2jBRyL7lPyiK7e5tJ+Q/iRcs1dXR5j/Co2a4AHTgP6u7gzD77dU/Acqg5kGT1T8=\",\"dtype\":\"float64\",\"shape\":[100]},\"hist\":[1791,5154,7197,6482,5404,4095,3246,2417,1797,1459,1142,874,682,535,398,263,235,155,104,102,73,52,46,18,19,21,12,10,8,7,4,3,2,2,2,2,1,3,3,1,1,2,0,1,1,1,0,0,0,0,0,0,0,0,0,0,0,0,0,0,1,0,0,0,0,0,0,0,0,0,0,0,0,0,0,0,0,0,0,0,1,0,0,0,0,0,0,0,0,0,0,0,0,0,0,0,0,0,0,1],\"pdf\":{\"__ndarray__\":\"j+ZDccZ8ej/f5Wqk6rR5Pzi1n2HwRnk/A/pPIq6pcj9tYD988V9yP2P4akx/YnI/YILub0G7cj9PC24ZA41yP0IrPJx/nnM/wERa3b0qcz8udZcWRBByP9YblHnuD3M/0TIMMavBcj8nXDO8q8hyP2MZbbrGZ3M/f1hsJDphdD+2y98LMhRyP//Mv5TXQHM/7CC9xjdXcj/OSaMckodzP3bMrGTnSnM/TnairIsZcz9oL8E31chyP1NnjKIU4nM/NIcRX/x3cz+7CUB3h91yP05lA4FUIXM/0iO7U45/cj+0zSGw8dtzP8+vSQ4Ze3M/xamsw11gcj+brXYtYRZ0PwHMZX3gBXQ/JZhtDe7lcj8/0Bb/MeNxP2lLtTI0rnI/mJ/m8UwXcz8OvkacflZzP0pBourMZnM/FGu52dHPcj++LC+KEShzP1J2FcVD4W0/JvDM8bTfcT/2ud8sYP58P81HBC0LkHw/KdnzVFRafD+lZTq/xa58P7qtFUe+bnw/r9CtMMC6fD8/5aLptNp8Px0CgyqqeHw/Abns+RM9fD+BEevsnFJ8P6VLUp08LH0/9khvmfCQfD8+ljZQSXB8P7z+/K93IX0/JGWlF1MAfD8qupMeLD58P62dnBQ4Jnw/QZxyMAbkfD+7S6AI4rR8P3SXPZGqqnw/ttcg9WHjez+XHRcveup8P5pzRS+dynw/SUDB8Z6tfD+lRJD9yI18P1QjUwIJZnw/WtNZZlbAfD9q7dZkRg99P+T9RQ01fnw/1UthwDhmfT9F6HV2Wcx8PycLdE/ggXo/2Qe39RkWeD8wtzbu0flyP5C7NWwd33I/H2XUA51lcj8+YmtZLH1wP4meiWFmH3k/tQkljC0fgD/YenY0Uud+P4jdB4mDm38/JxTrXiQbfz8i4kC7Oy5+P2+kFaLF+Hs/OG4fUjeDfD/EE3pqzBh8P0PTo641wHs/Z78VTVagez/cznNtxlF6P6Wux43/PXo/QFtG4mH8cz9HoCIF6H1yP0tD+Ic3aXQ/lY92eYCPcT+Pn2egq7J3P6+lO2GDo3w/LHbdVZevfD8=\",\"dtype\":\"float64\",\"shape\":[100]},\"x\":{\"__ndarray__\":\"AAAAAAAAAACWArV+pUAxQJYCtX6lQEFA4YMPPvjgSUCWArV+pUBRQDxDYt7OkFVA4YMPPvjgWUCGxLydITFeQJYCtX6lQGFA6aKLLrpoY0A8Q2LezpBlQI7jOI7juGdA4YMPPvjgaUA0JObtDAlsQIbEvJ0hMW5AbbLJJpsscECWArV+pUBxQL9SoNavVHJA6aKLLrpoc0AS83aGxHx0QDxDYt7OkHVAZZNNNtmkdkCO4ziO47h3QLgzJObtzHhA4YMPPvjgeUAK1PqVAvV6QDQk5u0MCXxAXXTRRRcdfUCGxLydITF+QLAUqPUrRX9AbbLJJpssgECBWr9SoLaAQJYCtX6lQIFAq6qqqqrKgUC/UqDWr1SCQNT6lQK13oJA6aKLLrpog0D9SoFav/KDQBLzdobEfIRAJ5tssskGhUA8Q2LezpCFQFDrVwrUGoZAZZNNNtmkhkB6O0Ni3i6HQI7jOI7juIdAo4suuuhCiEC4MyTm7cyIQMzbGRLzVolA4YMPPvjgiUD2KwVq/WqKQArU+pUC9YpAH3zwwQd/i0A0JObtDAmMQEjM2xkSk4xAXXTRRRcdjUByHMdxHKeNQIbEvJ0hMY5Am2yyySa7jkCwFKj1K0WPQMW8nSExz49AbbLJJpsskEB3hsS8nXGQQIFav1KgtpBAjC666KL7kECWArV+pUCRQKDWrxSohZFAq6qqqqrKkUC1fqVArQ+SQL9SoNavVJJAyiabbLKZkkDU+pUCtd6SQN7OkJi3I5NA6aKLLrpok0DzdobEvK2TQP1KgVq/8pNACB988ME3lEAS83aGxHyUQBzHcRzHwZRAJ5tssskGlUAxb2dIzEuVQDxDYt7OkJVARhdddNHVlUBQ61cK1BqWQFu/UqDWX5ZAZZNNNtmklkBvZ0jM2+mWQHo7Q2LeLpdAhA8++OBzl0CO4ziO47iXQJm3MyTm/ZdAo4suuuhCmECtXylQ64eYQLgzJObtzJhAwgcffPARmUDM2xkS81aZQNevFKj1m5lA4YMPPvjgmUDrVwrU+iWaQPYrBWr9appAAAAAAACwmkA=\",\"dtype\":\"float64\",\"shape\":[100]}},\"selected\":{\"id\":\"28502\"},\"selection_policy\":{\"id\":\"28501\"}},\"id\":\"28433\",\"type\":\"ColumnDataSource\"},{\"attributes\":{\"data_source\":{\"id\":\"28433\"},\"glyph\":{\"id\":\"33947\"},\"hover_glyph\":null,\"muted_glyph\":null,\"name\":\"PDF\",\"nonselection_glyph\":{\"id\":\"33948\"},\"selection_glyph\":null,\"view\":{\"id\":\"33950\"},\"y_range_name\":\"Pr(x)\"},\"id\":\"33949\",\"type\":\"GlyphRenderer\"},{\"attributes\":{},\"id\":\"33908\",\"type\":\"CrosshairTool\"},{\"attributes\":{\"axis\":{\"id\":\"33900\"},\"grid_line_color\":\"grey\",\"ticker\":null},\"id\":\"33903\",\"type\":\"Grid\"},{\"attributes\":{\"line_alpha\":0.7,\"line_color\":\"green\",\"line_width\":4,\"x\":{\"field\":\"x\"},\"y\":{\"field\":\"pdf\"}},\"id\":\"33947\",\"type\":\"Line\"},{\"attributes\":{\"axis_label\":\"Count\",\"formatter\":{\"id\":\"33942\"},\"ticker\":{\"id\":\"33905\"}},\"id\":\"33904\",\"type\":\"LinearAxis\"},{\"attributes\":{},\"id\":\"33916\",\"type\":\"ResetTool\"},{\"attributes\":{},\"id\":\"33898\",\"type\":\"LinearScale\"},{\"attributes\":{},\"id\":\"33901\",\"type\":\"BasicTicker\"},{\"attributes\":{\"label\":{\"value\":\"PDF\"},\"renderers\":[{\"id\":\"33949\"}]},\"id\":\"33961\",\"type\":\"LegendItem\"},{\"attributes\":{\"source\":{\"id\":\"28433\"}},\"id\":\"33935\",\"type\":\"CDSView\"},{\"attributes\":{},\"id\":\"33914\",\"type\":\"UndoTool\"},{\"attributes\":{\"overlay\":{\"id\":\"33917\"}},\"id\":\"33911\",\"type\":\"BoxZoomTool\"},{\"attributes\":{\"bottom_units\":\"screen\",\"fill_alpha\":0.5,\"fill_color\":\"lightgrey\",\"left_units\":\"screen\",\"level\":\"overlay\",\"line_alpha\":1.0,\"line_color\":\"black\",\"line_dash\":[4,4],\"line_width\":2,\"render_mode\":\"css\",\"right_units\":\"screen\",\"top_units\":\"screen\"},\"id\":\"33917\",\"type\":\"BoxAnnotation\"},{\"attributes\":{},\"id\":\"33909\",\"type\":\"PanTool\"},{\"attributes\":{},\"id\":\"33892\",\"type\":\"DataRange1d\"},{\"attributes\":{\"bottom\":{\"value\":0},\"fill_alpha\":{\"value\":0.1},\"fill_color\":{\"value\":\"blue\"},\"left\":{\"field\":\"bin_edges_left\"},\"line_alpha\":{\"value\":0.1},\"line_color\":{\"value\":\"white\"},\"right\":{\"field\":\"bin_edges_right\"},\"top\":{\"field\":\"hist\"}},\"id\":\"33933\",\"type\":\"Quad\"},{\"attributes\":{\"line_alpha\":0.7,\"line_color\":\"red\",\"line_width\":2,\"x\":{\"field\":\"x\"},\"y\":{\"field\":\"cdf\"}},\"id\":\"33963\",\"type\":\"Line\"},{\"attributes\":{},\"id\":\"33910\",\"type\":\"WheelZoomTool\"},{\"attributes\":{},\"id\":\"33905\",\"type\":\"BasicTicker\"},{\"attributes\":{},\"id\":\"33896\",\"type\":\"LinearScale\"},{\"attributes\":{\"source\":{\"id\":\"28433\"}},\"id\":\"33950\",\"type\":\"CDSView\"},{\"attributes\":{},\"id\":\"33913\",\"type\":\"ZoomOutTool\"},{\"attributes\":{},\"id\":\"28501\",\"type\":\"UnionRenderers\"},{\"attributes\":{\"label\":{\"value\":\"CDF\"},\"renderers\":[{\"id\":\"33965\"}]},\"id\":\"33977\",\"type\":\"LegendItem\"}],\"root_ids\":[\"33889\"]},\"title\":\"Bokeh Application\",\"version\":\"2.0.2\"}};\n",
       "  var render_items = [{\"docid\":\"1bcc6431-5d8c-4a85-8b09-6f39a92b32a0\",\"root_ids\":[\"33889\"],\"roots\":{\"33889\":\"c92c78b1-12c1-48ad-be5a-ca80aff5fa62\"}}];\n",
       "  root.Bokeh.embed.embed_items_notebook(docs_json, render_items);\n",
       "\n",
       "  }\n",
       "  if (root.Bokeh !== undefined) {\n",
       "    embed_document(root);\n",
       "  } else {\n",
       "    var attempts = 0;\n",
       "    var timer = setInterval(function(root) {\n",
       "      if (root.Bokeh !== undefined) {\n",
       "        clearInterval(timer);\n",
       "        embed_document(root);\n",
       "      } else {\n",
       "        attempts++;\n",
       "        if (attempts > 100) {\n",
       "          clearInterval(timer);\n",
       "          console.log(\"Bokeh: ERROR: Unable to run BokehJS code because BokehJS library is missing\");\n",
       "        }\n",
       "      }\n",
       "    }, 10, root)\n",
       "  }\n",
       "})(window);"
      ],
      "application/vnd.bokehjs_exec.v0+json": ""
     },
     "metadata": {
      "application/vnd.bokehjs_exec.v0+json": {
       "id": "33889"
      }
     },
     "output_type": "display_data"
    },
    {
     "ename": "ValueError",
     "evalue": "\"Invalid object to show. The object to passed to show must be one of:\n\n* a LayoutDOM (e.g. a Plot or Widget or Layout)\n* a Bokeh Application\n* a callable suitable to an application FunctionHandler\n",
     "output_type": "error",
     "traceback": [
      "\u001b[0;31m---------------------------------------------------------------------------\u001b[0m",
      "\u001b[0;31mValueError\u001b[0m                                Traceback (most recent call last)",
      "\u001b[0;32m<ipython-input-417-778e41f4f35f>\u001b[0m in \u001b[0;36m<module>\u001b[0;34m\u001b[0m\n\u001b[1;32m      1\u001b[0m \u001b[0mp_txt\u001b[0m \u001b[0;34m=\u001b[0m \u001b[0mmake_plot\u001b[0m\u001b[0;34m(\u001b[0m\u001b[0;34m'frech, txt-len'\u001b[0m\u001b[0;34m,\u001b[0m \u001b[0mdata_source\u001b[0m\u001b[0;34m)\u001b[0m\u001b[0;34m\u001b[0m\u001b[0;34m\u001b[0m\u001b[0m\n\u001b[0;32m----> 2\u001b[0;31m \u001b[0mshow\u001b[0m\u001b[0;34m(\u001b[0m\u001b[0mp_txt\u001b[0m\u001b[0;34m)\u001b[0m\u001b[0;34m\u001b[0m\u001b[0;34m\u001b[0m\u001b[0m\n\u001b[0m",
      "\u001b[0;32m~/venv3/lib/python3.8/site-packages/bokeh/io/showing.py\u001b[0m in \u001b[0;36mshow\u001b[0;34m(obj, browser, new, notebook_handle, notebook_url, **kw)\u001b[0m\n\u001b[1;32m    128\u001b[0m \u001b[0;34m\u001b[0m\u001b[0m\n\u001b[1;32m    129\u001b[0m     \u001b[0;32mif\u001b[0m \u001b[0;32mnot\u001b[0m \u001b[0;34m(\u001b[0m\u001b[0misinstance\u001b[0m\u001b[0;34m(\u001b[0m\u001b[0mobj\u001b[0m\u001b[0;34m,\u001b[0m \u001b[0mLayoutDOM\u001b[0m\u001b[0;34m)\u001b[0m \u001b[0;32mor\u001b[0m \u001b[0mis_application\u001b[0m \u001b[0;32mor\u001b[0m \u001b[0mcallable\u001b[0m\u001b[0;34m(\u001b[0m\u001b[0mobj\u001b[0m\u001b[0;34m)\u001b[0m\u001b[0;34m)\u001b[0m\u001b[0;34m:\u001b[0m\u001b[0;34m\u001b[0m\u001b[0;34m\u001b[0m\u001b[0m\n\u001b[0;32m--> 130\u001b[0;31m         \u001b[0;32mraise\u001b[0m \u001b[0mValueError\u001b[0m\u001b[0;34m(\u001b[0m\u001b[0m_BAD_SHOW_MSG\u001b[0m\u001b[0;34m)\u001b[0m\u001b[0;34m\u001b[0m\u001b[0;34m\u001b[0m\u001b[0m\n\u001b[0m\u001b[1;32m    131\u001b[0m \u001b[0;34m\u001b[0m\u001b[0m\n\u001b[1;32m    132\u001b[0m     \u001b[0;31m# TODO (bev) check callable signature more thoroughly\u001b[0m\u001b[0;34m\u001b[0m\u001b[0;34m\u001b[0m\u001b[0;34m\u001b[0m\u001b[0m\n",
      "\u001b[0;31mValueError\u001b[0m: \"Invalid object to show. The object to passed to show must be one of:\n\n* a LayoutDOM (e.g. a Plot or Widget or Layout)\n* a Bokeh Application\n* a callable suitable to an application FunctionHandler\n"
     ]
    }
   ],
   "source": [
    "p_txt = make_plot('frech, txt-len', data_source)\n",
    "show(p_txt)"
   ]
  },
  {
   "cell_type": "code",
   "execution_count": null,
   "metadata": {},
   "outputs": [],
   "source": []
  },
  {
   "cell_type": "code",
   "execution_count": 416,
   "metadata": {},
   "outputs": [],
   "source": [
    "# # Normal Distribution\n",
    "\n",
    "# bins = 100\n",
    "\n",
    "# mu, sigma = 0, 0.5\n",
    "\n",
    "# measured = np.random.normal(mu, sigma, 1000)\n",
    "# hist, edges = np.histogram(measured, density=True, bins=50)\n",
    "\n",
    "# x = np.linspace(-2, 2, 1000)\n",
    "# pdf = 1/(sigma * np.sqrt(2*np.pi)) * np.exp(-(x-mu)**2 / (2*sigma**2))\n",
    "# cdf = (1+scipy.special.erf((x-mu)/np.sqrt(2*sigma**2)))/2\n",
    "\n",
    "# p1 = make_plot(\"Normal Distribution (μ=0, σ=0.5)\", hist, edges, x, pdf, cdf)\n",
    "\n",
    "# # Log-Normal Distribution\n",
    "\n",
    "# mu, sigma = 0, 0.5\n",
    "\n",
    "# measured = np.random.lognormal(mu, sigma, 1000)\n",
    "# hist, edges = np.histogram(measured, density=True, bins=50)\n",
    "\n",
    "# x = np.linspace(0.0001, 8.0, 1000)\n",
    "# pdf = 1/(x* sigma * np.sqrt(2*np.pi)) * np.exp(-(np.log(x)-mu)**2 / (2*sigma**2))\n",
    "# cdf = (1+scipy.special.erf((np.log(x)-mu)/(np.sqrt(2)*sigma)))/2\n",
    "\n",
    "# p2 = make_plot(\"Log Normal Distribution (μ=0, σ=0.5)\", hist, edges, x, pdf, cdf)\n",
    "\n",
    "# # Gamma Distribution\n",
    "\n",
    "# k, theta = 7.5, 1.0\n",
    "\n",
    "# measured = np.random.gamma(k, theta, 1000)\n",
    "# hist, edges = np.histogram(measured, density=True, bins=50)\n",
    "\n",
    "# x = np.linspace(0.0001, 20.0, 1000)\n",
    "# pdf = x**(k-1) * np.exp(-x/theta) / (theta**k * scipy.special.gamma(k))\n",
    "# cdf = scipy.special.gammainc(k, x/theta)\n",
    "\n",
    "# p3 = make_plot(\"Gamma Distribution (k=7.5, θ=1)\", hist, edges, x, pdf, cdf)\n",
    "\n",
    "# # Weibull Distribution\n",
    "\n",
    "# lam, k = 1, 1.25\n",
    "# measured = lam*(-np.log(np.random.uniform(0, 1, 1000)))**(1/k)\n",
    "# hist, edges = np.histogram(measured, density=True, bins=50)\n",
    "\n",
    "# x = np.linspace(0.0001, 8, 1000)\n",
    "# pdf = (k/lam)*(x/lam)**(k-1) * np.exp(-(x/lam)**k)\n",
    "# cdf = 1 - np.exp(-(x/lam)**k)\n",
    "\n",
    "# p4 = make_plot(\"Weibull Distribution (λ=1, k=1.25)\", hist, edges, x, pdf, cdf)\n",
    "\n",
    "# # output_file('histogram.html', title=\"histogram.py example\")\n",
    "\n",
    "# show(gridplot([p1,p2,p3,p4], ncols=2, plot_width=400, plot_height=400, toolbar_location=None))"
   ]
  },
  {
   "cell_type": "code",
   "execution_count": null,
   "metadata": {},
   "outputs": [],
   "source": [
    "%%time\n",
    "res_2 = conllu_process_get_2list(blacklist=blacklist)\n",
    "upos_data, deprel_data, sentences_data, forms_data = extract_data_from_fields(res)\n",
    "langs = ['es', 'fr', 'de', 'en']\n",
    "langs_data = compute_distributions(upos_data, deprel_data, sentences_data, langs)\n",
    "# langs_data = compute_distributions(upos_data, deprel_data, sentences_data)"
   ]
  }
 ],
 "metadata": {
  "kernelspec": {
   "display_name": "Python 3",
   "language": "python",
   "name": "python3"
  },
  "language_info": {
   "codemirror_mode": {
    "name": "ipython",
    "version": 3
   },
   "file_extension": ".py",
   "mimetype": "text/x-python",
   "name": "python",
   "nbconvert_exporter": "python",
   "pygments_lexer": "ipython3",
   "version": "3.8.2"
  }
 },
 "nbformat": 4,
 "nbformat_minor": 4
}
