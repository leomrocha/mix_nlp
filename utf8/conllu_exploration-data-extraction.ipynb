{
 "cells": [
  {
   "cell_type": "markdown",
   "metadata": {},
   "source": [
    "# A statistical Conllu file Exploration of  Universal Dependencies\n",
    "\n",
    "## Introduction\n",
    "\n",
    "While much work is being done in the current days on NLP and NLU, there is little work on describing why a certain length of transformer (or other as LSTM time steps) architecture has been chosen for the training, it is mostly arbitrary and depends on the goal of the work and resources available (mainly hardware). These decisions are hard once the model has been trained and there is nothing that can be done to extend the length of a transformer (for example) without having to retrain the entire network. There are however some works that tackle variable length sequences. \n",
    "\n",
    "This work presents a first complete analysis of the Universal Dependencies v2.6 dataset and presents the globan and individual results of each language present in the dataset.\n",
    "\n",
    "This work does not intend to be a conference level paper (that is why there are no references to all the papers on each subject), but an informational technical report that might help to better select the most effective compromise text or token length for your particular NLP application.\n",
    "\n",
    "The number of analyzed languages is 92, the token length is measured as the named UPOS tag in the dataset, while the character length is just that. There is no analysis on what constitutes a word or not, this means that a token includes the punctuiation and other symbols presents in the text samples. For lingüstic analysis purposes more de\n",
    "\n",
    "\n"
   ]
  },
  {
   "cell_type": "markdown",
   "metadata": {},
   "source": [
    "## Observations\n",
    "\n",
    "The histograms show a skew on the distribution, this can be a skewed gaussian, a generalized gaussian or a beta distribution form. Due to this, I will be testing different distribution fits with the Kolmogorov-Smirnov test.\n",
    "\n",
    "There are many languages that do not have enough samples so the dsitribution fit will not be good  and errors will be big.\n",
    "This is not an issue  from the code point of view. The important thing is if this data is used, take into account the number of samples available.\n",
    "\n",
    "\n",
    "While doing this work I found quite interesting that are languages whose number of tokens or characters avoid certain bins in the histogram (Bulgarian, Breton Welsh, Danish, Slovak, Tamil and Thai are a few examples of this). This can mean that, either the language structure supports only those lengths, or that the analyzed dataset only contains samples that avoid some sentence lengths.\n",
    "\n",
    "For some languages the number of samples is too small to make any good assumption from the data.\n"
   ]
  },
  {
   "cell_type": "markdown",
   "metadata": {},
   "source": [
    "## Conclusion\n",
    "\n",
    "This work presents a sample length analysis by language on the UniversalDependencies v2.6 dataset presenting the statistics for all 92 represented languages. The analysis then shows the length histograms by character and token length.\n",
    "\n",
    "The best compromise for choosing a sequence length on the NLP architecture for training will depend mostly on the requirements of the applicatino, nevertheless with the numbers here you should be able to make an informed guess on what might be better for your case.\n",
    "\n",
    "We can see that having a multi-lingual approach will necessary make the needed sequences longer as there is a large variability on sequence length, but appliying to single language might allow you to optimize your neural architectures"
   ]
  },
  {
   "cell_type": "markdown",
   "metadata": {},
   "source": [
    "## Future Work\n",
    "\n",
    "I am currently working on a more in depth analysis of the complete Gutenberg project dataset ( ~60K books in several languages) that will discriminate several other text characteristics.\n",
    "\n",
    "I also have started to work on a complete parsing of a few of the Wiktionary datasets.\n",
    "\n",
    "Stay tuned for those results ;)"
   ]
  },
  {
   "cell_type": "code",
   "execution_count": 1,
   "metadata": {},
   "outputs": [],
   "source": [
    "from preprocessors.ud_conllu_stats import *\n",
    "import json\n",
    "import gzip"
   ]
  },
  {
   "cell_type": "code",
   "execution_count": 2,
   "metadata": {},
   "outputs": [],
   "source": [
    "import matplotlib.pyplot as plt\n",
    "import bokeh\n",
    "from bokeh.plotting import figure, output_file, show\n",
    "from bokeh.io import output_notebook\n",
    "\n",
    "%matplotlib inline\n",
    "\n",
    "import ipywidgets as widgets\n",
    "from ipywidgets import interact, interact_manual"
   ]
  },
  {
   "cell_type": "code",
   "execution_count": 3,
   "metadata": {},
   "outputs": [
    {
     "data": {
      "text/html": [
       "\n",
       "    <div class=\"bk-root\">\n",
       "        <a href=\"https://bokeh.org\" target=\"_blank\" class=\"bk-logo bk-logo-small bk-logo-notebook\"></a>\n",
       "        <span id=\"1001\">Loading BokehJS ...</span>\n",
       "    </div>"
      ]
     },
     "metadata": {},
     "output_type": "display_data"
    },
    {
     "data": {
      "application/javascript": [
       "\n",
       "(function(root) {\n",
       "  function now() {\n",
       "    return new Date();\n",
       "  }\n",
       "\n",
       "  var force = true;\n",
       "\n",
       "  if (typeof root._bokeh_onload_callbacks === \"undefined\" || force === true) {\n",
       "    root._bokeh_onload_callbacks = [];\n",
       "    root._bokeh_is_loading = undefined;\n",
       "  }\n",
       "\n",
       "  var JS_MIME_TYPE = 'application/javascript';\n",
       "  var HTML_MIME_TYPE = 'text/html';\n",
       "  var EXEC_MIME_TYPE = 'application/vnd.bokehjs_exec.v0+json';\n",
       "  var CLASS_NAME = 'output_bokeh rendered_html';\n",
       "\n",
       "  /**\n",
       "   * Render data to the DOM node\n",
       "   */\n",
       "  function render(props, node) {\n",
       "    var script = document.createElement(\"script\");\n",
       "    node.appendChild(script);\n",
       "  }\n",
       "\n",
       "  /**\n",
       "   * Handle when an output is cleared or removed\n",
       "   */\n",
       "  function handleClearOutput(event, handle) {\n",
       "    var cell = handle.cell;\n",
       "\n",
       "    var id = cell.output_area._bokeh_element_id;\n",
       "    var server_id = cell.output_area._bokeh_server_id;\n",
       "    // Clean up Bokeh references\n",
       "    if (id != null && id in Bokeh.index) {\n",
       "      Bokeh.index[id].model.document.clear();\n",
       "      delete Bokeh.index[id];\n",
       "    }\n",
       "\n",
       "    if (server_id !== undefined) {\n",
       "      // Clean up Bokeh references\n",
       "      var cmd = \"from bokeh.io.state import curstate; print(curstate().uuid_to_server['\" + server_id + \"'].get_sessions()[0].document.roots[0]._id)\";\n",
       "      cell.notebook.kernel.execute(cmd, {\n",
       "        iopub: {\n",
       "          output: function(msg) {\n",
       "            var id = msg.content.text.trim();\n",
       "            if (id in Bokeh.index) {\n",
       "              Bokeh.index[id].model.document.clear();\n",
       "              delete Bokeh.index[id];\n",
       "            }\n",
       "          }\n",
       "        }\n",
       "      });\n",
       "      // Destroy server and session\n",
       "      var cmd = \"import bokeh.io.notebook as ion; ion.destroy_server('\" + server_id + \"')\";\n",
       "      cell.notebook.kernel.execute(cmd);\n",
       "    }\n",
       "  }\n",
       "\n",
       "  /**\n",
       "   * Handle when a new output is added\n",
       "   */\n",
       "  function handleAddOutput(event, handle) {\n",
       "    var output_area = handle.output_area;\n",
       "    var output = handle.output;\n",
       "\n",
       "    // limit handleAddOutput to display_data with EXEC_MIME_TYPE content only\n",
       "    if ((output.output_type != \"display_data\") || (!output.data.hasOwnProperty(EXEC_MIME_TYPE))) {\n",
       "      return\n",
       "    }\n",
       "\n",
       "    var toinsert = output_area.element.find(\".\" + CLASS_NAME.split(' ')[0]);\n",
       "\n",
       "    if (output.metadata[EXEC_MIME_TYPE][\"id\"] !== undefined) {\n",
       "      toinsert[toinsert.length - 1].firstChild.textContent = output.data[JS_MIME_TYPE];\n",
       "      // store reference to embed id on output_area\n",
       "      output_area._bokeh_element_id = output.metadata[EXEC_MIME_TYPE][\"id\"];\n",
       "    }\n",
       "    if (output.metadata[EXEC_MIME_TYPE][\"server_id\"] !== undefined) {\n",
       "      var bk_div = document.createElement(\"div\");\n",
       "      bk_div.innerHTML = output.data[HTML_MIME_TYPE];\n",
       "      var script_attrs = bk_div.children[0].attributes;\n",
       "      for (var i = 0; i < script_attrs.length; i++) {\n",
       "        toinsert[toinsert.length - 1].firstChild.setAttribute(script_attrs[i].name, script_attrs[i].value);\n",
       "        toinsert[toinsert.length - 1].firstChild.textContent = bk_div.children[0].textContent\n",
       "      }\n",
       "      // store reference to server id on output_area\n",
       "      output_area._bokeh_server_id = output.metadata[EXEC_MIME_TYPE][\"server_id\"];\n",
       "    }\n",
       "  }\n",
       "\n",
       "  function register_renderer(events, OutputArea) {\n",
       "\n",
       "    function append_mime(data, metadata, element) {\n",
       "      // create a DOM node to render to\n",
       "      var toinsert = this.create_output_subarea(\n",
       "        metadata,\n",
       "        CLASS_NAME,\n",
       "        EXEC_MIME_TYPE\n",
       "      );\n",
       "      this.keyboard_manager.register_events(toinsert);\n",
       "      // Render to node\n",
       "      var props = {data: data, metadata: metadata[EXEC_MIME_TYPE]};\n",
       "      render(props, toinsert[toinsert.length - 1]);\n",
       "      element.append(toinsert);\n",
       "      return toinsert\n",
       "    }\n",
       "\n",
       "    /* Handle when an output is cleared or removed */\n",
       "    events.on('clear_output.CodeCell', handleClearOutput);\n",
       "    events.on('delete.Cell', handleClearOutput);\n",
       "\n",
       "    /* Handle when a new output is added */\n",
       "    events.on('output_added.OutputArea', handleAddOutput);\n",
       "\n",
       "    /**\n",
       "     * Register the mime type and append_mime function with output_area\n",
       "     */\n",
       "    OutputArea.prototype.register_mime_type(EXEC_MIME_TYPE, append_mime, {\n",
       "      /* Is output safe? */\n",
       "      safe: true,\n",
       "      /* Index of renderer in `output_area.display_order` */\n",
       "      index: 0\n",
       "    });\n",
       "  }\n",
       "\n",
       "  // register the mime type if in Jupyter Notebook environment and previously unregistered\n",
       "  if (root.Jupyter !== undefined) {\n",
       "    var events = require('base/js/events');\n",
       "    var OutputArea = require('notebook/js/outputarea').OutputArea;\n",
       "\n",
       "    if (OutputArea.prototype.mime_types().indexOf(EXEC_MIME_TYPE) == -1) {\n",
       "      register_renderer(events, OutputArea);\n",
       "    }\n",
       "  }\n",
       "\n",
       "  \n",
       "  if (typeof (root._bokeh_timeout) === \"undefined\" || force === true) {\n",
       "    root._bokeh_timeout = Date.now() + 5000;\n",
       "    root._bokeh_failed_load = false;\n",
       "  }\n",
       "\n",
       "  var NB_LOAD_WARNING = {'data': {'text/html':\n",
       "     \"<div style='background-color: #fdd'>\\n\"+\n",
       "     \"<p>\\n\"+\n",
       "     \"BokehJS does not appear to have successfully loaded. If loading BokehJS from CDN, this \\n\"+\n",
       "     \"may be due to a slow or bad network connection. Possible fixes:\\n\"+\n",
       "     \"</p>\\n\"+\n",
       "     \"<ul>\\n\"+\n",
       "     \"<li>re-rerun `output_notebook()` to attempt to load from CDN again, or</li>\\n\"+\n",
       "     \"<li>use INLINE resources instead, as so:</li>\\n\"+\n",
       "     \"</ul>\\n\"+\n",
       "     \"<code>\\n\"+\n",
       "     \"from bokeh.resources import INLINE\\n\"+\n",
       "     \"output_notebook(resources=INLINE)\\n\"+\n",
       "     \"</code>\\n\"+\n",
       "     \"</div>\"}};\n",
       "\n",
       "  function display_loaded() {\n",
       "    var el = document.getElementById(\"1001\");\n",
       "    if (el != null) {\n",
       "      el.textContent = \"BokehJS is loading...\";\n",
       "    }\n",
       "    if (root.Bokeh !== undefined) {\n",
       "      if (el != null) {\n",
       "        el.textContent = \"BokehJS \" + root.Bokeh.version + \" successfully loaded.\";\n",
       "      }\n",
       "    } else if (Date.now() < root._bokeh_timeout) {\n",
       "      setTimeout(display_loaded, 100)\n",
       "    }\n",
       "  }\n",
       "\n",
       "\n",
       "  function run_callbacks() {\n",
       "    try {\n",
       "      root._bokeh_onload_callbacks.forEach(function(callback) {\n",
       "        if (callback != null)\n",
       "          callback();\n",
       "      });\n",
       "    } finally {\n",
       "      delete root._bokeh_onload_callbacks\n",
       "    }\n",
       "    console.debug(\"Bokeh: all callbacks have finished\");\n",
       "  }\n",
       "\n",
       "  function load_libs(css_urls, js_urls, callback) {\n",
       "    if (css_urls == null) css_urls = [];\n",
       "    if (js_urls == null) js_urls = [];\n",
       "\n",
       "    root._bokeh_onload_callbacks.push(callback);\n",
       "    if (root._bokeh_is_loading > 0) {\n",
       "      console.debug(\"Bokeh: BokehJS is being loaded, scheduling callback at\", now());\n",
       "      return null;\n",
       "    }\n",
       "    if (js_urls == null || js_urls.length === 0) {\n",
       "      run_callbacks();\n",
       "      return null;\n",
       "    }\n",
       "    console.debug(\"Bokeh: BokehJS not loaded, scheduling load and callback at\", now());\n",
       "    root._bokeh_is_loading = css_urls.length + js_urls.length;\n",
       "\n",
       "    function on_load() {\n",
       "      root._bokeh_is_loading--;\n",
       "      if (root._bokeh_is_loading === 0) {\n",
       "        console.debug(\"Bokeh: all BokehJS libraries/stylesheets loaded\");\n",
       "        run_callbacks()\n",
       "      }\n",
       "    }\n",
       "\n",
       "    function on_error() {\n",
       "      console.error(\"failed to load \" + url);\n",
       "    }\n",
       "\n",
       "    for (var i = 0; i < css_urls.length; i++) {\n",
       "      var url = css_urls[i];\n",
       "      const element = document.createElement(\"link\");\n",
       "      element.onload = on_load;\n",
       "      element.onerror = on_error;\n",
       "      element.rel = \"stylesheet\";\n",
       "      element.type = \"text/css\";\n",
       "      element.href = url;\n",
       "      console.debug(\"Bokeh: injecting link tag for BokehJS stylesheet: \", url);\n",
       "      document.body.appendChild(element);\n",
       "    }\n",
       "\n",
       "    const hashes = {\"https://cdn.bokeh.org/bokeh/release/bokeh-2.0.2.min.js\": \"ufR9RFnRs6lniiaFvtJziE0YeidtAgBRH6ux2oUItHw5WTvE1zuk9uzhUU/FJXDp\", \"https://cdn.bokeh.org/bokeh/release/bokeh-widgets-2.0.2.min.js\": \"8QM/PGWBT+IssZuRcDcjzwIh1mkOmJSoNMmyYDZbCfXJg3Ap1lEvdVgFuSAwhb/J\", \"https://cdn.bokeh.org/bokeh/release/bokeh-tables-2.0.2.min.js\": \"Jm8cH3Rg0P6UeZhVY5cLy1WzKajUT9KImCY+76hEqrcJt59/d8GPvFHjCkYgnSIn\", \"https://cdn.bokeh.org/bokeh/release/bokeh-gl-2.0.2.min.js\": \"Ozhzj+SI7ywm74aOI/UajcWz+C0NjsPunEVyVIrxzYkB+jA+2tUw8x5xJCbVtK5I\"};\n",
       "\n",
       "    for (var i = 0; i < js_urls.length; i++) {\n",
       "      var url = js_urls[i];\n",
       "      var element = document.createElement('script');\n",
       "      element.onload = on_load;\n",
       "      element.onerror = on_error;\n",
       "      element.async = false;\n",
       "      element.src = url;\n",
       "      if (url in hashes) {\n",
       "        element.crossOrigin = \"anonymous\";\n",
       "        element.integrity = \"sha384-\" + hashes[url];\n",
       "      }\n",
       "      console.debug(\"Bokeh: injecting script tag for BokehJS library: \", url);\n",
       "      document.head.appendChild(element);\n",
       "    }\n",
       "  };\n",
       "\n",
       "  function inject_raw_css(css) {\n",
       "    const element = document.createElement(\"style\");\n",
       "    element.appendChild(document.createTextNode(css));\n",
       "    document.body.appendChild(element);\n",
       "  }\n",
       "\n",
       "  \n",
       "  var js_urls = [\"https://cdn.bokeh.org/bokeh/release/bokeh-2.0.2.min.js\", \"https://cdn.bokeh.org/bokeh/release/bokeh-widgets-2.0.2.min.js\", \"https://cdn.bokeh.org/bokeh/release/bokeh-tables-2.0.2.min.js\", \"https://cdn.bokeh.org/bokeh/release/bokeh-gl-2.0.2.min.js\"];\n",
       "  var css_urls = [];\n",
       "  \n",
       "\n",
       "  var inline_js = [\n",
       "    function(Bokeh) {\n",
       "      Bokeh.set_log_level(\"info\");\n",
       "    },\n",
       "    function(Bokeh) {\n",
       "    \n",
       "    \n",
       "    }\n",
       "  ];\n",
       "\n",
       "  function run_inline_js() {\n",
       "    \n",
       "    if (root.Bokeh !== undefined || force === true) {\n",
       "      \n",
       "    for (var i = 0; i < inline_js.length; i++) {\n",
       "      inline_js[i].call(root, root.Bokeh);\n",
       "    }\n",
       "    if (force === true) {\n",
       "        display_loaded();\n",
       "      }} else if (Date.now() < root._bokeh_timeout) {\n",
       "      setTimeout(run_inline_js, 100);\n",
       "    } else if (!root._bokeh_failed_load) {\n",
       "      console.log(\"Bokeh: BokehJS failed to load within specified timeout.\");\n",
       "      root._bokeh_failed_load = true;\n",
       "    } else if (force !== true) {\n",
       "      var cell = $(document.getElementById(\"1001\")).parents('.cell').data().cell;\n",
       "      cell.output_area.append_execute_result(NB_LOAD_WARNING)\n",
       "    }\n",
       "\n",
       "  }\n",
       "\n",
       "  if (root._bokeh_is_loading === 0) {\n",
       "    console.debug(\"Bokeh: BokehJS loaded, going straight to plotting\");\n",
       "    run_inline_js();\n",
       "  } else {\n",
       "    load_libs(css_urls, js_urls, function() {\n",
       "      console.debug(\"Bokeh: BokehJS plotting callback run at\", now());\n",
       "      run_inline_js();\n",
       "    });\n",
       "  }\n",
       "}(window));"
      ],
      "application/vnd.bokehjs_load.v0+json": "\n(function(root) {\n  function now() {\n    return new Date();\n  }\n\n  var force = true;\n\n  if (typeof root._bokeh_onload_callbacks === \"undefined\" || force === true) {\n    root._bokeh_onload_callbacks = [];\n    root._bokeh_is_loading = undefined;\n  }\n\n  \n\n  \n  if (typeof (root._bokeh_timeout) === \"undefined\" || force === true) {\n    root._bokeh_timeout = Date.now() + 5000;\n    root._bokeh_failed_load = false;\n  }\n\n  var NB_LOAD_WARNING = {'data': {'text/html':\n     \"<div style='background-color: #fdd'>\\n\"+\n     \"<p>\\n\"+\n     \"BokehJS does not appear to have successfully loaded. If loading BokehJS from CDN, this \\n\"+\n     \"may be due to a slow or bad network connection. Possible fixes:\\n\"+\n     \"</p>\\n\"+\n     \"<ul>\\n\"+\n     \"<li>re-rerun `output_notebook()` to attempt to load from CDN again, or</li>\\n\"+\n     \"<li>use INLINE resources instead, as so:</li>\\n\"+\n     \"</ul>\\n\"+\n     \"<code>\\n\"+\n     \"from bokeh.resources import INLINE\\n\"+\n     \"output_notebook(resources=INLINE)\\n\"+\n     \"</code>\\n\"+\n     \"</div>\"}};\n\n  function display_loaded() {\n    var el = document.getElementById(\"1001\");\n    if (el != null) {\n      el.textContent = \"BokehJS is loading...\";\n    }\n    if (root.Bokeh !== undefined) {\n      if (el != null) {\n        el.textContent = \"BokehJS \" + root.Bokeh.version + \" successfully loaded.\";\n      }\n    } else if (Date.now() < root._bokeh_timeout) {\n      setTimeout(display_loaded, 100)\n    }\n  }\n\n\n  function run_callbacks() {\n    try {\n      root._bokeh_onload_callbacks.forEach(function(callback) {\n        if (callback != null)\n          callback();\n      });\n    } finally {\n      delete root._bokeh_onload_callbacks\n    }\n    console.debug(\"Bokeh: all callbacks have finished\");\n  }\n\n  function load_libs(css_urls, js_urls, callback) {\n    if (css_urls == null) css_urls = [];\n    if (js_urls == null) js_urls = [];\n\n    root._bokeh_onload_callbacks.push(callback);\n    if (root._bokeh_is_loading > 0) {\n      console.debug(\"Bokeh: BokehJS is being loaded, scheduling callback at\", now());\n      return null;\n    }\n    if (js_urls == null || js_urls.length === 0) {\n      run_callbacks();\n      return null;\n    }\n    console.debug(\"Bokeh: BokehJS not loaded, scheduling load and callback at\", now());\n    root._bokeh_is_loading = css_urls.length + js_urls.length;\n\n    function on_load() {\n      root._bokeh_is_loading--;\n      if (root._bokeh_is_loading === 0) {\n        console.debug(\"Bokeh: all BokehJS libraries/stylesheets loaded\");\n        run_callbacks()\n      }\n    }\n\n    function on_error() {\n      console.error(\"failed to load \" + url);\n    }\n\n    for (var i = 0; i < css_urls.length; i++) {\n      var url = css_urls[i];\n      const element = document.createElement(\"link\");\n      element.onload = on_load;\n      element.onerror = on_error;\n      element.rel = \"stylesheet\";\n      element.type = \"text/css\";\n      element.href = url;\n      console.debug(\"Bokeh: injecting link tag for BokehJS stylesheet: \", url);\n      document.body.appendChild(element);\n    }\n\n    const hashes = {\"https://cdn.bokeh.org/bokeh/release/bokeh-2.0.2.min.js\": \"ufR9RFnRs6lniiaFvtJziE0YeidtAgBRH6ux2oUItHw5WTvE1zuk9uzhUU/FJXDp\", \"https://cdn.bokeh.org/bokeh/release/bokeh-widgets-2.0.2.min.js\": \"8QM/PGWBT+IssZuRcDcjzwIh1mkOmJSoNMmyYDZbCfXJg3Ap1lEvdVgFuSAwhb/J\", \"https://cdn.bokeh.org/bokeh/release/bokeh-tables-2.0.2.min.js\": \"Jm8cH3Rg0P6UeZhVY5cLy1WzKajUT9KImCY+76hEqrcJt59/d8GPvFHjCkYgnSIn\", \"https://cdn.bokeh.org/bokeh/release/bokeh-gl-2.0.2.min.js\": \"Ozhzj+SI7ywm74aOI/UajcWz+C0NjsPunEVyVIrxzYkB+jA+2tUw8x5xJCbVtK5I\"};\n\n    for (var i = 0; i < js_urls.length; i++) {\n      var url = js_urls[i];\n      var element = document.createElement('script');\n      element.onload = on_load;\n      element.onerror = on_error;\n      element.async = false;\n      element.src = url;\n      if (url in hashes) {\n        element.crossOrigin = \"anonymous\";\n        element.integrity = \"sha384-\" + hashes[url];\n      }\n      console.debug(\"Bokeh: injecting script tag for BokehJS library: \", url);\n      document.head.appendChild(element);\n    }\n  };\n\n  function inject_raw_css(css) {\n    const element = document.createElement(\"style\");\n    element.appendChild(document.createTextNode(css));\n    document.body.appendChild(element);\n  }\n\n  \n  var js_urls = [\"https://cdn.bokeh.org/bokeh/release/bokeh-2.0.2.min.js\", \"https://cdn.bokeh.org/bokeh/release/bokeh-widgets-2.0.2.min.js\", \"https://cdn.bokeh.org/bokeh/release/bokeh-tables-2.0.2.min.js\", \"https://cdn.bokeh.org/bokeh/release/bokeh-gl-2.0.2.min.js\"];\n  var css_urls = [];\n  \n\n  var inline_js = [\n    function(Bokeh) {\n      Bokeh.set_log_level(\"info\");\n    },\n    function(Bokeh) {\n    \n    \n    }\n  ];\n\n  function run_inline_js() {\n    \n    if (root.Bokeh !== undefined || force === true) {\n      \n    for (var i = 0; i < inline_js.length; i++) {\n      inline_js[i].call(root, root.Bokeh);\n    }\n    if (force === true) {\n        display_loaded();\n      }} else if (Date.now() < root._bokeh_timeout) {\n      setTimeout(run_inline_js, 100);\n    } else if (!root._bokeh_failed_load) {\n      console.log(\"Bokeh: BokehJS failed to load within specified timeout.\");\n      root._bokeh_failed_load = true;\n    } else if (force !== true) {\n      var cell = $(document.getElementById(\"1001\")).parents('.cell').data().cell;\n      cell.output_area.append_execute_result(NB_LOAD_WARNING)\n    }\n\n  }\n\n  if (root._bokeh_is_loading === 0) {\n    console.debug(\"Bokeh: BokehJS loaded, going straight to plotting\");\n    run_inline_js();\n  } else {\n    load_libs(css_urls, js_urls, function() {\n      console.debug(\"Bokeh: BokehJS plotting callback run at\", now());\n      run_inline_js();\n    });\n  }\n}(window));"
     },
     "metadata": {},
     "output_type": "display_data"
    }
   ],
   "source": [
    "output_notebook()"
   ]
  },
  {
   "cell_type": "code",
   "execution_count": 4,
   "metadata": {},
   "outputs": [
    {
     "name": "stdout",
     "output_type": "stream",
     "text": [
      "CPU times: user 7.57 s, sys: 1.7 s, total: 9.27 s\n",
      "Wall time: 1min 48s\n"
     ]
    }
   ],
   "source": [
    "# %%time\n",
    "# res = conllu_process_get_2list(blacklist=blacklist)"
   ]
  },
  {
   "cell_type": "code",
   "execution_count": 5,
   "metadata": {},
   "outputs": [
    {
     "ename": "ValueError",
     "evalue": "not enough values to unpack (expected 4, got 3)",
     "output_type": "error",
     "traceback": [
      "\u001b[0;31m---------------------------------------------------------------------------\u001b[0m",
      "\u001b[0;31mValueError\u001b[0m                                Traceback (most recent call last)",
      "\u001b[0;32m<timed exec>\u001b[0m in \u001b[0;36m<module>\u001b[0;34m\u001b[0m\n",
      "\u001b[0;31mValueError\u001b[0m: not enough values to unpack (expected 4, got 3)"
     ]
    }
   ],
   "source": [
    "# %%time\n",
    "# upos_data, deprel_data, sentences_data, forms_data = extract_data_from_fields(res)"
   ]
  },
  {
   "cell_type": "code",
   "execution_count": 6,
   "metadata": {},
   "outputs": [
    {
     "ename": "NameError",
     "evalue": "name 'upos_data' is not defined",
     "output_type": "error",
     "traceback": [
      "\u001b[0;31m---------------------------------------------------------------------------\u001b[0m",
      "\u001b[0;31mNameError\u001b[0m                                 Traceback (most recent call last)",
      "\u001b[0;32m<timed exec>\u001b[0m in \u001b[0;36m<module>\u001b[0;34m\u001b[0m\n",
      "\u001b[0;31mNameError\u001b[0m: name 'upos_data' is not defined"
     ]
    }
   ],
   "source": [
    "# %%time\n",
    "# # langs = ['es', 'fr', 'de', 'en']\n",
    "# # langs_data = compute_distributions(upos_data, deprel_data, sentences_data, langs)\n",
    "# langs_data = compute_distributions(upos_data, deprel_data, sentences_data)"
   ]
  },
  {
   "cell_type": "code",
   "execution_count": null,
   "metadata": {},
   "outputs": [],
   "source": []
  },
  {
   "cell_type": "code",
   "execution_count": null,
   "metadata": {},
   "outputs": [],
   "source": []
  },
  {
   "cell_type": "markdown",
   "metadata": {},
   "source": [
    "Well the stats file is quite big now, at 166MB.\n",
    "\n",
    "This is due to all the entire data functions (data, CDF, PDF) there, so an intermediate step would be to process this, plot the right graphs and then only save the graphs and then cut down the number of elements in the output.\n",
    "\n",
    "This should have taken care of much of the size issue, but for a website that will still be too much\n",
    "\n",
    "Also there are some other approaches and the idea is to think what the user would be looking for when reading the reports so:\n",
    "Reading by language: each language can have it's own file, this means that 166MB/92 ~< 2MB per file. \n",
    "\n",
    "\n",
    "\n",
    "Also have a file with the table of the stats only, no need to have the graphs there. In this way there is an easy comparison.\n",
    "The statistics should be computed and displayed for upos, deprel and text "
   ]
  },
  {
   "cell_type": "code",
   "execution_count": 7,
   "metadata": {
    "scrolled": true
   },
   "outputs": [
    {
     "name": "stderr",
     "output_type": "stream",
     "text": [
      "/home/leo/venv3/lib/python3.8/site-packages/scipy/stats/_continuous_distns.py:547: RuntimeWarning: invalid value encountered in sqrt\n",
      "  sk = 2*(b-a)*np.sqrt(a + b + 1) / (a + b + 2) / np.sqrt(a*b)\n",
      "/home/leo/venv3/lib/python3.8/site-packages/scipy/optimize/minpack.py:162: RuntimeWarning: The iteration is not making good progress, as measured by the \n",
      "  improvement from the last ten iterations.\n",
      "  warnings.warn(msg, RuntimeWarning)\n",
      "/home/leo/venv3/lib/python3.8/site-packages/scipy/stats/_continuous_distns.py:708: RuntimeWarning: divide by zero encountered in true_divide\n",
      "  a/(b-1.0),\n",
      "/home/leo/venv3/lib/python3.8/site-packages/scipy/stats/_continuous_distns.py:712: RuntimeWarning: divide by zero encountered in true_divide\n",
      "  a*(a+1.0)/((b-2.0)*(b-1.0)),\n",
      "/home/leo/venv3/lib/python3.8/site-packages/scipy/stats/_distn_infrastructure.py:1063: RuntimeWarning: invalid value encountered in subtract\n",
      "  mu2 = mu2p - mu * mu\n",
      "/home/leo/venv3/lib/python3.8/site-packages/scipy/stats/_distn_infrastructure.py:2407: RuntimeWarning: invalid value encountered in double_scalars\n",
      "  Lhat = muhat - Shat*mu\n",
      "/home/leo/venv3/lib/python3.8/site-packages/scipy/stats/_distn_infrastructure.py:1702: RuntimeWarning: divide by zero encountered in log\n",
      "  return log(self._pdf(x, *args))\n"
     ]
    },
    {
     "name": "stdout",
     "output_type": "stream",
     "text": [
      "Error processing lang qhe with Exception 'NoneType' object has no attribute 'name'\n",
      "processing af\n",
      "processing aii\n",
      "processing akk\n",
      "processing am\n",
      "processing ar\n",
      "processing be\n",
      "processing bg\n",
      "processing bho\n",
      "processing bm\n",
      "processing br\n",
      "processing bxr\n",
      "processing ca\n",
      "processing cop\n",
      "processing cs\n",
      "processing cu\n",
      "processing cy\n",
      "processing da\n",
      "processing de\n",
      "processing el\n",
      "processing en\n",
      "processing es\n",
      "processing et\n",
      "processing eu\n",
      "processing fa\n",
      "processing fi\n",
      "processing fo\n",
      "processing fr\n",
      "processing fro\n",
      "processing ga\n",
      "processing gd\n",
      "processing gl\n",
      "processing got\n",
      "processing grc\n",
      "processing gsw\n",
      "processing gun\n",
      "processing he\n",
      "processing hi\n",
      "processing hr\n",
      "processing hsb\n",
      "processing hu\n",
      "processing hy\n",
      "processing id\n",
      "processing is\n",
      "processing it\n",
      "processing ja\n",
      "processing kk\n",
      "processing kmr\n",
      "processing ko\n",
      "processing koi\n",
      "processing kpv\n",
      "processing krl\n",
      "processing la\n",
      "processing lt\n",
      "processing lv\n",
      "processing lzh\n",
      "processing mdf\n",
      "processing mr\n",
      "processing mt\n",
      "processing myv\n",
      "processing nl\n",
      "processing no\n",
      "processing olo\n",
      "processing orv\n",
      "processing pcm\n",
      "processing pl\n",
      "processing pt\n",
      "processing ro\n",
      "processing ru\n",
      "processing sa\n",
      "processing sk\n",
      "processing sl\n",
      "processing sme\n",
      "processing sms\n",
      "processing sq\n",
      "processing sr\n",
      "processing sv\n",
      "processing swl\n",
      "processing ta\n",
      "processing te\n",
      "processing th\n",
      "processing tl\n",
      "processing tr\n",
      "processing ug\n",
      "processing uk\n",
      "processing ur\n",
      "processing vi\n",
      "processing wbp\n",
      "processing wo\n",
      "processing yo\n",
      "processing yue\n",
      "processing zh\n",
      "Saving to conllu_stats.json.zip\n"
     ]
    }
   ],
   "source": [
    "all_stats = generate_files(blacklist=[], saveto='conllu_stats.json.zip')"
   ]
  },
  {
   "cell_type": "code",
   "execution_count": null,
   "metadata": {},
   "outputs": [],
   "source": []
  },
  {
   "cell_type": "code",
   "execution_count": 10,
   "metadata": {},
   "outputs": [
    {
     "name": "stdout",
     "output_type": "stream",
     "text": [
      "CPU times: user 15.9 ms, sys: 29 µs, total: 15.9 ms\n",
      "Wall time: 16.3 ms\n"
     ]
    }
   ],
   "source": [
    "%%time\n",
    "upos_table, text_table = stats_dict2table(all_stats)"
   ]
  },
  {
   "cell_type": "code",
   "execution_count": 11,
   "metadata": {},
   "outputs": [
    {
     "data": {
      "text/plain": [
       "Index(['lang_code', 'lang_name', 'mean', 'variance', 'skew', 'kurtosis',\n",
       "       'median', 'std', 'intervals_99', 'intervals_98', 'intervals_95',\n",
       "       'intervals_90', 'intervals_85', 'intervals_80'],\n",
       "      dtype='object')"
      ]
     },
     "execution_count": 11,
     "metadata": {},
     "output_type": "execute_result"
    }
   ],
   "source": [
    "upos_table.columns"
   ]
  },
  {
   "cell_type": "code",
   "execution_count": 13,
   "metadata": {},
   "outputs": [],
   "source": [
    "df_tables = [upos_table, text_table]\n",
    "\n",
    "intervals = ['intervals_99', 'intervals_98', 'intervals_95', 'intervals_90', 'intervals_85', 'intervals_80']\n",
    "for df in df_tables:\n",
    "    for interval in intervals:\n",
    "        df[[interval+'_low', interval+'_high']] = pd.DataFrame(df[interval].tolist(), index=df.index)\n",
    "    df.drop(columns=intervals)"
   ]
  },
  {
   "cell_type": "code",
   "execution_count": 15,
   "metadata": {},
   "outputs": [],
   "source": [
    "# from bokeh.models.widgets import DataTable, DateFormatter, TableColumn\n",
    "from bokeh.models import ColumnDataSource, DataTable, DateFormatter, TableColumn\n",
    "\n",
    "df_tables = [upos_table, text_table]\n",
    "bk_tables = []\n",
    "\n",
    "for table in df_tables:\n",
    "    Columns = [TableColumn(field=Ci, title=Ci) for Ci in table.columns] # bokeh columns\n",
    "    data_table = DataTable(columns=Columns, source=ColumnDataSource(table)) # bokeh table\n",
    "    bk_tables.append(data_table)\n"
   ]
  },
  {
   "cell_type": "code",
   "execution_count": 16,
   "metadata": {},
   "outputs": [
    {
     "data": {
      "text/plain": [
       "Index(['lang_code', 'lang_name', 'mean', 'variance', 'skew', 'kurtosis',\n",
       "       'median', 'std', 'intervals_99', 'intervals_98', 'intervals_95',\n",
       "       'intervals_90', 'intervals_85', 'intervals_80', 'intervals_99_low',\n",
       "       'intervals_99_high', 'intervals_98_low', 'intervals_98_high',\n",
       "       'intervals_95_low', 'intervals_95_high', 'intervals_90_low',\n",
       "       'intervals_90_high', 'intervals_85_low', 'intervals_85_high',\n",
       "       'intervals_80_low', 'intervals_80_high'],\n",
       "      dtype='object')"
      ]
     },
     "execution_count": 16,
     "metadata": {},
     "output_type": "execute_result"
    }
   ],
   "source": [
    "upos_table.columns"
   ]
  },
  {
   "cell_type": "code",
   "execution_count": 17,
   "metadata": {},
   "outputs": [],
   "source": [
    "# upos_table"
   ]
  },
  {
   "cell_type": "code",
   "execution_count": 19,
   "metadata": {},
   "outputs": [
    {
     "data": {
      "text/html": [
       "\n",
       "\n",
       "\n",
       "\n",
       "\n",
       "\n",
       "  <div class=\"bk-root\" id=\"39b261c6-b134-48fe-87a4-3d3702e2b6f8\" data-root-id=\"1058\"></div>\n"
      ]
     },
     "metadata": {},
     "output_type": "display_data"
    },
    {
     "data": {
      "application/javascript": [
       "(function(root) {\n",
       "  function embed_document(root) {\n",
       "    \n",
       "  var docs_json = {\"16b8d02b-aab1-4a15-a8dd-10029b1a78d0\":{\"roots\":{\"references\":[{\"attributes\":{\"columns\":[{\"id\":\"1031\"},{\"id\":\"1032\"},{\"id\":\"1033\"},{\"id\":\"1034\"},{\"id\":\"1035\"},{\"id\":\"1036\"},{\"id\":\"1037\"},{\"id\":\"1038\"},{\"id\":\"1039\"},{\"id\":\"1040\"},{\"id\":\"1041\"},{\"id\":\"1042\"},{\"id\":\"1043\"},{\"id\":\"1044\"},{\"id\":\"1045\"},{\"id\":\"1046\"},{\"id\":\"1047\"},{\"id\":\"1048\"},{\"id\":\"1049\"},{\"id\":\"1050\"},{\"id\":\"1051\"},{\"id\":\"1052\"},{\"id\":\"1053\"},{\"id\":\"1054\"},{\"id\":\"1055\"},{\"id\":\"1056\"}],\"source\":{\"id\":\"1057\"},\"view\":{\"id\":\"1059\"}},\"id\":\"1058\",\"type\":\"DataTable\"},{\"attributes\":{},\"id\":\"1066\",\"type\":\"StringEditor\"},{\"attributes\":{\"editor\":{\"id\":\"1094\"},\"field\":\"intervals_98_low\",\"formatter\":{\"id\":\"1095\"},\"title\":\"intervals_98_low\"},\"id\":\"1047\",\"type\":\"TableColumn\"},{\"attributes\":{},\"id\":\"1069\",\"type\":\"StringFormatter\"},{\"attributes\":{},\"id\":\"1080\",\"type\":\"StringEditor\"},{\"attributes\":{},\"id\":\"1084\",\"type\":\"StringEditor\"},{\"attributes\":{\"editor\":{\"id\":\"1074\"},\"field\":\"median\",\"formatter\":{\"id\":\"1075\"},\"title\":\"median\"},\"id\":\"1037\",\"type\":\"TableColumn\"},{\"attributes\":{},\"id\":\"1082\",\"type\":\"StringEditor\"},{\"attributes\":{\"editor\":{\"id\":\"1066\"},\"field\":\"mean\",\"formatter\":{\"id\":\"1067\"},\"title\":\"mean\"},\"id\":\"1033\",\"type\":\"TableColumn\"},{\"attributes\":{\"editor\":{\"id\":\"1096\"},\"field\":\"intervals_98_high\",\"formatter\":{\"id\":\"1097\"},\"title\":\"intervals_98_high\"},\"id\":\"1048\",\"type\":\"TableColumn\"},{\"attributes\":{},\"id\":\"1064\",\"type\":\"StringEditor\"},{\"attributes\":{},\"id\":\"1083\",\"type\":\"StringFormatter\"},{\"attributes\":{\"editor\":{\"id\":\"1106\"},\"field\":\"intervals_85_low\",\"formatter\":{\"id\":\"1107\"},\"title\":\"intervals_85_low\"},\"id\":\"1053\",\"type\":\"TableColumn\"},{\"attributes\":{},\"id\":\"1081\",\"type\":\"StringFormatter\"},{\"attributes\":{},\"id\":\"1079\",\"type\":\"StringFormatter\"},{\"attributes\":{},\"id\":\"1068\",\"type\":\"StringEditor\"},{\"attributes\":{\"editor\":{\"id\":\"1092\"},\"field\":\"intervals_99_high\",\"formatter\":{\"id\":\"1093\"},\"title\":\"intervals_99_high\"},\"id\":\"1046\",\"type\":\"TableColumn\"},{\"attributes\":{},\"id\":\"1078\",\"type\":\"StringEditor\"},{\"attributes\":{},\"id\":\"1076\",\"type\":\"StringEditor\"},{\"attributes\":{},\"id\":\"1077\",\"type\":\"StringFormatter\"},{\"attributes\":{},\"id\":\"1072\",\"type\":\"StringEditor\"},{\"attributes\":{\"editor\":{\"id\":\"1078\"},\"field\":\"intervals_99\",\"formatter\":{\"id\":\"1079\"},\"title\":\"intervals_99\"},\"id\":\"1039\",\"type\":\"TableColumn\"},{\"attributes\":{\"editor\":{\"id\":\"1104\"},\"field\":\"intervals_90_high\",\"formatter\":{\"id\":\"1105\"},\"title\":\"intervals_90_high\"},\"id\":\"1052\",\"type\":\"TableColumn\"},{\"attributes\":{},\"id\":\"1074\",\"type\":\"StringEditor\"},{\"attributes\":{\"editor\":{\"id\":\"1090\"},\"field\":\"intervals_99_low\",\"formatter\":{\"id\":\"1091\"},\"title\":\"intervals_99_low\"},\"id\":\"1045\",\"type\":\"TableColumn\"},{\"attributes\":{},\"id\":\"1075\",\"type\":\"StringFormatter\"},{\"attributes\":{\"editor\":{\"id\":\"1086\"},\"field\":\"intervals_85\",\"formatter\":{\"id\":\"1087\"},\"title\":\"intervals_85\"},\"id\":\"1043\",\"type\":\"TableColumn\"},{\"attributes\":{},\"id\":\"1061\",\"type\":\"UnionRenderers\"},{\"attributes\":{\"editor\":{\"id\":\"1082\"},\"field\":\"intervals_95\",\"formatter\":{\"id\":\"1083\"},\"title\":\"intervals_95\"},\"id\":\"1041\",\"type\":\"TableColumn\"},{\"attributes\":{},\"id\":\"1062\",\"type\":\"StringEditor\"},{\"attributes\":{},\"id\":\"1070\",\"type\":\"StringEditor\"},{\"attributes\":{\"editor\":{\"id\":\"1070\"},\"field\":\"skew\",\"formatter\":{\"id\":\"1071\"},\"title\":\"skew\"},\"id\":\"1035\",\"type\":\"TableColumn\"},{\"attributes\":{\"editor\":{\"id\":\"1068\"},\"field\":\"variance\",\"formatter\":{\"id\":\"1069\"},\"title\":\"variance\"},\"id\":\"1034\",\"type\":\"TableColumn\"},{\"attributes\":{\"editor\":{\"id\":\"1080\"},\"field\":\"intervals_98\",\"formatter\":{\"id\":\"1081\"},\"title\":\"intervals_98\"},\"id\":\"1040\",\"type\":\"TableColumn\"},{\"attributes\":{\"editor\":{\"id\":\"1084\"},\"field\":\"intervals_90\",\"formatter\":{\"id\":\"1085\"},\"title\":\"intervals_90\"},\"id\":\"1042\",\"type\":\"TableColumn\"},{\"attributes\":{\"editor\":{\"id\":\"1112\"},\"field\":\"intervals_80_high\",\"formatter\":{\"id\":\"1113\"},\"title\":\"intervals_80_high\"},\"id\":\"1056\",\"type\":\"TableColumn\"},{\"attributes\":{},\"id\":\"1063\",\"type\":\"StringFormatter\"},{\"attributes\":{\"editor\":{\"id\":\"1110\"},\"field\":\"intervals_80_low\",\"formatter\":{\"id\":\"1111\"},\"title\":\"intervals_80_low\"},\"id\":\"1055\",\"type\":\"TableColumn\"},{\"attributes\":{},\"id\":\"1065\",\"type\":\"StringFormatter\"},{\"attributes\":{},\"id\":\"1067\",\"type\":\"StringFormatter\"},{\"attributes\":{\"editor\":{\"id\":\"1088\"},\"field\":\"intervals_80\",\"formatter\":{\"id\":\"1089\"},\"title\":\"intervals_80\"},\"id\":\"1044\",\"type\":\"TableColumn\"},{\"attributes\":{\"editor\":{\"id\":\"1100\"},\"field\":\"intervals_95_high\",\"formatter\":{\"id\":\"1101\"},\"title\":\"intervals_95_high\"},\"id\":\"1050\",\"type\":\"TableColumn\"},{\"attributes\":{\"editor\":{\"id\":\"1108\"},\"field\":\"intervals_85_high\",\"formatter\":{\"id\":\"1109\"},\"title\":\"intervals_85_high\"},\"id\":\"1054\",\"type\":\"TableColumn\"},{\"attributes\":{\"editor\":{\"id\":\"1072\"},\"field\":\"kurtosis\",\"formatter\":{\"id\":\"1073\"},\"title\":\"kurtosis\"},\"id\":\"1036\",\"type\":\"TableColumn\"},{\"attributes\":{\"editor\":{\"id\":\"1098\"},\"field\":\"intervals_95_low\",\"formatter\":{\"id\":\"1099\"},\"title\":\"intervals_95_low\"},\"id\":\"1049\",\"type\":\"TableColumn\"},{\"attributes\":{},\"id\":\"1073\",\"type\":\"StringFormatter\"},{\"attributes\":{\"editor\":{\"id\":\"1076\"},\"field\":\"std\",\"formatter\":{\"id\":\"1077\"},\"title\":\"std\"},\"id\":\"1038\",\"type\":\"TableColumn\"},{\"attributes\":{\"data\":{\"index\":[0,1,2,3,4,5,6,7,8,9,10,11,12,13,14,15,16,17,18,19,20,21,22,23,24,25,26,27,28,29,30,31,32,33,34,35,36,37,38,39,40,41,42,43,44,45,46,47,48,49,50,51,52,53,54,55,56,57,58,59,60,61,62,63,64,65,66,67,68,69,70,71,72,73,74,75,76,77,78,79,80,81,82,83,84,85,86,87,88,89,90],\"intervals_80\":[[65.1128451466035,253.32789041140543],[19.96877849211208,72.07987916961355],[37.47564024303924,269.15548325486503],[10.540770226238552,29.506857353255818],[41.60394627580442,321.1784613133526],[36.677573956503565,265.90933569471594],[25.193478834436434,143.89456191874464],[30.826203021245604,151.16504011524597],[16.51505049113976,90.21389439481153],[17.247034095156977,98.46008216252633],[25.53771260246782,125.0707621751443],[61.532816444623954,283.3503987137072],[30.109928322422842,135.12245160463482],[27.879203969525655,193.12327013480044],[15.608563223328426,95.60145524002871],[24.994040837182652,179.11720489678288],[25.5916054301819,185.46291933949166],[47.49207005878802,204.49002116845477],[49.39987002854244,265.5046440427228],[20.036844722973285,172.42610952312506],[53.52556957784283,269.14749517109027],[24.97233423181809,169.4894535959284],[34.621355691536706,147.99059842654228],[35.745160125904725,223.03634218978516],[23.065175393522516,146.586493300837],[23.907673731282866,69.24431385189865],[27.5402073523458,173.0832529437157],[17.012778679581565,87.10638275290691],[25.60013449057721,221.74713041071055],[20.204966229890186,204.44678183066216],[95.30007836645643,243.72817225266363],[18.557755160402838,123.44257030924946],[25.036855668231816,148.83995188493063],[39.5449437072697,107.45961164038177],[14.90475247604941,75.2705721431668],[33.80026974745847,157.60101119698018],[48.43838408791301,167.52512863094938],[51.31323017318184,222.5339442253853],[40.04848151847068,170.6945686481145],[55.89972655932169,261.44734153068305],[28.565079073008317,248.17037649343575],[50.90536281027141,225.41716238262146],[55.57150004796915,166.82838202544764],[37.20189477773574,222.68247631390537],[12.541943230178997,72.57646276310194],[21.331530344837418,101.38439741295372],[33.83900790758585,95.74529883543877],[20.958617239811574,79.10562070926565],[19.0445104551779,82.9250835062982],[19.39207830462257,104.28054335373756],[36.30492967384527,151.20631879314865],[28.550192010077026,199.545975460421],[34.14579898659094,238.1263885455182],[25.246237771877865,184.1550390209888],[2.214099182093398,8.59060587099264],[24.144974329470045,82.72622537798458],[15.229619397049303,60.346761420612644],[31.683631393955565,220.46064112481426],[18.09789528921507,105.91493835580167],[20.626202168307298,163.1630509520133],[24.541224646494257,160.36061188322844],[29.291627296670153,138.989409640911],[16.691787228473103,102.13761301741322],[20.83385822501657,126.51554897732224],[21.097886344103955,136.77083004600271],[41.62303428038632,223.86693724153776],[40.569538093912016,188.16644795391278],[30.94896212523319,195.70964651138215],[17.23461789299765,78.15747770116802],[17.121069913497745,101.63507057752345],[21.554522565455187,169.25473518219715],[20.853473992354143,98.30510881008938],[24.006647147557665,118.37533740978863],[52.589714393516196,129.20996584622733],[55.78631597989457,214.00024106365998],[31.253740708890945,173.89036242144405],[18.73359825590384,147.06519875298048],[52.83152939256416,190.91591386652482],[14.926429740948075,40.4640122321875],[49.73215149996361,151.622149036905],[18.52758458640171,73.58824654293173],[17.431250267346726,116.56321745690232],[29.130015024311575,126.08710707993005],[22.90262821468426,191.84911129830252],[52.042792061246814,204.49737998634194],[29.7687317553231,111.5247599629672],[26.505026877064026,57.51842564257823],[31.967792528524615,155.90551072936543],[46.00555193207072,166.5370998328057],[4.7848054291081015,40.43046312156601],[14.819744918045327,62.392572001208514]],\"intervals_80_high\":{\"__ndarray__\":\"ETUIFH6qb0DMR4W9HAVSQIlrAtx80nBAivhLZ8GBPUA2B0D62hJ0QD/elaOMnnBAKyhRQKD8YUBOMDUCSOViQNmgHXKwjVZAgmF0/HGdWEB4AhNeh0RfQO1+rjubtXFA+qegH+vjYEBTsTXU8SNoQJh7Hj5+5ldAotN7JMBjZkCv+Tc80C5nQI2b30Cuj2lA2rmhBROYcEDDSnCwoo1lQGmC5SNc0nBAgm2WmqkvZUD7rnj7sn9iQPSSGLcp4WtAYE2ZjcRSYkBU95DWok9RQMDREwKqomVA/iWb+c7GVUAq+wh+6LdrQIPkaAlMjmlAcGHlL013bkANGmsSU9xeQLN/xuLgmmJAPRPxRmrdWkALh9INUdFSQOlx1Xs7s2NA3gOP2s3wZEBgPTMSFtFrQFKPB+g5VmVA0saXTyhXcEAKame5cwVvQGHP7GRZLWxAinwFG4LaZECVEJHY1tVrQJ64EsTkJFJAaFOb95lYWUA2/eL5su9XQOIEXX3CxlNAqmdzkTS7VEBuWhxs9BFaQPWj3ima5mJAqF2HoXjxaEDfsv1fC8RtQAaYZBT2BGdAXHqJ5GMuIUAE/gF6eq5UQN2FoK1iLE5Ao8h0kr2Oa0CMAZtZjnpaQFJPobY3ZWRAfKDuIYoLZEDqQWg+qV9hQMtS1KbOiFlAdUUjwf6gX0Bjy8WjqhhhQNqCK/O9+2tAVNGoilOFZ0Brw5lstXZoQGsXWh0UilNAXUcQ/6RoWUCtlWXKJihlQItDGueGk1hAewAzhwWYXUBZWksKuCZgQCYRjPkBwGpAETZV2X28ZUBR+bEbFmJiQKrVmCpP3WdAOhi5wGQ7REDW1xil6PNiQB7409SlZVJAons7wQskXUAt45Ipk4VfQPMbdesr+2dAweBuieqPaUBvzM+qleFbQAEkfsVbwkxApxmj8fl8Y0DNEv3rL9FkQEqhYmoZN0RAB0KhzD8yT0A=\",\"dtype\":\"float64\",\"shape\":[91]},\"intervals_80_low\":{\"__ndarray__\":\"KYvZ2jhHUECIsATeAfgzQOxBjMfhvEJAsbDI1d8UJUB8j48cTs1EQO7mT766VkJAaF8y1IcxOUA0G4wKgtM+QOg7V1nagzBAOLJfoD0/MUAQP3qIp4k5QCc3SlQzxE5A07U1QyQcPkBGoOeCE+E7QOV8S5mVNy9AhJbWdXn+OEBsxBZ0c5c5QO3q1Cb8vkdAxJ7r8C6zSEBQM+Cnbgk0QMJNKt1Fw0pAonBu5er4OEC0KlOViE9BQKOFMWhh30FA4q6nVa8QN0BXTD9OXeg3QEtibwdLijtAjuOqdkUDMUASO/ppopk5QKsptqp4NDRAuIrkezTTV0D9Gs0KyY4yQFa6gV9vCTlAM3Ekt8DFQ0DoNm+3O88tQPqnND1v5kBAKlZE+Bw4SEDd9yLtF6hJQGAldKQ0BkRAjNBpPSrzS0CHOaoFqZA8QLCQtu3ic0lAUNjf6SbJS0DZzSWw15lCQJbQQ5V5FSlAVLU0LN9UNUBUFXKcZOtAQFxffvBn9TRAtFGFCWULM0A302c+X2QzQGlfgO8HJ0JAJM0xYtmMPEBZmYuKqRJBQF5BSXAJPzlALojJoXm2AUBY1aMJHSU4QD+1cayQdS5A3I6PdwKvP0B3nGmqDxkyQGuQCclOoDRAZHvMso2KOEC30SUWqEo9QBwVwvcYsTBAYPKNu3fVNEDIplYUDxk1QOhFWZa/z0RA0pbPn+ZIREDrBI0u7/I+QDl7EesPPDFAmwAXcP4eMUAohtsw9Y01QMklhUV92jRAMl+hoLMBOED3EOHCe0tKQBT8hACm5EtAuFmuJvVAP0B3gmUYzbsyQOdcHY5vakpA1dO+/1TaLUDQB+4jt91IQBJ4kMgPhzJAPKXiamZuMUAoaCWqSCE9QAmEhqQS5zZAsMrTNXoFSkBngrSay8Q9QEyXAHFJgTpAjVNLQMH3P0AxVvvstQBHQF34zgikIxNAPiIcm7WjLUA=\",\"dtype\":\"float64\",\"shape\":[91]},\"intervals_85\":[[59.131800775000364,273.16463296640666],[18.78401149042407,79.03008468762079],[31.959247992076552,299.37474277193223],[9.807202710793494,31.102580705790203],[34.86280393915364,351.33980448497596],[31.009907669040405,294.95223141626985],[22.384154023788174,154.46511357832756],[27.313457491426483,165.385840288036],[14.72357254018432,100.42040421443696],[15.251421781455718,108.4814462090998],[23.037506512278032,138.1768267806661],[53.759845400645965,303.3625785621956],[26.834725076896877,145.3299926987151],[23.62659640473264,210.52172965450316],[13.748682783834253,105.82371254527352],[21.35221212221173,193.5032176284199],[21.55928951507267,202.42501970526257],[41.599609664349686,218.52810317669935],[42.30834377860956,285.5244498220948],[16.632423926774276,189.1214600995073],[46.59698146504443,288.6888806559089],[21.232898079230562,184.49112219192259],[30.95287871241438,157.97785010892926],[30.420560492934708,240.25195569906015],[20.118189147520393,161.8567474813607],[22.039921214839474,73.13447088523071],[24.003651192101735,191.07741668782276],[15.39657565323519,97.07612760450745],[21.232753197341108,243.51144198014987],[16.47489509327127,225.06624295928398],[84.2236854175078,254.80456520161238],[16.300868248994316,138.05042389346573],[21.9949926340355,164.16457270211177],[37.029937898137796,111.45747502591942],[13.579881847968,84.3989202128595],[29.729772986735888,169.6659569926684],[44.77270882368977,177.94123654722026],[45.51839996528773,238.40327237833372],[36.119839756443575,183.60142186799933],[48.91479550756799,279.16548401202675],[24.287469781750858,277.62284392678384],[45.87910052639078,245.72421815209535],[50.537827487865854,175.65139471306352],[32.17284150238153,243.49477900727132],[10.896513475696576,78.74303324921274],[18.9706962482201,109.35982973708084],[31.38208210613298,101.37943183151481],[18.65459904797733,83.80599006925878],[17.20058293260253,90.2476714347778],[17.378466476226922,116.18696230966484],[33.212892405853324,165.0004204520969],[25.20121183562853,226.28289345996765],[29.16302783475664,262.51859778433726],[21.35797425843046,201.2066772413756],[1.8210756196636235,8.983629433422417],[21.774372410089438,87.76925511490575],[13.90005261293387,65.08156295772477],[26.581577463609058,240.89526425910617],[15.858838662348392,116.29551209416599],[17.31799923345042,178.7522407602751],[20.820772107006654,175.048280649088],[26.204261492056187,148.169156732215],[15.10493838741615,116.59438577255287],[18.610978363139274,141.27362163390657],[18.715367482502696,153.21665670156307],[36.0144453727369,242.2582999982839],[36.031206572851296,203.51447043637447],[26.50225166191483,212.55759161940944],[15.609190602651005,85.85219820240037],[14.992227161122202,111.71740775950016],[17.884575705887677,183.52517396033664],[19.193176779988892,110.21064378225475],[21.870081207975215,127.11612520117697],[49.66403453763126,136.60581738615713],[49.97497458714,228.53146981475953],[27.253162275481756,189.16318706122706],[15.915009296559468,158.51443296786337],[48.248998748798826,205.11872410567483],[13.956610850650302,42.86373096814569],[44.96354369384274,159.54533713987462],[17.179776368556215,78.19160854829605],[15.559470095030932,133.0347876180635],[26.444205583397732,137.41813778829425],[19.218737030582325,213.21811097002794],[47.17056378337393,220.37335946987108],[26.4042739515504,117.15427388296044],[25.030898037102467,59.907510284584795],[28.281679113773517,168.0469348395221],[41.07108804328768,176.80404709841096],[4.283428491130074,46.60422230897696],[13.181782068026472,67.2134408289223]],\"intervals_85_high\":{\"__ndarray__\":\"9mgtVqIScUBEXFPo7MFTQMjdRvL+tXJAzJGoukIaP0AY4NPWb/V1QKVxAlc8b3JA9freNeJOY0ABU7vNWKxkQN4GFOfnGllAerfCA9AeW0CSAKOQqEVhQMatLR/N9XJAzhzZTI8qYkA5bmMCslBqQE3Q0rS3dFpAsRrbWxowaEBEyOzCmU1pQMwaojjmUGtApSR/JWTYcUDjZEoA46NnQJ3/uKcFC3JAtxTjRbcPZ0C4x0+MSr9jQCLwZQUQCG5A/auxeWo7ZEAglcUrm0hSQKHLjzJ64mdAq+tQRt9EWEByUZK7XXBuQOH2jakeImxAmI2F/77Zb0Dqq5ESnUFhQE2s+C1EhWRA4sNURUfdW0B5/KTohxlVQLUBCoVPNWVAjYMbnB4+ZkBainmb58xtQAHFEtk+82ZApzqQ0qVycUDIgDEr91lxQGnNi8sst25Apay5Odj0ZUBJ38g61W9uQGZNVNuNr1NA/jhOcwdXW0C42nKcSFhZQIEXX1eV81RAiiFK2dmPVkAWZsMw9wtdQC+AwHEDoGRAB9qVdg1JbEAbuDAtTGhwQCQRlxmdJmlAVd3vRp73IUBCM855O/FVQIz/1lM4RVBAcEQ7AaYcbkD8AI+r6RJdQDEDN1sSWGZAmxvcg4vhZUBfGGG7aYViQKCUn2oKJl1AayMogsGoYUCG9Qja7iZjQPWlW/5DSG5Al1+0inZwaUBkPGHK15FqQEFBVGqKdlVAyjw8AurtW0BqC585zvBmQPT4DjB7jVtA+lJlmG7HX0CUnCTbYhNhQIIm/MwBkWxAOGMS1DilZ0CjniA8dtBjQNnjfpbMo2lANF2CvI5uRUDIod9mc/FjQDIkgFBDjFNAbjzs+hyhYEBCvn9iYS1hQGdl28P6pmpA8RePj/KLa0BKfJCf30ldQKWJCEwp9E1ASxl+fYABZUDNA/vAuhlmQOpIGChXTUdAjva4A6nNUEA=\",\"dtype\":\"float64\",\"shape\":[91]},\"intervals_85_low\":{\"__ndarray__\":\"ZRsJ2d6QTUBCDx/6tMgyQPO4wkaR9T9AgjN4rEmdI0AvwwZccG5BQBWCGk+JAj9ACcwI61diNkDqXArAPlA7QCfAmBl4ci1AcLURW7qALkAFn9sGmgk3QC3lNJ1C4UpAVWzqirDVOkAtHjqfaKA3QO9Kj1lTfytAdSfakipaNUCaOwCZLY81QKxfbQLAzERAzYYWz3cnRUATtNKI5qEwQI1XfuNpTEdAs5hhNZ87NUDV3/rb7/M+QOskO9qpaz5Am1fbpEEeNEDyJthGOAo2QBqr1kjvADhA6RHK9gvLLkCXnqq2lTs1QIihjrmSeTBAcDKk3FAOVUDb1ZmzBU0wQIHxVta3/jVA17RKAdWDQkAaIglG5igrQO6IB2fSuj1AAoprH+hiRkBElBjuWsJGQMdXvehWD0JAIMTpBBh1SEBMNZ+el0k4QFVftV2G8EZACKP3h9dESUBiD5yrHxZAQIYUddADyyVAinSgjH/4MkBbOgYi0GE/QC0On82TpzJA5KkvZ1kzMUDpBtIt42AxQHha8A5Am0BAuZdtnoIzOUASnjIxvCk9QMjEdDOkWzVAnvhfMCAj/T9DQjBFPcY1QOx1MrLTzCtAokq6QuKUOkBJp36zubcvQJfS02VoUTFABhDtHh7SNECnNix7SjQ6QD0Y/Hu6NS5ALj/4E2mcMkCP+MVSIrcyQOS9kVjZAUJAhei0k/4DQkAtSZ6Qk4A6QEzVptTnNy9AEHLOMgX8LUCqn6+Nc+IxQB1mkAh0MTNAIx5dpL3eNUA3RW8V/9RIQEQZn/fL/EhAbMYtPs9AO0CMhDgZfNQvQP5q5TDfH0hAZRW95cjpK0AqqVZmVXtGQOeK99IFLjFA6H5C3XIeL0DUZAV1t3E6QHbGaCb/NzNAjby3CNWVR0CeiGh/fmc6QJ7dCu/oBzlAn59VHxxIPEBTh7ppGYlEQBiiEBQ7IhFAjFgKihJdKkA=\",\"dtype\":\"float64\",\"shape\":[91]},\"intervals_90\":[[52.01012385521457,301.0393955446419],[17.41532233836351,89.19858231793332],[25.59410082579944,343.65108563518424],[8.890563679905572,33.21474250868026],[27.373922697583552,393.09798545030736],[24.40331731595001,337.0597021345126],[19.18084318712032,168.45670894180466],[23.124959222277383,185.91020785455055],[12.614007400305754,115.67089893722262],[12.958552443809621,122.95036571937723],[20.10339274706976,157.50409289268535],[44.53765868089345,330.4843046411229],[23.015781607964083,159.31848724714712],[18.842759907774113,234.55345347681452],[11.62672493311385,120.68397160101256],[17.436284704390655,212.54202448516097],[17.04070684127517,225.87131714737924],[34.490242598324166,237.62767677610603],[34.00124606335881,312.7010455919954],[12.914820370559626,212.2135446291339],[38.558466831633346,314.99913519169354],[17.032013642602525,205.13336052200967],[26.71033160166544,171.32332779038384],[24.425913838127233,263.2796413062199],[16.7578295881677,183.871173151545],[19.74634298654682,78.41421266848691],[19.950865022583685,217.0524333435003],[13.5082179081616,112.04467073034056],[16.455597801727848,273.7260449386882],[12.489208110275598,253.57157625132268],[69.22380048813768,269.80445013098245],[13.727406678112462,159.7469412074696],[18.497645749220965,186.311153619012],[34.19804511443114,116.28531190976835],[12.028180457297312,98.32433797973773],[24.913434138657994,186.28795325667986],[40.320379198454205,191.72840413507805],[38.67329411115994,260.00833202170406],[31.569466727242883,201.3178601309081],[40.76179683900675,302.7995985780662],[19.583270147717222,320.58833707113],[39.92802693633001,274.8699950103142],[44.283984855411674,187.48149704491146],[26.3606732874483,272.90990341979295],[9.023300284954207,87.23982775792132],[16.24606275727382,120.31635824759304],[28.36078498286668,109.11962027623268],[15.88315776450641,90.0548348740965],[15.01445456522865,100.68430839972793],[15.015712895965844,134.0185611126606],[29.575270996908344,184.81462062015544],[21.366950122556144,267.2326618921704],[23.48706666389169,297.3887687514597],[17.0261621220871,224.8023301097539],[1.3102736603839542,9.494431392702083],[18.875560745308142,94.60764257437117],[12.350102189123113,71.68566039527289],[20.73390915881728,269.4627941364945],[13.285104047641626,131.1291506227915],[13.669950990310335,200.36342632210307],[16.542040496684507,195.59706151800341],[22.793799998310917,160.10459273772304],[13.274609069482164,139.2353034947683],[16.064037882365913,163.04550223828994],[16.017276230085066,177.73430610217756],[29.450776325380698,267.70954366974206],[30.689657457481122,224.93887134109616],[21.46516401537988,235.7137623557769],[13.68903404816793,97.10492597403993],[12.54828103682817,126.15207852719092],[13.861016425092702,202.6836335971548],[17.252744151024533,128.44059203665586],[19.601238043024964,138.61807909546658],[46.06700133882742,146.90521156737645],[42.96977784074148,248.41238409614328],[22.6323139592539,210.5075472606289],[12.824919848650989,173.66908690790552],[42.7555024136232,225.00892985225903],[12.772036992887054,46.178583498166944],[39.00430021091594,170.15070805559873],[15.744459224847706,84.1040814643836],[13.401774338557406,158.7040925230334],[23.294688736382348,153.6538764519538],[15.097952958009078,244.0520871796702],[41.37440871662716,242.61534098456977],[22.418958169277648,124.33767713380794],[23.183874562204792,63.10257600185114],[24.03163282716684,184.65641195081355],[35.02954871118518,190.7010818097144],[3.7320212878673416,56.09800367503877],[11.200757117085121,73.94794007832772]],\"intervals_90_high\":{\"__ndarray__\":\"hf04XaHQckCZRZyStUxWQDBgxdhqenVA3uu5rnybQEDdCDFZkZF4QLqzOYr0EHVA8BoSXJ0OZUBs+zhsID1nQLWSGALw6lxAvv28ytK8XkBZB2uHIbBjQMguOba/p3RAFNYqDDHqY0DU2BDktVFtQHhv0jDGK15Auay7Q1iRakADjn/U4TtsQLE6m+0VtG1AASqVezeLc0C7y4tb1YZqQLTJLnX8r3NAfRNJfUSkaUDFsoWzWGplQDSNKWl5dHBAQGGEpuD7ZkBfL9p1gppTQLjxsIitIWtArHmf4tsCXEB5MUzhnRtxQD1TR1pKsm9AUr0ZB9/ccEC8Qz/x5vdjQAk2b/j0SWdAUmfijEISXUDB9BX0wZRYQO+Gv+k2SWdAzk0wFk/3Z0CoC8IgIkBwQHteAukrKmlAj+vgJ8vsckBy+CHUaQl0QLlP43/rLXFAfqB9bGhvZ0B4aOP2jg5xQHw8hlZZz1VA2c6pNj8UXkDnls3bp0dbQC+7IWqCg1ZAaU11tcsrWUBZe3kNmMBgQOBGQ18RGmdAXB6t+7izcECeE5VlOJZyQKe/MbCsGWxA2IqLHCb9IkA2Ja6d46ZXQAJ3I9zh61FAZBDTmmfXcEC5pHwAImRgQAb+PDChC2lAy7DBIBtzaEBtfd7SWANkQELVMZuHZ2FANCscwXRhZEBjw4JvfzdmQASKdkpau3BAHCXpOwsebECw5SYk13ZtQCjAbhu3RlhAXi2Tp7uJX0BBx5BT4FVpQBSKeFQZDmBA2avPTcdTYUD4uj9+91xiQG7KIUAyDW9Aa7LA0z1QakBadPIoabVlQCTtQSdJIGxAvB320tsWR0BKQbOZ0kRlQG5pTUWpBlVALPkK7YfWY0CEGE+O7DRjQC6nu7KqgW5As5OT37BTbkD6k42AnBVfQA2n3jUhjU9AVK6iUwEVZ0BnkR5Db9ZnQPSWaWKLDExADr/cDKt8UkA=\",\"dtype\":\"float64\",\"shape\":[91]},\"intervals_90_low\":{\"__ndarray__\":\"LIcNvUsBSkDMkZSQUmoxQM9V4f0WmDlAUmZw9vfHIUB8Wt1luV87QHHquc0/ZzhA3WI2vUsuM0DUA91T/R83QGGhjy1fOilAj1PLYsfqKUDnTnPydxo0QIds6f/RREZAgxVyQwoEN0ARRQIdv9cyQKGfJhfiQCdAVxq5WrBvMUAVAHjDawoxQEV0+0TAPkFA+6+81CgAQUBRiepVY9QpQAviVNd7R0NA8QDMCzIIMUDnd7ZK2LU6QJmrdbAIbThAFR+xHgHCMEBM0X5VEL8zQEDo3uNr8zNAWZc9IzUEK0D0jLoOonQwQLAkRXx5+ihAVVhIv1JOUUAixeqlbnQrQMDlObZlfzJAos7UilkZQUDh9DyrbQ4oQAWW2NHW6ThA+taBLwIpREC7Al6ALlZDQBirSZLIkT9Adt0Oj4JhREC2LUExUZUzQBisLpbJ9kNAtkahnVkkRkCaIaYVVVw6QEq70wPuCyJAMEEH+P0+MEDhTJZnXFw8QOqGJ0EtxC9Ast65lmYHLkD2mEyFCwguQAQPxvVEkz1AT6R3cfBdNUD6YqBmsHw3QBDCko+yBjFAeIyCg+H29D+Gwr6/JOAyQGQVGZhAsyhA51p7eOG7NEDxJ2Eo+ZEqQIWc8tADVytAGF5+KsOKMEBsTwh6Nss2QMY4WY+ZjCpAeXdiyWQQMECqNgs3bAQwQDdSxxNmcz1A7VIhZI2wPkAnVSn9FHc1QGpsHRLJYCtAT2PESrgYKUAZLxYl17grQNnnNtezQDFAPOeDvOqZM0Cnhvd/kwhHQGEvJ64hfEVAvszfU9+hNkD2jffkW6YpQMVHl020YEVAEYHHbkiLKUD8n8jojIBDQFLab8IpfS9AwvO4XbXNKkACQ5W4cEs3QBJk3uMmMi5AIKD0n+yvRECFcLPXQGs2QGQ8P2cSLzdAXinGFhkIOEDzFo5AyINBQKPtGvot2w1AwqMIo8lmJkA=\",\"dtype\":\"float64\",\"shape\":[91]},\"intervals_95\":[[42.397052508082126,348.92032999100894],[15.639947309728239,107.69974361782586],[17.389170311825644,424.66265178300904],[7.5489585653945355,36.526415743870984],[18.353803176418246,462.9169086418649],[15.723417839781067,412.67695726492207],[14.944996060328739,190.39422898413443],[17.438701977607785,222.65353590321556],[9.794923171622347,144.46307658157025],[10.028596353913114,148.82071302684966],[16.21128214782771,193.25051202991938],[32.21387324195357,374.5272627853586],[18.046640167937735,182.402283534638],[12.963962464276598,274.6152882231509],[8.944157183487857,147.52998652811874],[12.977944146043836,242.15247272064653],[11.522040877128383,264.99403705206987],[24.72735935547393,268.8681709532305],[23.122885200121836,356.9070841130002],[8.560470333271521,250.73092050936762],[28.202092341138172,357.22740975768806],[11.882744343383782,239.33817229213562],[21.276612636408494,192.48849080834566],[17.071478343542697,299.79486522864636],[12.51752669791695,223.12769033233064],[16.508148826845954,87.02892501603479],[14.794128665906918,263.47584535593194],[11.015535325496817,140.50807350444845],[10.843246727320231,324.4139427266646],[7.98241022094064,301.029475373654],[44.91668522436662,294.1115653947534],[10.469080475655261,200.2771166801123],[14.023068391884092,225.96825086361662],[30.75203416316046,122.81001748075019],[9.967208790306097,125.4722901965005],[18.493132074610955,213.9700969730802],[34.008331797413774,213.34540044095277],[29.58553490917071,295.3298118556812],[25.71095116790158,230.6153725617795],[30.16586498555593,340.2027577396435],[13.982957271855255,398.514422738651],[31.946872526266986,326.5813723186863],[35.30380616301599,206.44523508763334],[18.880223576061596,323.8047282309453],[6.676952249734802,101.36099869145345],[12.758136270690532,138.45451344333372],[24.076797547889623,121.98263751390813],[12.10566366502869,99.91473260976466],[12.0721107277989,118.97067910169552],[11.875739994646626,167.80001622123754],[24.732990336943136,219.92391725263886],[16.461337658838648,347.50301539065066],[16.34320855651412,358.75650225673405],[11.784859891529367,264.228665972567],[0.5263398113970981,10.278365241688942],[14.810594401376097,105.74668027134646],[10.33010761485599,82.88576916986753],[13.317689391124969,318.037343071348],[9.997672644777001,157.22975481896825],[9.327912868965917,236.55720017849637],[11.085042825580432,230.58448692905247],[18.745062129340162,178.18902903536622],[10.896620802090276,185.20478029719558],[12.798706167924207,203.13599176732214],[12.638390324261504,223.79028147318706],[20.850446171880648,310.3600014598544],[23.618844015080576,261.3385382593175],[15.208109321882251,274.03369851338454],[11.11702949872338,117.65504796672148],[9.432425035853399,151.6237174544354],[9.129616005319052,233.19017367745576],[14.683245389510612,164.18532675428213],[17.070386697415692,156.3347663266841],[40.96173478080785,164.38962262502457],[33.35728205773,281.20922350199015],[16.69817856839547,246.79734205692034],[8.920751826448177,197.4301746114615],[35.262138532645466,259.01018656071636],[11.11001613116283,51.733687719858324],[30.370027883687825,187.11505682055233],[14.138798033268735,92.87281278018578],[10.60311965668767,210.4194735493186],[19.137343129349176,182.3709001625943],[10.058633800697638,299.0644077058777],[33.5649065095824,280.6413882097551],[17.139949131711248,134.96013732103881],[20.497015205798462,68.20777446676577],[18.601787368866145,211.9716277286377],[26.542538288476024,213.27754823716901],[3.0650525588688806,74.6597412919915],[8.457627791391538,85.41172652058984]],\"intervals_95_high\":{\"__ndarray__\":\"lc7wq7nOdUBliXSZyOxaQI+KwTiainpAQANSl2FDQkCsY2Woq+58QBQaJNHUynlAxD8ahp3MZ0BTYiDE6dRrQGis+oXRDmJADjf3R0OaYkBE+M0xBChoQDU4GqtvaHdAqh+4gd/MZkDBwHY42ClxQOayTqb1cGJAsJZ4DuFEbkBwWmWT549wQGW3OQfkzXBA6oChaoNOdkC1dmizY1dvQPwAanijU3ZAWeSyTtLqbUC4x3m3oQ9oQDgcmsS3vHJABCwJChbka0D3eU/o2cFVQOYaBRCdd3BAP7JdI0KQYUAQl2iCn0Z0QBpeK7t40HJATZ3L+MhhckBFyMwj3ghpQNQxPOn7PmxAqkCPU9ezXkA6DKkAOl5fQH+qzggLv2pAUb05hQ2rakC+38voRnVyQFx2zCGx02xAekzmfj5DdUAybVYTO+h4QOt4D01NaXRAV42nXT/OaUA/obUq4Dx0QD9sQZoaV1lAvtbGX4tOYUC5g3SI435eQIjhpPqK+lhAWSw9mx++XUCDT567mflkQGkJ6rqQfWtAq8PdWQy4dUBeQByiGmx2QCKepp2og3BAVsuS44WOJEAYgAycyW9aQLYYLHGwuFRAwGIM9Zjgc0AlMscmWqdjQPT+d5XUkW1ACafuHbTSbECOnJ6GDEZmQD/qaI+NJmdAkCVoC1pkaUAkP1/8SflrQGQJ5JDCZXNAagMYp2pVcECRznMHiiBxQFOYTk7saV1A0pdOfvXzYkBxpxvnFSZtQOaWXzLuhWRAIR3fZ7aKY0BkCN7Jd4xkQKMpvvpYk3FAWEZ904PZbkB++Yv9w61oQCsSYrkpMHBAWCKteundSUCHLqSLrmNnQHGbIircN1dAifvKU2xNakCOjQRq3stmQK/lX9AHsXJAA49IIEOKcUD8MOdxud5gQPvsRi1MDVFAWMwIkxd/akCCNtes4ahqQCc7ijM5qlJAEjUxullaVUA=\",\"dtype\":\"float64\",\"shape\":[91]},\"intervals_95_low\":{\"__ndarray__\":\"9oDYndIyRUBW5Hwsp0cvQILdYaqgYzFAGOq0MSIyHkDy70/YkloyQMJnttJjci9A6+sLhtbjLUAWhNbFTnAxQLLmgSsAlyNA765pLqQOJEAOJjuWFjYwQA3XyTJgG0BA9/grnPALMkB0R/V8jO0pQEa6ApJo4yFAViVZGLX0KUAU4hzxSAsnQD4zBDk0ujhAiq+LZ3UfN0AOj6/39R4hQOX121K8MzxA6x8LEffDJ0DqCPMV0EY1QF3jm2dMEjFAaLhkQvkIKUDczaAKFoIwQMzFUQiYli1AEuIFP/QHJkBOmfgIvq8lQOTI6PH87R9AxrAB8VV1RkBQQ+xQK/AkQE5tyZ7PCyxAuD+YT4XAPkBtiZX9Ne8jQAwQVec9fjJAXLQuBBEBQUD2jaWd5ZU9QLcwT+UAtjlApYOwIHYqPkCo9+8sRvcrQDDM5Txm8j9ADD3PHuOmQUBMWhBVVuEyQCZCdvgytRpA8g3xbyqEKUBTmQwBqRM4QPJYQ4wZNihAkCyDsuskKEDqnBn+YMAnQG10NUGluzhADSCNORp2MEB+7xWE3FcwQBkf3CfZkSdAKBGRlsbX4D9Kdrg6Bp8tQCDvg90DqSRA9lUSL6iiKkCy3Oryzv4jQNRKEDLkpyJAOUG1u4orJkAOAUdkvL4yQDTIu+ERyyVAJ7LMA/CYKUBukrkY20YpQFw8H9e22TRArhi2j2yeN0A69BZOjWouQE5eW0rrOyZAiOx10GbdIkBZxG8HXUIiQIUu9lbSXS1ATnnT3AQSMUBrfxMgGntEQPCyIGu7rUBA0gam1LuyMECFp4zIbNchQOpdZMGNoUFA7MDKCFQ4JkAcDLslul4+QNRGK4kQRyxAuhiCGcw0JUCQ4ljrKCMzQILf4D8FHiRAGvpD207IQECszc+00yMxQOSEdmM8fzRADW2svA6aMkAU1Q3K44o6QFbnpkY6hQhA5IibME7qIEA=\",\"dtype\":\"float64\",\"shape\":[91]},\"intervals_98\":[[33.01282431445333,413.50529895656496],[13.984891828135838,134.56296527820643],[9.875026990397792,543.942831303478],[6.064947500814668,40.46159371058977],[10.990138156697045,553.0195681076875],[7.494319749405701,520.6179576479125],[10.67882946076525,216.46203199008568],[11.808042302359173,275.21550252884055],[7.051272620300104,188.84380361197765],[7.388715491419733,185.66847029907393],[12.477528955084367,246.75212197457395],[20.44520894932714,429.3474864083472],[13.482173206729444,211.7529306951629],[8.014326408917997,326.14361784854594],[6.564936171405657,186.31966928768165],[9.658960458970506,276.4682996016259],[6.919446506976449,315.36757824461597],[15.004263947923043,308.2261779670779],[13.047698281919356,411.9915728345642],[5.157321830409947,300.20284024505077],[18.85872771154663,408.7981453401343],[7.5666945435867525,282.9483673833799],[16.423901925341223,217.8872035389424],[10.921858069114267,343.4936232403744],[8.772793186372153,278.80102564709057],[13.147583888555808,97.86618255896498],[10.179225886817436,329.54651409090695],[8.633932223653327,184.81476695712192],[6.434298721414004,390.07355243228386],[4.648069529080914,361.72723251954096],[14.77810842605129,324.25014219306877],[7.561621057502907,261.71030284764925],[9.983083535516833,282.5758906000561],[27.93965077352822,128.99128141149146],[7.971834596398361,169.26436779082562],[12.367469631250128,249.68061246537232],[27.235934668189785,239.03233315689434],[20.986245214690243,339.69997897565435],[20.415024692609915,267.9568084073751],[20.49193859505285,384.9927508064832],[9.463053590103772,511.5126400357835],[24.20076335419931,399.5809469517072],[25.769641290093773,229.74330187784213],[12.089282691839212,393.0000383251512],[4.642820952417026,119.46093072568968],[9.632368327971909,161.60098589701147],[19.586808565751472,138.57891797240063],[8.401058165444867,111.71031109502873],[9.192527061535918,144.2498764453815],[8.845019926699935,220.11770358834147],[20.062231849931436,269.1747719929841],[11.985415954180224,477.8797163896289],[10.068213177314453,444.1565420666774],[7.476018495934957,315.0715235187103],[-0.3851527047522181,11.189857757838258],[10.635403888452498,119.71889972465107],[8.46453959908402,97.69401862392806],[6.748933665545929,382.4103060655242],[7.042906263560682,193.5641589502893],[5.84760256255436,283.35129799351665],[6.208731082391685,277.05403447616055],[15.537045581266439,198.41230714067302],[8.662467868287148,263.74689346526225],[9.801216528128133,262.2608082808779],[9.67359909997107,294.1341628849393],[12.852259588355562,365.81379272595643],[16.928789966072117,309.6276104358837],[9.855041783948355,322.8307881762286],[8.615997320291743,147.87534261652084],[6.639118001022872,187.22534091860283],[5.4217549957254825,269.83514382511254],[12.205561901294248,222.3145503670796],[15.245631225848093,176.55880406549159],[35.593071540198984,187.65625096605754],[23.784986185299104,323.0281284234922],[11.33939736989831,294.91418807640264],[5.14523255488959,225.66487717894708],[27.83382256136596,304.58800551074916],[9.395192132444043,58.98708129228149],[21.08404025367797,207.91025434188086],[12.97857274768059,102.34550634254755],[7.9834986571378,297.8005147435524],[15.202097048349694,222.70335830642804],[5.821880768854816,377.04823336293],[25.967172893950515,331.58755740656875],[12.211909001523413,146.5097314442743],[17.590784857848128,74.45829975229978],[13.753823731583466,246.49703620929165],[17.805274039104063,241.493195909292],[2.4980653196078,104.25165470077489],[5.670791860884883,100.67365167618206]],\"intervals_98_high\":{\"__ndarray__\":\"ZNJbtBXYeUDEVcLPA9JgQKpwI+uK/4BA3IKxgBU7RECA9FITKEiBQMeAx5PxRIBA9uNP98gOa0A1mceycjNxQBq2bnAAm2dA1hvTG2Q1Z0C9bBpiEdhuQH566E2P1XpAIvwcAhh4akAHqjpCTGJ0QBsEFrs6SmdAaRu5J35HcUCMtbmZ4bVzQM66yWyeQ3NA4gB6e92/eUDkrGnVPsNyQE5VDDTFjHlAWwNHgyyvcUDmFK34YzxrQEKfe+Hld3VALthEANFscUCxx/iIb3dYQPozj4W+mHRAZ1YnkhIaZ0A1s1BFLWF4QEIAkb6im3ZASKkZlQBEdECMzoRmXVtwQAnVD9k2qXFAom/Lk7gfYEDH9nCzdShlQMUAy5PHNW9AAW6L3wjhbUArhScdMzt1QGwjVRZPv3BAxG6rTuIPeED3xAnGM/h/QLHkB49L+XhAZQwFIcm3bEBW1C8oAJB4QMIjluN/3V1AsKDGRjszZEDg0Pt+hlJhQJnIqrx17VtAiR7j/P4HYkCN0VA6xINrQPqht93L0nBAYjN+URPefUA+DUEygcJ7QBdc2PUksXNASp05CTVhJkC0nv1zAu5dQIAlF81qbFhAbswXnZDmd0CgJxKXDTJoQN8UpeqetXFAdT9BU91QcUAio76eMc1oQFzuj0bze3BAWM5NRSxkcEBsMvuHJWJyQEp7hUsF3XZA+4s9sQpac0Dj7IroSi10QBHYhM4CfGJAMXso/jVnZ0AJhcW/XN1wQKdx7ssQymtAEEUQueERZkDwpQYCAHVnQMsvyjZzMHRAriitg6BuckDnbYGsRjVsQJFod3hoCXNA1GsGrlh+TUBzrbbNIP1pQFlzosYclllAYDiM6M6cckBPb0fpgdZrQMTFWJDFkHdAxFuYoma5dEDVXFG4T1BiQB75e8hUnVJAvPp6uOfPbkDEnclCyC9uQJ9tURwbEFpAPobrGx0rWUA=\",\"dtype\":\"float64\",\"shape\":[91]},\"intervals_98_low\":{\"__ndarray__\":\"2ZUlOqSBQEDV4d+9Q/grQGzApYkDwCNA4NL/mIFCGEAxEnNj8/olQIzb1fQu+h1AnBj7iI9bJUCa1Xy4t50nQAh6Tc+ANBxAomIMbwuOHUD49dmsfvQoQCA/tTb5cTRAIdITaN/2KkA5i4PKVQcgQBoPsqB+QhpAXUXpQ2NRI0CIipdig60bQDzDWeIuAi5AitbB6GsYKkD2OlL5GKEUQP9CTZTV2zJAZBsOk0tEHkBPDSrWhGwwQInM5Mf91yVAfxRsjKuLIUAEh40dkEsqQHn01H7DWyRAdfGww5JEIUDKq9TNuLwZQCC/44mflxJAwENFOmSOLUAz4SqXGT8eQMyPpLlW9yNA/vb984zwO0D6m8KbKOMfQCb8wPokvChAJN7jNmY8O0Bc7v6Qevw0QMPK6Q4/ajRAZmQRsO99NEAKlTNcFe0iQHSFKDplMzhAoJoqNgfFOUC2GAN2ti0oQEBC36c/khJAw1QPyMVDI0BN6g4WOZYzQEnC8H5XzSBAk8gx6JJiIkABSqtzprAhQKA5MG3uDzRAR1KgcIj4J0CTcWvW7CIkQLZTgWRx5x1AMBy4h1em2L82T5GoU0UlQJCGYyLY7SBAmpKBd+j+GkCRJZue7yscQAO1GO3xYxdAth/Smb3VGEBXAHCj9xIvQGbjCf0uUyFAZqaCDTmaI0BI+zH74VgjQA5hZ15btClA+CHhLcXtMEAai2UJyLUjQEInMgBkOyFAaLYC83SOGkAkQ6aK4K8VQIm51mg/aShAtMlDYMN9LkDnq6rE6ctBQOSrydr0yDdAkR/4fcWtJkDiQsbXt5QUQNe7N2V11TtAo/eIn1bKIkAsGH2pgxU1QAkXuHwH9SlAX0SgRRrvH0Blj6pDeWcuQGbFvRybSRdAWxiNpJj3OUDKii5Wf2woQAJuK609lzFACDMkL/WBK0AQRX5wJs4xQPjll6sJ/ANAuLHDD+SuFkA=\",\"dtype\":\"float64\",\"shape\":[91]},\"intervals_99\":[[27.601315520158163,463.8350465920841],[13.063569339289646,156.88130713800643],[5.805802335927892,644.9574438570853],[5.090122700864389,43.182163130349075],[7.4999500050537184,619.973515228747],[2.8419060263502445,608.9513765567702],[8.035994697209812,234.48390248694557],[8.49561516627206,318.5725219420782],[5.457282461941038,228.15952086972965],[5.987507350801161,215.87945435716526],[10.34740239727536,292.8160814278924],[13.852858591816592,468.83889403840726],[11.025641539801715,233.3135271386168],[5.588336490372144,364.3361096604601],[5.322637218222639,218.55891526066452],[8.24225818393254,299.3308899115351],[4.686624520713392,352.7343609639052],[9.306930933961002,336.95756307030274],[7.584096511654359,451.675956379723],[3.6197942618780212,336.7576633834346],[13.937740767074711,445.1936016144014],[5.462416052446995,314.9905598407808],[13.89807034474207,235.4994637789195],[7.940136728069209,373.65192302079913],[6.828855721819285,324.23978035423755],[11.092698219965015,105.7791032566103],[7.747907697784972,383.6695634038626],[7.277039062542517,224.42695375784342],[4.430423458855055,439.00315977594465],[3.2299348239676022,406.3375608189315],[-6.847250269867288,345.87550088898735],[6.028761739164819,315.195513506253],[7.833526230017662,329.08745743062434],[26.62317343797416,132.35617283651223],[6.814835805887796,209.78619724675934],[8.931127450738412,276.3160012205236],[22.87481988020289,256.79089051451245],[16.212921174881252,371.9409115565548],[17.61299992386374,295.43941166688575],[15.337424317003311,416.00987815520693],[7.336505331977253,605.6185321006683],[19.745902026082447,459.00789375084713],[19.813612110200168,246.38734539792378],[8.465564783075983,447.23804151511877],[3.6138025830484737,132.84072745471184],[7.993799182624668,178.65256482138258],[16.804295904082775,150.9891599247036],[6.272598562595393,119.89283767611812],[7.516349927274948,164.3550485436173],[7.099541578596082,266.6698676468484],[17.3793545466247,308.85896161172843],[9.555193290692294,599.2496168809175],[6.833580341968823,512.5809599338722],[5.418122585856652,352.83097184358417],[-1.0058144271458316,11.810519480231871],[8.110047883190372,129.8878940722197],[7.452188729919133,108.99563501963189],[3.341518914376593,431.59968434167695],[5.4809630104072085,222.69909782390565],[4.2306484489303315,318.17178360239507],[3.654542543058623,312.6471551295736],[14.0735619607368,211.4344422282225],[7.404097490553523,340.53148778183646],[8.156107641525962,312.0662195627628],[8.138712167283842,355.8178636856401],[8.484248732388505,407.46039514394505],[13.20209505257063,346.6269132952418],[7.1865899290050015,358.6593810612806],[7.169949278099444,173.46362931901785],[5.1663337988917135,215.8827413601122],[3.7458761944047114,295.1742603711862],[10.774373260171917,276.5213304780381],[14.493802937730472,189.81873578004692],[32.24942577879113,205.59516367375656],[18.17165404608444,353.9136278366238],[8.500595449354014,331.71711077230935],[2.8610153210899725,245.1848249502415],[23.48180341582658,339.9084786378227],[8.349742529991737,64.4751233540439],[15.207733396157948,222.74371884981937],[12.500153127220049,108.22019105287403],[6.515455055434489,382.3146250919974],[13.000044863511611,255.35780856281846],[3.7385477256126265,440.61450233674145],[21.60392093247827,371.0268877073549],[9.53773510455938,153.78206025764212],[15.741220065309884,78.9130105502256],[11.224003523054002,271.6913868522086],[12.509456565011007,261.9582896200133],[2.208215151481185,130.95472945675846],[3.992166099307429,112.41074524128766]],\"intervals_99_high\":{\"__ndarray__\":\"M7rQWVz9fEAC7warM5xjQIAvU9ioJ4RAcbEXH1GXRUADLVrCyV+DQBPsT2ucB4NATHwRIXxPbUB+l8QMKelzQJbQgssahWxAL8t2fST8akC8OmarDk1yQEy8JxxsTX1AkNgQaggqbUC8+IW0YMV2QEO5QaLiUWtA6kk4U0u1ckDpNkjxvwt2QOxspy1SD3VA7Qajt9A6fECn06NjHwx1QOmkAf4Y03tAJ45GVdmvc0Def3ab+29tQHhd1UZuWndAx7rsI9ZDdEBL1ufT3HFaQAOjHYi2+ndA8FrtmqkNbECF5UPxDHB7QIxbLKZmZXlAHV04DQKedUCHNMXSILNzQC5FwzlmkXRAZZGTxGWLYEAs4SCHKDlqQFK6S1cORXFAw+jPfKcMcEBNvUb5DT93QBUsh9QHd3JA8Bj/dSgAekAsP/XA8uyCQLObMlUgsHxA1wotImXMbkBoqJ4Ez/N7QMZaQz3nmmBAd8uez+FUZkC147Yyp99iQBjkokAk+V1AhWrDjlyLZEDMPSPHt6pwQEruh06+TXNAkKAiN/+5gkAkYlLOpQSAQHTBIalLDXZAzrvIaPyeJ0DeT9SgaTxgQJAE8nu4P1tA0LabTpj5ekAlTGYCX9ZrQGqkKaC/4nNAUU9Wv1qKc0DyRmPz5m1qQGETVfmASHVAv4Y+PA+Bc0CQZjv4FT12QLNnTMddd3lA3Ec81geqdUDV3CfTjGp2QMBUJw3WrmVARRDPaj/8akC9Mz7FyXJyQE+ZoF5XSHFAu+tgFTO6Z0CnUbCUC7NpQDvwODieHnZA2SolSXm7dEC1mAMW6qVuQANp5SCJPnVAzcvIa2geUECTLHmLzNdrQM+9NpwXDltAFApStAjld0AXcfEqc+tvQOz5ZgDViXtAD/zNIW4wd0BgwjujBjljQM2HzcNuulNA7fGo6w/7cEDbIH8nVV9wQMYpyiSNXmBAXJRopkkaXEA=\",\"dtype\":\"float64\",\"shape\":[91]},\"intervals_99_low\":{\"__ndarray__\":\"E6hd0O+ZO0ACjhIpjCAqQB5nXz8kORdA5VsTIElcFEDvXOXk8v8dQEDWCzo5vAZA7rCe5W0SIECIFGVFwf0gQNRIjNpB1BVAmgCBIDXzF0AIsx263rEkQATun+GptCtAIrxN4yANJkBhxIThdFoWQGH0MmlhShVAc1vCQwl8IED9YZR/Gr8SQIr8Jg0mnSJAeA1dZR1WHkDSHaixVvUMQHZszY4f4CtA/p75l4PZFUBqWVDgz8srQIRN0zOzwh9A5UPpjb9QG0BYSx4kdi8mQAWn+YPb/R5ApFbFILAbHUDK2lztwLgRQA04qRHo1glAwG0ik5VjG8AeW6S3cx0YQNkiaeaHVR9AvNVfS4ifOkBwl0dRZEIbQJ6oury83CFAr1wXMvTfNkCqvYoAgjYwQPxxIZDtnDFACM9M4cKsLkBzFo/alFgdQFQLaG/zvjNAdPAc4kjQM0Ac9tqBXu4gQO0lI1QR6QxAbqgwfqb5H0CfVxxW5s0wQKIi3RMkFxlAZMALCb4QHkBIpkI67mUcQI1XK2EdYTFAzPaES0IcI0DcYM0VllUbQKLkv1MorBVALPtm3tAX8L/mlzYyWDggQGR9+o8Kzx1AALTBRG67CkCAI0GRgewVQJgdZBsv7BBAPDgCzYA8DUA6MM/pqSUsQM5KibvLnR1A9wQ+V+1PIEAwFfxHBUcgQOZ5KXPv9yBA0vKyAHlnKkCXWytuEb8cQOep/S4HrhxAYNZJaFOqFEBXqi7wjfcNQKqr5qZ6jCVANHEYvdP8LED3VxUv7R9AQKQoAoXxKzJA+wD3C04AIUCwfSsAXOMGQIUT+ndXezdAbKvwcxGzIEAgkh0IXGouQPLNGBIUAClAk5g2c9MPGkBcoV7hBQAqQNBUwLWL6A1AL13uj5qaNUDD/P8DUhMjQDVKRzKBey9AVGn7lrByJkDY6Kp91wQpQKIlkbRsqgFAaM2lx/TvD0A=\",\"dtype\":\"float64\",\"shape\":[91]},\"kurtosis\":[\"NaN\",\"NaN\",\"NaN\",\"NaN\",\"NaN\",\"NaN\",\"NaN\",\"NaN\",\"NaN\",\"NaN\",\"NaN\",\"NaN\",\"NaN\",\"NaN\",\"NaN\",\"NaN\",\"NaN\",\"NaN\",\"NaN\",\"NaN\",\"NaN\",\"NaN\",\"NaN\",\"NaN\",\"NaN\",\"NaN\",\"NaN\",\"NaN\",\"NaN\",\"NaN\",\"NaN\",\"NaN\",\"NaN\",\"NaN\",\"NaN\",\"NaN\",\"NaN\",\"NaN\",\"NaN\",\"NaN\",\"NaN\",\"NaN\",\"NaN\",\"NaN\",\"NaN\",\"NaN\",\"NaN\",\"NaN\",\"NaN\",\"NaN\",\"NaN\",\"NaN\",\"NaN\",\"NaN\",\"NaN\",\"NaN\",\"NaN\",\"NaN\",\"NaN\",\"NaN\",\"NaN\",\"NaN\",\"NaN\",\"NaN\",\"NaN\",\"NaN\",\"NaN\",\"NaN\",\"NaN\",\"NaN\",\"NaN\",\"NaN\",\"NaN\",\"NaN\",\"NaN\",\"NaN\",\"NaN\",\"NaN\",\"NaN\",\"NaN\",\"NaN\",\"NaN\",\"NaN\",\"NaN\",\"NaN\",\"NaN\",\"NaN\",\"NaN\",\"NaN\",\"NaN\",\"NaN\"],\"lang_code\":[\"af\",\"aii\",\"akk\",\"am\",\"ar\",\"be\",\"bg\",\"bho\",\"bm\",\"br\",\"bxr\",\"ca\",\"cop\",\"cs\",\"cu\",\"cy\",\"da\",\"de\",\"el\",\"en\",\"es\",\"et\",\"eu\",\"fa\",\"fi\",\"fo\",\"fr\",\"fro\",\"ga\",\"gd\",\"gl\",\"got\",\"grc\",\"gsw\",\"gun\",\"he\",\"hi\",\"hr\",\"hsb\",\"hu\",\"hy\",\"id\",\"is\",\"it\",\"ja\",\"kk\",\"kmr\",\"ko\",\"koi\",\"kpv\",\"krl\",\"la\",\"lt\",\"lv\",\"lzh\",\"mdf\",\"mr\",\"mt\",\"myv\",\"nl\",\"no\",\"olo\",\"orv\",\"pcm\",\"pl\",\"pt\",\"ro\",\"ru\",\"sa\",\"sk\",\"sl\",\"sme\",\"sms\",\"sq\",\"sr\",\"sv\",\"swl\",\"ta\",\"te\",\"th\",\"tl\",\"tr\",\"ug\",\"uk\",\"ur\",\"vi\",\"wbp\",\"wo\",\"yo\",\"yue\",\"zh\"],\"lang_name\":[\"Afrikaans\",\"Assyrian Neo-Aramaic\",\"Akkadian\",\"Amharic\",\"Arabic\",\"Belarusian\",\"Bulgarian\",\"Bhojpuri\",\"Bambara\",\"Breton\",\"Russia Buriat\",\"Catalan\",\"Coptic\",\"Czech\",\"Church Slavic\",\"Welsh\",\"Danish\",\"German\",\"Modern Greek (1453-)\",\"English\",\"Spanish\",\"Estonian\",\"Basque\",\"Persian\",\"Finnish\",\"Faroese\",\"French\",\"Old French (842-ca. 1400)\",\"Irish\",\"Scottish Gaelic\",\"Galician\",\"Gothic\",\"Ancient Greek (to 1453)\",\"Swiss German\",\"Mby\\u00e1 Guaran\\u00ed\",\"Hebrew\",\"Hindi\",\"Croatian\",\"Upper Sorbian\",\"Hungarian\",\"Armenian\",\"Indonesian\",\"Icelandic\",\"Italian\",\"Japanese\",\"Kazakh\",\"Northern Kurdish\",\"Korean\",\"Komi-Permyak\",\"Komi-Zyrian\",\"Karelian\",\"Latin\",\"Lithuanian\",\"Latvian\",\"Literary Chinese\",\"Moksha\",\"Marathi\",\"Maltese\",\"Erzya\",\"Dutch\",\"Norwegian\",\"Livvi\",\"Old Russian\",\"Nigerian Pidgin\",\"Polish\",\"Portuguese\",\"Romanian\",\"Russian\",\"Sanskrit\",\"Slovak\",\"Slovenian\",\"Northern Sami\",\"Skolt Sami\",\"Albanian\",\"Serbian\",\"Swedish\",\"Swedish Sign Language\",\"Tamil\",\"Telugu\",\"Thai\",\"Tagalog\",\"Turkish\",\"Uighur\",\"Ukrainian\",\"Urdu\",\"Vietnamese\",\"Warlpiri\",\"Wolof\",\"Yoruba\",\"Yue Chinese\",\"Chinese\"],\"mean\":[149.54965608780518,42.32889014861871,137.91746441470127,19.19849651640134,163.42695754950543,135.95631907284505,77.62410398536147,84.1210289187091,48.58689841853475,52.56436811184617,68.93174552629972,163.0350132851233,77.35056854094434,100.44272093920512,50.19855804147839,92.60899319203081,95.62645465950115,119.88522222882986,147.4406291929675,85.89004491038585,151.2947020902846,88.51655666319796,86.1732951272571,119.53614039102611,76.62013836398012,45.078438522353466,90.76013776310224,47.391468905609784,110.28875009228825,98.98263643768009,169.51412530956003,63.64803681548095,78.87361150487351,72.00861944337828,41.05746588741056,89.78401248348155,101.57829712905496,129.2331511720995,98.5425560341468,149.99248030605293,121.91730951845838,128.11382922404707,108.35634513443082,118.8519979977907,39.10830535365538,57.084160650091064,62.49462505606812,48.13599486343094,47.249683473556104,56.262386300055596,86.57938494015401,102.03936824603741,122.83650219136457,94.60929323844398,5.4023525265430195,51.443987722347515,35.31903446145945,114.88027305244177,56.45587257627124,82.46089829727816,84.48302601766382,78.68192373600527,53.66812622743556,65.82565229937629,70.65737780388703,123.3062859932403,106.60732168896038,103.76352267021744,43.9494152771348,53.983806614612384,86.51923153608847,54.38381394953218,65.25590975278932,87.79365362322369,128.43727082759744,94.3844034259811,75.40585362539323,115.13394607493689,26.674314769195092,98.31779293556099,42.97867802328896,60.25907350904333,71.8508998093935,95.48512728043954,120.51858768710824,68.67581653117871,41.32837058935364,87.42580696040557,102.28650394492198,19.546439088186897,36.35668152614203],\"median\":{\"__ndarray__\":\"+FFF5MqyYEAH6AQFzOBBQKuaaSnqbFtAvPBC8bgUMkAqxNs5DgFhQDbfPMLBT1tA5yQVjnAQUUB2mvJlI/hRQFivisDDf0NA0L3xo8quRUB/YcZAKWtMQCaxF0oul2JAOxwpcsBQUUCGqB1Y6ERVQLKEhvcZUERAxTVYAoDmU0CS8f9EoiBUQHj7odromVtAp5IC1aCJYEDvRwSz8JJRQMtTzzYADmFAejnn7rnUUkCOxwObhKxTQNMPTkf6WFpAIno7xLI9T0CY+BFPYl1FQFnr1urdi1JAl2MTX3HvQkCPEr4KAntWQANKAHcQxlNAZtPrtnMwZUDZ7kCPcMdIQOpawLQuM1BArApHu6OHUUByhME1BRNAQKZtyijkH1RA6hwX3YM/V0CdH/Io+l1dQBazpXENBFZANsEiar4pYUAwwn91dENXQILv52QRp1tAliYNS4P8WUBK0IW1gSlZQP3vQeDc6UBADF5zKc5DSUCmMJSZyGhNQOZL31ymqEZAHGvdNCV7RECe9UGjj35GQFDR1a6PlFJATeeSDUTUUkC2wXlijyBZQB8LD+C/zVNAaNz7TAKcFUAvZlqIHStIQBa/MGgoYD9AJK8Y3KBGWEB+sKMhV4xHQK609BjIBVFADIKV07jxUUC9uOHW9NBRQJD6DZvRbENAUNICB1nISUCpEyaBqU5LQBS+NqihHVtATDz77ueGV0AEXaVr0E9WQMJrGifqgkJA/hoopSdsRkCsn8KlbXdSQLP8e8LWVkVAQEU0steZTEDI5SD4calUQAGB1NnMk11AmRFHg91UVEB/0v0k90hQQPayFo77AlpAw4nknMUFOUCa4KQweKlXQMAN8nW1d0NAbv2Hk1a+RUDY8Kk95fdOQOuU5M/uylJARI9ewfX0WkCDyIYPgnxQQIfsmybSIURAM3ndCyhiU0A08/FuXAVYQOVVmVOPSypAWxSixN1XQEA=\",\"dtype\":\"float64\",\"shape\":[91]},\"skew\":[\"NaN\",\"NaN\",\"NaN\",\"NaN\",\"NaN\",\"NaN\",\"NaN\",\"NaN\",\"NaN\",\"NaN\",\"NaN\",\"NaN\",\"NaN\",\"NaN\",\"NaN\",\"NaN\",\"NaN\",\"NaN\",\"NaN\",\"NaN\",\"NaN\",\"NaN\",\"NaN\",\"NaN\",\"NaN\",\"NaN\",\"NaN\",\"NaN\",\"NaN\",\"NaN\",\"NaN\",\"NaN\",\"NaN\",\"NaN\",\"NaN\",\"NaN\",\"NaN\",\"NaN\",\"NaN\",\"NaN\",\"NaN\",\"NaN\",\"NaN\",\"NaN\",\"NaN\",\"NaN\",\"NaN\",\"NaN\",\"NaN\",\"NaN\",\"NaN\",\"NaN\",\"NaN\",\"NaN\",\"NaN\",\"NaN\",\"NaN\",\"NaN\",\"NaN\",\"NaN\",\"NaN\",\"NaN\",\"NaN\",\"NaN\",\"NaN\",\"NaN\",\"NaN\",\"NaN\",\"NaN\",\"NaN\",\"NaN\",\"NaN\",\"NaN\",\"NaN\",\"NaN\",\"NaN\",\"NaN\",\"NaN\",\"NaN\",\"NaN\",\"NaN\",\"NaN\",\"NaN\",\"NaN\",\"NaN\",\"NaN\",\"NaN\",\"NaN\",\"NaN\",\"NaN\",\"NaN\"],\"std\":{\"__ndarray__\":\"HQkl/MgUVEBqYdvz0wU5QL9QFRED1ltAaR7940oZHkCAAwwdCIldQEUiY6ePq1pAzLAqnLyoR0B3MDKiHFdLQIalFFNZ60JAlol0sbWvQkBqLmk5VlFIQEBfZK2+UFZAqwwGRDCLRUA7qf85Y1NRQCiYlUSe0UJAtdlk1aO3TkA/IEprL81QQH3ZU4CCqk9A+1SvgzfXVUBtJodafSVQQMNKLvqUmFVARvUWCPodTkBS3aZjZ4NGQNI2TNy0t1JActLTcfpeTEAExHvqmjAyQLqpRnOlv1BAstV2eQxrQkDgrTPO9elUQBEPn5IDn1NAay83l21aTkDQbuGJtJFKQO+sjO4mjkxAZcrcrO8uOUDZ8SskjCNBQIz8ZJ1+h0lAq/FJuLy6R0ANoGLHq1hRQLFcof+U6UpArhdGwetVVEAVB+8NTGxaQDxY7BECk1NA76WInrkARkCXgmtcjDJUQIoNOaoG/zhA/jg0m9CGQEAkMN4WPEE5QE9G2EBF1zZABTOnqHU7PEAkRW6zNQhGQM2IA4c490lA5SFJr5sAWUB+28NizupWQJKl2bBXwlBAtu72gwfnA0Ba4MkJBX03QKVjlLLyFDNAIpFrG+cjVECkhvYpbKhDQE+qF7bvP05ACJCgDSH/TEDIw1ntrVZFQHUGg3M1/kxAboX5ApssSkAJdev8cs5NQGjDhzii+lJAAUj1PpguT0Bl89W/OxlRQP1caiz33zxAZjWojC4EQ0CByp2G1NZNQEHNpAfqd0ZAUCoa75m8QkATjjKNsus/QBFmzWPoFFBAF83ihAJaTkBqfmkMEoxJQEt0snghOE1AEmcPYksFJUDfcSlG9R1EQI6QsRKRUzVAv5O5posxUEA/V1TfebhFQCfSbgJtkVNAZ40E+DwsUEDY2tKpbRs/QGkAyAmHeShAeSD7XSNsSUAV0HBOiRtIQD0ezTSZYzVA+YOvweMFNEA=\",\"dtype\":\"float64\",\"shape\":[91]},\"variance\":[6452.068217255759,626.1387877379279,12397.472346395529,56.621106288441865,13957.32428366497,11380.759577147022,2239.0173434256967,2989.9637870865113,1431.7644530777402,1396.7211222547014,2365.4063990338573,7967.6400219386105,1856.5249395279468,4802.896287941061,1416.5921294376135,3774.220804112636,4516.649021034387,4010.955850903522,7632.252416604358,4171.322458689664,7462.211497669907,3628.1579893627095,2027.3940492683605,5605.578870248816,3219.6566026062783,330.87114614735566,4488.259450698119,1356.9143378390013,6998.264058536189,6159.83134822019,3685.275432150843,2823.6812756788604,3261.616418202947,634.2008479617301,1174.9616957769908,2606.9756790037713,2252.3456964977713,4814.345466081182,2897.115508276156,6616.604639443213,11170.82887926472,6130.420419390535,1936.4985213456994,6526.994523866533,624.8097869149921,1092.5167510494296,637.8060918517783,521.706734348875,797.0607351297099,1941.64833007619,2696.8716124788725,10001.900538408567,8403.177471737847,4493.906037599769,6.189185178866145,551.7029675205335,364.1161701688753,6490.071604671278,1545.732200472601,3660.1898521492917,3363.210806021368,1821.341934767631,3362.3769152261766,2740.363418953007,3553.69595719286,5763.262008950996,3889.2711373739035,4677.776416615021,833.7578471480831,1446.4840311594617,3561.5067446817848,2019.3186477129036,1404.259281974337,1018.9306563143342,4137.922268129496,3684.8787180463623,2610.6275738364293,3415.0607914000384,110.46726272337344,1618.7785919593198,454.8167184272402,4195.69033165271,1887.1395299177902,6126.549567817919,4184.954105706652,967.6542884031156,149.75294023719957,2585.196668441466,2324.6985448225046,457.4917376147964,400.9207908880288]},\"selected\":{\"id\":\"1060\"},\"selection_policy\":{\"id\":\"1061\"}},\"id\":\"1057\",\"type\":\"ColumnDataSource\"},{\"attributes\":{\"editor\":{\"id\":\"1064\"},\"field\":\"lang_name\",\"formatter\":{\"id\":\"1065\"},\"title\":\"lang_name\"},\"id\":\"1032\",\"type\":\"TableColumn\"},{\"attributes\":{\"editor\":{\"id\":\"1062\"},\"field\":\"lang_code\",\"formatter\":{\"id\":\"1063\"},\"title\":\"lang_code\"},\"id\":\"1031\",\"type\":\"TableColumn\"},{\"attributes\":{},\"id\":\"1090\",\"type\":\"StringEditor\"},{\"attributes\":{},\"id\":\"1112\",\"type\":\"StringEditor\"},{\"attributes\":{},\"id\":\"1113\",\"type\":\"StringFormatter\"},{\"attributes\":{},\"id\":\"1111\",\"type\":\"StringFormatter\"},{\"attributes\":{},\"id\":\"1109\",\"type\":\"StringFormatter\"},{\"attributes\":{\"source\":{\"id\":\"1057\"}},\"id\":\"1059\",\"type\":\"CDSView\"},{\"attributes\":{},\"id\":\"1110\",\"type\":\"StringEditor\"},{\"attributes\":{},\"id\":\"1108\",\"type\":\"StringEditor\"},{\"attributes\":{},\"id\":\"1106\",\"type\":\"StringEditor\"},{\"attributes\":{},\"id\":\"1107\",\"type\":\"StringFormatter\"},{\"attributes\":{},\"id\":\"1105\",\"type\":\"StringFormatter\"},{\"attributes\":{},\"id\":\"1103\",\"type\":\"StringFormatter\"},{\"attributes\":{},\"id\":\"1104\",\"type\":\"StringEditor\"},{\"attributes\":{},\"id\":\"1102\",\"type\":\"StringEditor\"},{\"attributes\":{},\"id\":\"1100\",\"type\":\"StringEditor\"},{\"attributes\":{},\"id\":\"1101\",\"type\":\"StringFormatter\"},{\"attributes\":{},\"id\":\"1086\",\"type\":\"StringEditor\"},{\"attributes\":{},\"id\":\"1099\",\"type\":\"StringFormatter\"},{\"attributes\":{},\"id\":\"1071\",\"type\":\"StringFormatter\"},{\"attributes\":{},\"id\":\"1085\",\"type\":\"StringFormatter\"},{\"attributes\":{},\"id\":\"1097\",\"type\":\"StringFormatter\"},{\"attributes\":{},\"id\":\"1098\",\"type\":\"StringEditor\"},{\"attributes\":{},\"id\":\"1096\",\"type\":\"StringEditor\"},{\"attributes\":{},\"id\":\"1088\",\"type\":\"StringEditor\"},{\"attributes\":{},\"id\":\"1094\",\"type\":\"StringEditor\"},{\"attributes\":{},\"id\":\"1087\",\"type\":\"StringFormatter\"},{\"attributes\":{},\"id\":\"1095\",\"type\":\"StringFormatter\"},{\"attributes\":{},\"id\":\"1093\",\"type\":\"StringFormatter\"},{\"attributes\":{},\"id\":\"1089\",\"type\":\"StringFormatter\"},{\"attributes\":{},\"id\":\"1092\",\"type\":\"StringEditor\"},{\"attributes\":{\"editor\":{\"id\":\"1102\"},\"field\":\"intervals_90_low\",\"formatter\":{\"id\":\"1103\"},\"title\":\"intervals_90_low\"},\"id\":\"1051\",\"type\":\"TableColumn\"},{\"attributes\":{},\"id\":\"1091\",\"type\":\"StringFormatter\"},{\"attributes\":{},\"id\":\"1060\",\"type\":\"Selection\"}],\"root_ids\":[\"1058\"]},\"title\":\"Bokeh Application\",\"version\":\"2.0.2\"}};\n",
       "  var render_items = [{\"docid\":\"16b8d02b-aab1-4a15-a8dd-10029b1a78d0\",\"root_ids\":[\"1058\"],\"roots\":{\"1058\":\"39b261c6-b134-48fe-87a4-3d3702e2b6f8\"}}];\n",
       "  root.Bokeh.embed.embed_items_notebook(docs_json, render_items);\n",
       "\n",
       "  }\n",
       "  if (root.Bokeh !== undefined) {\n",
       "    embed_document(root);\n",
       "  } else {\n",
       "    var attempts = 0;\n",
       "    var timer = setInterval(function(root) {\n",
       "      if (root.Bokeh !== undefined) {\n",
       "        clearInterval(timer);\n",
       "        embed_document(root);\n",
       "      } else {\n",
       "        attempts++;\n",
       "        if (attempts > 100) {\n",
       "          clearInterval(timer);\n",
       "          console.log(\"Bokeh: ERROR: Unable to run BokehJS code because BokehJS library is missing\");\n",
       "        }\n",
       "      }\n",
       "    }, 10, root)\n",
       "  }\n",
       "})(window);"
      ],
      "application/vnd.bokehjs_exec.v0+json": ""
     },
     "metadata": {
      "application/vnd.bokehjs_exec.v0+json": {
       "id": "1058"
      }
     },
     "output_type": "display_data"
    }
   ],
   "source": [
    "show(bk_tables[1])"
   ]
  },
  {
   "cell_type": "code",
   "execution_count": 20,
   "metadata": {},
   "outputs": [],
   "source": [
    "frstats = all_stats['fr']"
   ]
  },
  {
   "cell_type": "code",
   "execution_count": 21,
   "metadata": {},
   "outputs": [
    {
     "data": {
      "text/plain": [
       "dict_keys(['lang', 'upos_len', 'upos_distrib', 'text_len', 'text_distrib', 'upos_stats', 'text_stats', 'upos_functions', 'text_functions'])"
      ]
     },
     "execution_count": 21,
     "metadata": {},
     "output_type": "execute_result"
    }
   ],
   "source": [
    "frstats.keys()"
   ]
  },
  {
   "cell_type": "code",
   "execution_count": 22,
   "metadata": {},
   "outputs": [],
   "source": [
    "from bokeh.palettes import Spectral4\n",
    "from bokeh.plotting import figure, output_file, show\n",
    "# from bokeh.sampledata.stocks import AAPL, GOOG, IBM, MSFT"
   ]
  },
  {
   "cell_type": "code",
   "execution_count": 23,
   "metadata": {},
   "outputs": [],
   "source": [
    "cdf, pdf = frstats['text_functions']['cdf'], frstats['text_functions']['pdf']"
   ]
  },
  {
   "cell_type": "code",
   "execution_count": 24,
   "metadata": {},
   "outputs": [],
   "source": [
    "cdf100 = resample(cdf, 100)\n",
    "pdf100 = resample(pdf, 100)"
   ]
  },
  {
   "cell_type": "code",
   "execution_count": 25,
   "metadata": {},
   "outputs": [],
   "source": [
    "hist, bin_edges = np.histogram(frstats['text_len'], bins=100)"
   ]
  },
  {
   "cell_type": "code",
   "execution_count": 26,
   "metadata": {},
   "outputs": [],
   "source": [
    "from scipy.signal import resample"
   ]
  },
  {
   "cell_type": "code",
   "execution_count": 27,
   "metadata": {},
   "outputs": [],
   "source": [
    "cdf = resample(cdf, 100)"
   ]
  },
  {
   "cell_type": "code",
   "execution_count": 28,
   "metadata": {},
   "outputs": [],
   "source": [
    "pdf = resample(pdf, 100)"
   ]
  },
  {
   "cell_type": "code",
   "execution_count": 29,
   "metadata": {},
   "outputs": [],
   "source": [
    "import numpy as np\n",
    "import scipy.special\n",
    "\n",
    "from bokeh.layouts import gridplot\n",
    "from bokeh.plotting import figure, output_file, show\n",
    "from bokeh.models import LinearAxis, Range1d, HoverTool\n"
   ]
  },
  {
   "cell_type": "code",
   "execution_count": 30,
   "metadata": {},
   "outputs": [],
   "source": [
    "max_len = max(frstats['text_len'])\n",
    "x = np.linspace(0, max_len, 100)\n"
   ]
  },
  {
   "cell_type": "code",
   "execution_count": 32,
   "metadata": {},
   "outputs": [],
   "source": [
    "# cr = plot.circle(x, y, size=10,\n",
    "#                 fill_color=\"grey\", hover_fill_color=\"firebrick\",\n",
    "#                 fill_alpha=0.05, hover_alpha=0.3,\n",
    "#                 line_color=None, hover_line_color=\"white\")\n",
    "\n"
   ]
  },
  {
   "cell_type": "code",
   "execution_count": 33,
   "metadata": {},
   "outputs": [],
   "source": [
    "# TODO make it even better being able to change the Sizing mode from a dropdown menu ?\n",
    "\n",
    "hover = HoverTool(\n",
    "#     names=[\"hist\"],\n",
    "    tooltips=[\n",
    "#         (\"index\", \"$index\"),\n",
    "        (\"Count\", \"@hist\"),\n",
    "        (\"pdf\", \"@pdf\"),\n",
    "        (\"cdf\", \"@cdf\"),\n",
    "    ],\n",
    "\n",
    "#     formatters={\n",
    "#         '@date'        : 'datetime', # use 'datetime' formatter for '@date' field\n",
    "#         '@{adj close}' : 'printf',   # use 'printf' formatter for '@{adj close}' field\n",
    "#         '@numeral': '(.00)'                             # use default 'numeral' formatter for other fields\n",
    "#     },\n",
    "#     renderers=[cr],\n",
    "    # display a tooltip whenever the cursor is vertically in line with a glyph\n",
    "    mode='vline',\n",
    ")"
   ]
  },
  {
   "cell_type": "code",
   "execution_count": 34,
   "metadata": {},
   "outputs": [],
   "source": [
    "def make_plot(title, data_source):\n",
    "\n",
    "    p = figure(title=title, background_fill_color=\"#fafafa\", \n",
    "               plot_height=500,  sizing_mode=\"stretch_width\",\n",
    "               tools=\"crosshair,pan,wheel_zoom,box_zoom,zoom_in,zoom_out,undo,redo,reset\",\n",
    "                toolbar_location=\"left\",\n",
    "               output_backend=\"webgl\")\n",
    "    p.add_tools(hover)\n",
    "    # p = figure(title=title, tools='', background_fill_color=\"#fafafa\")\n",
    "    p.xaxis.axis_label = 'Length'\n",
    "    p.yaxis.axis_label = 'Count'\n",
    "    # second axe, probability\n",
    "    p.extra_y_ranges = {\"Pr(x)\": Range1d(start=0., end=1.)}\n",
    "    p.add_layout(LinearAxis(y_range_name=\"Pr(x)\", axis_label='Pr(x)'), 'right')\n",
    "    p.quad(name='hist', top='hist', bottom=0, left='bin_edges_left', right='bin_edges_right',\n",
    "           fill_color=\"blue\", line_color=\"white\", alpha=0.5, legend_label=\"Freq.\", source=data_source)\n",
    "    p.line(name='PDF', x='x', y='pdf', line_color=\"green\", line_width=4, alpha=0.7, legend_label=\"PDF\", y_range_name=\"Pr(x)\", source=data_source)\n",
    "    p.line(name='CDF', x='x', y='cdf', line_color=\"red\", line_width=2, alpha=0.7, legend_label=\"CDF\", y_range_name=\"Pr(x)\", source=data_source)\n",
    "\n",
    "\n",
    "    p.y_range.start = 0\n",
    "\n",
    "    p.title.align='center'\n",
    "    p.legend.location = \"center_right\"\n",
    "    #     p.legend.location = \"bottom_right\"\n",
    "    p.legend.background_fill_color = \"#fefefe\"\n",
    "    p.grid.grid_line_color=\"grey\"\n",
    "    #     p.legend.click_policy=\"mute\"\n",
    "    p.legend.click_policy=\"hide\"\n",
    "\n",
    "    show(p)"
   ]
  },
  {
   "cell_type": "code",
   "execution_count": 35,
   "metadata": {},
   "outputs": [],
   "source": [
    "data_source = ColumnDataSource({'hist':hist,\n",
    "                                'bin_edges_left': bin_edges[:-1],\n",
    "                                'bin_edges_right': bin_edges[1:],\n",
    "                                'x': x,\n",
    "                                'pdf': pdf100,\n",
    "                                'cdf': cdf100})"
   ]
  },
  {
   "cell_type": "code",
   "execution_count": 36,
   "metadata": {},
   "outputs": [
    {
     "data": {
      "text/html": [
       "\n",
       "\n",
       "\n",
       "\n",
       "\n",
       "\n",
       "  <div class=\"bk-root\" id=\"8d548e48-3ec6-4518-b1d1-1a51432dd222\" data-root-id=\"1386\"></div>\n"
      ]
     },
     "metadata": {},
     "output_type": "display_data"
    },
    {
     "data": {
      "application/javascript": [
       "(function(root) {\n",
       "  function embed_document(root) {\n",
       "    \n",
       "  var docs_json = {\"ae17d730-70c0-4620-9314-9e28932db4c2\":{\"roots\":{\"references\":[{\"attributes\":{\"background_fill_color\":\"#fafafa\",\"below\":[{\"id\":\"1397\"}],\"center\":[{\"id\":\"1400\"},{\"id\":\"1404\"},{\"id\":\"1441\"}],\"extra_y_ranges\":{\"Pr(x)\":{\"id\":\"1426\"}},\"left\":[{\"id\":\"1401\"}],\"output_backend\":\"webgl\",\"plot_height\":500,\"renderers\":[{\"id\":\"1431\"},{\"id\":\"1446\"},{\"id\":\"1462\"}],\"right\":[{\"id\":\"1427\"}],\"sizing_mode\":\"stretch_width\",\"title\":{\"id\":\"1387\"},\"toolbar\":{\"id\":\"1415\"},\"toolbar_location\":\"left\",\"x_range\":{\"id\":\"1389\"},\"x_scale\":{\"id\":\"1393\"},\"y_range\":{\"id\":\"1391\"},\"y_scale\":{\"id\":\"1395\"}},\"id\":\"1386\",\"subtype\":\"Figure\",\"type\":\"Plot\"},{\"attributes\":{},\"id\":\"1393\",\"type\":\"LinearScale\"},{\"attributes\":{\"source\":{\"id\":\"1385\"}},\"id\":\"1447\",\"type\":\"CDSView\"},{\"attributes\":{},\"id\":\"1405\",\"type\":\"CrosshairTool\"},{\"attributes\":{},\"id\":\"1457\",\"type\":\"UnionRenderers\"},{\"attributes\":{\"align\":\"center\",\"text\":\"frech, txt-len\"},\"id\":\"1387\",\"type\":\"Title\"},{\"attributes\":{},\"id\":\"1406\",\"type\":\"PanTool\"},{\"attributes\":{\"bottom\":{\"value\":0},\"fill_alpha\":{\"value\":0.1},\"fill_color\":{\"value\":\"blue\"},\"left\":{\"field\":\"bin_edges_left\"},\"line_alpha\":{\"value\":0.1},\"line_color\":{\"value\":\"white\"},\"right\":{\"field\":\"bin_edges_right\"},\"top\":{\"field\":\"hist\"}},\"id\":\"1430\",\"type\":\"Quad\"},{\"attributes\":{},\"id\":\"1389\",\"type\":\"DataRange1d\"},{\"attributes\":{\"axis_label\":\"Pr(x)\",\"formatter\":{\"id\":\"1435\"},\"ticker\":{\"id\":\"1434\"},\"y_range_name\":\"Pr(x)\"},\"id\":\"1427\",\"type\":\"LinearAxis\"},{\"attributes\":{\"bottom\":{\"value\":0},\"fill_alpha\":{\"value\":0.5},\"fill_color\":{\"value\":\"blue\"},\"left\":{\"field\":\"bin_edges_left\"},\"line_alpha\":{\"value\":0.5},\"line_color\":{\"value\":\"white\"},\"right\":{\"field\":\"bin_edges_right\"},\"top\":{\"field\":\"hist\"}},\"id\":\"1429\",\"type\":\"Quad\"},{\"attributes\":{\"callback\":null,\"mode\":\"vline\",\"tooltips\":[[\"Count\",\"@hist\"],[\"pdf\",\"@pdf\"],[\"cdf\",\"@cdf\"]]},\"id\":\"1384\",\"type\":\"HoverTool\"},{\"attributes\":{\"line_alpha\":0.1,\"line_color\":\"red\",\"line_width\":2,\"x\":{\"field\":\"x\"},\"y\":{\"field\":\"cdf\"}},\"id\":\"1461\",\"type\":\"Line\"},{\"attributes\":{},\"id\":\"1407\",\"type\":\"WheelZoomTool\"},{\"attributes\":{},\"id\":\"1439\",\"type\":\"BasicTickFormatter\"},{\"attributes\":{},\"id\":\"1435\",\"type\":\"BasicTickFormatter\"},{\"attributes\":{},\"id\":\"1402\",\"type\":\"BasicTicker\"},{\"attributes\":{\"background_fill_color\":\"#fefefe\",\"click_policy\":\"hide\",\"items\":[{\"id\":\"1442\"},{\"id\":\"1458\"},{\"id\":\"1474\"}],\"location\":\"center_right\"},\"id\":\"1441\",\"type\":\"Legend\"},{\"attributes\":{\"data_source\":{\"id\":\"1385\"},\"glyph\":{\"id\":\"1444\"},\"hover_glyph\":null,\"muted_glyph\":null,\"name\":\"PDF\",\"nonselection_glyph\":{\"id\":\"1445\"},\"selection_glyph\":null,\"view\":{\"id\":\"1447\"},\"y_range_name\":\"Pr(x)\"},\"id\":\"1446\",\"type\":\"GlyphRenderer\"},{\"attributes\":{\"source\":{\"id\":\"1385\"}},\"id\":\"1432\",\"type\":\"CDSView\"},{\"attributes\":{},\"id\":\"1413\",\"type\":\"ResetTool\"},{\"attributes\":{},\"id\":\"1426\",\"type\":\"Range1d\"},{\"attributes\":{\"line_alpha\":0.1,\"line_color\":\"green\",\"line_width\":4,\"x\":{\"field\":\"x\"},\"y\":{\"field\":\"pdf\"}},\"id\":\"1445\",\"type\":\"Line\"},{\"attributes\":{\"data_source\":{\"id\":\"1385\"},\"glyph\":{\"id\":\"1429\"},\"hover_glyph\":null,\"muted_glyph\":null,\"name\":\"hist\",\"nonselection_glyph\":{\"id\":\"1430\"},\"selection_glyph\":null,\"view\":{\"id\":\"1432\"}},\"id\":\"1431\",\"type\":\"GlyphRenderer\"},{\"attributes\":{\"axis_label\":\"Length\",\"formatter\":{\"id\":\"1439\"},\"ticker\":{\"id\":\"1398\"}},\"id\":\"1397\",\"type\":\"LinearAxis\"},{\"attributes\":{\"label\":{\"value\":\"PDF\"},\"renderers\":[{\"id\":\"1446\"}]},\"id\":\"1458\",\"type\":\"LegendItem\"},{\"attributes\":{\"bottom_units\":\"screen\",\"fill_alpha\":0.5,\"fill_color\":\"lightgrey\",\"left_units\":\"screen\",\"level\":\"overlay\",\"line_alpha\":1.0,\"line_color\":\"black\",\"line_dash\":[4,4],\"line_width\":2,\"render_mode\":\"css\",\"right_units\":\"screen\",\"top_units\":\"screen\"},\"id\":\"1414\",\"type\":\"BoxAnnotation\"},{\"attributes\":{\"line_alpha\":0.7,\"line_color\":\"red\",\"line_width\":2,\"x\":{\"field\":\"x\"},\"y\":{\"field\":\"cdf\"}},\"id\":\"1460\",\"type\":\"Line\"},{\"attributes\":{\"source\":{\"id\":\"1385\"}},\"id\":\"1463\",\"type\":\"CDSView\"},{\"attributes\":{\"start\":0},\"id\":\"1391\",\"type\":\"DataRange1d\"},{\"attributes\":{\"label\":{\"value\":\"Freq.\"},\"renderers\":[{\"id\":\"1431\"}]},\"id\":\"1442\",\"type\":\"LegendItem\"},{\"attributes\":{\"axis\":{\"id\":\"1397\"},\"grid_line_color\":\"grey\",\"ticker\":null},\"id\":\"1400\",\"type\":\"Grid\"},{\"attributes\":{\"label\":{\"value\":\"CDF\"},\"renderers\":[{\"id\":\"1462\"}]},\"id\":\"1474\",\"type\":\"LegendItem\"},{\"attributes\":{\"axis\":{\"id\":\"1401\"},\"dimension\":1,\"grid_line_color\":\"grey\",\"ticker\":null},\"id\":\"1404\",\"type\":\"Grid\"},{\"attributes\":{},\"id\":\"1395\",\"type\":\"LinearScale\"},{\"attributes\":{},\"id\":\"1409\",\"type\":\"ZoomInTool\"},{\"attributes\":{},\"id\":\"1412\",\"type\":\"RedoTool\"},{\"attributes\":{\"axis_label\":\"Count\",\"formatter\":{\"id\":\"1437\"},\"ticker\":{\"id\":\"1402\"}},\"id\":\"1401\",\"type\":\"LinearAxis\"},{\"attributes\":{\"data_source\":{\"id\":\"1385\"},\"glyph\":{\"id\":\"1460\"},\"hover_glyph\":null,\"muted_glyph\":null,\"name\":\"CDF\",\"nonselection_glyph\":{\"id\":\"1461\"},\"selection_glyph\":null,\"view\":{\"id\":\"1463\"},\"y_range_name\":\"Pr(x)\"},\"id\":\"1462\",\"type\":\"GlyphRenderer\"},{\"attributes\":{\"data\":{\"bin_edges_left\":{\"__ndarray__\":\"AAAAAAAA8D9SuB6F6xEyQFK4HoXrkUFAexSuR+EaSkBSuB6F61FRQGZmZmZmllVAexSuR+HaWUCQwvUoXB9eQFK4HoXrMWFAXI/C9ShUY0BmZmZmZnZlQHE9CtejmGdAexSuR+G6aUCF61G4Ht1rQJDC9Shc/21AzczMzMwQcEBSuB6F6yFxQNejcD0KM3JAXI/C9ShEc0DhehSuR1V0QGZmZmZmZnVA7FG4HoV3dkBxPQrXo4h3QPYoXI/CmXhAexSuR+GqeUAAAAAAALx6QIXrUbgezXtACtejcD3efECQwvUoXO99QBWuR+F6AH9AzczMzMwIgECPwvUoXJGAQFK4HoXrGYFAFa5H4XqigUDXo3A9CiuCQJqZmZmZs4JAXI/C9Sg8g0AfhetRuMSDQOF6FK5HTYRApHA9CtfVhEBmZmZmZl6FQClcj8L15oVA7FG4HoVvhkCuR+F6FPiGQHE9CtejgIdAMzMzMzMJiED2KFyPwpGIQLgehetRGolAexSuR+GiiUA+CtejcCuKQAAAAAAAtIpAw/UoXI88i0CF61G4HsWLQEjhehSuTYxACtejcD3WjEDNzMzMzF6NQJDC9Shc541AUrgehetvjkAVrkfheviOQNejcD0KgY9AzczMzMwEkECuR+F6FEmQQI/C9ShcjZBAcT0K16PRkEBSuB6F6xWRQDMzMzMzWpFAFa5H4XqekUD2KFyPwuKRQNejcD0KJ5JAuB6F61FrkkCamZmZma+SQHsUrkfh85JAXI/C9Sg4k0A+CtejcHyTQB+F61G4wJNAAAAAAAAFlEDhehSuR0mUQMP1KFyPjZRApHA9CtfRlECF61G4HhaVQGZmZmZmWpVASOF6FK6elUApXI/C9eKVQArXo3A9J5ZA7FG4HoVrlkDNzMzMzK+WQK5H4XoU9JZAj8L1KFw4l0BxPQrXo3yXQFK4HoXrwJdAMzMzMzMFmEAVrkfhekmYQPYoXI/CjZhA16NwPQrSmEC4HoXrURaZQJqZmZmZWplAexSuR+GemUBcj8L1KOOZQD4K16NwJ5pAH4XrUbhrmkA=\",\"dtype\":\"float64\",\"shape\":[100]},\"bin_edges_right\":{\"__ndarray__\":\"UrgehesRMkBSuB6F65FBQHsUrkfhGkpAUrgehetRUUBmZmZmZpZVQHsUrkfh2llAkML1KFwfXkBSuB6F6zFhQFyPwvUoVGNAZmZmZmZ2ZUBxPQrXo5hnQHsUrkfhumlAhetRuB7da0CQwvUoXP9tQM3MzMzMEHBAUrgeheshcUDXo3A9CjNyQFyPwvUoRHNA4XoUrkdVdEBmZmZmZmZ1QOxRuB6Fd3ZAcT0K16OId0D2KFyPwpl4QHsUrkfhqnlAAAAAAAC8ekCF61G4Hs17QArXo3A93nxAkML1KFzvfUAVrkfhegB/QM3MzMzMCIBAj8L1KFyRgEBSuB6F6xmBQBWuR+F6ooFA16NwPQorgkCamZmZmbOCQFyPwvUoPINAH4XrUbjEg0DhehSuR02EQKRwPQrX1YRAZmZmZmZehUApXI/C9eaFQOxRuB6Fb4ZArkfhehT4hkBxPQrXo4CHQDMzMzMzCYhA9ihcj8KRiEC4HoXrURqJQHsUrkfhoolAPgrXo3ArikAAAAAAALSKQMP1KFyPPItAhetRuB7Fi0BI4XoUrk2MQArXo3A91oxAzczMzMxejUCQwvUoXOeNQFK4HoXrb45AFa5H4Xr4jkDXo3A9CoGPQM3MzMzMBJBArkfhehRJkECPwvUoXI2QQHE9Ctej0ZBAUrgehesVkUAzMzMzM1qRQBWuR+F6npFA9ihcj8LikUDXo3A9CieSQLgehetRa5JAmpmZmZmvkkB7FK5H4fOSQFyPwvUoOJNAPgrXo3B8k0AfhetRuMCTQAAAAAAABZRA4XoUrkdJlEDD9Shcj42UQKRwPQrX0ZRAhetRuB4WlUBmZmZmZlqVQEjhehSunpVAKVyPwvXilUAK16NwPSeWQOxRuB6Fa5ZAzczMzMyvlkCuR+F6FPSWQI/C9ShcOJdAcT0K16N8l0BSuB6F68CXQDMzMzMzBZhAFa5H4XpJmED2KFyPwo2YQNejcD0K0phAuB6F61EWmUCamZmZmVqZQHsUrkfhnplAXI/C9SjjmUA+CtejcCeaQB+F61G4a5pAAAAAAACwmkA=\",\"dtype\":\"float64\",\"shape\":[100]},\"cdf\":{\"__ndarray__\":\"Fa5HCb08jD5Iy8P+CGCiPzFPT0757sM/Q58htPTc0z//dQ50SGbdP2kETZ1Yv+I/wwLcrHj45T+J5+1AXHPoP8GY4l/vUuo/Dnq5t9O56z9lOgNzZMXsP4NccsnPjO0/3yAwfroh7j/S907WTpHuP4CwTnVF5e4/x8qeKsMk7z9Z0Z4vBlXvP3YuSKLoee8/DQsa2ECW7z/Eq6S0J6zvP/zfVL8rve8/DSlAK3bK7z85Y0Kx5dTvP0V1DRIi3e8/cFj+TKrj7z/V3CIF3+jvP6P1NCMK7e8/ZUzFdmTw7z8x4BfiGfPvP5BuJnVM9e8/WSVXwBb37z9pHIGTjfjvP5p5h0/B+e8/th6H5r767z9oOyKfkPvvP6E1EKo+/O8/sO0qlc/87z8IOFOkSP3vPyyBahau/e8/qFMRWwP+7z8fcbM8S/7vPyWojgGI/u8/F4O9hbv+7z/yzdNP5/7vPxkmPqEM/+8/JY9Pgyz/7z8Hq7LRR//vPx+Ay0Jf/+8/hIp3bnP/7z9f3oHThP/vP2OiDtyT/+8/6tYy4aD/7z9/O+ItrP/vP8R2VAG2/+8/etf7kL7/7z8esCIKxv/vP40aQJPM/+8/4J0RTdL/7z/ZjoRT1//vP/Pqd77b/+8/yMJdot//7z9b8sEQ4//vPzvTuhjm/+8/lrhHx+j/7z9yUqAn6//vP5OGd0Pt/+8/k9czI+//7z8fFR/O8P/vP07Cjkry/+8/jWAGnvP/7z86mVTN9P/vP7AWrNz1/+8/Qbm4z/b/7z8BurGp9//vPyUzaW34/+8/1nNZHfn/7z+KdLC7+f/vP1uzWUr6/+8/ZbQGy/r/7z9DWTY/+//vP4Q6O6j7/+8/6SdBB/z/7z+D7VFd/P/vP994Wav8/+8/7XMp8vz/7z8naXwy/f/vP+OA+Gz9/+8//+Uxov3/7z+x3azS/f/vP9Kc3/79/+8/MuMzJ/7/7z8cZQhM/v/vP24Ism3+/+8/Wvx8jP7/7z96r62o/v/vP+yogcL+/+8/Fkgw2v7/7z87buvv/v/vP34U4AP//+8/v9A2Fv//7z8=\",\"dtype\":\"float64\",\"shape\":[100]},\"hist\":[1791,5154,7197,6482,5404,4095,3246,2417,1797,1459,1142,874,682,535,398,263,235,155,104,102,73,52,46,18,19,21,12,10,8,7,4,3,2,2,2,2,1,3,3,1,1,2,0,1,1,1,0,0,0,0,0,0,0,0,0,0,0,0,0,0,1,0,0,0,0,0,0,0,0,0,0,0,0,0,0,0,0,0,0,0,1,0,0,0,0,0,0,0,0,0,0,0,0,0,0,0,0,0,0,1],\"pdf\":{\"__ndarray__\":\"SEGiPblWxj4aXXuMNr9zP8NarsG0W4E/VLAqDfaNgj8ycswx34KAP/5M0uTb8Ho/9gFG+FQAdT810Mo4ZvJvP/944auN/Gc/xPcHCPXmYT/AXp0QVK1aPy7gRqal5VM/jmDpBmjDTT/773qHMVlGP8bONsDe20A/eqgQjLCQOT8eqwUi1nwzP6rBNA9i3y0/0j4bQqYFJz+4Vi53/9YhP4Uatcs9zBs/86s6C6XFFT+H2AOZESQRPwrWzOw7IAs/Uz5CNKqRBT/NUXhHZzsBP4MP46JBqfs+MyrnWdNM9j4xqQ5DPw7yPqEsXQIxXO0+w46CMaf35z7BZaYbN6TjPi4AnF4xKOA+QAVYwqGt2j5HeX41XhrWPoNfU/HxX9I+/tLLI8umzj6fgfxHm6XJPsfsvliPhsU+Mg0f8N4ewj6FssdXvZi+Pmf81kZV57k+AG1CH3T9tT6FIwTthreyPikSUNd68a8+wxrnJltTqz4Vb9ksgm6nPnFBf6+4I6Q+dq8VeGRZoT4AWXpf7PSdPr734doc65k+n64pkZx4lj5nRxqylIWTPs2ORRUy/pA+GjDeyNqjjT7xlRAO7OWJPi7nZ8pxq4Y+D5kQE/vggz6pdLeSKnaBPoWtevdjun4+AHAQKsoUez6kEGjov+d3PnFtW615InU+4fo4ea22cj4+WtnqLJhwPikMbfogeW0+pGAxvuE1aj4fRSvXV1dnPnHVWX1m0GQ+wy0Of8WVYj4AlFyMu51gPvaQ+QDHv10+KUzhqfWpWj7NrPh3b+1XPuyd40VLf1U+pKxsJw5WUz6F7zozeGlRPrm2L8uxZE8+PoJT19NUTD57BH2wXphJPnsUHtu4JUc+Fa4vknj0RD4+CkG3O/1CPgrXil+FOUE+Fa7jT0BHPz5cj/k6CW08PnsUEkWG2zk+cT3DnuGKNz57lAbFLXQ1PnE9/MNIkTM+AIAMQ8PcMT7h+tHOylEwPqTwCeYt2C0+9qjdfLFPKz6Qwt6+WAMpPgAAkh4Z7SY+uB7CIY8HJT4fxYMV600jPlwPqSLguyE+M7PvcJVNID4=\",\"dtype\":\"float64\",\"shape\":[100]},\"x\":{\"__ndarray__\":\"AAAAAAAAAACWArV+pUAxQJYCtX6lQEFA4YMPPvjgSUCWArV+pUBRQDxDYt7OkFVA4YMPPvjgWUCGxLydITFeQJYCtX6lQGFA6aKLLrpoY0A8Q2LezpBlQI7jOI7juGdA4YMPPvjgaUA0JObtDAlsQIbEvJ0hMW5AbbLJJpsscECWArV+pUBxQL9SoNavVHJA6aKLLrpoc0AS83aGxHx0QDxDYt7OkHVAZZNNNtmkdkCO4ziO47h3QLgzJObtzHhA4YMPPvjgeUAK1PqVAvV6QDQk5u0MCXxAXXTRRRcdfUCGxLydITF+QLAUqPUrRX9AbbLJJpssgECBWr9SoLaAQJYCtX6lQIFAq6qqqqrKgUC/UqDWr1SCQNT6lQK13oJA6aKLLrpog0D9SoFav/KDQBLzdobEfIRAJ5tssskGhUA8Q2LezpCFQFDrVwrUGoZAZZNNNtmkhkB6O0Ni3i6HQI7jOI7juIdAo4suuuhCiEC4MyTm7cyIQMzbGRLzVolA4YMPPvjgiUD2KwVq/WqKQArU+pUC9YpAH3zwwQd/i0A0JObtDAmMQEjM2xkSk4xAXXTRRRcdjUByHMdxHKeNQIbEvJ0hMY5Am2yyySa7jkCwFKj1K0WPQMW8nSExz49AbbLJJpsskEB3hsS8nXGQQIFav1KgtpBAjC666KL7kECWArV+pUCRQKDWrxSohZFAq6qqqqrKkUC1fqVArQ+SQL9SoNavVJJAyiabbLKZkkDU+pUCtd6SQN7OkJi3I5NA6aKLLrpok0DzdobEvK2TQP1KgVq/8pNACB988ME3lEAS83aGxHyUQBzHcRzHwZRAJ5tssskGlUAxb2dIzEuVQDxDYt7OkJVARhdddNHVlUBQ61cK1BqWQFu/UqDWX5ZAZZNNNtmklkBvZ0jM2+mWQHo7Q2LeLpdAhA8++OBzl0CO4ziO47iXQJm3MyTm/ZdAo4suuuhCmECtXylQ64eYQLgzJObtzJhAwgcffPARmUDM2xkS81aZQNevFKj1m5lA4YMPPvjgmUDrVwrU+iWaQPYrBWr9appAAAAAAACwmkA=\",\"dtype\":\"float64\",\"shape\":[100]}},\"selected\":{\"id\":\"1456\"},\"selection_policy\":{\"id\":\"1457\"}},\"id\":\"1385\",\"type\":\"ColumnDataSource\"},{\"attributes\":{\"overlay\":{\"id\":\"1414\"}},\"id\":\"1408\",\"type\":\"BoxZoomTool\"},{\"attributes\":{},\"id\":\"1434\",\"type\":\"BasicTicker\"},{\"attributes\":{},\"id\":\"1437\",\"type\":\"BasicTickFormatter\"},{\"attributes\":{},\"id\":\"1410\",\"type\":\"ZoomOutTool\"},{\"attributes\":{},\"id\":\"1411\",\"type\":\"UndoTool\"},{\"attributes\":{\"active_drag\":\"auto\",\"active_inspect\":\"auto\",\"active_multi\":null,\"active_scroll\":\"auto\",\"active_tap\":\"auto\",\"tools\":[{\"id\":\"1405\"},{\"id\":\"1406\"},{\"id\":\"1407\"},{\"id\":\"1408\"},{\"id\":\"1409\"},{\"id\":\"1410\"},{\"id\":\"1411\"},{\"id\":\"1412\"},{\"id\":\"1413\"},{\"id\":\"1384\"}]},\"id\":\"1415\",\"type\":\"Toolbar\"},{\"attributes\":{},\"id\":\"1456\",\"type\":\"Selection\"},{\"attributes\":{},\"id\":\"1398\",\"type\":\"BasicTicker\"},{\"attributes\":{\"line_alpha\":0.7,\"line_color\":\"green\",\"line_width\":4,\"x\":{\"field\":\"x\"},\"y\":{\"field\":\"pdf\"}},\"id\":\"1444\",\"type\":\"Line\"}],\"root_ids\":[\"1386\"]},\"title\":\"Bokeh Application\",\"version\":\"2.0.2\"}};\n",
       "  var render_items = [{\"docid\":\"ae17d730-70c0-4620-9314-9e28932db4c2\",\"root_ids\":[\"1386\"],\"roots\":{\"1386\":\"8d548e48-3ec6-4518-b1d1-1a51432dd222\"}}];\n",
       "  root.Bokeh.embed.embed_items_notebook(docs_json, render_items);\n",
       "\n",
       "  }\n",
       "  if (root.Bokeh !== undefined) {\n",
       "    embed_document(root);\n",
       "  } else {\n",
       "    var attempts = 0;\n",
       "    var timer = setInterval(function(root) {\n",
       "      if (root.Bokeh !== undefined) {\n",
       "        clearInterval(timer);\n",
       "        embed_document(root);\n",
       "      } else {\n",
       "        attempts++;\n",
       "        if (attempts > 100) {\n",
       "          clearInterval(timer);\n",
       "          console.log(\"Bokeh: ERROR: Unable to run BokehJS code because BokehJS library is missing\");\n",
       "        }\n",
       "      }\n",
       "    }, 10, root)\n",
       "  }\n",
       "})(window);"
      ],
      "application/vnd.bokehjs_exec.v0+json": ""
     },
     "metadata": {
      "application/vnd.bokehjs_exec.v0+json": {
       "id": "1386"
      }
     },
     "output_type": "display_data"
    },
    {
     "ename": "ValueError",
     "evalue": "\"Invalid object to show. The object to passed to show must be one of:\n\n* a LayoutDOM (e.g. a Plot or Widget or Layout)\n* a Bokeh Application\n* a callable suitable to an application FunctionHandler\n",
     "output_type": "error",
     "traceback": [
      "\u001b[0;31m---------------------------------------------------------------------------\u001b[0m",
      "\u001b[0;31mValueError\u001b[0m                                Traceback (most recent call last)",
      "\u001b[0;32m<ipython-input-36-778e41f4f35f>\u001b[0m in \u001b[0;36m<module>\u001b[0;34m\u001b[0m\n\u001b[1;32m      1\u001b[0m \u001b[0mp_txt\u001b[0m \u001b[0;34m=\u001b[0m \u001b[0mmake_plot\u001b[0m\u001b[0;34m(\u001b[0m\u001b[0;34m'frech, txt-len'\u001b[0m\u001b[0;34m,\u001b[0m \u001b[0mdata_source\u001b[0m\u001b[0;34m)\u001b[0m\u001b[0;34m\u001b[0m\u001b[0;34m\u001b[0m\u001b[0m\n\u001b[0;32m----> 2\u001b[0;31m \u001b[0mshow\u001b[0m\u001b[0;34m(\u001b[0m\u001b[0mp_txt\u001b[0m\u001b[0;34m)\u001b[0m\u001b[0;34m\u001b[0m\u001b[0;34m\u001b[0m\u001b[0m\n\u001b[0m",
      "\u001b[0;32m~/venv3/lib/python3.8/site-packages/bokeh/io/showing.py\u001b[0m in \u001b[0;36mshow\u001b[0;34m(obj, browser, new, notebook_handle, notebook_url, **kw)\u001b[0m\n\u001b[1;32m    128\u001b[0m \u001b[0;34m\u001b[0m\u001b[0m\n\u001b[1;32m    129\u001b[0m     \u001b[0;32mif\u001b[0m \u001b[0;32mnot\u001b[0m \u001b[0;34m(\u001b[0m\u001b[0misinstance\u001b[0m\u001b[0;34m(\u001b[0m\u001b[0mobj\u001b[0m\u001b[0;34m,\u001b[0m \u001b[0mLayoutDOM\u001b[0m\u001b[0;34m)\u001b[0m \u001b[0;32mor\u001b[0m \u001b[0mis_application\u001b[0m \u001b[0;32mor\u001b[0m \u001b[0mcallable\u001b[0m\u001b[0;34m(\u001b[0m\u001b[0mobj\u001b[0m\u001b[0;34m)\u001b[0m\u001b[0;34m)\u001b[0m\u001b[0;34m:\u001b[0m\u001b[0;34m\u001b[0m\u001b[0;34m\u001b[0m\u001b[0m\n\u001b[0;32m--> 130\u001b[0;31m         \u001b[0;32mraise\u001b[0m \u001b[0mValueError\u001b[0m\u001b[0;34m(\u001b[0m\u001b[0m_BAD_SHOW_MSG\u001b[0m\u001b[0;34m)\u001b[0m\u001b[0;34m\u001b[0m\u001b[0;34m\u001b[0m\u001b[0m\n\u001b[0m\u001b[1;32m    131\u001b[0m \u001b[0;34m\u001b[0m\u001b[0m\n\u001b[1;32m    132\u001b[0m     \u001b[0;31m# TODO (bev) check callable signature more thoroughly\u001b[0m\u001b[0;34m\u001b[0m\u001b[0;34m\u001b[0m\u001b[0;34m\u001b[0m\u001b[0m\n",
      "\u001b[0;31mValueError\u001b[0m: \"Invalid object to show. The object to passed to show must be one of:\n\n* a LayoutDOM (e.g. a Plot or Widget or Layout)\n* a Bokeh Application\n* a callable suitable to an application FunctionHandler\n"
     ]
    }
   ],
   "source": [
    "p_txt = make_plot('frech, txt-len', data_source)\n",
    "show(p_txt)"
   ]
  },
  {
   "cell_type": "code",
   "execution_count": null,
   "metadata": {},
   "outputs": [],
   "source": []
  },
  {
   "cell_type": "code",
   "execution_count": null,
   "metadata": {},
   "outputs": [],
   "source": [
    "# # Normal Distribution\n",
    "\n",
    "# bins = 100\n",
    "\n",
    "# mu, sigma = 0, 0.5\n",
    "\n",
    "# measured = np.random.normal(mu, sigma, 1000)\n",
    "# hist, edges = np.histogram(measured, density=True, bins=50)\n",
    "\n",
    "# x = np.linspace(-2, 2, 1000)\n",
    "# pdf = 1/(sigma * np.sqrt(2*np.pi)) * np.exp(-(x-mu)**2 / (2*sigma**2))\n",
    "# cdf = (1+scipy.special.erf((x-mu)/np.sqrt(2*sigma**2)))/2\n",
    "\n",
    "# p1 = make_plot(\"Normal Distribution (μ=0, σ=0.5)\", hist, edges, x, pdf, cdf)\n",
    "\n",
    "# # Log-Normal Distribution\n",
    "\n",
    "# mu, sigma = 0, 0.5\n",
    "\n",
    "# measured = np.random.lognormal(mu, sigma, 1000)\n",
    "# hist, edges = np.histogram(measured, density=True, bins=50)\n",
    "\n",
    "# x = np.linspace(0.0001, 8.0, 1000)\n",
    "# pdf = 1/(x* sigma * np.sqrt(2*np.pi)) * np.exp(-(np.log(x)-mu)**2 / (2*sigma**2))\n",
    "# cdf = (1+scipy.special.erf((np.log(x)-mu)/(np.sqrt(2)*sigma)))/2\n",
    "\n",
    "# p2 = make_plot(\"Log Normal Distribution (μ=0, σ=0.5)\", hist, edges, x, pdf, cdf)\n",
    "\n",
    "# # Gamma Distribution\n",
    "\n",
    "# k, theta = 7.5, 1.0\n",
    "\n",
    "# measured = np.random.gamma(k, theta, 1000)\n",
    "# hist, edges = np.histogram(measured, density=True, bins=50)\n",
    "\n",
    "# x = np.linspace(0.0001, 20.0, 1000)\n",
    "# pdf = x**(k-1) * np.exp(-x/theta) / (theta**k * scipy.special.gamma(k))\n",
    "# cdf = scipy.special.gammainc(k, x/theta)\n",
    "\n",
    "# p3 = make_plot(\"Gamma Distribution (k=7.5, θ=1)\", hist, edges, x, pdf, cdf)\n",
    "\n",
    "# # Weibull Distribution\n",
    "\n",
    "# lam, k = 1, 1.25\n",
    "# measured = lam*(-np.log(np.random.uniform(0, 1, 1000)))**(1/k)\n",
    "# hist, edges = np.histogram(measured, density=True, bins=50)\n",
    "\n",
    "# x = np.linspace(0.0001, 8, 1000)\n",
    "# pdf = (k/lam)*(x/lam)**(k-1) * np.exp(-(x/lam)**k)\n",
    "# cdf = 1 - np.exp(-(x/lam)**k)\n",
    "\n",
    "# p4 = make_plot(\"Weibull Distribution (λ=1, k=1.25)\", hist, edges, x, pdf, cdf)\n",
    "\n",
    "# # output_file('histogram.html', title=\"histogram.py example\")\n",
    "\n",
    "# show(gridplot([p1,p2,p3,p4], ncols=2, plot_width=400, plot_height=400, toolbar_location=None))"
   ]
  },
  {
   "cell_type": "code",
   "execution_count": null,
   "metadata": {},
   "outputs": [],
   "source": [
    "# %%time\n",
    "# res_2 = conllu_process_get_2list(blacklist=blacklist)"
   ]
  },
  {
   "cell_type": "code",
   "execution_count": null,
   "metadata": {},
   "outputs": [],
   "source": [
    "# %%time\n",
    "# upos_data_2, sentences_data_2, forms_data_2 = extract_data_from_fields(res_2)"
   ]
  },
  {
   "cell_type": "code",
   "execution_count": null,
   "metadata": {},
   "outputs": [],
   "source": [
    "# %%time\n",
    "# langs_2 = ['es', 'fr', 'de', 'en']\n",
    "# langs_data_2 = compute_distributions(upos_data_2, sentences_data_2, langs_2)"
   ]
  },
  {
   "cell_type": "code",
   "execution_count": null,
   "metadata": {},
   "outputs": [],
   "source": [
    "# def _get_stats(distrib, distrib_params, data, n_bins=100, n_samples=100):\n",
    "#     \"\"\"\n",
    "    \n",
    "#     :param distrib: distribution function (scipy.stats.[beta|norm|....]) \n",
    "#     :param distrib_params: parameters of the distribution\n",
    "#     :param data:\n",
    "#     :param n_bins: number of bins to compute for the histograms.\n",
    "#     :param n_samples: number of samples for the CDF and PDF functions\n",
    "#     :return: (stats, {cdf,pdf})\n",
    "#     \"\"\"\n",
    "#     try:  # if data is a pandas dataframe (which it is) TODO cleanup these dirty things\n",
    "#         data = data.to_numpy()\n",
    "#     except:\n",
    "#         pass\n",
    "#     mskv = [None, None, None, None]\n",
    "#     t_mskv = distrib.stats(*distrib_params)\n",
    "#     for i in range(len(t_mskv)):  # mean, variance, skew, kurtosis -> variable length\n",
    "#         mskv[i] = t_mskv[i]\n",
    "#     ret_stats = {\n",
    "#         'mean': mskv[0],  # mean, variance, skew, kurtosis -> variable length\n",
    "#         'variance': mskv[1],\n",
    "#         'skew': mskv[2],\n",
    "#         'kurtosis': mskv[3],\n",
    "#         'median': distrib.median(*distrib_params),\n",
    "#         'std': distrib.std(*distrib_params),\n",
    "#         'intervals': {'99': distrib.interval(0.99, *distrib_params),\n",
    "#                       '98': distrib.interval(0.98, *distrib_params),\n",
    "#                       '95': distrib.interval(0.95, *distrib_params),\n",
    "#                       '90': distrib.interval(0.90, *distrib_params),\n",
    "#                       '85': distrib.interval(0.85, *distrib_params),\n",
    "#                       '80': distrib.interval(0.8, *distrib_params),\n",
    "#                       }\n",
    "#     }\n",
    "#     max_len = max(data)\n",
    "#     x = np.linspace(0, max_len, 100)\n",
    "#     hist, bin_edges = np.histogram(data, bins=n_bins)  # (hist, bin_edges)\n",
    "#     # the function computation is to make life easy when drawing with bokeh ... some points still to clarify\n",
    "#     # for this n_samples needs to be the same as n_bins\n",
    "#     ret_foo = {'x': x,\n",
    "#                'hist': hist,\n",
    "#                'bin_edges': bin_edges,\n",
    "#                # 'bin_edges_left': bin_edges[:-1],\n",
    "#                # 'bin_edges_right': bin_edges[1:],\n",
    "#                'cdf': resample(distrib.cdf(x, *distrib_params), n_samples),\n",
    "#                'pdf': resample(distrib.pdf(x, *distrib_params), n_samples)\n",
    "#                }\n",
    "#     return ret_stats, ret_foo"
   ]
  },
  {
   "cell_type": "code",
   "execution_count": null,
   "metadata": {},
   "outputs": [],
   "source": [
    "# def _get_lang_stats(lang_data, distributions=DISTRIBUTIONS):\n",
    "#     upos_distrib = distributions[lang_data['upos_distrib'][0]]\n",
    "#     upos_distrib_params = lang_data['upos_distrib'][2]\n",
    "#     #     print('upos', upos_distrib, upos_distrib_params)\n",
    "#     upos_data = lang_data['upos_len']\n",
    "#     upos_stats, upos_functions = _get_stats(upos_distrib, upos_distrib_params, upos_data)\n",
    "#     #\n",
    "#     # deprel_distrib = distributions[lang_data['deprel_distrib'][0]]\n",
    "#     # deprel_distrib_params = lang_data['deprel_distrib'][2]\n",
    "#     # #     print('deprel', deprel_distrib, deprel_distrib_params)\n",
    "#     # deprel_data = lang_data['deprel_len']\n",
    "#     # deprel_stats, deprel_functions = _get_stats(deprel_distrib, deprel_distrib_params, deprel_data)\n",
    "#     #\n",
    "#     text_distrib = distributions[lang_data['text_distrib'][0]]\n",
    "#     text_distrib_params = lang_data['text_distrib'][2]\n",
    "#     #     print('text', text_distrib, text_distrib_params)\n",
    "#     text_data = lang_data['text_len']\n",
    "#     text_stats, text_functions = _get_stats(text_distrib, text_distrib_params, text_data)\n",
    "\n",
    "#     lang_data['upos_stats'] = upos_stats\n",
    "#     # lang_data['deprel_stats'] = deprel_stats\n",
    "#     lang_data['text_stats'] = text_stats\n",
    "\n",
    "#     lang_data['upos_functions'] = upos_functions\n",
    "#     # lang_data['deprel_functions'] = deprel_functions\n",
    "#     lang_data['text_functions'] = text_functions\n",
    "\n",
    "#     return lang_data"
   ]
  },
  {
   "cell_type": "code",
   "execution_count": null,
   "metadata": {
    "scrolled": true
   },
   "outputs": [],
   "source": [
    "# all_stats = {}\n",
    "\n",
    "# for lang, lang_data in langs_data_2.items():\n",
    "#     print('processing {}'.format(lang))\n",
    "#     all_stats[lang] = _get_lang_stats(lang_data)"
   ]
  },
  {
   "cell_type": "code",
   "execution_count": null,
   "metadata": {},
   "outputs": [],
   "source": [
    "# distributions=DISTRIBUTIONS\n",
    "\n",
    "# lang_data = langs_data_2['fr']\n",
    "# text_distrib = distributions[lang_data['text_distrib'][0]]\n",
    "# text_distrib_params = lang_data['text_distrib'][2]\n",
    "# #     print('text', text_distrib, text_distrib_params)\n",
    "# text_data = lang_data['text_len']"
   ]
  },
  {
   "cell_type": "code",
   "execution_count": null,
   "metadata": {},
   "outputs": [],
   "source": [
    "# data = text_data\n",
    "# n_bins = 100\n",
    "# max_len = max(data)\n",
    "# x = np.linspace(0, max_len, 100)"
   ]
  },
  {
   "cell_type": "code",
   "execution_count": null,
   "metadata": {},
   "outputs": [],
   "source": [
    "# hist, bin_edges = np.histogram(data, bins=n_bins)  # (hist, bin_edges)"
   ]
  },
  {
   "cell_type": "code",
   "execution_count": null,
   "metadata": {},
   "outputs": [],
   "source": [
    "# plt.plot(hist)"
   ]
  },
  {
   "cell_type": "code",
   "execution_count": null,
   "metadata": {},
   "outputs": [],
   "source": [
    "# text_stats, text_functions = _get_stats(text_distrib, text_distrib_params, text_data)"
   ]
  },
  {
   "cell_type": "code",
   "execution_count": null,
   "metadata": {},
   "outputs": [],
   "source": [
    "# plt.plot(text_functions['cdf'])"
   ]
  },
  {
   "cell_type": "code",
   "execution_count": null,
   "metadata": {},
   "outputs": [],
   "source": [
    "# lang_data.keys()"
   ]
  },
  {
   "cell_type": "code",
   "execution_count": null,
   "metadata": {},
   "outputs": [],
   "source": [
    "# dist_name, dist_p, (alpha, beta, loc, scale) = lang_data['text_distrib']"
   ]
  },
  {
   "cell_type": "code",
   "execution_count": null,
   "metadata": {},
   "outputs": [],
   "source": [
    "# stats.beta.cdf?"
   ]
  },
  {
   "cell_type": "code",
   "execution_count": null,
   "metadata": {},
   "outputs": [],
   "source": [
    "# cdf = "
   ]
  },
  {
   "cell_type": "code",
   "execution_count": null,
   "metadata": {},
   "outputs": [],
   "source": [
    "\n",
    "# def _get_data_source(lang_data):\n",
    "\n",
    "    \n",
    "#     data_source = ColumnDataSource({'hist':hist,\n",
    "#                                     'bin_edges_left': bin_edges[:-1],\n",
    "#                                     'bin_edges_right': bin_edges[1:],\n",
    "#                                     'x': x,\n",
    "#                                     'pdf': pdf100,\n",
    "#                                     'cdf': cdf100})\n",
    "    \n",
    "#     return title, data_source_upos"
   ]
  },
  {
   "cell_type": "code",
   "execution_count": null,
   "metadata": {},
   "outputs": [],
   "source": [
    "# title, data_source = _get_data_source()\n",
    "# p_txt = make_plot('frech, txt-len', data_source)\n",
    "# show(p_txt)"
   ]
  },
  {
   "cell_type": "code",
   "execution_count": null,
   "metadata": {},
   "outputs": [],
   "source": [
    "# frstats = langs_data_2['fr']"
   ]
  },
  {
   "cell_type": "code",
   "execution_count": null,
   "metadata": {
    "scrolled": true
   },
   "outputs": [],
   "source": [
    "# frstats"
   ]
  },
  {
   "cell_type": "code",
   "execution_count": null,
   "metadata": {},
   "outputs": [],
   "source": [
    "# cdf, pdf = frstats['text_functions']['cdf'], frstats['text_functions']['pdf']"
   ]
  },
  {
   "cell_type": "code",
   "execution_count": null,
   "metadata": {},
   "outputs": [],
   "source": []
  }
 ],
 "metadata": {
  "kernelspec": {
   "display_name": "Python 3",
   "language": "python",
   "name": "python3"
  },
  "language_info": {
   "codemirror_mode": {
    "name": "ipython",
    "version": 3
   },
   "file_extension": ".py",
   "mimetype": "text/x-python",
   "name": "python",
   "nbconvert_exporter": "python",
   "pygments_lexer": "ipython3",
   "version": "3.8.2"
  }
 },
 "nbformat": 4,
 "nbformat_minor": 4
}
