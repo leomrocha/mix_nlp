{
 "cells": [
  {
   "cell_type": "markdown",
   "metadata": {},
   "source": [
    "# Training Preparation\n",
    "\n",
    "This document states the goals for the training"
   ]
  },
  {
   "cell_type": "markdown",
   "metadata": {},
   "source": [
    "## Goals\n",
    "For the current work the training is focused in learning language representations for:\n",
    "* multi-lingual\n",
    "* multi-task\n",
    "* Text-to-Text (similar to T5 from DeepMind) \n",
    "\n",
    "With the goal of:\n",
    "\n",
    "* [Few-Shot|Zero-Shot] learning of new tasks\n",
    "* Zero-Shot translation for language pairs\n",
    "* Being able to add new knowledge without catastrophic forgetting\n",
    "\n",
    "The particularity of the trained model is that they are intended to be able to recognize and solve the given tasks solely from the description in the input. The models should be able to perform well enough without any retraining or fine-tunning. Any re-training or fine-tunning should also be able to be done without hindering (much?) the previously trained tasks.\n",
    "\n",
    "Also there is the important point to make that all this work focuses on having an input as RAW as possible (meaning no text normalization, separation, .... etc) and having NO Out of Vocabulary (OOV) input. So all the languages should be feasible as input.\n",
    "\n",
    "\n",
    "## Model Outputs\n",
    "\n",
    "Particularly the model should have multiple outputs being those the following:\n",
    "\n",
    "1. Origin Language (language detection) - Language Name (would be less confusing and more informative than code)\n",
    "~~2. Destination Language (the original one if none given) - Language Name~~\n",
    "~~3. Task Language (The language in which the task was described) - Language CODE (2 or 3 character code)~~\n",
    "4. The task at hand\n",
    "5. **The TARGET output** of the task for the current input\n",
    "\n",
    "~~5. PoS UPOS tagging ckech if needed or useful?~~\n"
   ]
  },
  {
   "cell_type": "markdown",
   "metadata": {},
   "source": [
    "## Training\n",
    "\n",
    "The current work follows the example of [ERNIE 2.0](https://arxiv.org/abs/1907.12412) in that uses supervised training to improve the performance. In that paper they show that supervised tasks allow better training than just Denoising LM target with unsupervised learning. \n",
    "In this work we leverage many other tasks and meta-learning to take advantage of existing mono and multi-lingual training datasets.\n",
    "\n",
    "The training will be done in the following stages:\n",
    "\n",
    "1. A general pre-training with many datapoints on all the tasks\n",
    "    - Evaluation on different validation sets\n",
    "2. A few-shot meta-learninig training based on the pre-trained weights\n",
    "    - Evaluation on different validation sets\n",
    "3. Add architectural changes to the network (parallel columns and memory) and train for tasks with the meta-learned \n",
    "    - Evaluation on different validation sets and tasks\n",
    "4. Overfit new input or input that fails -> create an entry in the memory for it.\n",
    "    - Evaluate\n",
    "5. ... ?\n",
    "\n",
    "\n",
    "The intuition between all this is:\n",
    " - Having a strong statistical baseline with many tasks\n",
    " - Meta-learning to be able to quickly learn new tasks\n",
    " - Use the few-shot learn ability to be able to add new knowledge in the memory as in [Large Memory Layers with Product Keys](https://arxiv.org/abs/1907.052420)"
   ]
  },
  {
   "cell_type": "markdown",
   "metadata": {},
   "source": [
    "##  Tasks\n",
    "\n",
    "The tasks to prepare for the training, many of these are intended solely for training and there is no interest in a validation dataset for these for comparison with other models as they are not available in the literature. The current work does not intend to add new tasks or metrics.\n",
    "\n",
    "The default task is to denoise and correct the input (if for example there are multiple spaces together, or diacritics missing, uppercases, etc).\n",
    "\n",
    "Many of the tasks can be taken from standard Text pre-processing tasks, the idea being here to use available weakly-supervised with minimal transformations in the input.\n",
    "\n",
    "The tasks can be separated into:\n",
    "\n",
    "### [Un|Weakly]-supervised\n",
    "\n",
    "* MLM (Masked Language Model) BERT|mBERT|BART|ERNIE training objective (TODO) \n",
    "* Denoising (see previous pont instead)\n",
    "* Capitalization\n",
    "* to-Lowercase\n",
    "* to-UPPERCASE\n",
    "* Add diacritics\n",
    "* Remove Diacritics\n",
    "* character shuffling, character deletion, character addition (close in vocab to the ones in the sentence), character duplication, ...\n",
    "~~* Text Normalization: [NFD|NFKC|...]~~ This is done before passing the text to the NN.\n",
    "\n",
    "\n",
    "### Supervised\n",
    "\n",
    "* [GLUE](https://gluebenchmark.com/)\n",
    "* [SuperGLUE](https://super.gluebenchmark.com/); [Paper](https://w4ngatang.github.io/static/papers/superglue.pdf) \n",
    "* Grammar tagging and recognition (PoS, NER, Dependency detection, ...) [UD-Treebank v2.5](https://universaldependencies.org/)\n",
    "* Translation [WikiMatrix](https://ai.facebook.com/blog/wikimatrix/); [Paper](https://arxiv.org/abs/1907.05791); [Github](https://github.com/facebookresearch/LASER/tree/master/tasks/WikiMatrix)\n",
    "* Language Detection (the goal would be to have this as an extra output)"
   ]
  },
  {
   "cell_type": "markdown",
   "metadata": {},
   "source": [
    "#### TODO but easy to make during data preparation:\n",
    "\n",
    "* Add accents to string in ASCII ,remove accents (for French, Spanish and other languages like these) .... [Answer in stackoverflow](https://stackoverflow.com/questions/517923/what-is-the-best-way-to-remove-accents-in-a-python-unicode-string) and [open science](https://www.science-emergence.com/Articles/How-to-remove-string-accents-using-python-3/) with [Gensim](https://radimrehurek.com/gensim/utils.html#gensim.utils.deaccent), should also do Remove Diacritics ...\n",
    "* Fill the placeholder (for example eliminate only one word and make it fill it ...?)"
   ]
  },
  {
   "cell_type": "markdown",
   "metadata": {},
   "source": [
    "#### TODO - prepare and do the following too:\n",
    "\n",
    "* Tatoeba:  Wikimatrix is nice but this one has different kind of phrases (questions, answers and some other things)\n",
    "* [EuroParliament](http://www.statmt.org/europarl/)\n",
    "* [Wikipedia Translation Dataset](http://opus.nlpl.eu/Wikipedia.php); [WikiExtractor](https://github.com/tatuylonen/wiktextract)\n",
    "* [ConceptNET](http://conceptnet.io/); [Github](https://github.com/commonsense/conceptnet5/wiki) \n",
    "* [Open Multilingual WordNet](http://compling.hss.ntu.edu.sg/omw/) and [Global WordNet Association](http://globalwordnet.org/resources/wordnets-in-the-world/)\n",
    "\n",
    "\n",
    "* Conjugate verbs for different languages -> do as with the language textbooks !!!\n",
    "* Give the dictionary definition of word ...\n",
    "\n",
    "\n",
    "While the starting datasets and tasks are given here, there are many others like multi-hop search and question answering that I would love to add later."
   ]
  },
  {
   "cell_type": "markdown",
   "metadata": {},
   "source": [
    "## Input Corruption techniques\n",
    "\n",
    "### BART pre-training details - Noise Generation Techniques:\n",
    "\n",
    "* Token Masking\n",
    "* Token Deletion\n",
    "* Tex Infilling\n",
    "~~* Sentence Permutation~~ Can't use in the current setting, need more dev for this\n",
    "~~* Document Rotation~~ Can't use in the current setting, need more dev for this\n",
    "\n",
    "### Other Techniques\n",
    "* Explained \n",
    "\n",
    "### Add a noise layer every N layers in the NN\n",
    "\n",
    "TODO, this is a technique that should be tested too, this might be enough for another paper\n",
    "\n",
    "There is one on that subject: [Adaptive Noise Injection: A Structure-Expanding Regularization for RNN](https://arxiv.org/abs/1907.10885)"
   ]
  },
  {
   "cell_type": "markdown",
   "metadata": {},
   "source": [
    "## Neural Networks to test\n",
    "\n",
    "The Neural Networks to test will be the following:\n",
    "\n",
    "* Vanilla CNN (autoencoder like, non seq2seq but the input length can change if fully convolutional), this is for easy baseline\n",
    "* ~~Vanilla LSTM ?? -> might be slow/heavy to train~~\n",
    "* Vanilla Transformer Encoder only (non seq2seq)\n",
    "* Vanilla Transformer Decoder only (non seq2seq??)\n",
    "* Transformer (Encoder-Decoder Seq2Seq architecture - limit the number of parameters here, to study)\n",
    "* [Reformer: The Efficient Transformer](https://arxiv.org/abs/2001.04451)\n",
    "* Hybrid Seq2Seq (description below - goal to cut as many params as possible and ):\n",
    "    - CNN + Light Dynamic Convolutions at input level  (if possible compress the time dimension)\n",
    "    - Encoder [Transformer|Reformer] layers With Large Memory \n",
    "    - Decoder [Transformer|Reformer] Layers with Large Memory\n",
    "    - Deconv CNN +  Light Dynamic Convolution (to decompress the input time dimension into tokens)\n",
    "\n",
    "\n",
    "### Modifications to network and training\n",
    "\n",
    "All networks should also test the following modifications (though I incline myself to just do it in the hybrid architecture due to expense) \n",
    "\n",
    "* Use REPTILE (better for rsource usage than MAML) for meta-training\n",
    "* Use Plastic (hebbian?) + Modulated Plastic meta-learning\n",
    "* Use NeuralDB\n",
    "* Use Overfitting for new tasks and for examples where there are errors, overfit in a new memory position and later do attention over the memory outputs\n",
    "* The encoder just as a circular convolution of the inputs instead of making some comples NN ?? \n",
    "* Use [The Evolved Transformer](https://arxiv.org/abs/1901.11117) instead of the base Transformer (need to be implemented in pytorch)\n",
    "* Use Relative Positional Encoding and keeping past activations from TransformerXL\n",
    "* Use Compressive Transformers' ideas\n",
    "\n",
    "\n",
    "After finding a couple of AMAZING papers from google The goal should be to work on:\n",
    "* [Universal Transformers](https://arxiv.org/abs/1807.03819)\n",
    "* [MEMO: A Deep Network for Flexible Combination of Episodic Memories](https://arxiv.org/abs/2001.10913)\n",
    "\n",
    "And try to make from these two (adding circular convolution compression and/or/ reptile and plasticity) the NeuralDB"
   ]
  },
  {
   "cell_type": "markdown",
   "metadata": {},
   "source": [
    "## Evaluation Tasks and Metrics\n",
    "\n",
    "The tasks that will be given importance at the validation moment and should be used for comparison with other SoTA models available in the literature.\n",
    "\n",
    "* GLUE: standard by the site's validation set\n",
    "* SuperGLUE: standard by the site's validation set\n",
    "* Translation [BLEU](https://en.wikipedia.org/wiki/BLEU), [F-Score](https://en.wikipedia.org/wiki/F1_score), [ROUGE](https://en.wikipedia.org/wiki/F1_score) ... ?\n"
   ]
  },
  {
   "cell_type": "markdown",
   "metadata": {},
   "source": [
    "## Architecture Description and decisions\n",
    "\n",
    "\n",
    "* As with [BART](https://arxiv.org/pdf/1910.13461.pdf) use a *Bidirectional Encoder* with an *Autoregressive Decoder* \n",
    "\n",
    "* The model will be a Seq2Seq based on the transformer architecture, the input and output sizes should be of dynamic dimension. The input dimension, if possible will be compressed by the network (example, from an original input of 1024 go to a dimension of 384 or 256).\n",
    "* The dimensions will be divisible by 2, and mostly power of 2\n",
    "\n",
    "* The model will have as an input a character level of 128 dimensions based on 3-segment UTF-8 text encoder developed previously by the same author. No OOV characters should exist for most languages and input types (only emojis and extended lost languages as egyptian will not be represented, all that is represented by the 4th segment on the UTF-8 encoding, the last code-point used will be U+FFFF). This is to be able to encode most (if not all) the languages in the available datasets for the current work. Using a 2-segment based coding for utf-8 would be much more memory and processor savy but would leave JCK languages OOV which we don't want.\n",
    "\n",
    "* The decoding from vector to text will be done at character-level based on the [FAISS facebook's library](https://github.com/facebookresearch/faiss)"
   ]
  },
  {
   "cell_type": "markdown",
   "metadata": {},
   "source": [
    "## Training Tools\n",
    "\n",
    "* Development in PyTorch (easiest for research and the one the authors know best)\n",
    "* Tensorboard with torch-tensorboard to check during training\n",
    "* Mixed Precision training with [NVIDIA Apex](https://github.com/NVIDIA/apex)\n",
    "\n",
    "## Training Techniques:\n",
    "\n",
    "Most of the issues in training will be due to memory, so for this there are the following techniques to use:\n",
    "\n",
    "* [Gradient Checkpointing](https://arxiv.org/abs/1604.06174); [Fitting larger networks into memory.\n",
    "](https://medium.com/tensorflow/fitting-larger-networks-into-memory-583e3c758ff9) in [Pytorch](https://qywu.github.io/2019/05/22/explore-gradient-checkpointing.html)\n",
    "* [Reformer - Google](https://arxiv.org/pdf/2001.04451.pdf)\n",
    "* [Reversible Residual Network: Backpropagation Without Storing Activations](https://arxiv.org/abs/1707.04585) [some](https://github.com/tbung/pytorch-revnet) [sources](https://github.com/renmengye/revnet-public)\n"
   ]
  },
  {
   "cell_type": "markdown",
   "metadata": {},
   "source": [
    "## Limitations and Specifications\n",
    "\n",
    "The entire development, pre-processing and training is to be limited to the following software and HW:\n",
    "\n",
    "    System Ubuntu 19.04\n",
    "    Python 3.7\n",
    "    PyTorch+=1.4\n",
    "\n",
    "\n",
    "    CPU = 8 core intel i7700\n",
    "    GPU_1 = RTX 2080 Ti - 11GB RAM\n",
    "    GPU_2 = GTX 1080 - 8 GB RAM ( -1GB for the system that uses it)\n",
    "    RAM = 64 GB\n",
    "    Local Disk =  1TB NVMe\n",
    "    Remote NFS mounted = RAID1 4TB (on Raspberry-PI 4+ 4GB) \n"
   ]
  },
  {
   "cell_type": "markdown",
   "metadata": {},
   "source": [
    "### Byte Pair Encoding\n",
    "\n",
    "Although feasible with the proposed encoding, [BPE](https://en.wikipedia.org/wiki/Byte_pair_encoding) compression will not be dealt with in the current and is left as future work. The posibilities for BPE are:\n",
    " * Circular Convolution (in the given order) <- I would bet for this encoding type: in pytorch is with padding_type = circular\n",
    " * Additive (although this one can be a problem)\n",
    " * Other ...."
   ]
  },
  {
   "cell_type": "code",
   "execution_count": 1,
   "metadata": {},
   "outputs": [
    {
     "name": "stderr",
     "output_type": "stream",
     "text": [
      "/home/leo/venv3/lib/python3.7/site-packages/tensorboard/compat/tensorflow_stub/dtypes.py:541: FutureWarning: Passing (type, 1) or '1type' as a synonym of type is deprecated; in a future version of numpy, it will be understood as (type, (1,)) / '(1,)type'.\n",
      "  _np_qint8 = np.dtype([(\"qint8\", np.int8, 1)])\n",
      "/home/leo/venv3/lib/python3.7/site-packages/tensorboard/compat/tensorflow_stub/dtypes.py:542: FutureWarning: Passing (type, 1) or '1type' as a synonym of type is deprecated; in a future version of numpy, it will be understood as (type, (1,)) / '(1,)type'.\n",
      "  _np_quint8 = np.dtype([(\"quint8\", np.uint8, 1)])\n",
      "/home/leo/venv3/lib/python3.7/site-packages/tensorboard/compat/tensorflow_stub/dtypes.py:543: FutureWarning: Passing (type, 1) or '1type' as a synonym of type is deprecated; in a future version of numpy, it will be understood as (type, (1,)) / '(1,)type'.\n",
      "  _np_qint16 = np.dtype([(\"qint16\", np.int16, 1)])\n",
      "/home/leo/venv3/lib/python3.7/site-packages/tensorboard/compat/tensorflow_stub/dtypes.py:544: FutureWarning: Passing (type, 1) or '1type' as a synonym of type is deprecated; in a future version of numpy, it will be understood as (type, (1,)) / '(1,)type'.\n",
      "  _np_quint16 = np.dtype([(\"quint16\", np.uint16, 1)])\n",
      "/home/leo/venv3/lib/python3.7/site-packages/tensorboard/compat/tensorflow_stub/dtypes.py:545: FutureWarning: Passing (type, 1) or '1type' as a synonym of type is deprecated; in a future version of numpy, it will be understood as (type, (1,)) / '(1,)type'.\n",
      "  _np_qint32 = np.dtype([(\"qint32\", np.int32, 1)])\n",
      "/home/leo/venv3/lib/python3.7/site-packages/tensorboard/compat/tensorflow_stub/dtypes.py:550: FutureWarning: Passing (type, 1) or '1type' as a synonym of type is deprecated; in a future version of numpy, it will be understood as (type, (1,)) / '(1,)type'.\n",
      "  np_resource = np.dtype([(\"resource\", np.ubyte, 1)])\n"
     ]
    }
   ],
   "source": [
    "import torch\n",
    "from models import *\n",
    "from trainer_helpers import *\n",
    "from data_loader import *\n",
    "# from prepare_data import *\n",
    "from utils import *\n",
    "from tools import *"
   ]
  },
  {
   "cell_type": "code",
   "execution_count": 2,
   "metadata": {},
   "outputs": [],
   "source": [
    "BASE_PATH = '/home/leo/projects/Datasets/text/selected_monofile/partitions'\n",
    "\n",
    "fpaths = get_all_files_recurse(BASE_PATH) \n",
    "\n",
    "train_files = [f for f in fpaths if 'train' in f]\n",
    "dev_files = [f for f in fpaths if 'dev' in f]\n",
    "valid_files = [f for f in fpaths if 'valid' in f]\n",
    "\n",
    "train_glue_files = [f for f in train_files if 'glue-' in f]\n",
    "dev_glue_files = [f for f in dev_files if 'glue-' in f]\n",
    "\n",
    "train_all_files = [f for f in train_files if 'all' in f]\n",
    "test_all_files = [f for f in dev_files if 'all' in f]"
   ]
  },
  {
   "cell_type": "code",
   "execution_count": 3,
   "metadata": {},
   "outputs": [],
   "source": [
    "train_files = [ f for f in train_files if 'glue' not in f and 'all' not in f]\n",
    "test_files = [ f for f in dev_files if 'glue' not in f and 'all' not in f]"
   ]
  },
  {
   "cell_type": "code",
   "execution_count": 4,
   "metadata": {},
   "outputs": [],
   "source": [
    "codebook_name = \"codes/adhoc-codebook-1871.pkl\"\n",
    "import pickle\n",
    "codebook_path = '/home/leo/projects/mix_nlp/utf8/codes/adhoc-codebook-1871.pkl'\n",
    "f = open(codebook_path, 'rb')\n",
    "codebook, char2int, int2char = pickle.load(f)"
   ]
  },
  {
   "cell_type": "code",
   "execution_count": 5,
   "metadata": {},
   "outputs": [],
   "source": [
    "device = torch.device(\"cuda:0\" if torch.cuda.is_available() else \"cpu\")\n",
    "model = ConvModel(codebook)"
   ]
  },
  {
   "cell_type": "code",
   "execution_count": 6,
   "metadata": {},
   "outputs": [
    {
     "data": {
      "text/plain": [
       "(14731282, 14731282)"
      ]
     },
     "execution_count": 6,
     "metadata": {},
     "output_type": "execute_result"
    }
   ],
   "source": [
    "count_parameters(model), count_trainable_parameters(model)"
   ]
  },
  {
   "cell_type": "code",
   "execution_count": 7,
   "metadata": {},
   "outputs": [
    {
     "data": {
      "text/plain": [
       "device(type='cuda', index=0)"
      ]
     },
     "execution_count": 7,
     "metadata": {},
     "output_type": "execute_result"
    }
   ],
   "source": [
    "device"
   ]
  },
  {
   "cell_type": "code",
   "execution_count": 8,
   "metadata": {
    "scrolled": true
   },
   "outputs": [],
   "source": [
    "model = model.to(device)"
   ]
  },
  {
   "cell_type": "code",
   "execution_count": null,
   "metadata": {
    "scrolled": true
   },
   "outputs": [
    {
     "name": "stdout",
     "output_type": "stream",
     "text": [
      "Selected optimization level O2:  FP16 training with FP32 batchnorm and FP32 master weights.\n",
      "\n",
      "Defaults for this optimization level are:\n",
      "enabled                : True\n",
      "opt_level              : O2\n",
      "cast_model_type        : torch.float16\n",
      "patch_torch_functions  : False\n",
      "keep_batchnorm_fp32    : True\n",
      "master_weights         : True\n",
      "loss_scale             : dynamic\n",
      "Processing user overrides (additional kwargs that are not None)...\n",
      "After processing overrides, optimization options are:\n",
      "enabled                : True\n",
      "opt_level              : O2\n",
      "cast_model_type        : torch.float16\n",
      "patch_torch_functions  : False\n",
      "keep_batchnorm_fp32    : True\n",
      "master_weights         : True\n",
      "loss_scale             : dynamic\n"
     ]
    },
    {
     "name": "stderr",
     "output_type": "stream",
     "text": [
      "/home/leo/venv3/lib/python3.7/site-packages/torch/nn/functional.py:1351: UserWarning: nn.functional.sigmoid is deprecated. Use torch.sigmoid instead.\n",
      "  warnings.warn(\"nn.functional.sigmoid is deprecated. Use torch.sigmoid instead.\")\n"
     ]
    },
    {
     "name": "stdout",
     "output_type": "stream",
     "text": [
      "END Batch Id: 1 | loss: 8.148| Timestamp 2020-02-14T22:08:15.253293\n",
      "END Batch Id: 2 | loss: 8.113| Timestamp 2020-02-14T22:08:17.458715\n",
      "END Batch Id: 3 | loss: 8.076| Timestamp 2020-02-14T22:08:19.655723\n",
      "END Batch Id: 4 | loss: 8.043| Timestamp 2020-02-14T22:08:21.858895\n",
      "END Batch Id: 5 | loss: 8.004| Timestamp 2020-02-14T22:08:24.052700\n",
      "END Batch Id: 6 | loss: 7.974| Timestamp 2020-02-14T22:08:26.251806\n",
      "END Batch Id: 7 | loss: 7.935| Timestamp 2020-02-14T22:08:28.460437\n",
      "END Batch Id: 8 | loss: 7.901| Timestamp 2020-02-14T22:08:30.660506\n",
      "END Batch Id: 9 | loss: 7.869| Timestamp 2020-02-14T22:08:32.870841\n",
      "END Batch Id: 10 | loss: 7.832| Timestamp 2020-02-14T22:08:35.077897\n",
      "END Batch Id: 11 | loss: 7.788| Timestamp 2020-02-14T22:08:37.279453\n",
      "Gradient overflow.  Skipping step, loss scaler 0 reducing loss scale to 32768.0\n",
      "END Batch Id: 12 | loss: 7.745| Timestamp 2020-02-14T22:08:39.478505\n",
      "END Batch Id: 13 | loss: 7.744| Timestamp 2020-02-14T22:08:41.689203\n",
      "END Batch Id: 14 | loss: 7.715| Timestamp 2020-02-14T22:08:43.905499\n",
      "END Batch Id: 15 | loss: 7.684| Timestamp 2020-02-14T22:08:46.108716\n",
      "END Batch Id: 16 | loss: 7.640| Timestamp 2020-02-14T22:08:48.320020\n",
      "END Batch Id: 17 | loss: 7.601| Timestamp 2020-02-14T22:08:50.524150\n",
      "END Batch Id: 18 | loss: 7.564| Timestamp 2020-02-14T22:08:52.737254\n",
      "END Batch Id: 19 | loss: 7.516| Timestamp 2020-02-14T22:08:54.948870\n",
      "END Batch Id: 20 | loss: 7.505| Timestamp 2020-02-14T22:08:57.159576\n",
      "END Batch Id: 21 | loss: 7.464| Timestamp 2020-02-14T22:08:59.371553\n",
      "END Batch Id: 22 | loss: 7.424| Timestamp 2020-02-14T22:09:01.584845\n",
      "END Batch Id: 23 | loss: 7.405| Timestamp 2020-02-14T22:09:03.798130\n",
      "END Batch Id: 24 | loss: 7.349| Timestamp 2020-02-14T22:09:06.011064\n",
      "END Batch Id: 25 | loss: 7.334| Timestamp 2020-02-14T22:09:08.230730\n",
      "END Batch Id: 26 | loss: 7.307| Timestamp 2020-02-14T22:09:10.447224\n",
      "END Batch Id: 27 | loss: 7.246| Timestamp 2020-02-14T22:09:12.656248\n",
      "END Batch Id: 28 | loss: 7.232| Timestamp 2020-02-14T22:09:14.865127\n",
      "END Batch Id: 29 | loss: 7.218| Timestamp 2020-02-14T22:09:17.076077\n",
      "END Batch Id: 30 | loss: 7.217| Timestamp 2020-02-14T22:09:19.287275\n",
      "END Batch Id: 31 | loss: 7.161| Timestamp 2020-02-14T22:09:21.501440\n",
      "END Batch Id: 32 | loss: 7.151| Timestamp 2020-02-14T22:09:23.712427\n",
      "Gradient overflow.  Skipping step, loss scaler 0 reducing loss scale to 16384.0\n",
      "END Batch Id: 33 | loss: 7.115| Timestamp 2020-02-14T22:09:25.934381\n",
      "END Batch Id: 34 | loss: 7.096| Timestamp 2020-02-14T22:09:28.148116\n",
      "END Batch Id: 35 | loss: 7.078| Timestamp 2020-02-14T22:09:30.357377\n",
      "END Batch Id: 36 | loss: 7.075| Timestamp 2020-02-14T22:09:32.580607\n",
      "END Batch Id: 37 | loss: 7.046| Timestamp 2020-02-14T22:09:34.806358\n",
      "END Batch Id: 38 | loss: 7.025| Timestamp 2020-02-14T22:09:37.030676\n",
      "END Batch Id: 39 | loss: 6.977| Timestamp 2020-02-14T22:09:39.249988\n",
      "END Batch Id: 40 | loss: 6.985| Timestamp 2020-02-14T22:09:41.466845\n",
      "END Batch Id: 41 | loss: 6.941| Timestamp 2020-02-14T22:09:43.679770\n",
      "END Batch Id: 42 | loss: 6.944| Timestamp 2020-02-14T22:09:45.892057\n",
      "END Batch Id: 43 | loss: 6.926| Timestamp 2020-02-14T22:09:48.114064\n",
      "END Batch Id: 44 | loss: 6.880| Timestamp 2020-02-14T22:09:50.327285\n",
      "END Batch Id: 45 | loss: 6.899| Timestamp 2020-02-14T22:09:52.539642\n",
      "END Batch Id: 46 | loss: 6.876| Timestamp 2020-02-14T22:09:54.754932\n",
      "END Batch Id: 47 | loss: 6.855| Timestamp 2020-02-14T22:09:56.970118\n",
      "END Batch Id: 48 | loss: 6.846| Timestamp 2020-02-14T22:09:59.184739\n",
      "END Batch Id: 49 | loss: 6.842| Timestamp 2020-02-14T22:10:01.406457\n",
      "END Batch Id: 50 | loss: 6.833| Timestamp 2020-02-14T22:10:03.622899\n",
      "END Batch Id: 51 | loss: 6.785| Timestamp 2020-02-14T22:10:05.838863\n",
      "END Batch Id: 52 | loss: 6.789| Timestamp 2020-02-14T22:10:08.057901\n",
      "END Batch Id: 53 | loss: 6.783| Timestamp 2020-02-14T22:10:10.272915\n",
      "END Batch Id: 54 | loss: 6.753| Timestamp 2020-02-14T22:10:12.493484\n",
      "END Batch Id: 55 | loss: 6.741| Timestamp 2020-02-14T22:10:14.716329\n",
      "END Batch Id: 56 | loss: 6.755| Timestamp 2020-02-14T22:10:16.936479\n",
      "END Batch Id: 57 | loss: 6.722| Timestamp 2020-02-14T22:10:19.150128\n",
      "END Batch Id: 58 | loss: 6.714| Timestamp 2020-02-14T22:10:21.366461\n",
      "END Batch Id: 59 | loss: 6.715| Timestamp 2020-02-14T22:10:23.581373\n",
      "END Batch Id: 60 | loss: 6.715| Timestamp 2020-02-14T22:10:25.808532\n",
      "END Batch Id: 61 | loss: 6.667| Timestamp 2020-02-14T22:10:28.021261\n",
      "END Batch Id: 62 | loss: 6.677| Timestamp 2020-02-14T22:10:30.238491\n",
      "END Batch Id: 63 | loss: 6.654| Timestamp 2020-02-14T22:10:32.460079\n"
     ]
    }
   ],
   "source": [
    "%%time\n",
    "main(model, train_files, test_files, codebook_path,\n",
    "#      batch_size=10, \n",
    "#      batch_size=175, # with opt_level=O1 this is the max\n",
    "     batch_size=185, # this one works with opt_level=O2\n",
    "#     optimizer='FusedAdam',  # Adam goes down really fast but then starts giving losses as NaN\n",
    "     optimizer='FusedLAMB',  # Fused lamb decreases slowly but steady and goes to better loss than Adam. Not found NaN (yet)\n",
    "#     optimizer='FusedNovoGrad', # is definetly the slowest one at the beginning, stabilizes at the worst value\n",
    "     opt_level='O2',\n",
    "     add_str_noise_to_input=True,\n",
    "     test_period=-1,  # No tests, as I don't know why they are not called ... FIXME\n",
    "#      checkpoint_period=10,\n",
    "     checkpoint_period=200,\n",
    "     checkpoint_path=\"/media/nfs/mix_nlp/checkpoints\"\n",
    "    )"
   ]
  },
  {
   "cell_type": "markdown",
   "metadata": {},
   "source": [
    "First complete with Lang Model try (interrupted for time things)\n",
    "\n",
    "    Batch Id: 1 | Timestamp 2020-02-14T16:49:10.407032\n",
    "    TEST Batch Id: 1 | Timestamp 2020-02-14T16:50:29.512620\n",
    "    TEST Batch Id: 62 | Timestamp 2020-02-14T18:11:37.447121\n",
    "    Batch Id: 1249 | Timestamp 2020-02-14T18:12:09.529383\n",
    "    "
   ]
  }
 ],
 "metadata": {
  "kernelspec": {
   "display_name": "Python 3",
   "language": "python",
   "name": "python3"
  },
  "language_info": {
   "codemirror_mode": {
    "name": "ipython",
    "version": 3
   },
   "file_extension": ".py",
   "mimetype": "text/x-python",
   "name": "python",
   "nbconvert_exporter": "python",
   "pygments_lexer": "ipython3",
   "version": "3.7.3"
  }
 },
 "nbformat": 4,
 "nbformat_minor": 4
}
