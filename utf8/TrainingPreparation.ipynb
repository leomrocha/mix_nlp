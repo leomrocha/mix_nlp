{
 "cells": [
  {
   "cell_type": "markdown",
   "metadata": {},
   "source": [
    "# Training Preparation\n",
    "\n",
    "This document states the goals for the training"
   ]
  },
  {
   "cell_type": "markdown",
   "metadata": {},
   "source": [
    "## Goals\n",
    "For the current work the training is focused in learning language representations for:\n",
    "* multi-lingual\n",
    "* multi-task\n",
    "* Text-to-Text (similar to T5 from DeepMind) \n",
    "\n",
    "With the goal of:\n",
    "\n",
    "* [Few-Shot|Zero-Shot] learning of new tasks\n",
    "* Zero-Shot translation for language pairs\n",
    "* Being able to add new knowledge without catastrophic forgetting\n",
    "\n",
    "The particularity of the trained model is that they are intended to be able to recognize and solve the given tasks solely from the description in the input. The models should be able to perform well enough without any retraining or fine-tunning. Any re-training or fine-tunning should also be able to be done without hindering (much?) the previously trained tasks.\n",
    "\n",
    "Also there is the important point to make that all this work focuses on having an input as RAW as possible (meaning no text normalization, separation, .... etc) and having NO Out of Vocabulary (OOV) input. So all the languages should be feasible as input.\n",
    "\n",
    "\n",
    "## Model Outputs\n",
    "\n",
    "Particularly the model should have multiple outputs being those the following:\n",
    "\n",
    "1. Origin Language (language detection) - Language Name (would be less confusing and more informative than code)\n",
    "~~2. Destination Language (the original one if none given) - Language Name~~\n",
    "~~3. Task Language (The language in which the task was described) - Language CODE (2 or 3 character code)~~\n",
    "4. The task at hand\n",
    "5. **The TARGET output** of the task for the current input\n",
    "\n",
    "~~5. PoS UPOS tagging ckech if needed or useful?~~\n"
   ]
  },
  {
   "cell_type": "markdown",
   "metadata": {},
   "source": [
    "## Training\n",
    "\n",
    "The current work follows the example of [ERNIE 2.0](https://arxiv.org/abs/1907.12412) in that uses supervised training to improve the performance. In that paper they show that supervised tasks allow better training than just Denoising LM target with unsupervised learning. \n",
    "In this work we leverage many other tasks and meta-learning to take advantage of existing mono and multi-lingual training datasets.\n",
    "\n",
    "The training will be done in the following stages:\n",
    "\n",
    "1. A general pre-training with many datapoints on all the tasks\n",
    "    - Evaluation on different validation sets\n",
    "2. A few-shot meta-learninig training based on the pre-trained weights\n",
    "    - Evaluation on different validation sets\n",
    "3. Add architectural changes to the network (parallel columns and memory) and train for tasks with the meta-learned \n",
    "    - Evaluation on different validation sets and tasks\n",
    "4. Overfit new input or input that fails -> create an entry in the memory for it.\n",
    "    - Evaluate\n",
    "5. ... ?\n",
    "\n",
    "\n",
    "The intuition between all this is:\n",
    " - Having a strong statistical baseline with many tasks\n",
    " - Meta-learning to be able to quickly learn new tasks\n",
    " - Use the few-shot learn ability to be able to add new knowledge in the memory as in [Large Memory Layers with Product Keys](https://arxiv.org/abs/1907.052420)"
   ]
  },
  {
   "cell_type": "markdown",
   "metadata": {},
   "source": [
    "##  Tasks\n",
    "\n",
    "The tasks to prepare for the training, many of these are intended solely for training and there is no interest in a validation dataset for these for comparison with other models as they are not available in the literature. The current work does not intend to add new tasks or metrics.\n",
    "\n",
    "The default task is to denoise and correct the input (if for example there are multiple spaces together, or diacritics missing, uppercases, etc).\n",
    "\n",
    "Many of the tasks can be taken from standard Text pre-processing tasks, the idea being here to use available weakly-supervised with minimal transformations in the input.\n",
    "\n",
    "The tasks can be separated into:\n",
    "\n",
    "### [Un|Weakly]-supervised\n",
    "\n",
    "* MLM (Masked Language Model) BERT|mBERT|BART|ERNIE training objective (TODO) \n",
    "* Denoising (see previous pont instead)\n",
    "* Capitalization\n",
    "* to-Lowercase\n",
    "* to-UPPERCASE\n",
    "* Add diacritics\n",
    "* Remove Diacritics\n",
    "* character shuffling, character deletion, character addition (close in vocab to the ones in the sentence), character duplication, ...\n",
    "~~* Text Normalization: [NFD|NFKC|...]~~ This is done before passing the text to the NN.\n",
    "\n",
    "\n",
    "### Supervised\n",
    "\n",
    "* [GLUE](https://gluebenchmark.com/)\n",
    "* [SuperGLUE](https://super.gluebenchmark.com/); [Paper](https://w4ngatang.github.io/static/papers/superglue.pdf) \n",
    "* Grammar tagging and recognition (PoS, NER, Dependency detection, ...) [UD-Treebank v2.5](https://universaldependencies.org/)\n",
    "* Translation [WikiMatrix](https://ai.facebook.com/blog/wikimatrix/); [Paper](https://arxiv.org/abs/1907.05791); [Github](https://github.com/facebookresearch/LASER/tree/master/tasks/WikiMatrix)\n",
    "* Language Detection (the goal would be to have this as an extra output)"
   ]
  },
  {
   "cell_type": "markdown",
   "metadata": {},
   "source": [
    "#### TODO but easy to make during data preparation:\n",
    "\n",
    "* Add accents to string in ASCII ,remove accents (for French, Spanish and other languages like these) .... [Answer in stackoverflow](https://stackoverflow.com/questions/517923/what-is-the-best-way-to-remove-accents-in-a-python-unicode-string) and [open science](https://www.science-emergence.com/Articles/How-to-remove-string-accents-using-python-3/) with [Gensim](https://radimrehurek.com/gensim/utils.html#gensim.utils.deaccent), should also do Remove Diacritics ...\n",
    "* Fill the placeholder (for example eliminate only one word and make it fill it ...?)"
   ]
  },
  {
   "cell_type": "markdown",
   "metadata": {},
   "source": [
    "#### TODO - prepare and do the following too:\n",
    "\n",
    "* Tatoeba:  Wikimatrix is nice but this one has different kind of phrases (questions, answers and some other things)\n",
    "* [EuroParliament](http://www.statmt.org/europarl/)\n",
    "* [Wikipedia Translation Dataset](http://opus.nlpl.eu/Wikipedia.php); [WikiExtractor](https://github.com/tatuylonen/wiktextract)\n",
    "* [ConceptNET](http://conceptnet.io/); [Github](https://github.com/commonsense/conceptnet5/wiki) \n",
    "* [Open Multilingual WordNet](http://compling.hss.ntu.edu.sg/omw/) and [Global WordNet Association](http://globalwordnet.org/resources/wordnets-in-the-world/)\n",
    "\n",
    "\n",
    "* Conjugate verbs for different languages -> do as with the language textbooks !!!\n",
    "* Give the dictionary definition of word ...\n",
    "\n",
    "\n",
    "While the starting datasets and tasks are given here, there are many others like multi-hop search and question answering that I would love to add later."
   ]
  },
  {
   "cell_type": "markdown",
   "metadata": {},
   "source": [
    "## Input Corruption techniques\n",
    "\n",
    "### BART pre-training details - Noise Generation Techniques:\n",
    "\n",
    "* Token Masking\n",
    "* Token Deletion\n",
    "* Tex Infilling\n",
    "~~* Sentence Permutation~~ Can't use in the current setting, need more dev for this\n",
    "~~* Document Rotation~~ Can't use in the current setting, need more dev for this\n",
    "\n",
    "### Other Techniques\n",
    "* Explained \n",
    "\n",
    "### Add a noise layer every N layers in the NN\n",
    "\n",
    "TODO, this is a technique that should be tested too, this might be enough for another paper\n",
    "\n",
    "There is one on that subject: [Adaptive Noise Injection: A Structure-Expanding Regularization for RNN](https://arxiv.org/abs/1907.10885)"
   ]
  },
  {
   "cell_type": "markdown",
   "metadata": {},
   "source": [
    "## Neural Networks to test\n",
    "\n",
    "The Neural Networks to test will be the following:\n",
    "\n",
    "* Vanilla CNN (autoencoder like, non seq2seq but the input length can change if fully convolutional), this is for easy baseline\n",
    "* ~~Vanilla LSTM ?? -> might be slow/heavy to train~~\n",
    "* Vanilla Transformer Encoder only (non seq2seq)\n",
    "* Vanilla Transformer Decoder only (non seq2seq??)\n",
    "* Transformer (Encoder-Decoder Seq2Seq architecture - limit the number of parameters here, to study)\n",
    "* [Reformer: The Efficient Transformer](https://arxiv.org/abs/2001.04451)\n",
    "* Hybrid Seq2Seq (description below - goal to cut as many params as possible and ):\n",
    "    - CNN + Light Dynamic Convolutions at input level  (if possible compress the time dimension)\n",
    "    - Encoder [Transformer|Reformer] layers With Large Memory \n",
    "    - Decoder [Transformer|Reformer] Layers with Large Memory\n",
    "    - Deconv CNN +  Light Dynamic Convolution (to decompress the input time dimension into tokens)\n",
    "\n",
    "\n",
    "### Modifications to network and training\n",
    "\n",
    "All networks should also test the following modifications (though I incline myself to just do it in the hybrid architecture due to expense) \n",
    "\n",
    "* Use REPTILE (better for rsource usage than MAML) for meta-training\n",
    "* Use Plastic (hebbian?) + Modulated Plastic meta-learning\n",
    "* Use NeuralDB\n",
    "* Use Overfitting for new tasks and for examples where there are errors, overfit in a new memory position and later do attention over the memory outputs\n",
    "* The encoder just as a circular convolution of the inputs instead of making some comples NN ?? \n",
    "* Use [The Evolved Transformer](https://arxiv.org/abs/1901.11117) instead of the base Transformer (need to be implemented in pytorch)\n",
    "* Use Relative Positional Encoding and keeping past activations from TransformerXL\n",
    "* Use Compressive Transformers' ideas\n",
    "\n",
    "\n",
    "After finding a couple of AMAZING papers from google The goal should be to work on:\n",
    "* [Universal Transformers](https://arxiv.org/abs/1807.03819)\n",
    "* [MEMO: A Deep Network for Flexible Combination of Episodic Memories](https://arxiv.org/abs/2001.10913)\n",
    "\n",
    "And try to make from these two (adding circular convolution compression and/or/ reptile and plasticity) the NeuralDB"
   ]
  },
  {
   "cell_type": "markdown",
   "metadata": {},
   "source": [
    "## Evaluation Tasks and Metrics\n",
    "\n",
    "The tasks that will be given importance at the validation moment and should be used for comparison with other SoTA models available in the literature.\n",
    "\n",
    "* GLUE: standard by the site's validation set\n",
    "* SuperGLUE: standard by the site's validation set\n",
    "* Translation [BLEU](https://en.wikipedia.org/wiki/BLEU), [F-Score](https://en.wikipedia.org/wiki/F1_score), [ROUGE](https://en.wikipedia.org/wiki/F1_score) ... ?\n"
   ]
  },
  {
   "cell_type": "markdown",
   "metadata": {},
   "source": [
    "## Architecture Description and decisions\n",
    "\n",
    "\n",
    "* As with [BART](https://arxiv.org/pdf/1910.13461.pdf) use a *Bidirectional Encoder* with an *Autoregressive Decoder* \n",
    "\n",
    "* The model will be a Seq2Seq based on the transformer architecture, the input and output sizes should be of dynamic dimension. The input dimension, if possible will be compressed by the network (example, from an original input of 1024 go to a dimension of 384 or 256).\n",
    "* The dimensions will be divisible by 2, and mostly power of 2\n",
    "\n",
    "* The model will have as an input a character level of 128 dimensions based on 3-segment UTF-8 text encoder developed previously by the same author. No OOV characters should exist for most languages and input types (only emojis and extended lost languages as egyptian will not be represented, all that is represented by the 4th segment on the UTF-8 encoding, the last code-point used will be U+FFFF). This is to be able to encode most (if not all) the languages in the available datasets for the current work. Using a 2-segment based coding for utf-8 would be much more memory and processor savy but would leave JCK languages OOV which we don't want.\n",
    "\n",
    "* The decoding from vector to text will be done at character-level based on the [FAISS facebook's library](https://github.com/facebookresearch/faiss)"
   ]
  },
  {
   "cell_type": "markdown",
   "metadata": {},
   "source": [
    "## Training Tools\n",
    "\n",
    "* Development in PyTorch (easiest for research and the one the authors know best)\n",
    "* Tensorboard with torch-tensorboard to check during training\n",
    "* Mixed Precision training with [NVIDIA Apex](https://github.com/NVIDIA/apex)\n",
    "\n",
    "## Training Techniques:\n",
    "\n",
    "Most of the issues in training will be due to memory, so for this there are the following techniques to use:\n",
    "\n",
    "* [Gradient Checkpointing](https://arxiv.org/abs/1604.06174); [Fitting larger networks into memory.\n",
    "](https://medium.com/tensorflow/fitting-larger-networks-into-memory-583e3c758ff9) in [Pytorch](https://qywu.github.io/2019/05/22/explore-gradient-checkpointing.html)\n",
    "* [Reformer - Google](https://arxiv.org/pdf/2001.04451.pdf)\n",
    "* [Reversible Residual Network: Backpropagation Without Storing Activations](https://arxiv.org/abs/1707.04585) [some](https://github.com/tbung/pytorch-revnet) [sources](https://github.com/renmengye/revnet-public)\n"
   ]
  },
  {
   "cell_type": "markdown",
   "metadata": {},
   "source": [
    "## Limitations and Specifications\n",
    "\n",
    "The entire development, pre-processing and training is to be limited to the following software and HW:\n",
    "\n",
    "    System Ubuntu 19.04\n",
    "    Python 3.7\n",
    "    PyTorch+=1.4\n",
    "\n",
    "\n",
    "    CPU = 8 core intel i7700\n",
    "    GPU_1 = RTX 2080 Ti - 11GB RAM\n",
    "    GPU_2 = GTX 1080 - 8 GB RAM ( -1GB for the system that uses it)\n",
    "    RAM = 64 GB\n",
    "    Local Disk =  1TB NVMe\n",
    "    Remote NFS mounted = RAID1 4TB (on Raspberry-PI 4+ 4GB) \n"
   ]
  },
  {
   "cell_type": "markdown",
   "metadata": {},
   "source": [
    "### Byte Pair Encoding\n",
    "\n",
    "Although feasible with the proposed encoding, [BPE](https://en.wikipedia.org/wiki/Byte_pair_encoding) compression will not be dealt with in the current and is left as future work. The posibilities for BPE are:\n",
    " * Circular Convolution (in the given order) <- I would bet for this encoding type: in pytorch is with padding_type = circular\n",
    " * Additive (although this one can be a problem)\n",
    " * Other ...."
   ]
  },
  {
   "cell_type": "code",
   "execution_count": 1,
   "metadata": {},
   "outputs": [
    {
     "name": "stderr",
     "output_type": "stream",
     "text": [
      "/home/leo/venv3/lib/python3.7/site-packages/tensorboard/compat/tensorflow_stub/dtypes.py:541: FutureWarning: Passing (type, 1) or '1type' as a synonym of type is deprecated; in a future version of numpy, it will be understood as (type, (1,)) / '(1,)type'.\n",
      "  _np_qint8 = np.dtype([(\"qint8\", np.int8, 1)])\n",
      "/home/leo/venv3/lib/python3.7/site-packages/tensorboard/compat/tensorflow_stub/dtypes.py:542: FutureWarning: Passing (type, 1) or '1type' as a synonym of type is deprecated; in a future version of numpy, it will be understood as (type, (1,)) / '(1,)type'.\n",
      "  _np_quint8 = np.dtype([(\"quint8\", np.uint8, 1)])\n",
      "/home/leo/venv3/lib/python3.7/site-packages/tensorboard/compat/tensorflow_stub/dtypes.py:543: FutureWarning: Passing (type, 1) or '1type' as a synonym of type is deprecated; in a future version of numpy, it will be understood as (type, (1,)) / '(1,)type'.\n",
      "  _np_qint16 = np.dtype([(\"qint16\", np.int16, 1)])\n",
      "/home/leo/venv3/lib/python3.7/site-packages/tensorboard/compat/tensorflow_stub/dtypes.py:544: FutureWarning: Passing (type, 1) or '1type' as a synonym of type is deprecated; in a future version of numpy, it will be understood as (type, (1,)) / '(1,)type'.\n",
      "  _np_quint16 = np.dtype([(\"quint16\", np.uint16, 1)])\n",
      "/home/leo/venv3/lib/python3.7/site-packages/tensorboard/compat/tensorflow_stub/dtypes.py:545: FutureWarning: Passing (type, 1) or '1type' as a synonym of type is deprecated; in a future version of numpy, it will be understood as (type, (1,)) / '(1,)type'.\n",
      "  _np_qint32 = np.dtype([(\"qint32\", np.int32, 1)])\n",
      "/home/leo/venv3/lib/python3.7/site-packages/tensorboard/compat/tensorflow_stub/dtypes.py:550: FutureWarning: Passing (type, 1) or '1type' as a synonym of type is deprecated; in a future version of numpy, it will be understood as (type, (1,)) / '(1,)type'.\n",
      "  np_resource = np.dtype([(\"resource\", np.ubyte, 1)])\n"
     ]
    }
   ],
   "source": [
    "import torch\n",
    "from models import *\n",
    "from trainer_helpers import *\n",
    "from data_loader import *\n",
    "# from prepare_data import *\n",
    "from utils import *\n",
    "from tools import *"
   ]
  },
  {
   "cell_type": "code",
   "execution_count": 2,
   "metadata": {},
   "outputs": [],
   "source": [
    "BASE_PATH = '/home/leo/projects/Datasets/text/selected_monofile/partitions'\n",
    "\n",
    "fpaths = get_all_files_recurse(BASE_PATH) \n",
    "\n",
    "train_files = [f for f in fpaths if 'train' in f]\n",
    "dev_files = [f for f in fpaths if 'dev' in f]\n",
    "valid_files = [f for f in fpaths if 'valid' in f]\n",
    "\n",
    "train_files = train_glue_files = [f for f in train_files if 'glue-' in f]\n",
    "test_files = dev_glue_files = [f for f in dev_files if 'glue-' in f]"
   ]
  },
  {
   "cell_type": "code",
   "execution_count": 3,
   "metadata": {},
   "outputs": [],
   "source": [
    "codebook_name = \"codes/adhoc-codebook-1871.pkl\"\n",
    "import pickle\n",
    "codebook_path = '/home/leo/projects/mix_nlp/utf8/codes/adhoc-codebook-1871.pkl'\n",
    "f = open(codebook_path, 'rb')\n",
    "codebook, char2int, int2char = pickle.load(f)"
   ]
  },
  {
   "cell_type": "code",
   "execution_count": 4,
   "metadata": {},
   "outputs": [],
   "source": [
    "device = torch.device(\"cuda:0\" if torch.cuda.is_available() else \"cpu\")\n",
    "model = ConvModel(codebook)"
   ]
  },
  {
   "cell_type": "code",
   "execution_count": 5,
   "metadata": {},
   "outputs": [
    {
     "data": {
      "text/plain": [
       "(14731282, 14731282)"
      ]
     },
     "execution_count": 5,
     "metadata": {},
     "output_type": "execute_result"
    }
   ],
   "source": [
    "count_parameters(model), count_trainable_parameters(model)"
   ]
  },
  {
   "cell_type": "code",
   "execution_count": 6,
   "metadata": {},
   "outputs": [
    {
     "data": {
      "text/plain": [
       "device(type='cuda', index=0)"
      ]
     },
     "execution_count": 6,
     "metadata": {},
     "output_type": "execute_result"
    }
   ],
   "source": [
    "device"
   ]
  },
  {
   "cell_type": "code",
   "execution_count": 7,
   "metadata": {
    "scrolled": true
   },
   "outputs": [],
   "source": [
    "model = model.to(device)"
   ]
  },
  {
   "cell_type": "code",
   "execution_count": 8,
   "metadata": {},
   "outputs": [
    {
     "name": "stdout",
     "output_type": "stream",
     "text": [
      "Selected optimization level O1:  Insert automatic casts around Pytorch functions and Tensor methods.\n",
      "\n",
      "Defaults for this optimization level are:\n",
      "enabled                : True\n",
      "opt_level              : O1\n",
      "cast_model_type        : None\n",
      "patch_torch_functions  : True\n",
      "keep_batchnorm_fp32    : None\n",
      "master_weights         : None\n",
      "loss_scale             : dynamic\n",
      "Processing user overrides (additional kwargs that are not None)...\n",
      "After processing overrides, optimization options are:\n",
      "enabled                : True\n",
      "opt_level              : O1\n",
      "cast_model_type        : None\n",
      "patch_torch_functions  : True\n",
      "keep_batchnorm_fp32    : None\n",
      "master_weights         : None\n",
      "loss_scale             : dynamic\n",
      "<torch.utils.data.dataloader.DataLoader object at 0x7fdd2c0869e8>\n",
      "Batch Id: 1 | Timestamp 2020-02-14T16:31:33.209036\n"
     ]
    },
    {
     "name": "stderr",
     "output_type": "stream",
     "text": [
      "/home/leo/venv3/lib/python3.7/site-packages/torch/nn/functional.py:1351: UserWarning: nn.functional.sigmoid is deprecated. Use torch.sigmoid instead.\n",
      "  warnings.warn(\"nn.functional.sigmoid is deprecated. Use torch.sigmoid instead.\")\n"
     ]
    },
    {
     "name": "stdout",
     "output_type": "stream",
     "text": [
      "Batch Id: 2 | Timestamp 2020-02-14T16:31:33.478747\n",
      "Batch Id: 3 | Timestamp 2020-02-14T16:31:33.723234\n",
      "Batch Id: 4 | Timestamp 2020-02-14T16:31:33.970645\n",
      "Batch Id: 5 | Timestamp 2020-02-14T16:31:34.215212\n",
      "Batch Id: 6 | Timestamp 2020-02-14T16:31:34.460362\n",
      "Batch Id: 7 | Timestamp 2020-02-14T16:31:34.705776\n",
      "Batch Id: 8 | Timestamp 2020-02-14T16:31:34.949640\n",
      "Batch Id: 9 | Timestamp 2020-02-14T16:31:35.193900\n",
      "Batch Id: 10 | Timestamp 2020-02-14T16:31:35.437898\n",
      "Batch Id: 11 | Timestamp 2020-02-14T16:31:35.682415\n",
      "Batch Id: 12 | Timestamp 2020-02-14T16:31:35.926850\n",
      "Batch Id: 13 | Timestamp 2020-02-14T16:31:36.172954\n",
      "Batch Id: 14 | Timestamp 2020-02-14T16:31:36.421058\n",
      "Batch Id: 15 | Timestamp 2020-02-14T16:31:36.665289\n",
      "Batch Id: 16 | Timestamp 2020-02-14T16:31:36.909049\n",
      "Batch Id: 17 | Timestamp 2020-02-14T16:31:37.153729\n",
      "Batch Id: 18 | Timestamp 2020-02-14T16:31:37.399357\n",
      "Batch Id: 19 | Timestamp 2020-02-14T16:31:37.644213\n",
      "Batch Id: 20 | Timestamp 2020-02-14T16:31:37.887863\n",
      "TEST Batch Id: 1 | Timestamp 2020-02-14T16:31:38.133846\n"
     ]
    },
    {
     "ename": "FileNotFoundError",
     "evalue": "[Errno 2] No such file or directory: 'checkpoint/amp-checkpoint_opt-O1_2020-02-14T16:31:38.406750.pt'",
     "output_type": "error",
     "traceback": [
      "\u001b[0;31m---------------------------------------------------------------------------\u001b[0m",
      "\u001b[0;31mFileNotFoundError\u001b[0m                         Traceback (most recent call last)",
      "\u001b[0;32m<ipython-input-8-af602fa04782>\u001b[0m in \u001b[0;36m<module>\u001b[0;34m\u001b[0m\n\u001b[0;32m----> 1\u001b[0;31m \u001b[0mmain\u001b[0m\u001b[0;34m(\u001b[0m\u001b[0mmodel\u001b[0m\u001b[0;34m,\u001b[0m \u001b[0mtrain_glue_files\u001b[0m\u001b[0;34m,\u001b[0m \u001b[0mdev_glue_files\u001b[0m\u001b[0;34m,\u001b[0m \u001b[0mcodebook_path\u001b[0m\u001b[0;34m)\u001b[0m\u001b[0;34m\u001b[0m\u001b[0;34m\u001b[0m\u001b[0m\n\u001b[0m",
      "\u001b[0;32m~/projects/mix_nlp/utf8/trainer_helpers.py\u001b[0m in \u001b[0;36mmain\u001b[0;34m(model, train_files, test_files, codebook_file, batch_size, num_workers, max_seq_len, add_noise_to_task, optimizer, lr, betas, eps, weight_decay, amsgrad, adam_w_mode, max_grad_norm)\u001b[0m\n\u001b[1;32m     90\u001b[0m \u001b[0;34m\u001b[0m\u001b[0m\n\u001b[1;32m     91\u001b[0m     \u001b[0mcriterion\u001b[0m \u001b[0;34m=\u001b[0m \u001b[0mloss_txt2txt_multi\u001b[0m\u001b[0;34m\u001b[0m\u001b[0;34m\u001b[0m\u001b[0m\n\u001b[0;32m---> 92\u001b[0;31m     \u001b[0mtrain_main\u001b[0m\u001b[0;34m(\u001b[0m\u001b[0mmodel\u001b[0m\u001b[0;34m,\u001b[0m \u001b[0moptimizer\u001b[0m\u001b[0;34m,\u001b[0m \u001b[0mtrain_data_loader\u001b[0m\u001b[0;34m,\u001b[0m \u001b[0mtest_data_loader\u001b[0m\u001b[0;34m,\u001b[0m \u001b[0mcriterion\u001b[0m\u001b[0;34m,\u001b[0m \u001b[0mnoise_in_task\u001b[0m\u001b[0;34m=\u001b[0m\u001b[0madd_noise_to_task\u001b[0m\u001b[0;34m)\u001b[0m\u001b[0;34m\u001b[0m\u001b[0;34m\u001b[0m\u001b[0m\n\u001b[0m\u001b[1;32m     93\u001b[0m \u001b[0;34m\u001b[0m\u001b[0m\n\u001b[1;32m     94\u001b[0m \u001b[0;34m\u001b[0m\u001b[0m\n",
      "\u001b[0;32m~/projects/mix_nlp/utf8/trainer_helpers.py\u001b[0m in \u001b[0;36mtrain_main\u001b[0;34m(model, optimizer, train_data_loader, test_data_loader, criterion, noise_in_task, opt_level, test_period, checkpoint_path)\u001b[0m\n\u001b[1;32m    134\u001b[0m             \u001b[0mdtime\u001b[0m \u001b[0;34m=\u001b[0m \u001b[0mdatetime\u001b[0m\u001b[0;34m.\u001b[0m\u001b[0mnow\u001b[0m\u001b[0;34m(\u001b[0m\u001b[0;34m)\u001b[0m\u001b[0;34m.\u001b[0m\u001b[0misoformat\u001b[0m\u001b[0;34m(\u001b[0m\u001b[0;34m)\u001b[0m\u001b[0;34m\u001b[0m\u001b[0;34m\u001b[0m\u001b[0m\n\u001b[1;32m    135\u001b[0m             \u001b[0mcp_name\u001b[0m \u001b[0;34m=\u001b[0m \u001b[0mos\u001b[0m\u001b[0;34m.\u001b[0m\u001b[0mpath\u001b[0m\u001b[0;34m.\u001b[0m\u001b[0mjoin\u001b[0m\u001b[0;34m(\u001b[0m\u001b[0mcheckpoint_path\u001b[0m\u001b[0;34m,\u001b[0m \u001b[0;34m\"amp-checkpoint_opt-{}_{}.pt\"\u001b[0m\u001b[0;34m.\u001b[0m\u001b[0mformat\u001b[0m\u001b[0;34m(\u001b[0m\u001b[0mopt_level\u001b[0m\u001b[0;34m,\u001b[0m \u001b[0mdtime\u001b[0m\u001b[0;34m)\u001b[0m\u001b[0;34m)\u001b[0m\u001b[0;34m\u001b[0m\u001b[0;34m\u001b[0m\u001b[0m\n\u001b[0;32m--> 136\u001b[0;31m             \u001b[0mtorch\u001b[0m\u001b[0;34m.\u001b[0m\u001b[0msave\u001b[0m\u001b[0;34m(\u001b[0m\u001b[0mcheckpoint\u001b[0m\u001b[0;34m,\u001b[0m \u001b[0mcp_name\u001b[0m\u001b[0;34m)\u001b[0m\u001b[0;34m\u001b[0m\u001b[0;34m\u001b[0m\u001b[0m\n\u001b[0m\u001b[1;32m    137\u001b[0m         \u001b[0mbatch_count\u001b[0m \u001b[0;34m+=\u001b[0m \u001b[0;36m1\u001b[0m\u001b[0;34m\u001b[0m\u001b[0;34m\u001b[0m\u001b[0m\n\u001b[1;32m    138\u001b[0m \u001b[0;34m\u001b[0m\u001b[0m\n",
      "\u001b[0;32m~/venv3/lib/python3.7/site-packages/torch/serialization.py\u001b[0m in \u001b[0;36msave\u001b[0;34m(obj, f, pickle_module, pickle_protocol, _use_new_zipfile_serialization)\u001b[0m\n\u001b[1;32m    325\u001b[0m             \u001b[0;32mreturn\u001b[0m\u001b[0;34m\u001b[0m\u001b[0;34m\u001b[0m\u001b[0m\n\u001b[1;32m    326\u001b[0m \u001b[0;34m\u001b[0m\u001b[0m\n\u001b[0;32m--> 327\u001b[0;31m     \u001b[0;32mwith\u001b[0m \u001b[0m_open_file_like\u001b[0m\u001b[0;34m(\u001b[0m\u001b[0mf\u001b[0m\u001b[0;34m,\u001b[0m \u001b[0;34m'wb'\u001b[0m\u001b[0;34m)\u001b[0m \u001b[0;32mas\u001b[0m \u001b[0mopened_file\u001b[0m\u001b[0;34m:\u001b[0m\u001b[0;34m\u001b[0m\u001b[0;34m\u001b[0m\u001b[0m\n\u001b[0m\u001b[1;32m    328\u001b[0m         \u001b[0m_legacy_save\u001b[0m\u001b[0;34m(\u001b[0m\u001b[0mobj\u001b[0m\u001b[0;34m,\u001b[0m \u001b[0mopened_file\u001b[0m\u001b[0;34m,\u001b[0m \u001b[0mpickle_module\u001b[0m\u001b[0;34m,\u001b[0m \u001b[0mpickle_protocol\u001b[0m\u001b[0;34m)\u001b[0m\u001b[0;34m\u001b[0m\u001b[0;34m\u001b[0m\u001b[0m\n\u001b[1;32m    329\u001b[0m \u001b[0;34m\u001b[0m\u001b[0m\n",
      "\u001b[0;32m~/venv3/lib/python3.7/site-packages/torch/serialization.py\u001b[0m in \u001b[0;36m_open_file_like\u001b[0;34m(name_or_buffer, mode)\u001b[0m\n\u001b[1;32m    210\u001b[0m \u001b[0;32mdef\u001b[0m \u001b[0m_open_file_like\u001b[0m\u001b[0;34m(\u001b[0m\u001b[0mname_or_buffer\u001b[0m\u001b[0;34m,\u001b[0m \u001b[0mmode\u001b[0m\u001b[0;34m)\u001b[0m\u001b[0;34m:\u001b[0m\u001b[0;34m\u001b[0m\u001b[0;34m\u001b[0m\u001b[0m\n\u001b[1;32m    211\u001b[0m     \u001b[0;32mif\u001b[0m \u001b[0m_is_path\u001b[0m\u001b[0;34m(\u001b[0m\u001b[0mname_or_buffer\u001b[0m\u001b[0;34m)\u001b[0m\u001b[0;34m:\u001b[0m\u001b[0;34m\u001b[0m\u001b[0;34m\u001b[0m\u001b[0m\n\u001b[0;32m--> 212\u001b[0;31m         \u001b[0;32mreturn\u001b[0m \u001b[0m_open_file\u001b[0m\u001b[0;34m(\u001b[0m\u001b[0mname_or_buffer\u001b[0m\u001b[0;34m,\u001b[0m \u001b[0mmode\u001b[0m\u001b[0;34m)\u001b[0m\u001b[0;34m\u001b[0m\u001b[0;34m\u001b[0m\u001b[0m\n\u001b[0m\u001b[1;32m    213\u001b[0m     \u001b[0;32melse\u001b[0m\u001b[0;34m:\u001b[0m\u001b[0;34m\u001b[0m\u001b[0;34m\u001b[0m\u001b[0m\n\u001b[1;32m    214\u001b[0m         \u001b[0;32mif\u001b[0m \u001b[0;34m'w'\u001b[0m \u001b[0;32min\u001b[0m \u001b[0mmode\u001b[0m\u001b[0;34m:\u001b[0m\u001b[0;34m\u001b[0m\u001b[0;34m\u001b[0m\u001b[0m\n",
      "\u001b[0;32m~/venv3/lib/python3.7/site-packages/torch/serialization.py\u001b[0m in \u001b[0;36m__init__\u001b[0;34m(self, name, mode)\u001b[0m\n\u001b[1;32m    191\u001b[0m \u001b[0;32mclass\u001b[0m \u001b[0m_open_file\u001b[0m\u001b[0;34m(\u001b[0m\u001b[0m_opener\u001b[0m\u001b[0;34m)\u001b[0m\u001b[0;34m:\u001b[0m\u001b[0;34m\u001b[0m\u001b[0;34m\u001b[0m\u001b[0m\n\u001b[1;32m    192\u001b[0m     \u001b[0;32mdef\u001b[0m \u001b[0m__init__\u001b[0m\u001b[0;34m(\u001b[0m\u001b[0mself\u001b[0m\u001b[0;34m,\u001b[0m \u001b[0mname\u001b[0m\u001b[0;34m,\u001b[0m \u001b[0mmode\u001b[0m\u001b[0;34m)\u001b[0m\u001b[0;34m:\u001b[0m\u001b[0;34m\u001b[0m\u001b[0;34m\u001b[0m\u001b[0m\n\u001b[0;32m--> 193\u001b[0;31m         \u001b[0msuper\u001b[0m\u001b[0;34m(\u001b[0m\u001b[0m_open_file\u001b[0m\u001b[0;34m,\u001b[0m \u001b[0mself\u001b[0m\u001b[0;34m)\u001b[0m\u001b[0;34m.\u001b[0m\u001b[0m__init__\u001b[0m\u001b[0;34m(\u001b[0m\u001b[0mopen\u001b[0m\u001b[0;34m(\u001b[0m\u001b[0mname\u001b[0m\u001b[0;34m,\u001b[0m \u001b[0mmode\u001b[0m\u001b[0;34m)\u001b[0m\u001b[0;34m)\u001b[0m\u001b[0;34m\u001b[0m\u001b[0;34m\u001b[0m\u001b[0m\n\u001b[0m\u001b[1;32m    194\u001b[0m \u001b[0;34m\u001b[0m\u001b[0m\n\u001b[1;32m    195\u001b[0m     \u001b[0;32mdef\u001b[0m \u001b[0m__exit__\u001b[0m\u001b[0;34m(\u001b[0m\u001b[0mself\u001b[0m\u001b[0;34m,\u001b[0m \u001b[0;34m*\u001b[0m\u001b[0margs\u001b[0m\u001b[0;34m)\u001b[0m\u001b[0;34m:\u001b[0m\u001b[0;34m\u001b[0m\u001b[0;34m\u001b[0m\u001b[0m\n",
      "\u001b[0;31mFileNotFoundError\u001b[0m: [Errno 2] No such file or directory: 'checkpoint/amp-checkpoint_opt-O1_2020-02-14T16:31:38.406750.pt'"
     ]
    }
   ],
   "source": [
    "main(model, train_glue_files, dev_glue_files, codebook_path)"
   ]
  },
  {
   "cell_type": "code",
   "execution_count": null,
   "metadata": {},
   "outputs": [],
   "source": []
  }
 ],
 "metadata": {
  "kernelspec": {
   "display_name": "Python 3",
   "language": "python",
   "name": "python3"
  },
  "language_info": {
   "codemirror_mode": {
    "name": "ipython",
    "version": 3
   },
   "file_extension": ".py",
   "mimetype": "text/x-python",
   "name": "python",
   "nbconvert_exporter": "python",
   "pygments_lexer": "ipython3",
   "version": "3.7.3"
  }
 },
 "nbformat": 4,
 "nbformat_minor": 4
}
