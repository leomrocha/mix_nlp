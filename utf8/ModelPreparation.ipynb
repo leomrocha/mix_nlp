{
 "cells": [
  {
   "cell_type": "markdown",
   "metadata": {},
   "source": [
    "# Model Preparation\n",
    "\n",
    "This notebook is dedicated at exploring some models, number of parameters, complexities, etc."
   ]
  },
  {
   "cell_type": "code",
   "execution_count": 1,
   "metadata": {},
   "outputs": [],
   "source": [
    "import numpy as np\n",
    "import os\n",
    "import sys\n",
    "import torch\n",
    "import torch.nn as nn\n",
    "from torch.nn import functional as F\n",
    "import thop\n"
   ]
  },
  {
   "cell_type": "code",
   "execution_count": 2,
   "metadata": {},
   "outputs": [],
   "source": [
    "from model_blocks import *\n",
    "from models import *\n",
    "from utils import *\n",
    "from tools import *"
   ]
  },
  {
   "cell_type": "code",
   "execution_count": 3,
   "metadata": {},
   "outputs": [],
   "source": [
    "from apex import amp"
   ]
  },
  {
   "cell_type": "code",
   "execution_count": 4,
   "metadata": {},
   "outputs": [],
   "source": [
    "device = torch.device(\"cuda:0\" if torch.cuda.is_available() else \"cpu\")"
   ]
  },
  {
   "cell_type": "code",
   "execution_count": 5,
   "metadata": {},
   "outputs": [],
   "source": [
    "mixedblock = MixtureEncoderBlock().to(device)"
   ]
  },
  {
   "cell_type": "code",
   "execution_count": 6,
   "metadata": {},
   "outputs": [
    {
     "data": {
      "text/plain": [
       "(3467520, 3467520)"
      ]
     },
     "execution_count": 6,
     "metadata": {},
     "output_type": "execute_result"
    }
   ],
   "source": [
    "count_parameters(mixedblock), count_trainable_parameters(mixedblock)"
   ]
  },
  {
   "cell_type": "code",
   "execution_count": 7,
   "metadata": {},
   "outputs": [
    {
     "data": {
      "text/plain": [
       "(3467520, 3467520)"
      ]
     },
     "execution_count": 7,
     "metadata": {},
     "output_type": "execute_result"
    }
   ],
   "source": [
    "count_parameters(mixedblock), count_trainable_parameters(mixedblock)"
   ]
  },
  {
   "cell_type": "code",
   "execution_count": 8,
   "metadata": {},
   "outputs": [],
   "source": [
    "# invect = torch.randint(0,2**10, (1024, 2048))\n",
    "# invect = torch.randn((240, 2048, 192)).to(device) # 240 as batch size is the MAX it supports there in my memory... \n",
    "invect = torch.randn((24, 2048, 256)).to(device) "
   ]
  },
  {
   "cell_type": "code",
   "execution_count": 9,
   "metadata": {
    "scrolled": true
   },
   "outputs": [],
   "source": [
    "# %time macs, flops = thop.profile(mixedblock, inputs=(invect,))"
   ]
  },
  {
   "cell_type": "code",
   "execution_count": 10,
   "metadata": {},
   "outputs": [],
   "source": [
    "# macs, flops"
   ]
  },
  {
   "cell_type": "code",
   "execution_count": 11,
   "metadata": {
    "scrolled": true
   },
   "outputs": [],
   "source": [
    "# mixedblock(invect)"
   ]
  },
  {
   "cell_type": "code",
   "execution_count": 12,
   "metadata": {},
   "outputs": [],
   "source": [
    "# macs, flops"
   ]
  },
  {
   "cell_type": "code",
   "execution_count": 13,
   "metadata": {},
   "outputs": [],
   "source": [
    "codebook_name = \"codes/adhoc-codebook-1871.pkl\"\n",
    "import pickle\n",
    "codebook_path = '/home/leo/projects/mix_nlp/utf8/codes/adhoc-codebook-1871.pkl'\n",
    "f = open(codebook_path, 'rb')\n",
    "codebook, char2int, int2char = pickle.load(f)\n",
    "cm = ConvModel(codebook).to(device)"
   ]
  },
  {
   "cell_type": "code",
   "execution_count": 14,
   "metadata": {},
   "outputs": [],
   "source": [
    "# cm.embeds.requires_grad=False"
   ]
  },
  {
   "cell_type": "code",
   "execution_count": 15,
   "metadata": {},
   "outputs": [
    {
     "data": {
      "text/plain": [
       "(14731282, 14551666)"
      ]
     },
     "execution_count": 15,
     "metadata": {},
     "output_type": "execute_result"
    }
   ],
   "source": [
    "count_parameters(cm), count_trainable_parameters(cm)"
   ]
  },
  {
   "cell_type": "code",
   "execution_count": 16,
   "metadata": {},
   "outputs": [],
   "source": [
    "# cm.embeds.requires_grad_(False)"
   ]
  },
  {
   "cell_type": "code",
   "execution_count": 17,
   "metadata": {
    "scrolled": true
   },
   "outputs": [
    {
     "name": "stderr",
     "output_type": "stream",
     "text": [
      "Either .total_ops or .total_params is already defined in Conv1d(512, 1024, kernel_size=(1,), stride=(1,)). Be careful, it might change your code's behavior.\n",
      "Either .total_ops or .total_params is already defined in Conv1d(512, 1024, kernel_size=(3,), stride=(1,), padding=(1,), groups=4). Be careful, it might change your code's behavior.\n",
      "Either .total_ops or .total_params is already defined in Conv1d(1024, 1024, kernel_size=(3,), stride=(1,), padding=(1,), groups=4). Be careful, it might change your code's behavior.\n",
      "Either .total_ops or .total_params is already defined in Conv1d(1024, 1024, kernel_size=(3,), stride=(1,), padding=(1,), groups=4). Be careful, it might change your code's behavior.\n",
      "Either .total_ops or .total_params is already defined in Dropout(p=0.3, inplace=False). Be careful, it might change your code's behavior.\n",
      "Either .total_ops or .total_params is already defined in Conv1d(1024, 1024, kernel_size=(1,), stride=(1,)). Be careful, it might change your code's behavior.\n",
      "Either .total_ops or .total_params is already defined in Conv1d(1024, 1024, kernel_size=(3,), stride=(1,), padding=(1,), groups=4). Be careful, it might change your code's behavior.\n",
      "Either .total_ops or .total_params is already defined in Conv1d(1024, 1024, kernel_size=(3,), stride=(1,), padding=(1,), groups=4). Be careful, it might change your code's behavior.\n",
      "Either .total_ops or .total_params is already defined in Conv1d(1024, 1024, kernel_size=(3,), stride=(1,), padding=(1,), groups=4). Be careful, it might change your code's behavior.\n",
      "Either .total_ops or .total_params is already defined in Conv1d(1024, 1024, kernel_size=(3,), stride=(1,), padding=(1,), groups=4). Be careful, it might change your code's behavior.\n",
      "Either .total_ops or .total_params is already defined in Conv1d(1024, 1024, kernel_size=(3,), stride=(1,), padding=(1,), groups=4). Be careful, it might change your code's behavior.\n",
      "Either .total_ops or .total_params is already defined in Dropout(p=0.3, inplace=False). Be careful, it might change your code's behavior.\n",
      "Either .total_ops or .total_params is already defined in Conv1d(1024, 512, kernel_size=(1,), stride=(1,)). Be careful, it might change your code's behavior.\n",
      "Either .total_ops or .total_params is already defined in Conv1d(1024, 512, kernel_size=(3,), stride=(1,), padding=(1,), groups=4). Be careful, it might change your code's behavior.\n",
      "Either .total_ops or .total_params is already defined in Conv1d(512, 512, kernel_size=(3,), stride=(1,), padding=(1,), groups=4). Be careful, it might change your code's behavior.\n",
      "Either .total_ops or .total_params is already defined in Conv1d(512, 512, kernel_size=(3,), stride=(1,), padding=(1,), groups=4). Be careful, it might change your code's behavior.\n",
      "Either .total_ops or .total_params is already defined in Conv1d(512, 512, kernel_size=(3,), stride=(1,), padding=(1,), groups=4). Be careful, it might change your code's behavior.\n",
      "Either .total_ops or .total_params is already defined in Conv1d(512, 512, kernel_size=(3,), stride=(1,), padding=(1,), groups=4). Be careful, it might change your code's behavior.\n",
      "Either .total_ops or .total_params is already defined in Dropout(p=0.3, inplace=False). Be careful, it might change your code's behavior.\n",
      "Either .total_ops or .total_params is already defined in Conv1d(512, 192, kernel_size=(1,), stride=(1,)). Be careful, it might change your code's behavior.\n",
      "Either .total_ops or .total_params is already defined in Conv1d(512, 192, kernel_size=(3,), stride=(1,), padding=(1,), groups=4). Be careful, it might change your code's behavior.\n",
      "Either .total_ops or .total_params is already defined in Conv1d(192, 192, kernel_size=(3,), stride=(1,), padding=(1,), groups=4). Be careful, it might change your code's behavior.\n",
      "Either .total_ops or .total_params is already defined in Conv1d(192, 192, kernel_size=(3,), stride=(1,), padding=(1,), groups=4). Be careful, it might change your code's behavior.\n",
      "Either .total_ops or .total_params is already defined in Conv1d(192, 192, kernel_size=(3,), stride=(1,), padding=(1,), groups=4). Be careful, it might change your code's behavior.\n",
      "Either .total_ops or .total_params is already defined in Conv1d(192, 192, kernel_size=(3,), stride=(1,), padding=(1,), groups=4). Be careful, it might change your code's behavior.\n",
      "Either .total_ops or .total_params is already defined in Dropout(p=0.3, inplace=False). Be careful, it might change your code's behavior.\n",
      "Either .total_ops or .total_params is already defined in Conv1d(192, 192, kernel_size=(1,), stride=(1,)). Be careful, it might change your code's behavior.\n",
      "Either .total_ops or .total_params is already defined in Conv1d(192, 192, kernel_size=(3,), stride=(1,), padding=(1,), groups=4). Be careful, it might change your code's behavior.\n",
      "Either .total_ops or .total_params is already defined in Conv1d(192, 192, kernel_size=(3,), stride=(1,), padding=(1,), groups=4). Be careful, it might change your code's behavior.\n",
      "Either .total_ops or .total_params is already defined in Conv1d(192, 192, kernel_size=(3,), stride=(1,), padding=(1,), groups=4). Be careful, it might change your code's behavior.\n",
      "Either .total_ops or .total_params is already defined in Dropout(p=0.3, inplace=False). Be careful, it might change your code's behavior.\n"
     ]
    },
    {
     "name": "stdout",
     "output_type": "stream",
     "text": [
      "CPU times: user 49.9 ms, sys: 8.52 ms, total: 58.4 ms\n",
      "Wall time: 54.7 ms\n"
     ]
    },
    {
     "name": "stderr",
     "output_type": "stream",
     "text": [
      "/home/leo/venv3/lib/python3.7/site-packages/torch/nn/functional.py:1351: UserWarning: nn.functional.sigmoid is deprecated. Use torch.sigmoid instead.\n",
      "  warnings.warn(\"nn.functional.sigmoid is deprecated. Use torch.sigmoid instead.\")\n"
     ]
    },
    {
     "data": {
      "text/plain": [
       "(239024029696.0, 13904398.0)"
      ]
     },
     "execution_count": 17,
     "metadata": {},
     "output_type": "execute_result"
    }
   ],
   "source": [
    "%%time \n",
    "invect = torch.randint(0,2**10, (24, 512)).to(device)\n",
    "macs, flops = thop.profile(cm, inputs=(invect,))\n",
    "macs, flops"
   ]
  },
  {
   "cell_type": "code",
   "execution_count": 18,
   "metadata": {
    "scrolled": true
   },
   "outputs": [],
   "source": [
    "# cm(invect)"
   ]
  },
  {
   "cell_type": "code",
   "execution_count": null,
   "metadata": {},
   "outputs": [],
   "source": []
  }
 ],
 "metadata": {
  "kernelspec": {
   "display_name": "Python 3",
   "language": "python",
   "name": "python3"
  },
  "language_info": {
   "codemirror_mode": {
    "name": "ipython",
    "version": 3
   },
   "file_extension": ".py",
   "mimetype": "text/x-python",
   "name": "python",
   "nbconvert_exporter": "python",
   "pygments_lexer": "ipython3",
   "version": "3.7.3"
  }
 },
 "nbformat": 4,
 "nbformat_minor": 4
}
