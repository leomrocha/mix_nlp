{
 "cells": [
  {
   "cell_type": "markdown",
   "metadata": {},
   "source": [
    "# Model Preparation\n",
    "\n",
    "This notebook is dedicated at exploring some models, number of parameters, complexities, etc."
   ]
  },
  {
   "cell_type": "code",
   "execution_count": 1,
   "metadata": {},
   "outputs": [],
   "source": [
    "import numpy as np\n",
    "import os\n",
    "import sys\n",
    "import torch\n",
    "import torch.nn as nn\n",
    "from torch.nn import functional as F\n",
    "import thop\n"
   ]
  },
  {
   "cell_type": "code",
   "execution_count": 2,
   "metadata": {},
   "outputs": [
    {
     "name": "stderr",
     "output_type": "stream",
     "text": [
      "Loading faiss with AVX2 support.\n",
      "Loading faiss.\n"
     ]
    }
   ],
   "source": [
    "from model_blocks import *\n",
    "from models import *\n",
    "from utils import *\n",
    "from tools import *"
   ]
  },
  {
   "cell_type": "code",
   "execution_count": 3,
   "metadata": {},
   "outputs": [],
   "source": [
    "from apex import amp"
   ]
  },
  {
   "cell_type": "code",
   "execution_count": 4,
   "metadata": {},
   "outputs": [],
   "source": [
    "device = torch.device(\"cuda:0\" if torch.cuda.is_available() else \"cpu\")"
   ]
  },
  {
   "cell_type": "code",
   "execution_count": 5,
   "metadata": {},
   "outputs": [],
   "source": [
    "mixedblock = MixtureEncoderBlock().to(device)"
   ]
  },
  {
   "cell_type": "code",
   "execution_count": 6,
   "metadata": {},
   "outputs": [
    {
     "data": {
      "text/plain": [
       "(3467520, 3467520)"
      ]
     },
     "execution_count": 6,
     "metadata": {},
     "output_type": "execute_result"
    }
   ],
   "source": [
    "count_parameters(mixedblock), count_trainable_parameters(mixedblock)"
   ]
  },
  {
   "cell_type": "code",
   "execution_count": 5,
   "metadata": {},
   "outputs": [
    {
     "data": {
      "text/plain": [
       "(3311616, 3311616)"
      ]
     },
     "execution_count": 5,
     "metadata": {},
     "output_type": "execute_result"
    }
   ],
   "source": [
    "count_parameters(mixedblock), count_trainable_parameters(mixedblock)"
   ]
  },
  {
   "cell_type": "code",
   "execution_count": 6,
   "metadata": {},
   "outputs": [],
   "source": [
    "# invect = torch.randint(0,2**10, (1024, 2048))\n",
    "# invect = torch.randn((240, 2048, 192)).to(device) # 240 as batch size is the MAX it supports there in my memory... \n",
    "invect = torch.randn((24, 2048, 192)).to(device) "
   ]
  },
  {
   "cell_type": "code",
   "execution_count": 7,
   "metadata": {
    "scrolled": true
   },
   "outputs": [
    {
     "name": "stdout",
     "output_type": "stream",
     "text": [
      "torch.Size([24, 2048, 192]) torch.Size([24, 2048, 192])\n",
      "CPU times: user 9.26 s, sys: 1.83 s, total: 11.1 s\n",
      "Wall time: 2.88 s\n"
     ]
    }
   ],
   "source": [
    "%time macs, flops = thop.profile(mixedblock, inputs=(invect,))"
   ]
  },
  {
   "cell_type": "code",
   "execution_count": 9,
   "metadata": {},
   "outputs": [
    {
     "data": {
      "text/plain": [
       "(268066357248.0, 3262080.0)"
      ]
     },
     "execution_count": 9,
     "metadata": {},
     "output_type": "execute_result"
    }
   ],
   "source": [
    "macs, flops"
   ]
  },
  {
   "cell_type": "code",
   "execution_count": 8,
   "metadata": {
    "scrolled": true
   },
   "outputs": [
    {
     "name": "stdout",
     "output_type": "stream",
     "text": [
      "torch.Size([24, 2048, 192]) torch.Size([24, 2048, 192])\n"
     ]
    },
    {
     "data": {
      "text/plain": [
       "tensor([[[-0.2500,  0.7942,  1.3775,  ...,  0.7410,  0.9121, -1.7052],\n",
       "         [-1.6831,  1.7151,  0.3799,  ..., -0.4643,  0.5997,  1.0325],\n",
       "         [-0.3742, -0.6832, -0.2251,  ..., -1.5051,  0.8147,  1.9625],\n",
       "         ...,\n",
       "         [-0.6992,  1.7105,  1.6438,  ..., -0.4991,  0.7874,  0.6929],\n",
       "         [-0.3200, -0.0582, -0.1298,  ..., -1.0670,  1.0196,  1.2806],\n",
       "         [-1.2842, -0.3365, -0.0657,  ...,  0.1423,  0.7543,  0.7420]],\n",
       "\n",
       "        [[ 0.0194,  0.5308,  0.6158,  ..., -0.4822,  0.1210,  1.3848],\n",
       "         [-1.6309,  1.6484,  0.0402,  ..., -1.2842,  1.1593, -0.5352],\n",
       "         [-0.9461,  0.2626, -0.5823,  ..., -1.4153,  0.0558,  0.7368],\n",
       "         ...,\n",
       "         [ 0.2063,  0.5702, -0.0141,  ..., -0.0353,  0.4002,  0.4371],\n",
       "         [-0.0747,  1.1403,  0.6513,  ..., -2.3313,  0.1766, -0.2762],\n",
       "         [-0.5891,  0.3640,  0.9321,  ...,  0.5028,  0.0263,  0.7168]],\n",
       "\n",
       "        [[-0.2645,  0.5276, -0.6710,  ..., -0.9991,  0.2293, -0.3468],\n",
       "         [-1.9165,  1.1026,  2.4629,  ..., -0.4443,  0.3832, -0.5198],\n",
       "         [-1.6837, -0.1550, -0.5076,  ..., -0.5103,  0.3200,  1.1457],\n",
       "         ...,\n",
       "         [-1.1772, -0.2690, -0.1669,  ...,  0.2590,  1.9285, -0.6823],\n",
       "         [-0.5230,  0.1604,  0.6608,  ..., -0.7630, -0.4582,  0.9016],\n",
       "         [-2.0668, -0.4644,  0.3529,  ..., -0.4137, -0.5760,  0.1974]],\n",
       "\n",
       "        ...,\n",
       "\n",
       "        [[ 0.9892, -1.4780, -0.0160,  ..., -1.2941,  1.2862, -0.3173],\n",
       "         [-0.1615,  0.6734,  0.8523,  ...,  0.5759,  1.4211, -1.1584],\n",
       "         [-1.4344,  0.4412,  0.7483,  ..., -0.2482,  2.2693,  1.1529],\n",
       "         ...,\n",
       "         [-0.8485,  0.6183,  0.0312,  ..., -0.6785,  1.9361, -0.2701],\n",
       "         [-1.6900,  0.6546,  1.9592,  ...,  0.2903, -0.2028, -0.2279],\n",
       "         [-0.2903,  1.3476, -0.5950,  ..., -0.5148,  0.4440, -0.0437]],\n",
       "\n",
       "        [[-0.0517,  1.1770,  1.8268,  ..., -1.5297, -1.2382,  0.0811],\n",
       "         [-1.3732,  0.2158,  0.0687,  ..., -1.6127,  0.5209, -2.1169],\n",
       "         [-0.3696,  0.4367,  0.2244,  ..., -0.4672, -0.2101, -0.7562],\n",
       "         ...,\n",
       "         [-1.0518, -0.5444,  0.2380,  ..., -0.4300,  0.3188,  0.1157],\n",
       "         [-1.5277,  0.8990, -0.5714,  ..., -0.0826,  1.0898,  0.5163],\n",
       "         [-0.4708,  1.1578, -0.9533,  ..., -0.8743,  0.4040,  1.1460]],\n",
       "\n",
       "        [[-1.9239, -0.6325,  1.0134,  ...,  0.1786,  0.4999, -0.5336],\n",
       "         [-1.2245,  0.2046,  0.3605,  ...,  0.9891,  1.3477,  1.8366],\n",
       "         [-0.8830, -1.0207, -0.2801,  ..., -1.0697,  1.4243,  0.5307],\n",
       "         ...,\n",
       "         [-0.4615,  1.5172,  1.3506,  ..., -0.6288,  1.1892,  0.4392],\n",
       "         [-1.2371,  1.1924,  1.5277,  ..., -0.1438,  0.5784, -0.3961],\n",
       "         [-0.2332,  0.5726,  0.0994,  ..., -0.5517,  0.4448,  0.0146]]],\n",
       "       grad_fn=<NativeLayerNormBackward>)"
      ]
     },
     "execution_count": 8,
     "metadata": {},
     "output_type": "execute_result"
    }
   ],
   "source": [
    "mixedblock(invect)"
   ]
  },
  {
   "cell_type": "code",
   "execution_count": 8,
   "metadata": {},
   "outputs": [],
   "source": [
    "# macs, flops"
   ]
  },
  {
   "cell_type": "code",
   "execution_count": 9,
   "metadata": {},
   "outputs": [],
   "source": [
    "codebook = np.load(\"codes/utf8_3-seg_59328-codepoints_128-dim_N-37-k4_coprimes-(11, 13, 19, 23)_cycles-(11, 7, 4, 3)_dense.npy\")\n",
    "cm = ConvModel(codebook).to(device)"
   ]
  },
  {
   "cell_type": "code",
   "execution_count": 10,
   "metadata": {},
   "outputs": [
    {
     "data": {
      "text/plain": [
       "(18405120, 18405120)"
      ]
     },
     "execution_count": 10,
     "metadata": {},
     "output_type": "execute_result"
    }
   ],
   "source": [
    "count_parameters(cm), count_trainable_parameters(cm)"
   ]
  },
  {
   "cell_type": "code",
   "execution_count": 11,
   "metadata": {
    "scrolled": true
   },
   "outputs": [
    {
     "name": "stderr",
     "output_type": "stream",
     "text": [
      "Either .total_ops or .total_params is already defined in Conv1d(512, 1024, kernel_size=(1,), stride=(1,)). Be careful, it might change your code's behavior.\n",
      "Either .total_ops or .total_params is already defined in Conv1d(512, 1024, kernel_size=(3,), stride=(1,), padding=(1,), groups=4). Be careful, it might change your code's behavior.\n",
      "Either .total_ops or .total_params is already defined in Conv1d(1024, 1024, kernel_size=(3,), stride=(1,), padding=(1,), groups=4). Be careful, it might change your code's behavior.\n",
      "Either .total_ops or .total_params is already defined in Conv1d(1024, 1024, kernel_size=(3,), stride=(1,), padding=(1,), groups=4). Be careful, it might change your code's behavior.\n",
      "Either .total_ops or .total_params is already defined in Dropout(p=0.3, inplace=False). Be careful, it might change your code's behavior.\n",
      "Either .total_ops or .total_params is already defined in Conv1d(1024, 1024, kernel_size=(1,), stride=(1,)). Be careful, it might change your code's behavior.\n",
      "Either .total_ops or .total_params is already defined in Conv1d(1024, 1024, kernel_size=(3,), stride=(1,), padding=(1,), groups=4). Be careful, it might change your code's behavior.\n",
      "Either .total_ops or .total_params is already defined in Conv1d(1024, 1024, kernel_size=(3,), stride=(1,), padding=(1,), groups=4). Be careful, it might change your code's behavior.\n",
      "Either .total_ops or .total_params is already defined in Conv1d(1024, 1024, kernel_size=(3,), stride=(1,), padding=(1,), groups=4). Be careful, it might change your code's behavior.\n",
      "Either .total_ops or .total_params is already defined in Conv1d(1024, 1024, kernel_size=(3,), stride=(1,), padding=(1,), groups=4). Be careful, it might change your code's behavior.\n",
      "Either .total_ops or .total_params is already defined in Conv1d(1024, 1024, kernel_size=(3,), stride=(1,), padding=(1,), groups=4). Be careful, it might change your code's behavior.\n",
      "Either .total_ops or .total_params is already defined in Dropout(p=0.3, inplace=False). Be careful, it might change your code's behavior.\n",
      "Either .total_ops or .total_params is already defined in Conv1d(1024, 512, kernel_size=(1,), stride=(1,)). Be careful, it might change your code's behavior.\n",
      "Either .total_ops or .total_params is already defined in Conv1d(1024, 512, kernel_size=(3,), stride=(1,), padding=(1,), groups=4). Be careful, it might change your code's behavior.\n",
      "Either .total_ops or .total_params is already defined in Conv1d(512, 512, kernel_size=(3,), stride=(1,), padding=(1,), groups=4). Be careful, it might change your code's behavior.\n",
      "Either .total_ops or .total_params is already defined in Conv1d(512, 512, kernel_size=(3,), stride=(1,), padding=(1,), groups=4). Be careful, it might change your code's behavior.\n",
      "Either .total_ops or .total_params is already defined in Conv1d(512, 512, kernel_size=(3,), stride=(1,), padding=(1,), groups=4). Be careful, it might change your code's behavior.\n",
      "Either .total_ops or .total_params is already defined in Conv1d(512, 512, kernel_size=(3,), stride=(1,), padding=(1,), groups=4). Be careful, it might change your code's behavior.\n",
      "Either .total_ops or .total_params is already defined in Dropout(p=0.3, inplace=False). Be careful, it might change your code's behavior.\n",
      "Either .total_ops or .total_params is already defined in Conv1d(512, 192, kernel_size=(1,), stride=(1,)). Be careful, it might change your code's behavior.\n",
      "Either .total_ops or .total_params is already defined in Conv1d(512, 192, kernel_size=(3,), stride=(1,), padding=(1,), groups=4). Be careful, it might change your code's behavior.\n",
      "Either .total_ops or .total_params is already defined in Conv1d(192, 192, kernel_size=(3,), stride=(1,), padding=(1,), groups=4). Be careful, it might change your code's behavior.\n",
      "Either .total_ops or .total_params is already defined in Conv1d(192, 192, kernel_size=(3,), stride=(1,), padding=(1,), groups=4). Be careful, it might change your code's behavior.\n",
      "Either .total_ops or .total_params is already defined in Conv1d(192, 192, kernel_size=(3,), stride=(1,), padding=(1,), groups=4). Be careful, it might change your code's behavior.\n",
      "Either .total_ops or .total_params is already defined in Conv1d(192, 192, kernel_size=(3,), stride=(1,), padding=(1,), groups=4). Be careful, it might change your code's behavior.\n",
      "Either .total_ops or .total_params is already defined in Dropout(p=0.3, inplace=False). Be careful, it might change your code's behavior.\n",
      "Either .total_ops or .total_params is already defined in Conv1d(192, 192, kernel_size=(1,), stride=(1,)). Be careful, it might change your code's behavior.\n",
      "Either .total_ops or .total_params is already defined in Conv1d(192, 192, kernel_size=(3,), stride=(1,), padding=(1,), groups=4). Be careful, it might change your code's behavior.\n",
      "Either .total_ops or .total_params is already defined in Conv1d(192, 192, kernel_size=(3,), stride=(1,), padding=(1,), groups=4). Be careful, it might change your code's behavior.\n",
      "Either .total_ops or .total_params is already defined in Conv1d(192, 192, kernel_size=(3,), stride=(1,), padding=(1,), groups=4). Be careful, it might change your code's behavior.\n",
      "Either .total_ops or .total_params is already defined in Dropout(p=0.3, inplace=False). Be careful, it might change your code's behavior.\n"
     ]
    },
    {
     "name": "stdout",
     "output_type": "stream",
     "text": [
      "CPU times: user 13 s, sys: 2.55 s, total: 15.6 s\n",
      "Wall time: 4.01 s\n"
     ]
    },
    {
     "name": "stderr",
     "output_type": "stream",
     "text": [
      "/home/leo/venv3/lib/python3.7/site-packages/torch/nn/functional.py:1351: UserWarning: nn.functional.sigmoid is deprecated. Use torch.sigmoid instead.\n",
      "  warnings.warn(\"nn.functional.sigmoid is deprecated. Use torch.sigmoid instead.\")\n"
     ]
    },
    {
     "data": {
      "text/plain": [
       "(932840472576.0, 18355584.0)"
      ]
     },
     "execution_count": 11,
     "metadata": {},
     "output_type": "execute_result"
    }
   ],
   "source": [
    "%%time \n",
    "invect = torch.randint(0,2**10, (24, 2048)).to(device)\n",
    "macs, flops = thop.profile(cm, inputs=(invect,))\n",
    "macs, flops"
   ]
  },
  {
   "cell_type": "code",
   "execution_count": 2,
   "metadata": {
    "scrolled": true
   },
   "outputs": [],
   "source": [
    "# cm(invect)"
   ]
  },
  {
   "cell_type": "code",
   "execution_count": null,
   "metadata": {},
   "outputs": [],
   "source": []
  }
 ],
 "metadata": {
  "kernelspec": {
   "display_name": "Python 3",
   "language": "python",
   "name": "python3"
  },
  "language_info": {
   "codemirror_mode": {
    "name": "ipython",
    "version": 3
   },
   "file_extension": ".py",
   "mimetype": "text/x-python",
   "name": "python",
   "nbconvert_exporter": "python",
   "pygments_lexer": "ipython3",
   "version": "3.7.3"
  }
 },
 "nbformat": 4,
 "nbformat_minor": 4
}
