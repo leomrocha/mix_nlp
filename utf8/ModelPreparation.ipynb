{
 "cells": [
  {
   "cell_type": "markdown",
   "metadata": {},
   "source": [
    "# Model Preparation\n",
    "\n",
    "This notebook is dedicated at exploring some models, number of parameters, complexities, etc."
   ]
  },
  {
   "cell_type": "code",
   "execution_count": 1,
   "metadata": {},
   "outputs": [],
   "source": [
    "import numpy as np\n",
    "import os\n",
    "import sys\n",
    "import torch\n",
    "import torch.nn as nn\n",
    "from torch.nn import functional as F\n",
    "import thop\n"
   ]
  },
  {
   "cell_type": "code",
   "execution_count": 2,
   "metadata": {},
   "outputs": [],
   "source": [
    "from model_blocks import *\n",
    "from models import *\n",
    "from utils import *\n",
    "from tools import *"
   ]
  },
  {
   "cell_type": "code",
   "execution_count": 3,
   "metadata": {},
   "outputs": [],
   "source": [
    "from apex import amp"
   ]
  },
  {
   "cell_type": "code",
   "execution_count": 4,
   "metadata": {},
   "outputs": [],
   "source": [
    "device = torch.device(\"cuda:1\" if torch.cuda.is_available() else \"cpu\")"
   ]
  },
  {
   "cell_type": "code",
   "execution_count": 5,
   "metadata": {},
   "outputs": [],
   "source": [
    "codebook_name = \"codes/adhoc-codebook-1871.pkl\"\n",
    "import pickle\n",
    "codebook_path = '/home/leo/projects/mix_nlp/utf8/codes/adhoc-codebook-1871.pkl'\n",
    "f = open(codebook_path, 'rb')\n",
    "codebook, char2int, int2char = pickle.load(f)"
   ]
  },
  {
   "cell_type": "code",
   "execution_count": 6,
   "metadata": {},
   "outputs": [
    {
     "name": "stdout",
     "output_type": "stream",
     "text": [
      "/home/leo/venv3/lib/python3.7/site-packages/dynamicconv_layer-0.0.0-py3.7-linux-x86_64.egg/dynamicconv_cuda.cpython-37m-x86_64-linux-gnu.so: undefined symbol: _ZN6caffe26detail37_typeMetaDataInstance_preallocated_32E\n",
      "/home/leo/venv3/lib/python3.7/site-packages/dynamicconv_layer-0.0.0-py3.7-linux-x86_64.egg/dynamicconv_cuda.cpython-37m-x86_64-linux-gnu.so: undefined symbol: _ZN6caffe26detail37_typeMetaDataInstance_preallocated_32E\n",
      "/home/leo/venv3/lib/python3.7/site-packages/dynamicconv_layer-0.0.0-py3.7-linux-x86_64.egg/dynamicconv_cuda.cpython-37m-x86_64-linux-gnu.so: undefined symbol: _ZN6caffe26detail37_typeMetaDataInstance_preallocated_32E\n",
      "/home/leo/venv3/lib/python3.7/site-packages/dynamicconv_layer-0.0.0-py3.7-linux-x86_64.egg/dynamicconv_cuda.cpython-37m-x86_64-linux-gnu.so: undefined symbol: _ZN6caffe26detail37_typeMetaDataInstance_preallocated_32E\n",
      "/home/leo/venv3/lib/python3.7/site-packages/dynamicconv_layer-0.0.0-py3.7-linux-x86_64.egg/dynamicconv_cuda.cpython-37m-x86_64-linux-gnu.so: undefined symbol: _ZN6caffe26detail37_typeMetaDataInstance_preallocated_32E\n",
      "/home/leo/venv3/lib/python3.7/site-packages/dynamicconv_layer-0.0.0-py3.7-linux-x86_64.egg/dynamicconv_cuda.cpython-37m-x86_64-linux-gnu.so: undefined symbol: _ZN6caffe26detail37_typeMetaDataInstance_preallocated_32E\n",
      "/home/leo/venv3/lib/python3.7/site-packages/dynamicconv_layer-0.0.0-py3.7-linux-x86_64.egg/dynamicconv_cuda.cpython-37m-x86_64-linux-gnu.so: undefined symbol: _ZN6caffe26detail37_typeMetaDataInstance_preallocated_32E\n"
     ]
    }
   ],
   "source": [
    "dynmodel = DynConvColModel(codebook)"
   ]
  },
  {
   "cell_type": "code",
   "execution_count": 7,
   "metadata": {},
   "outputs": [],
   "source": [
    "dynmodel = dynmodel.to(device)"
   ]
  },
  {
   "cell_type": "code",
   "execution_count": 8,
   "metadata": {},
   "outputs": [
    {
     "data": {
      "text/plain": [
       "(18191306, 18011690)"
      ]
     },
     "execution_count": 8,
     "metadata": {},
     "output_type": "execute_result"
    }
   ],
   "source": [
    "count_parameters(dynmodel), count_trainable_parameters(dynmodel)"
   ]
  },
  {
   "cell_type": "code",
   "execution_count": 9,
   "metadata": {},
   "outputs": [
    {
     "name": "stdout",
     "output_type": "stream",
     "text": [
      "CPU times: user 0 ns, sys: 5.57 ms, total: 5.57 ms\n",
      "Wall time: 8.07 ms\n"
     ]
    }
   ],
   "source": [
    "%%time \n",
    "invect = torch.randint(0,2**10, (24, 512)).to(device)"
   ]
  },
  {
   "cell_type": "code",
   "execution_count": 10,
   "metadata": {},
   "outputs": [
    {
     "ename": "NotImplementedError",
     "evalue": "",
     "output_type": "error",
     "traceback": [
      "\u001b[0;31m---------------------------------------------------------------------------\u001b[0m",
      "\u001b[0;31mNotImplementedError\u001b[0m                       Traceback (most recent call last)",
      "\u001b[0;32m<ipython-input-10-835e3ca50d2b>\u001b[0m in \u001b[0;36m<module>\u001b[0;34m\u001b[0m\n\u001b[0;32m----> 1\u001b[0;31m \u001b[0mr\u001b[0m \u001b[0;34m=\u001b[0m \u001b[0mdynmodel\u001b[0m\u001b[0;34m(\u001b[0m\u001b[0minvect\u001b[0m\u001b[0;34m)\u001b[0m\u001b[0;34m\u001b[0m\u001b[0;34m\u001b[0m\u001b[0m\n\u001b[0m",
      "\u001b[0;32m~/venv3/lib/python3.7/site-packages/torch/nn/modules/module.py\u001b[0m in \u001b[0;36m__call__\u001b[0;34m(self, *input, **kwargs)\u001b[0m\n\u001b[1;32m    530\u001b[0m             \u001b[0mresult\u001b[0m \u001b[0;34m=\u001b[0m \u001b[0mself\u001b[0m\u001b[0;34m.\u001b[0m\u001b[0m_slow_forward\u001b[0m\u001b[0;34m(\u001b[0m\u001b[0;34m*\u001b[0m\u001b[0minput\u001b[0m\u001b[0;34m,\u001b[0m \u001b[0;34m**\u001b[0m\u001b[0mkwargs\u001b[0m\u001b[0;34m)\u001b[0m\u001b[0;34m\u001b[0m\u001b[0;34m\u001b[0m\u001b[0m\n\u001b[1;32m    531\u001b[0m         \u001b[0;32melse\u001b[0m\u001b[0;34m:\u001b[0m\u001b[0;34m\u001b[0m\u001b[0;34m\u001b[0m\u001b[0m\n\u001b[0;32m--> 532\u001b[0;31m             \u001b[0mresult\u001b[0m \u001b[0;34m=\u001b[0m \u001b[0mself\u001b[0m\u001b[0;34m.\u001b[0m\u001b[0mforward\u001b[0m\u001b[0;34m(\u001b[0m\u001b[0;34m*\u001b[0m\u001b[0minput\u001b[0m\u001b[0;34m,\u001b[0m \u001b[0;34m**\u001b[0m\u001b[0mkwargs\u001b[0m\u001b[0;34m)\u001b[0m\u001b[0;34m\u001b[0m\u001b[0;34m\u001b[0m\u001b[0m\n\u001b[0m\u001b[1;32m    533\u001b[0m         \u001b[0;32mfor\u001b[0m \u001b[0mhook\u001b[0m \u001b[0;32min\u001b[0m \u001b[0mself\u001b[0m\u001b[0;34m.\u001b[0m\u001b[0m_forward_hooks\u001b[0m\u001b[0;34m.\u001b[0m\u001b[0mvalues\u001b[0m\u001b[0;34m(\u001b[0m\u001b[0;34m)\u001b[0m\u001b[0;34m:\u001b[0m\u001b[0;34m\u001b[0m\u001b[0;34m\u001b[0m\u001b[0m\n\u001b[1;32m    534\u001b[0m             \u001b[0mhook_result\u001b[0m \u001b[0;34m=\u001b[0m \u001b[0mhook\u001b[0m\u001b[0;34m(\u001b[0m\u001b[0mself\u001b[0m\u001b[0;34m,\u001b[0m \u001b[0minput\u001b[0m\u001b[0;34m,\u001b[0m \u001b[0mresult\u001b[0m\u001b[0;34m)\u001b[0m\u001b[0;34m\u001b[0m\u001b[0;34m\u001b[0m\u001b[0m\n",
      "\u001b[0;32m~/projects/mix_nlp/utf8/models.py\u001b[0m in \u001b[0;36mforward\u001b[0;34m(self, x_in, decode_faiss)\u001b[0m\n\u001b[1;32m    223\u001b[0m         \u001b[0;31m# x = x.transpose(1, 2)\u001b[0m\u001b[0;34m\u001b[0m\u001b[0;34m\u001b[0m\u001b[0;34m\u001b[0m\u001b[0m\n\u001b[1;32m    224\u001b[0m         \u001b[0;31m# [sequence, batch, embed]\u001b[0m\u001b[0;34m\u001b[0m\u001b[0;34m\u001b[0m\u001b[0;34m\u001b[0m\u001b[0m\n\u001b[0;32m--> 225\u001b[0;31m         \u001b[0mx\u001b[0m \u001b[0;34m=\u001b[0m \u001b[0mself\u001b[0m\u001b[0;34m.\u001b[0m\u001b[0mlayers\u001b[0m\u001b[0;34m(\u001b[0m\u001b[0mx\u001b[0m\u001b[0;34m,\u001b[0m \u001b[0;32mNone\u001b[0m\u001b[0;34m)\u001b[0m\u001b[0;34m\u001b[0m\u001b[0;34m\u001b[0m\u001b[0m\n\u001b[0m\u001b[1;32m    226\u001b[0m         \u001b[0mx\u001b[0m \u001b[0;34m=\u001b[0m \u001b[0mx\u001b[0m\u001b[0;34m.\u001b[0m\u001b[0mpermute\u001b[0m\u001b[0;34m(\u001b[0m\u001b[0;36m1\u001b[0m\u001b[0;34m,\u001b[0m \u001b[0;36m2\u001b[0m\u001b[0;34m,\u001b[0m \u001b[0;36m0\u001b[0m\u001b[0;34m)\u001b[0m\u001b[0;34m.\u001b[0m\u001b[0mcontinuous\u001b[0m\u001b[0;34m(\u001b[0m\u001b[0;34m)\u001b[0m\u001b[0;34m\u001b[0m\u001b[0;34m\u001b[0m\u001b[0m\n\u001b[1;32m    227\u001b[0m         \u001b[0;31m# [batch, embed, sequence]  # needed for linear layers\u001b[0m\u001b[0;34m\u001b[0m\u001b[0;34m\u001b[0m\u001b[0;34m\u001b[0m\u001b[0m\n",
      "\u001b[0;32m~/venv3/lib/python3.7/site-packages/torch/nn/modules/module.py\u001b[0m in \u001b[0;36m__call__\u001b[0;34m(self, *input, **kwargs)\u001b[0m\n\u001b[1;32m    530\u001b[0m             \u001b[0mresult\u001b[0m \u001b[0;34m=\u001b[0m \u001b[0mself\u001b[0m\u001b[0;34m.\u001b[0m\u001b[0m_slow_forward\u001b[0m\u001b[0;34m(\u001b[0m\u001b[0;34m*\u001b[0m\u001b[0minput\u001b[0m\u001b[0;34m,\u001b[0m \u001b[0;34m**\u001b[0m\u001b[0mkwargs\u001b[0m\u001b[0;34m)\u001b[0m\u001b[0;34m\u001b[0m\u001b[0;34m\u001b[0m\u001b[0m\n\u001b[1;32m    531\u001b[0m         \u001b[0;32melse\u001b[0m\u001b[0;34m:\u001b[0m\u001b[0;34m\u001b[0m\u001b[0;34m\u001b[0m\u001b[0m\n\u001b[0;32m--> 532\u001b[0;31m             \u001b[0mresult\u001b[0m \u001b[0;34m=\u001b[0m \u001b[0mself\u001b[0m\u001b[0;34m.\u001b[0m\u001b[0mforward\u001b[0m\u001b[0;34m(\u001b[0m\u001b[0;34m*\u001b[0m\u001b[0minput\u001b[0m\u001b[0;34m,\u001b[0m \u001b[0;34m**\u001b[0m\u001b[0mkwargs\u001b[0m\u001b[0;34m)\u001b[0m\u001b[0;34m\u001b[0m\u001b[0;34m\u001b[0m\u001b[0m\n\u001b[0m\u001b[1;32m    533\u001b[0m         \u001b[0;32mfor\u001b[0m \u001b[0mhook\u001b[0m \u001b[0;32min\u001b[0m \u001b[0mself\u001b[0m\u001b[0;34m.\u001b[0m\u001b[0m_forward_hooks\u001b[0m\u001b[0;34m.\u001b[0m\u001b[0mvalues\u001b[0m\u001b[0;34m(\u001b[0m\u001b[0;34m)\u001b[0m\u001b[0;34m:\u001b[0m\u001b[0;34m\u001b[0m\u001b[0;34m\u001b[0m\u001b[0m\n\u001b[1;32m    534\u001b[0m             \u001b[0mhook_result\u001b[0m \u001b[0;34m=\u001b[0m \u001b[0mhook\u001b[0m\u001b[0;34m(\u001b[0m\u001b[0mself\u001b[0m\u001b[0;34m,\u001b[0m \u001b[0minput\u001b[0m\u001b[0;34m,\u001b[0m \u001b[0mresult\u001b[0m\u001b[0;34m)\u001b[0m\u001b[0;34m\u001b[0m\u001b[0;34m\u001b[0m\u001b[0m\n",
      "\u001b[0;32m~/venv3/lib/python3.7/site-packages/torch/nn/modules/module.py\u001b[0m in \u001b[0;36mforward\u001b[0;34m(self, *input)\u001b[0m\n\u001b[1;32m     94\u001b[0m             \u001b[0mregistered\u001b[0m \u001b[0mhooks\u001b[0m \u001b[0;32mwhile\u001b[0m \u001b[0mthe\u001b[0m \u001b[0mlatter\u001b[0m \u001b[0msilently\u001b[0m \u001b[0mignores\u001b[0m \u001b[0mthem\u001b[0m\u001b[0;34m.\u001b[0m\u001b[0;34m\u001b[0m\u001b[0;34m\u001b[0m\u001b[0m\n\u001b[1;32m     95\u001b[0m         \"\"\"\n\u001b[0;32m---> 96\u001b[0;31m         \u001b[0;32mraise\u001b[0m \u001b[0mNotImplementedError\u001b[0m\u001b[0;34m\u001b[0m\u001b[0;34m\u001b[0m\u001b[0m\n\u001b[0m\u001b[1;32m     97\u001b[0m \u001b[0;34m\u001b[0m\u001b[0m\n\u001b[1;32m     98\u001b[0m     \u001b[0;32mdef\u001b[0m \u001b[0mregister_buffer\u001b[0m\u001b[0;34m(\u001b[0m\u001b[0mself\u001b[0m\u001b[0;34m,\u001b[0m \u001b[0mname\u001b[0m\u001b[0;34m,\u001b[0m \u001b[0mtensor\u001b[0m\u001b[0;34m)\u001b[0m\u001b[0;34m:\u001b[0m\u001b[0;34m\u001b[0m\u001b[0;34m\u001b[0m\u001b[0m\n",
      "\u001b[0;31mNotImplementedError\u001b[0m: "
     ]
    }
   ],
   "source": [
    "r = dynmodel(invect)"
   ]
  },
  {
   "cell_type": "code",
   "execution_count": 9,
   "metadata": {},
   "outputs": [
    {
     "ename": "NotImplementedError",
     "evalue": "",
     "output_type": "error",
     "traceback": [
      "\u001b[0;31m---------------------------------------------------------------------------\u001b[0m",
      "\u001b[0;31mNotImplementedError\u001b[0m                       Traceback (most recent call last)",
      "\u001b[0;32m<timed exec>\u001b[0m in \u001b[0;36m<module>\u001b[0;34m\u001b[0m\n",
      "\u001b[0;32m~/venv3/lib/python3.7/site-packages/thop/profile.py\u001b[0m in \u001b[0;36mprofile\u001b[0;34m(model, inputs, custom_ops, verbose)\u001b[0m\n\u001b[1;32m     98\u001b[0m \u001b[0;34m\u001b[0m\u001b[0m\n\u001b[1;32m     99\u001b[0m     \u001b[0;32mwith\u001b[0m \u001b[0mtorch\u001b[0m\u001b[0;34m.\u001b[0m\u001b[0mno_grad\u001b[0m\u001b[0;34m(\u001b[0m\u001b[0;34m)\u001b[0m\u001b[0;34m:\u001b[0m\u001b[0;34m\u001b[0m\u001b[0;34m\u001b[0m\u001b[0m\n\u001b[0;32m--> 100\u001b[0;31m         \u001b[0mmodel\u001b[0m\u001b[0;34m(\u001b[0m\u001b[0;34m*\u001b[0m\u001b[0minputs\u001b[0m\u001b[0;34m)\u001b[0m\u001b[0;34m\u001b[0m\u001b[0;34m\u001b[0m\u001b[0m\n\u001b[0m\u001b[1;32m    101\u001b[0m \u001b[0;34m\u001b[0m\u001b[0m\n\u001b[1;32m    102\u001b[0m     \u001b[0mtotal_ops\u001b[0m \u001b[0;34m=\u001b[0m \u001b[0;36m0\u001b[0m\u001b[0;34m\u001b[0m\u001b[0;34m\u001b[0m\u001b[0m\n",
      "\u001b[0;32m~/venv3/lib/python3.7/site-packages/torch/nn/modules/module.py\u001b[0m in \u001b[0;36m__call__\u001b[0;34m(self, *input, **kwargs)\u001b[0m\n\u001b[1;32m    530\u001b[0m             \u001b[0mresult\u001b[0m \u001b[0;34m=\u001b[0m \u001b[0mself\u001b[0m\u001b[0;34m.\u001b[0m\u001b[0m_slow_forward\u001b[0m\u001b[0;34m(\u001b[0m\u001b[0;34m*\u001b[0m\u001b[0minput\u001b[0m\u001b[0;34m,\u001b[0m \u001b[0;34m**\u001b[0m\u001b[0mkwargs\u001b[0m\u001b[0;34m)\u001b[0m\u001b[0;34m\u001b[0m\u001b[0;34m\u001b[0m\u001b[0m\n\u001b[1;32m    531\u001b[0m         \u001b[0;32melse\u001b[0m\u001b[0;34m:\u001b[0m\u001b[0;34m\u001b[0m\u001b[0;34m\u001b[0m\u001b[0m\n\u001b[0;32m--> 532\u001b[0;31m             \u001b[0mresult\u001b[0m \u001b[0;34m=\u001b[0m \u001b[0mself\u001b[0m\u001b[0;34m.\u001b[0m\u001b[0mforward\u001b[0m\u001b[0;34m(\u001b[0m\u001b[0;34m*\u001b[0m\u001b[0minput\u001b[0m\u001b[0;34m,\u001b[0m \u001b[0;34m**\u001b[0m\u001b[0mkwargs\u001b[0m\u001b[0;34m)\u001b[0m\u001b[0;34m\u001b[0m\u001b[0;34m\u001b[0m\u001b[0m\n\u001b[0m\u001b[1;32m    533\u001b[0m         \u001b[0;32mfor\u001b[0m \u001b[0mhook\u001b[0m \u001b[0;32min\u001b[0m \u001b[0mself\u001b[0m\u001b[0;34m.\u001b[0m\u001b[0m_forward_hooks\u001b[0m\u001b[0;34m.\u001b[0m\u001b[0mvalues\u001b[0m\u001b[0;34m(\u001b[0m\u001b[0;34m)\u001b[0m\u001b[0;34m:\u001b[0m\u001b[0;34m\u001b[0m\u001b[0;34m\u001b[0m\u001b[0m\n\u001b[1;32m    534\u001b[0m             \u001b[0mhook_result\u001b[0m \u001b[0;34m=\u001b[0m \u001b[0mhook\u001b[0m\u001b[0;34m(\u001b[0m\u001b[0mself\u001b[0m\u001b[0;34m,\u001b[0m \u001b[0minput\u001b[0m\u001b[0;34m,\u001b[0m \u001b[0mresult\u001b[0m\u001b[0;34m)\u001b[0m\u001b[0;34m\u001b[0m\u001b[0;34m\u001b[0m\u001b[0m\n",
      "\u001b[0;32m~/projects/mix_nlp/utf8/models.py\u001b[0m in \u001b[0;36mforward\u001b[0;34m(self, x_in, decode_faiss)\u001b[0m\n\u001b[1;32m    223\u001b[0m         \u001b[0;31m# x = x.transpose(1, 2)\u001b[0m\u001b[0;34m\u001b[0m\u001b[0;34m\u001b[0m\u001b[0;34m\u001b[0m\u001b[0m\n\u001b[1;32m    224\u001b[0m         \u001b[0;31m# [sequence, batch, embed]\u001b[0m\u001b[0;34m\u001b[0m\u001b[0;34m\u001b[0m\u001b[0;34m\u001b[0m\u001b[0m\n\u001b[0;32m--> 225\u001b[0;31m         \u001b[0mx\u001b[0m \u001b[0;34m=\u001b[0m \u001b[0mself\u001b[0m\u001b[0;34m.\u001b[0m\u001b[0mlayers\u001b[0m\u001b[0;34m(\u001b[0m\u001b[0mx\u001b[0m\u001b[0;34m)\u001b[0m\u001b[0;34m\u001b[0m\u001b[0;34m\u001b[0m\u001b[0m\n\u001b[0m\u001b[1;32m    226\u001b[0m         \u001b[0mx\u001b[0m \u001b[0;34m=\u001b[0m \u001b[0mx\u001b[0m\u001b[0;34m.\u001b[0m\u001b[0mpermute\u001b[0m\u001b[0;34m(\u001b[0m\u001b[0;36m1\u001b[0m\u001b[0;34m,\u001b[0m \u001b[0;36m2\u001b[0m\u001b[0;34m,\u001b[0m \u001b[0;36m0\u001b[0m\u001b[0;34m)\u001b[0m\u001b[0;34m.\u001b[0m\u001b[0mcontinuous\u001b[0m\u001b[0;34m(\u001b[0m\u001b[0;34m)\u001b[0m\u001b[0;34m\u001b[0m\u001b[0;34m\u001b[0m\u001b[0m\n\u001b[1;32m    227\u001b[0m         \u001b[0;31m# [batch, embed, sequence]  # needed for linear layers\u001b[0m\u001b[0;34m\u001b[0m\u001b[0;34m\u001b[0m\u001b[0;34m\u001b[0m\u001b[0m\n",
      "\u001b[0;32m~/venv3/lib/python3.7/site-packages/torch/nn/modules/module.py\u001b[0m in \u001b[0;36m__call__\u001b[0;34m(self, *input, **kwargs)\u001b[0m\n\u001b[1;32m    530\u001b[0m             \u001b[0mresult\u001b[0m \u001b[0;34m=\u001b[0m \u001b[0mself\u001b[0m\u001b[0;34m.\u001b[0m\u001b[0m_slow_forward\u001b[0m\u001b[0;34m(\u001b[0m\u001b[0;34m*\u001b[0m\u001b[0minput\u001b[0m\u001b[0;34m,\u001b[0m \u001b[0;34m**\u001b[0m\u001b[0mkwargs\u001b[0m\u001b[0;34m)\u001b[0m\u001b[0;34m\u001b[0m\u001b[0;34m\u001b[0m\u001b[0m\n\u001b[1;32m    531\u001b[0m         \u001b[0;32melse\u001b[0m\u001b[0;34m:\u001b[0m\u001b[0;34m\u001b[0m\u001b[0;34m\u001b[0m\u001b[0m\n\u001b[0;32m--> 532\u001b[0;31m             \u001b[0mresult\u001b[0m \u001b[0;34m=\u001b[0m \u001b[0mself\u001b[0m\u001b[0;34m.\u001b[0m\u001b[0mforward\u001b[0m\u001b[0;34m(\u001b[0m\u001b[0;34m*\u001b[0m\u001b[0minput\u001b[0m\u001b[0;34m,\u001b[0m \u001b[0;34m**\u001b[0m\u001b[0mkwargs\u001b[0m\u001b[0;34m)\u001b[0m\u001b[0;34m\u001b[0m\u001b[0;34m\u001b[0m\u001b[0m\n\u001b[0m\u001b[1;32m    533\u001b[0m         \u001b[0;32mfor\u001b[0m \u001b[0mhook\u001b[0m \u001b[0;32min\u001b[0m \u001b[0mself\u001b[0m\u001b[0;34m.\u001b[0m\u001b[0m_forward_hooks\u001b[0m\u001b[0;34m.\u001b[0m\u001b[0mvalues\u001b[0m\u001b[0;34m(\u001b[0m\u001b[0;34m)\u001b[0m\u001b[0;34m:\u001b[0m\u001b[0;34m\u001b[0m\u001b[0;34m\u001b[0m\u001b[0m\n\u001b[1;32m    534\u001b[0m             \u001b[0mhook_result\u001b[0m \u001b[0;34m=\u001b[0m \u001b[0mhook\u001b[0m\u001b[0;34m(\u001b[0m\u001b[0mself\u001b[0m\u001b[0;34m,\u001b[0m \u001b[0minput\u001b[0m\u001b[0;34m,\u001b[0m \u001b[0mresult\u001b[0m\u001b[0;34m)\u001b[0m\u001b[0;34m\u001b[0m\u001b[0;34m\u001b[0m\u001b[0m\n",
      "\u001b[0;32m~/venv3/lib/python3.7/site-packages/torch/nn/modules/module.py\u001b[0m in \u001b[0;36mforward\u001b[0;34m(self, *input)\u001b[0m\n\u001b[1;32m     94\u001b[0m             \u001b[0mregistered\u001b[0m \u001b[0mhooks\u001b[0m \u001b[0;32mwhile\u001b[0m \u001b[0mthe\u001b[0m \u001b[0mlatter\u001b[0m \u001b[0msilently\u001b[0m \u001b[0mignores\u001b[0m \u001b[0mthem\u001b[0m\u001b[0;34m.\u001b[0m\u001b[0;34m\u001b[0m\u001b[0;34m\u001b[0m\u001b[0m\n\u001b[1;32m     95\u001b[0m         \"\"\"\n\u001b[0;32m---> 96\u001b[0;31m         \u001b[0;32mraise\u001b[0m \u001b[0mNotImplementedError\u001b[0m\u001b[0;34m\u001b[0m\u001b[0;34m\u001b[0m\u001b[0m\n\u001b[0m\u001b[1;32m     97\u001b[0m \u001b[0;34m\u001b[0m\u001b[0m\n\u001b[1;32m     98\u001b[0m     \u001b[0;32mdef\u001b[0m \u001b[0mregister_buffer\u001b[0m\u001b[0;34m(\u001b[0m\u001b[0mself\u001b[0m\u001b[0;34m,\u001b[0m \u001b[0mname\u001b[0m\u001b[0;34m,\u001b[0m \u001b[0mtensor\u001b[0m\u001b[0;34m)\u001b[0m\u001b[0;34m:\u001b[0m\u001b[0;34m\u001b[0m\u001b[0;34m\u001b[0m\u001b[0m\n",
      "\u001b[0;31mNotImplementedError\u001b[0m: "
     ]
    }
   ],
   "source": [
    "macs, flops = thop.profile(dynmodel, inputs=(invect,))\n",
    "macs, flops"
   ]
  },
  {
   "cell_type": "code",
   "execution_count": 11,
   "metadata": {
    "scrolled": true
   },
   "outputs": [
    {
     "name": "stdout",
     "output_type": "stream",
     "text": [
      "/home/leo/venv3/lib/python3.7/site-packages/dynamicconv_layer-0.0.0-py3.7-linux-x86_64.egg/dynamicconv_cuda.cpython-37m-x86_64-linux-gnu.so: undefined symbol: _ZN6caffe26detail37_typeMetaDataInstance_preallocated_32E\n",
      "/home/leo/venv3/lib/python3.7/site-packages/dynamicconv_layer-0.0.0-py3.7-linux-x86_64.egg/dynamicconv_cuda.cpython-37m-x86_64-linux-gnu.so: undefined symbol: _ZN6caffe26detail37_typeMetaDataInstance_preallocated_32E\n",
      "/home/leo/venv3/lib/python3.7/site-packages/dynamicconv_layer-0.0.0-py3.7-linux-x86_64.egg/dynamicconv_cuda.cpython-37m-x86_64-linux-gnu.so: undefined symbol: _ZN6caffe26detail37_typeMetaDataInstance_preallocated_32E\n",
      "/home/leo/venv3/lib/python3.7/site-packages/dynamicconv_layer-0.0.0-py3.7-linux-x86_64.egg/dynamicconv_cuda.cpython-37m-x86_64-linux-gnu.so: undefined symbol: _ZN6caffe26detail37_typeMetaDataInstance_preallocated_32E\n",
      "/home/leo/venv3/lib/python3.7/site-packages/dynamicconv_layer-0.0.0-py3.7-linux-x86_64.egg/dynamicconv_cuda.cpython-37m-x86_64-linux-gnu.so: undefined symbol: _ZN6caffe26detail37_typeMetaDataInstance_preallocated_32E\n",
      "/home/leo/venv3/lib/python3.7/site-packages/dynamicconv_layer-0.0.0-py3.7-linux-x86_64.egg/dynamicconv_cuda.cpython-37m-x86_64-linux-gnu.so: undefined symbol: _ZN6caffe26detail37_typeMetaDataInstance_preallocated_32E\n",
      "/home/leo/venv3/lib/python3.7/site-packages/dynamicconv_layer-0.0.0-py3.7-linux-x86_64.egg/dynamicconv_cuda.cpython-37m-x86_64-linux-gnu.so: undefined symbol: _ZN6caffe26detail37_typeMetaDataInstance_preallocated_32E\n"
     ]
    },
    {
     "data": {
      "text/plain": [
       "ModuleList(\n",
       "  (0): LightConvEncoderLayer(\n",
       "    dropout=0.1, relu_dropout=0.0, input_dropout=0.0, normalize_before=False\n",
       "    (linear1): Linear(in_features=192, out_features=384, bias=True)\n",
       "    (act): GLU(dim=-1)\n",
       "    (conv): DynamicConv1dTBC(\n",
       "      192, kernel_size=3, padding_l=1, num_heads=8, weight_softmax=True, conv_bias=False, renorm_padding=False, in_proj=False, weight_dropout=0.1\n",
       "      (weight_linear): Linear(in_features=192, out_features=24, bias=False)\n",
       "    )\n",
       "    (linear2): Linear(in_features=192, out_features=192, bias=True)\n",
       "    (fc1): Linear(in_features=192, out_features=2048, bias=True)\n",
       "    (fc2): Linear(in_features=2048, out_features=192, bias=True)\n",
       "    (layer_norms): ModuleList(\n",
       "      (0): FusedLayerNorm(torch.Size([192]), eps=1e-05, elementwise_affine=True)\n",
       "      (1): FusedLayerNorm(torch.Size([192]), eps=1e-05, elementwise_affine=True)\n",
       "    )\n",
       "  )\n",
       "  (1): LightConvEncoderLayer(\n",
       "    dropout=0.1, relu_dropout=0.0, input_dropout=0.0, normalize_before=False\n",
       "    (linear1): Linear(in_features=192, out_features=384, bias=True)\n",
       "    (act): GLU(dim=-1)\n",
       "    (conv): DynamicConv1dTBC(\n",
       "      192, kernel_size=7, padding_l=3, num_heads=8, weight_softmax=True, conv_bias=False, renorm_padding=False, in_proj=False, weight_dropout=0.1\n",
       "      (weight_linear): Linear(in_features=192, out_features=56, bias=False)\n",
       "    )\n",
       "    (linear2): Linear(in_features=192, out_features=192, bias=True)\n",
       "    (fc1): Linear(in_features=192, out_features=2048, bias=True)\n",
       "    (fc2): Linear(in_features=2048, out_features=192, bias=True)\n",
       "    (layer_norms): ModuleList(\n",
       "      (0): FusedLayerNorm(torch.Size([192]), eps=1e-05, elementwise_affine=True)\n",
       "      (1): FusedLayerNorm(torch.Size([192]), eps=1e-05, elementwise_affine=True)\n",
       "    )\n",
       "  )\n",
       "  (2): LightConvEncoderLayer(\n",
       "    dropout=0.1, relu_dropout=0.0, input_dropout=0.0, normalize_before=False\n",
       "    (linear1): Linear(in_features=192, out_features=384, bias=True)\n",
       "    (act): GLU(dim=-1)\n",
       "    (conv): DynamicConv1dTBC(\n",
       "      192, kernel_size=15, padding_l=7, num_heads=8, weight_softmax=True, conv_bias=False, renorm_padding=False, in_proj=False, weight_dropout=0.1\n",
       "      (weight_linear): Linear(in_features=192, out_features=120, bias=False)\n",
       "    )\n",
       "    (linear2): Linear(in_features=192, out_features=192, bias=True)\n",
       "    (fc1): Linear(in_features=192, out_features=2048, bias=True)\n",
       "    (fc2): Linear(in_features=2048, out_features=192, bias=True)\n",
       "    (layer_norms): ModuleList(\n",
       "      (0): FusedLayerNorm(torch.Size([192]), eps=1e-05, elementwise_affine=True)\n",
       "      (1): FusedLayerNorm(torch.Size([192]), eps=1e-05, elementwise_affine=True)\n",
       "    )\n",
       "  )\n",
       "  (3): LightConvEncoderLayer(\n",
       "    dropout=0.1, relu_dropout=0.0, input_dropout=0.0, normalize_before=False\n",
       "    (linear1): Linear(in_features=192, out_features=384, bias=True)\n",
       "    (act): GLU(dim=-1)\n",
       "    (conv): DynamicConv1dTBC(\n",
       "      192, kernel_size=31, padding_l=15, num_heads=8, weight_softmax=True, conv_bias=False, renorm_padding=False, in_proj=False, weight_dropout=0.1\n",
       "      (weight_linear): Linear(in_features=192, out_features=248, bias=False)\n",
       "    )\n",
       "    (linear2): Linear(in_features=192, out_features=192, bias=True)\n",
       "    (fc1): Linear(in_features=192, out_features=2048, bias=True)\n",
       "    (fc2): Linear(in_features=2048, out_features=192, bias=True)\n",
       "    (layer_norms): ModuleList(\n",
       "      (0): FusedLayerNorm(torch.Size([192]), eps=1e-05, elementwise_affine=True)\n",
       "      (1): FusedLayerNorm(torch.Size([192]), eps=1e-05, elementwise_affine=True)\n",
       "    )\n",
       "  )\n",
       "  (4): LightConvEncoderLayer(\n",
       "    dropout=0.1, relu_dropout=0.0, input_dropout=0.0, normalize_before=False\n",
       "    (linear1): Linear(in_features=192, out_features=384, bias=True)\n",
       "    (act): GLU(dim=-1)\n",
       "    (conv): DynamicConv1dTBC(\n",
       "      192, kernel_size=31, padding_l=15, num_heads=8, weight_softmax=True, conv_bias=False, renorm_padding=False, in_proj=False, weight_dropout=0.1\n",
       "      (weight_linear): Linear(in_features=192, out_features=248, bias=False)\n",
       "    )\n",
       "    (linear2): Linear(in_features=192, out_features=192, bias=True)\n",
       "    (fc1): Linear(in_features=192, out_features=2048, bias=True)\n",
       "    (fc2): Linear(in_features=2048, out_features=192, bias=True)\n",
       "    (layer_norms): ModuleList(\n",
       "      (0): FusedLayerNorm(torch.Size([192]), eps=1e-05, elementwise_affine=True)\n",
       "      (1): FusedLayerNorm(torch.Size([192]), eps=1e-05, elementwise_affine=True)\n",
       "    )\n",
       "  )\n",
       "  (5): LightConvEncoderLayer(\n",
       "    dropout=0.1, relu_dropout=0.0, input_dropout=0.0, normalize_before=False\n",
       "    (linear1): Linear(in_features=192, out_features=384, bias=True)\n",
       "    (act): GLU(dim=-1)\n",
       "    (conv): DynamicConv1dTBC(\n",
       "      192, kernel_size=31, padding_l=15, num_heads=8, weight_softmax=True, conv_bias=False, renorm_padding=False, in_proj=False, weight_dropout=0.1\n",
       "      (weight_linear): Linear(in_features=192, out_features=248, bias=False)\n",
       "    )\n",
       "    (linear2): Linear(in_features=192, out_features=192, bias=True)\n",
       "    (fc1): Linear(in_features=192, out_features=2048, bias=True)\n",
       "    (fc2): Linear(in_features=2048, out_features=192, bias=True)\n",
       "    (layer_norms): ModuleList(\n",
       "      (0): FusedLayerNorm(torch.Size([192]), eps=1e-05, elementwise_affine=True)\n",
       "      (1): FusedLayerNorm(torch.Size([192]), eps=1e-05, elementwise_affine=True)\n",
       "    )\n",
       "  )\n",
       "  (6): LightConvEncoderLayer(\n",
       "    dropout=0.1, relu_dropout=0.0, input_dropout=0.0, normalize_before=False\n",
       "    (linear1): Linear(in_features=192, out_features=384, bias=True)\n",
       "    (act): GLU(dim=-1)\n",
       "    (conv): DynamicConv1dTBC(\n",
       "      192, kernel_size=31, padding_l=15, num_heads=8, weight_softmax=True, conv_bias=False, renorm_padding=False, in_proj=False, weight_dropout=0.1\n",
       "      (weight_linear): Linear(in_features=192, out_features=248, bias=False)\n",
       "    )\n",
       "    (linear2): Linear(in_features=192, out_features=192, bias=True)\n",
       "    (fc1): Linear(in_features=192, out_features=2048, bias=True)\n",
       "    (fc2): Linear(in_features=2048, out_features=192, bias=True)\n",
       "    (layer_norms): ModuleList(\n",
       "      (0): FusedLayerNorm(torch.Size([192]), eps=1e-05, elementwise_affine=True)\n",
       "      (1): FusedLayerNorm(torch.Size([192]), eps=1e-05, elementwise_affine=True)\n",
       "    )\n",
       "  )\n",
       ")"
      ]
     },
     "execution_count": 11,
     "metadata": {},
     "output_type": "execute_result"
    }
   ],
   "source": [
    "import torch\n",
    "import math\n",
    "import torch\n",
    "import torch.nn as nn\n",
    "from torch.nn import functional as F\n",
    "from torch.nn.utils import weight_norm\n",
    "# from fairseq.modules.dynamic_convolution import DynamicConv\n",
    "from fairseq.models.lightconv import LightConvEncoderLayer, base_architecture\n",
    "from fairseq.modules.positional_embedding import PositionalEmbedding\n",
    "seq_len=512\n",
    "lang_seq_len=60\n",
    "vocab_size=1871\n",
    "in_dim=96\n",
    "hidd_dim=1024\n",
    "emb_dim=192\n",
    "enc_dropout=0.1\n",
    "encoder_kernel_size_list=[3, 7, 15, 31, 31, 31, 31]\n",
    "encoder_glu=True\n",
    "weight_softmax=True\n",
    "encoder_attention_heads=8\n",
    "encoder_ff_size=2048\n",
    "\n",
    "\n",
    "embed_scale = math.sqrt(emb_dim)\n",
    "args = argparse.Namespace()\n",
    "args.dropout = 0.1\n",
    "args.encoder_conv_type = \"dynamic\"\n",
    "args.encoder_kernel_size_list = encoder_kernel_size_list\n",
    "args.encoder_glu = encoder_glu\n",
    "args.weight_softmax = weight_softmax\n",
    "args.encoder_attention_heads = encoder_attention_heads\n",
    "args.weight_dropout = enc_dropout\n",
    "args.relu_dropout = 0.\n",
    "args.input_dropout = 0.\n",
    "args.encoder_normalize_before = False\n",
    "# args.encoder_normalize_after = True\n",
    "args.encoder_layers = len(encoder_kernel_size_list)\n",
    "args.encoder_ffn_embed_dim = encoder_ff_size\n",
    "args.encoder_embed_dim = emb_dim\n",
    "args.encoder_conv_dim = args.encoder_embed_dim\n",
    "args.max_source_positions = 4096  # , 8192, 16384\n",
    "base_architecture(args)\n",
    "\n",
    "embed_positions = PositionalEmbedding(args.max_source_positions, emb_dim, padding_idx=0)\n",
    "\n",
    "layers = nn.ModuleList([])\n",
    "layers.extend([\n",
    "    LightConvEncoderLayer(args, kernel_size=args.encoder_kernel_size_list[i])\n",
    "    for i in range(args.encoder_layers)\n",
    "])\n"
   ]
  },
  {
   "cell_type": "code",
   "execution_count": 12,
   "metadata": {},
   "outputs": [
    {
     "data": {
      "text/plain": [
       "torch.Tensor"
      ]
     },
     "execution_count": 12,
     "metadata": {},
     "output_type": "execute_result"
    }
   ],
   "source": [
    "invect = torch.rand(size=(1, 384, 192)).to(device)\n",
    "type(invect)"
   ]
  },
  {
   "cell_type": "code",
   "execution_count": 13,
   "metadata": {},
   "outputs": [
    {
     "name": "stdout",
     "output_type": "stream",
     "text": [
      "CPU times: user 2.05 s, sys: 765 ms, total: 2.82 s\n",
      "Wall time: 2.82 s\n"
     ]
    }
   ],
   "source": [
    "%%time\n",
    "layers.to(device)\n",
    "r = layers[0](invect,encoder_padding_mask=None)"
   ]
  },
  {
   "cell_type": "code",
   "execution_count": 5,
   "metadata": {},
   "outputs": [],
   "source": [
    "mixedblock = MixtureEncoderBlock().to(device)"
   ]
  },
  {
   "cell_type": "code",
   "execution_count": 6,
   "metadata": {},
   "outputs": [
    {
     "data": {
      "text/plain": [
       "(3467520, 3467520)"
      ]
     },
     "execution_count": 6,
     "metadata": {},
     "output_type": "execute_result"
    }
   ],
   "source": [
    "count_parameters(mixedblock), count_trainable_parameters(mixedblock)"
   ]
  },
  {
   "cell_type": "code",
   "execution_count": 7,
   "metadata": {},
   "outputs": [
    {
     "data": {
      "text/plain": [
       "(3467520, 3467520)"
      ]
     },
     "execution_count": 7,
     "metadata": {},
     "output_type": "execute_result"
    }
   ],
   "source": [
    "count_parameters(mixedblock), count_trainable_parameters(mixedblock)"
   ]
  },
  {
   "cell_type": "code",
   "execution_count": 8,
   "metadata": {},
   "outputs": [],
   "source": [
    "# invect = torch.randint(0,2**10, (1024, 2048))\n",
    "# invect = torch.randn((240, 2048, 192)).to(device) # 240 as batch size is the MAX it supports there in my memory... \n",
    "invect = torch.randn((24, 2048, 256)).to(device) "
   ]
  },
  {
   "cell_type": "code",
   "execution_count": 9,
   "metadata": {
    "scrolled": true
   },
   "outputs": [],
   "source": [
    "# %time macs, flops = thop.profile(mixedblock, inputs=(invect,))"
   ]
  },
  {
   "cell_type": "code",
   "execution_count": 10,
   "metadata": {},
   "outputs": [],
   "source": [
    "# macs, flops"
   ]
  },
  {
   "cell_type": "code",
   "execution_count": 11,
   "metadata": {
    "scrolled": true
   },
   "outputs": [],
   "source": [
    "# mixedblock(invect)"
   ]
  },
  {
   "cell_type": "code",
   "execution_count": 12,
   "metadata": {},
   "outputs": [],
   "source": [
    "# macs, flops"
   ]
  },
  {
   "cell_type": "code",
   "execution_count": 13,
   "metadata": {},
   "outputs": [],
   "source": [
    "cm = ConvModel(codebook).to(device)"
   ]
  },
  {
   "cell_type": "code",
   "execution_count": 14,
   "metadata": {},
   "outputs": [],
   "source": [
    "# cm.embeds.requires_grad=False"
   ]
  },
  {
   "cell_type": "code",
   "execution_count": 15,
   "metadata": {},
   "outputs": [
    {
     "data": {
      "text/plain": [
       "(14731282, 14551666)"
      ]
     },
     "execution_count": 15,
     "metadata": {},
     "output_type": "execute_result"
    }
   ],
   "source": [
    "count_parameters(cm), count_trainable_parameters(cm)"
   ]
  },
  {
   "cell_type": "code",
   "execution_count": 16,
   "metadata": {},
   "outputs": [],
   "source": [
    "# cm.embeds.requires_grad_(False)"
   ]
  },
  {
   "cell_type": "code",
   "execution_count": 17,
   "metadata": {
    "scrolled": true
   },
   "outputs": [
    {
     "name": "stderr",
     "output_type": "stream",
     "text": [
      "Either .total_ops or .total_params is already defined in Conv1d(512, 1024, kernel_size=(1,), stride=(1,)). Be careful, it might change your code's behavior.\n",
      "Either .total_ops or .total_params is already defined in Conv1d(512, 1024, kernel_size=(3,), stride=(1,), padding=(1,), groups=4). Be careful, it might change your code's behavior.\n",
      "Either .total_ops or .total_params is already defined in Conv1d(1024, 1024, kernel_size=(3,), stride=(1,), padding=(1,), groups=4). Be careful, it might change your code's behavior.\n",
      "Either .total_ops or .total_params is already defined in Conv1d(1024, 1024, kernel_size=(3,), stride=(1,), padding=(1,), groups=4). Be careful, it might change your code's behavior.\n",
      "Either .total_ops or .total_params is already defined in Dropout(p=0.3, inplace=False). Be careful, it might change your code's behavior.\n",
      "Either .total_ops or .total_params is already defined in Conv1d(1024, 1024, kernel_size=(1,), stride=(1,)). Be careful, it might change your code's behavior.\n",
      "Either .total_ops or .total_params is already defined in Conv1d(1024, 1024, kernel_size=(3,), stride=(1,), padding=(1,), groups=4). Be careful, it might change your code's behavior.\n",
      "Either .total_ops or .total_params is already defined in Conv1d(1024, 1024, kernel_size=(3,), stride=(1,), padding=(1,), groups=4). Be careful, it might change your code's behavior.\n",
      "Either .total_ops or .total_params is already defined in Conv1d(1024, 1024, kernel_size=(3,), stride=(1,), padding=(1,), groups=4). Be careful, it might change your code's behavior.\n",
      "Either .total_ops or .total_params is already defined in Conv1d(1024, 1024, kernel_size=(3,), stride=(1,), padding=(1,), groups=4). Be careful, it might change your code's behavior.\n",
      "Either .total_ops or .total_params is already defined in Conv1d(1024, 1024, kernel_size=(3,), stride=(1,), padding=(1,), groups=4). Be careful, it might change your code's behavior.\n",
      "Either .total_ops or .total_params is already defined in Dropout(p=0.3, inplace=False). Be careful, it might change your code's behavior.\n",
      "Either .total_ops or .total_params is already defined in Conv1d(1024, 512, kernel_size=(1,), stride=(1,)). Be careful, it might change your code's behavior.\n",
      "Either .total_ops or .total_params is already defined in Conv1d(1024, 512, kernel_size=(3,), stride=(1,), padding=(1,), groups=4). Be careful, it might change your code's behavior.\n",
      "Either .total_ops or .total_params is already defined in Conv1d(512, 512, kernel_size=(3,), stride=(1,), padding=(1,), groups=4). Be careful, it might change your code's behavior.\n",
      "Either .total_ops or .total_params is already defined in Conv1d(512, 512, kernel_size=(3,), stride=(1,), padding=(1,), groups=4). Be careful, it might change your code's behavior.\n",
      "Either .total_ops or .total_params is already defined in Conv1d(512, 512, kernel_size=(3,), stride=(1,), padding=(1,), groups=4). Be careful, it might change your code's behavior.\n",
      "Either .total_ops or .total_params is already defined in Conv1d(512, 512, kernel_size=(3,), stride=(1,), padding=(1,), groups=4). Be careful, it might change your code's behavior.\n",
      "Either .total_ops or .total_params is already defined in Dropout(p=0.3, inplace=False). Be careful, it might change your code's behavior.\n",
      "Either .total_ops or .total_params is already defined in Conv1d(512, 192, kernel_size=(1,), stride=(1,)). Be careful, it might change your code's behavior.\n",
      "Either .total_ops or .total_params is already defined in Conv1d(512, 192, kernel_size=(3,), stride=(1,), padding=(1,), groups=4). Be careful, it might change your code's behavior.\n",
      "Either .total_ops or .total_params is already defined in Conv1d(192, 192, kernel_size=(3,), stride=(1,), padding=(1,), groups=4). Be careful, it might change your code's behavior.\n",
      "Either .total_ops or .total_params is already defined in Conv1d(192, 192, kernel_size=(3,), stride=(1,), padding=(1,), groups=4). Be careful, it might change your code's behavior.\n",
      "Either .total_ops or .total_params is already defined in Conv1d(192, 192, kernel_size=(3,), stride=(1,), padding=(1,), groups=4). Be careful, it might change your code's behavior.\n",
      "Either .total_ops or .total_params is already defined in Conv1d(192, 192, kernel_size=(3,), stride=(1,), padding=(1,), groups=4). Be careful, it might change your code's behavior.\n",
      "Either .total_ops or .total_params is already defined in Dropout(p=0.3, inplace=False). Be careful, it might change your code's behavior.\n",
      "Either .total_ops or .total_params is already defined in Conv1d(192, 192, kernel_size=(1,), stride=(1,)). Be careful, it might change your code's behavior.\n",
      "Either .total_ops or .total_params is already defined in Conv1d(192, 192, kernel_size=(3,), stride=(1,), padding=(1,), groups=4). Be careful, it might change your code's behavior.\n",
      "Either .total_ops or .total_params is already defined in Conv1d(192, 192, kernel_size=(3,), stride=(1,), padding=(1,), groups=4). Be careful, it might change your code's behavior.\n",
      "Either .total_ops or .total_params is already defined in Conv1d(192, 192, kernel_size=(3,), stride=(1,), padding=(1,), groups=4). Be careful, it might change your code's behavior.\n",
      "Either .total_ops or .total_params is already defined in Dropout(p=0.3, inplace=False). Be careful, it might change your code's behavior.\n"
     ]
    },
    {
     "name": "stdout",
     "output_type": "stream",
     "text": [
      "CPU times: user 58 ms, sys: 24.5 ms, total: 82.5 ms\n",
      "Wall time: 78.6 ms\n"
     ]
    },
    {
     "name": "stderr",
     "output_type": "stream",
     "text": [
      "/home/leo/venv3/lib/python3.7/site-packages/torch/nn/functional.py:1351: UserWarning: nn.functional.sigmoid is deprecated. Use torch.sigmoid instead.\n",
      "  warnings.warn(\"nn.functional.sigmoid is deprecated. Use torch.sigmoid instead.\")\n"
     ]
    },
    {
     "data": {
      "text/plain": [
       "(239024029696.0, 13904398.0)"
      ]
     },
     "execution_count": 17,
     "metadata": {},
     "output_type": "execute_result"
    }
   ],
   "source": [
    "%%time \n",
    "invect = torch.randint(0,2**10, (24, 512)).to(device)\n",
    "macs, flops = thop.profile(cm, inputs=(invect,))\n",
    "macs, flops"
   ]
  },
  {
   "cell_type": "code",
   "execution_count": 18,
   "metadata": {
    "scrolled": true
   },
   "outputs": [],
   "source": [
    "# cm(invect)"
   ]
  },
  {
   "cell_type": "code",
   "execution_count": null,
   "metadata": {},
   "outputs": [],
   "source": [
    "# checkpoint = {\n",
    "#                 'model': model.state_dict(),\n",
    "#                 'optimizer': optimizer.state_dict(),\n",
    "#                 'amp': amp.state_dict()\n",
    "#             }\n",
    "import os\n",
    "chkp_path = \"/media/nfs/mix_nlp/checkpoints\"\n",
    "chkp_fname = os.path.join(chkp_path, \"amp-checkpoint_opt-O2_loss-0.001_2020-02-15T11:12:26.762745.pt\")\n",
    "# chkp_fname = os.path.join(chkp_path, \"\")\n",
    "# chkp_fname = os.path.join(chkp_path, \"\")\n",
    "\n",
    "def load_checkpoint(clean_model, fname, optimizer=None, amp=None):\n",
    "    chkp = torch.load(fname)\n",
    "    clean_model.load_state_dict(chkp['model'])\n",
    "    if optimizer:\n",
    "        optimizer.load_state_dict(chkp['optimizer'])\n",
    "    if amp:\n",
    "        amp.load_state_dict(chkp['amp'])\n",
    "    return chkp\n",
    "\n"
   ]
  },
  {
   "cell_type": "code",
   "execution_count": 6,
   "metadata": {},
   "outputs": [
    {
     "ename": "AttributeError",
     "evalue": "cannot assign module before Module.__init__() call",
     "output_type": "error",
     "traceback": [
      "\u001b[0;31m---------------------------------------------------------------------------\u001b[0m",
      "\u001b[0;31mAttributeError\u001b[0m                            Traceback (most recent call last)",
      "\u001b[0;32m<ipython-input-6-b710612fd29b>\u001b[0m in \u001b[0;36m<module>\u001b[0;34m\u001b[0m\n\u001b[0;32m----> 1\u001b[0;31m \u001b[0mdynmodel\u001b[0m \u001b[0;34m=\u001b[0m \u001b[0mDynConvColModel\u001b[0m\u001b[0;34m(\u001b[0m\u001b[0mcodebook\u001b[0m\u001b[0;34m)\u001b[0m\u001b[0;34m\u001b[0m\u001b[0;34m\u001b[0m\u001b[0m\n\u001b[0m",
      "\u001b[0;32m~/projects/mix_nlp/utf8/models.py\u001b[0m in \u001b[0;36m__init__\u001b[0;34m(self, embed_matrix, seq_len, lang_seq_len, vocab_size, in_dim, hidd_dim, emb_dim, enc_dropout, encoder_kernel_size_list, encoder_glu, weight_softmax, encoder_attention_heads, encoder_ff_size, dec_input_size, segments, N, k, coprimes, cycles, dec_use_transformer, transformer_ff_size, dec_activation, dec_dropout)\u001b[0m\n\u001b[1;32m    132\u001b[0m         \u001b[0;31m# needs the Embedding matrix\u001b[0m\u001b[0;34m\u001b[0m\u001b[0;34m\u001b[0m\u001b[0;34m\u001b[0m\u001b[0m\n\u001b[1;32m    133\u001b[0m         \u001b[0;31m# with torch.no_grad():\u001b[0m\u001b[0;34m\u001b[0m\u001b[0;34m\u001b[0m\u001b[0;34m\u001b[0m\u001b[0m\n\u001b[0;32m--> 134\u001b[0;31m         \u001b[0mself\u001b[0m\u001b[0;34m.\u001b[0m\u001b[0membeds\u001b[0m \u001b[0;34m=\u001b[0m \u001b[0mnn\u001b[0m\u001b[0;34m.\u001b[0m\u001b[0mEmbedding\u001b[0m\u001b[0;34m(\u001b[0m\u001b[0;34m*\u001b[0m\u001b[0membed_matrix\u001b[0m\u001b[0;34m.\u001b[0m\u001b[0mshape\u001b[0m\u001b[0;34m)\u001b[0m\u001b[0;34m\u001b[0m\u001b[0;34m\u001b[0m\u001b[0m\n\u001b[0m\u001b[1;32m    135\u001b[0m         \u001b[0mself\u001b[0m\u001b[0;34m.\u001b[0m\u001b[0membeds\u001b[0m\u001b[0;34m.\u001b[0m\u001b[0mweight\u001b[0m\u001b[0;34m.\u001b[0m\u001b[0mdata\u001b[0m\u001b[0;34m.\u001b[0m\u001b[0mcopy_\u001b[0m\u001b[0;34m(\u001b[0m\u001b[0mtorch\u001b[0m\u001b[0;34m.\u001b[0m\u001b[0mfrom_numpy\u001b[0m\u001b[0;34m(\u001b[0m\u001b[0membed_matrix\u001b[0m\u001b[0;34m)\u001b[0m\u001b[0;34m)\u001b[0m\u001b[0;34m\u001b[0m\u001b[0;34m\u001b[0m\u001b[0m\n\u001b[1;32m    136\u001b[0m         \u001b[0;31m# self.embeds.requires_grad = False\u001b[0m\u001b[0;34m\u001b[0m\u001b[0;34m\u001b[0m\u001b[0;34m\u001b[0m\u001b[0m\n",
      "\u001b[0;32m~/venv3/lib/python3.7/site-packages/torch/nn/modules/module.py\u001b[0m in \u001b[0;36m__setattr__\u001b[0;34m(self, name, value)\u001b[0m\n\u001b[1;32m    600\u001b[0m                 \u001b[0;32mif\u001b[0m \u001b[0mmodules\u001b[0m \u001b[0;32mis\u001b[0m \u001b[0;32mNone\u001b[0m\u001b[0;34m:\u001b[0m\u001b[0;34m\u001b[0m\u001b[0;34m\u001b[0m\u001b[0m\n\u001b[1;32m    601\u001b[0m                     raise AttributeError(\n\u001b[0;32m--> 602\u001b[0;31m                         \"cannot assign module before Module.__init__() call\")\n\u001b[0m\u001b[1;32m    603\u001b[0m                 \u001b[0mremove_from\u001b[0m\u001b[0;34m(\u001b[0m\u001b[0mself\u001b[0m\u001b[0;34m.\u001b[0m\u001b[0m__dict__\u001b[0m\u001b[0;34m,\u001b[0m \u001b[0mself\u001b[0m\u001b[0;34m.\u001b[0m\u001b[0m_parameters\u001b[0m\u001b[0;34m,\u001b[0m \u001b[0mself\u001b[0m\u001b[0;34m.\u001b[0m\u001b[0m_buffers\u001b[0m\u001b[0;34m)\u001b[0m\u001b[0;34m\u001b[0m\u001b[0;34m\u001b[0m\u001b[0m\n\u001b[1;32m    604\u001b[0m                 \u001b[0mmodules\u001b[0m\u001b[0;34m[\u001b[0m\u001b[0mname\u001b[0m\u001b[0;34m]\u001b[0m \u001b[0;34m=\u001b[0m \u001b[0mvalue\u001b[0m\u001b[0;34m\u001b[0m\u001b[0;34m\u001b[0m\u001b[0m\n",
      "\u001b[0;31mAttributeError\u001b[0m: cannot assign module before Module.__init__() call"
     ]
    }
   ],
   "source": []
  },
  {
   "cell_type": "code",
   "execution_count": null,
   "metadata": {},
   "outputs": [],
   "source": []
  }
 ],
 "metadata": {
  "kernelspec": {
   "display_name": "Python 3",
   "language": "python",
   "name": "python3"
  },
  "language_info": {
   "codemirror_mode": {
    "name": "ipython",
    "version": 3
   },
   "file_extension": ".py",
   "mimetype": "text/x-python",
   "name": "python",
   "nbconvert_exporter": "python",
   "pygments_lexer": "ipython3",
   "version": "3.7.3"
  }
 },
 "nbformat": 4,
 "nbformat_minor": 4
}
