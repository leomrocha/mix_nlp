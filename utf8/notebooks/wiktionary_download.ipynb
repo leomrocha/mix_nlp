{
 "cells": [
  {
   "cell_type": "markdown",
   "metadata": {},
   "source": [
    "# Wiktionary database download \n",
    "\n",
    "This notebook is to download the wiktionaries from a list of given languages"
   ]
  },
  {
   "cell_type": "code",
   "execution_count": 1,
   "metadata": {},
   "outputs": [],
   "source": [
    "langs = ['af', 'be', 'bg', 'ca', 'cs', 'cy', 'da', 'de', 'el', 'en', 'es', 'et', 'eu', 'fi', 'fr', \n",
    "         'fro', 'ga', 'gd', 'gl', 'grc', 'gsw', 'he', 'hr', 'hu', 'hy', 'it', 'la', 'lt', 'lv', \n",
    "         'mt', 'nl', 'no', 'pl', 'pt', 'ro', 'ru', 'sk', 'sl', 'sr', 'sv', 'tr', 'uk']\n",
    "\n",
    "cmd = \"python /home/leo/projects/wikiteam/dumpgenerator.py http://{}.wiktionary.org --xml --curonly\""
   ]
  },
  {
   "cell_type": "code",
   "execution_count": 2,
   "metadata": {},
   "outputs": [
    {
     "name": "stdout",
     "output_type": "stream",
     "text": [
      "/home/leo/projects/Datasets/text/wiktionary\n"
     ]
    }
   ],
   "source": [
    "cd /home/leo/projects/Datasets/text/wiktionary/"
   ]
  },
  {
   "cell_type": "code",
   "execution_count": null,
   "metadata": {},
   "outputs": [],
   "source": []
  },
  {
   "cell_type": "code",
   "execution_count": 3,
   "metadata": {
    "scrolled": true
   },
   "outputs": [
    {
     "name": "stdout",
     "output_type": "stream",
     "text": [
      "python /home/leo/projects/wikiteam/dumpgenerator.py http://af.wiktionary.org --xml --curonly\n",
      "python /home/leo/projects/wikiteam/dumpgenerator.py http://be.wiktionary.org --xml --curonly\n",
      "python /home/leo/projects/wikiteam/dumpgenerator.py http://bg.wiktionary.org --xml --curonly\n",
      "python /home/leo/projects/wikiteam/dumpgenerator.py http://ca.wiktionary.org --xml --curonly\n",
      "python /home/leo/projects/wikiteam/dumpgenerator.py http://cs.wiktionary.org --xml --curonly\n",
      "python /home/leo/projects/wikiteam/dumpgenerator.py http://cy.wiktionary.org --xml --curonly\n",
      "python /home/leo/projects/wikiteam/dumpgenerator.py http://da.wiktionary.org --xml --curonly\n",
      "python /home/leo/projects/wikiteam/dumpgenerator.py http://de.wiktionary.org --xml --curonly\n",
      "python /home/leo/projects/wikiteam/dumpgenerator.py http://el.wiktionary.org --xml --curonly\n",
      "python /home/leo/projects/wikiteam/dumpgenerator.py http://en.wiktionary.org --xml --curonly\n",
      "python /home/leo/projects/wikiteam/dumpgenerator.py http://es.wiktionary.org --xml --curonly\n",
      "python /home/leo/projects/wikiteam/dumpgenerator.py http://et.wiktionary.org --xml --curonly\n",
      "python /home/leo/projects/wikiteam/dumpgenerator.py http://eu.wiktionary.org --xml --curonly\n",
      "python /home/leo/projects/wikiteam/dumpgenerator.py http://fi.wiktionary.org --xml --curonly\n",
      "python /home/leo/projects/wikiteam/dumpgenerator.py http://fr.wiktionary.org --xml --curonly\n",
      "python /home/leo/projects/wikiteam/dumpgenerator.py http://fro.wiktionary.org --xml --curonly\n",
      "python /home/leo/projects/wikiteam/dumpgenerator.py http://ga.wiktionary.org --xml --curonly\n",
      "python /home/leo/projects/wikiteam/dumpgenerator.py http://gd.wiktionary.org --xml --curonly\n",
      "python /home/leo/projects/wikiteam/dumpgenerator.py http://gl.wiktionary.org --xml --curonly\n",
      "python /home/leo/projects/wikiteam/dumpgenerator.py http://grc.wiktionary.org --xml --curonly\n",
      "python /home/leo/projects/wikiteam/dumpgenerator.py http://gsw.wiktionary.org --xml --curonly\n",
      "python /home/leo/projects/wikiteam/dumpgenerator.py http://he.wiktionary.org --xml --curonly\n",
      "python /home/leo/projects/wikiteam/dumpgenerator.py http://hr.wiktionary.org --xml --curonly\n",
      "python /home/leo/projects/wikiteam/dumpgenerator.py http://hu.wiktionary.org --xml --curonly\n",
      "python /home/leo/projects/wikiteam/dumpgenerator.py http://hy.wiktionary.org --xml --curonly\n",
      "python /home/leo/projects/wikiteam/dumpgenerator.py http://it.wiktionary.org --xml --curonly\n",
      "python /home/leo/projects/wikiteam/dumpgenerator.py http://la.wiktionary.org --xml --curonly\n",
      "python /home/leo/projects/wikiteam/dumpgenerator.py http://lt.wiktionary.org --xml --curonly\n",
      "python /home/leo/projects/wikiteam/dumpgenerator.py http://lv.wiktionary.org --xml --curonly\n",
      "python /home/leo/projects/wikiteam/dumpgenerator.py http://mt.wiktionary.org --xml --curonly\n",
      "python /home/leo/projects/wikiteam/dumpgenerator.py http://nl.wiktionary.org --xml --curonly\n",
      "python /home/leo/projects/wikiteam/dumpgenerator.py http://no.wiktionary.org --xml --curonly\n",
      "python /home/leo/projects/wikiteam/dumpgenerator.py http://pl.wiktionary.org --xml --curonly\n",
      "python /home/leo/projects/wikiteam/dumpgenerator.py http://pt.wiktionary.org --xml --curonly\n",
      "python /home/leo/projects/wikiteam/dumpgenerator.py http://ro.wiktionary.org --xml --curonly\n",
      "python /home/leo/projects/wikiteam/dumpgenerator.py http://ru.wiktionary.org --xml --curonly\n",
      "python /home/leo/projects/wikiteam/dumpgenerator.py http://sk.wiktionary.org --xml --curonly\n",
      "python /home/leo/projects/wikiteam/dumpgenerator.py http://sl.wiktionary.org --xml --curonly\n",
      "python /home/leo/projects/wikiteam/dumpgenerator.py http://sr.wiktionary.org --xml --curonly\n",
      "python /home/leo/projects/wikiteam/dumpgenerator.py http://sv.wiktionary.org --xml --curonly\n",
      "python /home/leo/projects/wikiteam/dumpgenerator.py http://tr.wiktionary.org --xml --curonly\n",
      "python /home/leo/projects/wikiteam/dumpgenerator.py http://uk.wiktionary.org --xml --curonly\n"
     ]
    }
   ],
   "source": [
    "\n",
    "import os\n",
    "\n",
    "for l in langs:\n",
    "    try:\n",
    "        c = cmd.format(l)\n",
    "        print(c)\n",
    "        os.system(c)\n",
    "    except Exception as e:\n",
    "        print(\"lang {} not existing\".format(l), e)\n",
    "        pass"
   ]
  },
  {
   "cell_type": "code",
   "execution_count": null,
   "metadata": {},
   "outputs": [],
   "source": []
  }
 ],
 "metadata": {
  "kernelspec": {
   "display_name": "Python 3",
   "language": "python",
   "name": "python3"
  },
  "language_info": {
   "codemirror_mode": {
    "name": "ipython",
    "version": 3
   },
   "file_extension": ".py",
   "mimetype": "text/x-python",
   "name": "python",
   "nbconvert_exporter": "python",
   "pygments_lexer": "ipython3",
   "version": "3.8.2"
  }
 },
 "nbformat": 4,
 "nbformat_minor": 4
}
