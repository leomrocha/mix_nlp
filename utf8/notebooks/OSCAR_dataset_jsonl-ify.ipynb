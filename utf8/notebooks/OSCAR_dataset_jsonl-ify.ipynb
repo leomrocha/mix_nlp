{
 "cells": [
  {
   "cell_type": "markdown",
   "metadata": {},
   "source": [
    "# OSCAR Dataset preprocessing\n",
    "\n",
    "Convert the OSCAR datasets to jsonl for SpaCy pretraining script\n",
    "\n"
   ]
  },
  {
   "cell_type": "code",
   "execution_count": 1,
   "metadata": {},
   "outputs": [],
   "source": [
    "import os\n",
    "import sys\n",
    "import json\n",
    "import jsonlines\n"
   ]
  },
  {
   "cell_type": "code",
   "execution_count": 21,
   "metadata": {},
   "outputs": [],
   "source": [
    "\n",
    "def part2jsonl(fname): \n",
    "    with open(fname, 'r') as f: \n",
    "        fout = open(fname+'.jsonl', 'w')\n",
    "        jsnl = jsonlines.Writer(fout)\n",
    "        jlines = [] \n",
    "        flines = f.readlines() \n",
    "        for ln in flines: \n",
    "            obj = {'text': ln.replace('\\n','')}\n",
    "            jlines.append(obj)\n",
    "            jsnl.write(obj)\n",
    "        jsnl.close()\n",
    "        fout.flush()\n",
    "        fout.close()\n"
   ]
  },
  {
   "cell_type": "code",
   "execution_count": 10,
   "metadata": {},
   "outputs": [
    {
     "data": {
      "text/plain": [
       "'/media/nfs/Datasets/text/OSCAR/fr_dedup'"
      ]
     },
     "execution_count": 10,
     "metadata": {},
     "output_type": "execute_result"
    }
   ],
   "source": [
    "pwd"
   ]
  },
  {
   "cell_type": "code",
   "execution_count": 11,
   "metadata": {},
   "outputs": [
    {
     "name": "stdout",
     "output_type": "stream",
     "text": [
      "/media/nfs/Datasets/text/OSCAR/fr_dedup\n"
     ]
    }
   ],
   "source": [
    "cd /media/nfs/Datasets/text/OSCAR/fr_dedup"
   ]
  },
  {
   "cell_type": "code",
   "execution_count": 12,
   "metadata": {},
   "outputs": [
    {
     "name": "stdout",
     "output_type": "stream",
     "text": [
      "fr_dedup.txt.part.aa  fr_dedup.txt.part.ai  fr_dedup.txt.part.aq\n",
      "fr_dedup.txt.part.ab  fr_dedup.txt.part.aj  fr_dedup.txt.part.ar\n",
      "fr_dedup.txt.part.ac  fr_dedup.txt.part.ak  fr_dedup.txt.part.as\n",
      "fr_dedup.txt.part.ad  fr_dedup.txt.part.al  fr_dedup.txt.part.at\n",
      "fr_dedup.txt.part.ae  fr_dedup.txt.part.am  \u001b[0m\u001b[00;36mfr_dedup.txt.part.au\u001b[0m\n",
      "fr_dedup.txt.part.af  fr_dedup.txt.part.an  fr_dedup.txt.part.av\n",
      "fr_dedup.txt.part.ag  fr_dedup.txt.part.ao  fr_dedup.txt.part.aw\n",
      "fr_dedup.txt.part.ah  fr_dedup.txt.part.ap  fr_dedup.txt.part.ax\n"
     ]
    }
   ],
   "source": [
    "ls"
   ]
  },
  {
   "cell_type": "code",
   "execution_count": 22,
   "metadata": {},
   "outputs": [],
   "source": [
    "fr_dedup = sorted(os.listdir('.'))\n"
   ]
  },
  {
   "cell_type": "code",
   "execution_count": 20,
   "metadata": {},
   "outputs": [
    {
     "name": "stdout",
     "output_type": "stream",
     "text": [
      "CPU times: user 10.9 s, sys: 1.1 s, total: 12 s\n",
      "Wall time: 39.4 s\n"
     ]
    }
   ],
   "source": [
    "# %%time\n",
    "# part2jsonl('fr_dedup.txt.part.ax')"
   ]
  },
  {
   "cell_type": "code",
   "execution_count": 24,
   "metadata": {},
   "outputs": [
    {
     "name": "stdout",
     "output_type": "stream",
     "text": [
      "CPU times: user 7 µs, sys: 2 µs, total: 9 µs\n",
      "Wall time: 18.4 µs\n",
      "Processing: ... fr_dedup.txt.part.aa\n",
      "Processing: ... fr_dedup.txt.part.ab\n",
      "Processing: ... fr_dedup.txt.part.ac\n",
      "Processing: ... fr_dedup.txt.part.ad\n",
      "Processing: ... fr_dedup.txt.part.ae\n",
      "Processing: ... fr_dedup.txt.part.af\n",
      "Processing: ... fr_dedup.txt.part.ag\n",
      "Processing: ... fr_dedup.txt.part.ah\n",
      "Processing: ... fr_dedup.txt.part.ai\n",
      "Processing: ... fr_dedup.txt.part.aj\n",
      "Processing: ... fr_dedup.txt.part.ak\n",
      "Processing: ... fr_dedup.txt.part.al\n",
      "Processing: ... fr_dedup.txt.part.am\n",
      "Processing: ... fr_dedup.txt.part.an\n",
      "Processing: ... fr_dedup.txt.part.ao\n",
      "Processing: ... fr_dedup.txt.part.ap\n",
      "Processing: ... fr_dedup.txt.part.aq\n",
      "Processing: ... fr_dedup.txt.part.ar\n",
      "Processing: ... fr_dedup.txt.part.as\n",
      "Processing: ... fr_dedup.txt.part.at\n",
      "Processing: ... fr_dedup.txt.part.au\n",
      "Processing: ... fr_dedup.txt.part.av\n"
     ]
    },
    {
     "ename": "KeyboardInterrupt",
     "evalue": "",
     "output_type": "error",
     "traceback": [
      "\u001b[0;31m---------------------------------------------------------------------------\u001b[0m",
      "\u001b[0;31mKeyboardInterrupt\u001b[0m                         Traceback (most recent call last)",
      "\u001b[0;32m<ipython-input-24-e84f35efc683>\u001b[0m in \u001b[0;36m<module>\u001b[0;34m\u001b[0m\n\u001b[1;32m      2\u001b[0m \u001b[0;32mfor\u001b[0m \u001b[0mf\u001b[0m \u001b[0;32min\u001b[0m \u001b[0mfr_dedup\u001b[0m\u001b[0;34m:\u001b[0m\u001b[0;34m\u001b[0m\u001b[0;34m\u001b[0m\u001b[0m\n\u001b[1;32m      3\u001b[0m     \u001b[0mprint\u001b[0m\u001b[0;34m(\u001b[0m\u001b[0;34mf\"Processing: ... {f}\"\u001b[0m\u001b[0;34m)\u001b[0m\u001b[0;34m\u001b[0m\u001b[0;34m\u001b[0m\u001b[0m\n\u001b[0;32m----> 4\u001b[0;31m     \u001b[0mpart2jsonl\u001b[0m\u001b[0;34m(\u001b[0m\u001b[0mf\u001b[0m\u001b[0;34m)\u001b[0m\u001b[0;34m\u001b[0m\u001b[0;34m\u001b[0m\u001b[0m\n\u001b[0m",
      "\u001b[0;31mKeyboardInterrupt\u001b[0m: "
     ]
    }
   ],
   "source": [
    "%%time\n",
    "for f in fr_dedup:\n",
    "    print(f\"Processing: ... {f}\")\n",
    "    part2jsonl(f)"
   ]
  },
  {
   "cell_type": "code",
   "execution_count": 25,
   "metadata": {
    "scrolled": true
   },
   "outputs": [
    {
     "name": "stdout",
     "output_type": "stream",
     "text": [
      "Compressing fr_dedup.txt.part.aa\n",
      "Compressing fr_dedup.txt.part.ab\n",
      "Compressing fr_dedup.txt.part.ac\n",
      "Compressing fr_dedup.txt.part.ad\n",
      "Compressing fr_dedup.txt.part.ae\n",
      "Compressing fr_dedup.txt.part.af\n",
      "Compressing fr_dedup.txt.part.ag\n",
      "Compressing fr_dedup.txt.part.ah\n",
      "Compressing fr_dedup.txt.part.ai\n",
      "Compressing fr_dedup.txt.part.aj\n",
      "Compressing fr_dedup.txt.part.ak\n",
      "Compressing fr_dedup.txt.part.al\n",
      "Compressing fr_dedup.txt.part.am\n",
      "Compressing fr_dedup.txt.part.an\n",
      "Compressing fr_dedup.txt.part.ao\n",
      "Compressing fr_dedup.txt.part.ap\n",
      "Compressing fr_dedup.txt.part.aq\n",
      "Compressing fr_dedup.txt.part.ar\n",
      "Compressing fr_dedup.txt.part.as\n",
      "Compressing fr_dedup.txt.part.at\n",
      "Compressing fr_dedup.txt.part.au\n",
      "Compressing fr_dedup.txt.part.av\n",
      "Compressing fr_dedup.txt.part.aw\n",
      "Compressing fr_dedup.txt.part.ax\n",
      "Compressing fr_dedup.txt.part.ax.jsonl\n"
     ]
    }
   ],
   "source": [
    "for f in fr_dedup:\n",
    "    print(f\"Compressing {f}\")\n",
    "    os.system(f'gzip {f}')"
   ]
  },
  {
   "cell_type": "code",
   "execution_count": 26,
   "metadata": {},
   "outputs": [
    {
     "name": "stdout",
     "output_type": "stream",
     "text": [
      "/media/nfs/Datasets/text/OSCAR/es_dedup\n"
     ]
    }
   ],
   "source": [
    "cd /media/nfs/Datasets/text/OSCAR/es_dedup"
   ]
  },
  {
   "cell_type": "code",
   "execution_count": 27,
   "metadata": {},
   "outputs": [],
   "source": [
    "es_dedup = sorted(os.listdir('.'))\n"
   ]
  },
  {
   "cell_type": "code",
   "execution_count": 28,
   "metadata": {},
   "outputs": [
    {
     "name": "stdout",
     "output_type": "stream",
     "text": [
      "Processing: ... es_dedup.txt.part.aa\n",
      "Processing: ... es_dedup.txt.part.ab\n",
      "Processing: ... es_dedup.txt.part.ac\n",
      "Processing: ... es_dedup.txt.part.ad\n",
      "CPU times: user 7min 16s, sys: 36.8 s, total: 7min 53s\n",
      "Wall time: 14min 46s\n"
     ]
    }
   ],
   "source": [
    "%%time\n",
    "for f in es_dedup[:4]:\n",
    "    print(f\"Processing: ... {f}\")\n",
    "    part2jsonl(f)"
   ]
  },
  {
   "cell_type": "code",
   "execution_count": 29,
   "metadata": {
    "scrolled": true
   },
   "outputs": [
    {
     "name": "stdout",
     "output_type": "stream",
     "text": [
      "Compressing es_dedup.txt.part.aa\n",
      "Compressing es_dedup.txt.part.ab\n",
      "Compressing es_dedup.txt.part.ac\n",
      "Compressing es_dedup.txt.part.ad\n",
      "Compressing es_dedup.txt.part.ae\n",
      "Compressing es_dedup.txt.part.af\n",
      "Compressing es_dedup.txt.part.ag\n",
      "Compressing es_dedup.txt.part.ah\n",
      "Compressing es_dedup.txt.part.ai\n",
      "Compressing es_dedup.txt.part.aj\n",
      "Compressing es_dedup.txt.part.ak\n",
      "Compressing es_dedup.txt.part.al\n",
      "Compressing es_dedup.txt.part.am\n",
      "Compressing es_dedup.txt.part.an\n",
      "Compressing es_dedup.txt.part.ao\n",
      "Compressing es_dedup.txt.part.ap\n",
      "Compressing es_dedup.txt.part.aq\n",
      "Compressing es_dedup.txt.part.ar\n",
      "Compressing es_dedup.txt.part.as\n",
      "Compressing es_dedup.txt.part.at\n",
      "Compressing es_dedup.txt.part.au\n",
      "Compressing es_dedup.txt.part.av\n",
      "Compressing es_dedup.txt.part.aw\n",
      "Compressing es_dedup.txt.part.ax\n",
      "Compressing es_dedup.txt.part.ay\n"
     ]
    }
   ],
   "source": [
    "%%time\n",
    "for f in es_dedup:\n",
    "    print(f\"Compressing {f}\")\n",
    "    os.system(f'gzip {f}')"
   ]
  },
  {
   "cell_type": "code",
   "execution_count": 31,
   "metadata": {},
   "outputs": [
    {
     "name": "stdout",
     "output_type": "stream",
     "text": [
      "Compressing es_dedup.txt.part.aa.jsonl\n",
      "Compressing es_dedup.txt.part.ab.jsonl\n",
      "Compressing es_dedup.txt.part.ac.jsonl\n",
      "Compressing es_dedup.txt.part.ad.jsonl\n",
      "Compressing es_dedup.txt.part.ae.jsonl\n",
      "Compressing es_dedup.txt.part.af.jsonl\n",
      "Compressing es_dedup.txt.part.ag.jsonl\n",
      "Compressing es_dedup.txt.part.ah.jsonl\n",
      "Compressing es_dedup.txt.part.ai.jsonl\n",
      "Compressing es_dedup.txt.part.aj.jsonl\n",
      "Compressing es_dedup.txt.part.ak.jsonl\n",
      "Compressing es_dedup.txt.part.al.jsonl\n",
      "Compressing es_dedup.txt.part.am.jsonl\n",
      "Compressing es_dedup.txt.part.an.jsonl\n",
      "Compressing es_dedup.txt.part.ao.jsonl\n",
      "Compressing es_dedup.txt.part.ap.jsonl\n",
      "Compressing es_dedup.txt.part.aq.jsonl\n",
      "Compressing es_dedup.txt.part.ar.jsonl\n",
      "Compressing es_dedup.txt.part.as.jsonl\n",
      "Compressing es_dedup.txt.part.at.jsonl\n",
      "Compressing es_dedup.txt.part.au.jsonl\n",
      "Compressing es_dedup.txt.part.av.jsonl\n",
      "Compressing es_dedup.txt.part.aw.jsonl\n",
      "Compressing es_dedup.txt.part.ax.jsonl\n",
      "Compressing es_dedup.txt.part.ay.jsonl\n",
      "CPU times: user 35 ms, sys: 6.73 ms, total: 41.7 ms\n",
      "Wall time: 24min 4s\n"
     ]
    }
   ],
   "source": [
    "%%time\n",
    "for f in es_dedup:\n",
    "    f = f+'.jsonl'\n",
    "    print(f\"Compressing {f}\")\n",
    "    os.system(f'gzip {f}')"
   ]
  },
  {
   "cell_type": "code",
   "execution_count": 32,
   "metadata": {},
   "outputs": [
    {
     "name": "stdout",
     "output_type": "stream",
     "text": [
      "/media/nfs/Datasets/text/OSCAR/fr_dedup\n"
     ]
    }
   ],
   "source": [
    "cd /media/nfs/Datasets/text/OSCAR/fr_dedup"
   ]
  },
  {
   "cell_type": "code",
   "execution_count": 33,
   "metadata": {
    "scrolled": true
   },
   "outputs": [
    {
     "name": "stdout",
     "output_type": "stream",
     "text": [
      "Compressing fr_dedup.txt.part.aa.jsonl\n",
      "Compressing fr_dedup.txt.part.ab.jsonl\n",
      "Compressing fr_dedup.txt.part.ac.jsonl\n",
      "Compressing fr_dedup.txt.part.ad.jsonl\n",
      "Compressing fr_dedup.txt.part.ae.jsonl\n",
      "Compressing fr_dedup.txt.part.af.jsonl\n",
      "Compressing fr_dedup.txt.part.ag.jsonl\n",
      "Compressing fr_dedup.txt.part.ah.jsonl\n",
      "Compressing fr_dedup.txt.part.ai.jsonl\n",
      "Compressing fr_dedup.txt.part.aj.jsonl\n",
      "Compressing fr_dedup.txt.part.ak.jsonl\n",
      "Compressing fr_dedup.txt.part.al.jsonl\n",
      "Compressing fr_dedup.txt.part.am.jsonl\n",
      "Compressing fr_dedup.txt.part.an.jsonl\n",
      "Compressing fr_dedup.txt.part.ao.jsonl\n",
      "Compressing fr_dedup.txt.part.ap.jsonl\n",
      "Compressing fr_dedup.txt.part.aq.jsonl\n",
      "Compressing fr_dedup.txt.part.ar.jsonl\n",
      "Compressing fr_dedup.txt.part.as.jsonl\n",
      "Compressing fr_dedup.txt.part.at.jsonl\n",
      "Compressing fr_dedup.txt.part.au.jsonl\n",
      "Compressing fr_dedup.txt.part.av.jsonl\n",
      "Compressing fr_dedup.txt.part.aw.jsonl\n",
      "Compressing fr_dedup.txt.part.ax.jsonl\n",
      "Compressing fr_dedup.txt.part.ax.jsonl.jsonl\n",
      "CPU times: user 159 ms, sys: 41.1 ms, total: 200 ms\n",
      "Wall time: 12h 27min 37s\n"
     ]
    }
   ],
   "source": [
    "%%time\n",
    "for f in fr_dedup:\n",
    "    f = f+'.jsonl'\n",
    "    print(f\"Compressing {f}\")\n",
    "    os.system(f'gzip {f}')"
   ]
  },
  {
   "cell_type": "code",
   "execution_count": null,
   "metadata": {},
   "outputs": [],
   "source": []
  }
 ],
 "metadata": {
  "kernelspec": {
   "display_name": "Python 3",
   "language": "python",
   "name": "python3"
  },
  "language_info": {
   "codemirror_mode": {
    "name": "ipython",
    "version": 3
   },
   "file_extension": ".py",
   "mimetype": "text/x-python",
   "name": "python",
   "nbconvert_exporter": "python",
   "pygments_lexer": "ipython3",
   "version": "3.8.2"
  }
 },
 "nbformat": 4,
 "nbformat_minor": 4
}
