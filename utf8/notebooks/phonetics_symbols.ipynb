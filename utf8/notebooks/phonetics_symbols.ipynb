{
 "cells": [
  {
   "cell_type": "code",
   "execution_count": 1,
   "metadata": {},
   "outputs": [],
   "source": [
    "import os\n",
    "import sys\n",
    "\n",
    "from preprocessors.symbol_extraction import *\n"
   ]
  },
  {
   "cell_type": "code",
   "execution_count": 2,
   "metadata": {},
   "outputs": [],
   "source": [
    "base_dir = \"/home/leo/projects/Datasets/text/wiki-unicode/IPA_chars/\"\n",
    "files = [\"Extensions_to_the_International_Phonetic_Alphabet.txt\",\n",
    "         \"International_Phonetic_Alphabet_chart.txt\",\n",
    "         \"International_Phonetic_Alphabet.txt\"]"
   ]
  },
  {
   "cell_type": "code",
   "execution_count": 3,
   "metadata": {},
   "outputs": [],
   "source": [
    "outfnames = []\n",
    "for f in files:\n",
    "    fname = os.path.join(base_dir, f)\n",
    "    outfnames.append(fname.replace('.txt', '.chars'))\n",
    "    extract_chars(fname, save_output=True)"
   ]
  },
  {
   "cell_type": "code",
   "execution_count": 4,
   "metadata": {},
   "outputs": [],
   "source": [
    "chars = \"\"\n",
    "\n",
    "for fname in outfnames:\n",
    "    with open(fname, 'r') as f:\n",
    "        txt = f.read()\n",
    "        chars = chars + txt"
   ]
  },
  {
   "cell_type": "code",
   "execution_count": 5,
   "metadata": {},
   "outputs": [],
   "source": [
    "chars = sorted(list(set(chars)))"
   ]
  },
  {
   "cell_type": "code",
   "execution_count": 6,
   "metadata": {},
   "outputs": [
    {
     "data": {
      "text/plain": [
       "650"
      ]
     },
     "execution_count": 6,
     "metadata": {},
     "output_type": "execute_result"
    }
   ],
   "source": [
    "len(chars)"
   ]
  },
  {
   "cell_type": "code",
   "execution_count": 7,
   "metadata": {},
   "outputs": [],
   "source": [
    "txt = ''.join(chars)"
   ]
  },
  {
   "cell_type": "code",
   "execution_count": 8,
   "metadata": {},
   "outputs": [
    {
     "data": {
      "text/plain": [
       "'\\t\\n !\"#$%&\\'()*+,-./0123456789:;<=>?ABCDEFGHIJKLMNOPQRSTUVWXYZ[\\\\]^_abcdefghijklmnopqrstuvwxyz{|}~¡§®ÍàáâãäåæçèéêëìíîðñóôøúüýāăČčēĕěħīıŊŋōœŚšůųƆƇƈƉƍƐƔƙƛƞƥƭƲǀǁǂǃǥȅȸȹɄɈɐɑɒɓɔɕɖɗɘəɚɛɜɝɞɟɠɡɢɣɤɥɦɧɨɪɫɬɭɮɯɰɱɲɳɴɵɶɷɸɹɺɻɽɾʀʁʂʃʄʇʈʉʊʋʌʍʎʏʐʑʒʔʕʖʗʘʙʛʜʝʞʟʠʡʢʩʪʫʬʭʰʱʲʴʶʷʻʼʽʾʿˀˇˈˌːˑ˒˓˔˕˖˗˞ˠˡˢˣˤ˥˦˧˨˩˭˳̴̖̗̘̙̜̝̞̟̠̤̥̩̪̬̯̰̹̺̻̼͇͈͉͍͎͔͕̀́̂̃̄̆̈̊̋̌̍̏̑̽͆͊͋͌͑͗̚͜͢͡ΕΦάβηθικλμνσχАБГИМНРСТУЧабвгдезийклнопрстухцчшъыьэяіїўҚқҡҷӀӑӣՀաեյնրְִָֹּבויכנערתئابةتجدرسصعغفلمنهوىيچڌکۆۇیەހބވދސަިެްߏߒߞठथदनपमरलहािीेै्ংবলাਜਪਬਾੀੰଆଓଡ଼ିதமழி்గతలుెทยไລວາ་གདབཡིོაგთილმრუქማርኛአខភមរសាែ្᪽᪻ᴰᴷᴺᵀᵊᵑᵗᵘᵝᵶᵻᵿᶑᶚᶢᶦᶴᶷᶹᶿ᷽᷄᷅᷆᷇᷈᷉ᷢḍḏḥṃṇṭṳṼẽếệữ\\u2009\\u200e–—‖•…‹›‼‿⁼⁽⁾ⁿ₍₎⃝ↀ↑→↓↗↘ⒸⒻⒼⓀⓁⓃⓅⓇⓈⓉⓋⓚ◌◯⟦⟧⟨⟩⟪⟫⠁⠃⠇⠊⠑⠗⫽ⱱ⸨⸩中吴客家文日本粵言語语贛ꜛꜜꞎꞭꞯꞰꞵꭓ국어한\\uf267\\uf268︎ﻉ𝑓𝑝'"
      ]
     },
     "execution_count": 8,
     "metadata": {},
     "output_type": "execute_result"
    }
   ],
   "source": [
    "txt"
   ]
  },
  {
   "cell_type": "markdown",
   "metadata": {},
   "source": [
    "TODO now I need to select ONLY the phonetic symbols from there ... :/ "
   ]
  },
  {
   "cell_type": "code",
   "execution_count": 9,
   "metadata": {},
   "outputs": [],
   "source": [
    "fchars= open('/home/leo/projects/Datasets/text/wiki-unicode/selected_sources_small/selected_chars.chars', 'r').read()"
   ]
  },
  {
   "cell_type": "code",
   "execution_count": 10,
   "metadata": {},
   "outputs": [],
   "source": [
    "fchars = set(fchars)"
   ]
  },
  {
   "cell_type": "code",
   "execution_count": 11,
   "metadata": {},
   "outputs": [
    {
     "data": {
      "text/plain": [
       "1564"
      ]
     },
     "execution_count": 11,
     "metadata": {},
     "output_type": "execute_result"
    }
   ],
   "source": [
    "len(fchars)"
   ]
  },
  {
   "cell_type": "code",
   "execution_count": 12,
   "metadata": {},
   "outputs": [],
   "source": [
    "stxt = set(txt)"
   ]
  },
  {
   "cell_type": "code",
   "execution_count": 14,
   "metadata": {},
   "outputs": [],
   "source": [
    "cdtxt = fchars.difference(stxt)\n",
    "sdc = stxt.difference(fchars)"
   ]
  },
  {
   "cell_type": "code",
   "execution_count": 16,
   "metadata": {},
   "outputs": [
    {
     "data": {
      "text/plain": [
       "'ʋ ت ʠ ե ﻉ ɵ ر ల ̬ ̽ ਪ ⟧ ᪻ ◌ र ṇ م ʑ ߏ ੰ ͇ ̘ ɔ ɚ – ኛ ل ᵻ ʎ ̌ प ̝ ߞ ᴺ ʙ ย ۆ न ʄ ា ʍ ̚ ր Ⓡ ɝ 中 語 ̟ ி ् ा ب ɤ ᷅ Ṽ ͜ ᵿ ʡ 本 ʫ ɻ ɗ ᶿ 어 ᶚ ͎ ភ ‿ గ ʞ ᵘ — ꞵ ᶦ ̑ ک ଓ ն ລ ߒ ᷉ ữ త ქ ᵝ ʐ ท Ⓛ Հ ج Ɬ ी ↀ ̋ ا ᵶ ʏ ̙ \\u200e ꞯ ͑ ɢ ʉ ی ɓ ̰ ސ ழ   ي ɸ ى \\t ⫽ ᶷ ế \\uf268 ि ᷈ ି ̴ ɭ ɟ ̪ ᷄ ̥ ̊ ʀ ⠗ ɨ ठ ɐ ⠇ த ɛ ଡ ᪽ ʬ ʌ 粵 ވ ̞ ̄ ئ े ʖ ਾ ོ Ⓥ ʔ 客 ɳ ެ ɣ ︎ ͌ ە ི ᵊ ʟ Ⓢ ᶢ \\u2009 ꭓ ع Ⓚ ހ ɖ ɘ ̩ ̻ 한 家 ᷢ ខ ᶹ म ɰ ɱ ɾ ް 语 ག ლ ɹ ‖ ɠ Ʞ 文 მ ̏ ు ད ̹ ʃ າ ͕ Ⓕ ̖ ‼ ̂ 𝑝 ދ ɥ ẽ ʝ ⸨ ṳ ம थ ʂ ⠊ ែ ʕ ͗ ɮ ة თ ស ʊ ̠ አ ̗ \\uf267 ⠃ ꜛ ͊ ै ⱱ ʛ Ⓟ ɶ ⠑ 言 ວ ͔ ᵀ ͡ ் ⃝ ◯ ɦ ᷇ ម ె ব া Ⓒ ɴ ͋ ი و ʭ د 𝑓 ʇ ଆ ͈ ং ་ ɞ ͉ ⠁ ́ ⟨ ɷ द غ བ გ ա ᵗ ʈ ꞎ ल ᴷ ͢ ɺ Ⓣ ᷽ ʗ ɽ ɕ ʁ ̀ ̯ Ⓝ Ⓖ ল ᶴ ṭ ̺ ្ ⟫ ཡ ̤ ਜ ਬ ʩ ʢ ḍ ʜ ꜜ ა რ ᵑ ɲ ن ̍ چ 日 ص 국 ަ ⟦ ه ި յ ɒ ଼ ệ ᴰ ᷆ ބ ʘ ር ̆ ͆ ̃ ह ⟩ ማ ḏ ɜ ʪ ɡ ṃ ᶑ ڌ ⓚ ɧ រ ۇ 吴 ف 贛 ɯ ੀ ̜ ̈ ɫ س ɪ ɬ უ ไ ⟪ ̼ ɑ ͍ ⸩'"
      ]
     },
     "execution_count": 16,
     "metadata": {},
     "output_type": "execute_result"
    }
   ],
   "source": [
    "' '.join(sdc)"
   ]
  },
  {
   "cell_type": "code",
   "execution_count": 17,
   "metadata": {},
   "outputs": [
    {
     "data": {
      "text/plain": [
       "'ṁ ᾩ ҳ יִ ś ђ ω ͳ Ύ ф ᾭ ӻ ž Ʃ ὐ ẃ ό ϸ ï Ҭ γ ᾬ ᾳ ἃ ő Ƽ ƴ ǧ ҉ Ą ἷ ԗ ‸ ˛ Ҏ כּ ƾ ₯ ĳ ₿ ÷ ȧ Ο Ȟ ѹ ᾡ Β Đ ⁍ Ļ ךּ ¯ ˪ ǚ ﬁ ū ƌ Ƕ ₮ ᾁ ũ Ѡ ἂ ᾗ ᾣ ῂ Ԧ ǆ ᾙ Ō ԥ Ĥ ᾂ ₓ Ѽ ֝ ¤ בּ π Ͻ Ӥ Ǽ ˅ ῧ ѻ É ά Ḃ ‣ ₌ Ӟ Ɨ ῆ ƶ ϭ Э Ԫ Ȍ ȭ Ȳ גּ ₣ ὤ ׅ ŧ Ӂ Û ŵ Ƙ ˄ ‟ Һ Ɵ שּ ﬨ Ȅ ῾ ѱ Ḟ ӛ Ã ˮ ƿ Ǻ Ὅ ͽ ǣ ϳ ׀ ҅ ׳ ֒ ₰ ἐ ₀ џ ȼ ԍ Δ ŏ ƣ Л Ό җ ѐ ĭ Ῠ Ȩ Ʀ ҍ ǅ ϟ Ϣ ҆ ֞ ͺ ᾫ Ĵ ψ ‧ ˽ ȷ ἔ І ǵ ῴ Ă ϧ φ ὦ Ɇ ԧ Ῐ Ǭ Ü ־ ײ ¨ Ŷ ς ὅ ᾝ ǌ זּ ↙ ’ Ǵ Ἄ ׯ Ӕ Ԣ ӡ Ἰ Þ ҧ Ѥ Ÿ Ӳ ɋ Ἁ ↖ Ƚ ῒ Ӭ Ϥ Ȃ ř τ ὔ ŝ ᾑ ΅ Ύ ҥ ⁹ ΐ Ď ˜ † Ƨ ₠ ₃ ᾌ ȱ ƒ Ȧ ċ Ὢ ˚ Ԛ Ɲ Ό Ϡ ԃ ז ῁ ę ₷ ʳ ş Ԇ Ἷ Υ ₽ ﬖ ˃ Ὸ Ӱ Ƞ ј ҇ Ὤ Ƴ Ί ΄ ἣ שּׁ ď Ȝ ѿ ֺ Ƅ Ţ ҽ Ǯ ḃ Ȉ Ҹ Ž ֕ ĥ Ө Ѿ Ἦ Ὺ Ҙ Ȱ ᾴ Ƀ љ È ⁊ ἆ הּ Ų ѕ Ϲ ρ Ӛ ¦ ѳ Ϝ ․ ῀ ט ‵ Ἐ Ԏ ѝ Ԯ ǖ ǿ ҄ ﬩ Ὗ ˏ ȿ ˹ ץ ג ΅ Ḋ Ԗ ῎ ϼ ǫ ῷ ˙ ῐ Ἓ ὴ Έ שׂ Ӵ ğ ὖ Ὑ ϒ ˸ Ɓ Ǐ ļ אּ щ פּ ƀ ֳ ӯ ƅ ҹ ᾿ Ǣ Π ĺ Ӡ Ğ ᾼ Ṫ ﬞ Ὧ Έ Ć ` Ƌ Ἱ Х Ⱦ ὂ Ț ҝ ₶ ה ӊ ” Į Ђ ₩ į ņ ẁ ϐ Ӫ Ʊ Λ Ƶ ԛ ֯ ȥ ﬧ Щ ϫ ɉ Ҥ Ὴ Ή ǽ ₐ Ǟ Õ έ ȡ Ï ἵ ӳ ϖ Ϗ ἴ ᾛ Ἳ Ū ԇ ᾕ ׆ ȏ Й ἠ ᾐ ԫ ү ῲ ˝ ₇ ° Ї Ὃ ‘ Ἢ ₛ תּ Ґ Ϟ ĉ ҙ ὠ ґ ˂ ϗ α כֿ ᾊ Ħ ˾ Ǩ Ŝ ῤ ק · ᾍ Ԝ Ὠ Џ ﬆ אָ ȕ Ϳ טּ Ἴ ԋ Њ ῥ ξ ё ῌ פ Ũ ǰ ҈ ǎ ͵ ό Ӄ Ȋ Ẅ Ù Ẁ ᾨ ἰ ҟ ₔ ѫ ׂ ⁰ ; Ī Ǉ Ỳ ֭ Ú ĝ õ Ἇ ˊ Ð ³ ò Ϯ ӽ İ Ӊ ἇ Ӿ ῇ ֜ ș ﬤ ṡ Ŕ Ϫ Ἶ ԉ ֧ ַ ͻ Ò Ϊ Ю Ѧ ϱ „ ĵ Ö Ѣ Ϧ Ԥ ἒ ʵ “ ₤ דּ Ѐ ⁶ Ƥ ἦ ᾟ Ы ₘ ԑ Ť Ἆ ͷ Ά В Ë ʹ ֿ ¹ ſ ₵ ᾠ ֠ ԟ שּׂ ˬ ˴ ѣ Ē Ǚ Ү Ἣ О ǟ ﬡ ֚ Ἤ ᾉ ˋ ﬥ ȳ ö ₾ ֑ ¶ ȃ ὀ ˲ פֿ ₚ Ƣ ₧ ǻ ƹ Ǆ Ӗ Ѯ Ʌ ᾮ ȑ Е ϑ ὲ ˷ Ê ķ Ȫ ᾥ Σ Ѝ ‛ Ὁ Ὣ ŕ ᾢ ǭ Ĭ Ń Ῥ ȝ ₊ ´ Ģ Ϭ ﬄ Ů ₜ Ɏ ש Ɩ ⁱ ƕ Ь ӓ ѯ Ἧ Ⱥ Â ԩ Ʈ × Ԭ ұ Ā ғ ǋ ῟ Ῑ Ͱ ϶ Ϋ Ĝ ȓ ὧ ᾅ £ ӏ ԯ ῄ Ҫ Ĳ ἅ Ὕ ҁ ֘ @ Ή צּ ӧ ι ¢ ǲ ˱ ἶ Η Ĉ ǡ Ν ἧ ӕ ₈ Ὂ ѥ מּ ԝ Ќ ᾱ ɍ ә ײַ ɇ א ‰ צ Ͼ Ώ Ԩ ἡ ˵ Ӷ Ҷ ͱ Ѷ ћ Ȁ Ŏ ᾎ Ἒ Ṁ ң ʹ ѩ ῭ ֔ ὶ ȶ Œ Ż ﬀ Χ Ӹ Ἂ Ş בֿ Ņ Љ Ě Å ȉ ŭ ӷ ¥ ȍ ӿ Ў đ ₁ ὰ ֨ ד ҭ ὒ є Ԃ Ί Ȣ ᾋ ǝ Ę סּ ÿ רּ ԕ Ҟ Ԋ ῶ ¿ ἥ Ӯ Ѭ ᾤ Ə ί ⁺ ₡ Ὰ ‱ ׃ ӝ Ǫ Ԙ ʺ ₸ ӟ Ἥ Ŀ ֗ Ἲ ᾞ Ἠ ǩ ϕ ϊ ὣ וֹ ᾃ Ė ƪ ỳ ҫ ὑ ľ ἑ ֬ ˼ Ұ ł Ǒ ª ύ ȇ Җ ˻ Ƭ ‶ ﬗ Ġ Ӌ Ĕ ‴ ₭ Ĺ ѷ ȁ ₄ ß Ϛ Á ₫ Ἑ Ƹ Š Ǥ ԅ Ћ ǯ ἳ ὸ ῡ Ѹ ὓ һ ᾖ ϋ ל ӥ ԡ Ѳ ǈ ⁷ Ӝ Ɠ Ώ ﬂ ὺ ᾽ Ὀ Ҽ ῠ Ὥ ᾘ Ǌ ח ǒ Ƒ Ǧ © Ѫ ⁴ ǐ ȴ ȫ ж ć ϲ ƫ ẛ ‡ ״ ύ Ɍ ₴ Ϻ Ὦ Ñ Ӽ Ѓ אַ Μ Ȏ Ϙ Ж נּ έ ε ᾒ ᾶ ѭ ϝ ϓ ϴ Ӓ ¸ · ᾰ ֦ Ǔ ӱ ﬣ ⁋ ἄ ҋ Ӣ Ԁ Ἃ ϯ ῼ Ѻ ḋ Ц ӎ ĸ Ң ⁌ ḟ Ǡ Ρ ֲ ἀ ₨ Ἅ Ҧ ȗ ᾦ Ơ Ȯ Ɂ Ǹ Ғ ῞ Ř ₙ ﬔ « ԓ ṫ ֓ ˉ ₪ ƽ ň ᾈ ᾓ Ɯ À Ṗ Ι Ű ס û ή ż ᾇ ư ϩ њ ὡ ֙ ˆ ȯ Є ҿ ῃ ₑ Ó ĩ Ҋ ‷ ӭ Ԉ ˘ ₕ ȣ Ᾱ Ȑ Κ Ԡ ֪ ףּ ἲ δ Ä Θ Ψ Γ ׇ ₦ ǘ ֶ ﬦ Ƿ Ὡ ﬕ ɀ Ɋ ↕ ₢ Ԍ ֡ ₺ ₹ Ᾰ ŷ Ṡ Ŗ ˫ ΐ ὼ ֤ ҏ ⁸ ↔ ţ יּ ƚ Ǘ ӆ Ә ώ ֵ ώ þ ῗ Ͳ ὕ ῦ Ҍ Ἔ ἱ Ȥ ₒ » ƻ ɼ Ԅ ῏ Ὄ º ׁ Ŵ Ӆ ẅ ὃ Ȼ ӈ ˶ ὥ ₲ Ἵ ˟ ± ᾪ Ì ἢ ŗ € ₆ ″ וּ ϡ ′ ῑ ₳ ԭ ‚ ҂ ҩ װ Ͷ ԏ Ϸ ϥ Ŧ ѡ ͼ ή Ľ Ω Ӧ Ł Ԕ ₥ ΰ ֖ ﭏ ₂ ﬢ ` מ ӫ ἕ ₻ Ѕ ț ǳ Ҵ ᾄ ȵ ӄ Ô ᾷ Ἀ ׄ ˺ ₅ Ư ˎ Ԓ ᾏ Ѩ \\u202f Ȗ ζ Ǎ ᾚ Ἡ ɏ Ҩ З ӹ ί ԙ ϔ Ȭ ך ֮ Ш ǜ ῝ Ԑ שׁ Ç ὗ ֻ ѧ ᾲ ė ń Ὼ ῢ Ȕ Æ Ῡ Ҿ ἤ ם ῍ Ċ ֩ ᾯ Ș Ά ԣ Ӑ µ ο ᾀ ǹ ģ ѓ ù ῳ Î Ѵ ˍ ǉ Ξ ҕ Ʒ Ѱ ŉ Ź ₼ Ķ ← ἓ ǔ ƨ Ҡ Д Ŭ Ý ₗ ⁎ ť ὢ ȩ Ǖ ⁻ Ὶ ֟ ө Ƃ ƃ Ĩ ף ӵ ϻ Ј ֱ ѽ ġ Ȓ Ё ᾧ ֢ Τ ὄ Ǿ ȋ ﬓ Ζ ﬃ ќ לּ Ẃ ὁ ⁵ Ἕ ᾔ ֣ ѵ Ҁ ԁ Ǳ Ӎ ² ϛ Ὲ Ǝ Ȇ ƺ м ₱ ₋ ź ӂ ҃ ‥ υ ₖ ȟ Ø Ҳ Ͽ ю Ԟ Α ˁ ˿ ŀ Ҕ ᾆ ֫ Ъ ṗ ϙ ױ ´ ῖ ן Ɗ קּ ֛ ﬠ Ő Я К ΰ ϣ ű ֽ Ϩ Ň ӗ ἁ Ӻ ₉ ơ ϰ ɂ Ὓ ʸ Ф П ˰ ӌ Ǜ ą ¬ ˯ ҵ Ҝ ϵ ﬅ Ӈ ֥ ᾜ'"
      ]
     },
     "execution_count": 17,
     "metadata": {},
     "output_type": "execute_result"
    }
   ],
   "source": [
    "' '.join(cdtxt)"
   ]
  },
  {
   "cell_type": "code",
   "execution_count": null,
   "metadata": {},
   "outputs": [],
   "source": []
  }
 ],
 "metadata": {
  "kernelspec": {
   "display_name": "Python 3",
   "language": "python",
   "name": "python3"
  },
  "language_info": {
   "codemirror_mode": {
    "name": "ipython",
    "version": 3
   },
   "file_extension": ".py",
   "mimetype": "text/x-python",
   "name": "python",
   "nbconvert_exporter": "python",
   "pygments_lexer": "ipython3",
   "version": "3.8.2"
  }
 },
 "nbformat": 4,
 "nbformat_minor": 4
}
