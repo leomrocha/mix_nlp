{
 "cells": [
  {
   "cell_type": "markdown",
   "metadata": {},
   "source": [
    "# PanLex Dataset Preparation\n",
    "\n",
    "This notebook is dedicated at making language pairs from the PanLex Dataset for word-level traduction \n",
    "\n",
    "The number of languages will be dictated by a pre-filtered list of languages obtained (kind of arbitrarilly) during the Universal Dependencies Conllu Dataset exploration"
   ]
  },
  {
   "cell_type": "markdown",
   "metadata": {},
   "source": [
    "A first dataset exploration of the different versions (CSV, SQL and JSON) shows that the sql one seems to lack a few things available in the other ones"
   ]
  },
  {
   "cell_type": "markdown",
   "metadata": {},
   "source": [
    "note that as the PanLex dataset defines the languages by 3 characters, the 2 characters codes had to be transformed to 3 and some of the 2 characters ones could not be found in 3 char definition, so there is not the same number of langs in 3char and 2char"
   ]
  },
  {
   "cell_type": "code",
   "execution_count": 104,
   "metadata": {},
   "outputs": [],
   "source": [
    "import os\n",
    "import sys\n",
    "import numpy as np\n",
    "import scipy as sp\n",
    "import pandas as pd\n",
    "import matplotlib.pyplot as plt\n",
    "import csv\n",
    "import json\n",
    "import sqlite3\n",
    "import pickle\n",
    "\n",
    "%matplotlib inline"
   ]
  },
  {
   "cell_type": "code",
   "execution_count": 105,
   "metadata": {},
   "outputs": [],
   "source": [
    "PANLEX_BASEDIR= \"/home/leo/projects/Datasets/text/PanLex\"\n",
    "PANLEX_CSV_DIR= os.path.join(PANLEX_BASEDIR,\"panlex-20200601-csv\")\n",
    "PANLEX_SQLITE= os.path.join(PANLEX_BASEDIR,\"panlex_lite/db.sqlite\")\n",
    "PANLEX_TRANSLATIONS = os.path.join(PANLEX_BASEDIR, \"translations_tuples.pkl\")"
   ]
  },
  {
   "cell_type": "code",
   "execution_count": 13,
   "metadata": {},
   "outputs": [],
   "source": [
    "langs_2char = ['af', 'be', 'bg', 'ca', 'cs', 'cy', 'da', 'de', 'el', 'en', 'es', 'et', 'eu', 'fi', 'fr', 'fro', 'ga', 'gd', 'gl', 'grc', 'gsw', 'he', 'hr', 'hu', 'hy', 'it', 'la', 'lt', 'lv', 'mt', 'nl', 'no', 'pl', 'pt', 'ro', 'ru', 'sk', 'sl', 'sr', 'sv', 'tr', 'uk']\n",
    "langs_3char = ('afr', 'bel', 'bul', 'cat', 'ces', 'cym', 'dan', 'deu', 'ell', 'eng', 'spa', 'est', 'eus', 'fin', 'fra', 'gle', 'gla', 'glg', 'heb', 'hrv', 'hun', 'hye', 'ita', 'lat', 'lit', 'lav', 'mlt', 'nld', 'nor', 'pol', 'por', 'ron', 'rus', 'slk', 'slv', 'srp', 'swe', 'tur', 'ukr')"
   ]
  },
  {
   "cell_type": "code",
   "execution_count": 57,
   "metadata": {},
   "outputs": [
    {
     "data": {
      "text/plain": [
       "(42, 39)"
      ]
     },
     "execution_count": 57,
     "metadata": {},
     "output_type": "execute_result"
    }
   ],
   "source": [
    "len(langs_2char), len(langs_3char)"
   ]
  },
  {
   "cell_type": "code",
   "execution_count": 10,
   "metadata": {},
   "outputs": [],
   "source": [
    "scripts = ('Latn', 'Cyrl', 'Grek', 'Hebr')"
   ]
  },
  {
   "cell_type": "code",
   "execution_count": 7,
   "metadata": {},
   "outputs": [],
   "source": [
    "conn = sqlite3.connect(PANLEX_SQLITE)\n",
    "c = conn.cursor()"
   ]
  },
  {
   "cell_type": "code",
   "execution_count": 14,
   "metadata": {},
   "outputs": [],
   "source": [
    "q_langcodes = f\"SELECT DISTINCT * from langvar where lang_code in {langs_3char} AND script_expr_txt in {scripts};\""
   ]
  },
  {
   "cell_type": "code",
   "execution_count": 15,
   "metadata": {},
   "outputs": [
    {
     "data": {
      "text/plain": [
       "\"SELECT DISTINCT * from langvar where lang_code in ('afr', 'bel', 'bul', 'cat', 'ces', 'cym', 'dan', 'deu', 'ell', 'eng', 'spa', 'est', 'eus', 'fin', 'fra', 'gle', 'gla', 'glg', 'heb', 'hrv', 'hun', 'hye', 'ita', 'lat', 'lit', 'lav', 'mlt', 'nld', 'nor', 'pol', 'por', 'ron', 'rus', 'slk', 'slv', 'srp', 'swe', 'tur', 'ukr') AND script_expr_txt in ('Latn', 'Cyrl', 'Grek', 'Hebr');\""
      ]
     },
     "execution_count": 15,
     "metadata": {},
     "output_type": "execute_result"
    }
   ],
   "source": [
    "q_langcodes"
   ]
  },
  {
   "cell_type": "code",
   "execution_count": 23,
   "metadata": {},
   "outputs": [],
   "source": [
    "r_langcodes = list(c.execute(q_langcodes))"
   ]
  },
  {
   "cell_type": "code",
   "execution_count": 32,
   "metadata": {
    "scrolled": true
   },
   "outputs": [],
   "source": [
    "lang_ids = tuple([i[0] for i in r_langcodes])"
   ]
  },
  {
   "cell_type": "code",
   "execution_count": 33,
   "metadata": {},
   "outputs": [],
   "source": [
    "q_expr_red = f\"SELECT DISTINCT * from expr WHERE langvar in {lang_ids}\""
   ]
  },
  {
   "cell_type": "code",
   "execution_count": 34,
   "metadata": {},
   "outputs": [
    {
     "data": {
      "text/plain": [
       "'SELECT DISTINCT * from expr WHERE langvar in (7, 66, 93, 101, 106, 147, 150, 157, 184, 187, 194, 204, 211, 236, 238, 239, 271, 280, 283, 304, 382, 391, 442, 512, 577, 579, 611, 620, 648, 649, 666, 676, 691, 738, 755, 1246, 1247, 1248, 1264, 1349, 1350, 1612, 1616, 1790, 1842, 1844, 1845, 1943, 2079, 4009, 4014, 5466, 5474, 5475, 5479, 5485, 5492, 5493, 5575, 5576, 5586, 5589, 5597, 5603, 5620, 5628, 5629, 6646, 6674, 6709, 6779, 6835, 6838, 6867, 6868, 6870, 6871, 6885, 6943, 6944, 6945, 6949, 6950, 7247, 7555, 7643, 8002, 8088, 8480, 8481, 9066, 9067, 9068, 9095, 9096, 9097, 9098, 9099, 9110, 9327, 9329, 9340, 9509, 9513, 9529, 9592, 9593, 9594, 9595, 9596, 9597, 9598, 9599, 9600, 9601, 9602, 9603, 9604, 9605, 9606, 9607, 9608, 9609, 9610, 9611, 9612, 9614, 9618, 9619, 9620, 9621, 9629, 10011, 10027, 10030, 10039, 10040, 10041, 10044, 10123, 10161, 10162, 10163, 10164, 10165, 10166, 10167, 10168, 10169, 10175, 10258, 10259, 10260, 10261, 10262, 10265, 10266, 10267, 10268, 10269, 10270, 10271, 10272, 10273, 10280, 10281, 10282, 10283, 10284, 10285, 10286, 10287, 10288, 10289, 10303, 10304, 10305, 10306, 10307, 10308, 10309, 10310, 10311, 10312, 10313, 10314, 10315, 10316, 10317, 10318, 10319, 10320, 10321, 10322, 10323, 10324, 10325, 10326, 10327, 10328, 10329, 10330, 10331, 10332, 10333, 10334, 10335, 10336, 10337, 10338, 10339, 10340, 10341, 10342, 10343, 10344, 10345, 10346, 10347, 10348, 10349, 10350, 10351, 10352, 10353, 10354, 10355, 10356, 10357, 10358, 10359, 10360, 10361, 10362, 10363, 10364, 10365, 10366, 10367, 10368, 10369, 10370, 10371, 10372, 10373, 10374, 10375, 10376, 10377, 10378, 10379, 10380, 10381, 10382, 10383, 10384, 10385, 10386, 10387, 10388, 10389, 10390, 10391, 10392, 10393, 10394, 10395, 10396, 10397, 10398, 10399, 10400, 10401, 10402, 10403, 10404, 10405, 10406, 10407, 10408, 10409, 10411, 10412, 10431, 10433, 10434, 10436, 10437, 10443, 10444, 10445, 10446, 10447, 10450, 10451, 10452, 10453, 10454, 10455, 10703, 10855, 11070, 11071, 11083, 11091, 11301, 11312, 11343, 11387, 11388, 11599, 11610, 11796, 11800, 11807, 11818, 11825, 11923, 12033, 12035)'"
      ]
     },
     "execution_count": 34,
     "metadata": {},
     "output_type": "execute_result"
    }
   ],
   "source": [
    "q_expr_red"
   ]
  },
  {
   "cell_type": "code",
   "execution_count": 35,
   "metadata": {},
   "outputs": [],
   "source": [
    "r_expr_red = list(c.execute(q_expr_red))"
   ]
  },
  {
   "cell_type": "code",
   "execution_count": 50,
   "metadata": {},
   "outputs": [],
   "source": [
    "q_denot_red = f\"SELECT meaning, expr, langvar FROM denotationx WHERE langvar IN {lang_ids};\""
   ]
  },
  {
   "cell_type": "code",
   "execution_count": 51,
   "metadata": {},
   "outputs": [
    {
     "data": {
      "text/plain": [
       "'SELECT meaning, expr, langvar FROM denotationx WHERE langvar IN (7, 66, 93, 101, 106, 147, 150, 157, 184, 187, 194, 204, 211, 236, 238, 239, 271, 280, 283, 304, 382, 391, 442, 512, 577, 579, 611, 620, 648, 649, 666, 676, 691, 738, 755, 1246, 1247, 1248, 1264, 1349, 1350, 1612, 1616, 1790, 1842, 1844, 1845, 1943, 2079, 4009, 4014, 5466, 5474, 5475, 5479, 5485, 5492, 5493, 5575, 5576, 5586, 5589, 5597, 5603, 5620, 5628, 5629, 6646, 6674, 6709, 6779, 6835, 6838, 6867, 6868, 6870, 6871, 6885, 6943, 6944, 6945, 6949, 6950, 7247, 7555, 7643, 8002, 8088, 8480, 8481, 9066, 9067, 9068, 9095, 9096, 9097, 9098, 9099, 9110, 9327, 9329, 9340, 9509, 9513, 9529, 9592, 9593, 9594, 9595, 9596, 9597, 9598, 9599, 9600, 9601, 9602, 9603, 9604, 9605, 9606, 9607, 9608, 9609, 9610, 9611, 9612, 9614, 9618, 9619, 9620, 9621, 9629, 10011, 10027, 10030, 10039, 10040, 10041, 10044, 10123, 10161, 10162, 10163, 10164, 10165, 10166, 10167, 10168, 10169, 10175, 10258, 10259, 10260, 10261, 10262, 10265, 10266, 10267, 10268, 10269, 10270, 10271, 10272, 10273, 10280, 10281, 10282, 10283, 10284, 10285, 10286, 10287, 10288, 10289, 10303, 10304, 10305, 10306, 10307, 10308, 10309, 10310, 10311, 10312, 10313, 10314, 10315, 10316, 10317, 10318, 10319, 10320, 10321, 10322, 10323, 10324, 10325, 10326, 10327, 10328, 10329, 10330, 10331, 10332, 10333, 10334, 10335, 10336, 10337, 10338, 10339, 10340, 10341, 10342, 10343, 10344, 10345, 10346, 10347, 10348, 10349, 10350, 10351, 10352, 10353, 10354, 10355, 10356, 10357, 10358, 10359, 10360, 10361, 10362, 10363, 10364, 10365, 10366, 10367, 10368, 10369, 10370, 10371, 10372, 10373, 10374, 10375, 10376, 10377, 10378, 10379, 10380, 10381, 10382, 10383, 10384, 10385, 10386, 10387, 10388, 10389, 10390, 10391, 10392, 10393, 10394, 10395, 10396, 10397, 10398, 10399, 10400, 10401, 10402, 10403, 10404, 10405, 10406, 10407, 10408, 10409, 10411, 10412, 10431, 10433, 10434, 10436, 10437, 10443, 10444, 10445, 10446, 10447, 10450, 10451, 10452, 10453, 10454, 10455, 10703, 10855, 11070, 11071, 11083, 11091, 11301, 11312, 11343, 11387, 11388, 11599, 11610, 11796, 11800, 11807, 11818, 11825, 11923, 12033, 12035);'"
      ]
     },
     "execution_count": 51,
     "metadata": {},
     "output_type": "execute_result"
    }
   ],
   "source": [
    "q_denot_red"
   ]
  },
  {
   "cell_type": "code",
   "execution_count": 52,
   "metadata": {},
   "outputs": [],
   "source": [
    "r_denot_red = list(c.execute(q_denot_red))"
   ]
  },
  {
   "cell_type": "code",
   "execution_count": 80,
   "metadata": {},
   "outputs": [],
   "source": [
    "denotation = {}\n",
    "\n",
    "for k,eid,lid in r_denot_red:\n",
    "    if k in denotation:\n",
    "        denotation[k].append((eid, lid))\n",
    "    else:\n",
    "        denotation[k] = [(eid, lid)]"
   ]
  },
  {
   "cell_type": "code",
   "execution_count": 81,
   "metadata": {},
   "outputs": [
    {
     "data": {
      "text/plain": [
       "24457260"
      ]
     },
     "execution_count": 81,
     "metadata": {},
     "output_type": "execute_result"
    }
   ],
   "source": [
    "len(list(denotation.keys()))"
   ]
  },
  {
   "cell_type": "code",
   "execution_count": 76,
   "metadata": {},
   "outputs": [],
   "source": [
    "expr = {k:(lid, txt) for (k,lid,txt) in r_expr_red}"
   ]
  },
  {
   "cell_type": "code",
   "execution_count": 82,
   "metadata": {},
   "outputs": [
    {
     "data": {
      "text/plain": [
       "(11045996, 11045996)"
      ]
     },
     "execution_count": 82,
     "metadata": {},
     "output_type": "execute_result"
    }
   ],
   "source": [
    "len(r_expr_red), len(list(expr.keys()))"
   ]
  },
  {
   "cell_type": "code",
   "execution_count": 77,
   "metadata": {},
   "outputs": [],
   "source": [
    "langvar = {i[0]:i for i in r_langcodes}"
   ]
  },
  {
   "cell_type": "code",
   "execution_count": 83,
   "metadata": {},
   "outputs": [
    {
     "data": {
      "text/plain": [
       "(320, 320)"
      ]
     },
     "execution_count": 83,
     "metadata": {},
     "output_type": "execute_result"
    }
   ],
   "source": [
    "len(r_langcodes), len(list(langvar.keys()))"
   ]
  },
  {
   "cell_type": "code",
   "execution_count": 53,
   "metadata": {},
   "outputs": [
    {
     "data": {
      "text/plain": [
       "46189480"
      ]
     },
     "execution_count": 53,
     "metadata": {},
     "output_type": "execute_result"
    }
   ],
   "source": [
    "len(r_denot_red)"
   ]
  },
  {
   "cell_type": "code",
   "execution_count": 66,
   "metadata": {
    "scrolled": true
   },
   "outputs": [
    {
     "data": {
      "text/plain": [
       "([(10531794, 43387, 7),\n",
       "  (130851, 43389, 7),\n",
       "  (8944708, 43389, 7),\n",
       "  (127891, 43390, 7),\n",
       "  (146518, 43390, 7),\n",
       "  (32087720, 43390, 7),\n",
       "  (15545017, 43391, 7),\n",
       "  (28089614, 43391, 7),\n",
       "  (8938382, 43392, 7),\n",
       "  (11545106, 43396, 7)],\n",
       " [(1077, 7, 'Ander Balties'),\n",
       "  (43387, 7, 'Afrikaans'),\n",
       "  (43389, 7, 'Albanees'),\n",
       "  (43390, 7, 'Amharies'),\n",
       "  (43391, 7, 'Arabies'),\n",
       "  (43392, 7, 'Bantoe-'),\n",
       "  (43393, 7, 'Baskies'),\n",
       "  (43394, 7, 'Birmees'),\n",
       "  (43395, 7, 'Bulgaars'),\n",
       "  (43396, 7, 'Deens')],\n",
       " [(7,\n",
       "   'afr',\n",
       "   0,\n",
       "   'afr-000',\n",
       "   35676171,\n",
       "   43387,\n",
       "   'Afrikaans',\n",
       "   26528845,\n",
       "   '001',\n",
       "   18147719,\n",
       "   'Latn'),\n",
       "  (66,\n",
       "   'bel',\n",
       "   0,\n",
       "   'bel-000',\n",
       "   35676228,\n",
       "   43616,\n",
       "   'беларуская',\n",
       "   26528845,\n",
       "   '001',\n",
       "   17807488,\n",
       "   'Cyrl'),\n",
       "  (93,\n",
       "   'bul',\n",
       "   0,\n",
       "   'bul-000',\n",
       "   35676251,\n",
       "   6,\n",
       "   'български',\n",
       "   26528845,\n",
       "   '001',\n",
       "   17807488,\n",
       "   'Cyrl'),\n",
       "  (101,\n",
       "   'cat',\n",
       "   0,\n",
       "   'cat-000',\n",
       "   35676031,\n",
       "   43730,\n",
       "   'català',\n",
       "   26528845,\n",
       "   '001',\n",
       "   18147719,\n",
       "   'Latn'),\n",
       "  (106,\n",
       "   'ces',\n",
       "   0,\n",
       "   'ces-000',\n",
       "   35676036,\n",
       "   44111,\n",
       "   'čeština',\n",
       "   26528845,\n",
       "   '001',\n",
       "   18147719,\n",
       "   'Latn'),\n",
       "  (147,\n",
       "   'cym',\n",
       "   0,\n",
       "   'cym-000',\n",
       "   35676073,\n",
       "   44181,\n",
       "   'Cymraeg',\n",
       "   26528845,\n",
       "   '001',\n",
       "   18147719,\n",
       "   'Latn'),\n",
       "  (150,\n",
       "   'dan',\n",
       "   0,\n",
       "   'dan-000',\n",
       "   35676076,\n",
       "   1809,\n",
       "   'dansk',\n",
       "   26528845,\n",
       "   '001',\n",
       "   18147719,\n",
       "   'Latn'),\n",
       "  (157,\n",
       "   'deu',\n",
       "   0,\n",
       "   'deu-000',\n",
       "   35676083,\n",
       "   274,\n",
       "   'Deutsch',\n",
       "   26528845,\n",
       "   '001',\n",
       "   18147719,\n",
       "   'Latn'),\n",
       "  (184,\n",
       "   'ell',\n",
       "   0,\n",
       "   'ell-000',\n",
       "   35676106,\n",
       "   1886,\n",
       "   'ελληνικά',\n",
       "   26528845,\n",
       "   '001',\n",
       "   18128950,\n",
       "   'Grek'),\n",
       "  (187,\n",
       "   'eng',\n",
       "   0,\n",
       "   'eng-000',\n",
       "   35686799,\n",
       "   11611,\n",
       "   'English',\n",
       "   26528845,\n",
       "   '001',\n",
       "   18147719,\n",
       "   'Latn')])"
      ]
     },
     "execution_count": 66,
     "metadata": {},
     "output_type": "execute_result"
    }
   ],
   "source": [
    "r_denot_red[:10], r_expr_red[:10], r_langcodes[:10]"
   ]
  },
  {
   "cell_type": "code",
   "execution_count": 74,
   "metadata": {},
   "outputs": [],
   "source": [
    "# denotation = pd.DataFrame(r_denot_red)\n",
    "# del(denotation)"
   ]
  },
  {
   "cell_type": "code",
   "execution_count": 71,
   "metadata": {},
   "outputs": [],
   "source": [
    "# expressions = pd.DataFrame(r_expr_red)\n",
    "# langvar = pd.DataFrame(r_langcodes)\n",
    "# del(expressions)\n",
    "# del(lanvar)"
   ]
  },
  {
   "cell_type": "code",
   "execution_count": 62,
   "metadata": {},
   "outputs": [
    {
     "data": {
      "text/plain": [
       "3853"
      ]
     },
     "execution_count": 62,
     "metadata": {},
     "output_type": "execute_result"
    }
   ],
   "source": [
    "# import gc\n",
    "# gc.collect()"
   ]
  },
  {
   "cell_type": "code",
   "execution_count": 98,
   "metadata": {},
   "outputs": [
    {
     "name": "stdout",
     "output_type": "stream",
     "text": [
      "CPU times: user 58.3 s, sys: 1.46 s, total: 59.7 s\n",
      "Wall time: 59.7 s\n"
     ]
    }
   ],
   "source": [
    "%%time\n",
    "\n",
    "expr_tuples = []\n",
    "expr_errs = []\n",
    "\n",
    "for v in denotation.values():\n",
    "    transl = []\n",
    "    for item in v:\n",
    "        eid,lid = item\n",
    "        try:\n",
    "            lang = langvar[lid][1]\n",
    "            ex = expr[eid][1]\n",
    "            transl.append((lang, ex))\n",
    "        except:\n",
    "            expr_errs.append((eid, lid))\n",
    "    expr_tuples.append(transl)"
   ]
  },
  {
   "cell_type": "code",
   "execution_count": 99,
   "metadata": {},
   "outputs": [
    {
     "data": {
      "text/plain": [
       "0"
      ]
     },
     "execution_count": 99,
     "metadata": {},
     "output_type": "execute_result"
    }
   ],
   "source": [
    "len(expr_errs)"
   ]
  },
  {
   "cell_type": "code",
   "execution_count": 100,
   "metadata": {},
   "outputs": [
    {
     "data": {
      "text/plain": [
       "24457260"
      ]
     },
     "execution_count": 100,
     "metadata": {},
     "output_type": "execute_result"
    }
   ],
   "source": [
    "len(expr_tuples)"
   ]
  },
  {
   "cell_type": "code",
   "execution_count": 103,
   "metadata": {
    "scrolled": true
   },
   "outputs": [
    {
     "data": {
      "text/plain": [
       "[[('afr', 'druk'), ('eng', 'squeeze')],\n",
       " [('afr', 'dryf')],\n",
       " [('afr', 'dryf'),\n",
       "  ('deu', 'anfeuern'),\n",
       "  ('deu', 'jagen'),\n",
       "  ('deu', 'vor sich hertreiben')],\n",
       " [('afr', 'duim'),\n",
       "  ('bul', 'палец'),\n",
       "  ('cat', 'polze'),\n",
       "  ('cym', 'bawd'),\n",
       "  ('dan', 'tommeltot'),\n",
       "  ('deu', 'Daumen'),\n",
       "  ('eng', 'thumb'),\n",
       "  ('eus', 'hazlodi'),\n",
       "  ('fin', 'peukalo'),\n",
       "  ('fra', 'pouce'),\n",
       "  ('gle', 'ordóg'),\n",
       "  ('hun', 'hüvelykujj'),\n",
       "  ('ita', 'ditone'),\n",
       "  ('ita', 'pollice'),\n",
       "  ('lat', 'pollex'),\n",
       "  ('lit', 'nykštys'),\n",
       "  ('nld', 'duim'),\n",
       "  ('pol', 'kciuk'),\n",
       "  ('por', 'dedo polegar'),\n",
       "  ('ron', 'deget mare'),\n",
       "  ('rus', 'большой палец'),\n",
       "  ('slk', 'palec'),\n",
       "  ('slv', 'palec'),\n",
       "  ('spa', 'dedo gordo'),\n",
       "  ('spa', 'pulgar'),\n",
       "  ('swe', 'tumme'),\n",
       "  ('tur', 'başparmak')],\n",
       " [('afr', 'duister'), ('deu', 'finster')],\n",
       " [('afr', 'duister'), ('deu', 'dunkel'), ('deu', 'finster')],\n",
       " [('afr', 'Duitse Demokratiese Republiek'),\n",
       "  ('bul', 'Германска демократична република'),\n",
       "  ('cat', 'República Democràtica Alemanya'),\n",
       "  ('ces', 'Německá demokratická republika'),\n",
       "  ('cym', 'Gweriniaeth Ddemocrataidd yr Almaen'),\n",
       "  ('dan', 'DDR'),\n",
       "  ('deu', 'Deutsche Demokratische Republik'),\n",
       "  ('ell', 'Λαϊκή Δημοκρατία της Γερμανίας'),\n",
       "  ('eng', 'East Germany'),\n",
       "  ('eus', 'Alemaniako Errepublika Demokratikoa'),\n",
       "  ('fin', 'Saksan demokraattinen tasavalta'),\n",
       "  ('fra', 'République démocratique allemande'),\n",
       "  ('glg', 'Alemaña do Leste'),\n",
       "  ('heb', 'גרמניה המזרחית'),\n",
       "  ('hrv', 'Njemačka Demokratska Republika'),\n",
       "  ('hun', 'Német Demokratikus Köztársaság'),\n",
       "  ('ita', 'Repubblica Democratica Tedesca'),\n",
       "  ('lat', 'Res publica Democratica Germanica'),\n",
       "  ('lit', 'Vokietijos Demokratinė Respublika'),\n",
       "  ('nld', 'Duitse Democratische Republiek'),\n",
       "  ('pol', 'Niemiecka Republika Demokratyczna'),\n",
       "  ('por', 'Alemanha Oriental'),\n",
       "  ('ron', 'Republica Democrată Germană'),\n",
       "  ('rus', 'Германская Демократическая Республика'),\n",
       "  ('slk', 'Nemecká demokratická republika'),\n",
       "  ('slv', 'Nemška demokratična republika'),\n",
       "  ('spa', 'República Democrática Alemana'),\n",
       "  ('srp', 'Источна Немачка'),\n",
       "  ('swe', 'Östtyskland'),\n",
       "  ('tur', 'Demokratik Almanya Cumhuriyeti'),\n",
       "  ('ukr', 'Німецька Демократична Республіка')],\n",
       " [('afr', 'Duitse taal'), ('eng', 'German')],\n",
       " [('afr', 'Duitsland'),\n",
       "  ('bel', 'Германія'),\n",
       "  ('bul', 'Германия'),\n",
       "  ('cat', 'Alemanya'),\n",
       "  ('ces', 'Německo'),\n",
       "  ('cym', 'Yr Almaen'),\n",
       "  ('dan', 'Tyskland'),\n",
       "  ('deu', 'Deutschland'),\n",
       "  ('ell', 'Γερμανία'),\n",
       "  ('eng', 'Germany'),\n",
       "  ('eus', 'Alemania'),\n",
       "  ('fin', 'Saksa'),\n",
       "  ('fra', 'Allemagne'),\n",
       "  ('gla', 'A’ Ghearmailt'),\n",
       "  ('gle', 'An Ghearmáin'),\n",
       "  ('glg', 'Alemaña - Deutschland'),\n",
       "  ('heb', 'גרמניה'),\n",
       "  ('hrv', 'Njemačka'),\n",
       "  ('hun', 'Németország'),\n",
       "  ('ita', 'Germania'),\n",
       "  ('lat', 'Germania'),\n",
       "  ('lit', 'Vokietija'),\n",
       "  ('mlt', 'Ġermanja'),\n",
       "  ('nld', 'Duitsland'),\n",
       "  ('pol', 'Niemcy'),\n",
       "  ('por', 'Alemanha'),\n",
       "  ('ron', 'Germania'),\n",
       "  ('rus', 'Германия'),\n",
       "  ('slk', 'Nemecko'),\n",
       "  ('slv', 'Nemčija'),\n",
       "  ('spa', 'Alemania'),\n",
       "  ('srp', 'Немачка'),\n",
       "  ('swe', 'Tyskland'),\n",
       "  ('tur', 'Almanya'),\n",
       "  ('ukr', 'Німеччина'),\n",
       "  ('bel', 'Нямеччына')]]"
      ]
     },
     "execution_count": 103,
     "metadata": {},
     "output_type": "execute_result"
    }
   ],
   "source": [
    "expr_tuples[1256:1265]"
   ]
  },
  {
   "cell_type": "code",
   "execution_count": 91,
   "metadata": {},
   "outputs": [
    {
     "data": {
      "text/plain": [
       "[(43387, 7),\n",
       " (43389, 7),\n",
       " (783236, 7),\n",
       " (1480661, 66),\n",
       " (1480662, 66),\n",
       " (1525072, 93),\n",
       " (43718, 101),\n",
       " (1534525, 106),\n",
       " (1044039, 147),\n",
       " (1582933, 150)]"
      ]
     },
     "execution_count": 91,
     "metadata": {},
     "output_type": "execute_result"
    }
   ],
   "source": [
    "expr_errs[:10]"
   ]
  },
  {
   "cell_type": "code",
   "execution_count": 93,
   "metadata": {},
   "outputs": [
    {
     "data": {
      "text/plain": [
       "(7, 'Afrikaans')"
      ]
     },
     "execution_count": 93,
     "metadata": {},
     "output_type": "execute_result"
    }
   ],
   "source": [
    "expr[43387]"
   ]
  },
  {
   "cell_type": "code",
   "execution_count": 106,
   "metadata": {},
   "outputs": [],
   "source": [
    "f = open(PANLEX_TRANSLATIONS, 'wb')\n",
    "\n",
    "pickle.dump(expr_tuples, f)"
   ]
  },
  {
   "cell_type": "code",
   "execution_count": 107,
   "metadata": {},
   "outputs": [],
   "source": [
    "f.close()"
   ]
  },
  {
   "cell_type": "code",
   "execution_count": null,
   "metadata": {},
   "outputs": [],
   "source": []
  }
 ],
 "metadata": {
  "kernelspec": {
   "display_name": "Python 3",
   "language": "python",
   "name": "python3"
  },
  "language_info": {
   "codemirror_mode": {
    "name": "ipython",
    "version": 3
   },
   "file_extension": ".py",
   "mimetype": "text/x-python",
   "name": "python",
   "nbconvert_exporter": "python",
   "pygments_lexer": "ipython3",
   "version": "3.8.2"
  }
 },
 "nbformat": 4,
 "nbformat_minor": 4
}
