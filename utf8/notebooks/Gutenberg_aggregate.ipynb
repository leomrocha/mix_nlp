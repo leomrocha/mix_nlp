{
 "cells": [
  {
   "cell_type": "markdown",
   "metadata": {},
   "source": [
    "# Gutenberg Project Aggregation scripts\n",
    "\n",
    "This notebook is dedicated to aggregate the results obtained in the per book processing step.\n",
    "\n"
   ]
  },
  {
   "cell_type": "markdown",
   "metadata": {},
   "source": [
    "First step is deduplicating the results as there are many duplicated books in different formats"
   ]
  },
  {
   "cell_type": "code",
   "execution_count": 1,
   "metadata": {},
   "outputs": [],
   "source": [
    "import os\n",
    "from pathlib import Path\n",
    "\n",
    "BASEDIR = '/home/leo/projects/Datasets/text/Gutenberg/Gutenberg'\n",
    "ZIP_DEDUP_LIST = os.path.join(BASEDIR, 'zip_list.dedup.txt')\n",
    "RESULT_EXTENSIONS = ['.stats.json.gz', '.stats_all.json.gz']\n",
    "ORIG_DIR = os.path.join(BASEDIR, 'stats_results')\n",
    "DEDUP_DIR = os.path.join(BASEDIR, 'stats_results_dedup')\n",
    "DEDUP_ALL_DIR = os.path.join(BASEDIR, 'stats_all_results_dedup')"
   ]
  },
  {
   "cell_type": "code",
   "execution_count": 2,
   "metadata": {},
   "outputs": [],
   "source": [
    "# pth = Path(ZIP_DEDUP_LIST)\n"
   ]
  },
  {
   "cell_type": "code",
   "execution_count": 3,
   "metadata": {},
   "outputs": [],
   "source": [
    "# pth.name"
   ]
  },
  {
   "cell_type": "code",
   "execution_count": 4,
   "metadata": {},
   "outputs": [],
   "source": [
    "flines = open(ZIP_DEDUP_LIST, 'r').readlines()"
   ]
  },
  {
   "cell_type": "code",
   "execution_count": 5,
   "metadata": {},
   "outputs": [],
   "source": [
    "dedup_stats_files = []\n",
    "\n",
    "for f in flines:\n",
    "    fname = Path(f.strip().replace('\\n','')).name\n",
    "    res_files = []\n",
    "    for ext in RESULT_EXTENSIONS:\n",
    "        res_files.append(fname.replace('.zip', ext))\n",
    "    dedup_stats_files.extend(res_files)"
   ]
  },
  {
   "cell_type": "code",
   "execution_count": 6,
   "metadata": {},
   "outputs": [
    {
     "data": {
      "text/plain": [
       "59897.0"
      ]
     },
     "execution_count": 6,
     "metadata": {},
     "output_type": "execute_result"
    }
   ],
   "source": [
    "len(dedup_stats_files)/2"
   ]
  },
  {
   "cell_type": "code",
   "execution_count": 7,
   "metadata": {},
   "outputs": [],
   "source": [
    "dedup_all_stats = [f for f in dedup_stats_files if 'stats_all' in f]\n",
    "dedup_stats = [f for f in dedup_stats_files if 'stats_all' not in f]"
   ]
  },
  {
   "cell_type": "code",
   "execution_count": 8,
   "metadata": {},
   "outputs": [
    {
     "data": {
      "text/plain": [
       "(59897, 59897)"
      ]
     },
     "execution_count": 8,
     "metadata": {},
     "output_type": "execute_result"
    }
   ],
   "source": [
    "len(dedup_all_stats), len(dedup_stats)"
   ]
  },
  {
   "cell_type": "code",
   "execution_count": 9,
   "metadata": {},
   "outputs": [],
   "source": [
    "for f in dedup_all_stats:\n",
    "    os.system(f'mv {os.path.join(ORIG_DIR, f)} {DEDUP_ALL_DIR}')\n",
    "    \n",
    "for f in dedup_stats:\n",
    "    os.system(f'mv {os.path.join(ORIG_DIR, f)} {DEDUP_DIR}')"
   ]
  },
  {
   "cell_type": "code",
   "execution_count": 10,
   "metadata": {},
   "outputs": [
    {
     "data": {
      "text/plain": [
       "'/home/leo/projects/mix_nlp/utf8/notebooks'"
      ]
     },
     "execution_count": 10,
     "metadata": {},
     "output_type": "execute_result"
    }
   ],
   "source": [
    "pwd"
   ]
  },
  {
   "cell_type": "markdown",
   "metadata": {},
   "source": [
    "## Group ids by language\n",
    "\n",
    "Now I have to create the folders for each language, grouping results by them\n",
    "\n",
    "In a single file per result-type group:\n",
    "- "
   ]
  }
 ],
 "metadata": {
  "kernelspec": {
   "display_name": "Python 3",
   "language": "python",
   "name": "python3"
  },
  "language_info": {
   "codemirror_mode": {
    "name": "ipython",
    "version": 3
   },
   "file_extension": ".py",
   "mimetype": "text/x-python",
   "name": "python",
   "nbconvert_exporter": "python",
   "pygments_lexer": "ipython3",
   "version": "3.8.2"
  }
 },
 "nbformat": 4,
 "nbformat_minor": 4
}
