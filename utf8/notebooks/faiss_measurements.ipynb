{
 "cells": [
  {
   "cell_type": "markdown",
   "metadata": {},
   "source": [
    "# FAISS Memory Study\n",
    "\n",
    "This notebook tries to measure the memory consumption and speed of faiss in CPU and GPU\n"
   ]
  },
  {
   "cell_type": "code",
   "execution_count": 1,
   "metadata": {},
   "outputs": [],
   "source": [
    "import numpy as np\n",
    "import numpy.random as np_rand\n",
    "import faiss"
   ]
  },
  {
   "cell_type": "code",
   "execution_count": 2,
   "metadata": {},
   "outputs": [
    {
     "name": "stdout",
     "output_type": "stream",
     "text": [
      "number of GPUs: 2\n"
     ]
    }
   ],
   "source": [
    "# Multiple GPUs\n",
    "ngpus = faiss.get_num_gpus()\n",
    "\n",
    "print(\"number of GPUs:\", ngpus)"
   ]
  },
  {
   "cell_type": "code",
   "execution_count": 3,
   "metadata": {},
   "outputs": [],
   "source": [
    "d=128\n",
    "# N = 100000\n",
    "N = 10000\n",
    "emb = np.array(np.random.randint(0,2, size=(N, d)), dtype=np.float32)"
   ]
  },
  {
   "cell_type": "code",
   "execution_count": 4,
   "metadata": {},
   "outputs": [
    {
     "data": {
      "text/plain": [
       "(10000, 128)"
      ]
     },
     "execution_count": 4,
     "metadata": {},
     "output_type": "execute_result"
    }
   ],
   "source": [
    "emb.shape"
   ]
  },
  {
   "cell_type": "code",
   "execution_count": 5,
   "metadata": {},
   "outputs": [],
   "source": [
    "index_flat_l2 = faiss.IndexFlatL2(d)"
   ]
  },
  {
   "cell_type": "code",
   "execution_count": 6,
   "metadata": {},
   "outputs": [],
   "source": [
    "index_flat_l2.train(emb)"
   ]
  },
  {
   "cell_type": "code",
   "execution_count": 7,
   "metadata": {},
   "outputs": [],
   "source": [
    "index_flat_l2.add(emb)"
   ]
  },
  {
   "cell_type": "code",
   "execution_count": 8,
   "metadata": {},
   "outputs": [],
   "source": [
    "npdec = np.array(np.random.randn(1000,128), dtype=np.float32)"
   ]
  },
  {
   "cell_type": "code",
   "execution_count": 9,
   "metadata": {},
   "outputs": [
    {
     "data": {
      "text/plain": [
       "(1000, 128)"
      ]
     },
     "execution_count": 9,
     "metadata": {},
     "output_type": "execute_result"
    }
   ],
   "source": [
    "npdec.shape"
   ]
  },
  {
   "cell_type": "code",
   "execution_count": 10,
   "metadata": {},
   "outputs": [
    {
     "data": {
      "text/plain": [
       "dtype('float32')"
      ]
     },
     "execution_count": 10,
     "metadata": {},
     "output_type": "execute_result"
    }
   ],
   "source": [
    "npdec.dtype"
   ]
  },
  {
   "cell_type": "code",
   "execution_count": 11,
   "metadata": {},
   "outputs": [
    {
     "data": {
      "text/plain": [
       "128"
      ]
     },
     "execution_count": 11,
     "metadata": {},
     "output_type": "execute_result"
    }
   ],
   "source": [
    "index_flat_l2.d"
   ]
  },
  {
   "cell_type": "code",
   "execution_count": 12,
   "metadata": {},
   "outputs": [
    {
     "data": {
      "text/plain": [
       "10000"
      ]
     },
     "execution_count": 12,
     "metadata": {},
     "output_type": "execute_result"
    }
   ],
   "source": [
    "index_flat_l2.ntotal"
   ]
  },
  {
   "cell_type": "code",
   "execution_count": 13,
   "metadata": {},
   "outputs": [
    {
     "name": "stdout",
     "output_type": "stream",
     "text": [
      "CPU times: user 1.92 s, sys: 442 ms, total: 2.36 s\n",
      "Wall time: 341 ms\n"
     ]
    }
   ],
   "source": [
    "%%time\n",
    "k=2\n",
    "D,I = index_flat_l2.search(npdec, k)"
   ]
  },
  {
   "cell_type": "code",
   "execution_count": 14,
   "metadata": {},
   "outputs": [],
   "source": [
    "res = faiss.StandardGpuResources()"
   ]
  },
  {
   "cell_type": "code",
   "execution_count": 15,
   "metadata": {},
   "outputs": [
    {
     "data": {
      "text/plain": [
       "<faiss.swigfaiss.StandardGpuResources; proxy of <Swig Object of type 'faiss::gpu::StandardGpuResources *' at 0x7f753a909bd0> >"
      ]
     },
     "execution_count": 15,
     "metadata": {},
     "output_type": "execute_result"
    }
   ],
   "source": [
    "res"
   ]
  },
  {
   "cell_type": "code",
   "execution_count": 16,
   "metadata": {},
   "outputs": [],
   "source": [
    "# Using one GPU\n",
    "# res = faiss.StandardGpuResources()  # use a single GPU\n",
    "# build a flat (CPU) index\n",
    "index_flat = faiss.IndexFlatL2(d)"
   ]
  },
  {
   "cell_type": "code",
   "execution_count": 17,
   "metadata": {},
   "outputs": [],
   "source": [
    "# make it into a gpu index\n",
    "gpu_index_flat = faiss.index_cpu_to_gpu(res, 0, index_flat)"
   ]
  },
  {
   "cell_type": "code",
   "execution_count": 18,
   "metadata": {},
   "outputs": [],
   "source": [
    "res = faiss.StandardGpuResources()  # use a single GPU\n",
    "gpu_index_flat = faiss.index_cpu_to_gpu(res, 0, index_flat_l2)"
   ]
  },
  {
   "cell_type": "code",
   "execution_count": 19,
   "metadata": {},
   "outputs": [
    {
     "name": "stdout",
     "output_type": "stream",
     "text": [
      "CPU times: user 828 µs, sys: 359 µs, total: 1.19 ms\n",
      "Wall time: 746 µs\n"
     ]
    }
   ],
   "source": [
    "%%time\n",
    "k=20\n",
    "D,I = gpu_index_flat.search(npdec, k)"
   ]
  },
  {
   "cell_type": "markdown",
   "metadata": {},
   "source": [
    "TODO check how to make it more memory efficient using float16 instead\n",
    "\n",
    "* https://github.com/facebookresearch/faiss/issues/666\n",
    "* https://github.com/facebookresearch/faiss/blob/master/gpu/utils/Float16.cu\n",
    "* https://github.com/facebookresearch/faiss/issues/590\n",
    "\n",
    "Use \"lossy\" indices (float16, int8, int4), instead of a complete one, this will save in space even if the computations are done in float32"
   ]
  },
  {
   "cell_type": "markdown",
   "metadata": {},
   "source": [
    "Indices that I should try with the codes:\n",
    "\n",
    "- faiss.IndexScalarQuantizer with (QT_8bit/QT_6bit/QT_4bit)\n",
    "- faiss.IndexPQ\n",
    "\n",
    "the construction can be done with index_factory: \n",
    "\n",
    "    index = faiss.index_factory(d, \"IVF100,PQ8\")\n",
    "    \n",
    "    \n",
    "To analyze a matrix, print\n",
    "\n",
    "    MatrixStats(my_matrix).comments (Python)"
   ]
  },
  {
   "cell_type": "code",
   "execution_count": 20,
   "metadata": {},
   "outputs": [],
   "source": [
    "#TODO tests to do and measure\n",
    "# isq_fp16 = faiss.IndexScalarQuantizer\n",
    "isq8 = faiss.IndexScalarQuantizer(d, 8)\n",
    "isq6 = faiss.IndexScalarQuantizer(d, 6)\n",
    "isq4 = faiss.IndexScalarQuantizer(d, 4)\n",
    "ipq8 = faiss.IndexPQ(d, 16, 8)  # with different Quantizer configurations\n",
    "ipq6 = faiss.IndexPQ(d, 16, 6)  # with different Quantizer configurations\n",
    "ipq4 = faiss.IndexPQ(d, 16, 4)  # with different Quantizer configurations\n",
    "\n",
    "# these should be tested for the training and see which ones give a better result"
   ]
  },
  {
   "cell_type": "code",
   "execution_count": 21,
   "metadata": {},
   "outputs": [],
   "source": [
    "iemb = np.array(np.random.randint(0,10, size=(N, d)), dtype=np.float32)\n",
    "inpdec = np.array(np.random.randint(0,10, size=(N, d)), dtype=np.float32)\n"
   ]
  },
  {
   "cell_type": "code",
   "execution_count": 22,
   "metadata": {},
   "outputs": [
    {
     "name": "stdout",
     "output_type": "stream",
     "text": [
      "CPU times: user 13 µs, sys: 5 µs, total: 18 µs\n",
      "Wall time: 19.8 µs\n",
      "CPU times: user 1.33 ms, sys: 574 µs, total: 1.91 ms\n",
      "Wall time: 1.4 ms\n",
      "CPU times: user 6 µs, sys: 3 µs, total: 9 µs\n",
      "Wall time: 10 µs\n"
     ]
    }
   ],
   "source": [
    "# train quantizers indices, checking build time is good, but is not so much of an issue as should be done only once\n",
    "%time isq8.train(iemb)\n",
    "%time isq6.train(iemb)\n",
    "%time isq4.train(iemb)"
   ]
  },
  {
   "cell_type": "code",
   "execution_count": 23,
   "metadata": {},
   "outputs": [
    {
     "name": "stdout",
     "output_type": "stream",
     "text": [
      "CPU times: user 5min 5s, sys: 1min 30s, total: 6min 35s\n",
      "Wall time: 52.6 s\n",
      "CPU times: user 5min 3s, sys: 1min 27s, total: 6min 31s\n",
      "Wall time: 51.9 s\n",
      "CPU times: user 2min 52s, sys: 44.4 s, total: 3min 37s\n",
      "Wall time: 28.8 s\n"
     ]
    }
   ],
   "source": [
    "%time ipq8.train(emb)\n",
    "%time ipq6.train(emb)\n",
    "%time ipq4.train(emb)"
   ]
  },
  {
   "cell_type": "code",
   "execution_count": 24,
   "metadata": {},
   "outputs": [
    {
     "data": {
      "text/plain": [
       "1"
      ]
     },
     "execution_count": 24,
     "metadata": {},
     "output_type": "execute_result"
    }
   ],
   "source": [
    "isq8.metric_type"
   ]
  },
  {
   "cell_type": "code",
   "execution_count": 25,
   "metadata": {},
   "outputs": [],
   "source": [
    "# check the search time on each quantizer, this is important, as long as there are (almost) no errors\n",
    "# %time isq8.search (inpdec, k)\n",
    "# there is an issue with the search of non-integers?\n",
    "# I need to understand this\n",
    "# when using np.int as dtype in iemb it fails to create the index, \n",
    "# when using np.int as dtype in the inpdec it fails during search\n",
    "# when using both np.float32 (but both created as randint [0,...]) it fails during the metric computation -> was an error during initialization of the metric_type\n",
    "# now it seems to break the python kernel .... It seems that I won't be able to use it  (and I really want to due to the int index properties)\n",
    "\n",
    "# This happens only with the 8 bit one, not with smaller int representations"
   ]
  },
  {
   "cell_type": "code",
   "execution_count": 26,
   "metadata": {},
   "outputs": [
    {
     "name": "stdout",
     "output_type": "stream",
     "text": [
      "CPU times: user 10 ms, sys: 0 ns, total: 10 ms\n",
      "Wall time: 1.62 ms\n"
     ]
    },
    {
     "data": {
      "text/plain": [
       "(array([[3.4028235e+38, 3.4028235e+38, 3.4028235e+38, ..., 3.4028235e+38,\n",
       "         3.4028235e+38, 3.4028235e+38],\n",
       "        [3.4028235e+38, 3.4028235e+38, 3.4028235e+38, ..., 3.4028235e+38,\n",
       "         3.4028235e+38, 3.4028235e+38],\n",
       "        [3.4028235e+38, 3.4028235e+38, 3.4028235e+38, ..., 3.4028235e+38,\n",
       "         3.4028235e+38, 3.4028235e+38],\n",
       "        ...,\n",
       "        [3.4028235e+38, 3.4028235e+38, 3.4028235e+38, ..., 3.4028235e+38,\n",
       "         3.4028235e+38, 3.4028235e+38],\n",
       "        [3.4028235e+38, 3.4028235e+38, 3.4028235e+38, ..., 3.4028235e+38,\n",
       "         3.4028235e+38, 3.4028235e+38],\n",
       "        [3.4028235e+38, 3.4028235e+38, 3.4028235e+38, ..., 3.4028235e+38,\n",
       "         3.4028235e+38, 3.4028235e+38]], dtype=float32),\n",
       " array([[-1, -1, -1, ..., -1, -1, -1],\n",
       "        [-1, -1, -1, ..., -1, -1, -1],\n",
       "        [-1, -1, -1, ..., -1, -1, -1],\n",
       "        ...,\n",
       "        [-1, -1, -1, ..., -1, -1, -1],\n",
       "        [-1, -1, -1, ..., -1, -1, -1],\n",
       "        [-1, -1, -1, ..., -1, -1, -1]]))"
      ]
     },
     "execution_count": 26,
     "metadata": {},
     "output_type": "execute_result"
    }
   ],
   "source": [
    "%time isq6.search (inpdec, k)"
   ]
  },
  {
   "cell_type": "code",
   "execution_count": 27,
   "metadata": {},
   "outputs": [
    {
     "name": "stdout",
     "output_type": "stream",
     "text": [
      "CPU times: user 19.3 ms, sys: 5.5 ms, total: 24.8 ms\n",
      "Wall time: 3.79 ms\n"
     ]
    },
    {
     "data": {
      "text/plain": [
       "(array([[3.4028235e+38, 3.4028235e+38, 3.4028235e+38, ..., 3.4028235e+38,\n",
       "         3.4028235e+38, 3.4028235e+38],\n",
       "        [3.4028235e+38, 3.4028235e+38, 3.4028235e+38, ..., 3.4028235e+38,\n",
       "         3.4028235e+38, 3.4028235e+38],\n",
       "        [3.4028235e+38, 3.4028235e+38, 3.4028235e+38, ..., 3.4028235e+38,\n",
       "         3.4028235e+38, 3.4028235e+38],\n",
       "        ...,\n",
       "        [3.4028235e+38, 3.4028235e+38, 3.4028235e+38, ..., 3.4028235e+38,\n",
       "         3.4028235e+38, 3.4028235e+38],\n",
       "        [3.4028235e+38, 3.4028235e+38, 3.4028235e+38, ..., 3.4028235e+38,\n",
       "         3.4028235e+38, 3.4028235e+38],\n",
       "        [3.4028235e+38, 3.4028235e+38, 3.4028235e+38, ..., 3.4028235e+38,\n",
       "         3.4028235e+38, 3.4028235e+38]], dtype=float32),\n",
       " array([[-1, -1, -1, ..., -1, -1, -1],\n",
       "        [-1, -1, -1, ..., -1, -1, -1],\n",
       "        [-1, -1, -1, ..., -1, -1, -1],\n",
       "        ...,\n",
       "        [-1, -1, -1, ..., -1, -1, -1],\n",
       "        [-1, -1, -1, ..., -1, -1, -1],\n",
       "        [-1, -1, -1, ..., -1, -1, -1]]))"
      ]
     },
     "execution_count": 27,
     "metadata": {},
     "output_type": "execute_result"
    }
   ],
   "source": [
    "%time isq4.search (inpdec, k)\n"
   ]
  },
  {
   "cell_type": "code",
   "execution_count": 28,
   "metadata": {},
   "outputs": [
    {
     "name": "stdout",
     "output_type": "stream",
     "text": [
      "CPU times: user 9.41 ms, sys: 3.85 ms, total: 13.3 ms\n",
      "Wall time: 2.92 ms\n",
      "CPU times: user 291 µs, sys: 83 µs, total: 374 µs\n",
      "Wall time: 376 µs\n",
      "CPU times: user 96 µs, sys: 27 µs, total: 123 µs\n",
      "Wall time: 126 µs\n"
     ]
    }
   ],
   "source": [
    "%time _ = ipq8.search (npdec, k)\n",
    "%time _ = ipq6.search (npdec, k)\n",
    "%time _ = ipq4.search (npdec, k)"
   ]
  },
  {
   "cell_type": "markdown",
   "metadata": {},
   "source": [
    "Testing several times the ipq4 is steady under ~300micro seconds, while ipq6 varies between 0.5 to 20 milliseconds and ipq8 seems steady around 20-30ms.  This is just a first idea and non-exhaustive experiment."
   ]
  },
  {
   "cell_type": "code",
   "execution_count": 29,
   "metadata": {},
   "outputs": [
    {
     "name": "stdout",
     "output_type": "stream",
     "text": [
      "CPU times: user 5min 3s, sys: 1min 27s, total: 6min 31s\n",
      "Wall time: 51.8 s\n"
     ]
    }
   ],
   "source": [
    "%%time\n",
    "idxpq = faiss.IndexPQ(d, 16, 8)\n",
    "# before training\n",
    "# index.do_polysemous_training = True\n",
    "idxpq.train(emb)"
   ]
  },
  {
   "cell_type": "code",
   "execution_count": 30,
   "metadata": {},
   "outputs": [
    {
     "name": "stdout",
     "output_type": "stream",
     "text": [
      "CPU times: user 4.3 ms, sys: 1.23 ms, total: 5.52 ms\n",
      "Wall time: 2.86 ms\n"
     ]
    }
   ],
   "source": [
    "%%time\n",
    "# before searching\n",
    "# index.search_type = faiss.IndexPQ.ST_polysemous\n",
    "# index.polysemous_ht = 54    # the Hamming threshold\n",
    "pqs = idxpq.search (npdec, k)"
   ]
  },
  {
   "cell_type": "markdown",
   "metadata": {},
   "source": [
    "IndexPQ seems to be at least 5 times faster than the linear kernel"
   ]
  },
  {
   "cell_type": "code",
   "execution_count": null,
   "metadata": {},
   "outputs": [],
   "source": []
  },
  {
   "cell_type": "code",
   "execution_count": 31,
   "metadata": {},
   "outputs": [],
   "source": [
    "#polysemous training kills the python kernel!!!\n",
    "# %%time\n",
    "# index = faiss.IndexPQ (d, 16, 8)\n",
    "# # before training\n",
    "# index.do_polysemous_training = True\n",
    "# index.train(emb)"
   ]
  },
  {
   "cell_type": "code",
   "execution_count": 32,
   "metadata": {},
   "outputs": [],
   "source": [
    "#polysemous training kills the python kernel!!!\n",
    "# %%time\n",
    "\n",
    "# # before searching\n",
    "# index.search_type = faiss.IndexPQ.ST_polysemous\n",
    "# index.polysemous_ht = 54    # the Hamming threshold\n",
    "# index.search (npdec, k)"
   ]
  },
  {
   "cell_type": "code",
   "execution_count": 33,
   "metadata": {},
   "outputs": [
    {
     "ename": "NameError",
     "evalue": "name 'xb' is not defined",
     "output_type": "error",
     "traceback": [
      "\u001b[0;31m---------------------------------------------------------------------------\u001b[0m",
      "\u001b[0;31mNameError\u001b[0m                                 Traceback (most recent call last)",
      "\u001b[0;32m<ipython-input-33-a6bfb89c591a>\u001b[0m in \u001b[0;36m<module>\u001b[0;34m\u001b[0m\n\u001b[1;32m      6\u001b[0m \u001b[0mindex\u001b[0m \u001b[0;34m=\u001b[0m \u001b[0mfaiss\u001b[0m\u001b[0;34m.\u001b[0m\u001b[0mIndexIVFPQ\u001b[0m\u001b[0;34m(\u001b[0m\u001b[0mquantizer\u001b[0m\u001b[0;34m,\u001b[0m \u001b[0md\u001b[0m\u001b[0;34m,\u001b[0m \u001b[0mnlist\u001b[0m\u001b[0;34m,\u001b[0m \u001b[0mm\u001b[0m\u001b[0;34m,\u001b[0m \u001b[0;36m8\u001b[0m\u001b[0;34m)\u001b[0m\u001b[0;34m\u001b[0m\u001b[0;34m\u001b[0m\u001b[0m\n\u001b[1;32m      7\u001b[0m                                     \u001b[0;31m# 8 specifies that each sub-vector is encoded as 8 bits\u001b[0m\u001b[0;34m\u001b[0m\u001b[0;34m\u001b[0m\u001b[0;34m\u001b[0m\u001b[0m\n\u001b[0;32m----> 8\u001b[0;31m \u001b[0mindex\u001b[0m\u001b[0;34m.\u001b[0m\u001b[0mtrain\u001b[0m\u001b[0;34m(\u001b[0m\u001b[0mxb\u001b[0m\u001b[0;34m)\u001b[0m\u001b[0;34m\u001b[0m\u001b[0;34m\u001b[0m\u001b[0m\n\u001b[0m\u001b[1;32m      9\u001b[0m \u001b[0mindex\u001b[0m\u001b[0;34m.\u001b[0m\u001b[0madd\u001b[0m\u001b[0;34m(\u001b[0m\u001b[0mxb\u001b[0m\u001b[0;34m)\u001b[0m\u001b[0;34m\u001b[0m\u001b[0;34m\u001b[0m\u001b[0m\n\u001b[1;32m     10\u001b[0m \u001b[0mD\u001b[0m\u001b[0;34m,\u001b[0m \u001b[0mI\u001b[0m \u001b[0;34m=\u001b[0m \u001b[0mindex\u001b[0m\u001b[0;34m.\u001b[0m\u001b[0msearch\u001b[0m\u001b[0;34m(\u001b[0m\u001b[0mxb\u001b[0m\u001b[0;34m[\u001b[0m\u001b[0;34m:\u001b[0m\u001b[0;36m5\u001b[0m\u001b[0;34m]\u001b[0m\u001b[0;34m,\u001b[0m \u001b[0mk\u001b[0m\u001b[0;34m)\u001b[0m \u001b[0;31m# sanity check\u001b[0m\u001b[0;34m\u001b[0m\u001b[0;34m\u001b[0m\u001b[0m\n",
      "\u001b[0;31mNameError\u001b[0m: name 'xb' is not defined"
     ]
    }
   ],
   "source": [
    "# d = 128\n",
    "nlist = 100\n",
    "m = 8                             # number of subquantizers\n",
    "k = 4\n",
    "quantizer = faiss.IndexFlatL2(d)  # this remains the same\n",
    "index = faiss.IndexIVFPQ(quantizer, d, nlist, m, 8)\n",
    "                                    # 8 specifies that each sub-vector is encoded as 8 bits\n",
    "index.train(xb)\n",
    "index.add(xb)\n",
    "D, I = index.search(xb[:5], k) # sanity check\n",
    "print(I)\n",
    "print(D)\n",
    "index.nprobe = 10              # make comparable with experiment above\n",
    "D, I = index.search(xq, k)     # search\n",
    "print(I[-5:])"
   ]
  },
  {
   "cell_type": "code",
   "execution_count": 34,
   "metadata": {},
   "outputs": [],
   "source": [
    "# finite precision ERROR on BIG numbers\n",
    "\n",
    "# example from: https://gist.github.com/mdouze/efc94c57e2302469287b9d1a2501d277\n",
    "\n",
    "import numpy as np\n",
    "\n",
    "a = np.array([12345], dtype='float32')\n",
    "b = np.array([12343], dtype='float32')\n",
    "\n",
    "diff = (a * a).sum() + (b * b).sum() - 2 * np.dot(a, b)"
   ]
  },
  {
   "cell_type": "code",
   "execution_count": 35,
   "metadata": {},
   "outputs": [
    {
     "data": {
      "text/plain": [
       "0.0"
      ]
     },
     "execution_count": 35,
     "metadata": {},
     "output_type": "execute_result"
    }
   ],
   "source": [
    "diff"
   ]
  },
  {
   "cell_type": "code",
   "execution_count": 36,
   "metadata": {},
   "outputs": [
    {
     "data": {
      "text/plain": [
       "(152399020.0, 152349650.0, 304748672.0)"
      ]
     },
     "execution_count": 36,
     "metadata": {},
     "output_type": "execute_result"
    }
   ],
   "source": [
    "(a * a).sum(), (b * b).sum(),  2 * np.dot(a, b)"
   ]
  },
  {
   "cell_type": "code",
   "execution_count": 37,
   "metadata": {},
   "outputs": [
    {
     "data": {
      "text/plain": [
       "304748670.0"
      ]
     },
     "execution_count": 37,
     "metadata": {},
     "output_type": "execute_result"
    }
   ],
   "source": [
    "(a * a).sum() + (b * b).sum()"
   ]
  },
  {
   "cell_type": "code",
   "execution_count": 38,
   "metadata": {},
   "outputs": [
    {
     "data": {
      "text/plain": [
       "304748672.0"
      ]
     },
     "execution_count": 38,
     "metadata": {},
     "output_type": "execute_result"
    }
   ],
   "source": [
    "2 * np.dot(a, b)"
   ]
  },
  {
   "cell_type": "code",
   "execution_count": null,
   "metadata": {},
   "outputs": [],
   "source": []
  }
 ],
 "metadata": {
  "kernelspec": {
   "display_name": "Python 3",
   "language": "python",
   "name": "python3"
  },
  "language_info": {
   "codemirror_mode": {
    "name": "ipython",
    "version": 3
   },
   "file_extension": ".py",
   "mimetype": "text/x-python",
   "name": "python",
   "nbconvert_exporter": "python",
   "pygments_lexer": "ipython3",
   "version": "3.8.2"
  }
 },
 "nbformat": 4,
 "nbformat_minor": 4
}
