{
 "cells": [
  {
   "cell_type": "markdown",
   "metadata": {},
   "source": [
    "# A statistical Conllu file Exploration of  Universal Dependencies\n",
    "\n",
    "## Introduction\n",
    "\n",
    "While much work is being done in the current days on NLP and NLU, there is little work on describing why a certain length of transformer (or other as LSTM time steps) architecture has been chosen for the training, it is mostly arbitrary and depends on the goal of the work and resources available (mainly hardware). These decisions are hard once the model has been trained and there is nothing that can be done to extend the length of a transformer (for example) without having to retrain the entire network. There are however some works that tackle variable length sequences. \n",
    "\n",
    "This work presents a first complete analysis of the Universal Dependencies v2.6 dataset and presents the globan and individual results of each language present in the dataset.\n",
    "\n",
    "This work does not intend to be a conference level paper (that is why there are no references to all the papers on each subject), but an informational technical report that might help to better select the most effective compromise text or token length for your particular NLP application.\n",
    "\n",
    "The number of analyzed languages is 92, the token length is measured as the named UPOS tag in the dataset, while the character length is just that. There is no analysis on what constitutes a word or not, this means that a token includes the punctuiation and other symbols presents in the text samples. For lingüstic analysis purposes more de\n",
    "\n",
    "\n"
   ]
  },
  {
   "cell_type": "markdown",
   "metadata": {},
   "source": [
    "## Observations\n",
    "\n",
    "The histograms show a skew on the distribution, this can be a skewed gaussian, a generalized gaussian or a beta distribution form. Due to this, I will be testing different distribution fits with the Kolmogorov-Smirnov test.\n",
    "\n",
    "There are many languages that do not have enough samples so the dsitribution fit will not be good  and errors will be big.\n",
    "This is not an issue  from the code point of view. The important thing is if this data is used, take into account the number of samples available.\n",
    "\n",
    "\n",
    "While doing this work I found quite interesting that are languages whose number of tokens or characters avoid certain bins in the histogram (Bulgarian, Breton Welsh, Danish, Slovak, Tamil and Thai are a few examples of this). This can mean that, either the language structure supports only those lengths, or that the analyzed dataset only contains samples that avoid some sentence lengths.\n",
    "\n",
    "For some languages the number of samples is too small to make any good assumption from the data.\n"
   ]
  },
  {
   "cell_type": "markdown",
   "metadata": {},
   "source": [
    "## Conclusion\n",
    "\n",
    "This work presents a sample length analysis by language on the UniversalDependencies v2.6 dataset presenting the statistics for all 92 represented languages. The analysis then shows the length histograms by character and token length.\n",
    "\n",
    "The best compromise for choosing a sequence length on the NLP architecture for training will depend mostly on the requirements of the applicatino, nevertheless with the numbers here you should be able to make an informed guess on what might be better for your case.\n",
    "\n",
    "We can see that having a multi-lingual approach will necessary make the needed sequences longer as there is a large variability on sequence length, but appliying to single language might allow you to optimize your neural architectures"
   ]
  },
  {
   "cell_type": "markdown",
   "metadata": {},
   "source": [
    "## Future Work\n",
    "\n",
    "I am currently working on a more in depth analysis of the complete Gutenberg project dataset ( ~60K books in several languages) that will discriminate several other text characteristics.\n",
    "\n",
    "I also have started to work on a complete parsing of a few of the Wiktionary datasets.\n",
    "\n",
    "Stay tuned for those results ;)"
   ]
  },
  {
   "cell_type": "code",
   "execution_count": 41,
   "metadata": {},
   "outputs": [],
   "source": [
    "from preprocessors.ud_conllu_stats import *\n",
    "import preprocessors.ud_conllu_stats as udstats\n",
    "import json\n",
    "import gzip"
   ]
  },
  {
   "cell_type": "code",
   "execution_count": 40,
   "metadata": {},
   "outputs": [],
   "source": [
    "import matplotlib.pyplot as plt\n",
    "import bokeh\n",
    "from bokeh.plotting import figure, output_file, show\n",
    "from bokeh.palettes import Spectral4\n",
    "from bokeh.io import output_notebook, output_file\n",
    "from bokeh.models import LinearAxis, Range1d, HoverTool, ColumnDataSource, DataTable, TableColumn\n",
    "from bokeh.models.layouts import Column\n",
    "from bokeh.layouts import gridplot, column, row, Spacer\n",
    "from bokeh.resources import CDN\n",
    "from bokeh.embed import components, file_html, autoload_static\n",
    "from bokeh.models import Dropdown\n",
    "from bokeh.models.callbacks import CustomJS\n",
    "from bokeh.io import output_notebook\n",
    "\n",
    "\n",
    "%matplotlib inline\n",
    "\n",
    "# import ipywidgets as widgets\n",
    "# from ipywidgets import interact, interact_manual"
   ]
  },
  {
   "cell_type": "code",
   "execution_count": 3,
   "metadata": {},
   "outputs": [
    {
     "data": {
      "text/html": [
       "\n",
       "    <div class=\"bk-root\">\n",
       "        <a href=\"https://bokeh.org\" target=\"_blank\" class=\"bk-logo bk-logo-small bk-logo-notebook\"></a>\n",
       "        <span id=\"1001\">Loading BokehJS ...</span>\n",
       "    </div>"
      ]
     },
     "metadata": {},
     "output_type": "display_data"
    },
    {
     "data": {
      "application/javascript": [
       "\n",
       "(function(root) {\n",
       "  function now() {\n",
       "    return new Date();\n",
       "  }\n",
       "\n",
       "  var force = true;\n",
       "\n",
       "  if (typeof root._bokeh_onload_callbacks === \"undefined\" || force === true) {\n",
       "    root._bokeh_onload_callbacks = [];\n",
       "    root._bokeh_is_loading = undefined;\n",
       "  }\n",
       "\n",
       "  var JS_MIME_TYPE = 'application/javascript';\n",
       "  var HTML_MIME_TYPE = 'text/html';\n",
       "  var EXEC_MIME_TYPE = 'application/vnd.bokehjs_exec.v0+json';\n",
       "  var CLASS_NAME = 'output_bokeh rendered_html';\n",
       "\n",
       "  /**\n",
       "   * Render data to the DOM node\n",
       "   */\n",
       "  function render(props, node) {\n",
       "    var script = document.createElement(\"script\");\n",
       "    node.appendChild(script);\n",
       "  }\n",
       "\n",
       "  /**\n",
       "   * Handle when an output is cleared or removed\n",
       "   */\n",
       "  function handleClearOutput(event, handle) {\n",
       "    var cell = handle.cell;\n",
       "\n",
       "    var id = cell.output_area._bokeh_element_id;\n",
       "    var server_id = cell.output_area._bokeh_server_id;\n",
       "    // Clean up Bokeh references\n",
       "    if (id != null && id in Bokeh.index) {\n",
       "      Bokeh.index[id].model.document.clear();\n",
       "      delete Bokeh.index[id];\n",
       "    }\n",
       "\n",
       "    if (server_id !== undefined) {\n",
       "      // Clean up Bokeh references\n",
       "      var cmd = \"from bokeh.io.state import curstate; print(curstate().uuid_to_server['\" + server_id + \"'].get_sessions()[0].document.roots[0]._id)\";\n",
       "      cell.notebook.kernel.execute(cmd, {\n",
       "        iopub: {\n",
       "          output: function(msg) {\n",
       "            var id = msg.content.text.trim();\n",
       "            if (id in Bokeh.index) {\n",
       "              Bokeh.index[id].model.document.clear();\n",
       "              delete Bokeh.index[id];\n",
       "            }\n",
       "          }\n",
       "        }\n",
       "      });\n",
       "      // Destroy server and session\n",
       "      var cmd = \"import bokeh.io.notebook as ion; ion.destroy_server('\" + server_id + \"')\";\n",
       "      cell.notebook.kernel.execute(cmd);\n",
       "    }\n",
       "  }\n",
       "\n",
       "  /**\n",
       "   * Handle when a new output is added\n",
       "   */\n",
       "  function handleAddOutput(event, handle) {\n",
       "    var output_area = handle.output_area;\n",
       "    var output = handle.output;\n",
       "\n",
       "    // limit handleAddOutput to display_data with EXEC_MIME_TYPE content only\n",
       "    if ((output.output_type != \"display_data\") || (!output.data.hasOwnProperty(EXEC_MIME_TYPE))) {\n",
       "      return\n",
       "    }\n",
       "\n",
       "    var toinsert = output_area.element.find(\".\" + CLASS_NAME.split(' ')[0]);\n",
       "\n",
       "    if (output.metadata[EXEC_MIME_TYPE][\"id\"] !== undefined) {\n",
       "      toinsert[toinsert.length - 1].firstChild.textContent = output.data[JS_MIME_TYPE];\n",
       "      // store reference to embed id on output_area\n",
       "      output_area._bokeh_element_id = output.metadata[EXEC_MIME_TYPE][\"id\"];\n",
       "    }\n",
       "    if (output.metadata[EXEC_MIME_TYPE][\"server_id\"] !== undefined) {\n",
       "      var bk_div = document.createElement(\"div\");\n",
       "      bk_div.innerHTML = output.data[HTML_MIME_TYPE];\n",
       "      var script_attrs = bk_div.children[0].attributes;\n",
       "      for (var i = 0; i < script_attrs.length; i++) {\n",
       "        toinsert[toinsert.length - 1].firstChild.setAttribute(script_attrs[i].name, script_attrs[i].value);\n",
       "        toinsert[toinsert.length - 1].firstChild.textContent = bk_div.children[0].textContent\n",
       "      }\n",
       "      // store reference to server id on output_area\n",
       "      output_area._bokeh_server_id = output.metadata[EXEC_MIME_TYPE][\"server_id\"];\n",
       "    }\n",
       "  }\n",
       "\n",
       "  function register_renderer(events, OutputArea) {\n",
       "\n",
       "    function append_mime(data, metadata, element) {\n",
       "      // create a DOM node to render to\n",
       "      var toinsert = this.create_output_subarea(\n",
       "        metadata,\n",
       "        CLASS_NAME,\n",
       "        EXEC_MIME_TYPE\n",
       "      );\n",
       "      this.keyboard_manager.register_events(toinsert);\n",
       "      // Render to node\n",
       "      var props = {data: data, metadata: metadata[EXEC_MIME_TYPE]};\n",
       "      render(props, toinsert[toinsert.length - 1]);\n",
       "      element.append(toinsert);\n",
       "      return toinsert\n",
       "    }\n",
       "\n",
       "    /* Handle when an output is cleared or removed */\n",
       "    events.on('clear_output.CodeCell', handleClearOutput);\n",
       "    events.on('delete.Cell', handleClearOutput);\n",
       "\n",
       "    /* Handle when a new output is added */\n",
       "    events.on('output_added.OutputArea', handleAddOutput);\n",
       "\n",
       "    /**\n",
       "     * Register the mime type and append_mime function with output_area\n",
       "     */\n",
       "    OutputArea.prototype.register_mime_type(EXEC_MIME_TYPE, append_mime, {\n",
       "      /* Is output safe? */\n",
       "      safe: true,\n",
       "      /* Index of renderer in `output_area.display_order` */\n",
       "      index: 0\n",
       "    });\n",
       "  }\n",
       "\n",
       "  // register the mime type if in Jupyter Notebook environment and previously unregistered\n",
       "  if (root.Jupyter !== undefined) {\n",
       "    var events = require('base/js/events');\n",
       "    var OutputArea = require('notebook/js/outputarea').OutputArea;\n",
       "\n",
       "    if (OutputArea.prototype.mime_types().indexOf(EXEC_MIME_TYPE) == -1) {\n",
       "      register_renderer(events, OutputArea);\n",
       "    }\n",
       "  }\n",
       "\n",
       "  \n",
       "  if (typeof (root._bokeh_timeout) === \"undefined\" || force === true) {\n",
       "    root._bokeh_timeout = Date.now() + 5000;\n",
       "    root._bokeh_failed_load = false;\n",
       "  }\n",
       "\n",
       "  var NB_LOAD_WARNING = {'data': {'text/html':\n",
       "     \"<div style='background-color: #fdd'>\\n\"+\n",
       "     \"<p>\\n\"+\n",
       "     \"BokehJS does not appear to have successfully loaded. If loading BokehJS from CDN, this \\n\"+\n",
       "     \"may be due to a slow or bad network connection. Possible fixes:\\n\"+\n",
       "     \"</p>\\n\"+\n",
       "     \"<ul>\\n\"+\n",
       "     \"<li>re-rerun `output_notebook()` to attempt to load from CDN again, or</li>\\n\"+\n",
       "     \"<li>use INLINE resources instead, as so:</li>\\n\"+\n",
       "     \"</ul>\\n\"+\n",
       "     \"<code>\\n\"+\n",
       "     \"from bokeh.resources import INLINE\\n\"+\n",
       "     \"output_notebook(resources=INLINE)\\n\"+\n",
       "     \"</code>\\n\"+\n",
       "     \"</div>\"}};\n",
       "\n",
       "  function display_loaded() {\n",
       "    var el = document.getElementById(\"1001\");\n",
       "    if (el != null) {\n",
       "      el.textContent = \"BokehJS is loading...\";\n",
       "    }\n",
       "    if (root.Bokeh !== undefined) {\n",
       "      if (el != null) {\n",
       "        el.textContent = \"BokehJS \" + root.Bokeh.version + \" successfully loaded.\";\n",
       "      }\n",
       "    } else if (Date.now() < root._bokeh_timeout) {\n",
       "      setTimeout(display_loaded, 100)\n",
       "    }\n",
       "  }\n",
       "\n",
       "\n",
       "  function run_callbacks() {\n",
       "    try {\n",
       "      root._bokeh_onload_callbacks.forEach(function(callback) {\n",
       "        if (callback != null)\n",
       "          callback();\n",
       "      });\n",
       "    } finally {\n",
       "      delete root._bokeh_onload_callbacks\n",
       "    }\n",
       "    console.debug(\"Bokeh: all callbacks have finished\");\n",
       "  }\n",
       "\n",
       "  function load_libs(css_urls, js_urls, callback) {\n",
       "    if (css_urls == null) css_urls = [];\n",
       "    if (js_urls == null) js_urls = [];\n",
       "\n",
       "    root._bokeh_onload_callbacks.push(callback);\n",
       "    if (root._bokeh_is_loading > 0) {\n",
       "      console.debug(\"Bokeh: BokehJS is being loaded, scheduling callback at\", now());\n",
       "      return null;\n",
       "    }\n",
       "    if (js_urls == null || js_urls.length === 0) {\n",
       "      run_callbacks();\n",
       "      return null;\n",
       "    }\n",
       "    console.debug(\"Bokeh: BokehJS not loaded, scheduling load and callback at\", now());\n",
       "    root._bokeh_is_loading = css_urls.length + js_urls.length;\n",
       "\n",
       "    function on_load() {\n",
       "      root._bokeh_is_loading--;\n",
       "      if (root._bokeh_is_loading === 0) {\n",
       "        console.debug(\"Bokeh: all BokehJS libraries/stylesheets loaded\");\n",
       "        run_callbacks()\n",
       "      }\n",
       "    }\n",
       "\n",
       "    function on_error() {\n",
       "      console.error(\"failed to load \" + url);\n",
       "    }\n",
       "\n",
       "    for (var i = 0; i < css_urls.length; i++) {\n",
       "      var url = css_urls[i];\n",
       "      const element = document.createElement(\"link\");\n",
       "      element.onload = on_load;\n",
       "      element.onerror = on_error;\n",
       "      element.rel = \"stylesheet\";\n",
       "      element.type = \"text/css\";\n",
       "      element.href = url;\n",
       "      console.debug(\"Bokeh: injecting link tag for BokehJS stylesheet: \", url);\n",
       "      document.body.appendChild(element);\n",
       "    }\n",
       "\n",
       "    const hashes = {\"https://cdn.bokeh.org/bokeh/release/bokeh-2.0.2.min.js\": \"ufR9RFnRs6lniiaFvtJziE0YeidtAgBRH6ux2oUItHw5WTvE1zuk9uzhUU/FJXDp\", \"https://cdn.bokeh.org/bokeh/release/bokeh-widgets-2.0.2.min.js\": \"8QM/PGWBT+IssZuRcDcjzwIh1mkOmJSoNMmyYDZbCfXJg3Ap1lEvdVgFuSAwhb/J\", \"https://cdn.bokeh.org/bokeh/release/bokeh-tables-2.0.2.min.js\": \"Jm8cH3Rg0P6UeZhVY5cLy1WzKajUT9KImCY+76hEqrcJt59/d8GPvFHjCkYgnSIn\", \"https://cdn.bokeh.org/bokeh/release/bokeh-gl-2.0.2.min.js\": \"Ozhzj+SI7ywm74aOI/UajcWz+C0NjsPunEVyVIrxzYkB+jA+2tUw8x5xJCbVtK5I\"};\n",
       "\n",
       "    for (var i = 0; i < js_urls.length; i++) {\n",
       "      var url = js_urls[i];\n",
       "      var element = document.createElement('script');\n",
       "      element.onload = on_load;\n",
       "      element.onerror = on_error;\n",
       "      element.async = false;\n",
       "      element.src = url;\n",
       "      if (url in hashes) {\n",
       "        element.crossOrigin = \"anonymous\";\n",
       "        element.integrity = \"sha384-\" + hashes[url];\n",
       "      }\n",
       "      console.debug(\"Bokeh: injecting script tag for BokehJS library: \", url);\n",
       "      document.head.appendChild(element);\n",
       "    }\n",
       "  };\n",
       "\n",
       "  function inject_raw_css(css) {\n",
       "    const element = document.createElement(\"style\");\n",
       "    element.appendChild(document.createTextNode(css));\n",
       "    document.body.appendChild(element);\n",
       "  }\n",
       "\n",
       "  \n",
       "  var js_urls = [\"https://cdn.bokeh.org/bokeh/release/bokeh-2.0.2.min.js\", \"https://cdn.bokeh.org/bokeh/release/bokeh-widgets-2.0.2.min.js\", \"https://cdn.bokeh.org/bokeh/release/bokeh-tables-2.0.2.min.js\", \"https://cdn.bokeh.org/bokeh/release/bokeh-gl-2.0.2.min.js\"];\n",
       "  var css_urls = [];\n",
       "  \n",
       "\n",
       "  var inline_js = [\n",
       "    function(Bokeh) {\n",
       "      Bokeh.set_log_level(\"info\");\n",
       "    },\n",
       "    function(Bokeh) {\n",
       "    \n",
       "    \n",
       "    }\n",
       "  ];\n",
       "\n",
       "  function run_inline_js() {\n",
       "    \n",
       "    if (root.Bokeh !== undefined || force === true) {\n",
       "      \n",
       "    for (var i = 0; i < inline_js.length; i++) {\n",
       "      inline_js[i].call(root, root.Bokeh);\n",
       "    }\n",
       "    if (force === true) {\n",
       "        display_loaded();\n",
       "      }} else if (Date.now() < root._bokeh_timeout) {\n",
       "      setTimeout(run_inline_js, 100);\n",
       "    } else if (!root._bokeh_failed_load) {\n",
       "      console.log(\"Bokeh: BokehJS failed to load within specified timeout.\");\n",
       "      root._bokeh_failed_load = true;\n",
       "    } else if (force !== true) {\n",
       "      var cell = $(document.getElementById(\"1001\")).parents('.cell').data().cell;\n",
       "      cell.output_area.append_execute_result(NB_LOAD_WARNING)\n",
       "    }\n",
       "\n",
       "  }\n",
       "\n",
       "  if (root._bokeh_is_loading === 0) {\n",
       "    console.debug(\"Bokeh: BokehJS loaded, going straight to plotting\");\n",
       "    run_inline_js();\n",
       "  } else {\n",
       "    load_libs(css_urls, js_urls, function() {\n",
       "      console.debug(\"Bokeh: BokehJS plotting callback run at\", now());\n",
       "      run_inline_js();\n",
       "    });\n",
       "  }\n",
       "}(window));"
      ],
      "application/vnd.bokehjs_load.v0+json": "\n(function(root) {\n  function now() {\n    return new Date();\n  }\n\n  var force = true;\n\n  if (typeof root._bokeh_onload_callbacks === \"undefined\" || force === true) {\n    root._bokeh_onload_callbacks = [];\n    root._bokeh_is_loading = undefined;\n  }\n\n  \n\n  \n  if (typeof (root._bokeh_timeout) === \"undefined\" || force === true) {\n    root._bokeh_timeout = Date.now() + 5000;\n    root._bokeh_failed_load = false;\n  }\n\n  var NB_LOAD_WARNING = {'data': {'text/html':\n     \"<div style='background-color: #fdd'>\\n\"+\n     \"<p>\\n\"+\n     \"BokehJS does not appear to have successfully loaded. If loading BokehJS from CDN, this \\n\"+\n     \"may be due to a slow or bad network connection. Possible fixes:\\n\"+\n     \"</p>\\n\"+\n     \"<ul>\\n\"+\n     \"<li>re-rerun `output_notebook()` to attempt to load from CDN again, or</li>\\n\"+\n     \"<li>use INLINE resources instead, as so:</li>\\n\"+\n     \"</ul>\\n\"+\n     \"<code>\\n\"+\n     \"from bokeh.resources import INLINE\\n\"+\n     \"output_notebook(resources=INLINE)\\n\"+\n     \"</code>\\n\"+\n     \"</div>\"}};\n\n  function display_loaded() {\n    var el = document.getElementById(\"1001\");\n    if (el != null) {\n      el.textContent = \"BokehJS is loading...\";\n    }\n    if (root.Bokeh !== undefined) {\n      if (el != null) {\n        el.textContent = \"BokehJS \" + root.Bokeh.version + \" successfully loaded.\";\n      }\n    } else if (Date.now() < root._bokeh_timeout) {\n      setTimeout(display_loaded, 100)\n    }\n  }\n\n\n  function run_callbacks() {\n    try {\n      root._bokeh_onload_callbacks.forEach(function(callback) {\n        if (callback != null)\n          callback();\n      });\n    } finally {\n      delete root._bokeh_onload_callbacks\n    }\n    console.debug(\"Bokeh: all callbacks have finished\");\n  }\n\n  function load_libs(css_urls, js_urls, callback) {\n    if (css_urls == null) css_urls = [];\n    if (js_urls == null) js_urls = [];\n\n    root._bokeh_onload_callbacks.push(callback);\n    if (root._bokeh_is_loading > 0) {\n      console.debug(\"Bokeh: BokehJS is being loaded, scheduling callback at\", now());\n      return null;\n    }\n    if (js_urls == null || js_urls.length === 0) {\n      run_callbacks();\n      return null;\n    }\n    console.debug(\"Bokeh: BokehJS not loaded, scheduling load and callback at\", now());\n    root._bokeh_is_loading = css_urls.length + js_urls.length;\n\n    function on_load() {\n      root._bokeh_is_loading--;\n      if (root._bokeh_is_loading === 0) {\n        console.debug(\"Bokeh: all BokehJS libraries/stylesheets loaded\");\n        run_callbacks()\n      }\n    }\n\n    function on_error() {\n      console.error(\"failed to load \" + url);\n    }\n\n    for (var i = 0; i < css_urls.length; i++) {\n      var url = css_urls[i];\n      const element = document.createElement(\"link\");\n      element.onload = on_load;\n      element.onerror = on_error;\n      element.rel = \"stylesheet\";\n      element.type = \"text/css\";\n      element.href = url;\n      console.debug(\"Bokeh: injecting link tag for BokehJS stylesheet: \", url);\n      document.body.appendChild(element);\n    }\n\n    const hashes = {\"https://cdn.bokeh.org/bokeh/release/bokeh-2.0.2.min.js\": \"ufR9RFnRs6lniiaFvtJziE0YeidtAgBRH6ux2oUItHw5WTvE1zuk9uzhUU/FJXDp\", \"https://cdn.bokeh.org/bokeh/release/bokeh-widgets-2.0.2.min.js\": \"8QM/PGWBT+IssZuRcDcjzwIh1mkOmJSoNMmyYDZbCfXJg3Ap1lEvdVgFuSAwhb/J\", \"https://cdn.bokeh.org/bokeh/release/bokeh-tables-2.0.2.min.js\": \"Jm8cH3Rg0P6UeZhVY5cLy1WzKajUT9KImCY+76hEqrcJt59/d8GPvFHjCkYgnSIn\", \"https://cdn.bokeh.org/bokeh/release/bokeh-gl-2.0.2.min.js\": \"Ozhzj+SI7ywm74aOI/UajcWz+C0NjsPunEVyVIrxzYkB+jA+2tUw8x5xJCbVtK5I\"};\n\n    for (var i = 0; i < js_urls.length; i++) {\n      var url = js_urls[i];\n      var element = document.createElement('script');\n      element.onload = on_load;\n      element.onerror = on_error;\n      element.async = false;\n      element.src = url;\n      if (url in hashes) {\n        element.crossOrigin = \"anonymous\";\n        element.integrity = \"sha384-\" + hashes[url];\n      }\n      console.debug(\"Bokeh: injecting script tag for BokehJS library: \", url);\n      document.head.appendChild(element);\n    }\n  };\n\n  function inject_raw_css(css) {\n    const element = document.createElement(\"style\");\n    element.appendChild(document.createTextNode(css));\n    document.body.appendChild(element);\n  }\n\n  \n  var js_urls = [\"https://cdn.bokeh.org/bokeh/release/bokeh-2.0.2.min.js\", \"https://cdn.bokeh.org/bokeh/release/bokeh-widgets-2.0.2.min.js\", \"https://cdn.bokeh.org/bokeh/release/bokeh-tables-2.0.2.min.js\", \"https://cdn.bokeh.org/bokeh/release/bokeh-gl-2.0.2.min.js\"];\n  var css_urls = [];\n  \n\n  var inline_js = [\n    function(Bokeh) {\n      Bokeh.set_log_level(\"info\");\n    },\n    function(Bokeh) {\n    \n    \n    }\n  ];\n\n  function run_inline_js() {\n    \n    if (root.Bokeh !== undefined || force === true) {\n      \n    for (var i = 0; i < inline_js.length; i++) {\n      inline_js[i].call(root, root.Bokeh);\n    }\n    if (force === true) {\n        display_loaded();\n      }} else if (Date.now() < root._bokeh_timeout) {\n      setTimeout(run_inline_js, 100);\n    } else if (!root._bokeh_failed_load) {\n      console.log(\"Bokeh: BokehJS failed to load within specified timeout.\");\n      root._bokeh_failed_load = true;\n    } else if (force !== true) {\n      var cell = $(document.getElementById(\"1001\")).parents('.cell').data().cell;\n      cell.output_area.append_execute_result(NB_LOAD_WARNING)\n    }\n\n  }\n\n  if (root._bokeh_is_loading === 0) {\n    console.debug(\"Bokeh: BokehJS loaded, going straight to plotting\");\n    run_inline_js();\n  } else {\n    load_libs(css_urls, js_urls, function() {\n      console.debug(\"Bokeh: BokehJS plotting callback run at\", now());\n      run_inline_js();\n    });\n  }\n}(window));"
     },
     "metadata": {},
     "output_type": "display_data"
    }
   ],
   "source": [
    "output_notebook()"
   ]
  },
  {
   "cell_type": "code",
   "execution_count": 29,
   "metadata": {},
   "outputs": [
    {
     "name": "stdout",
     "output_type": "stream",
     "text": [
      "CPU times: user 8.51 s, sys: 1.74 s, total: 10.3 s\n",
      "Wall time: 1min 56s\n"
     ]
    }
   ],
   "source": [
    "%%time\n",
    "res = conllu_process_get_2list(blacklist=[])\n",
    "# upos_data, deprel_data, sentences_data, forms_data = extract_data_from_fields(res)\n",
    "# langs_data = compute_distributions(upos_data, deprel_data, sentences_data)\n",
    "upos_data, sentences_data, forms_data = extract_data_from_fields(res)"
   ]
  },
  {
   "cell_type": "code",
   "execution_count": 32,
   "metadata": {},
   "outputs": [],
   "source": [
    "langs = [ i[0] for i in upos_data]"
   ]
  },
  {
   "cell_type": "code",
   "execution_count": 35,
   "metadata": {},
   "outputs": [],
   "source": [
    "s_langs = set(langs)"
   ]
  },
  {
   "cell_type": "code",
   "execution_count": 4,
   "metadata": {
    "scrolled": true
   },
   "outputs": [
    {
     "name": "stderr",
     "output_type": "stream",
     "text": [
      "/home/leo/venv3/lib/python3.8/site-packages/scipy/stats/_continuous_distns.py:547: RuntimeWarning: invalid value encountered in sqrt\n",
      "  sk = 2*(b-a)*np.sqrt(a + b + 1) / (a + b + 2) / np.sqrt(a*b)\n",
      "/home/leo/venv3/lib/python3.8/site-packages/scipy/optimize/minpack.py:162: RuntimeWarning: The iteration is not making good progress, as measured by the \n",
      "  improvement from the last ten iterations.\n",
      "  warnings.warn(msg, RuntimeWarning)\n",
      "/home/leo/venv3/lib/python3.8/site-packages/scipy/stats/_continuous_distns.py:708: RuntimeWarning: divide by zero encountered in true_divide\n",
      "  a/(b-1.0),\n",
      "/home/leo/venv3/lib/python3.8/site-packages/scipy/stats/_continuous_distns.py:712: RuntimeWarning: divide by zero encountered in true_divide\n",
      "  a*(a+1.0)/((b-2.0)*(b-1.0)),\n",
      "/home/leo/venv3/lib/python3.8/site-packages/scipy/stats/_distn_infrastructure.py:1063: RuntimeWarning: invalid value encountered in subtract\n",
      "  mu2 = mu2p - mu * mu\n",
      "/home/leo/venv3/lib/python3.8/site-packages/scipy/stats/_distn_infrastructure.py:2407: RuntimeWarning: invalid value encountered in double_scalars\n",
      "  Lhat = muhat - Shat*mu\n",
      "/home/leo/venv3/lib/python3.8/site-packages/scipy/stats/_distn_infrastructure.py:1702: RuntimeWarning: divide by zero encountered in log\n",
      "  return log(self._pdf(x, *args))\n"
     ]
    },
    {
     "name": "stdout",
     "output_type": "stream",
     "text": [
      "Error processing lang qhe with Exception 'NoneType' object has no attribute 'name'\n",
      "processing af\n",
      "processing aii\n",
      "processing akk\n",
      "processing am\n",
      "processing ar\n",
      "processing be\n",
      "processing bg\n",
      "processing bho\n",
      "processing bm\n",
      "processing br\n",
      "processing bxr\n",
      "processing ca\n",
      "processing cop\n",
      "processing cs\n",
      "processing cu\n",
      "processing cy\n",
      "processing da\n",
      "processing de\n",
      "processing el\n",
      "processing en\n",
      "processing es\n",
      "processing et\n",
      "processing eu\n",
      "processing fa\n",
      "processing fi\n",
      "processing fo\n",
      "processing fr\n",
      "processing fro\n",
      "processing ga\n",
      "processing gd\n",
      "processing gl\n",
      "processing got\n",
      "processing grc\n",
      "processing gsw\n",
      "processing gun\n",
      "processing he\n",
      "processing hi\n",
      "processing hr\n",
      "processing hsb\n",
      "processing hu\n",
      "processing hy\n",
      "processing id\n",
      "processing is\n",
      "processing it\n",
      "processing ja\n",
      "processing kk\n",
      "processing kmr\n",
      "processing ko\n",
      "processing koi\n",
      "processing kpv\n",
      "processing krl\n",
      "processing la\n",
      "processing lt\n",
      "processing lv\n",
      "processing lzh\n",
      "processing mdf\n",
      "processing mr\n",
      "processing mt\n",
      "processing myv\n",
      "processing nl\n",
      "processing no\n",
      "processing olo\n",
      "processing orv\n",
      "processing pcm\n",
      "processing pl\n",
      "processing pt\n",
      "processing ro\n",
      "processing ru\n",
      "processing sa\n",
      "processing sk\n",
      "processing sl\n",
      "processing sme\n",
      "processing sms\n",
      "processing sq\n",
      "processing sr\n",
      "processing sv\n",
      "processing swl\n",
      "processing ta\n",
      "processing te\n",
      "processing th\n",
      "processing tl\n",
      "processing tr\n",
      "processing ug\n",
      "processing uk\n",
      "processing ur\n",
      "processing vi\n",
      "processing wbp\n",
      "processing wo\n",
      "processing yo\n",
      "processing yue\n",
      "processing zh\n",
      "Saving to conllu_stats.json.zip\n",
      "CPU times: user 13min 31s, sys: 2.9 s, total: 13min 33s\n",
      "Wall time: 15min 17s\n"
     ]
    }
   ],
   "source": [
    "%%time\n",
    "all_stats = generate_files(blacklist=[], saveto='conllu_stats.tmp.json.gz')"
   ]
  },
  {
   "cell_type": "code",
   "execution_count": 28,
   "metadata": {},
   "outputs": [
    {
     "data": {
      "text/plain": [
       "91"
      ]
     },
     "execution_count": 28,
     "metadata": {},
     "output_type": "execute_result"
    }
   ],
   "source": [
    "len(all_stats.keys())"
   ]
  },
  {
   "cell_type": "code",
   "execution_count": 36,
   "metadata": {},
   "outputs": [
    {
     "data": {
      "text/plain": [
       "{'qhe'}"
      ]
     },
     "execution_count": 36,
     "metadata": {},
     "output_type": "execute_result"
    }
   ],
   "source": [
    "s_langs.difference(set(all_stats.keys()))"
   ]
  },
  {
   "cell_type": "code",
   "execution_count": 39,
   "metadata": {},
   "outputs": [],
   "source": [
    "languages.get(alpha_3='qhe')"
   ]
  },
  {
   "cell_type": "code",
   "execution_count": 8,
   "metadata": {},
   "outputs": [],
   "source": [
    "import preprocessors.ud_conllu_stats as conll_stats\n",
    "_make_data_sources = conll_stats._make_data_sources"
   ]
  },
  {
   "cell_type": "code",
   "execution_count": 9,
   "metadata": {},
   "outputs": [],
   "source": [
    "upos_plt_info, txt_plt_info = _make_data_sources(all_stats['fr'])"
   ]
  },
  {
   "cell_type": "code",
   "execution_count": 10,
   "metadata": {},
   "outputs": [],
   "source": [
    "upos_plt_info, txt_plt_info = _make_data_sources(all_stats['fr'])"
   ]
  },
  {
   "cell_type": "code",
   "execution_count": 19,
   "metadata": {},
   "outputs": [],
   "source": [
    "upos_table, interval_table = conll_stats._make_stats_tables(upos_plt_info[2])"
   ]
  },
  {
   "cell_type": "code",
   "execution_count": 47,
   "metadata": {},
   "outputs": [],
   "source": [
    "grid = conll_stats._make_grid_plot(all_stats['fr'])"
   ]
  },
  {
   "cell_type": "code",
   "execution_count": 48,
   "metadata": {},
   "outputs": [
    {
     "data": {
      "text/html": [
       "\n",
       "\n",
       "\n",
       "\n",
       "\n",
       "\n",
       "  <div class=\"bk-root\" id=\"b808ed0e-6721-483c-9e84-04b5c8ffa399\" data-root-id=\"3569\"></div>\n"
      ]
     },
     "metadata": {},
     "output_type": "display_data"
    },
    {
     "data": {
      "application/javascript": [
       "(function(root) {\n",
       "  function embed_document(root) {\n",
       "    \n",
       "  var docs_json = {\"940796aa-346a-4d0f-ba24-d8985cb7bae4\":{\"roots\":{\"references\":[{\"attributes\":{\"children\":[{\"id\":\"3568\"},{\"id\":\"3566\"}],\"sizing_mode\":\"stretch_width\"},\"id\":\"3569\",\"type\":\"Column\"},{\"attributes\":{\"line_alpha\":0.1,\"line_color\":\"red\",\"line_width\":2,\"x\":{\"field\":\"x\"},\"y\":{\"field\":\"cdf\"}},\"id\":\"3482\",\"type\":\"Line\"},{\"attributes\":{\"editor\":{\"id\":\"3544\"},\"field\":\"names\",\"formatter\":{\"id\":\"3543\"},\"title\":\"Name\"},\"id\":\"3507\",\"type\":\"TableColumn\"},{\"attributes\":{\"line_alpha\":0.7,\"line_color\":\"red\",\"line_width\":2,\"x\":{\"field\":\"x\"},\"y\":{\"field\":\"cdf\"}},\"id\":\"3481\",\"type\":\"Line\"},{\"attributes\":{\"label\":{\"value\":\"PDF\"},\"renderers\":[{\"id\":\"3467\"}]},\"id\":\"3479\",\"type\":\"LegendItem\"},{\"attributes\":{},\"id\":\"3553\",\"type\":\"Selection\"},{\"attributes\":{},\"id\":\"3526\",\"type\":\"StringFormatter\"},{\"attributes\":{},\"id\":\"3554\",\"type\":\"UnionRenderers\"},{\"attributes\":{},\"id\":\"3527\",\"type\":\"StringEditor\"},{\"attributes\":{\"label\":{\"value\":\"Freq.\"},\"renderers\":[{\"id\":\"3361\"}]},\"id\":\"3372\",\"type\":\"LegendItem\"},{\"attributes\":{},\"id\":\"3528\",\"type\":\"StringFormatter\"},{\"attributes\":{},\"id\":\"3529\",\"type\":\"StringEditor\"},{\"attributes\":{},\"id\":\"3530\",\"type\":\"Selection\"},{\"attributes\":{},\"id\":\"3476\",\"type\":\"Selection\"},{\"attributes\":{},\"id\":\"3531\",\"type\":\"UnionRenderers\"},{\"attributes\":{},\"id\":\"3477\",\"type\":\"UnionRenderers\"},{\"attributes\":{\"end\":0.029222031686862243},\"id\":\"3356\",\"type\":\"Range1d\"},{\"attributes\":{\"axis_label\":\"Pr(x)\",\"formatter\":{\"id\":\"3366\"},\"ticker\":{\"id\":\"3367\"},\"y_range_name\":\"Pr(x)\"},\"id\":\"3357\",\"type\":\"LinearAxis\"},{\"attributes\":{\"active_drag\":\"auto\",\"active_inspect\":\"auto\",\"active_multi\":null,\"active_scroll\":\"auto\",\"active_tap\":\"auto\",\"tools\":[{\"id\":\"3425\"},{\"id\":\"3426\"},{\"id\":\"3427\"},{\"id\":\"3428\"},{\"id\":\"3429\"},{\"id\":\"3430\"},{\"id\":\"3431\"},{\"id\":\"3432\"},{\"id\":\"3433\"},{\"id\":\"3405\"}]},\"id\":\"3435\",\"type\":\"Toolbar\"},{\"attributes\":{},\"id\":\"3334\",\"type\":\"CrosshairTool\"},{\"attributes\":{\"data_source\":{\"id\":\"3312\"},\"glyph\":{\"id\":\"3359\"},\"hover_glyph\":null,\"muted_glyph\":null,\"name\":\"hist\",\"nonselection_glyph\":{\"id\":\"3360\"},\"selection_glyph\":null,\"view\":{\"id\":\"3362\"}},\"id\":\"3361\",\"type\":\"GlyphRenderer\"},{\"attributes\":{\"bottom\":{\"value\":0},\"fill_alpha\":{\"value\":0.1},\"fill_color\":{\"value\":\"blue\"},\"left\":{\"field\":\"bin_edges_left\"},\"line_alpha\":{\"value\":0.1},\"line_color\":{\"value\":\"white\"},\"right\":{\"field\":\"bin_edges_right\"},\"top\":{\"field\":\"hist\"}},\"id\":\"3360\",\"type\":\"Quad\"},{\"attributes\":{},\"id\":\"3335\",\"type\":\"PanTool\"},{\"attributes\":{\"callback\":null,\"mode\":\"vline\",\"names\":[\"CDF\"],\"tooltips\":[[\"length\",\"$x{int}\"],[\"Count\",\"@hist{int}\"],[\"pdf\",\"@pdf{1.111}\"],[\"cdf\",\"@cdf{1.111}\"]]},\"id\":\"3314\",\"type\":\"HoverTool\"},{\"attributes\":{},\"id\":\"3336\",\"type\":\"WheelZoomTool\"},{\"attributes\":{\"line_alpha\":0.7,\"line_color\":\"green\",\"line_width\":4,\"x\":{\"field\":\"x\"},\"y\":{\"field\":\"pdf\"}},\"id\":\"3465\",\"type\":\"Line\"},{\"attributes\":{},\"id\":\"3342\",\"type\":\"ResetTool\"},{\"attributes\":{\"active_drag\":\"auto\",\"active_inspect\":\"auto\",\"active_multi\":null,\"active_scroll\":\"auto\",\"active_tap\":\"auto\",\"tools\":[{\"id\":\"3334\"},{\"id\":\"3335\"},{\"id\":\"3336\"},{\"id\":\"3337\"},{\"id\":\"3338\"},{\"id\":\"3339\"},{\"id\":\"3340\"},{\"id\":\"3341\"},{\"id\":\"3342\"},{\"id\":\"3314\"}]},\"id\":\"3344\",\"type\":\"Toolbar\"},{\"attributes\":{\"bottom_units\":\"screen\",\"fill_alpha\":0.5,\"fill_color\":\"lightgrey\",\"left_units\":\"screen\",\"level\":\"overlay\",\"line_alpha\":1.0,\"line_color\":\"black\",\"line_dash\":[4,4],\"line_width\":2,\"render_mode\":\"css\",\"right_units\":\"screen\",\"top_units\":\"screen\"},\"id\":\"3343\",\"type\":\"BoxAnnotation\"},{\"attributes\":{},\"id\":\"3543\",\"type\":\"StringFormatter\"},{\"attributes\":{\"axis_label\":\"Count\",\"formatter\":{\"id\":\"3368\"},\"ticker\":{\"id\":\"3331\"}},\"id\":\"3330\",\"type\":\"LinearAxis\"},{\"attributes\":{},\"id\":\"3544\",\"type\":\"StringEditor\"},{\"attributes\":{\"data_source\":{\"id\":\"3313\"},\"glyph\":{\"id\":\"3465\"},\"hover_glyph\":null,\"muted_glyph\":null,\"name\":\"PDF\",\"nonselection_glyph\":{\"id\":\"3466\"},\"selection_glyph\":null,\"view\":{\"id\":\"3468\"},\"y_range_name\":\"Pr(x)\"},\"id\":\"3467\",\"type\":\"GlyphRenderer\"},{\"attributes\":{},\"id\":\"3545\",\"type\":\"StringFormatter\"},{\"attributes\":{\"start\":0},\"id\":\"3320\",\"type\":\"DataRange1d\"},{\"attributes\":{},\"id\":\"3546\",\"type\":\"StringEditor\"},{\"attributes\":{\"source\":{\"id\":\"3312\"}},\"id\":\"3362\",\"type\":\"CDSView\"},{\"attributes\":{\"source\":{\"id\":\"3313\"}},\"id\":\"3468\",\"type\":\"CDSView\"},{\"attributes\":{\"overlay\":{\"id\":\"3343\"}},\"id\":\"3337\",\"type\":\"BoxZoomTool\"},{\"attributes\":{\"data_source\":{\"id\":\"3313\"},\"glyph\":{\"id\":\"3481\"},\"hover_glyph\":null,\"muted_glyph\":null,\"name\":\"CDF\",\"nonselection_glyph\":{\"id\":\"3482\"},\"selection_glyph\":null,\"view\":{\"id\":\"3484\"},\"y_range_name\":\"cdf(x)\"},\"id\":\"3483\",\"type\":\"GlyphRenderer\"},{\"attributes\":{},\"id\":\"3338\",\"type\":\"ZoomInTool\"},{\"attributes\":{\"editor\":{\"id\":\"3546\"},\"field\":\"values\",\"formatter\":{\"id\":\"3545\"},\"title\":\"Value\"},\"id\":\"3508\",\"type\":\"TableColumn\"},{\"attributes\":{},\"id\":\"3525\",\"type\":\"UnionRenderers\"},{\"attributes\":{},\"id\":\"3339\",\"type\":\"ZoomOutTool\"},{\"attributes\":{\"data\":{\"names\":[\"99\",\"98\",\"95\",\"90\",\"85\",\"80\"],\"values\":[383.7,329.5,263.5,217.1,191.1,173.1]},\"selected\":{\"id\":\"3553\"},\"selection_policy\":{\"id\":\"3554\"}},\"id\":\"3511\",\"type\":\"ColumnDataSource\"},{\"attributes\":{},\"id\":\"3547\",\"type\":\"Selection\"},{\"attributes\":{\"line_alpha\":0.1,\"line_color\":\"green\",\"line_width\":4,\"x\":{\"field\":\"x\"},\"y\":{\"field\":\"pdf\"}},\"id\":\"3466\",\"type\":\"Line\"},{\"attributes\":{},\"id\":\"3523\",\"type\":\"StringEditor\"},{\"attributes\":{},\"id\":\"3548\",\"type\":\"UnionRenderers\"},{\"attributes\":{\"data\":{\"bin_edges_left\":{\"__ndarray__\":\"AAAAAAAA8D8fhetRuB4UQB+F61G4HiJArkfhehQuKkAfhetRuB4xQGdmZmZmJjVArkfhehQuOUD2KFyPwjU9QB+F61G4nkBAw/UoXI+iQkBnZmZmZqZEQAvXo3A9qkZArkfhehSuSEBSuB6F67FKQPYoXI/CtUxAmpmZmZm5TkAfhetRuF5QQHE9CtejYFFAw/UoXI9iUkAVrkfhemRTQGdmZmZmZlRAuR6F61FoVUAL16NwPWpWQF2PwvUobFdArkfhehRuWEAAAAAAAHBZQFK4HoXrcVpApHA9CtdzW0D2KFyPwnVcQEjhehSud11AmpmZmZl5XkDsUbgehXtfQB+F61G4PmBASOF6FK6/YEBxPQrXo0BhQJqZmZmZwWFAw/UoXI9CYkDsUbgehcNiQBWuR+F6RGNAPgrXo3DFY0BnZmZmZkZkQJDC9Shcx2RAuR6F61FIZUDiehSuR8llQAvXo3A9SmZANDMzMzPLZkBdj8L1KExnQIbrUbgezWdArkfhehROaEDXo3A9Cs9oQAAAAAAAUGlAKVyPwvXQaUBSuB6F61FqQHsUrkfh0mpApHA9CtdTa0DNzMzMzNRrQPYoXI/CVWxAH4XrUbjWbEBI4XoUrldtQHE9Ctej2G1AmpmZmZlZbkDD9Shcj9puQOxRuB6FW29AFa5H4Xrcb0AfhetRuC5wQDMzMzMzb3BASOF6FK6vcEBcj8L1KPBwQHE9CtejMHFAhetRuB5xcUCamZmZmbFxQK5H4XoU8nFAw/UoXI8yckDXo3A9CnNyQOxRuB6Fs3JAAAAAAAD0ckAVrkfhejRzQClcj8L1dHNAPgrXo3C1c0BSuB6F6/VzQGdmZmZmNnRAexSuR+F2dECQwvUoXLd0QKRwPQrX93RAuR6F61E4dUDNzMzMzHh1QOJ6FK5HuXVA9ihcj8L5dUAL16NwPTp2QB+F61G4enZANDMzMzO7dkBI4XoUrvt2QF2PwvUoPHdAcT0K16N8d0CG61G4Hr13QJqZmZmZ/XdArkfhehQ+eEDD9Shcj354QNejcD0Kv3hA7FG4HoX/eEA=\",\"dtype\":\"float64\",\"shape\":[100]},\"bin_edges_right\":{\"__ndarray__\":\"H4XrUbgeFEAfhetRuB4iQK5H4XoULipAH4XrUbgeMUBnZmZmZiY1QK5H4XoULjlA9ihcj8I1PUAfhetRuJ5AQMP1KFyPokJAZ2ZmZmamREAL16NwPapGQK5H4XoUrkhAUrgeheuxSkD2KFyPwrVMQJqZmZmZuU5AH4XrUbheUEBxPQrXo2BRQMP1KFyPYlJAFa5H4XpkU0BnZmZmZmZUQLkehetRaFVAC9ejcD1qVkBdj8L1KGxXQK5H4XoUblhAAAAAAABwWUBSuB6F63FaQKRwPQrXc1tA9ihcj8J1XEBI4XoUrnddQJqZmZmZeV5A7FG4HoV7X0AfhetRuD5gQEjhehSuv2BAcT0K16NAYUCamZmZmcFhQMP1KFyPQmJA7FG4HoXDYkAVrkfhekRjQD4K16NwxWNAZ2ZmZmZGZECQwvUoXMdkQLkehetRSGVA4noUrkfJZUAL16NwPUpmQDQzMzMzy2ZAXY/C9ShMZ0CG61G4Hs1nQK5H4XoUTmhA16NwPQrPaEAAAAAAAFBpQClcj8L10GlAUrgehetRakB7FK5H4dJqQKRwPQrXU2tAzczMzMzUa0D2KFyPwlVsQB+F61G41mxASOF6FK5XbUBxPQrXo9htQJqZmZmZWW5Aw/UoXI/abkDsUbgehVtvQBWuR+F63G9AH4XrUbgucEAzMzMzM29wQEjhehSur3BAXI/C9SjwcEBxPQrXozBxQIXrUbgecXFAmpmZmZmxcUCuR+F6FPJxQMP1KFyPMnJA16NwPQpzckDsUbgehbNyQAAAAAAA9HJAFa5H4Xo0c0ApXI/C9XRzQD4K16NwtXNAUrgehev1c0BnZmZmZjZ0QHsUrkfhdnRAkML1KFy3dECkcD0K1/d0QLkehetROHVAzczMzMx4dUDiehSuR7l1QPYoXI/C+XVAC9ejcD06dkAfhetRuHp2QDQzMzMzu3ZASOF6FK77dkBdj8L1KDx3QHE9CtejfHdAhutRuB69d0CamZmZmf13QK5H4XoUPnhAw/UoXI9+eEDXo3A9Cr94QOxRuB6F/3hAAAAAAABAeUA=\",\"dtype\":\"float64\",\"shape\":[100]},\"cdf\":{\"__ndarray__\":\"AAAAAAAAAAAB+P1jG5yXP51XHkXu/7g/nAJJWjb9yT8hjv7rBnHUP4Tbk//Lvts/CYMHkYA24T8aoBGlcSHkP9ZdXCLxmOY/cK5Ad/uh6D9BeLst10fqP3ul+opJmOs/UnQ/fVWh7D/+J1myAXDtP8XBKSDGD+4/u+32xV6K7j/p2S6u1+fuPzuWxRW2Lu8/PLctfi1k7z8K1FmkVozvP42dofhiqu8/vZyHEsrA7z9olTRQcNHvP+2Wl8XG3e8/t/ybGuXm7z91u4kqnu3vPxIHVj+Q8u8/UUMOtjH27z/PA4bB2vjvP3e5HOXM+u8/WDWrpjj87z/zk2reQf3vPxx2tfYC/u8/vWoEXI/+7z/erTxP9f7vP1rW80A//+8/x/c803T/7z+WGoCYm//vP5Z5YqC3/+8/8xSR38v/7z+mrgl82v/vP6tnDwXl/+8/wF4inOz/7z8pzvAS8v/vP9RCMAH2/+8/y9WI1Pj/7z8iOCrc+v/vP9opNlH8/+8/AQXcXP3/7z+WHsYc/v/vP61vTqb+/+8/zTHQCP//7z8h1FRP///vP3CryYH//+8/NVTfpf//7z9psaq////vP/XcGNL//+8/lZVC3///7z+7PKjo///vP2nyXO///+8/E4ol9P//7z/uwY73///vP/Qx/fn//+8/wbe4+///7z87pfT8///vP2Wc1f3//+8/usB1/v//7z/ztuf+///vP/HJOP///+8/DXNy////7z9Hcpv////vP2OWuP///+8/r0vN////7z/nAdz////vP9905v///+8/UODt////7z+9JPP////vP8bh9v///+8/3oj5////7z+iavv////vP1bA/P///+8/pLL9////7z9uXv7////vPzTY/v///+8/gC7/////7z+la//////vP/eW/////+8/prX/////7z9gy//////vP8La/////+8/p+X/////7z9c7f/////vP9Hy/////+8/rfb/////7z9o+f/////vP1f7/////+8/tPz/////7z+s/f/////vP1v+/////+8/1v7/////7z8=\",\"dtype\":\"float64\",\"shape\":[100]},\"hist\":[1846,3950,4931,4935,4899,4474,3899,3313,2664,2248,1777,1446,1073,804,621,482,350,281,165,150,112,76,56,50,32,27,20,14,10,4,10,3,4,3,2,0,1,0,0,4,1,2,0,0,0,0,0,0,0,0,0,0,0,2,0,0,0,0,0,0,0,0,0,0,0,0,0,0,0,1,0,0,0,1,0,0,0,0,0,0,0,0,0,0,0,0,0,0,0,0,0,0,0,0,0,0,0,0,0,1],\"pdf\":{\"__ndarray__\":\"AAAAAAAAAAC7ZbBt+sqJP/0WMVediZc/iNTTPSyDnD9SkNA+LVadP39urNRboZs/rqYB7d2dmD9oFvTULByVP86eNKz/mpE/HTcF35G/jD+pwcCGJBWHP8070rvjSII/RsovAq+lfD/RnbMeezt2P+f2f0gBHnE/D3pYQogtaj++9a4R9OVjP5vu2oqMF14/v3BO6w+mVj8bY10T5vlQPzjgCsDDWkk/fK50CureQj81ttLSRwE8P+b85OYUuTQ/hBXjv26XLj8p7UPXCYcmP5WZjCbCjSA/zbazf7hHGD/jO/KSGsYRP8EPNyRO+gk/DsH1TD70Aj9sT0JcKp77PtJIr0bLF/Q+8ru5R9Yy7T6gtXI2ejDlPpcd95b9t94+zvUaLRo+1j7ul3J3tBbQPpd5ewKNQMc+EgftqnzJwD5ShzFmxDe4PqfYszZSdLE+oju+cL8jqT67fqymOBeiPrnSOZqIBJo+U0+Y7zqykj60cYwCNNqKPsaRsVBqRYM+aIHU+92kez6YCp1f3dBzPuA5FsupZGw+R58/N69UZD5nit6VwBldPvw3mMP+0FQ+GnRvdVDETT58Eu0l7kVFPuCEgqmLZD4+7veDLaKzNT7r687lp/ouPhbJ0OFBGiY+6KZhtt2GHz6T45Ib9nkWPgnDw/uzBBA+iHvJKunSBj5c2EqvQUEAPpsswIdGJfc9HCOnCDd58D2Wx7yNOnHnPYgX/aSzrOA9zq4RPvK21z1Vy02D19vQPVS9hwqb9sc9jNrs4MIGwT2L8TmmYjC4Pf2CPBqWLbE9RKcd3HZkqD3NiS6PcVChPVlGjWoFk5g95ggai3VvkT1EGkLjO7yIPUoPhS/CioE9DS89j0fgeD3ado1hd6JxPWxgL1ZV/2g9/PKmubS2YT3rnv6okRlZPQlsbXWZx1E9o0sSbygvST2QfVJrRNVBPW+/GvZEQDk9raHz/9PfMT0z3RDkEU0pPVRc7Bxm5yE95ScyK7lVGT25uvwoGOwRPQ19xP9jWgk9NeFgAQfuAT1UUnLPOlv5POcoOvRO7fE82WYVOmVY6Tw=\",\"dtype\":\"float64\",\"shape\":[100]},\"x\":{\"__ndarray__\":\"AAAAAAAAAAD9SoFav1IQQP1KgVq/UiBAfPDBBx98KED9SoFav1IwQLydITFvZzRAfPDBBx98OEA7Q2LezpA8QP1KgVq/UkBAXXTRRRddQkC8nSExb2dEQBzHcRzHcUZAfPDBBx98SEDbGRLzdoZKQDtDYt7OkExAmmyyySabTkD9SoFav1JQQK1fKVDrV1FAXXTRRRddUkAMiXk7Q2JTQLydITFvZ1RAbLLJJptsVUAcx3Ecx3FWQMzbGRLzdldAfPDBBx98WEArBWr9SoFZQNsZEvN2hlpAiy666KKLW0A7Q2LezpBcQOtXCtT6lV1AmmyyySabXkBKgVq/UqBfQP1KgVq/UmBAVVVVVVXVYECtXylQ61dhQAVq/UqB2mFAXXTRRRddYkC1fqVArd9iQAyJeTtDYmNAZJNNNtnkY0C8nSExb2dkQBSo9SsF6mRAbLLJJptsZUDEvJ0hMe9lQBzHcRzHcWZAdNFFF130ZkDM2xkS83ZnQCTm7QyJ+WdAfPDBBx98aEDT+pUCtf5oQCsFav1KgWlAgw8++OADakDbGRLzdoZqQDMk5u0MCWtAiy666KKLa0DjOI7jOA5sQDtDYt7OkGxAk0022WQTbUDrVwrU+pVtQEJi3s6QGG5AmmyyySabbkDydobEvB1vQEqBWr9SoG9A0UUXXXQRcED9SoFav1JwQClQ61cKlHBAVVVVVVXVcECBWr9SoBZxQK1fKVDrV3FA2WSTTTaZcUAFav1KgdpxQDFvZ0jMG3JAXXTRRRddckCJeTtDYp5yQLV+pUCt33JA4IMPPvggc0AMiXk7Q2JzQDiO4ziOo3NAZJNNNtnkc0CQmLczJCZ0QLydITFvZ3RA6KKLLrqodEAUqPUrBep0QECtXylQK3VAbLLJJptsdUCYtzMk5q11QMS8nSEx73VA8MEHH3wwdkAcx3Ecx3F2QEjM2xkSs3ZAdNFFF130dkCg1q8UqDV3QMzbGRLzdndA+OCDDz64d0Ak5u0Mifl3QFDrVwrUOnhAfPDBBx98eECn9SsFar14QNP6lQK1/nhAAAAAAABAeUA=\",\"dtype\":\"float64\",\"shape\":[100]}},\"selected\":{\"id\":\"3385\"},\"selection_policy\":{\"id\":\"3386\"}},\"id\":\"3312\",\"type\":\"ColumnDataSource\"},{\"attributes\":{},\"id\":\"3459\",\"type\":\"BasicTickFormatter\"},{\"attributes\":{},\"id\":\"3324\",\"type\":\"LinearScale\"},{\"attributes\":{},\"id\":\"3524\",\"type\":\"Selection\"},{\"attributes\":{\"axis_label\":\"Length\",\"formatter\":{\"id\":\"3364\"},\"ticker\":{\"id\":\"3327\"}},\"id\":\"3326\",\"type\":\"LinearAxis\"},{\"attributes\":{\"axis\":{\"id\":\"3326\"},\"grid_line_color\":\"grey\",\"ticker\":null},\"id\":\"3329\",\"type\":\"Grid\"},{\"attributes\":{\"axis\":{\"id\":\"3330\"},\"dimension\":1,\"grid_line_color\":\"grey\",\"ticker\":null},\"id\":\"3333\",\"type\":\"Grid\"},{\"attributes\":{\"bottom\":{\"value\":0},\"fill_alpha\":{\"value\":0.5},\"fill_color\":{\"value\":\"blue\"},\"left\":{\"field\":\"bin_edges_left\"},\"line_alpha\":{\"value\":0.5},\"line_color\":{\"value\":\"white\"},\"right\":{\"field\":\"bin_edges_right\"},\"top\":{\"field\":\"hist\"}},\"id\":\"3359\",\"type\":\"Quad\"},{\"attributes\":{},\"id\":\"3331\",\"type\":\"BasicTicker\"},{\"attributes\":{},\"id\":\"3322\",\"type\":\"LinearScale\"},{\"attributes\":{\"background_fill_color\":\"#fefefe\",\"click_policy\":\"hide\",\"items\":[{\"id\":\"3372\"},{\"id\":\"3388\"},{\"id\":\"3404\"}],\"location\":\"center_right\"},\"id\":\"3371\",\"type\":\"Legend\"},{\"attributes\":{},\"id\":\"3327\",\"type\":\"BasicTicker\"},{\"attributes\":{},\"id\":\"3341\",\"type\":\"RedoTool\"},{\"attributes\":{\"background_fill_color\":\"#fafafa\",\"below\":[{\"id\":\"3326\"}],\"center\":[{\"id\":\"3329\"},{\"id\":\"3333\"},{\"id\":\"3371\"}],\"extra_y_ranges\":{\"Pr(x)\":{\"id\":\"3356\"},\"cdf(x)\":{\"id\":\"3355\"}},\"left\":[{\"id\":\"3330\"}],\"output_backend\":\"webgl\",\"plot_height\":350,\"renderers\":[{\"id\":\"3361\"},{\"id\":\"3376\"},{\"id\":\"3392\"}],\"right\":[{\"id\":\"3357\"}],\"sizing_mode\":\"stretch_width\",\"title\":{\"id\":\"3316\"},\"toolbar\":{\"id\":\"3344\"},\"toolbar_location\":null,\"x_range\":{\"id\":\"3318\"},\"x_scale\":{\"id\":\"3322\"},\"y_range\":{\"id\":\"3320\"},\"y_scale\":{\"id\":\"3324\"}},\"id\":\"3315\",\"subtype\":\"Figure\",\"type\":\"Plot\"},{\"attributes\":{},\"id\":\"3340\",\"type\":\"UndoTool\"},{\"attributes\":{},\"id\":\"3457\",\"type\":\"BasicTickFormatter\"},{\"attributes\":{\"align\":\"center\",\"text\":\"French - Text Length by UPOS Count\"},\"id\":\"3316\",\"type\":\"Title\"},{\"attributes\":{},\"id\":\"3549\",\"type\":\"StringFormatter\"},{\"attributes\":{},\"id\":\"3550\",\"type\":\"StringEditor\"},{\"attributes\":{},\"id\":\"3318\",\"type\":\"DataRange1d\"},{\"attributes\":{\"data\":{\"bin_edges_left\":{\"__ndarray__\":\"AAAAAAAA8D9SuB6F6xEyQFK4HoXrkUFAexSuR+EaSkBSuB6F61FRQGZmZmZmllVAexSuR+HaWUCQwvUoXB9eQFK4HoXrMWFAXI/C9ShUY0BmZmZmZnZlQHE9CtejmGdAexSuR+G6aUCF61G4Ht1rQJDC9Shc/21AzczMzMwQcEBSuB6F6yFxQNejcD0KM3JAXI/C9ShEc0DhehSuR1V0QGZmZmZmZnVA7FG4HoV3dkBxPQrXo4h3QPYoXI/CmXhAexSuR+GqeUAAAAAAALx6QIXrUbgezXtACtejcD3efECQwvUoXO99QBWuR+F6AH9AzczMzMwIgECPwvUoXJGAQFK4HoXrGYFAFa5H4XqigUDXo3A9CiuCQJqZmZmZs4JAXI/C9Sg8g0AfhetRuMSDQOF6FK5HTYRApHA9CtfVhEBmZmZmZl6FQClcj8L15oVA7FG4HoVvhkCuR+F6FPiGQHE9CtejgIdAMzMzMzMJiED2KFyPwpGIQLgehetRGolAexSuR+GiiUA+CtejcCuKQAAAAAAAtIpAw/UoXI88i0CF61G4HsWLQEjhehSuTYxACtejcD3WjEDNzMzMzF6NQJDC9Shc541AUrgehetvjkAVrkfheviOQNejcD0KgY9AzczMzMwEkECuR+F6FEmQQI/C9ShcjZBAcT0K16PRkEBSuB6F6xWRQDMzMzMzWpFAFa5H4XqekUD2KFyPwuKRQNejcD0KJ5JAuB6F61FrkkCamZmZma+SQHsUrkfh85JAXI/C9Sg4k0A+CtejcHyTQB+F61G4wJNAAAAAAAAFlEDhehSuR0mUQMP1KFyPjZRApHA9CtfRlECF61G4HhaVQGZmZmZmWpVASOF6FK6elUApXI/C9eKVQArXo3A9J5ZA7FG4HoVrlkDNzMzMzK+WQK5H4XoU9JZAj8L1KFw4l0BxPQrXo3yXQFK4HoXrwJdAMzMzMzMFmEAVrkfhekmYQPYoXI/CjZhA16NwPQrSmEC4HoXrURaZQJqZmZmZWplAexSuR+GemUBcj8L1KOOZQD4K16NwJ5pAH4XrUbhrmkA=\",\"dtype\":\"float64\",\"shape\":[100]},\"bin_edges_right\":{\"__ndarray__\":\"UrgehesRMkBSuB6F65FBQHsUrkfhGkpAUrgehetRUUBmZmZmZpZVQHsUrkfh2llAkML1KFwfXkBSuB6F6zFhQFyPwvUoVGNAZmZmZmZ2ZUBxPQrXo5hnQHsUrkfhumlAhetRuB7da0CQwvUoXP9tQM3MzMzMEHBAUrgeheshcUDXo3A9CjNyQFyPwvUoRHNA4XoUrkdVdEBmZmZmZmZ1QOxRuB6Fd3ZAcT0K16OId0D2KFyPwpl4QHsUrkfhqnlAAAAAAAC8ekCF61G4Hs17QArXo3A93nxAkML1KFzvfUAVrkfhegB/QM3MzMzMCIBAj8L1KFyRgEBSuB6F6xmBQBWuR+F6ooFA16NwPQorgkCamZmZmbOCQFyPwvUoPINAH4XrUbjEg0DhehSuR02EQKRwPQrX1YRAZmZmZmZehUApXI/C9eaFQOxRuB6Fb4ZArkfhehT4hkBxPQrXo4CHQDMzMzMzCYhA9ihcj8KRiEC4HoXrURqJQHsUrkfhoolAPgrXo3ArikAAAAAAALSKQMP1KFyPPItAhetRuB7Fi0BI4XoUrk2MQArXo3A91oxAzczMzMxejUCQwvUoXOeNQFK4HoXrb45AFa5H4Xr4jkDXo3A9CoGPQM3MzMzMBJBArkfhehRJkECPwvUoXI2QQHE9Ctej0ZBAUrgehesVkUAzMzMzM1qRQBWuR+F6npFA9ihcj8LikUDXo3A9CieSQLgehetRa5JAmpmZmZmvkkB7FK5H4fOSQFyPwvUoOJNAPgrXo3B8k0AfhetRuMCTQAAAAAAABZRA4XoUrkdJlEDD9Shcj42UQKRwPQrX0ZRAhetRuB4WlUBmZmZmZlqVQEjhehSunpVAKVyPwvXilUAK16NwPSeWQOxRuB6Fa5ZAzczMzMyvlkCuR+F6FPSWQI/C9ShcOJdAcT0K16N8l0BSuB6F68CXQDMzMzMzBZhAFa5H4XpJmED2KFyPwo2YQNejcD0K0phAuB6F61EWmUCamZmZmVqZQHsUrkfhnplAXI/C9SjjmUA+CtejcCeaQB+F61G4a5pAAAAAAACwmkA=\",\"dtype\":\"float64\",\"shape\":[100]},\"cdf\":{\"__ndarray__\":\"Kvh+Cb08jD5Cy8P+CGCiPzZPT0757sM/QJ8htPTc0z/+dQ50SGbdP2oETZ1Yv+I/xwLcrHj45T+I5+1AXHPoP8CY4l/vUuo/DHq5t9O56z9pOgNzZMXsP39ccsnPjO0/3iAwfroh7j/V907WTpHuP4KwTnVF5e4/xMqeKsMk7z9Y0Z4vBlXvP3kuSKLoee8/DQsa2ECW7z/Aq6S0J6zvP/3fVL8rve8/CylAK3bK7z86Y0Kx5dTvP0R1DRIi3e8/cFj+TKrj7z/W3CIF3+jvP6b1NCMK7e8/ZUzFdmTw7z8w4BfiGfPvP4puJnVM9e8/XCVXwBb37z9kHIGTjfjvP5h5h0/B+e8/uB6H5r767z9oOyKfkPvvP581EKo+/O8/re0qlc/87z8KOFOkSP3vPy2Bahau/e8/pFMRWwP+7z8dcbM8S/7vPyWojgGI/u8/GYO9hbv+7z/tzdNP5/7vPxcmPqEM/+8/Jo9Pgyz/7z8Jq7LRR//vPx+Ay0Jf/+8/g4p3bnP/7z9e3oHThP/vP2aiDtyT/+8/5tYy4aD/7z98O+ItrP/vP8h2VAG2/+8/e9f7kL7/7z8bsCIKxv/vP4saQJPM/+8/4p0RTdL/7z/ajoRT1//vP/Dqd77b/+8/x8Jdot//7z9a8sEQ4//vPz3Tuhjm/+8/krhHx+j/7z9wUqAn6//vP5SGd0Pt/+8/ltczI+//7z8eFR/O8P/vP03Cjkry/+8/imAGnvP/7z8+mVTN9P/vP6sWrNz1/+8/P7m4z/b/7z8FurGp9//vPyczaW34/+8/03NZHfn/7z+KdLC7+f/vP16zWUr6/+8/aLQGy/r/7z8+WTY/+//vP4U6O6j7/+8/6CdBB/z/7z+D7VFd/P/vP914Wav8/+8/7XMp8vz/7z8oaXwy/f/vP+WA+Gz9/+8//+Uxov3/7z+x3azS/f/vP82c3/79/+8/NuMzJ/7/7z8ZZQhM/v/vP2wIsm3+/+8/W/x8jP7/7z97r62o/v/vP+qogcL+/+8/FUgw2v7/7z89buvv/v/vP34U4AP//+8/u9A2Fv//7z8=\",\"dtype\":\"float64\",\"shape\":[100]},\"hist\":[1791,5154,7197,6482,5404,4095,3246,2417,1797,1459,1142,874,682,535,398,263,235,155,104,102,73,52,46,18,19,21,12,10,8,7,4,3,2,2,2,2,1,3,3,1,1,2,0,1,1,1,0,0,0,0,0,0,0,0,0,0,0,0,0,0,1,0,0,0,0,0,0,0,0,0,0,0,0,0,0,0,0,0,0,0,1,0,0,0,0,0,0,0,0,0,0,0,0,0,0,0,0,0,0,1],\"pdf\":{\"__ndarray__\":\"pUWiPblWxj4aXXuMNr9zP8RarsG0W4E/VLAqDfaNgj80cswx34KAP/9M0uTb8Ho/+AFG+FQAdT830Mo4ZvJvPwF54auN/Gc/xfcHCPXmYT/CXp0QVK1aPzDgRqal5VM/j2DpBmjDTT/573qHMVlGP8PONsDe20A/b6gQjLCQOT8GqwUi1nwzP5fBNA9i3y0/pz4bQqYFJz+tVi53/9YhP2Aatcs9zBs/tas6C6XFFT9i2AOZESQRPxzWzOw7IAs/5z5CNKqRBT+0UXhHZzsBP88O46JBqfs+sSnnWdNM9j4dqQ5DPw7yPtMrXQIxXO0+io2CMaf35z6OZqYbN6TjPrQBnF4xKOA+BQVYwqGt2j4+dn41XhrWPjFhU/HxX9I+hNvLI8umzj7jgPxHm6XJPh3ovliPhsU+ARAf8N4ewj4uq8dXvZi+PvAE10ZV57k+tXJCH3T9tT7GJgTthreyPvJPUNd68a8+WiznJltTqz5VfNksgm6nPkcIf6+4I6Q+u8cVeGRZoT6faXpf7PSdPhfx4doc65k+X9UpkZx4lj75LhqylIWTPvCBRRUy/pA+PPbdyNqjjT5ZzhAO7OWJPkNYaMpxq4Y+4KsQE/vggz57zbeSKnaBPrbYefdjun4+7uMQKsoUez5Yumjov+d3Pr4kXK15InU+PPw4ea22cj6e5NnqLJhwPsA6bfogeW0+ZM4wvuE1aj4RGSvXV1dnPlIgWH1m0GQ+J9QMf8WVYj58FVuMu51gPqNZ9wDHv10+n3TgqfWpWj74W/V3b+1XPrVc4UVLf1U+2XBtJw5WUz6Q8TozeGlRPsPsMcuxZE8+AhRQ19NUTD7lgX2wXphJPnp8I9u4JUc+IG8oknj0RD4xFUK3O/1CPoIakl+FOUE+UjTmT0BHPz6jGvo6CW08PtPZ/USG2zk+Kh/JnuGKNz4c3vzELXQ1PnOoCsRIkTM+q1sEQ8PcMT6fqs/OylEwPunkDuYt2C0+eBT5fLFPKz6DMMu+WAMpPoz9kR4Z7SY++Vy3IY8HJT4GaXcV600jPgYfpCLguyE+g3LucJVNID4=\",\"dtype\":\"float64\",\"shape\":[100]},\"x\":{\"__ndarray__\":\"AAAAAAAAAACWArV+pUAxQJYCtX6lQEFA4YMPPvjgSUCWArV+pUBRQDxDYt7OkFVA4YMPPvjgWUCGxLydITFeQJYCtX6lQGFA6aKLLrpoY0A8Q2LezpBlQI7jOI7juGdA4YMPPvjgaUA0JObtDAlsQIbEvJ0hMW5AbbLJJpsscECWArV+pUBxQL9SoNavVHJA6aKLLrpoc0AS83aGxHx0QDxDYt7OkHVAZZNNNtmkdkCO4ziO47h3QLgzJObtzHhA4YMPPvjgeUAK1PqVAvV6QDQk5u0MCXxAXXTRRRcdfUCGxLydITF+QLAUqPUrRX9AbbLJJpssgECBWr9SoLaAQJYCtX6lQIFAq6qqqqrKgUC/UqDWr1SCQNT6lQK13oJA6aKLLrpog0D9SoFav/KDQBLzdobEfIRAJ5tssskGhUA8Q2LezpCFQFDrVwrUGoZAZZNNNtmkhkB6O0Ni3i6HQI7jOI7juIdAo4suuuhCiEC4MyTm7cyIQMzbGRLzVolA4YMPPvjgiUD2KwVq/WqKQArU+pUC9YpAH3zwwQd/i0A0JObtDAmMQEjM2xkSk4xAXXTRRRcdjUByHMdxHKeNQIbEvJ0hMY5Am2yyySa7jkCwFKj1K0WPQMW8nSExz49AbbLJJpsskEB3hsS8nXGQQIFav1KgtpBAjC666KL7kECWArV+pUCRQKDWrxSohZFAq6qqqqrKkUC1fqVArQ+SQL9SoNavVJJAyiabbLKZkkDU+pUCtd6SQN7OkJi3I5NA6aKLLrpok0DzdobEvK2TQP1KgVq/8pNACB988ME3lEAS83aGxHyUQBzHcRzHwZRAJ5tssskGlUAxb2dIzEuVQDxDYt7OkJVARhdddNHVlUBQ61cK1BqWQFu/UqDWX5ZAZZNNNtmklkBvZ0jM2+mWQHo7Q2LeLpdAhA8++OBzl0CO4ziO47iXQJm3MyTm/ZdAo4suuuhCmECtXylQ64eYQLgzJObtzJhAwgcffPARmUDM2xkS81aZQNevFKj1m5lA4YMPPvjgmUDrVwrU+iWaQPYrBWr9appAAAAAAACwmkA=\",\"dtype\":\"float64\",\"shape\":[100]}},\"selected\":{\"id\":\"3476\"},\"selection_policy\":{\"id\":\"3477\"}},\"id\":\"3313\",\"type\":\"ColumnDataSource\"},{\"attributes\":{},\"id\":\"3458\",\"type\":\"BasicTicker\"},{\"attributes\":{},\"id\":\"3551\",\"type\":\"StringFormatter\"},{\"attributes\":{},\"id\":\"3552\",\"type\":\"StringEditor\"},{\"attributes\":{\"end\":1.02},\"id\":\"3355\",\"type\":\"Range1d\"},{\"attributes\":{\"background_fill_color\":\"#fafafa\",\"below\":[{\"id\":\"3417\"}],\"center\":[{\"id\":\"3420\"},{\"id\":\"3424\"},{\"id\":\"3462\"}],\"extra_y_ranges\":{\"Pr(x)\":{\"id\":\"3447\"},\"cdf(x)\":{\"id\":\"3446\"}},\"left\":[{\"id\":\"3421\"}],\"output_backend\":\"webgl\",\"plot_height\":350,\"renderers\":[{\"id\":\"3452\"},{\"id\":\"3467\"},{\"id\":\"3483\"}],\"right\":[{\"id\":\"3448\"}],\"sizing_mode\":\"stretch_width\",\"title\":{\"id\":\"3407\"},\"toolbar\":{\"id\":\"3435\"},\"toolbar_location\":null,\"x_range\":{\"id\":\"3409\"},\"x_scale\":{\"id\":\"3413\"},\"y_range\":{\"id\":\"3411\"},\"y_scale\":{\"id\":\"3415\"}},\"id\":\"3406\",\"subtype\":\"Figure\",\"type\":\"Plot\"},{\"attributes\":{\"editor\":{\"id\":\"3529\"},\"field\":\"values\",\"formatter\":{\"id\":\"3528\"},\"title\":\"Max Value\"},\"id\":\"3503\",\"type\":\"TableColumn\"},{\"attributes\":{},\"id\":\"3413\",\"type\":\"LinearScale\"},{\"attributes\":{\"label\":{\"value\":\"Freq.\"},\"renderers\":[{\"id\":\"3452\"}]},\"id\":\"3463\",\"type\":\"LegendItem\"},{\"attributes\":{\"data_source\":{\"id\":\"3312\"},\"glyph\":{\"id\":\"3390\"},\"hover_glyph\":null,\"muted_glyph\":null,\"name\":\"CDF\",\"nonselection_glyph\":{\"id\":\"3391\"},\"selection_glyph\":null,\"view\":{\"id\":\"3393\"},\"y_range_name\":\"cdf(x)\"},\"id\":\"3392\",\"type\":\"GlyphRenderer\"},{\"attributes\":{\"children\":[[{\"id\":\"3516\"},0,0],[{\"id\":\"3517\"},0,1],[{\"id\":\"3315\"},0,2],[{\"id\":\"3518\"},1,0],[{\"id\":\"3519\"},1,1],[{\"id\":\"3406\"},1,2]]},\"id\":\"3566\",\"type\":\"GridBox\"},{\"attributes\":{\"source\":{\"id\":\"3506\"}},\"id\":\"3510\",\"type\":\"CDSView\"},{\"attributes\":{},\"id\":\"3455\",\"type\":\"BasicTickFormatter\"},{\"attributes\":{\"start\":0},\"id\":\"3411\",\"type\":\"DataRange1d\"},{\"attributes\":{\"toolbar\":{\"id\":\"3567\"},\"toolbar_location\":\"above\"},\"id\":\"3568\",\"type\":\"ToolbarBox\"},{\"attributes\":{\"align\":\"center\",\"text\":\"French - Text Length by Character Count\"},\"id\":\"3407\",\"type\":\"Title\"},{\"attributes\":{\"label\":{\"value\":\"PDF\"},\"renderers\":[{\"id\":\"3376\"}]},\"id\":\"3388\",\"type\":\"LegendItem\"},{\"attributes\":{\"source\":{\"id\":\"3313\"}},\"id\":\"3453\",\"type\":\"CDSView\"},{\"attributes\":{\"editor\":{\"id\":\"3521\"},\"field\":\"names\",\"formatter\":{\"id\":\"3520\"},\"title\":\"Name\"},\"id\":\"3497\",\"type\":\"TableColumn\"},{\"attributes\":{\"toolbars\":[{\"id\":\"3344\"},{\"id\":\"3435\"}],\"tools\":[{\"id\":\"3334\"},{\"id\":\"3335\"},{\"id\":\"3336\"},{\"id\":\"3337\"},{\"id\":\"3338\"},{\"id\":\"3339\"},{\"id\":\"3340\"},{\"id\":\"3341\"},{\"id\":\"3342\"},{\"id\":\"3314\"},{\"id\":\"3425\"},{\"id\":\"3426\"},{\"id\":\"3427\"},{\"id\":\"3428\"},{\"id\":\"3429\"},{\"id\":\"3430\"},{\"id\":\"3431\"},{\"id\":\"3432\"},{\"id\":\"3433\"},{\"id\":\"3405\"}]},\"id\":\"3567\",\"type\":\"ProxyToolbar\"},{\"attributes\":{\"background_fill_color\":\"#fefefe\",\"click_policy\":\"hide\",\"items\":[{\"id\":\"3463\"},{\"id\":\"3479\"},{\"id\":\"3495\"}],\"location\":\"center_right\"},\"id\":\"3462\",\"type\":\"Legend\"},{\"attributes\":{\"line_alpha\":0.1,\"line_color\":\"red\",\"line_width\":2,\"x\":{\"field\":\"x\"},\"y\":{\"field\":\"cdf\"}},\"id\":\"3391\",\"type\":\"Line\"},{\"attributes\":{\"editor\":{\"id\":\"3527\"},\"field\":\"names\",\"formatter\":{\"id\":\"3526\"},\"title\":\"interval\"},\"id\":\"3502\",\"type\":\"TableColumn\"},{\"attributes\":{\"line_alpha\":0.7,\"line_color\":\"green\",\"line_width\":4,\"x\":{\"field\":\"x\"},\"y\":{\"field\":\"pdf\"}},\"id\":\"3374\",\"type\":\"Line\"},{\"attributes\":{},\"id\":\"3418\",\"type\":\"BasicTicker\"},{\"attributes\":{\"data_source\":{\"id\":\"3313\"},\"glyph\":{\"id\":\"3450\"},\"hover_glyph\":null,\"muted_glyph\":null,\"name\":\"hist\",\"nonselection_glyph\":{\"id\":\"3451\"},\"selection_glyph\":null,\"view\":{\"id\":\"3453\"}},\"id\":\"3452\",\"type\":\"GlyphRenderer\"},{\"attributes\":{\"data\":{\"names\":[\"99\",\"98\",\"95\",\"90\",\"85\",\"80\"],\"values\":[91.5,82.2,69.7,59.9,54.0,49.7]},\"selected\":{\"id\":\"3530\"},\"selection_policy\":{\"id\":\"3531\"}},\"id\":\"3501\",\"type\":\"ColumnDataSource\"},{\"attributes\":{\"axis\":{\"id\":\"3417\"},\"grid_line_color\":\"grey\",\"ticker\":null},\"id\":\"3420\",\"type\":\"Grid\"},{\"attributes\":{},\"id\":\"3520\",\"type\":\"StringFormatter\"},{\"attributes\":{\"columns\":[{\"id\":\"3502\"},{\"id\":\"3503\"}],\"index_position\":null,\"source\":{\"id\":\"3501\"},\"view\":{\"id\":\"3505\"},\"width\":100},\"id\":\"3504\",\"type\":\"DataTable\"},{\"attributes\":{},\"id\":\"3409\",\"type\":\"DataRange1d\"},{\"attributes\":{\"source\":{\"id\":\"3312\"}},\"id\":\"3393\",\"type\":\"CDSView\"},{\"attributes\":{\"source\":{\"id\":\"3501\"}},\"id\":\"3505\",\"type\":\"CDSView\"},{\"attributes\":{},\"id\":\"3521\",\"type\":\"StringEditor\"},{\"attributes\":{\"source\":{\"id\":\"3511\"}},\"id\":\"3515\",\"type\":\"CDSView\"},{\"attributes\":{\"children\":[{\"id\":\"3504\"}],\"height\":350,\"margin\":[0,0,0,10],\"sizing_mode\":\"fixed\",\"width\":150},\"id\":\"3517\",\"type\":\"Column\"},{\"attributes\":{\"callback\":null,\"mode\":\"vline\",\"names\":[\"CDF\"],\"tooltips\":[[\"length\",\"$x{int}\"],[\"Count\",\"@hist{int}\"],[\"pdf\",\"@pdf{1.111}\"],[\"cdf\",\"@cdf{1.111}\"]]},\"id\":\"3405\",\"type\":\"HoverTool\"},{\"attributes\":{\"columns\":[{\"id\":\"3497\"},{\"id\":\"3498\"}],\"index_position\":null,\"source\":{\"id\":\"3496\"},\"view\":{\"id\":\"3500\"},\"width\":150},\"id\":\"3499\",\"type\":\"DataTable\"},{\"attributes\":{\"editor\":{\"id\":\"3550\"},\"field\":\"names\",\"formatter\":{\"id\":\"3549\"},\"title\":\"interval\"},\"id\":\"3512\",\"type\":\"TableColumn\"},{\"attributes\":{\"bottom_units\":\"screen\",\"fill_alpha\":0.5,\"fill_color\":\"lightgrey\",\"left_units\":\"screen\",\"level\":\"overlay\",\"line_alpha\":1.0,\"line_color\":\"black\",\"line_dash\":[4,4],\"line_width\":2,\"render_mode\":\"css\",\"right_units\":\"screen\",\"top_units\":\"screen\"},\"id\":\"3434\",\"type\":\"BoxAnnotation\"},{\"attributes\":{\"source\":{\"id\":\"3313\"}},\"id\":\"3484\",\"type\":\"CDSView\"},{\"attributes\":{},\"id\":\"3415\",\"type\":\"LinearScale\"},{\"attributes\":{\"line_alpha\":0.1,\"line_color\":\"green\",\"line_width\":4,\"x\":{\"field\":\"x\"},\"y\":{\"field\":\"pdf\"}},\"id\":\"3375\",\"type\":\"Line\"},{\"attributes\":{\"label\":{\"value\":\"CDF\"},\"renderers\":[{\"id\":\"3392\"}]},\"id\":\"3404\",\"type\":\"LegendItem\"},{\"attributes\":{\"children\":[{\"id\":\"3509\"}],\"height\":350,\"sizing_mode\":\"fixed\",\"width\":150},\"id\":\"3518\",\"type\":\"Column\"},{\"attributes\":{\"data\":{\"names\":[\"mean\",\"variance\",\"median\",\"std\"],\"values\":[90.76,4488.259,74.185,66.994]},\"selected\":{\"id\":\"3547\"},\"selection_policy\":{\"id\":\"3548\"}},\"id\":\"3506\",\"type\":\"ColumnDataSource\"},{\"attributes\":{},\"id\":\"3432\",\"type\":\"RedoTool\"},{\"attributes\":{\"line_alpha\":0.7,\"line_color\":\"red\",\"line_width\":2,\"x\":{\"field\":\"x\"},\"y\":{\"field\":\"cdf\"}},\"id\":\"3390\",\"type\":\"Line\"},{\"attributes\":{\"editor\":{\"id\":\"3523\"},\"field\":\"values\",\"formatter\":{\"id\":\"3522\"},\"title\":\"Value\"},\"id\":\"3498\",\"type\":\"TableColumn\"},{\"attributes\":{\"axis_label\":\"Count\",\"formatter\":{\"id\":\"3459\"},\"ticker\":{\"id\":\"3422\"}},\"id\":\"3421\",\"type\":\"LinearAxis\"},{\"attributes\":{},\"id\":\"3422\",\"type\":\"BasicTicker\"},{\"attributes\":{\"columns\":[{\"id\":\"3512\"},{\"id\":\"3513\"}],\"index_position\":null,\"source\":{\"id\":\"3511\"},\"view\":{\"id\":\"3515\"},\"width\":100},\"id\":\"3514\",\"type\":\"DataTable\"},{\"attributes\":{\"children\":[{\"id\":\"3514\"}],\"height\":350,\"margin\":[0,0,0,10],\"sizing_mode\":\"fixed\",\"width\":150},\"id\":\"3519\",\"type\":\"Column\"},{\"attributes\":{},\"id\":\"3386\",\"type\":\"UnionRenderers\"},{\"attributes\":{\"bottom\":{\"value\":0},\"fill_alpha\":{\"value\":0.1},\"fill_color\":{\"value\":\"blue\"},\"left\":{\"field\":\"bin_edges_left\"},\"line_alpha\":{\"value\":0.1},\"line_color\":{\"value\":\"white\"},\"right\":{\"field\":\"bin_edges_right\"},\"top\":{\"field\":\"hist\"}},\"id\":\"3451\",\"type\":\"Quad\"},{\"attributes\":{\"end\":0.009241028520921481},\"id\":\"3447\",\"type\":\"Range1d\"},{\"attributes\":{\"editor\":{\"id\":\"3552\"},\"field\":\"values\",\"formatter\":{\"id\":\"3551\"},\"title\":\"Max Value\"},\"id\":\"3513\",\"type\":\"TableColumn\"},{\"attributes\":{\"axis\":{\"id\":\"3421\"},\"dimension\":1,\"grid_line_color\":\"grey\",\"ticker\":null},\"id\":\"3424\",\"type\":\"Grid\"},{\"attributes\":{\"axis_label\":\"Pr(x)\",\"formatter\":{\"id\":\"3457\"},\"ticker\":{\"id\":\"3458\"},\"y_range_name\":\"Pr(x)\"},\"id\":\"3448\",\"type\":\"LinearAxis\"},{\"attributes\":{},\"id\":\"3427\",\"type\":\"WheelZoomTool\"},{\"attributes\":{},\"id\":\"3364\",\"type\":\"BasicTickFormatter\"},{\"attributes\":{},\"id\":\"3429\",\"type\":\"ZoomInTool\"},{\"attributes\":{\"bottom\":{\"value\":0},\"fill_alpha\":{\"value\":0.5},\"fill_color\":{\"value\":\"blue\"},\"left\":{\"field\":\"bin_edges_left\"},\"line_alpha\":{\"value\":0.5},\"line_color\":{\"value\":\"white\"},\"right\":{\"field\":\"bin_edges_right\"},\"top\":{\"field\":\"hist\"}},\"id\":\"3450\",\"type\":\"Quad\"},{\"attributes\":{},\"id\":\"3430\",\"type\":\"ZoomOutTool\"},{\"attributes\":{},\"id\":\"3433\",\"type\":\"ResetTool\"},{\"attributes\":{\"data_source\":{\"id\":\"3312\"},\"glyph\":{\"id\":\"3374\"},\"hover_glyph\":null,\"muted_glyph\":null,\"name\":\"PDF\",\"nonselection_glyph\":{\"id\":\"3375\"},\"selection_glyph\":null,\"view\":{\"id\":\"3377\"},\"y_range_name\":\"Pr(x)\"},\"id\":\"3376\",\"type\":\"GlyphRenderer\"},{\"attributes\":{\"overlay\":{\"id\":\"3434\"}},\"id\":\"3428\",\"type\":\"BoxZoomTool\"},{\"attributes\":{\"end\":1.02},\"id\":\"3446\",\"type\":\"Range1d\"},{\"attributes\":{\"data\":{\"names\":[\"mean\",\"variance\",\"median\",\"std\"],\"values\":[26.611,298.619,22.947,17.281]},\"selected\":{\"id\":\"3524\"},\"selection_policy\":{\"id\":\"3525\"}},\"id\":\"3496\",\"type\":\"ColumnDataSource\"},{\"attributes\":{\"label\":{\"value\":\"CDF\"},\"renderers\":[{\"id\":\"3483\"}]},\"id\":\"3495\",\"type\":\"LegendItem\"},{\"attributes\":{\"source\":{\"id\":\"3312\"}},\"id\":\"3377\",\"type\":\"CDSView\"},{\"attributes\":{},\"id\":\"3522\",\"type\":\"StringFormatter\"},{\"attributes\":{\"columns\":[{\"id\":\"3507\"},{\"id\":\"3508\"}],\"index_position\":null,\"source\":{\"id\":\"3506\"},\"view\":{\"id\":\"3510\"},\"width\":150},\"id\":\"3509\",\"type\":\"DataTable\"},{\"attributes\":{\"axis_label\":\"Length\",\"formatter\":{\"id\":\"3455\"},\"ticker\":{\"id\":\"3418\"}},\"id\":\"3417\",\"type\":\"LinearAxis\"},{\"attributes\":{},\"id\":\"3367\",\"type\":\"BasicTicker\"},{\"attributes\":{},\"id\":\"3426\",\"type\":\"PanTool\"},{\"attributes\":{},\"id\":\"3431\",\"type\":\"UndoTool\"},{\"attributes\":{},\"id\":\"3368\",\"type\":\"BasicTickFormatter\"},{\"attributes\":{\"source\":{\"id\":\"3496\"}},\"id\":\"3500\",\"type\":\"CDSView\"},{\"attributes\":{},\"id\":\"3385\",\"type\":\"Selection\"},{\"attributes\":{\"children\":[{\"id\":\"3499\"}],\"height\":350,\"sizing_mode\":\"fixed\",\"width\":150},\"id\":\"3516\",\"type\":\"Column\"},{\"attributes\":{},\"id\":\"3366\",\"type\":\"BasicTickFormatter\"},{\"attributes\":{},\"id\":\"3425\",\"type\":\"CrosshairTool\"}],\"root_ids\":[\"3569\"]},\"title\":\"Bokeh Application\",\"version\":\"2.0.2\"}};\n",
       "  var render_items = [{\"docid\":\"940796aa-346a-4d0f-ba24-d8985cb7bae4\",\"root_ids\":[\"3569\"],\"roots\":{\"3569\":\"b808ed0e-6721-483c-9e84-04b5c8ffa399\"}}];\n",
       "  root.Bokeh.embed.embed_items_notebook(docs_json, render_items);\n",
       "\n",
       "  }\n",
       "  if (root.Bokeh !== undefined) {\n",
       "    embed_document(root);\n",
       "  } else {\n",
       "    var attempts = 0;\n",
       "    var timer = setInterval(function(root) {\n",
       "      if (root.Bokeh !== undefined) {\n",
       "        clearInterval(timer);\n",
       "        embed_document(root);\n",
       "      } else {\n",
       "        attempts++;\n",
       "        if (attempts > 100) {\n",
       "          clearInterval(timer);\n",
       "          console.log(\"Bokeh: ERROR: Unable to run BokehJS code because BokehJS library is missing\");\n",
       "        }\n",
       "      }\n",
       "    }, 10, root)\n",
       "  }\n",
       "})(window);"
      ],
      "application/vnd.bokehjs_exec.v0+json": ""
     },
     "metadata": {
      "application/vnd.bokehjs_exec.v0+json": {
       "id": "3569"
      }
     },
     "output_type": "display_data"
    }
   ],
   "source": [
    "show(grid)"
   ]
  },
  {
   "cell_type": "code",
   "execution_count": 80,
   "metadata": {},
   "outputs": [],
   "source": [
    "upos_plot = make_plot(*upos_plt_info[:2])\n",
    "text_plot = make_plot(*txt_plt_info[:2])\n",
    "leo_label = Label(x=-70, y=10, text='leomrocha.github.io')\n",
    "text_plot.add_layout(leo_label)"
   ]
  },
  {
   "cell_type": "code",
   "execution_count": 81,
   "metadata": {},
   "outputs": [],
   "source": [
    "upos_plot.add_layout(mytext)"
   ]
  },
  {
   "cell_type": "code",
   "execution_count": 82,
   "metadata": {},
   "outputs": [
    {
     "data": {
      "text/html": [
       "\n",
       "\n",
       "\n",
       "\n",
       "\n",
       "\n",
       "  <div class=\"bk-root\" id=\"40e3c752-3a62-467e-ad04-5aa777386fcd\" data-root-id=\"9472\"></div>\n"
      ]
     },
     "metadata": {},
     "output_type": "display_data"
    },
    {
     "data": {
      "application/javascript": [
       "(function(root) {\n",
       "  function embed_document(root) {\n",
       "    \n",
       "  var docs_json = {\"82ca9cbd-b9b5-4983-864b-693d3bb71edf\":{\"roots\":{\"references\":[{\"attributes\":{\"background_fill_color\":\"#fafafa\",\"below\":[{\"id\":\"9483\"}],\"center\":[{\"id\":\"9486\"},{\"id\":\"9490\"},{\"id\":\"9528\"},{\"id\":\"9562\"}],\"extra_y_ranges\":{\"Pr(x)\":{\"id\":\"9513\"},\"cdf(x)\":{\"id\":\"9512\"}},\"left\":[{\"id\":\"9487\"}],\"output_backend\":\"webgl\",\"plot_height\":500,\"renderers\":[{\"id\":\"9518\"},{\"id\":\"9533\"},{\"id\":\"9549\"}],\"right\":[{\"id\":\"9514\"}],\"sizing_mode\":\"stretch_width\",\"title\":{\"id\":\"9473\"},\"toolbar\":{\"id\":\"9501\"},\"toolbar_location\":\"left\",\"x_range\":{\"id\":\"9475\"},\"x_scale\":{\"id\":\"9479\"},\"y_range\":{\"id\":\"9477\"},\"y_scale\":{\"id\":\"9481\"}},\"id\":\"9472\",\"subtype\":\"Figure\",\"type\":\"Plot\"},{\"attributes\":{\"callback\":null,\"mode\":\"vline\",\"names\":[\"CDF\"],\"tooltips\":[[\"length\",\"$x{int}\"],[\"Count\",\"@hist{int}\"],[\"pdf\",\"@pdf{1.111}\"],[\"cdf\",\"@cdf{1.111}\"]]},\"id\":\"9471\",\"type\":\"HoverTool\"},{\"attributes\":{},\"id\":\"4183\",\"type\":\"Selection\"},{\"attributes\":{},\"id\":\"9481\",\"type\":\"LinearScale\"},{\"attributes\":{},\"id\":\"4184\",\"type\":\"UnionRenderers\"},{\"attributes\":{},\"id\":\"9491\",\"type\":\"CrosshairTool\"},{\"attributes\":{\"bottom_units\":\"screen\",\"fill_alpha\":0.5,\"fill_color\":\"lightgrey\",\"left_units\":\"screen\",\"level\":\"overlay\",\"line_alpha\":1.0,\"line_color\":\"black\",\"line_dash\":[4,4],\"line_width\":2,\"render_mode\":\"css\",\"right_units\":\"screen\",\"top_units\":\"screen\"},\"id\":\"9500\",\"type\":\"BoxAnnotation\"},{\"attributes\":{\"active_drag\":\"auto\",\"active_inspect\":\"auto\",\"active_multi\":null,\"active_scroll\":\"auto\",\"active_tap\":\"auto\",\"tools\":[{\"id\":\"9491\"},{\"id\":\"9492\"},{\"id\":\"9493\"},{\"id\":\"9494\"},{\"id\":\"9495\"},{\"id\":\"9496\"},{\"id\":\"9497\"},{\"id\":\"9498\"},{\"id\":\"9499\"},{\"id\":\"9471\"}]},\"id\":\"9501\",\"type\":\"Toolbar\"},{\"attributes\":{},\"id\":\"9493\",\"type\":\"WheelZoomTool\"},{\"attributes\":{\"data_source\":{\"id\":\"1005\"},\"glyph\":{\"id\":\"9516\"},\"hover_glyph\":null,\"muted_glyph\":null,\"name\":\"hist\",\"nonselection_glyph\":{\"id\":\"9517\"},\"selection_glyph\":null,\"view\":{\"id\":\"9519\"}},\"id\":\"9518\",\"type\":\"GlyphRenderer\"},{\"attributes\":{\"line_alpha\":0.7,\"line_color\":\"red\",\"line_width\":2,\"x\":{\"field\":\"x\"},\"y\":{\"field\":\"cdf\"}},\"id\":\"9547\",\"type\":\"Line\"},{\"attributes\":{\"axis\":{\"id\":\"9483\"},\"grid_line_color\":\"grey\",\"ticker\":null},\"id\":\"9486\",\"type\":\"Grid\"},{\"attributes\":{\"line_alpha\":0.1,\"line_color\":\"red\",\"line_width\":2,\"x\":{\"field\":\"x\"},\"y\":{\"field\":\"cdf\"}},\"id\":\"9548\",\"type\":\"Line\"},{\"attributes\":{\"start\":0},\"id\":\"9477\",\"type\":\"DataRange1d\"},{\"attributes\":{\"source\":{\"id\":\"1005\"}},\"id\":\"9550\",\"type\":\"CDSView\"},{\"attributes\":{\"label\":{\"value\":\"CDF\"},\"renderers\":[{\"id\":\"9549\"}]},\"id\":\"9561\",\"type\":\"LegendItem\"},{\"attributes\":{\"data_source\":{\"id\":\"1005\"},\"glyph\":{\"id\":\"9547\"},\"hover_glyph\":null,\"muted_glyph\":null,\"name\":\"CDF\",\"nonselection_glyph\":{\"id\":\"9548\"},\"selection_glyph\":null,\"view\":{\"id\":\"9550\"},\"y_range_name\":\"cdf(x)\"},\"id\":\"9549\",\"type\":\"GlyphRenderer\"},{\"attributes\":{\"axis_label\":\"Count\",\"formatter\":{\"id\":\"9525\"},\"ticker\":{\"id\":\"9488\"}},\"id\":\"9487\",\"type\":\"LinearAxis\"},{\"attributes\":{},\"id\":\"9479\",\"type\":\"LinearScale\"},{\"attributes\":{\"data\":{\"bin_edges_left\":{\"__ndarray__\":\"AAAAAAAA8D9SuB6F6xEyQFK4HoXrkUFAexSuR+EaSkBSuB6F61FRQGZmZmZmllVAexSuR+HaWUCQwvUoXB9eQFK4HoXrMWFAXI/C9ShUY0BmZmZmZnZlQHE9CtejmGdAexSuR+G6aUCF61G4Ht1rQJDC9Shc/21AzczMzMwQcEBSuB6F6yFxQNejcD0KM3JAXI/C9ShEc0DhehSuR1V0QGZmZmZmZnVA7FG4HoV3dkBxPQrXo4h3QPYoXI/CmXhAexSuR+GqeUAAAAAAALx6QIXrUbgezXtACtejcD3efECQwvUoXO99QBWuR+F6AH9AzczMzMwIgECPwvUoXJGAQFK4HoXrGYFAFa5H4XqigUDXo3A9CiuCQJqZmZmZs4JAXI/C9Sg8g0AfhetRuMSDQOF6FK5HTYRApHA9CtfVhEBmZmZmZl6FQClcj8L15oVA7FG4HoVvhkCuR+F6FPiGQHE9CtejgIdAMzMzMzMJiED2KFyPwpGIQLgehetRGolAexSuR+GiiUA+CtejcCuKQAAAAAAAtIpAw/UoXI88i0CF61G4HsWLQEjhehSuTYxACtejcD3WjEDNzMzMzF6NQJDC9Shc541AUrgehetvjkAVrkfheviOQNejcD0KgY9AzczMzMwEkECuR+F6FEmQQI/C9ShcjZBAcT0K16PRkEBSuB6F6xWRQDMzMzMzWpFAFa5H4XqekUD2KFyPwuKRQNejcD0KJ5JAuB6F61FrkkCamZmZma+SQHsUrkfh85JAXI/C9Sg4k0A+CtejcHyTQB+F61G4wJNAAAAAAAAFlEDhehSuR0mUQMP1KFyPjZRApHA9CtfRlECF61G4HhaVQGZmZmZmWpVASOF6FK6elUApXI/C9eKVQArXo3A9J5ZA7FG4HoVrlkDNzMzMzK+WQK5H4XoU9JZAj8L1KFw4l0BxPQrXo3yXQFK4HoXrwJdAMzMzMzMFmEAVrkfhekmYQPYoXI/CjZhA16NwPQrSmEC4HoXrURaZQJqZmZmZWplAexSuR+GemUBcj8L1KOOZQD4K16NwJ5pAH4XrUbhrmkA=\",\"dtype\":\"float64\",\"shape\":[100]},\"bin_edges_right\":{\"__ndarray__\":\"UrgehesRMkBSuB6F65FBQHsUrkfhGkpAUrgehetRUUBmZmZmZpZVQHsUrkfh2llAkML1KFwfXkBSuB6F6zFhQFyPwvUoVGNAZmZmZmZ2ZUBxPQrXo5hnQHsUrkfhumlAhetRuB7da0CQwvUoXP9tQM3MzMzMEHBAUrgeheshcUDXo3A9CjNyQFyPwvUoRHNA4XoUrkdVdEBmZmZmZmZ1QOxRuB6Fd3ZAcT0K16OId0D2KFyPwpl4QHsUrkfhqnlAAAAAAAC8ekCF61G4Hs17QArXo3A93nxAkML1KFzvfUAVrkfhegB/QM3MzMzMCIBAj8L1KFyRgEBSuB6F6xmBQBWuR+F6ooFA16NwPQorgkCamZmZmbOCQFyPwvUoPINAH4XrUbjEg0DhehSuR02EQKRwPQrX1YRAZmZmZmZehUApXI/C9eaFQOxRuB6Fb4ZArkfhehT4hkBxPQrXo4CHQDMzMzMzCYhA9ihcj8KRiEC4HoXrURqJQHsUrkfhoolAPgrXo3ArikAAAAAAALSKQMP1KFyPPItAhetRuB7Fi0BI4XoUrk2MQArXo3A91oxAzczMzMxejUCQwvUoXOeNQFK4HoXrb45AFa5H4Xr4jkDXo3A9CoGPQM3MzMzMBJBArkfhehRJkECPwvUoXI2QQHE9Ctej0ZBAUrgehesVkUAzMzMzM1qRQBWuR+F6npFA9ihcj8LikUDXo3A9CieSQLgehetRa5JAmpmZmZmvkkB7FK5H4fOSQFyPwvUoOJNAPgrXo3B8k0AfhetRuMCTQAAAAAAABZRA4XoUrkdJlEDD9Shcj42UQKRwPQrX0ZRAhetRuB4WlUBmZmZmZlqVQEjhehSunpVAKVyPwvXilUAK16NwPSeWQOxRuB6Fa5ZAzczMzMyvlkCuR+F6FPSWQI/C9ShcOJdAcT0K16N8l0BSuB6F68CXQDMzMzMzBZhAFa5H4XpJmED2KFyPwo2YQNejcD0K0phAuB6F61EWmUCamZmZmVqZQHsUrkfhnplAXI/C9SjjmUA+CtejcCeaQB+F61G4a5pAAAAAAACwmkA=\",\"dtype\":\"float64\",\"shape\":[100]},\"cdf\":{\"__ndarray__\":\"Kvh+Cb08jD5Cy8P+CGCiPzZPT0757sM/QJ8htPTc0z/+dQ50SGbdP2oETZ1Yv+I/xwLcrHj45T+I5+1AXHPoP8CY4l/vUuo/DHq5t9O56z9pOgNzZMXsP39ccsnPjO0/3iAwfroh7j/V907WTpHuP4KwTnVF5e4/xMqeKsMk7z9Y0Z4vBlXvP3kuSKLoee8/DQsa2ECW7z/Aq6S0J6zvP/3fVL8rve8/CylAK3bK7z86Y0Kx5dTvP0R1DRIi3e8/cFj+TKrj7z/W3CIF3+jvP6b1NCMK7e8/ZUzFdmTw7z8w4BfiGfPvP4puJnVM9e8/XCVXwBb37z9kHIGTjfjvP5h5h0/B+e8/uB6H5r767z9oOyKfkPvvP581EKo+/O8/re0qlc/87z8KOFOkSP3vPy2Bahau/e8/pFMRWwP+7z8dcbM8S/7vPyWojgGI/u8/GYO9hbv+7z/tzdNP5/7vPxcmPqEM/+8/Jo9Pgyz/7z8Jq7LRR//vPx+Ay0Jf/+8/g4p3bnP/7z9e3oHThP/vP2aiDtyT/+8/5tYy4aD/7z98O+ItrP/vP8h2VAG2/+8/e9f7kL7/7z8bsCIKxv/vP4saQJPM/+8/4p0RTdL/7z/ajoRT1//vP/Dqd77b/+8/x8Jdot//7z9a8sEQ4//vPz3Tuhjm/+8/krhHx+j/7z9wUqAn6//vP5SGd0Pt/+8/ltczI+//7z8eFR/O8P/vP03Cjkry/+8/imAGnvP/7z8+mVTN9P/vP6sWrNz1/+8/P7m4z/b/7z8FurGp9//vPyczaW34/+8/03NZHfn/7z+KdLC7+f/vP16zWUr6/+8/aLQGy/r/7z8+WTY/+//vP4U6O6j7/+8/6CdBB/z/7z+D7VFd/P/vP914Wav8/+8/7XMp8vz/7z8oaXwy/f/vP+WA+Gz9/+8//+Uxov3/7z+x3azS/f/vP82c3/79/+8/NuMzJ/7/7z8ZZQhM/v/vP2wIsm3+/+8/W/x8jP7/7z97r62o/v/vP+qogcL+/+8/FUgw2v7/7z89buvv/v/vP34U4AP//+8/u9A2Fv//7z8=\",\"dtype\":\"float64\",\"shape\":[100]},\"hist\":[1791,5154,7197,6482,5404,4095,3246,2417,1797,1459,1142,874,682,535,398,263,235,155,104,102,73,52,46,18,19,21,12,10,8,7,4,3,2,2,2,2,1,3,3,1,1,2,0,1,1,1,0,0,0,0,0,0,0,0,0,0,0,0,0,0,1,0,0,0,0,0,0,0,0,0,0,0,0,0,0,0,0,0,0,0,1,0,0,0,0,0,0,0,0,0,0,0,0,0,0,0,0,0,0,1],\"pdf\":{\"__ndarray__\":\"pUWiPblWxj4aXXuMNr9zP8RarsG0W4E/VLAqDfaNgj80cswx34KAP/9M0uTb8Ho/+AFG+FQAdT830Mo4ZvJvPwF54auN/Gc/xfcHCPXmYT/CXp0QVK1aPzDgRqal5VM/j2DpBmjDTT/573qHMVlGP8PONsDe20A/b6gQjLCQOT8GqwUi1nwzP5fBNA9i3y0/pz4bQqYFJz+tVi53/9YhP2Aatcs9zBs/tas6C6XFFT9i2AOZESQRPxzWzOw7IAs/5z5CNKqRBT+0UXhHZzsBP88O46JBqfs+sSnnWdNM9j4dqQ5DPw7yPtMrXQIxXO0+io2CMaf35z6OZqYbN6TjPrQBnF4xKOA+BQVYwqGt2j4+dn41XhrWPjFhU/HxX9I+hNvLI8umzj7jgPxHm6XJPh3ovliPhsU+ARAf8N4ewj4uq8dXvZi+PvAE10ZV57k+tXJCH3T9tT7GJgTthreyPvJPUNd68a8+WiznJltTqz5VfNksgm6nPkcIf6+4I6Q+u8cVeGRZoT6faXpf7PSdPhfx4doc65k+X9UpkZx4lj75LhqylIWTPvCBRRUy/pA+PPbdyNqjjT5ZzhAO7OWJPkNYaMpxq4Y+4KsQE/vggz57zbeSKnaBPrbYefdjun4+7uMQKsoUez5Yumjov+d3Pr4kXK15InU+PPw4ea22cj6e5NnqLJhwPsA6bfogeW0+ZM4wvuE1aj4RGSvXV1dnPlIgWH1m0GQ+J9QMf8WVYj58FVuMu51gPqNZ9wDHv10+n3TgqfWpWj74W/V3b+1XPrVc4UVLf1U+2XBtJw5WUz6Q8TozeGlRPsPsMcuxZE8+AhRQ19NUTD7lgX2wXphJPnp8I9u4JUc+IG8oknj0RD4xFUK3O/1CPoIakl+FOUE+UjTmT0BHPz6jGvo6CW08PtPZ/USG2zk+Kh/JnuGKNz4c3vzELXQ1PnOoCsRIkTM+q1sEQ8PcMT6fqs/OylEwPunkDuYt2C0+eBT5fLFPKz6DMMu+WAMpPoz9kR4Z7SY++Vy3IY8HJT4GaXcV600jPgYfpCLguyE+g3LucJVNID4=\",\"dtype\":\"float64\",\"shape\":[100]},\"x\":{\"__ndarray__\":\"AAAAAAAAAACWArV+pUAxQJYCtX6lQEFA4YMPPvjgSUCWArV+pUBRQDxDYt7OkFVA4YMPPvjgWUCGxLydITFeQJYCtX6lQGFA6aKLLrpoY0A8Q2LezpBlQI7jOI7juGdA4YMPPvjgaUA0JObtDAlsQIbEvJ0hMW5AbbLJJpsscECWArV+pUBxQL9SoNavVHJA6aKLLrpoc0AS83aGxHx0QDxDYt7OkHVAZZNNNtmkdkCO4ziO47h3QLgzJObtzHhA4YMPPvjgeUAK1PqVAvV6QDQk5u0MCXxAXXTRRRcdfUCGxLydITF+QLAUqPUrRX9AbbLJJpssgECBWr9SoLaAQJYCtX6lQIFAq6qqqqrKgUC/UqDWr1SCQNT6lQK13oJA6aKLLrpog0D9SoFav/KDQBLzdobEfIRAJ5tssskGhUA8Q2LezpCFQFDrVwrUGoZAZZNNNtmkhkB6O0Ni3i6HQI7jOI7juIdAo4suuuhCiEC4MyTm7cyIQMzbGRLzVolA4YMPPvjgiUD2KwVq/WqKQArU+pUC9YpAH3zwwQd/i0A0JObtDAmMQEjM2xkSk4xAXXTRRRcdjUByHMdxHKeNQIbEvJ0hMY5Am2yyySa7jkCwFKj1K0WPQMW8nSExz49AbbLJJpsskEB3hsS8nXGQQIFav1KgtpBAjC666KL7kECWArV+pUCRQKDWrxSohZFAq6qqqqrKkUC1fqVArQ+SQL9SoNavVJJAyiabbLKZkkDU+pUCtd6SQN7OkJi3I5NA6aKLLrpok0DzdobEvK2TQP1KgVq/8pNACB988ME3lEAS83aGxHyUQBzHcRzHwZRAJ5tssskGlUAxb2dIzEuVQDxDYt7OkJVARhdddNHVlUBQ61cK1BqWQFu/UqDWX5ZAZZNNNtmklkBvZ0jM2+mWQHo7Q2LeLpdAhA8++OBzl0CO4ziO47iXQJm3MyTm/ZdAo4suuuhCmECtXylQ64eYQLgzJObtzJhAwgcffPARmUDM2xkS81aZQNevFKj1m5lA4YMPPvjgmUDrVwrU+iWaQPYrBWr9appAAAAAAACwmkA=\",\"dtype\":\"float64\",\"shape\":[100]}},\"selected\":{\"id\":\"4183\"},\"selection_policy\":{\"id\":\"4184\"}},\"id\":\"1005\",\"type\":\"ColumnDataSource\"},{\"attributes\":{\"line_alpha\":0.7,\"line_color\":\"green\",\"line_width\":4,\"x\":{\"field\":\"x\"},\"y\":{\"field\":\"pdf\"}},\"id\":\"9531\",\"type\":\"Line\"},{\"attributes\":{},\"id\":\"9484\",\"type\":\"BasicTicker\"},{\"attributes\":{},\"id\":\"9499\",\"type\":\"ResetTool\"},{\"attributes\":{\"axis_label\":\"Length\",\"formatter\":{\"id\":\"9521\"},\"ticker\":{\"id\":\"9484\"}},\"id\":\"9483\",\"type\":\"LinearAxis\"},{\"attributes\":{\"background_fill_color\":\"#fefefe\",\"click_policy\":\"hide\",\"items\":[{\"id\":\"9529\"},{\"id\":\"9545\"},{\"id\":\"9561\"}],\"location\":\"center_right\"},\"id\":\"9528\",\"type\":\"Legend\"},{\"attributes\":{\"end\":1.02},\"id\":\"9512\",\"type\":\"Range1d\"},{\"attributes\":{\"data_source\":{\"id\":\"1005\"},\"glyph\":{\"id\":\"9531\"},\"hover_glyph\":null,\"muted_glyph\":null,\"name\":\"PDF\",\"nonselection_glyph\":{\"id\":\"9532\"},\"selection_glyph\":null,\"view\":{\"id\":\"9534\"},\"y_range_name\":\"Pr(x)\"},\"id\":\"9533\",\"type\":\"GlyphRenderer\"},{\"attributes\":{},\"id\":\"9475\",\"type\":\"DataRange1d\"},{\"attributes\":{\"overlay\":{\"id\":\"9500\"}},\"id\":\"9494\",\"type\":\"BoxZoomTool\"},{\"attributes\":{\"source\":{\"id\":\"1005\"}},\"id\":\"9519\",\"type\":\"CDSView\"},{\"attributes\":{},\"id\":\"9525\",\"type\":\"BasicTickFormatter\"},{\"attributes\":{\"align\":\"center\",\"text\":\"French - Text Length by Character Count\"},\"id\":\"9473\",\"type\":\"Title\"},{\"attributes\":{\"bottom\":{\"value\":0},\"fill_alpha\":{\"value\":0.1},\"fill_color\":{\"value\":\"blue\"},\"left\":{\"field\":\"bin_edges_left\"},\"line_alpha\":{\"value\":0.1},\"line_color\":{\"value\":\"white\"},\"right\":{\"field\":\"bin_edges_right\"},\"top\":{\"field\":\"hist\"}},\"id\":\"9517\",\"type\":\"Quad\"},{\"attributes\":{},\"id\":\"9523\",\"type\":\"BasicTickFormatter\"},{\"attributes\":{},\"id\":\"9488\",\"type\":\"BasicTicker\"},{\"attributes\":{},\"id\":\"9495\",\"type\":\"ZoomInTool\"},{\"attributes\":{},\"id\":\"9524\",\"type\":\"BasicTicker\"},{\"attributes\":{\"label\":{\"value\":\"PDF\"},\"renderers\":[{\"id\":\"9533\"}]},\"id\":\"9545\",\"type\":\"LegendItem\"},{\"attributes\":{\"bottom\":{\"value\":0},\"fill_alpha\":{\"value\":0.5},\"fill_color\":{\"value\":\"blue\"},\"left\":{\"field\":\"bin_edges_left\"},\"line_alpha\":{\"value\":0.5},\"line_color\":{\"value\":\"white\"},\"right\":{\"field\":\"bin_edges_right\"},\"top\":{\"field\":\"hist\"}},\"id\":\"9516\",\"type\":\"Quad\"},{\"attributes\":{},\"id\":\"9497\",\"type\":\"UndoTool\"},{\"attributes\":{},\"id\":\"9492\",\"type\":\"PanTool\"},{\"attributes\":{\"text\":\"leomrocha.github.io\",\"x\":-70,\"y\":10},\"id\":\"9562\",\"type\":\"Label\"},{\"attributes\":{},\"id\":\"9498\",\"type\":\"RedoTool\"},{\"attributes\":{\"axis_label\":\"Pr(x)\",\"formatter\":{\"id\":\"9523\"},\"ticker\":{\"id\":\"9524\"},\"y_range_name\":\"Pr(x)\"},\"id\":\"9514\",\"type\":\"LinearAxis\"},{\"attributes\":{\"axis\":{\"id\":\"9487\"},\"dimension\":1,\"grid_line_color\":\"grey\",\"ticker\":null},\"id\":\"9490\",\"type\":\"Grid\"},{\"attributes\":{},\"id\":\"9521\",\"type\":\"BasicTickFormatter\"},{\"attributes\":{\"source\":{\"id\":\"1005\"}},\"id\":\"9534\",\"type\":\"CDSView\"},{\"attributes\":{\"end\":0.009241028520921481},\"id\":\"9513\",\"type\":\"Range1d\"},{\"attributes\":{\"line_alpha\":0.1,\"line_color\":\"green\",\"line_width\":4,\"x\":{\"field\":\"x\"},\"y\":{\"field\":\"pdf\"}},\"id\":\"9532\",\"type\":\"Line\"},{\"attributes\":{\"label\":{\"value\":\"Freq.\"},\"renderers\":[{\"id\":\"9518\"}]},\"id\":\"9529\",\"type\":\"LegendItem\"},{\"attributes\":{},\"id\":\"9496\",\"type\":\"ZoomOutTool\"}],\"root_ids\":[\"9472\"]},\"title\":\"Bokeh Application\",\"version\":\"2.0.2\"}};\n",
       "  var render_items = [{\"docid\":\"82ca9cbd-b9b5-4983-864b-693d3bb71edf\",\"root_ids\":[\"9472\"],\"roots\":{\"9472\":\"40e3c752-3a62-467e-ad04-5aa777386fcd\"}}];\n",
       "  root.Bokeh.embed.embed_items_notebook(docs_json, render_items);\n",
       "\n",
       "  }\n",
       "  if (root.Bokeh !== undefined) {\n",
       "    embed_document(root);\n",
       "  } else {\n",
       "    var attempts = 0;\n",
       "    var timer = setInterval(function(root) {\n",
       "      if (root.Bokeh !== undefined) {\n",
       "        clearInterval(timer);\n",
       "        embed_document(root);\n",
       "      } else {\n",
       "        attempts++;\n",
       "        if (attempts > 100) {\n",
       "          clearInterval(timer);\n",
       "          console.log(\"Bokeh: ERROR: Unable to run BokehJS code because BokehJS library is missing\");\n",
       "        }\n",
       "      }\n",
       "    }, 10, root)\n",
       "  }\n",
       "})(window);"
      ],
      "application/vnd.bokehjs_exec.v0+json": ""
     },
     "metadata": {
      "application/vnd.bokehjs_exec.v0+json": {
       "id": "9472"
      }
     },
     "output_type": "display_data"
    }
   ],
   "source": [
    "show(text_plot)"
   ]
  },
  {
   "cell_type": "code",
   "execution_count": 53,
   "metadata": {},
   "outputs": [
    {
     "data": {
      "text/html": [
       "\n",
       "\n",
       "\n",
       "\n",
       "\n",
       "\n",
       "  <div class=\"bk-root\" id=\"cb1b83a3-8026-4316-8b7a-300c77a7f9e2\" data-root-id=\"4022\"></div>\n"
      ]
     },
     "metadata": {},
     "output_type": "display_data"
    },
    {
     "data": {
      "application/javascript": [
       "(function(root) {\n",
       "  function embed_document(root) {\n",
       "    \n",
       "  var docs_json = {\"a4b81481-c4f0-4a2a-a811-3a464caf7e59\":{\"roots\":{\"references\":[{\"attributes\":{\"background_fill_color\":\"#fafafa\",\"below\":[{\"id\":\"4033\"}],\"center\":[{\"id\":\"4036\"},{\"id\":\"4040\"},{\"id\":\"4078\"},{\"id\":\"4020\"}],\"extra_y_ranges\":{\"Pr(x)\":{\"id\":\"4063\"},\"cdf(x)\":{\"id\":\"4062\"}},\"left\":[{\"id\":\"4037\"}],\"output_backend\":\"webgl\",\"plot_height\":500,\"renderers\":[{\"id\":\"4068\"},{\"id\":\"4083\"},{\"id\":\"4099\"}],\"right\":[{\"id\":\"4064\"}],\"sizing_mode\":\"stretch_width\",\"title\":{\"id\":\"4023\"},\"toolbar\":{\"id\":\"4051\"},\"toolbar_location\":\"left\",\"x_range\":{\"id\":\"4025\"},\"x_scale\":{\"id\":\"4029\"},\"y_range\":{\"id\":\"4027\"},\"y_scale\":{\"id\":\"4031\"}},\"id\":\"4022\",\"subtype\":\"Figure\",\"type\":\"Plot\"},{\"attributes\":{},\"id\":\"4073\",\"type\":\"BasicTickFormatter\"},{\"attributes\":{},\"id\":\"4031\",\"type\":\"LinearScale\"},{\"attributes\":{\"data_source\":{\"id\":\"1004\"},\"glyph\":{\"id\":\"4081\"},\"hover_glyph\":null,\"muted_glyph\":null,\"name\":\"PDF\",\"nonselection_glyph\":{\"id\":\"4082\"},\"selection_glyph\":null,\"view\":{\"id\":\"4084\"},\"y_range_name\":\"Pr(x)\"},\"id\":\"4083\",\"type\":\"GlyphRenderer\"},{\"attributes\":{},\"id\":\"4074\",\"type\":\"BasicTicker\"},{\"attributes\":{\"label\":{\"value\":\"PDF\"},\"renderers\":[{\"id\":\"4083\"}]},\"id\":\"4095\",\"type\":\"LegendItem\"},{\"attributes\":{\"line_alpha\":0.7,\"line_color\":\"red\",\"line_width\":2,\"x\":{\"field\":\"x\"},\"y\":{\"field\":\"cdf\"}},\"id\":\"4097\",\"type\":\"Line\"},{\"attributes\":{\"end\":1.02},\"id\":\"4062\",\"type\":\"Range1d\"},{\"attributes\":{\"axis_label\":\"Pr(x)\",\"formatter\":{\"id\":\"4073\"},\"ticker\":{\"id\":\"4074\"},\"y_range_name\":\"Pr(x)\"},\"id\":\"4064\",\"type\":\"LinearAxis\"},{\"attributes\":{\"line_alpha\":0.1,\"line_color\":\"red\",\"line_width\":2,\"x\":{\"field\":\"x\"},\"y\":{\"field\":\"cdf\"}},\"id\":\"4098\",\"type\":\"Line\"},{\"attributes\":{},\"id\":\"4075\",\"type\":\"BasicTickFormatter\"},{\"attributes\":{\"end\":0.029222031686862243},\"id\":\"4063\",\"type\":\"Range1d\"},{\"attributes\":{\"start\":0},\"id\":\"4027\",\"type\":\"DataRange1d\"},{\"attributes\":{\"source\":{\"id\":\"1004\"}},\"id\":\"4100\",\"type\":\"CDSView\"},{\"attributes\":{\"data_source\":{\"id\":\"1004\"},\"glyph\":{\"id\":\"4097\"},\"hover_glyph\":null,\"muted_glyph\":null,\"name\":\"CDF\",\"nonselection_glyph\":{\"id\":\"4098\"},\"selection_glyph\":null,\"view\":{\"id\":\"4100\"},\"y_range_name\":\"cdf(x)\"},\"id\":\"4099\",\"type\":\"GlyphRenderer\"},{\"attributes\":{\"bottom\":{\"value\":0},\"fill_alpha\":{\"value\":0.5},\"fill_color\":{\"value\":\"blue\"},\"left\":{\"field\":\"bin_edges_left\"},\"line_alpha\":{\"value\":0.5},\"line_color\":{\"value\":\"white\"},\"right\":{\"field\":\"bin_edges_right\"},\"top\":{\"field\":\"hist\"}},\"id\":\"4066\",\"type\":\"Quad\"},{\"attributes\":{\"bottom\":{\"value\":0},\"fill_alpha\":{\"value\":0.1},\"fill_color\":{\"value\":\"blue\"},\"left\":{\"field\":\"bin_edges_left\"},\"line_alpha\":{\"value\":0.1},\"line_color\":{\"value\":\"white\"},\"right\":{\"field\":\"bin_edges_right\"},\"top\":{\"field\":\"hist\"}},\"id\":\"4067\",\"type\":\"Quad\"},{\"attributes\":{},\"id\":\"4034\",\"type\":\"BasicTicker\"},{\"attributes\":{\"axis\":{\"id\":\"4033\"},\"grid_line_color\":\"grey\",\"ticker\":null},\"id\":\"4036\",\"type\":\"Grid\"},{\"attributes\":{\"source\":{\"id\":\"1004\"}},\"id\":\"4069\",\"type\":\"CDSView\"},{\"attributes\":{\"label\":{\"value\":\"CDF\"},\"renderers\":[{\"id\":\"4099\"}]},\"id\":\"4111\",\"type\":\"LegendItem\"},{\"attributes\":{},\"id\":\"4038\",\"type\":\"BasicTicker\"},{\"attributes\":{\"bottom_units\":\"screen\",\"fill_alpha\":0.5,\"fill_color\":\"lightgrey\",\"left_units\":\"screen\",\"level\":\"overlay\",\"line_alpha\":1.0,\"line_color\":\"black\",\"line_dash\":[4,4],\"line_width\":2,\"render_mode\":\"css\",\"right_units\":\"screen\",\"top_units\":\"screen\"},\"id\":\"4050\",\"type\":\"BoxAnnotation\"},{\"attributes\":{\"background_fill_color\":\"#fefefe\",\"click_policy\":\"hide\",\"items\":[{\"id\":\"4079\"},{\"id\":\"4095\"},{\"id\":\"4111\"}],\"location\":\"center_right\"},\"id\":\"4078\",\"type\":\"Legend\"},{\"attributes\":{\"label\":{\"value\":\"Freq.\"},\"renderers\":[{\"id\":\"4068\"}]},\"id\":\"4079\",\"type\":\"LegendItem\"},{\"attributes\":{},\"id\":\"4025\",\"type\":\"DataRange1d\"},{\"attributes\":{\"data_source\":{\"id\":\"1004\"},\"glyph\":{\"id\":\"4066\"},\"hover_glyph\":null,\"muted_glyph\":null,\"name\":\"hist\",\"nonselection_glyph\":{\"id\":\"4067\"},\"selection_glyph\":null,\"view\":{\"id\":\"4069\"}},\"id\":\"4068\",\"type\":\"GlyphRenderer\"},{\"attributes\":{\"overlay\":{\"id\":\"4050\"}},\"id\":\"4044\",\"type\":\"BoxZoomTool\"},{\"attributes\":{\"line_alpha\":0.1,\"line_color\":\"green\",\"line_width\":4,\"x\":{\"field\":\"x\"},\"y\":{\"field\":\"pdf\"}},\"id\":\"4082\",\"type\":\"Line\"},{\"attributes\":{\"callback\":null,\"mode\":\"vline\",\"names\":[\"CDF\"],\"tooltips\":[[\"length\",\"$x{int}\"],[\"Count\",\"@hist{int}\"],[\"pdf\",\"@pdf{1.111}\"],[\"cdf\",\"@cdf{1.111}\"]]},\"id\":\"4021\",\"type\":\"HoverTool\"},{\"attributes\":{},\"id\":\"4049\",\"type\":\"ResetTool\"},{\"attributes\":{},\"id\":\"4041\",\"type\":\"CrosshairTool\"},{\"attributes\":{},\"id\":\"4029\",\"type\":\"LinearScale\"},{\"attributes\":{\"axis_label\":\"Length\",\"formatter\":{\"id\":\"4071\"},\"ticker\":{\"id\":\"4034\"}},\"id\":\"4033\",\"type\":\"LinearAxis\"},{\"attributes\":{\"axis_label\":\"Count\",\"formatter\":{\"id\":\"4075\"},\"ticker\":{\"id\":\"4038\"}},\"id\":\"4037\",\"type\":\"LinearAxis\"},{\"attributes\":{\"axis\":{\"id\":\"4037\"},\"dimension\":1,\"grid_line_color\":\"grey\",\"ticker\":null},\"id\":\"4040\",\"type\":\"Grid\"},{\"attributes\":{\"data\":{\"bin_edges_left\":{\"__ndarray__\":\"AAAAAAAA8D8fhetRuB4UQB+F61G4HiJArkfhehQuKkAfhetRuB4xQGdmZmZmJjVArkfhehQuOUD2KFyPwjU9QB+F61G4nkBAw/UoXI+iQkBnZmZmZqZEQAvXo3A9qkZArkfhehSuSEBSuB6F67FKQPYoXI/CtUxAmpmZmZm5TkAfhetRuF5QQHE9CtejYFFAw/UoXI9iUkAVrkfhemRTQGdmZmZmZlRAuR6F61FoVUAL16NwPWpWQF2PwvUobFdArkfhehRuWEAAAAAAAHBZQFK4HoXrcVpApHA9CtdzW0D2KFyPwnVcQEjhehSud11AmpmZmZl5XkDsUbgehXtfQB+F61G4PmBASOF6FK6/YEBxPQrXo0BhQJqZmZmZwWFAw/UoXI9CYkDsUbgehcNiQBWuR+F6RGNAPgrXo3DFY0BnZmZmZkZkQJDC9Shcx2RAuR6F61FIZUDiehSuR8llQAvXo3A9SmZANDMzMzPLZkBdj8L1KExnQIbrUbgezWdArkfhehROaEDXo3A9Cs9oQAAAAAAAUGlAKVyPwvXQaUBSuB6F61FqQHsUrkfh0mpApHA9CtdTa0DNzMzMzNRrQPYoXI/CVWxAH4XrUbjWbEBI4XoUrldtQHE9Ctej2G1AmpmZmZlZbkDD9Shcj9puQOxRuB6FW29AFa5H4Xrcb0AfhetRuC5wQDMzMzMzb3BASOF6FK6vcEBcj8L1KPBwQHE9CtejMHFAhetRuB5xcUCamZmZmbFxQK5H4XoU8nFAw/UoXI8yckDXo3A9CnNyQOxRuB6Fs3JAAAAAAAD0ckAVrkfhejRzQClcj8L1dHNAPgrXo3C1c0BSuB6F6/VzQGdmZmZmNnRAexSuR+F2dECQwvUoXLd0QKRwPQrX93RAuR6F61E4dUDNzMzMzHh1QOJ6FK5HuXVA9ihcj8L5dUAL16NwPTp2QB+F61G4enZANDMzMzO7dkBI4XoUrvt2QF2PwvUoPHdAcT0K16N8d0CG61G4Hr13QJqZmZmZ/XdArkfhehQ+eEDD9Shcj354QNejcD0Kv3hA7FG4HoX/eEA=\",\"dtype\":\"float64\",\"shape\":[100]},\"bin_edges_right\":{\"__ndarray__\":\"H4XrUbgeFEAfhetRuB4iQK5H4XoULipAH4XrUbgeMUBnZmZmZiY1QK5H4XoULjlA9ihcj8I1PUAfhetRuJ5AQMP1KFyPokJAZ2ZmZmamREAL16NwPapGQK5H4XoUrkhAUrgeheuxSkD2KFyPwrVMQJqZmZmZuU5AH4XrUbheUEBxPQrXo2BRQMP1KFyPYlJAFa5H4XpkU0BnZmZmZmZUQLkehetRaFVAC9ejcD1qVkBdj8L1KGxXQK5H4XoUblhAAAAAAABwWUBSuB6F63FaQKRwPQrXc1tA9ihcj8J1XEBI4XoUrnddQJqZmZmZeV5A7FG4HoV7X0AfhetRuD5gQEjhehSuv2BAcT0K16NAYUCamZmZmcFhQMP1KFyPQmJA7FG4HoXDYkAVrkfhekRjQD4K16NwxWNAZ2ZmZmZGZECQwvUoXMdkQLkehetRSGVA4noUrkfJZUAL16NwPUpmQDQzMzMzy2ZAXY/C9ShMZ0CG61G4Hs1nQK5H4XoUTmhA16NwPQrPaEAAAAAAAFBpQClcj8L10GlAUrgehetRakB7FK5H4dJqQKRwPQrXU2tAzczMzMzUa0D2KFyPwlVsQB+F61G41mxASOF6FK5XbUBxPQrXo9htQJqZmZmZWW5Aw/UoXI/abkDsUbgehVtvQBWuR+F63G9AH4XrUbgucEAzMzMzM29wQEjhehSur3BAXI/C9SjwcEBxPQrXozBxQIXrUbgecXFAmpmZmZmxcUCuR+F6FPJxQMP1KFyPMnJA16NwPQpzckDsUbgehbNyQAAAAAAA9HJAFa5H4Xo0c0ApXI/C9XRzQD4K16NwtXNAUrgehev1c0BnZmZmZjZ0QHsUrkfhdnRAkML1KFy3dECkcD0K1/d0QLkehetROHVAzczMzMx4dUDiehSuR7l1QPYoXI/C+XVAC9ejcD06dkAfhetRuHp2QDQzMzMzu3ZASOF6FK77dkBdj8L1KDx3QHE9CtejfHdAhutRuB69d0CamZmZmf13QK5H4XoUPnhAw/UoXI9+eEDXo3A9Cr94QOxRuB6F/3hAAAAAAABAeUA=\",\"dtype\":\"float64\",\"shape\":[100]},\"cdf\":{\"__ndarray__\":\"AAAAAAAAAAAB+P1jG5yXP51XHkXu/7g/nAJJWjb9yT8hjv7rBnHUP4Tbk//Lvts/CYMHkYA24T8aoBGlcSHkP9ZdXCLxmOY/cK5Ad/uh6D9BeLst10fqP3ul+opJmOs/UnQ/fVWh7D/+J1myAXDtP8XBKSDGD+4/u+32xV6K7j/p2S6u1+fuPzuWxRW2Lu8/PLctfi1k7z8K1FmkVozvP42dofhiqu8/vZyHEsrA7z9olTRQcNHvP+2Wl8XG3e8/t/ybGuXm7z91u4kqnu3vPxIHVj+Q8u8/UUMOtjH27z/PA4bB2vjvP3e5HOXM+u8/WDWrpjj87z/zk2reQf3vPxx2tfYC/u8/vWoEXI/+7z/erTxP9f7vP1rW80A//+8/x/c803T/7z+WGoCYm//vP5Z5YqC3/+8/8xSR38v/7z+mrgl82v/vP6tnDwXl/+8/wF4inOz/7z8pzvAS8v/vP9RCMAH2/+8/y9WI1Pj/7z8iOCrc+v/vP9opNlH8/+8/AQXcXP3/7z+WHsYc/v/vP61vTqb+/+8/zTHQCP//7z8h1FRP///vP3CryYH//+8/NVTfpf//7z9psaq////vP/XcGNL//+8/lZVC3///7z+7PKjo///vP2nyXO///+8/E4ol9P//7z/uwY73///vP/Qx/fn//+8/wbe4+///7z87pfT8///vP2Wc1f3//+8/usB1/v//7z/ztuf+///vP/HJOP///+8/DXNy////7z9Hcpv////vP2OWuP///+8/r0vN////7z/nAdz////vP9905v///+8/UODt////7z+9JPP////vP8bh9v///+8/3oj5////7z+iavv////vP1bA/P///+8/pLL9////7z9uXv7////vPzTY/v///+8/gC7/////7z+la//////vP/eW/////+8/prX/////7z9gy//////vP8La/////+8/p+X/////7z9c7f/////vP9Hy/////+8/rfb/////7z9o+f/////vP1f7/////+8/tPz/////7z+s/f/////vP1v+/////+8/1v7/////7z8=\",\"dtype\":\"float64\",\"shape\":[100]},\"hist\":[1846,3950,4931,4935,4899,4474,3899,3313,2664,2248,1777,1446,1073,804,621,482,350,281,165,150,112,76,56,50,32,27,20,14,10,4,10,3,4,3,2,0,1,0,0,4,1,2,0,0,0,0,0,0,0,0,0,0,0,2,0,0,0,0,0,0,0,0,0,0,0,0,0,0,0,1,0,0,0,1,0,0,0,0,0,0,0,0,0,0,0,0,0,0,0,0,0,0,0,0,0,0,0,0,0,1],\"pdf\":{\"__ndarray__\":\"AAAAAAAAAAC7ZbBt+sqJP/0WMVediZc/iNTTPSyDnD9SkNA+LVadP39urNRboZs/rqYB7d2dmD9oFvTULByVP86eNKz/mpE/HTcF35G/jD+pwcCGJBWHP8070rvjSII/RsovAq+lfD/RnbMeezt2P+f2f0gBHnE/D3pYQogtaj++9a4R9OVjP5vu2oqMF14/v3BO6w+mVj8bY10T5vlQPzjgCsDDWkk/fK50CureQj81ttLSRwE8P+b85OYUuTQ/hBXjv26XLj8p7UPXCYcmP5WZjCbCjSA/zbazf7hHGD/jO/KSGsYRP8EPNyRO+gk/DsH1TD70Aj9sT0JcKp77PtJIr0bLF/Q+8ru5R9Yy7T6gtXI2ejDlPpcd95b9t94+zvUaLRo+1j7ul3J3tBbQPpd5ewKNQMc+EgftqnzJwD5ShzFmxDe4PqfYszZSdLE+oju+cL8jqT67fqymOBeiPrnSOZqIBJo+U0+Y7zqykj60cYwCNNqKPsaRsVBqRYM+aIHU+92kez6YCp1f3dBzPuA5FsupZGw+R58/N69UZD5nit6VwBldPvw3mMP+0FQ+GnRvdVDETT58Eu0l7kVFPuCEgqmLZD4+7veDLaKzNT7r687lp/ouPhbJ0OFBGiY+6KZhtt2GHz6T45Ib9nkWPgnDw/uzBBA+iHvJKunSBj5c2EqvQUEAPpsswIdGJfc9HCOnCDd58D2Wx7yNOnHnPYgX/aSzrOA9zq4RPvK21z1Vy02D19vQPVS9hwqb9sc9jNrs4MIGwT2L8TmmYjC4Pf2CPBqWLbE9RKcd3HZkqD3NiS6PcVChPVlGjWoFk5g95ggai3VvkT1EGkLjO7yIPUoPhS/CioE9DS89j0fgeD3ado1hd6JxPWxgL1ZV/2g9/PKmubS2YT3rnv6okRlZPQlsbXWZx1E9o0sSbygvST2QfVJrRNVBPW+/GvZEQDk9raHz/9PfMT0z3RDkEU0pPVRc7Bxm5yE95ScyK7lVGT25uvwoGOwRPQ19xP9jWgk9NeFgAQfuAT1UUnLPOlv5POcoOvRO7fE82WYVOmVY6Tw=\",\"dtype\":\"float64\",\"shape\":[100]},\"x\":{\"__ndarray__\":\"AAAAAAAAAAD9SoFav1IQQP1KgVq/UiBAfPDBBx98KED9SoFav1IwQLydITFvZzRAfPDBBx98OEA7Q2LezpA8QP1KgVq/UkBAXXTRRRddQkC8nSExb2dEQBzHcRzHcUZAfPDBBx98SEDbGRLzdoZKQDtDYt7OkExAmmyyySabTkD9SoFav1JQQK1fKVDrV1FAXXTRRRddUkAMiXk7Q2JTQLydITFvZ1RAbLLJJptsVUAcx3Ecx3FWQMzbGRLzdldAfPDBBx98WEArBWr9SoFZQNsZEvN2hlpAiy666KKLW0A7Q2LezpBcQOtXCtT6lV1AmmyyySabXkBKgVq/UqBfQP1KgVq/UmBAVVVVVVXVYECtXylQ61dhQAVq/UqB2mFAXXTRRRddYkC1fqVArd9iQAyJeTtDYmNAZJNNNtnkY0C8nSExb2dkQBSo9SsF6mRAbLLJJptsZUDEvJ0hMe9lQBzHcRzHcWZAdNFFF130ZkDM2xkS83ZnQCTm7QyJ+WdAfPDBBx98aEDT+pUCtf5oQCsFav1KgWlAgw8++OADakDbGRLzdoZqQDMk5u0MCWtAiy666KKLa0DjOI7jOA5sQDtDYt7OkGxAk0022WQTbUDrVwrU+pVtQEJi3s6QGG5AmmyyySabbkDydobEvB1vQEqBWr9SoG9A0UUXXXQRcED9SoFav1JwQClQ61cKlHBAVVVVVVXVcECBWr9SoBZxQK1fKVDrV3FA2WSTTTaZcUAFav1KgdpxQDFvZ0jMG3JAXXTRRRddckCJeTtDYp5yQLV+pUCt33JA4IMPPvggc0AMiXk7Q2JzQDiO4ziOo3NAZJNNNtnkc0CQmLczJCZ0QLydITFvZ3RA6KKLLrqodEAUqPUrBep0QECtXylQK3VAbLLJJptsdUCYtzMk5q11QMS8nSEx73VA8MEHH3wwdkAcx3Ecx3F2QEjM2xkSs3ZAdNFFF130dkCg1q8UqDV3QMzbGRLzdndA+OCDDz64d0Ak5u0Mifl3QFDrVwrUOnhAfPDBBx98eECn9SsFar14QNP6lQK1/nhAAAAAAABAeUA=\",\"dtype\":\"float64\",\"shape\":[100]}},\"selected\":{\"id\":\"4092\"},\"selection_policy\":{\"id\":\"4093\"}},\"id\":\"1004\",\"type\":\"ColumnDataSource\"},{\"attributes\":{},\"id\":\"4047\",\"type\":\"UndoTool\"},{\"attributes\":{},\"id\":\"4042\",\"type\":\"PanTool\"},{\"attributes\":{\"source\":{\"id\":\"1004\"}},\"id\":\"4084\",\"type\":\"CDSView\"},{\"attributes\":{},\"id\":\"4071\",\"type\":\"BasicTickFormatter\"},{\"attributes\":{},\"id\":\"4043\",\"type\":\"WheelZoomTool\"},{\"attributes\":{\"active_drag\":\"auto\",\"active_inspect\":\"auto\",\"active_multi\":null,\"active_scroll\":\"auto\",\"active_tap\":\"auto\",\"tools\":[{\"id\":\"4041\"},{\"id\":\"4042\"},{\"id\":\"4043\"},{\"id\":\"4044\"},{\"id\":\"4045\"},{\"id\":\"4046\"},{\"id\":\"4047\"},{\"id\":\"4048\"},{\"id\":\"4049\"},{\"id\":\"4021\"}]},\"id\":\"4051\",\"type\":\"Toolbar\"},{\"attributes\":{},\"id\":\"4092\",\"type\":\"Selection\"},{\"attributes\":{},\"id\":\"4046\",\"type\":\"ZoomOutTool\"},{\"attributes\":{},\"id\":\"4093\",\"type\":\"UnionRenderers\"},{\"attributes\":{\"text\":\"http://leomrocha.github.io/\",\"x\":20,\"y\":20},\"id\":\"4020\",\"type\":\"Label\"},{\"attributes\":{\"line_alpha\":0.7,\"line_color\":\"green\",\"line_width\":4,\"x\":{\"field\":\"x\"},\"y\":{\"field\":\"pdf\"}},\"id\":\"4081\",\"type\":\"Line\"},{\"attributes\":{},\"id\":\"4048\",\"type\":\"RedoTool\"},{\"attributes\":{},\"id\":\"4045\",\"type\":\"ZoomInTool\"},{\"attributes\":{\"align\":\"center\",\"text\":\"French - Text Length by UPOS Count\"},\"id\":\"4023\",\"type\":\"Title\"}],\"root_ids\":[\"4022\"]},\"title\":\"Bokeh Application\",\"version\":\"2.0.2\"}};\n",
       "  var render_items = [{\"docid\":\"a4b81481-c4f0-4a2a-a811-3a464caf7e59\",\"root_ids\":[\"4022\"],\"roots\":{\"4022\":\"cb1b83a3-8026-4316-8b7a-300c77a7f9e2\"}}];\n",
       "  root.Bokeh.embed.embed_items_notebook(docs_json, render_items);\n",
       "\n",
       "  }\n",
       "  if (root.Bokeh !== undefined) {\n",
       "    embed_document(root);\n",
       "  } else {\n",
       "    var attempts = 0;\n",
       "    var timer = setInterval(function(root) {\n",
       "      if (root.Bokeh !== undefined) {\n",
       "        clearInterval(timer);\n",
       "        embed_document(root);\n",
       "      } else {\n",
       "        attempts++;\n",
       "        if (attempts > 100) {\n",
       "          clearInterval(timer);\n",
       "          console.log(\"Bokeh: ERROR: Unable to run BokehJS code because BokehJS library is missing\");\n",
       "        }\n",
       "      }\n",
       "    }, 10, root)\n",
       "  }\n",
       "})(window);"
      ],
      "application/vnd.bokehjs_exec.v0+json": ""
     },
     "metadata": {
      "application/vnd.bokehjs_exec.v0+json": {
       "id": "4022"
      }
     },
     "output_type": "display_data"
    }
   ],
   "source": [
    "show(upos_plot)"
   ]
  },
  {
   "cell_type": "code",
   "execution_count": 83,
   "metadata": {},
   "outputs": [],
   "source": [
    "from collections import OrderedDict\n",
    "\n",
    "all_data_sources = OrderedDict()\n",
    "\n",
    "for lang, stats in all_stats.items():\n",
    "    upos_ds, txt_ds = _make_data_sources(stats)\n",
    "    all_data_sources[lang] = (upos_ds, txt_ds)"
   ]
  },
  {
   "cell_type": "code",
   "execution_count": null,
   "metadata": {},
   "outputs": [],
   "source": [
    "\n",
    "\n",
    "def make_small_hist_plot(lang, data_source):\n",
    "    p = figure(title=title, background_fill_color=\"#fafafa\",\n",
    "               plot_height=50, plot_width=300,\n",
    "               tools=\"\")\n",
    "    # p = figure(title=title, tools='', background_fill_color=\"#fafafa\")\n",
    "    p.xaxis.axis_label = 'Length'\n",
    "    p.yaxis.axis_label = 'Count'\n",
    "    # second axe, probability\n",
    "    p.extra_y_ranges = {\"cdf(x)\": Range1d(start=0., end=1.02),\n",
    "                        \"Pr(x)\": Range1d(start=0., end=max(data_source.data['pdf']) * 1.02)\n",
    "                        }\n",
    "\n",
    "    p.quad(name='hist', top='hist', bottom=0, left='bin_edges_left', right='bin_edges_right',\n",
    "           fill_color=\"blue\", line_color=\"white\", alpha=0.5, legend_label=\"Freq.\", source=data_source)\n",
    "    p.y_range.start = 0\n",
    "    Row\n",
    "    return lang, p"
   ]
  },
  {
   "cell_type": "code",
   "execution_count": 25,
   "metadata": {},
   "outputs": [],
   "source": [
    "# # from functools import partial\n",
    "\n",
    "\n",
    "# # def _column_round(decimals):\n",
    "# #     return partial(pd.Series.round, decimals=decimals)\n",
    "\n",
    "\n",
    "# def _make_complete_stat_tables(all_lang_stats):\n",
    "#     df_tables = (upos_df, text_df) = stats_dict2table(all_lang_stats)\n",
    "#     intervals = ['intervals_99', 'intervals_98', 'intervals_95', 'intervals_90', 'intervals_85', 'intervals_80']\n",
    "#     cols_to_drop = intervals + ['intervals_99_low', 'intervals_98_low', \n",
    "#                                 'intervals_95_low', 'intervals_90_low', \n",
    "#                                 'intervals_85_low', 'intervals_80_low',\n",
    "#                                 'skew', 'kurtosis']\n",
    "#     # separate and clean the data\n",
    "#     for df in df_tables:\n",
    "#         df = df.round(2)\n",
    "# #         df = df.apply(_column_round(2))\n",
    "#         for interval in intervals:\n",
    "#             df[[interval+'_low', interval+'_high']] = pd.DataFrame(df[interval].tolist(), index=df.index)\n",
    "#         df.drop(columns=cols_to_drop)  \n",
    "\n",
    "#     bk_tables = []\n",
    "    \n",
    "#     def _get_title(col_name):\n",
    "#         if col_name == 'lang_code':\n",
    "#             return 'Code'\n",
    "#         elif col_name == 'lang_name':\n",
    "#             return 'Language'\n",
    "#         else:\n",
    "#             return col_name.replace('intervals_','').replace('_high','').replace('_low','')\n",
    "    \n",
    "#     def _get_width(col_name):\n",
    "#         if col_name == 'lang_code':\n",
    "#             return 60\n",
    "#         elif col_name == 'lang_name':\n",
    "#             return 140\n",
    "#         else:\n",
    "#             return 50\n",
    "        \n",
    "#     for table in df_tables:\n",
    "#         columns = [TableColumn(field=Ci, title=_get_title(Ci), width=_get_width(Ci)) for Ci in table.columns] # bokeh columns\n",
    "#         data_table = DataTable(columns=columns, source=ColumnDataSource(table), sizing_mode='stretch_width', fit_columns=False ) # bokeh table\n",
    "#         bk_tables.append(data_table)\n",
    "        \n",
    "#     return bk_tables"
   ]
  },
  {
   "cell_type": "code",
   "execution_count": 26,
   "metadata": {},
   "outputs": [
    {
     "ename": "NameError",
     "evalue": "name '_make_complete_stat_tables' is not defined",
     "output_type": "error",
     "traceback": [
      "\u001b[0;31m---------------------------------------------------------------------------\u001b[0m",
      "\u001b[0;31mNameError\u001b[0m                                 Traceback (most recent call last)",
      "\u001b[0;32m<ipython-input-26-a03e0bc92a82>\u001b[0m in \u001b[0;36m<module>\u001b[0;34m\u001b[0m\n\u001b[1;32m      1\u001b[0m \u001b[0mall_stats_copy\u001b[0m \u001b[0;34m=\u001b[0m \u001b[0mcopy\u001b[0m\u001b[0;34m.\u001b[0m\u001b[0mdeepcopy\u001b[0m\u001b[0;34m(\u001b[0m\u001b[0mall_stats\u001b[0m\u001b[0;34m)\u001b[0m\u001b[0;34m\u001b[0m\u001b[0;34m\u001b[0m\u001b[0m\n\u001b[0;32m----> 2\u001b[0;31m \u001b[0mupos_table\u001b[0m\u001b[0;34m,\u001b[0m \u001b[0mtext_table\u001b[0m \u001b[0;34m=\u001b[0m \u001b[0m_make_complete_stat_tables\u001b[0m\u001b[0;34m(\u001b[0m\u001b[0mall_stats_copy\u001b[0m\u001b[0;34m)\u001b[0m\u001b[0;34m\u001b[0m\u001b[0;34m\u001b[0m\u001b[0m\n\u001b[0m",
      "\u001b[0;31mNameError\u001b[0m: name '_make_complete_stat_tables' is not defined"
     ]
    }
   ],
   "source": [
    "all_stats_copy = copy.deepcopy(all_stats)\n",
    "upos_table, text_table = _make_complete_stat_tables(all_stats_copy)"
   ]
  },
  {
   "cell_type": "code",
   "execution_count": 24,
   "metadata": {},
   "outputs": [
    {
     "data": {
      "text/html": [
       "\n",
       "\n",
       "\n",
       "\n",
       "\n",
       "\n",
       "  <div class=\"bk-root\" id=\"1d65dd91-0dc5-44a2-beae-8399ec2d880e\" data-root-id=\"2447\"></div>\n"
      ]
     },
     "metadata": {},
     "output_type": "display_data"
    },
    {
     "data": {
      "application/javascript": [
       "(function(root) {\n",
       "  function embed_document(root) {\n",
       "    \n",
       "  var docs_json = {\"59792584-1750-4c0d-8caa-b6b5e44907bc\":{\"roots\":{\"references\":[{\"attributes\":{\"columns\":[{\"id\":\"2432\"},{\"id\":\"2433\"},{\"id\":\"2434\"},{\"id\":\"2435\"},{\"id\":\"2436\"},{\"id\":\"2437\"},{\"id\":\"2438\"},{\"id\":\"2439\"},{\"id\":\"2440\"},{\"id\":\"2441\"},{\"id\":\"2442\"},{\"id\":\"2443\"},{\"id\":\"2444\"},{\"id\":\"2445\"}],\"fit_columns\":false,\"sizing_mode\":\"stretch_width\",\"source\":{\"id\":\"2446\"},\"view\":{\"id\":\"2448\"}},\"id\":\"2447\",\"type\":\"DataTable\"},{\"attributes\":{},\"id\":\"2611\",\"type\":\"StringEditor\"},{\"attributes\":{},\"id\":\"2607\",\"type\":\"StringEditor\"},{\"attributes\":{\"editor\":{\"id\":\"2589\"},\"field\":\"mean\",\"formatter\":{\"id\":\"2588\"},\"title\":\"mean\",\"width\":50},\"id\":\"2434\",\"type\":\"TableColumn\"},{\"attributes\":{},\"id\":\"2610\",\"type\":\"StringFormatter\"},{\"attributes\":{\"editor\":{\"id\":\"2593\"},\"field\":\"skew\",\"formatter\":{\"id\":\"2592\"},\"title\":\"skew\",\"width\":50},\"id\":\"2436\",\"type\":\"TableColumn\"},{\"attributes\":{},\"id\":\"2609\",\"type\":\"StringEditor\"},{\"attributes\":{},\"id\":\"2608\",\"type\":\"StringFormatter\"},{\"attributes\":{\"editor\":{\"id\":\"2603\"},\"field\":\"intervals_98\",\"formatter\":{\"id\":\"2602\"},\"title\":\"98\",\"width\":50},\"id\":\"2441\",\"type\":\"TableColumn\"},{\"attributes\":{\"source\":{\"id\":\"2446\"}},\"id\":\"2448\",\"type\":\"CDSView\"},{\"attributes\":{},\"id\":\"2612\",\"type\":\"Selection\"},{\"attributes\":{},\"id\":\"2602\",\"type\":\"StringFormatter\"},{\"attributes\":{\"editor\":{\"id\":\"2599\"},\"field\":\"std\",\"formatter\":{\"id\":\"2598\"},\"title\":\"std\",\"width\":50},\"id\":\"2439\",\"type\":\"TableColumn\"},{\"attributes\":{},\"id\":\"2594\",\"type\":\"StringFormatter\"},{\"attributes\":{},\"id\":\"2606\",\"type\":\"StringFormatter\"},{\"attributes\":{\"editor\":{\"id\":\"2587\"},\"field\":\"lang_name\",\"formatter\":{\"id\":\"2586\"},\"title\":\"Language\",\"width\":140},\"id\":\"2433\",\"type\":\"TableColumn\"},{\"attributes\":{},\"id\":\"2601\",\"type\":\"StringEditor\"},{\"attributes\":{},\"id\":\"2613\",\"type\":\"UnionRenderers\"},{\"attributes\":{\"editor\":{\"id\":\"2597\"},\"field\":\"median\",\"formatter\":{\"id\":\"2596\"},\"title\":\"median\",\"width\":50},\"id\":\"2438\",\"type\":\"TableColumn\"},{\"attributes\":{},\"id\":\"2604\",\"type\":\"StringFormatter\"},{\"attributes\":{},\"id\":\"2605\",\"type\":\"StringEditor\"},{\"attributes\":{\"editor\":{\"id\":\"2591\"},\"field\":\"variance\",\"formatter\":{\"id\":\"2590\"},\"title\":\"variance\",\"width\":50},\"id\":\"2435\",\"type\":\"TableColumn\"},{\"attributes\":{\"editor\":{\"id\":\"2609\"},\"field\":\"intervals_85\",\"formatter\":{\"id\":\"2608\"},\"title\":\"85\",\"width\":50},\"id\":\"2444\",\"type\":\"TableColumn\"},{\"attributes\":{\"editor\":{\"id\":\"2595\"},\"field\":\"kurtosis\",\"formatter\":{\"id\":\"2594\"},\"title\":\"kurtosis\",\"width\":50},\"id\":\"2437\",\"type\":\"TableColumn\"},{\"attributes\":{},\"id\":\"2596\",\"type\":\"StringFormatter\"},{\"attributes\":{\"editor\":{\"id\":\"2605\"},\"field\":\"intervals_95\",\"formatter\":{\"id\":\"2604\"},\"title\":\"95\",\"width\":50},\"id\":\"2442\",\"type\":\"TableColumn\"},{\"attributes\":{},\"id\":\"2603\",\"type\":\"StringEditor\"},{\"attributes\":{},\"id\":\"2590\",\"type\":\"StringFormatter\"},{\"attributes\":{\"editor\":{\"id\":\"2607\"},\"field\":\"intervals_90\",\"formatter\":{\"id\":\"2606\"},\"title\":\"90\",\"width\":50},\"id\":\"2443\",\"type\":\"TableColumn\"},{\"attributes\":{\"editor\":{\"id\":\"2601\"},\"field\":\"intervals_99\",\"formatter\":{\"id\":\"2600\"},\"title\":\"99\",\"width\":50},\"id\":\"2440\",\"type\":\"TableColumn\"},{\"attributes\":{},\"id\":\"2591\",\"type\":\"StringEditor\"},{\"attributes\":{},\"id\":\"2600\",\"type\":\"StringFormatter\"},{\"attributes\":{},\"id\":\"2588\",\"type\":\"StringFormatter\"},{\"attributes\":{\"editor\":{\"id\":\"2611\"},\"field\":\"intervals_80\",\"formatter\":{\"id\":\"2610\"},\"title\":\"80\",\"width\":50},\"id\":\"2445\",\"type\":\"TableColumn\"},{\"attributes\":{},\"id\":\"2599\",\"type\":\"StringEditor\"},{\"attributes\":{},\"id\":\"2589\",\"type\":\"StringEditor\"},{\"attributes\":{},\"id\":\"2598\",\"type\":\"StringFormatter\"},{\"attributes\":{},\"id\":\"2597\",\"type\":\"StringEditor\"},{\"attributes\":{},\"id\":\"2586\",\"type\":\"StringFormatter\"},{\"attributes\":{\"editor\":{\"id\":\"2585\"},\"field\":\"lang_code\",\"formatter\":{\"id\":\"2584\"},\"title\":\"Code\",\"width\":60},\"id\":\"2432\",\"type\":\"TableColumn\"},{\"attributes\":{},\"id\":\"2587\",\"type\":\"StringEditor\"},{\"attributes\":{},\"id\":\"2584\",\"type\":\"StringFormatter\"},{\"attributes\":{},\"id\":\"2585\",\"type\":\"StringEditor\"},{\"attributes\":{},\"id\":\"2595\",\"type\":\"StringEditor\"},{\"attributes\":{},\"id\":\"2593\",\"type\":\"StringEditor\"},{\"attributes\":{\"data\":{\"index\":[0,1,2,3,4,5,6,7,8,9,10,11,12,13,14,15,16,17,18,19,20,21,22,23,24,25,26,27,28,29,30,31,32,33,34,35,36,37,38,39,40,41,42,43,44,45,46,47,48,49,50,51,52,53,54,55,56,57,58,59,60,61,62,63,64,65,66,67,68,69,70,71,72,73,74,75,76,77,78,79,80,81,82,83,84,85,86,87,88,89,90],\"intervals_80\":[[11.390736566492777,43.197538059661724],[3.8799550419832127,13.501942320865998],[5.342853512072233,36.053790553725186],[6.375465680240594,18.094651256288746],[13.090823490577389,80.39291824541482],[5.871004422301086,41.10442330644714],[5.431805910318443,25.43273479794366],[7.581037607722869,33.13328046362358],[4.848384371117189,25.64749054695569],[4.484726549169562,20.612167502137773],[4.531321075212013,19.381935987082688],[12.771356291582277,54.70493886433597],[13.222969254745607,57.546360527330236],[5.572759188225692,33.42747255672126],[3.186961947123169,17.439016080340064],[6.666924254088433,35.82832045605379],[5.49960819364501,34.198608226363575],[7.352564251290316,30.95312206874251],[9.093946315781038,46.37314660509843],[5.328940365866536,33.6052867433688],[11.036394149399914,51.97867369835819],[4.71130281283131,26.140582846031553],[6.243768820768997,22.323000318700604],[8.609687044147648,47.32115055965478],[3.687710448414394,20.162575386947285],[4.820432026293919,12.453704817316337],[8.263219430342055,49.74651232141834],[3.6273240464708536,18.06007127395871],[5.979401650937335,43.59216022673493],[4.4311551813630885,40.25990099130761],[19.632712193360117,51.68216986614583],[3.365071955802941,19.88123241977578],[4.788061396802977,25.382840083811086],[8.742830930681887,20.791097307943126],[6.06068554061047,19.104419226857168],[11.645577296229915,57.15739867824327],[10.785678241113699,34.435363036128436],[9.345593724733689,37.42334912464531],[7.334310069287591,30.470540534943883],[9.43014953107089,39.961949518731814],[6.108488804499276,41.47194893845023],[8.823954402682531,37.49228911947813],[9.72210434809342,29.230774704406013],[7.880308600219085,45.65052347445131],[7.647536411596285,46.24242805411044],[4.595978550065232,16.78952458088509],[7.660594407172323,20.874249445540066],[5.9014133597788065,21.11369026242301],[4.562218728921798,16.40780110893048],[4.178298089844296,19.200083135579284],[6.196972083814419,22.908651830141487],[5.041667712383326,33.03556307827464],[5.610323658652986,37.17244675722788],[5.272524033780385,30.458518473762712],[2.1595673336646573,8.423967031877691],[4.576008433447847,14.053325937850452],[4.084086135124849,15.155255390382706],[6.250135575989372,41.206625630389226],[3.8325210935567546,18.161319270661863],[3.952543081096955,28.98311012272971],[5.25713566608905,29.370901286340054],[5.553837572709333,22.427720092386828],[3.4119081259554584,18.541075352004825],[5.516192737324924,31.88203811273148],[4.615865516428348,23.048913935008795],[8.994120387867826,49.65565795874177],[9.056865961126705,37.068285566739675],[6.079277958226392,32.350454210095414],[2.6081160597777435,12.673008097259933],[3.8797494472696723,18.15761790206598],[4.596616536934146,30.208389407936696],[4.1266196672020525,14.41301940517982],[5.008899219065567,22.147273721667872],[9.506993622180252,22.696370399998404],[9.752219533359634,37.01822339206087],[6.045010931564454,30.32223084915429],[2.895019173580687,14.355504327653877],[8.175526158520043,28.780542527325704],[3.1339260646515923,6.920839733724957],[11.57540605232943,34.211545810019956],[3.879469187890793,17.63066621377509],[3.515652082148025,18.757855542998488],[5.273566661015843,19.732040572829558],[5.158635749701018,33.74056673016357],[12.002204688181067,45.11670812662501],[6.412734544127186,22.579897816956336],[4.286297082999924,7.811702473129676],[8.247850743592762,38.08895932009875],[11.28803955657208,42.9476434480179],[3.919023201245266,29.33319895064336],[9.762517070911565,38.93374499309711]],\"intervals_85\":[[10.404253865648558,46.65401706557309],[3.7052877623285,14.961831834330622],[4.741062504494556,40.51987605905441],[5.9044875999999,19.065232729396072],[11.28324922569986,88.19142047219249],[5.107808695017966,45.08427084602098],[4.91577950861389,27.20724045655591],[6.798972219823711,36.07062223962174],[4.355941346718272,28.49652569804432],[4.060378940739861,22.342866611585848],[4.152333610011432,21.22639942296425],[11.291950727012491,58.58426864441782],[11.766216521760757,61.75149400035428],[4.811108862946124,36.2912715589071],[2.8471650682467526,19.285777999356434],[6.057719380863064,38.43137094709876],[4.673710690991742,37.08789202101497],[6.397166788768365,33.067746182802324],[7.814808370053102,49.83697417567639],[4.492129535597483,36.792574943328425],[9.851641290683599,55.581887301652046],[4.120550680202209,28.33652540314369],[5.742001582926667,23.78676380809262],[7.47831224341046,50.863109321302275],[3.2812258244766888,22.117864117106055],[4.528103427255752,13.179360923802614],[7.1310763958004255,54.01476731902459],[3.291059190682182,20.09507280315605],[5.1176307555574825,47.724612727852076],[3.712734955606572,44.24029491491704],[17.2008096247673,54.11407243473865],[2.9932823113275218,22.09720089189579],[4.260335627335882,27.934137874974905],[8.207393034927007,21.75836157468908],[5.6611588677755025,20.617684915419883],[10.239139037777177,61.661088709175594],[10.047785702948724,36.500721123428754],[8.372601532020111,40.06881088535583],[6.745778418974806,33.34996380196617],[8.413844485521194,42.67521723308054],[5.376954110725281,45.912762537764664],[8.020516704266395,40.84372712170414],[8.948010507722636,30.82093883887718],[6.9009323262971565,50.008774211519665],[6.757412723490509,51.255658881860676],[4.280767340415276,18.291653071285495],[7.189144738751096,22.22326628251842],[5.344054172106463,22.47513690016584],[4.2686044680738595,18.042203810081407],[3.841240335941234,21.393386926240726],[5.733486524372181,24.89013377923029],[4.4762425757768325,37.47612144708664],[4.836945761438942,40.55743459572861],[4.6118914113556375,33.09090931397309],[1.773453618742685,8.810080746799665],[4.2072522465111675,14.929295557176093],[3.773693678201692,16.28197960459046],[5.326216028833662,44.53467823178021],[3.5016862574478256,19.968887612533486],[3.3615628708796965,31.70472965618543],[4.481115675536651,31.93587605964866],[5.02924750230408,24.26651560541297],[3.117689269098299,21.046135495884734],[4.945608272287679,35.34403212465339],[4.225387088261381,25.612411477923647],[7.750900162895936,53.43803135789167],[8.091444558938475,39.90478543795393],[5.343455218444594,35.025171752599995],[2.3469976305358777,13.729458146562665],[3.473078937622504,19.808932586268924],[3.912773847152492,32.605697266912806],[3.8815527009137503,15.746520989676483],[4.616954671492749,24.140267120754576],[9.053877589809133,23.832863990780595],[8.781619091403792,39.37207826771827],[5.289901055098886,32.94875127150932],[2.4667257427073706,15.448103591548149],[7.544623380768905,31.094161880706668],[2.9873796838904054,7.281464122747869],[10.52988135110171,36.03179290654441],[3.6440419631712553,18.733307326900206],[3.1951935534928433,21.105722438198033],[4.877614868870471,21.385157371675813],[4.518505804342441,37.39474215618726],[10.991627503644615,48.3670096447195],[5.840212430706547,23.15241993037698],[4.17047263636114,8.117544179815944],[7.350661823612419,40.9939455137746],[9.966600677208017,45.715936048951285],[3.5226848037504217,33.51202559820733],[8.768696752718288,41.912690361656985]],\"intervals_90\":[[9.229932778963883,51.544781367487175],[3.5081917364941315,17.149092160230374],[4.056618604838014,47.157924911727434],[5.333469927608282,20.36623903113546],[9.185183036033777,99.31147950350535],[4.27607498372237,50.62828335505906],[4.310836596498954,29.556045509033453],[5.860128841987987,40.29113817498568],[3.781836422823327,32.73208763729951],[3.57835079452754,24.751151231805636],[3.709045888221988,23.891340471130857],[9.525447818072738,63.88289255864133],[10.05146870378993,67.50006908682003],[3.9444043646786655,40.237763910362524],[2.4526217546065987,21.97387172376022],[5.428797722223484,41.876870326346776],[3.724849894100405,41.061318482496894],[5.219533213411362,35.96594438537213],[6.297558474850737,54.56200262757926],[3.497263914748604,41.32261945745862],[8.427521515776062,60.351241671133806],[3.447283748852743,31.36169497249879],[5.163918865567126,25.754992329064926],[6.196251304048225,55.605644112614165],[2.8177058178359164,24.90870309293387],[4.16945336138216,14.185833284164534],[5.843240674378818,59.89712783521601],[2.8979165519604346,23.144228489957516],[4.169719915436782,53.455828914045675],[2.9481411213475086,49.72678473029753],[13.895535207465652,57.41934685204034],[2.564229443630028,25.342732356398564],[3.6428009379433868,31.618690305110135],[7.543993534848774,23.057208355583324],[5.180474155320557,22.79799495321477],[8.597640687172289,67.86028129253248],[9.149681289754803,39.234509819498726],[7.212415847055224,43.695177948727604],[6.057635767082497,37.511720370054036],[7.227753106896428,46.31929231092039],[4.571493199375202,52.28402339651641],[7.071084385784894,45.63619027364577],[8.015220621864707,32.94020754080941],[5.77593019897768,56.19934604364338],[5.740232415971342,58.57598236207352],[3.9115603861765766,20.458916568846924],[6.613707016655323,24.12034349477964],[4.675808814436371,24.32370497350507],[3.92131588835345,20.48464996864481],[3.447727069908241,24.7075232367532],[5.1880651441622225,27.74178243408986],[3.8206683876070233,44.31991827958052],[3.975109281279789,45.24126648929865],[3.8660314532669413,36.72432491862774],[1.271632199010031,9.311902166532317],[3.754854050967581,16.135548417778075],[3.4188256139715145,17.833126629918308],[4.299394068903791,49.005393660933066],[3.1260652693343496,22.58499662427625],[2.7076671279908027,35.475788885860794],[3.5497803142542645,35.54696340200254],[4.402118649189311,26.865459407489425],[2.7760326781423714,24.951750378704094],[4.30315116044207,40.394919826413286],[3.777649354925826,29.391367153056787],[6.320770203514238,58.546803564873],[6.923685910771244,43.8667644894728],[4.50235152749166,38.70756691491406],[2.0528088557891264,15.188249011144535],[2.991650440429921,22.166009340011115],[3.15308095022285,35.81262177622336],[3.5970242382453144,17.687682765907223],[4.180962780614543,26.952132148401677],[8.495102033629527,25.33717133135292],[7.63425092884661,42.52692200599191],[4.391147173980114,36.66120806757978],[1.9437748402560437,16.95986432438508],[6.791003695736256,34.39582720413548],[2.807023387150684,7.7823783729091724],[9.220378670508364,38.486795922050476],[3.4165457919582094,20.09237997231552],[2.822481413262249,24.699142979471873],[4.416933621708496,23.736456200905646],[3.7954860363503276,42.694331464994896],[9.817947600661668,52.82560794713126],[5.20074853398841,23.791883827095113],[4.028459397864105,8.522368217674941],[6.314453924463496,44.96427980842978],[8.331802803270598,49.49608501514752],[3.0822904546896845,39.87137897684374],[7.568186614672657,46.07921364726588]],\"intervals_95\":[[7.644048871567002,60.035758032827104],[3.2609323016012155,21.267575559349474],[3.188295176017431,59.51375088069743],[4.544613736503995,22.446662142050705],[6.463138145380407,118.82239678820122],[3.3044646754760008,59.97831372626904],[3.4859815490676755,33.23875334725138],[4.572263829840904,47.79778727955154],[3.0277269797640685,40.66287395929283],[2.9761285540201454,28.814548033662227],[3.12379635983137,28.653292679580094],[7.138393625577644,72.59546298367644],[7.786671400599578,76.95597913191682],[2.8595560175592385,46.79726305475585],[1.9371374851421495,26.828739131704932],[4.700214850332615,47.27909285526523],[2.518884115166157,47.64815072985518],[3.544095643605532,40.7659308391863],[4.269333567685815,62.31244949985364],[2.152952723708447,49.22795191158328],[6.431585944307665,67.8291456807503],[2.60249273284607,36.38777693821049],[4.4275777282176865,28.906198582983954],[4.606693664575694,63.140837205078526],[2.2334095080405962,29.808583294825983],[3.662406712598683,15.883626252956484],[4.232190897331793,69.67518993999771],[2.3785429891486523,28.9242136102481],[3.0460343419361617,63.059565771764824],[2.089335777466345,58.81716982165766],[8.513500342485212,62.80138171702073],[2.0085248668699514,31.256930871159017],[2.8269883753235407,38.19833795949641],[6.595338115702009,25.143510517116237],[4.5184634589834705,26.692841997985678],[6.457427713976521,78.16103655113865],[7.873513864948804,43.52083619998276],[5.64752499161039,49.69072960232505],[5.149570338728901,44.95210643334423],[5.685523828849183,52.14794215243279],[3.6121922350125577,63.542338081570456],[5.799168008500664,54.07317907507588],[6.739881705317216,36.29745449129133],[4.34151722147032,66.99041021611247],[4.450278884420067,71.89360240069087],[3.423144203920173,24.323706360135454],[5.8053283530513875,27.38789441900438],[3.767532362708158,27.336514188652295],[3.4537915019756595,25.097673144341044],[2.9284960772358763,31.072395009094045],[4.46357792881537,32.82092549073205],[2.9633208254570436,57.87262410268851],[2.93186583382357,53.06705626282634],[2.94411360232715,42.77586537038279],[0.501480890996584,10.082053474545765],[3.1155323840149602,18.146967454301972],[2.9712975062726725,20.407998757061325],[3.0651199228462365,56.13661144428723],[2.6552143677594118,27.27772228179449],[1.925136697581614,41.787569482164514],[2.274279915708461,41.7630390470463],[3.548011206042034,31.364647255339413],[2.3273523704557655,32.82736329217286],[3.5080650484654003,49.56585186318088],[3.203013454706266,36.34232793128626],[4.502751327174959,66.78255156386989],[5.306421064042242,50.60990467733771],[3.44193546647463,44.8205770654387],[1.690393225590243,17.619181332282892],[2.3450532743480657,26.304802280308103],[2.240841098073952,40.89444224883804],[3.225319971708138,21.19394765806878],[3.6537779038455716,31.794626037044118],[7.689405049405732,27.695785311840982],[6.1117834946253,47.561405802201],[3.1778737983719596,43.0958535293621],[1.2097415032779244,19.498070080379676],[5.766459329829053,40.204941843031506],[2.55072129044078,8.62945618083036],[7.3142643910531895,42.460074937546906],[3.1988390909744124,21.971282121681348],[2.3329630739101486,31.738785529506345],[3.8170948211772266,27.846424511947763],[2.8966583874382748,52.22895338320112],[8.3003547762379,60.192528187258496],[4.395622513943755,24.597009847139766],[3.8250062391988218,9.157094652612399],[4.987095207956498,51.48498564408038],[5.993749580817013,55.723746943453044],[2.541766824345766,52.1187237314238],[5.908717962450659,53.184160140986364]],\"intervals_98\":[[6.092688908092467,71.66337674558125],[3.0403654571833005,27.520258333789926],[2.40216935440792,77.99341430163679],[3.7540204096901117,24.98589487604488],[3.9570861022090487,145.89219790571468],[2.5476050713114393,72.17919973805301],[2.6320574275824424,37.61482239561693],[3.277590783251066,58.443087372054826],[2.3142671907004577,52.7381621181819],[2.455374047127805,34.136443640178],[2.5653669109220965,35.40684986940031],[4.816747501326619,83.64245375524632],[5.658990633778709,88.93465541611513],[1.920079330953822,55.206134742590194],[1.4519948714257116,33.810417334061015],[4.051003874959498,53.6984179387947],[1.449897164000077,56.066861151002584],[1.780304622577713,46.93154451024088],[2.3292715224576552,72.09869540005923],[0.830450734688041,60.099122561902384],[4.3128072539295665,76.71495083301761],[1.868161396417052,42.827892125421954],[3.774866032737143,32.738262761470544],[3.255633494317216,72.18963114693271],[1.7190623889082022,36.60455237288579],[3.132781387933851,18.122234849856557],[2.838249334979076,82.21141971970314],[1.8818921455513036,37.88167767598244],[2.150958167917344,75.48353497451006],[1.4607015030688255,70.35927093852405],[1.8018380927375617,69.51304396676838],[1.4915052890423584,39.8613997876265],[2.047915597417312,47.521993034803096],[5.5940496851857,27.713147837565252],[3.848456804463762,32.25129324227437],[4.483953227273775,91.3894689319659],[6.501321731764232,48.61416997198991],[4.128734387119166,57.351093394032965],[4.283687798002057,55.5113126395849],[4.2749699663786425,59.23504393872501],[2.839140039570166,79.26726060020303],[4.561990445259347,65.80889510690096],[5.482783446502734,40.337554240384996],[3.057116608937232,81.81187206195379],[3.2996599625157903,91.33190406989327],[2.955886824597801,29.790381385390358],[4.9665128439604285,31.822618185709036],[2.8772435670242418,31.110232282461915],[2.9934327029922647,32.21392519466828],[2.4320728757287595,41.12093943545691],[3.770475971340008,40.02740349000266],[2.151913458909837,80.21941656779023],[2.0736406556963436,63.158215033325156],[2.160960586833359,50.55153548414931],[-0.3939864427128885,10.977520808255237],[2.4484125765482414,20.753681247058452],[2.579277577929872,23.70404248482504],[2.0644558871430174,64.73417619450322],[2.243441743168348,33.98763935074782],[1.29262424391691,49.94271530756822],[0.9970817108296259,50.160151956863785],[2.6990089353505082,37.48749886941522],[1.8987916709726318,46.15482741788077],[2.825786529843023,62.90282896919755],[2.6747745955708098,46.57900139439809],[2.8950737140169953,76.89589187381918],[3.663031434076677,59.58519495275256],[2.513458923734804,52.64617193292385],[1.3841041902915225,20.74455402951596],[1.7140016622166794,32.04233552214789],[1.5028041494317348,46.962883597688155],[2.8755462919484405,26.236986256524112],[3.219708217406237,38.31649550157023],[6.810993514328594,30.498466950048474],[4.676079649885972,53.67069716210553],[1.991963587005678,51.886751961568024],[0.450582090562591,22.817066381559442],[4.752127211672495,48.31432071512565],[2.280836324238683,9.750659506760524],[5.246527697671269,47.41232590484344],[3.0751978753062557,23.787406125798473],[1.8671472575681753,43.17012644987383],[3.262007018026832,33.51902555497511],[2.1205734124323707,65.91604136067897],[6.919544651305574,69.5730820504818],[3.6485528586304152,25.344079502453106],[3.6045487998377173,9.911324102280801],[3.7973221226970644,59.712353128926196],[3.5154319802845038,63.668185873382576],[2.0733224800577825,71.26535081257522],[4.2266478007257735,62.66482723652671]],\"intervals_99\":[[5.195048050034919,80.85796350178005],[2.9224695270963617,32.924399184443395],[1.9761991500637586,93.7549340121636],[3.28878385494719,26.78377867088419],[2.597529008053585,167.53847095561628],[2.206688768044831,81.33582433338078],[2.0942643517601005,40.64020008689962],[2.504128204413437,67.15412189528644],[1.9128515862266555,63.305475540317225],[2.1923691483560352,38.154217737634674],[2.2477838200964375,40.901834760968136],[3.489195879085859,91.7501674693708],[4.486326398511288,97.70841515110062],[1.4453741089753587,61.42274547889809],[1.1795560044740803,39.56158552338883],[3.675950854942684,58.13639245111538],[0.8960462470472925,62.27637070808023],[0.6828406211663278,51.5236806662587],[1.2395906910796404,79.24806654565941],[0.05695522902822159,68.7048867884334],[2.957579160229546,82.85811639545182],[1.4956136331127416,47.58729693885134],[3.4375997621319647,35.42991348258723],[2.588784317822012,78.45902828747025],[1.4533472563791192,42.032194621040894],[2.805482263319452,19.832719644673496],[2.1345754752544654,91.48012933812923],[1.5987647625007169,45.856107338210784],[1.7379280385983618,84.7327153303641],[1.1965214635816837,78.77930528083071],[-3.036749640104354,74.3516316996103],[1.204218829407307,47.0228173519424],[1.6045131364217173,55.10246946506342],[4.972139561317429,29.552864206023035],[3.445074848894822,36.82816738689957],[3.41682790625244,101.20295968682203],[5.61647837542332,52.135425737788225],[3.261741855043091,63.01475670815179],[3.791550932333706,64.10780846885916],[3.5213051539148523,64.21745641631756],[2.476650719751831,91.89204035228806],[3.8458784317345556,75.19416682757398],[4.756405398243124,43.15696868750056],[2.3815060299455557,93.54146371054328],[2.694714244845812,107.64835064097097],[2.689513235217777,34.22784188379259],[4.450366300906752,35.30530194657469],[2.3644156695519003,33.847990115526514],[2.72251243959523,38.523883229614896],[2.1487141441496767,50.22760226293473],[3.3778590874998464,45.920825595990614],[1.6923898621875604,101.33333210461456],[1.6634514180819047,70.65220938704154],[1.7733883168936677,56.31029213623898],[-1.0037361530399576,11.587270518582306],[2.0366450416222053,22.71065684933998],[2.3787389329986297,26.138046489578688],[1.5950974722739222,70.70627871442623],[2.0318720065323377,39.50681345421415],[0.9960543769177272,56.00844821097379],[0.23788891612352892,56.70255218580098],[2.1977163803085107,42.28949309997399],[1.65305458298926,59.06600462824727],[2.4821557876990674,74.05143877092846],[2.3844881552505255,55.19133858575857],[2.066068635256363,84.06755823809873],[2.672953976711712,66.48624096067888],[2.0387218840732255,58.42533599974061],[1.2333658803118528,23.0602974027703],[1.3476060138573804,36.61693160949122],[1.157550452646237,51.13807232535185],[2.6791526039541482,30.391750233630887],[3.0116310275896034,43.37123111154597],[6.2394692640397516,32.436089599573926],[3.8837659405456857,57.961837559916695],[1.3064899186052217,58.822273739027324],[-0.014204876644626552,25.328842571060257],[4.156742634154964,54.848398113698785],[2.112599003372849,10.610761404727837],[3.9243397252412358,51.002373551366844],[3.0360990616226537,24.786306431883062],[1.6020529707203202,53.813722118708455],[2.9592868423568444,38.032775736061836],[1.7272992568798768,77.215073597958],[6.183889272740573,76.47178895745535],[3.221344728966594,25.77128763211693],[3.46168232753963,10.432757591084219],[3.173896114137712,65.70642493826846],[1.963696026596164,69.54867773575009],[1.829531390194121,88.24724005527844],[3.215576441919289,69.9708485816332]],\"kurtosis\":[\"NaN\",\"NaN\",\"NaN\",\"NaN\",\"NaN\",\"NaN\",\"NaN\",\"NaN\",\"NaN\",\"NaN\",\"NaN\",\"NaN\",\"NaN\",\"NaN\",\"NaN\",\"NaN\",\"NaN\",\"NaN\",\"NaN\",\"NaN\",\"NaN\",\"NaN\",\"NaN\",\"NaN\",\"NaN\",\"NaN\",\"NaN\",\"NaN\",\"NaN\",\"NaN\",\"NaN\",\"NaN\",\"NaN\",\"NaN\",\"NaN\",\"NaN\",\"NaN\",\"NaN\",\"NaN\",\"NaN\",\"NaN\",\"NaN\",\"NaN\",\"NaN\",\"NaN\",\"NaN\",\"NaN\",\"NaN\",\"NaN\",\"NaN\",\"NaN\",\"NaN\",\"NaN\",\"NaN\",\"NaN\",\"NaN\",\"NaN\",\"NaN\",\"NaN\",\"NaN\",\"NaN\",\"NaN\",\"NaN\",\"NaN\",\"NaN\",\"NaN\",\"NaN\",\"NaN\",\"NaN\",\"NaN\",\"NaN\",\"NaN\",\"NaN\",\"NaN\",\"NaN\",\"NaN\",\"NaN\",\"NaN\",\"NaN\",\"NaN\",\"NaN\",\"NaN\",\"NaN\",\"NaN\",\"NaN\",\"NaN\",\"NaN\",\"NaN\",\"NaN\",\"NaN\",\"NaN\"],\"lang_code\":[\"af\",\"aii\",\"akk\",\"am\",\"ar\",\"be\",\"bg\",\"bho\",\"bm\",\"br\",\"bxr\",\"ca\",\"cop\",\"cs\",\"cu\",\"cy\",\"da\",\"de\",\"el\",\"en\",\"es\",\"et\",\"eu\",\"fa\",\"fi\",\"fo\",\"fr\",\"fro\",\"ga\",\"gd\",\"gl\",\"got\",\"grc\",\"gsw\",\"gun\",\"he\",\"hi\",\"hr\",\"hsb\",\"hu\",\"hy\",\"id\",\"is\",\"it\",\"ja\",\"kk\",\"kmr\",\"ko\",\"koi\",\"kpv\",\"krl\",\"la\",\"lt\",\"lv\",\"lzh\",\"mdf\",\"mr\",\"mt\",\"myv\",\"nl\",\"no\",\"olo\",\"orv\",\"pcm\",\"pl\",\"pt\",\"ro\",\"ru\",\"sa\",\"sk\",\"sl\",\"sme\",\"sms\",\"sq\",\"sr\",\"sv\",\"swl\",\"ta\",\"te\",\"th\",\"tl\",\"tr\",\"ug\",\"uk\",\"ur\",\"vi\",\"wbp\",\"wo\",\"yo\",\"yue\",\"zh\"],\"lang_name\":[\"Afrikaans\",\"Assyrian Neo-Aramaic\",\"Akkadian\",\"Amharic\",\"Arabic\",\"Belarusian\",\"Bulgarian\",\"Bhojpuri\",\"Bambara\",\"Breton\",\"Russia Buriat\",\"Catalan\",\"Coptic\",\"Czech\",\"Church Slavic\",\"Welsh\",\"Danish\",\"German\",\"Modern Greek (1453-)\",\"English\",\"Spanish\",\"Estonian\",\"Basque\",\"Persian\",\"Finnish\",\"Faroese\",\"French\",\"Old French (842-ca. 1400)\",\"Irish\",\"Scottish Gaelic\",\"Galician\",\"Gothic\",\"Ancient Greek (to 1453)\",\"Swiss German\",\"Mby\\u00e1 Guaran\\u00ed\",\"Hebrew\",\"Hindi\",\"Croatian\",\"Upper Sorbian\",\"Hungarian\",\"Armenian\",\"Indonesian\",\"Icelandic\",\"Italian\",\"Japanese\",\"Kazakh\",\"Northern Kurdish\",\"Korean\",\"Komi-Permyak\",\"Komi-Zyrian\",\"Karelian\",\"Latin\",\"Lithuanian\",\"Latvian\",\"Literary Chinese\",\"Moksha\",\"Marathi\",\"Maltese\",\"Erzya\",\"Dutch\",\"Norwegian\",\"Livvi\",\"Old Russian\",\"Nigerian Pidgin\",\"Polish\",\"Portuguese\",\"Romanian\",\"Russian\",\"Sanskrit\",\"Slovak\",\"Slovenian\",\"Northern Sami\",\"Skolt Sami\",\"Albanian\",\"Serbian\",\"Swedish\",\"Swedish Sign Language\",\"Tamil\",\"Telugu\",\"Thai\",\"Tagalog\",\"Turkish\",\"Uighur\",\"Ukrainian\",\"Urdu\",\"Vietnamese\",\"Warlpiri\",\"Wolof\",\"Yoruba\",\"Yue Chinese\",\"Chinese\"],\"mean\":[25.60404714179739,7.924527315241818,18.332985519102298,11.849742855211009,42.65852654238992,21.031468968096107,14.281456029878816,18.960566878967544,13.871289790358539,11.575911241114827,10.987031643217858,31.938165339433898,33.301106083206946,17.895390112558186,9.333973401556237,19.55627015450974,18.277099427477793,18.312264080793128,26.079887363062472,17.855684115493496,29.23721291034944,14.200964925135535,13.510539460380748,25.982714941811807,10.859307662297827,8.332180419382455,26.610663421162037,9.88617256989456,22.272183947786637,19.740810370235963,35.657441029752974,10.444514780150032,13.745189113035936,14.442886721213197,11.868606694561976,32.07707271482186,21.348880924423298,22.139480661870756,17.387983940757344,23.34429047378883,21.22179338888326,21.432821354808986,18.835238540219358,24.416630585555275,24.324969300611723,9.904846377289386,13.669383044977774,12.898274599641121,9.726647280164162,10.681688772251235,13.558884691390121,17.13288021900433,19.389374964072733,16.357935045954584,5.291767182771174,8.948934929107363,8.997100064813875,21.73621352269128,10.023962119937858,14.832612141935416,16.065800144155027,13.080226988004966,9.964081875276285,16.837967142632184,12.46873215774951,27.303825181926943,21.73997551437415,17.73612391965564,7.0322035431016845,10.172728476806656,15.967978740774539,8.562851344118686,12.41630740495729,15.446227599416469,22.291125651211527,16.89892049138502,8.149199943859978,17.359177792990344,4.877784283112685,22.32298298750383,9.80066882073024,10.102650365660544,11.640703538953993,17.471269530873005,26.85683351593217,14.496316180541761,5.867332486184738,21.620855536506593,26.06446513432322,14.495371154976796,22.94786925773547],\"median\":{\"__ndarray__\":\"hymDusXDNkAwlVd7994ZQAYDMu+94ytAb9H/kM2HJkAMa7RZ4uJBQCiE5alRRTFAatbahnF4KUAjTqCyrn4wQPk/1XW5XiZAEVMMR+ccJEAhdS/iOZ8iQOZ+TAADJT1AnIEaUHgYPkBc+vwHHOEuQFic2NV9dB5ACZ/OIMEzMUBGKp67UrwvQAjtPnhx+DBAkVW3zVuIN0CH+O+IA1AuQGIQB3QiMjpAjujojeCmKEDNkys3/78oQJ7o/MDnHjdAWl1911onIkBwyyUZj1QfQHB2Eqlu8jZAh6BaaPzMH0DvufqCynEyQELVUffrxy9ANusUByfUQUCz2C94dq8gQFu6+M523CZAIL4ziGXhK0B+cZbs1jAlQFvlH8yHeDxAj8L2shioM0CwDey08zE0QAUV47pMiS1A9rY8jGBYNUB3xlNqefIwQLpQQrvRgjJAVp7633rgMUBUx7h8MoY0QLap4qYxnDNAdm7ugAIYIUB8fiWOjFIpQMmHiObW6ydALOXW+OBlIED0rvNuZCEhQEndozkapCdAABzIJYVlKUAuc6RZzVUwQK99im1yGyxAaDEwBMUqFUCQpPO4hbkgQESfWFJeFiBAkIEk6zHgMkB0HPChf6kgQEdrTbUXrihA/jhJR14DLECGU4rJRCMnQDScBpC1sR1Auts3KWAOK0Dd9SyHCv4jQGL1Wo4SUDhAYzI6LBaVM0C03mjrePEuQHEM+EoWaRhAwG2GkVt9IUAJuWKr/dgrQCq1KkkcSB1AKFNqRhkfJUAWZ7SgoCAtQOHX+O4MqjRAqlpV1nB+LUCSlPdCzoYdQAnxdB893C5Ai9NDdVKGEkDr61Zyj2w1QCtXFPT9SCFATZQhBm0lH0AX+LzvxGMkQJ01auuDCCxACG6wgDQ+OEAUzocnHf4sQGMPFIorfhZAEwYQzX9FM0Bq4USagmM4QNhHK1JacSRAoIyCV9CoNEA=\",\"dtype\":\"float64\",\"shape\":[91]},\"skew\":[\"NaN\",\"NaN\",\"NaN\",\"NaN\",\"NaN\",\"NaN\",\"NaN\",\"NaN\",\"NaN\",\"NaN\",\"NaN\",\"NaN\",\"NaN\",\"NaN\",\"NaN\",\"NaN\",\"NaN\",\"NaN\",\"NaN\",\"NaN\",\"NaN\",\"NaN\",\"NaN\",\"NaN\",\"NaN\",\"NaN\",\"NaN\",\"NaN\",\"NaN\",\"NaN\",\"NaN\",\"NaN\",\"NaN\",\"NaN\",\"NaN\",\"NaN\",\"NaN\",\"NaN\",\"NaN\",\"NaN\",\"NaN\",\"NaN\",\"NaN\",\"NaN\",\"NaN\",\"NaN\",\"NaN\",\"NaN\",\"NaN\",\"NaN\",\"NaN\",\"NaN\",\"NaN\",\"NaN\",\"NaN\",\"NaN\",\"NaN\",\"NaN\",\"NaN\",\"NaN\",\"NaN\",\"NaN\",\"NaN\",\"NaN\",\"NaN\",\"NaN\",\"NaN\",\"NaN\",\"NaN\",\"NaN\",\"NaN\",\"NaN\",\"NaN\",\"NaN\",\"NaN\",\"NaN\",\"NaN\",\"NaN\",\"NaN\",\"NaN\",\"NaN\",\"NaN\",\"NaN\",\"NaN\",\"NaN\",\"NaN\",\"NaN\",\"NaN\",\"NaN\",\"NaN\",\"NaN\"],\"std\":{\"__ndarray__\":\"+6We1wCMK0BtgQFZIlQUQCp35cv3WS9AFeGSLHCPEkCFAPChbuI9QC47gFBuSS5AsjlzLTLpH0Az2rQlTeYmQNttWHgw/yRALnQOH8VZG0Dqjo48LVYbQPTHa7F7CTFAa/fUENEUMkAPHez6njMnQPVEXvGr4hpA+v3e8h0uJ0D965StDsQnQBHHd+0HLyNADYzhwilGLkDs5KBpLs4oQHh5TVp9UzBAAPfQ0jbVIUAKDfuGb8IZQLG+78N08i5Ar7QsGnx9HUAZ6nYuNkcJQBc/cHTURzFAJfakw7EQHkCeIgi4KfovQDmDSq5uZS5AB8J0jUtbKkBXRgUrftgfQO3+UC6j7SJA7f257nsXE0BNLxTei4gXQF/amBYVzTJACjDXucPYIkCxfV6MNPEmQKQxtQ1/USVA4ZKemItcKEA2Xk8TujUwQK+bNN87kylAm+8g7MO5HkB0Xqk5T6swQPQCnRQsZzJAoKEaeHdYFkAdpyM2QXQWQM4TWsAIgRhAiiMBW9xNGEA4YgPu1UMgQNRy5jtHQx5AclsBlCbuMEAkWP6z/J8qQE2P61pWFCVAiKX7zHONA0CPYQONHg0PQGiTslIEZBJAPJR73aQuLECgtIVViagaQLggMYN1NSVAfO33/sCnJEANiD+ONS8dQDscTvMqyyNA5HxDDCcyKUCBkIKlRDUiQC59WNXZYjBAWbMxet+SJ0CexaEWidIlQNiwaXR53hBAqaYaP19YGUCn/G/EyYkkQDWH4rPraBNAba7jSQkUHkBPcFhECf0UQJKdRpcAqCVAZjkOs2X6JEA2uZhPy+4SQFvRpID5LSJAIgtss+Yg+T86IdPWVQQiQI396NPWBBVArChqoQKrIUBebbfZE4IZQHqoXXvlyipAv6Hx3o09K0BYJf1JiL4XQMfsE2dTdfY/UUp4V59wKEC8Oe009ZcpQKDUEZKJ5CxA3hAmJcmeKEA=\",\"dtype\":\"float64\",\"shape\":[91]},\"variance\":[189.70775758179616,25.828373399577302,245.72815557123982,21.53030851336045,893.0833772484763,229.32316195221395,63.64418352572109,131.09808805713993,110.21675262965044,46.75367660979637,46.70570106339107,290.26085654229513,326.93395539013596,134.57907797594035,45.17666727602472,134.32977454147183,141.20389430817949,92.00372757345768,229.12990013138466,153.82691396144173,266.5425691378144,79.50279340602874,41.472035967561204,239.43065982894706,54.3544009769388,9.98415474264518,298.6186370737149,56.494812542782654,255.63531524249922,230.98254917327986,173.6678754177765,63.384189196139246,89.56986259167499,22.78089612909219,34.61376076937976,353.48147519962566,88.79986955985243,131.5862278240289,113.61795767335043,148.37073230071724,262.7599027852307,163.52184833012686,59.00408181899312,277.8614829016644,338.6710113440298,31.207789416991986,31.511719196300987,37.52799786270889,36.91821228203318,66.13741847546666,57.23983803088513,286.634250711237,177.2219865426132,111.0857258734485,5.973470972420113,15.065311972784272,21.13859463405868,198.5591434955923,44.416711721872346,112.45355755573199,106.66023714677546,53.23311513598834,97.94688896338957,158.7084490646081,82.88353260308085,268.50546525483463,138.93009804777273,119.05433239165342,17.78528349376089,40.148708291450305,105.4547739739876,23.54638391284789,56.543883104790226,27.5321178408082,117.24838865006362,110.02032000335895,22.403158049817243,82.6243582006363,2.466572375935425,81.1524849114725,27.61214273841836,78.03963452229176,40.66649693430655,179.46037297579272,185.51047494766627,35.236888773261605,1.9702164565250406,149.32756123348133,163.7579022294071,208.69737735413588,151.53926037307284]},\"selected\":{\"id\":\"2612\"},\"selection_policy\":{\"id\":\"2613\"}},\"id\":\"2446\",\"type\":\"ColumnDataSource\"},{\"attributes\":{},\"id\":\"2592\",\"type\":\"StringFormatter\"}],\"root_ids\":[\"2447\"]},\"title\":\"Bokeh Application\",\"version\":\"2.0.2\"}};\n",
       "  var render_items = [{\"docid\":\"59792584-1750-4c0d-8caa-b6b5e44907bc\",\"root_ids\":[\"2447\"],\"roots\":{\"2447\":\"1d65dd91-0dc5-44a2-beae-8399ec2d880e\"}}];\n",
       "  root.Bokeh.embed.embed_items_notebook(docs_json, render_items);\n",
       "\n",
       "  }\n",
       "  if (root.Bokeh !== undefined) {\n",
       "    embed_document(root);\n",
       "  } else {\n",
       "    var attempts = 0;\n",
       "    var timer = setInterval(function(root) {\n",
       "      if (root.Bokeh !== undefined) {\n",
       "        clearInterval(timer);\n",
       "        embed_document(root);\n",
       "      } else {\n",
       "        attempts++;\n",
       "        if (attempts > 100) {\n",
       "          clearInterval(timer);\n",
       "          console.log(\"Bokeh: ERROR: Unable to run BokehJS code because BokehJS library is missing\");\n",
       "        }\n",
       "      }\n",
       "    }, 10, root)\n",
       "  }\n",
       "})(window);"
      ],
      "application/vnd.bokehjs_exec.v0+json": ""
     },
     "metadata": {
      "application/vnd.bokehjs_exec.v0+json": {
       "id": "2447"
      }
     },
     "output_type": "display_data"
    }
   ],
   "source": [
    "show(upos_table)"
   ]
  },
  {
   "cell_type": "code",
   "execution_count": 17,
   "metadata": {},
   "outputs": [],
   "source": [
    "# df_tables = [upos_table, text_table]\n",
    "\n",
    "# intervals = ['intervals_99', 'intervals_98', 'intervals_95', 'intervals_90', 'intervals_85', 'intervals_80']\n",
    "# for df in df_tables:\n",
    "#     for interval in intervals:\n",
    "#         df[[interval+'_low', interval+'_high']] = pd.DataFrame(df[interval].tolist(), index=df.index)\n",
    "#     df.drop(columns=intervals)"
   ]
  },
  {
   "cell_type": "code",
   "execution_count": 18,
   "metadata": {},
   "outputs": [],
   "source": [
    "\n",
    "# df_tables = [upos_table, text_table]\n",
    "# bk_tables = []\n",
    "\n",
    "\n",
    "# for table in df_tables:\n",
    "#     columns = [TableColumn(field=Ci, title=Ci) for Ci in table.columns] # bokeh columns\n",
    "#     data_table = DataTable(columns=columns, source=ColumnDataSource(table)) # bokeh table\n",
    "#     bk_tables.append(data_table)\n"
   ]
  },
  {
   "cell_type": "code",
   "execution_count": null,
   "metadata": {},
   "outputs": [],
   "source": []
  },
  {
   "cell_type": "code",
   "execution_count": null,
   "metadata": {},
   "outputs": [],
   "source": []
  }
 ],
 "metadata": {
  "kernelspec": {
   "display_name": "Python 3",
   "language": "python",
   "name": "python3"
  },
  "language_info": {
   "codemirror_mode": {
    "name": "ipython",
    "version": 3
   },
   "file_extension": ".py",
   "mimetype": "text/x-python",
   "name": "python",
   "nbconvert_exporter": "python",
   "pygments_lexer": "ipython3",
   "version": "3.8.2"
  }
 },
 "nbformat": 4,
 "nbformat_minor": 4
}
