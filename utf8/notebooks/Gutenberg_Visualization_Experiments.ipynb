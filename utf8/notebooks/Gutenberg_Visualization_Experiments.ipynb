{
 "cells": [
  {
   "cell_type": "markdown",
   "metadata": {},
   "source": [
    "# Visualiazation Experiments\n",
    "\n",
    "This notebook is a an exploratory work on what visualizations for Gutenberg project statistics data ([sample](https://github.com/leomrocha/mix_nlp/tree/master/gutenberg_stats_examples)) could be interesting too look at. It also contains some experiments on what library to use when building visualizations from existing data and how."
   ]
  },
  {
   "cell_type": "code",
   "execution_count": 1,
   "metadata": {},
   "outputs": [],
   "source": [
    "EXAMPLE_DIR = '../../gutenberg_stats_examples/'"
   ]
  },
  {
   "cell_type": "code",
   "execution_count": 2,
   "metadata": {},
   "outputs": [
    {
     "data": {
      "text/plain": [
       "dict_keys(['metadata', 'file_stats', 'stats_data', 'tokens'])"
      ]
     },
     "execution_count": 2,
     "metadata": {},
     "output_type": "execute_result"
    }
   ],
   "source": [
    "# data is stored as json, lots of nesting\n",
    "\n",
    "import gzip\n",
    "import json    \n",
    "\n",
    "with gzip.open(f'{EXAMPLE_DIR}/2568-0.stats_all.json.gz', \"rb\") as f:\n",
    "    trents_last_case = json.loads(f.read())\n",
    "    \n",
    "trents_last_case.keys()"
   ]
  },
  {
   "cell_type": "code",
   "execution_count": 3,
   "metadata": {},
   "outputs": [],
   "source": [
    "# save as different files to explore separately\n",
    "\n",
    "for stat in trents_last_case.keys():\n",
    "    with open(f\"../../gutenberg_stats_examples/2568-0/{stat}.json\", \"w\") as f:\n",
    "        json.dump(trents_last_case[stat], f, indent=2)"
   ]
  },
  {
   "cell_type": "code",
   "execution_count": 4,
   "metadata": {},
   "outputs": [],
   "source": [
    "import pandas as pd\n",
    "\n",
    "words_by_sentence = pd.Series(trents_last_case['stats_data']['by_sentence']['word_length'])\n",
    "words_by_paragraph = pd.Series(trents_last_case['stats_data']['by_paragraph']['word_length'])"
   ]
  },
  {
   "cell_type": "code",
   "execution_count": 5,
   "metadata": {},
   "outputs": [
    {
     "data": {
      "text/plain": [
       "Index(['2', '1', '0', '6', '31', '10', '9', '3', '44', '18', '15', '24', '21',\n",
       "       '11', '12', '5', '7', '4', '17', '23', '8', '13', '14', '16', '26',\n",
       "       '25', '35', '19', '29', '33', '20', '22', '27', '30', '28', '34', '43',\n",
       "       '75', '40', '37', '32'],\n",
       "      dtype='object')"
      ]
     },
     "execution_count": 5,
     "metadata": {},
     "output_type": "execute_result"
    }
   ],
   "source": [
    "words_by_sentence.index"
   ]
  },
  {
   "cell_type": "code",
   "execution_count": 6,
   "metadata": {},
   "outputs": [
    {
     "data": {
      "text/plain": [
       "1     470\n",
       "2     607\n",
       "3     564\n",
       "4     542\n",
       "5     459\n",
       "6     406\n",
       "7     336\n",
       "8     269\n",
       "9     229\n",
       "10    185\n",
       "11    156\n",
       "12    106\n",
       "13     90\n",
       "14     73\n",
       "15     59\n",
       "16     44\n",
       "17     33\n",
       "18     32\n",
       "19     18\n",
       "20     19\n",
       "21      3\n",
       "22     13\n",
       "23     10\n",
       "24      6\n",
       "25      8\n",
       "26      7\n",
       "27      1\n",
       "28      3\n",
       "29      2\n",
       "30      2\n",
       "31      2\n",
       "32      1\n",
       "33      2\n",
       "34      1\n",
       "35      1\n",
       "37      1\n",
       "40      1\n",
       "43      1\n",
       "44      1\n",
       "75      1\n",
       "dtype: int64"
      ]
     },
     "execution_count": 6,
     "metadata": {},
     "output_type": "execute_result"
    }
   ],
   "source": [
    "sentence_wc = words_by_sentence\n",
    "sentence_wc.index = sentence_wc.index.astype('int64')\n",
    "sentence_wc.sort_index(inplace=True)\n",
    "sentence_wc = sentence_wc[1:]\n",
    "sentence_wc"
   ]
  },
  {
   "cell_type": "code",
   "execution_count": 7,
   "metadata": {},
   "outputs": [],
   "source": [
    "x = sentence_wc.index.values\n",
    "y = sentence_wc.values"
   ]
  },
  {
   "cell_type": "markdown",
   "metadata": {},
   "source": [
    "## Finding the library"
   ]
  },
  {
   "cell_type": "markdown",
   "metadata": {},
   "source": [
    "### Seaborn\n",
    "\n",
    "This library is Python-only, does not have any interactivity, suits for publishing notebooks directly (without a webapp at all). It's easy to use with raw data (when no statistics are calculated yet), but because the data we have is already computed statistics, not so useful.\n",
    "\n",
    "Onhover behavior can be added with additional library [mplcursors](https://stackoverflow.com/a/61337574/9076659)"
   ]
  },
  {
   "cell_type": "code",
   "execution_count": 8,
   "metadata": {},
   "outputs": [],
   "source": [
    "import seaborn as sns\n",
    "import matplotlib.pyplot as plt\n",
    "\n",
    "sns.set_style(\"white\")"
   ]
  },
  {
   "cell_type": "code",
   "execution_count": 9,
   "metadata": {},
   "outputs": [
    {
     "data": {
      "text/html": [
       "<svg  width=\"550\" height=\"55\"><rect x=\"0\" y=\"0\" width=\"55\" height=\"55\" style=\"fill:#1f77b4;stroke-width:2;stroke:rgb(255,255,255)\"/><rect x=\"55\" y=\"0\" width=\"55\" height=\"55\" style=\"fill:#ff7f0e;stroke-width:2;stroke:rgb(255,255,255)\"/><rect x=\"110\" y=\"0\" width=\"55\" height=\"55\" style=\"fill:#2ca02c;stroke-width:2;stroke:rgb(255,255,255)\"/><rect x=\"165\" y=\"0\" width=\"55\" height=\"55\" style=\"fill:#d62728;stroke-width:2;stroke:rgb(255,255,255)\"/><rect x=\"220\" y=\"0\" width=\"55\" height=\"55\" style=\"fill:#9467bd;stroke-width:2;stroke:rgb(255,255,255)\"/><rect x=\"275\" y=\"0\" width=\"55\" height=\"55\" style=\"fill:#8c564b;stroke-width:2;stroke:rgb(255,255,255)\"/><rect x=\"330\" y=\"0\" width=\"55\" height=\"55\" style=\"fill:#e377c2;stroke-width:2;stroke:rgb(255,255,255)\"/><rect x=\"385\" y=\"0\" width=\"55\" height=\"55\" style=\"fill:#7f7f7f;stroke-width:2;stroke:rgb(255,255,255)\"/><rect x=\"440\" y=\"0\" width=\"55\" height=\"55\" style=\"fill:#bcbd22;stroke-width:2;stroke:rgb(255,255,255)\"/><rect x=\"495\" y=\"0\" width=\"55\" height=\"55\" style=\"fill:#17becf;stroke-width:2;stroke:rgb(255,255,255)\"/></svg>"
      ],
      "text/plain": [
       "[(0.12156862745098039, 0.4666666666666667, 0.7058823529411765),\n",
       " (1.0, 0.4980392156862745, 0.054901960784313725),\n",
       " (0.17254901960784313, 0.6274509803921569, 0.17254901960784313),\n",
       " (0.8392156862745098, 0.15294117647058825, 0.1568627450980392),\n",
       " (0.5803921568627451, 0.403921568627451, 0.7411764705882353),\n",
       " (0.5490196078431373, 0.33725490196078434, 0.29411764705882354),\n",
       " (0.8901960784313725, 0.4666666666666667, 0.7607843137254902),\n",
       " (0.4980392156862745, 0.4980392156862745, 0.4980392156862745),\n",
       " (0.7372549019607844, 0.7411764705882353, 0.13333333333333333),\n",
       " (0.09019607843137255, 0.7450980392156863, 0.8117647058823529)]"
      ]
     },
     "execution_count": 9,
     "metadata": {},
     "output_type": "execute_result"
    }
   ],
   "source": [
    "sns.color_palette()"
   ]
  },
  {
   "cell_type": "code",
   "execution_count": 10,
   "metadata": {},
   "outputs": [
    {
     "data": {
      "image/png": "[encoded data removed]",
      "text/plain": [
       "<Figure size 720x288 with 2 Axes>"
      ]
     },
     "metadata": {},
     "output_type": "display_data"
    }
   ],
   "source": [
    "# (failed attempt) tried to use seaborn in an easy way\n",
    "# the difficulty is seaborn expects raw data from\n",
    "# which it itself calculates the frequency, but we already have a frequency\n",
    "# the plot is not correct\n",
    "\n",
    "# histogram and KDE\n",
    "sns.displot(words_by_sentence, bins=75, kde=True, height=4, aspect=2.5)\n",
    "ax = plt.twinx() # add second y axis \n",
    "ax.set_xlim(0, 650)\n",
    "\n",
    "# CDF \n",
    "sns.kdeplot(\n",
    "    data=words_by_sentence, cumulative=True, \n",
    "    ax=ax, color=sns.color_palette()[3]\n",
    ")\n",
    "sns.despine(left=True, bottom=True)\n",
    "plt.show()"
   ]
  },
  {
   "cell_type": "code",
   "execution_count": 11,
   "metadata": {},
   "outputs": [
    {
     "data": {
      "image/png": "[encoded data removed]",
      "text/plain": [
       "<Figure size 1152x576 with 1 Axes>"
      ]
     },
     "metadata": {},
     "output_type": "display_data"
    }
   ],
   "source": [
    "# to be able to graph from existing frequency need to use bar chart\n",
    "plt.figure(figsize=(16,8))\n",
    "ax = sns.barplot(x=x, y=y, color=sns.color_palette()[0])\n",
    "sns.despine(left=True, bottom=True)\n",
    "plt.xlabel('Sentence length in words')\n",
    "plt.ylabel('Number of sentences')\n",
    "plt.show()"
   ]
  },
  {
   "cell_type": "markdown",
   "metadata": {},
   "source": [
    "### Chartify\n",
    "\n",
    "https://github.com/spotify/chartify\n",
    "\n",
    "Basically suffers from the same as seaborn - tries to compute everything itself, including frequency tables. [docs](https://chartify.readthedocs.io/en/latest/usage.html#chartify._core.plot.PlotNumericDensityXY). A downside is that the API for that library is very much unlike the one for matplotlib / seaborn, maybe because it's based on bokeh.\n",
    "\n",
    "From the upside - may be extended with bokeh when needed."
   ]
  },
  {
   "cell_type": "code",
   "execution_count": 12,
   "metadata": {},
   "outputs": [],
   "source": [
    "# a very simple usage does not work\n",
    "\n",
    "# import chartify\n",
    "\n",
    "# ch = chartify.Chart(x_axis_type='categorical')\n",
    "\n",
    "# ch.set_title(\"Title\")\n",
    "# ch.set_subtitle(\"Subtitle\")\n",
    "# ch.plot.bar(\n",
    "#     data_frame=pd.DataFrame(sentence_wc),\n",
    "# #     categorical_columns='fruit',\n",
    "# #     numeric_column='quantity',\n",
    "# #     categorical_order_by='labels',\n",
    "# #     categorical_order_ascending=True\n",
    "# )"
   ]
  },
  {
   "cell_type": "markdown",
   "metadata": {},
   "source": [
    "### Bokeh"
   ]
  },
  {
   "cell_type": "code",
   "execution_count": 28,
   "metadata": {},
   "outputs": [],
   "source": [
    "import numpy as np\n",
    "\n",
    "from bokeh.layouts import gridplot\n",
    "\n",
    "from bokeh.plotting import figure, show\n",
    "from bokeh.io import output_notebook, show\n",
    "\n",
    "from bokeh.models import LinearAxis, Range1d"
   ]
  },
  {
   "cell_type": "code",
   "execution_count": 14,
   "metadata": {},
   "outputs": [
    {
     "data": {
      "text/html": [
       "\n",
       "    <div class=\"bk-root\">\n",
       "        <a href=\"https://bokeh.org\" target=\"_blank\" class=\"bk-logo bk-logo-small bk-logo-notebook\"></a>\n",
       "        <span id=\"1001\">Loading BokehJS ...</span>\n",
       "    </div>"
      ]
     },
     "metadata": {},
     "output_type": "display_data"
    },
    {
     "data": {
      "application/javascript": [
       "\n",
       "(function(root) {\n",
       "  function now() {\n",
       "    return new Date();\n",
       "  }\n",
       "\n",
       "  var force = true;\n",
       "\n",
       "  if (typeof root._bokeh_onload_callbacks === \"undefined\" || force === true) {\n",
       "    root._bokeh_onload_callbacks = [];\n",
       "    root._bokeh_is_loading = undefined;\n",
       "  }\n",
       "\n",
       "  var JS_MIME_TYPE = 'application/javascript';\n",
       "  var HTML_MIME_TYPE = 'text/html';\n",
       "  var EXEC_MIME_TYPE = 'application/vnd.bokehjs_exec.v0+json';\n",
       "  var CLASS_NAME = 'output_bokeh rendered_html';\n",
       "\n",
       "  /**\n",
       "   * Render data to the DOM node\n",
       "   */\n",
       "  function render(props, node) {\n",
       "    var script = document.createElement(\"script\");\n",
       "    node.appendChild(script);\n",
       "  }\n",
       "\n",
       "  /**\n",
       "   * Handle when an output is cleared or removed\n",
       "   */\n",
       "  function handleClearOutput(event, handle) {\n",
       "    var cell = handle.cell;\n",
       "\n",
       "    var id = cell.output_area._bokeh_element_id;\n",
       "    var server_id = cell.output_area._bokeh_server_id;\n",
       "    // Clean up Bokeh references\n",
       "    if (id != null && id in Bokeh.index) {\n",
       "      Bokeh.index[id].model.document.clear();\n",
       "      delete Bokeh.index[id];\n",
       "    }\n",
       "\n",
       "    if (server_id !== undefined) {\n",
       "      // Clean up Bokeh references\n",
       "      var cmd = \"from bokeh.io.state import curstate; print(curstate().uuid_to_server['\" + server_id + \"'].get_sessions()[0].document.roots[0]._id)\";\n",
       "      cell.notebook.kernel.execute(cmd, {\n",
       "        iopub: {\n",
       "          output: function(msg) {\n",
       "            var id = msg.content.text.trim();\n",
       "            if (id in Bokeh.index) {\n",
       "              Bokeh.index[id].model.document.clear();\n",
       "              delete Bokeh.index[id];\n",
       "            }\n",
       "          }\n",
       "        }\n",
       "      });\n",
       "      // Destroy server and session\n",
       "      var cmd = \"import bokeh.io.notebook as ion; ion.destroy_server('\" + server_id + \"')\";\n",
       "      cell.notebook.kernel.execute(cmd);\n",
       "    }\n",
       "  }\n",
       "\n",
       "  /**\n",
       "   * Handle when a new output is added\n",
       "   */\n",
       "  function handleAddOutput(event, handle) {\n",
       "    var output_area = handle.output_area;\n",
       "    var output = handle.output;\n",
       "\n",
       "    // limit handleAddOutput to display_data with EXEC_MIME_TYPE content only\n",
       "    if ((output.output_type != \"display_data\") || (!output.data.hasOwnProperty(EXEC_MIME_TYPE))) {\n",
       "      return\n",
       "    }\n",
       "\n",
       "    var toinsert = output_area.element.find(\".\" + CLASS_NAME.split(' ')[0]);\n",
       "\n",
       "    if (output.metadata[EXEC_MIME_TYPE][\"id\"] !== undefined) {\n",
       "      toinsert[toinsert.length - 1].firstChild.textContent = output.data[JS_MIME_TYPE];\n",
       "      // store reference to embed id on output_area\n",
       "      output_area._bokeh_element_id = output.metadata[EXEC_MIME_TYPE][\"id\"];\n",
       "    }\n",
       "    if (output.metadata[EXEC_MIME_TYPE][\"server_id\"] !== undefined) {\n",
       "      var bk_div = document.createElement(\"div\");\n",
       "      bk_div.innerHTML = output.data[HTML_MIME_TYPE];\n",
       "      var script_attrs = bk_div.children[0].attributes;\n",
       "      for (var i = 0; i < script_attrs.length; i++) {\n",
       "        toinsert[toinsert.length - 1].firstChild.setAttribute(script_attrs[i].name, script_attrs[i].value);\n",
       "        toinsert[toinsert.length - 1].firstChild.textContent = bk_div.children[0].textContent\n",
       "      }\n",
       "      // store reference to server id on output_area\n",
       "      output_area._bokeh_server_id = output.metadata[EXEC_MIME_TYPE][\"server_id\"];\n",
       "    }\n",
       "  }\n",
       "\n",
       "  function register_renderer(events, OutputArea) {\n",
       "\n",
       "    function append_mime(data, metadata, element) {\n",
       "      // create a DOM node to render to\n",
       "      var toinsert = this.create_output_subarea(\n",
       "        metadata,\n",
       "        CLASS_NAME,\n",
       "        EXEC_MIME_TYPE\n",
       "      );\n",
       "      this.keyboard_manager.register_events(toinsert);\n",
       "      // Render to node\n",
       "      var props = {data: data, metadata: metadata[EXEC_MIME_TYPE]};\n",
       "      render(props, toinsert[toinsert.length - 1]);\n",
       "      element.append(toinsert);\n",
       "      return toinsert\n",
       "    }\n",
       "\n",
       "    /* Handle when an output is cleared or removed */\n",
       "    events.on('clear_output.CodeCell', handleClearOutput);\n",
       "    events.on('delete.Cell', handleClearOutput);\n",
       "\n",
       "    /* Handle when a new output is added */\n",
       "    events.on('output_added.OutputArea', handleAddOutput);\n",
       "\n",
       "    /**\n",
       "     * Register the mime type and append_mime function with output_area\n",
       "     */\n",
       "    OutputArea.prototype.register_mime_type(EXEC_MIME_TYPE, append_mime, {\n",
       "      /* Is output safe? */\n",
       "      safe: true,\n",
       "      /* Index of renderer in `output_area.display_order` */\n",
       "      index: 0\n",
       "    });\n",
       "  }\n",
       "\n",
       "  // register the mime type if in Jupyter Notebook environment and previously unregistered\n",
       "  if (root.Jupyter !== undefined) {\n",
       "    var events = require('base/js/events');\n",
       "    var OutputArea = require('notebook/js/outputarea').OutputArea;\n",
       "\n",
       "    if (OutputArea.prototype.mime_types().indexOf(EXEC_MIME_TYPE) == -1) {\n",
       "      register_renderer(events, OutputArea);\n",
       "    }\n",
       "  }\n",
       "\n",
       "  \n",
       "  if (typeof (root._bokeh_timeout) === \"undefined\" || force === true) {\n",
       "    root._bokeh_timeout = Date.now() + 5000;\n",
       "    root._bokeh_failed_load = false;\n",
       "  }\n",
       "\n",
       "  var NB_LOAD_WARNING = {'data': {'text/html':\n",
       "     \"<div style='background-color: #fdd'>\\n\"+\n",
       "     \"<p>\\n\"+\n",
       "     \"BokehJS does not appear to have successfully loaded. If loading BokehJS from CDN, this \\n\"+\n",
       "     \"may be due to a slow or bad network connection. Possible fixes:\\n\"+\n",
       "     \"</p>\\n\"+\n",
       "     \"<ul>\\n\"+\n",
       "     \"<li>re-rerun `output_notebook()` to attempt to load from CDN again, or</li>\\n\"+\n",
       "     \"<li>use INLINE resources instead, as so:</li>\\n\"+\n",
       "     \"</ul>\\n\"+\n",
       "     \"<code>\\n\"+\n",
       "     \"from bokeh.resources import INLINE\\n\"+\n",
       "     \"output_notebook(resources=INLINE)\\n\"+\n",
       "     \"</code>\\n\"+\n",
       "     \"</div>\"}};\n",
       "\n",
       "  function display_loaded() {\n",
       "    var el = document.getElementById(\"1001\");\n",
       "    if (el != null) {\n",
       "      el.textContent = \"BokehJS is loading...\";\n",
       "    }\n",
       "    if (root.Bokeh !== undefined) {\n",
       "      if (el != null) {\n",
       "        el.textContent = \"BokehJS \" + root.Bokeh.version + \" successfully loaded.\";\n",
       "      }\n",
       "    } else if (Date.now() < root._bokeh_timeout) {\n",
       "      setTimeout(display_loaded, 100)\n",
       "    }\n",
       "  }\n",
       "\n",
       "\n",
       "  function run_callbacks() {\n",
       "    try {\n",
       "      root._bokeh_onload_callbacks.forEach(function(callback) {\n",
       "        if (callback != null)\n",
       "          callback();\n",
       "      });\n",
       "    } finally {\n",
       "      delete root._bokeh_onload_callbacks\n",
       "    }\n",
       "    console.debug(\"Bokeh: all callbacks have finished\");\n",
       "  }\n",
       "\n",
       "  function load_libs(css_urls, js_urls, callback) {\n",
       "    if (css_urls == null) css_urls = [];\n",
       "    if (js_urls == null) js_urls = [];\n",
       "\n",
       "    root._bokeh_onload_callbacks.push(callback);\n",
       "    if (root._bokeh_is_loading > 0) {\n",
       "      console.debug(\"Bokeh: BokehJS is being loaded, scheduling callback at\", now());\n",
       "      return null;\n",
       "    }\n",
       "    if (js_urls == null || js_urls.length === 0) {\n",
       "      run_callbacks();\n",
       "      return null;\n",
       "    }\n",
       "    console.debug(\"Bokeh: BokehJS not loaded, scheduling load and callback at\", now());\n",
       "    root._bokeh_is_loading = css_urls.length + js_urls.length;\n",
       "\n",
       "    function on_load() {\n",
       "      root._bokeh_is_loading--;\n",
       "      if (root._bokeh_is_loading === 0) {\n",
       "        console.debug(\"Bokeh: all BokehJS libraries/stylesheets loaded\");\n",
       "        run_callbacks()\n",
       "      }\n",
       "    }\n",
       "\n",
       "    function on_error() {\n",
       "      console.error(\"failed to load \" + url);\n",
       "    }\n",
       "\n",
       "    for (var i = 0; i < css_urls.length; i++) {\n",
       "      var url = css_urls[i];\n",
       "      const element = document.createElement(\"link\");\n",
       "      element.onload = on_load;\n",
       "      element.onerror = on_error;\n",
       "      element.rel = \"stylesheet\";\n",
       "      element.type = \"text/css\";\n",
       "      element.href = url;\n",
       "      console.debug(\"Bokeh: injecting link tag for BokehJS stylesheet: \", url);\n",
       "      document.body.appendChild(element);\n",
       "    }\n",
       "\n",
       "    const hashes = {\"https://cdn.bokeh.org/bokeh/release/bokeh-2.2.3.min.js\": \"T2yuo9Oe71Cz/I4X9Ac5+gpEa5a8PpJCDlqKYO0CfAuEszu1JrXLl8YugMqYe3sM\", \"https://cdn.bokeh.org/bokeh/release/bokeh-widgets-2.2.3.min.js\": \"98GDGJ0kOMCUMUePhksaQ/GYgB3+NH9h996V88sh3aOiUNX3N+fLXAtry6xctSZ6\", \"https://cdn.bokeh.org/bokeh/release/bokeh-tables-2.2.3.min.js\": \"89bArO+nlbP3sgakeHjCo1JYxYR5wufVgA3IbUvDY+K7w4zyxJqssu7wVnfeKCq8\"};\n",
       "\n",
       "    for (var i = 0; i < js_urls.length; i++) {\n",
       "      var url = js_urls[i];\n",
       "      var element = document.createElement('script');\n",
       "      element.onload = on_load;\n",
       "      element.onerror = on_error;\n",
       "      element.async = false;\n",
       "      element.src = url;\n",
       "      if (url in hashes) {\n",
       "        element.crossOrigin = \"anonymous\";\n",
       "        element.integrity = \"sha384-\" + hashes[url];\n",
       "      }\n",
       "      console.debug(\"Bokeh: injecting script tag for BokehJS library: \", url);\n",
       "      document.head.appendChild(element);\n",
       "    }\n",
       "  };\n",
       "\n",
       "  function inject_raw_css(css) {\n",
       "    const element = document.createElement(\"style\");\n",
       "    element.appendChild(document.createTextNode(css));\n",
       "    document.body.appendChild(element);\n",
       "  }\n",
       "\n",
       "  \n",
       "  var js_urls = [\"https://cdn.bokeh.org/bokeh/release/bokeh-2.2.3.min.js\", \"https://cdn.bokeh.org/bokeh/release/bokeh-widgets-2.2.3.min.js\", \"https://cdn.bokeh.org/bokeh/release/bokeh-tables-2.2.3.min.js\"];\n",
       "  var css_urls = [];\n",
       "  \n",
       "\n",
       "  var inline_js = [\n",
       "    function(Bokeh) {\n",
       "      Bokeh.set_log_level(\"info\");\n",
       "    },\n",
       "    function(Bokeh) {\n",
       "    \n",
       "    \n",
       "    }\n",
       "  ];\n",
       "\n",
       "  function run_inline_js() {\n",
       "    \n",
       "    if (root.Bokeh !== undefined || force === true) {\n",
       "      \n",
       "    for (var i = 0; i < inline_js.length; i++) {\n",
       "      inline_js[i].call(root, root.Bokeh);\n",
       "    }\n",
       "    if (force === true) {\n",
       "        display_loaded();\n",
       "      }} else if (Date.now() < root._bokeh_timeout) {\n",
       "      setTimeout(run_inline_js, 100);\n",
       "    } else if (!root._bokeh_failed_load) {\n",
       "      console.log(\"Bokeh: BokehJS failed to load within specified timeout.\");\n",
       "      root._bokeh_failed_load = true;\n",
       "    } else if (force !== true) {\n",
       "      var cell = $(document.getElementById(\"1001\")).parents('.cell').data().cell;\n",
       "      cell.output_area.append_execute_result(NB_LOAD_WARNING)\n",
       "    }\n",
       "\n",
       "  }\n",
       "\n",
       "  if (root._bokeh_is_loading === 0) {\n",
       "    console.debug(\"Bokeh: BokehJS loaded, going straight to plotting\");\n",
       "    run_inline_js();\n",
       "  } else {\n",
       "    load_libs(css_urls, js_urls, function() {\n",
       "      console.debug(\"Bokeh: BokehJS plotting callback run at\", now());\n",
       "      run_inline_js();\n",
       "    });\n",
       "  }\n",
       "}(window));"
      ],
      "application/vnd.bokehjs_load.v0+json": "\n(function(root) {\n  function now() {\n    return new Date();\n  }\n\n  var force = true;\n\n  if (typeof root._bokeh_onload_callbacks === \"undefined\" || force === true) {\n    root._bokeh_onload_callbacks = [];\n    root._bokeh_is_loading = undefined;\n  }\n\n  \n\n  \n  if (typeof (root._bokeh_timeout) === \"undefined\" || force === true) {\n    root._bokeh_timeout = Date.now() + 5000;\n    root._bokeh_failed_load = false;\n  }\n\n  var NB_LOAD_WARNING = {'data': {'text/html':\n     \"<div style='background-color: #fdd'>\\n\"+\n     \"<p>\\n\"+\n     \"BokehJS does not appear to have successfully loaded. If loading BokehJS from CDN, this \\n\"+\n     \"may be due to a slow or bad network connection. Possible fixes:\\n\"+\n     \"</p>\\n\"+\n     \"<ul>\\n\"+\n     \"<li>re-rerun `output_notebook()` to attempt to load from CDN again, or</li>\\n\"+\n     \"<li>use INLINE resources instead, as so:</li>\\n\"+\n     \"</ul>\\n\"+\n     \"<code>\\n\"+\n     \"from bokeh.resources import INLINE\\n\"+\n     \"output_notebook(resources=INLINE)\\n\"+\n     \"</code>\\n\"+\n     \"</div>\"}};\n\n  function display_loaded() {\n    var el = document.getElementById(\"1001\");\n    if (el != null) {\n      el.textContent = \"BokehJS is loading...\";\n    }\n    if (root.Bokeh !== undefined) {\n      if (el != null) {\n        el.textContent = \"BokehJS \" + root.Bokeh.version + \" successfully loaded.\";\n      }\n    } else if (Date.now() < root._bokeh_timeout) {\n      setTimeout(display_loaded, 100)\n    }\n  }\n\n\n  function run_callbacks() {\n    try {\n      root._bokeh_onload_callbacks.forEach(function(callback) {\n        if (callback != null)\n          callback();\n      });\n    } finally {\n      delete root._bokeh_onload_callbacks\n    }\n    console.debug(\"Bokeh: all callbacks have finished\");\n  }\n\n  function load_libs(css_urls, js_urls, callback) {\n    if (css_urls == null) css_urls = [];\n    if (js_urls == null) js_urls = [];\n\n    root._bokeh_onload_callbacks.push(callback);\n    if (root._bokeh_is_loading > 0) {\n      console.debug(\"Bokeh: BokehJS is being loaded, scheduling callback at\", now());\n      return null;\n    }\n    if (js_urls == null || js_urls.length === 0) {\n      run_callbacks();\n      return null;\n    }\n    console.debug(\"Bokeh: BokehJS not loaded, scheduling load and callback at\", now());\n    root._bokeh_is_loading = css_urls.length + js_urls.length;\n\n    function on_load() {\n      root._bokeh_is_loading--;\n      if (root._bokeh_is_loading === 0) {\n        console.debug(\"Bokeh: all BokehJS libraries/stylesheets loaded\");\n        run_callbacks()\n      }\n    }\n\n    function on_error() {\n      console.error(\"failed to load \" + url);\n    }\n\n    for (var i = 0; i < css_urls.length; i++) {\n      var url = css_urls[i];\n      const element = document.createElement(\"link\");\n      element.onload = on_load;\n      element.onerror = on_error;\n      element.rel = \"stylesheet\";\n      element.type = \"text/css\";\n      element.href = url;\n      console.debug(\"Bokeh: injecting link tag for BokehJS stylesheet: \", url);\n      document.body.appendChild(element);\n    }\n\n    const hashes = {\"https://cdn.bokeh.org/bokeh/release/bokeh-2.2.3.min.js\": \"T2yuo9Oe71Cz/I4X9Ac5+gpEa5a8PpJCDlqKYO0CfAuEszu1JrXLl8YugMqYe3sM\", \"https://cdn.bokeh.org/bokeh/release/bokeh-widgets-2.2.3.min.js\": \"98GDGJ0kOMCUMUePhksaQ/GYgB3+NH9h996V88sh3aOiUNX3N+fLXAtry6xctSZ6\", \"https://cdn.bokeh.org/bokeh/release/bokeh-tables-2.2.3.min.js\": \"89bArO+nlbP3sgakeHjCo1JYxYR5wufVgA3IbUvDY+K7w4zyxJqssu7wVnfeKCq8\"};\n\n    for (var i = 0; i < js_urls.length; i++) {\n      var url = js_urls[i];\n      var element = document.createElement('script');\n      element.onload = on_load;\n      element.onerror = on_error;\n      element.async = false;\n      element.src = url;\n      if (url in hashes) {\n        element.crossOrigin = \"anonymous\";\n        element.integrity = \"sha384-\" + hashes[url];\n      }\n      console.debug(\"Bokeh: injecting script tag for BokehJS library: \", url);\n      document.head.appendChild(element);\n    }\n  };\n\n  function inject_raw_css(css) {\n    const element = document.createElement(\"style\");\n    element.appendChild(document.createTextNode(css));\n    document.body.appendChild(element);\n  }\n\n  \n  var js_urls = [\"https://cdn.bokeh.org/bokeh/release/bokeh-2.2.3.min.js\", \"https://cdn.bokeh.org/bokeh/release/bokeh-widgets-2.2.3.min.js\", \"https://cdn.bokeh.org/bokeh/release/bokeh-tables-2.2.3.min.js\"];\n  var css_urls = [];\n  \n\n  var inline_js = [\n    function(Bokeh) {\n      Bokeh.set_log_level(\"info\");\n    },\n    function(Bokeh) {\n    \n    \n    }\n  ];\n\n  function run_inline_js() {\n    \n    if (root.Bokeh !== undefined || force === true) {\n      \n    for (var i = 0; i < inline_js.length; i++) {\n      inline_js[i].call(root, root.Bokeh);\n    }\n    if (force === true) {\n        display_loaded();\n      }} else if (Date.now() < root._bokeh_timeout) {\n      setTimeout(run_inline_js, 100);\n    } else if (!root._bokeh_failed_load) {\n      console.log(\"Bokeh: BokehJS failed to load within specified timeout.\");\n      root._bokeh_failed_load = true;\n    } else if (force !== true) {\n      var cell = $(document.getElementById(\"1001\")).parents('.cell').data().cell;\n      cell.output_area.append_execute_result(NB_LOAD_WARNING)\n    }\n\n  }\n\n  if (root._bokeh_is_loading === 0) {\n    console.debug(\"Bokeh: BokehJS loaded, going straight to plotting\");\n    run_inline_js();\n  } else {\n    load_libs(css_urls, js_urls, function() {\n      console.debug(\"Bokeh: BokehJS plotting callback run at\", now());\n      run_inline_js();\n    });\n  }\n}(window));"
     },
     "metadata": {},
     "output_type": "display_data"
    }
   ],
   "source": [
    "output_notebook()"
   ]
  },
  {
   "cell_type": "code",
   "execution_count": 15,
   "metadata": {},
   "outputs": [
    {
     "data": {
      "text/html": [
       "\n",
       "\n",
       "\n",
       "\n",
       "\n",
       "\n",
       "  <div class=\"bk-root\" id=\"1f630e61-f25d-476c-b721-11c56115ece8\" data-root-id=\"1072\"></div>\n"
      ]
     },
     "metadata": {},
     "output_type": "display_data"
    },
    {
     "data": {
      "application/javascript": [
       "(function(root) {\n",
       "  function embed_document(root) {\n",
       "    \n",
       "  var docs_json = {\"8b4514ea-2a76-44ae-b680-3b01f0fe7149\":{\"roots\":{\"references\":[{\"attributes\":{\"children\":[[{\"id\":\"1002\"},0,0]]},\"id\":\"1072\",\"type\":\"GridBox\"},{\"attributes\":{\"data\":{\"x\":{\"__ndarray__\":\"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\",\"dtype\":\"float64\",\"order\":\"little\",\"shape\":[1000]},\"y\":{\"__ndarray__\":\"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\",\"dtype\":\"float64\",\"order\":\"little\",\"shape\":[1000]}},\"selected\":{\"id\":\"1039\"},\"selection_policy\":{\"id\":\"1040\"}},\"id\":\"1027\",\"type\":\"ColumnDataSource\"},{\"attributes\":{},\"id\":\"1014\",\"type\":\"BasicTicker\"},{\"attributes\":{\"data_source\":{\"id\":\"1043\"},\"glyph\":{\"id\":\"1044\"},\"hover_glyph\":null,\"muted_glyph\":null,\"nonselection_glyph\":{\"id\":\"1045\"},\"selection_glyph\":null,\"view\":{\"id\":\"1047\"}},\"id\":\"1046\",\"type\":\"GlyphRenderer\"},{\"attributes\":{\"source\":{\"id\":\"1022\"}},\"id\":\"1026\",\"type\":\"CDSView\"},{\"attributes\":{\"data_source\":{\"id\":\"1027\"},\"glyph\":{\"id\":\"1028\"},\"hover_glyph\":null,\"muted_glyph\":null,\"nonselection_glyph\":{\"id\":\"1029\"},\"selection_glyph\":null,\"view\":{\"id\":\"1031\"}},\"id\":\"1030\",\"type\":\"GlyphRenderer\"},{\"attributes\":{\"line_alpha\":0.7,\"line_color\":\"orange\",\"line_width\":2,\"x\":{\"field\":\"x\"},\"y\":{\"field\":\"y\"}},\"id\":\"1044\",\"type\":\"Line\"},{\"attributes\":{\"source\":{\"id\":\"1027\"}},\"id\":\"1031\",\"type\":\"CDSView\"},{\"attributes\":{\"line_alpha\":0.7,\"line_color\":\"#ff8888\",\"line_width\":4,\"x\":{\"field\":\"x\"},\"y\":{\"field\":\"y\"}},\"id\":\"1028\",\"type\":\"Line\"},{\"attributes\":{\"axis_label\":\"x\",\"formatter\":{\"id\":\"1035\"},\"ticker\":{\"id\":\"1014\"}},\"id\":\"1013\",\"type\":\"LinearAxis\"},{\"attributes\":{\"background_fill_color\":\"#fafafa\",\"below\":[{\"id\":\"1013\"}],\"center\":[{\"id\":\"1016\"},{\"id\":\"1020\"},{\"id\":\"1041\"}],\"left\":[{\"id\":\"1017\"}],\"plot_height\":400,\"plot_width\":400,\"renderers\":[{\"id\":\"1025\"},{\"id\":\"1030\"},{\"id\":\"1046\"}],\"title\":{\"id\":\"1003\"},\"toolbar\":{\"id\":\"1021\"},\"toolbar_location\":null,\"x_range\":{\"id\":\"1005\"},\"x_scale\":{\"id\":\"1009\"},\"y_range\":{\"id\":\"1007\"},\"y_scale\":{\"id\":\"1011\"}},\"id\":\"1002\",\"subtype\":\"Figure\",\"type\":\"Plot\"},{\"attributes\":{\"data\":{\"x\":{\"__ndarray__\":\"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\",\"dtype\":\"float64\",\"order\":\"little\",\"shape\":[1000]},\"y\":{\"__ndarray__\":\"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\",\"dtype\":\"float64\",\"order\":\"little\",\"shape\":[1000]}},\"selected\":{\"id\":\"1057\"},\"selection_policy\":{\"id\":\"1058\"}},\"id\":\"1043\",\"type\":\"ColumnDataSource\"},{\"attributes\":{\"data\":{\"left\":{\"__ndarray__\":\"WZjLGJaZ+r9nHCvL1pr5v3agin0XnPi/hCTqL1id97+TqEnimJ72v6EsqZTZn/W/sLAIRxqh9L++NGj5WqLzv8y4x6ubo/K/2jwnXtyk8b/pwIYQHabwv++JzIW7Tu+/DJKL6jxR7b8pmkpPvlPrv0WiCbQ/Vum/YqrIGMFY579/sod9Qlvlv5y6RuLDXeO/uMIFR0Vg4b+slYlXjcXev+SlByGQytq/ILaF6pLP1r9YxgO0ldTSvyCtA/sws82/mM3/jTa9xb8Q3PdBeI67vwA64M8GRae/gIheyMUlkT9AYR9MZjW0PyiQE5OtEMI/uG8XAKgGyj+gp402Uf7QP2iXD21O+dQ/LIeRo0v02D/0dhPaSO/cP16zSggjdeA/QquLo6Fy4j8io8w+IHDkPwabDdqebeY/6pJOdR1r6D/Oio8QnGjqP7KC0KsaZuw/knoRR5lj7j87OSnxizDwPy21yT5LL/E/HzFqjAou8j8RrQraySzzPwEpqyeJK/Q/86RLdUgq9T/lIOzCByn2Pw==\",\"dtype\":\"float64\",\"order\":\"little\",\"shape\":[50]},\"right\":{\"__ndarray__\":\"Zxwry9aa+b92oIp9F5z4v4Qk6i9Ynfe/k6hJ4pie9r+hLKmU2Z/1v7CwCEcaofS/vjRo+Vqi87/MuMerm6Pyv9o8J17cpPG/6cCGEB2m8L/vicyFu07vvwySi+o8Ue2/KZpKT75T679Fogm0P1bpv2KqyBjBWOe/f7KHfUJb5b+cukbiw13jv7jCBUdFYOG/rJWJV43F3r/kpQchkMravyC2heqSz9a/WMYDtJXU0r8grQP7MLPNv5jN/402vcW/ENz3QXiOu78AOuDPBkWnv4CIXsjFJZE/QGEfTGY1tD8okBOTrRDCP7hvFwCoBso/oKeNNlH+0D9olw9tTvnUPyyHkaNL9Ng/9HYT2kjv3D9es0oII3XgP0Kri6OhcuI/IqPMPiBw5D8Gmw3anm3mP+qSTnUda+g/zoqPEJxo6j+ygtCrGmbsP5J6EUeZY+4/Ozkp8Ysw8D8ttck+Sy/xPx8xaowKLvI/Ea0K2sks8z8BKasniSv0P/OkS3VIKvU/5SDswgcp9j/XnIwQxyf3Pw==\",\"dtype\":\"float64\",\"order\":\"little\",\"shape\":[50]},\"top\":{\"__ndarray__\":\"30c69e12kD8AAAAAAAAAAAAAAAAAAAAAAAAAAAAAAADfRzr17XaQP/BHOvXtdqA/30c69e12oD/Pa9fvZLKoP99HOvXtdqA/8Ec69e12wD/h2YhyqZTEP9tr1+9kssg/4dmIcqmUxD/X2YhyqZTEP9NGzSv+3s4/5JDhs8uF0j/nRzr17XbQP8NGzSv+3t4/ZxArz9O52T+dvjdEFALiP/BHOvXtduA/EvXZoD4n5z+QmS2ArS7oP+oiMDGHo+Y/kJktgK0u6D+lK3z9aEzsP0lZ0o2xyOs/SVnSjbHI6z8srDLiYBjlP9fZiHKplOQ/7pDhs8uF4j9VftxRGJzlPy1jiyODCeM/RaJ5TI/X3T+ZB98C8hDkP13sjdRcfuE/gVnSjbHI2z/LtH6uQsHaP8NGzSv+3s4/w0bNK/7ezj/TIjAxh6PGPwEjMDGHo8Y/x/0lbSDQvD/Pa9fvZLKoP99HOvXtdqA/30c69e12oD8BSDr17XaQPwAAAAAAAAAA30c69e12kD/Pa9fvZLKoPw==\",\"dtype\":\"float64\",\"order\":\"little\",\"shape\":[50]}},\"selected\":{\"id\":\"1037\"},\"selection_policy\":{\"id\":\"1038\"}},\"id\":\"1022\",\"type\":\"ColumnDataSource\"},{\"attributes\":{\"line_alpha\":0.1,\"line_color\":\"#ff8888\",\"line_width\":4,\"x\":{\"field\":\"x\"},\"y\":{\"field\":\"y\"}},\"id\":\"1029\",\"type\":\"Line\"},{\"attributes\":{\"source\":{\"id\":\"1043\"}},\"id\":\"1047\",\"type\":\"CDSView\"},{\"attributes\":{\"axis_label\":\"Pr(x)\",\"formatter\":{\"id\":\"1033\"},\"ticker\":{\"id\":\"1018\"}},\"id\":\"1017\",\"type\":\"LinearAxis\"},{\"attributes\":{\"line_alpha\":0.1,\"line_color\":\"orange\",\"line_width\":2,\"x\":{\"field\":\"x\"},\"y\":{\"field\":\"y\"}},\"id\":\"1045\",\"type\":\"Line\"},{\"attributes\":{},\"id\":\"1037\",\"type\":\"Selection\"},{\"attributes\":{\"label\":{\"value\":\"PDF\"},\"renderers\":[{\"id\":\"1030\"}]},\"id\":\"1042\",\"type\":\"LegendItem\"},{\"attributes\":{\"text\":\"Normal Distribution (\\u03bc=0, \\u03c3=0.5)\"},\"id\":\"1003\",\"type\":\"Title\"},{\"attributes\":{\"bottom\":{\"value\":0},\"fill_alpha\":{\"value\":0.5},\"fill_color\":{\"value\":\"navy\"},\"left\":{\"field\":\"left\"},\"line_alpha\":{\"value\":0.5},\"line_color\":{\"value\":\"white\"},\"right\":{\"field\":\"right\"},\"top\":{\"field\":\"top\"}},\"id\":\"1023\",\"type\":\"Quad\"},{\"attributes\":{\"background_fill_color\":\"#fefefe\",\"items\":[{\"id\":\"1042\"},{\"id\":\"1059\"}],\"location\":\"center_right\"},\"id\":\"1041\",\"type\":\"Legend\"},{\"attributes\":{},\"id\":\"1038\",\"type\":\"UnionRenderers\"},{\"attributes\":{},\"id\":\"1005\",\"type\":\"DataRange1d\"},{\"attributes\":{\"label\":{\"value\":\"CDF\"},\"renderers\":[{\"id\":\"1046\"}]},\"id\":\"1059\",\"type\":\"LegendItem\"},{\"attributes\":{},\"id\":\"1009\",\"type\":\"LinearScale\"},{\"attributes\":{\"start\":0},\"id\":\"1007\",\"type\":\"DataRange1d\"},{\"attributes\":{},\"id\":\"1011\",\"type\":\"LinearScale\"},{\"attributes\":{},\"id\":\"1057\",\"type\":\"Selection\"},{\"attributes\":{\"axis\":{\"id\":\"1013\"},\"grid_line_color\":\"white\",\"ticker\":null},\"id\":\"1016\",\"type\":\"Grid\"},{\"attributes\":{},\"id\":\"1058\",\"type\":\"UnionRenderers\"},{\"attributes\":{\"axis\":{\"id\":\"1017\"},\"dimension\":1,\"grid_line_color\":\"white\",\"ticker\":null},\"id\":\"1020\",\"type\":\"Grid\"},{\"attributes\":{},\"id\":\"1018\",\"type\":\"BasicTicker\"},{\"attributes\":{},\"id\":\"1039\",\"type\":\"Selection\"},{\"attributes\":{\"active_drag\":\"auto\",\"active_inspect\":\"auto\",\"active_multi\":null,\"active_scroll\":\"auto\",\"active_tap\":\"auto\"},\"id\":\"1021\",\"type\":\"Toolbar\"},{\"attributes\":{},\"id\":\"1033\",\"type\":\"BasicTickFormatter\"},{\"attributes\":{},\"id\":\"1040\",\"type\":\"UnionRenderers\"},{\"attributes\":{\"bottom\":{\"value\":0},\"fill_alpha\":{\"value\":0.1},\"fill_color\":{\"value\":\"navy\"},\"left\":{\"field\":\"left\"},\"line_alpha\":{\"value\":0.1},\"line_color\":{\"value\":\"white\"},\"right\":{\"field\":\"right\"},\"top\":{\"field\":\"top\"}},\"id\":\"1024\",\"type\":\"Quad\"},{\"attributes\":{\"data_source\":{\"id\":\"1022\"},\"glyph\":{\"id\":\"1023\"},\"hover_glyph\":null,\"muted_glyph\":null,\"nonselection_glyph\":{\"id\":\"1024\"},\"selection_glyph\":null,\"view\":{\"id\":\"1026\"}},\"id\":\"1025\",\"type\":\"GlyphRenderer\"},{\"attributes\":{},\"id\":\"1035\",\"type\":\"BasicTickFormatter\"}],\"root_ids\":[\"1072\"]},\"title\":\"Bokeh Application\",\"version\":\"2.2.3\"}};\n",
       "  var render_items = [{\"docid\":\"8b4514ea-2a76-44ae-b680-3b01f0fe7149\",\"root_ids\":[\"1072\"],\"roots\":{\"1072\":\"1f630e61-f25d-476c-b721-11c56115ece8\"}}];\n",
       "  root.Bokeh.embed.embed_items_notebook(docs_json, render_items);\n",
       "\n",
       "  }\n",
       "  if (root.Bokeh !== undefined) {\n",
       "    embed_document(root);\n",
       "  } else {\n",
       "    var attempts = 0;\n",
       "    var timer = setInterval(function(root) {\n",
       "      if (root.Bokeh !== undefined) {\n",
       "        clearInterval(timer);\n",
       "        embed_document(root);\n",
       "      } else {\n",
       "        attempts++;\n",
       "        if (attempts > 100) {\n",
       "          clearInterval(timer);\n",
       "          console.log(\"Bokeh: ERROR: Unable to run BokehJS code because BokehJS library is missing\");\n",
       "        }\n",
       "      }\n",
       "    }, 10, root)\n",
       "  }\n",
       "})(window);"
      ],
      "application/vnd.bokehjs_exec.v0+json": ""
     },
     "metadata": {
      "application/vnd.bokehjs_exec.v0+json": {
       "id": "1072"
      }
     },
     "output_type": "display_data"
    }
   ],
   "source": [
    "# example from https://docs.bokeh.org/en/latest/docs/gallery/histogram.html\n",
    "\n",
    "import scipy.special\n",
    "\n",
    "def make_plot(title, hist, edges, x, pdf, cdf):\n",
    "    p = figure(title=title, tools='', background_fill_color=\"#fafafa\")\n",
    "    p.quad(top=hist, bottom=0, left=edges[:-1], right=edges[1:],\n",
    "           fill_color=\"navy\", line_color=\"white\", alpha=0.5)\n",
    "    p.line(x, pdf, line_color=\"#ff8888\", line_width=4, alpha=0.7, legend_label=\"PDF\")\n",
    "    p.line(x, cdf, line_color=\"orange\", line_width=2, alpha=0.7, legend_label=\"CDF\")\n",
    "\n",
    "    p.y_range.start = 0\n",
    "    p.legend.location = \"center_right\"\n",
    "    p.legend.background_fill_color = \"#fefefe\"\n",
    "    p.xaxis.axis_label = 'x'\n",
    "    p.yaxis.axis_label = 'Pr(x)'\n",
    "    p.grid.grid_line_color=\"white\"\n",
    "    return p\n",
    "\n",
    "# Normal Distribution\n",
    "\n",
    "mu, sigma = 0, 0.5\n",
    "\n",
    "measured = np.random.normal(mu, sigma, 1000)\n",
    "hist, edges = np.histogram(measured, density=True, bins=50)\n",
    "\n",
    "x = np.linspace(-2, 2, 1000)\n",
    "pdf = 1/(sigma * np.sqrt(2*np.pi)) * np.exp(-(x-mu)**2 / (2*sigma**2))\n",
    "cdf = (1+scipy.special.erf((x-mu)/np.sqrt(2*sigma**2)))/2\n",
    "\n",
    "p1 = make_plot(\"Normal Distribution (μ=0, σ=0.5)\", hist, edges, x, pdf, cdf)\n",
    "\n",
    "show(gridplot([p1], ncols=2, plot_width=400, plot_height=400, toolbar_location=None))"
   ]
  },
  {
   "cell_type": "code",
   "execution_count": 29,
   "metadata": {},
   "outputs": [
    {
     "name": "stderr",
     "output_type": "stream",
     "text": [
      "BokehUserWarning: ColumnDataSource's columns must be of the same length. Current lengths: ('left', 80), ('top', 40)\n",
      "BokehUserWarning: ColumnDataSource's columns must be of the same length. Current lengths: ('left', 80), ('right', 80), ('top', 40)\n"
     ]
    },
    {
     "data": {
      "text/html": [
       "\n",
       "\n",
       "\n",
       "\n",
       "\n",
       "\n",
       "  <div class=\"bk-root\" id=\"5dbc11a8-2b14-4893-9c5c-c0b756a705ed\" data-root-id=\"1602\"></div>\n"
      ]
     },
     "metadata": {},
     "output_type": "display_data"
    },
    {
     "data": {
      "application/javascript": [
       "(function(root) {\n",
       "  function embed_document(root) {\n",
       "    \n",
       "  var docs_json = {\"883610aa-f2d3-4fe9-88d4-c65c6e131a59\":{\"roots\":{\"references\":[{\"attributes\":{\"background_fill_color\":\"#fafafa\",\"below\":[{\"id\":\"1613\"}],\"center\":[{\"id\":\"1616\"},{\"id\":\"1620\"},{\"id\":\"1642\"}],\"extra_y_ranges\":{\"foo\":{\"id\":\"1627\"}},\"left\":[{\"id\":\"1617\"}],\"renderers\":[{\"id\":\"1625\"},{\"id\":\"1631\"},{\"id\":\"1647\"}],\"title\":{\"id\":\"1603\"},\"toolbar\":{\"id\":\"1621\"},\"x_range\":{\"id\":\"1605\"},\"x_scale\":{\"id\":\"1609\"},\"y_range\":{\"id\":\"1607\"},\"y_scale\":{\"id\":\"1611\"}},\"id\":\"1602\",\"subtype\":\"Figure\",\"type\":\"Plot\"},{\"attributes\":{},\"id\":\"1636\",\"type\":\"BasicTickFormatter\"},{\"attributes\":{},\"id\":\"1641\",\"type\":\"UnionRenderers\"},{\"attributes\":{\"axis\":{\"id\":\"1613\"},\"grid_line_color\":\"white\",\"ticker\":null},\"id\":\"1616\",\"type\":\"Grid\"},{\"attributes\":{\"bottom\":{\"value\":0},\"fill_alpha\":{\"value\":0.1},\"fill_color\":{\"value\":\"navy\"},\"left\":{\"field\":\"left\"},\"line_alpha\":{\"value\":0.1},\"line_color\":{\"value\":\"white\"},\"right\":{\"field\":\"right\"},\"top\":{\"field\":\"top\"}},\"id\":\"1624\",\"type\":\"Quad\"},{\"attributes\":{\"source\":{\"id\":\"1622\"}},\"id\":\"1626\",\"type\":\"CDSView\"},{\"attributes\":{},\"id\":\"1639\",\"type\":\"UnionRenderers\"},{\"attributes\":{},\"id\":\"1640\",\"type\":\"Selection\"},{\"attributes\":{\"line_alpha\":0.7,\"line_color\":\"#ff8888\",\"line_width\":4,\"x\":{\"field\":\"x\"},\"y\":{\"field\":\"y\"}},\"id\":\"1629\",\"type\":\"Line\"},{\"attributes\":{\"background_fill_color\":\"#fefefe\",\"items\":[{\"id\":\"1643\"},{\"id\":\"1660\"}],\"location\":\"center_right\"},\"id\":\"1642\",\"type\":\"Legend\"},{\"attributes\":{},\"id\":\"1638\",\"type\":\"Selection\"},{\"attributes\":{\"data_source\":{\"id\":\"1622\"},\"glyph\":{\"id\":\"1623\"},\"hover_glyph\":null,\"muted_glyph\":null,\"nonselection_glyph\":{\"id\":\"1624\"},\"selection_glyph\":null,\"view\":{\"id\":\"1626\"}},\"id\":\"1625\",\"type\":\"GlyphRenderer\"},{\"attributes\":{},\"id\":\"1618\",\"type\":\"BasicTicker\"},{\"attributes\":{},\"id\":\"1634\",\"type\":\"BasicTickFormatter\"},{\"attributes\":{\"axis_label\":\"x\",\"formatter\":{\"id\":\"1636\"},\"ticker\":{\"id\":\"1614\"}},\"id\":\"1613\",\"type\":\"LinearAxis\"},{\"attributes\":{\"source\":{\"id\":\"1628\"}},\"id\":\"1632\",\"type\":\"CDSView\"},{\"attributes\":{\"data_source\":{\"id\":\"1644\"},\"glyph\":{\"id\":\"1645\"},\"hover_glyph\":null,\"muted_glyph\":null,\"nonselection_glyph\":{\"id\":\"1646\"},\"selection_glyph\":null,\"view\":{\"id\":\"1648\"}},\"id\":\"1647\",\"type\":\"GlyphRenderer\"},{\"attributes\":{},\"id\":\"1605\",\"type\":\"DataRange1d\"},{\"attributes\":{\"data\":{\"x\":[1,2,3,4,5,6,7,8,9,10,11,12,13,14,15,16,17,18,19,20,21,22,23,24,25,26,27,28,29,30,31,32,33,34,35,37,40,43,44,75],\"y\":{\"__ndarray__\":\"1jroNrSkuz+1tMDimIoxP/2H0PuAGEo+NUgJOt/ABj3a1bRGaEFnOwU7QFiV3Gs552Rd02mQEzdArA2CcxpgNGKd/tYME08xpGUwVYyS4S090erE8ksXKkvekRsfGvIl+3LJSuF8cCHQzTpig5qRHISBWBcECFYXc63w+A8pwBE/MxA1XMrLC1YxEnWJAnwFCnG9CAEAAAAAAAAAAAAAAAAAAAAAAAAAAAAAAAAAAAAAAAAAAAAAAAAAAAAAAAAAAAAAAAAAAAAAAAAAAAAAAAAAAAAAAAAAAAAAAAAAAAAAAAAAAAAAAAAAAAAAAAAAAAAAAAAAAAAAAAAAAAAAAAAAAAAAAAAAAAAAAAAAAAAAAAAAAAAAAAAAAAAAAAAAAAAAAAAAAAAAAAAAAAAAAAAAAAAAAAAAAAAAAAAAAAA=\",\"dtype\":\"float64\",\"order\":\"little\",\"shape\":[40]}},\"selected\":{\"id\":\"1640\"},\"selection_policy\":{\"id\":\"1641\"}},\"id\":\"1628\",\"type\":\"ColumnDataSource\"},{\"attributes\":{\"line_alpha\":0.1,\"line_color\":\"#ff8888\",\"line_width\":4,\"x\":{\"field\":\"x\"},\"y\":{\"field\":\"y\"}},\"id\":\"1630\",\"type\":\"Line\"},{\"attributes\":{\"line_alpha\":0.7,\"line_color\":\"orange\",\"line_width\":2,\"x\":{\"field\":\"x\"},\"y\":{\"field\":\"y\"}},\"id\":\"1645\",\"type\":\"Line\"},{\"attributes\":{},\"id\":\"1627\",\"type\":\"Range1d\"},{\"attributes\":{\"data\":{\"left\":{\"__ndarray__\":\"AAAAAAAA8D/NzMzMzMz+P83MzMzMzAZANDMzMzMzDkDNzMzMzMwSQAAAAAAAgBZANDMzMzMzGkBnZmZmZuYdQM3MzMzMzCBAZ2ZmZmamIkAAAAAAAIAkQJqZmZmZWSZANDMzMzMzKEDNzMzMzAwqQGdmZmZm5itAAAAAAADALUCamZmZmZkvQJqZmZmZuTBAZ2ZmZmamMUAzMzMzM5MyQAAAAAAAgDNAzczMzMxsNECamZmZmVk1QGdmZmZmRjZANDMzMzMzN0AAAAAAACA4QM3MzMzMDDlAmpmZmZn5OUBnZmZmZuY6QDQzMzMz0ztAAAAAAADAPEDNzMzMzKw9QJqZmZmZmT5AZ2ZmZmaGP0CamZmZmTlAQAAAAAAAsEBAZ2ZmZmYmQUDNzMzMzJxBQDMzMzMzE0JAmpmZmZmJQkAAAAAAAABDQGdmZmZmdkNAzczMzMzsQ0AzMzMzM2NEQJqZmZmZ2URAAAAAAABQRUBnZmZmZsZFQM3MzMzMPEZANDMzMzOzRkCamZmZmSlHQAAAAAAAoEdAZ2ZmZmYWSEDNzMzMzIxIQDQzMzMzA0lAmpmZmZl5SUAAAAAAAPBJQGdmZmZmZkpAzczMzMzcSkA0MzMzM1NLQJqZmZmZyUtAAAAAAABATEBnZmZmZrZMQM3MzMzMLE1ANDMzMzOjTUCamZmZmRlOQAAAAAAAkE5AZ2ZmZmYGT0DNzMzMzHxPQDQzMzMz809AzczMzMw0UEAAAAAAAHBQQDMzMzMzq1BAZ2ZmZmbmUECamZmZmSFRQM3MzMzMXFFAAAAAAACYUUAzMzMzM9NRQGdmZmZmDlJAmpmZmZlJUkDNzMzMzIRSQA==\",\"dtype\":\"float64\",\"order\":\"little\",\"shape\":[80]},\"right\":{\"__ndarray__\":\"zczMzMzM/j/NzMzMzMwGQDQzMzMzMw5AzczMzMzMEkAAAAAAAIAWQDQzMzMzMxpAZ2ZmZmbmHUDNzMzMzMwgQGdmZmZmpiJAAAAAAACAJECamZmZmVkmQDQzMzMzMyhAzczMzMwMKkBnZmZmZuYrQAAAAAAAwC1AmpmZmZmZL0CamZmZmbkwQGdmZmZmpjFAMzMzMzOTMkAAAAAAAIAzQM3MzMzMbDRAmpmZmZlZNUBnZmZmZkY2QDQzMzMzMzdAAAAAAAAgOEDNzMzMzAw5QJqZmZmZ+TlAZ2ZmZmbmOkA0MzMzM9M7QAAAAAAAwDxAzczMzMysPUCamZmZmZk+QGdmZmZmhj9AmpmZmZk5QEAAAAAAALBAQGdmZmZmJkFAzczMzMycQUAzMzMzMxNCQJqZmZmZiUJAAAAAAAAAQ0BnZmZmZnZDQM3MzMzM7ENAMzMzMzNjRECamZmZmdlEQAAAAAAAUEVAZ2ZmZmbGRUDNzMzMzDxGQDQzMzMzs0ZAmpmZmZkpR0AAAAAAAKBHQGdmZmZmFkhAzczMzMyMSEA0MzMzMwNJQJqZmZmZeUlAAAAAAADwSUBnZmZmZmZKQM3MzMzM3EpANDMzMzNTS0CamZmZmclLQAAAAAAAQExAZ2ZmZma2TEDNzMzMzCxNQDQzMzMzo01AmpmZmZkZTkAAAAAAAJBOQGdmZmZmBk9AzczMzMx8T0A0MzMzM/NPQM3MzMzMNFBAAAAAAABwUEAzMzMzM6tQQGdmZmZm5lBAmpmZmZkhUUDNzMzMzFxRQAAAAAAAmFFAMzMzMzPTUUBnZmZmZg5SQJqZmZmZSVJAzczMzMyEUkAAAAAAAMBSQA==\",\"dtype\":\"float64\",\"order\":\"little\",\"shape\":[80]},\"top\":[470,607,564,542,459,406,336,269,229,185,156,106,90,73,59,44,33,32,18,19,3,13,10,6,8,7,1,3,2,2,2,1,2,1,1,1,1,1,1,1]},\"selected\":{\"id\":\"1638\"},\"selection_policy\":{\"id\":\"1639\"}},\"id\":\"1622\",\"type\":\"ColumnDataSource\"},{\"attributes\":{\"axis_label\":\"Pr(x)\",\"formatter\":{\"id\":\"1634\"},\"ticker\":{\"id\":\"1618\"}},\"id\":\"1617\",\"type\":\"LinearAxis\"},{\"attributes\":{\"label\":{\"value\":\"PDF\"},\"renderers\":[{\"id\":\"1631\"}]},\"id\":\"1643\",\"type\":\"LegendItem\"},{\"attributes\":{\"active_drag\":\"auto\",\"active_inspect\":\"auto\",\"active_multi\":null,\"active_scroll\":\"auto\",\"active_tap\":\"auto\"},\"id\":\"1621\",\"type\":\"Toolbar\"},{\"attributes\":{\"start\":0},\"id\":\"1607\",\"type\":\"DataRange1d\"},{\"attributes\":{\"axis\":{\"id\":\"1617\"},\"dimension\":1,\"grid_line_color\":\"white\",\"ticker\":null},\"id\":\"1620\",\"type\":\"Grid\"},{\"attributes\":{\"data\":{\"x\":[1,2,3,4,5,6,7,8,9,10,11,12,13,14,15,16,17,18,19,20,21,22,23,24,25,26,27,28,29,30,31,32,33,34,35,37,40,43,44,75],\"y\":{\"__ndarray__\":\"PbHpg6FF7z/UqqGUvf/vP4hneP///+8/+v//////7z8AAAAAAADwPwAAAAAAAPA/AAAAAAAA8D8AAAAAAADwPwAAAAAAAPA/AAAAAAAA8D8AAAAAAADwPwAAAAAAAPA/AAAAAAAA8D8AAAAAAADwPwAAAAAAAPA/AAAAAAAA8D8AAAAAAADwPwAAAAAAAPA/AAAAAAAA8D8AAAAAAADwPwAAAAAAAPA/AAAAAAAA8D8AAAAAAADwPwAAAAAAAPA/AAAAAAAA8D8AAAAAAADwPwAAAAAAAPA/AAAAAAAA8D8AAAAAAADwPwAAAAAAAPA/AAAAAAAA8D8AAAAAAADwPwAAAAAAAPA/AAAAAAAA8D8AAAAAAADwPwAAAAAAAPA/AAAAAAAA8D8AAAAAAADwPwAAAAAAAPA/AAAAAAAA8D8=\",\"dtype\":\"float64\",\"order\":\"little\",\"shape\":[40]}},\"selected\":{\"id\":\"1658\"},\"selection_policy\":{\"id\":\"1659\"}},\"id\":\"1644\",\"type\":\"ColumnDataSource\"},{\"attributes\":{},\"id\":\"1611\",\"type\":\"LinearScale\"},{\"attributes\":{\"label\":{\"value\":\"CDF\"},\"renderers\":[{\"id\":\"1647\"}]},\"id\":\"1660\",\"type\":\"LegendItem\"},{\"attributes\":{\"source\":{\"id\":\"1644\"}},\"id\":\"1648\",\"type\":\"CDSView\"},{\"attributes\":{\"line_alpha\":0.1,\"line_color\":\"orange\",\"line_width\":2,\"x\":{\"field\":\"x\"},\"y\":{\"field\":\"y\"}},\"id\":\"1646\",\"type\":\"Line\"},{\"attributes\":{\"bottom\":{\"value\":0},\"fill_alpha\":{\"value\":0.5},\"fill_color\":{\"value\":\"navy\"},\"left\":{\"field\":\"left\"},\"line_alpha\":{\"value\":0.5},\"line_color\":{\"value\":\"white\"},\"right\":{\"field\":\"right\"},\"top\":{\"field\":\"top\"}},\"id\":\"1623\",\"type\":\"Quad\"},{\"attributes\":{\"text\":\"Normal Distribution (\\u03bc=0, \\u03c3=0.5)\"},\"id\":\"1603\",\"type\":\"Title\"},{\"attributes\":{},\"id\":\"1609\",\"type\":\"LinearScale\"},{\"attributes\":{},\"id\":\"1614\",\"type\":\"BasicTicker\"},{\"attributes\":{\"data_source\":{\"id\":\"1628\"},\"glyph\":{\"id\":\"1629\"},\"hover_glyph\":null,\"muted_glyph\":null,\"nonselection_glyph\":{\"id\":\"1630\"},\"selection_glyph\":null,\"view\":{\"id\":\"1632\"}},\"id\":\"1631\",\"type\":\"GlyphRenderer\"},{\"attributes\":{},\"id\":\"1658\",\"type\":\"Selection\"},{\"attributes\":{},\"id\":\"1659\",\"type\":\"UnionRenderers\"}],\"root_ids\":[\"1602\"]},\"title\":\"Bokeh Application\",\"version\":\"2.2.3\"}};\n",
       "  var render_items = [{\"docid\":\"883610aa-f2d3-4fe9-88d4-c65c6e131a59\",\"root_ids\":[\"1602\"],\"roots\":{\"1602\":\"5dbc11a8-2b14-4893-9c5c-c0b756a705ed\"}}];\n",
       "  root.Bokeh.embed.embed_items_notebook(docs_json, render_items);\n",
       "\n",
       "  }\n",
       "  if (root.Bokeh !== undefined) {\n",
       "    embed_document(root);\n",
       "  } else {\n",
       "    var attempts = 0;\n",
       "    var timer = setInterval(function(root) {\n",
       "      if (root.Bokeh !== undefined) {\n",
       "        clearInterval(timer);\n",
       "        embed_document(root);\n",
       "      } else {\n",
       "        attempts++;\n",
       "        if (attempts > 100) {\n",
       "          clearInterval(timer);\n",
       "          console.log(\"Bokeh: ERROR: Unable to run BokehJS code because BokehJS library is missing\");\n",
       "        }\n",
       "      }\n",
       "    }, 10, root)\n",
       "  }\n",
       "})(window);"
      ],
      "application/vnd.bokehjs_exec.v0+json": ""
     },
     "metadata": {
      "application/vnd.bokehjs_exec.v0+json": {
       "id": "1602"
      }
     },
     "output_type": "display_data"
    }
   ],
   "source": [
    "# Note the calculations are most likely not correct\n",
    "# they are present only as approximation to explore visualizations\n",
    "\n",
    "# TODO: fix double y axis, https://stackoverflow.com/questions/25199665/one-chart-with-two-different-y-axis-ranges-in-bokeh\n",
    "\n",
    "def make_plot(title, hist, edges, x, pdf, cdf):\n",
    "    p = figure(title=title, tools='', background_fill_color=\"#fafafa\")\n",
    "    \n",
    "    p.quad(top=hist, bottom=0, left=edges[:-1], right=edges[1:],\n",
    "           fill_color=\"navy\", line_color=\"white\", alpha=0.5)\n",
    "    \n",
    "    \n",
    "    p.extra_y_ranges = {\"foo\": Range1d(start=0, end=1)}\n",
    "    p.line(x, pdf, line_color=\"#ff8888\", line_width=4, alpha=0.7, legend_label=\"PDF\")\n",
    "    p.line(x, cdf, line_color=\"orange\", line_width=2, alpha=0.7, legend_label=\"CDF\")\n",
    "\n",
    "    p.y_range.start = 0\n",
    "    p.legend.location = \"center_right\"\n",
    "    p.legend.background_fill_color = \"#fefefe\"\n",
    "    p.xaxis.axis_label = 'x'\n",
    "    p.yaxis.axis_label = 'Pr(x)'\n",
    "    p.grid.grid_line_color=\"white\"\n",
    "    return p\n",
    "\n",
    "# Normal Distribution\n",
    "\n",
    "mu, sigma = 0, 0.5\n",
    "\n",
    "measured = sentence_wc.values\n",
    "hist = measured\n",
    "\n",
    "# hist, edges = np.histogram(measured, density=True, bins=50)\n",
    "\n",
    "x = sentence_wc.index.values\n",
    "_, edges = np.histogram(x, density=True, bins=80)\n",
    "\n",
    "pdf = 1/(sigma * np.sqrt(2*np.pi)) * np.exp(-(x-mu)**2 / (2*sigma**2))\n",
    "cdf = (1+scipy.special.erf((x-mu)/np.sqrt(2*sigma**2)))/2\n",
    "\n",
    "p1 = make_plot(\"Normal Distribution (μ=0, σ=0.5)\", hist, edges, x, pdf, cdf)\n",
    "\n",
    "show(p1)"
   ]
  },
  {
   "cell_type": "code",
   "execution_count": 25,
   "metadata": {},
   "outputs": [
    {
     "data": {
      "text/plain": [
       "array([  1.  ,  13.12,  25.24,  37.36,  49.48,  61.6 ,  73.72,  85.84,\n",
       "        97.96, 110.08, 122.2 , 134.32, 146.44, 158.56, 170.68, 182.8 ,\n",
       "       194.92, 207.04, 219.16, 231.28, 243.4 , 255.52, 267.64, 279.76,\n",
       "       291.88, 304.  , 316.12, 328.24, 340.36, 352.48, 364.6 , 376.72,\n",
       "       388.84, 400.96, 413.08, 425.2 , 437.32, 449.44, 461.56, 473.68,\n",
       "       485.8 , 497.92, 510.04, 522.16, 534.28, 546.4 , 558.52, 570.64,\n",
       "       582.76, 594.88, 607.  ])"
      ]
     },
     "execution_count": 25,
     "metadata": {},
     "output_type": "execute_result"
    }
   ],
   "source": [
    "edges"
   ]
  },
  {
   "cell_type": "code",
   "execution_count": 18,
   "metadata": {},
   "outputs": [
    {
     "data": {
      "text/plain": [
       "array([0.04125413, 0.00412541, 0.00412541, 0.00206271, 0.00206271,\n",
       "       0.00206271, 0.        , 0.00206271, 0.00206271, 0.        ,\n",
       "       0.        , 0.        , 0.00206271, 0.        , 0.        ,\n",
       "       0.00206271, 0.        , 0.        , 0.00206271, 0.        ,\n",
       "       0.        , 0.        , 0.00206271, 0.        , 0.        ,\n",
       "       0.        , 0.        , 0.00206271, 0.        , 0.        ,\n",
       "       0.        , 0.        , 0.        , 0.00206271, 0.        ,\n",
       "       0.        , 0.        , 0.00206271, 0.00206271, 0.        ,\n",
       "       0.        , 0.        , 0.        , 0.        , 0.00206271,\n",
       "       0.        , 0.00206271, 0.        , 0.        , 0.00206271])"
      ]
     },
     "execution_count": 18,
     "metadata": {},
     "output_type": "execute_result"
    }
   ],
   "source": [
    "hist"
   ]
  },
  {
   "cell_type": "code",
   "execution_count": 19,
   "metadata": {},
   "outputs": [
    {
     "data": {
      "text/plain": [
       "(array([0.04125413, 0.00412541, 0.00412541, 0.00206271, 0.00206271,\n",
       "        0.00206271, 0.        , 0.00206271, 0.00206271, 0.        ,\n",
       "        0.        , 0.        , 0.00206271, 0.        , 0.        ,\n",
       "        0.00206271, 0.        , 0.        , 0.00206271, 0.        ,\n",
       "        0.        , 0.        , 0.00206271, 0.        , 0.        ,\n",
       "        0.        , 0.        , 0.00206271, 0.        , 0.        ,\n",
       "        0.        , 0.        , 0.        , 0.00206271, 0.        ,\n",
       "        0.        , 0.        , 0.00206271, 0.00206271, 0.        ,\n",
       "        0.        , 0.        , 0.        , 0.        , 0.00206271,\n",
       "        0.        , 0.00206271, 0.        , 0.        , 0.00206271]),\n",
       " array([  1.  ,  13.12,  25.24,  37.36,  49.48,  61.6 ,  73.72,  85.84,\n",
       "         97.96, 110.08, 122.2 , 134.32, 146.44, 158.56, 170.68, 182.8 ,\n",
       "        194.92, 207.04, 219.16, 231.28, 243.4 , 255.52, 267.64, 279.76,\n",
       "        291.88, 304.  , 316.12, 328.24, 340.36, 352.48, 364.6 , 376.72,\n",
       "        388.84, 400.96, 413.08, 425.2 , 437.32, 449.44, 461.56, 473.68,\n",
       "        485.8 , 497.92, 510.04, 522.16, 534.28, 546.4 , 558.52, 570.64,\n",
       "        582.76, 594.88, 607.  ]))"
      ]
     },
     "execution_count": 19,
     "metadata": {},
     "output_type": "execute_result"
    }
   ],
   "source": [
    "np.histogram(measured, density=True, bins=50)"
   ]
  },
  {
   "cell_type": "code",
   "execution_count": 20,
   "metadata": {},
   "outputs": [
    {
     "data": {
      "text/plain": [
       "array([1.07981933e-001, 2.67660452e-004, 1.21517657e-008, 1.01045422e-014,\n",
       "       1.53891973e-022, 4.29276747e-032, 2.19321312e-043, 2.05232615e-056,\n",
       "       3.51749909e-071, 1.10418967e-087, 6.34856311e-106, 6.68542888e-126,\n",
       "       1.28945199e-147, 4.55515496e-171, 2.94729227e-196, 3.49273251e-223,\n",
       "       7.58105280e-252, 3.01380944e-282, 2.19444210e-314, 0.00000000e+000,\n",
       "       0.00000000e+000, 0.00000000e+000, 0.00000000e+000, 0.00000000e+000,\n",
       "       0.00000000e+000, 0.00000000e+000, 0.00000000e+000, 0.00000000e+000,\n",
       "       0.00000000e+000, 0.00000000e+000, 0.00000000e+000, 0.00000000e+000,\n",
       "       0.00000000e+000, 0.00000000e+000, 0.00000000e+000, 0.00000000e+000,\n",
       "       0.00000000e+000, 0.00000000e+000, 0.00000000e+000, 0.00000000e+000])"
      ]
     },
     "execution_count": 20,
     "metadata": {},
     "output_type": "execute_result"
    }
   ],
   "source": [
    "pdf"
   ]
  },
  {
   "cell_type": "code",
   "execution_count": 21,
   "metadata": {},
   "outputs": [
    {
     "data": {
      "text/plain": [
       "array([0.97724987, 0.99996833, 1.        , 1.        , 1.        ,\n",
       "       1.        , 1.        , 1.        , 1.        , 1.        ,\n",
       "       1.        , 1.        , 1.        , 1.        , 1.        ,\n",
       "       1.        , 1.        , 1.        , 1.        , 1.        ,\n",
       "       1.        , 1.        , 1.        , 1.        , 1.        ,\n",
       "       1.        , 1.        , 1.        , 1.        , 1.        ,\n",
       "       1.        , 1.        , 1.        , 1.        , 1.        ,\n",
       "       1.        , 1.        , 1.        , 1.        , 1.        ])"
      ]
     },
     "execution_count": 21,
     "metadata": {},
     "output_type": "execute_result"
    }
   ],
   "source": [
    "cdf"
   ]
  },
  {
   "cell_type": "code",
   "execution_count": 22,
   "metadata": {},
   "outputs": [
    {
     "data": {
      "text/plain": [
       "array([ 1,  2,  3,  4,  5,  6,  7,  8,  9, 10, 11, 12, 13, 14, 15, 16, 17,\n",
       "       18, 19, 20, 21, 22, 23, 24, 25, 26, 27, 28, 29, 30, 31, 32, 33, 34,\n",
       "       35, 37, 40, 43, 44, 75])"
      ]
     },
     "execution_count": 22,
     "metadata": {},
     "output_type": "execute_result"
    }
   ],
   "source": [
    "sentence_wc.index.values"
   ]
  },
  {
   "cell_type": "code",
   "execution_count": null,
   "metadata": {},
   "outputs": [],
   "source": []
  }
 ],
 "metadata": {
  "kernelspec": {
   "display_name": "Python 3",
   "language": "python",
   "name": "python3"
  },
  "language_info": {
   "codemirror_mode": {
    "name": "ipython",
    "version": 3
   },
   "file_extension": ".py",
   "mimetype": "text/x-python",
   "name": "python",
   "nbconvert_exporter": "python",
   "pygments_lexer": "ipython3",
   "version": "3.8.6"
  }
 },
 "nbformat": 4,
 "nbformat_minor": 4
}
