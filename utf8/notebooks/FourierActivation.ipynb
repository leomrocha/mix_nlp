{
 "cells": [
  {
   "cell_type": "markdown",
   "metadata": {},
   "source": [
    "# Fourier Activation \n",
    "\n",
    "This notebook is used to explore some things needed for the Fourier Activation paper\n",
    "\n",
    "I should write an entire paper on that and publish it.\n",
    "\n",
    "\n"
   ]
  },
  {
   "cell_type": "code",
   "execution_count": 1,
   "metadata": {},
   "outputs": [],
   "source": [
    "import numpy as np\n",
    "import math\n",
    "import torch\n",
    "import torch.nn as nn\n",
    "from torch.nn import functional as F\n",
    "from torch.nn.utils import weight_norm\n"
   ]
  },
  {
   "cell_type": "code",
   "execution_count": null,
   "metadata": {},
   "outputs": [],
   "source": []
  },
  {
   "cell_type": "code",
   "execution_count": 2,
   "metadata": {},
   "outputs": [],
   "source": [
    "factors = torch.Tensor(np.linspace(0.0001,2., 5)).unsqueeze(0)\n",
    "phases = torch.Tensor(np.linspace(0.0001,2*np.pi, 5)).unsqueeze(0)\n",
    "weights = torch.Tensor(np.linspace(0.0001,2., 5)).unsqueeze(0)\n",
    "\n",
    "x = torch.Tensor(np.linspace(1,10., 10)).unsqueeze(0)"
   ]
  },
  {
   "cell_type": "code",
   "execution_count": 3,
   "metadata": {},
   "outputs": [
    {
     "data": {
      "text/plain": [
       "(torch.Size([1, 5]),\n",
       " tensor([[1.0000e-04, 5.0007e-01, 1.0000e+00, 1.5000e+00, 2.0000e+00]]))"
      ]
     },
     "execution_count": 3,
     "metadata": {},
     "output_type": "execute_result"
    }
   ],
   "source": [
    "factors.shape, factors"
   ]
  },
  {
   "cell_type": "code",
   "execution_count": 4,
   "metadata": {},
   "outputs": [
    {
     "data": {
      "text/plain": [
       "tensor([[1.0000e-04],\n",
       "        [5.0007e-01],\n",
       "        [1.0000e+00],\n",
       "        [1.5000e+00],\n",
       "        [2.0000e+00]])"
      ]
     },
     "execution_count": 4,
     "metadata": {},
     "output_type": "execute_result"
    }
   ],
   "source": [
    "factors.transpose(0,1)"
   ]
  },
  {
   "cell_type": "code",
   "execution_count": 5,
   "metadata": {},
   "outputs": [],
   "source": [
    "fx = factors.transpose(0,1) * x"
   ]
  },
  {
   "cell_type": "code",
   "execution_count": 6,
   "metadata": {},
   "outputs": [
    {
     "data": {
      "text/plain": [
       "tensor([[1.0000e-04, 5.0007e-01, 1.0000e+00, 1.5000e+00, 2.0000e+00]])"
      ]
     },
     "execution_count": 6,
     "metadata": {},
     "output_type": "execute_result"
    }
   ],
   "source": [
    "factors"
   ]
  },
  {
   "cell_type": "code",
   "execution_count": 7,
   "metadata": {},
   "outputs": [
    {
     "data": {
      "text/plain": [
       "torch.Size([5, 10])"
      ]
     },
     "execution_count": 7,
     "metadata": {},
     "output_type": "execute_result"
    }
   ],
   "source": [
    "fx.shape"
   ]
  },
  {
   "cell_type": "code",
   "execution_count": 8,
   "metadata": {},
   "outputs": [
    {
     "data": {
      "text/plain": [
       "tensor([[1.0000e-04, 2.0000e-04, 3.0000e-04, 4.0000e-04, 5.0000e-04, 6.0000e-04,\n",
       "         7.0000e-04, 8.0000e-04, 9.0000e-04, 1.0000e-03],\n",
       "        [5.0007e-01, 1.0001e+00, 1.5002e+00, 2.0003e+00, 2.5004e+00, 3.0004e+00,\n",
       "         3.5005e+00, 4.0006e+00, 4.5007e+00, 5.0007e+00],\n",
       "        [1.0000e+00, 2.0001e+00, 3.0001e+00, 4.0002e+00, 5.0002e+00, 6.0003e+00,\n",
       "         7.0003e+00, 8.0004e+00, 9.0004e+00, 1.0000e+01],\n",
       "        [1.5000e+00, 3.0001e+00, 4.5001e+00, 6.0001e+00, 7.5001e+00, 9.0002e+00,\n",
       "         1.0500e+01, 1.2000e+01, 1.3500e+01, 1.5000e+01],\n",
       "        [2.0000e+00, 4.0000e+00, 6.0000e+00, 8.0000e+00, 1.0000e+01, 1.2000e+01,\n",
       "         1.4000e+01, 1.6000e+01, 1.8000e+01, 2.0000e+01]])"
      ]
     },
     "execution_count": 8,
     "metadata": {},
     "output_type": "execute_result"
    }
   ],
   "source": [
    "fx"
   ]
  },
  {
   "cell_type": "code",
   "execution_count": 9,
   "metadata": {},
   "outputs": [],
   "source": [
    "dephase = (x - phases.transpose(0,1))"
   ]
  },
  {
   "cell_type": "code",
   "execution_count": 10,
   "metadata": {},
   "outputs": [
    {
     "data": {
      "text/plain": [
       "tensor([[1.0000e-04, 1.5709e+00, 3.1416e+00, 4.7124e+00, 6.2832e+00]])"
      ]
     },
     "execution_count": 10,
     "metadata": {},
     "output_type": "execute_result"
    }
   ],
   "source": [
    "phases"
   ]
  },
  {
   "cell_type": "code",
   "execution_count": 11,
   "metadata": {},
   "outputs": [
    {
     "data": {
      "text/plain": [
       "(torch.Size([5, 10]),\n",
       " tensor([[ 0.9999,  1.9999,  2.9999,  3.9999,  4.9999,  5.9999,  6.9999,  7.9999,\n",
       "           8.9999,  9.9999],\n",
       "         [-0.5709,  0.4291,  1.4291,  2.4291,  3.4291,  4.4291,  5.4291,  6.4291,\n",
       "           7.4291,  8.4291],\n",
       "         [-2.1416, -1.1416, -0.1416,  0.8584,  1.8584,  2.8584,  3.8584,  4.8584,\n",
       "           5.8584,  6.8584],\n",
       "         [-3.7124, -2.7124, -1.7124, -0.7124,  0.2876,  1.2876,  2.2876,  3.2876,\n",
       "           4.2876,  5.2876],\n",
       "         [-5.2832, -4.2832, -3.2832, -2.2832, -1.2832, -0.2832,  0.7168,  1.7168,\n",
       "           2.7168,  3.7168]]))"
      ]
     },
     "execution_count": 11,
     "metadata": {},
     "output_type": "execute_result"
    }
   ],
   "source": [
    "dephase.shape, dephase"
   ]
  },
  {
   "cell_type": "code",
   "execution_count": 12,
   "metadata": {},
   "outputs": [
    {
     "data": {
      "text/plain": [
       "torch.Size([10])"
      ]
     },
     "execution_count": 12,
     "metadata": {},
     "output_type": "execute_result"
    }
   ],
   "source": [
    "torch.sum(fx, 0).shape"
   ]
  },
  {
   "cell_type": "code",
   "execution_count": 13,
   "metadata": {},
   "outputs": [
    {
     "data": {
      "text/plain": [
       "tensor(0.6954)"
      ]
     },
     "execution_count": 13,
     "metadata": {},
     "output_type": "execute_result"
    }
   ],
   "source": [
    "torch.rand(())"
   ]
  },
  {
   "cell_type": "code",
   "execution_count": 14,
   "metadata": {},
   "outputs": [],
   "source": [
    "p = nn.Parameter(torch.rand(10))"
   ]
  },
  {
   "cell_type": "code",
   "execution_count": 15,
   "metadata": {},
   "outputs": [
    {
     "data": {
      "text/plain": [
       "Parameter containing:\n",
       "tensor([0.3410, 0.7670, 0.8774, 0.2877, 0.9563, 0.4387, 0.5013, 0.8888, 0.2293,\n",
       "        0.9247], requires_grad=True)"
      ]
     },
     "execution_count": 15,
     "metadata": {},
     "output_type": "execute_result"
    }
   ],
   "source": [
    "p"
   ]
  },
  {
   "cell_type": "code",
   "execution_count": 16,
   "metadata": {},
   "outputs": [],
   "source": [
    "v1 = torch.rand((10,10))\n",
    "v2 = torch.rand((10)).unsqueeze(0)\n",
    "v2b = torch.rand((10)).unsqueeze(1)"
   ]
  },
  {
   "cell_type": "code",
   "execution_count": 17,
   "metadata": {},
   "outputs": [
    {
     "data": {
      "text/plain": [
       "(torch.Size([10, 10]), torch.Size([1, 10]), torch.Size([10, 1]))"
      ]
     },
     "execution_count": 17,
     "metadata": {},
     "output_type": "execute_result"
    }
   ],
   "source": [
    "v1.shape, v2.shape, v2b.shape"
   ]
  },
  {
   "cell_type": "code",
   "execution_count": 18,
   "metadata": {},
   "outputs": [
    {
     "data": {
      "text/plain": [
       "tensor([[2.7735, 1.5294, 3.0591, 3.0105, 2.9638, 2.6060, 1.6178, 3.1223, 1.9981,\n",
       "         1.8340]])"
      ]
     },
     "execution_count": 18,
     "metadata": {},
     "output_type": "execute_result"
    }
   ],
   "source": [
    "torch.mm(v2,v1)"
   ]
  },
  {
   "cell_type": "code",
   "execution_count": 19,
   "metadata": {},
   "outputs": [
    {
     "data": {
      "text/plain": [
       "tensor([[2.8123],\n",
       "        [1.9006],\n",
       "        [3.2032],\n",
       "        [2.8362],\n",
       "        [3.0779],\n",
       "        [2.5285],\n",
       "        [2.9119],\n",
       "        [2.3536],\n",
       "        [1.8966],\n",
       "        [2.3482]])"
      ]
     },
     "execution_count": 19,
     "metadata": {},
     "output_type": "execute_result"
    }
   ],
   "source": [
    "torch.mm(v1,v2.transpose(0,1))"
   ]
  },
  {
   "cell_type": "code",
   "execution_count": 20,
   "metadata": {},
   "outputs": [
    {
     "data": {
      "text/plain": [
       "'/home/leo/projects/mix_nlp/utf8/notebooks'"
      ]
     },
     "execution_count": 20,
     "metadata": {},
     "output_type": "execute_result"
    }
   ],
   "source": [
    "pwd"
   ]
  },
  {
   "cell_type": "code",
   "execution_count": 21,
   "metadata": {},
   "outputs": [
    {
     "name": "stdout",
     "output_type": "stream",
     "text": [
      "/home/leo/projects/mix_nlp/utf8\n"
     ]
    }
   ],
   "source": [
    "cd /home/leo/projects/mix_nlp/utf8"
   ]
  },
  {
   "cell_type": "code",
   "execution_count": 22,
   "metadata": {},
   "outputs": [
    {
     "name": "stdout",
     "output_type": "stream",
     "text": [
      "\u001b[0m\u001b[01;34mcharsets\u001b[0m/             data_loader.py   \u001b[01;34mpreprocessors\u001b[0m/      trainer_helpers.py\n",
      "\u001b[01;34mcheckpoints\u001b[0m/          \u001b[01;34mgutenberg_logs\u001b[0m/  \u001b[01;34m__pycache__\u001b[0m/        trainer.py\n",
      "\u001b[01;34mcodes\u001b[0m/                __init__.py      \u001b[01;34mruns\u001b[0m/               utf8_encoder.py\n",
      "\u001b[01;31mconllu_stats.json.gz\u001b[0m  model_blocks.py  sparse_decoders.py  utils.py\n",
      "constants.py          models.py        sparse_encoders.py  word_modules.py\n",
      "convolutions.py       \u001b[01;34mnotebooks\u001b[0m/       tools.py\n"
     ]
    }
   ],
   "source": [
    "ls"
   ]
  },
  {
   "cell_type": "code",
   "execution_count": 23,
   "metadata": {},
   "outputs": [],
   "source": [
    "from word_modules import *"
   ]
  },
  {
   "cell_type": "code",
   "execution_count": 24,
   "metadata": {},
   "outputs": [],
   "source": [
    "we = WordEncoder(in_lang_size=128, in_word_size=512,\n",
    "                 hid_lang_size=2048, hid_word_size=2048, lat_word_size=300,\n",
    "                 activation=None,\n",
    "                 use_softmax=False,\n",
    "                 )"
   ]
  },
  {
   "cell_type": "code",
   "execution_count": 25,
   "metadata": {},
   "outputs": [],
   "source": [
    "from utils import * \n",
    "from tools import *"
   ]
  },
  {
   "cell_type": "code",
   "execution_count": 26,
   "metadata": {},
   "outputs": [
    {
     "data": {
      "text/plain": [
       "4057967"
      ]
     },
     "execution_count": 26,
     "metadata": {},
     "output_type": "execute_result"
    }
   ],
   "source": [
    "count_parameters(we)"
   ]
  },
  {
   "cell_type": "code",
   "execution_count": 29,
   "metadata": {},
   "outputs": [],
   "source": [
    "wd = WordDecoder(in_lang_size=128, out_langvar_size=64, out_word_size=512,\n",
    "                 hid_lang_size=2048, hid_word_size=2048, lat_word_size=300,\n",
    "                 activation=None,\n",
    "                 )\n"
   ]
  },
  {
   "cell_type": "code",
   "execution_count": 30,
   "metadata": {},
   "outputs": [
    {
     "data": {
      "text/plain": [
       "4951192"
      ]
     },
     "execution_count": 30,
     "metadata": {},
     "output_type": "execute_result"
    }
   ],
   "source": [
    "count_parameters(wd)"
   ]
  },
  {
   "cell_type": "code",
   "execution_count": null,
   "metadata": {},
   "outputs": [],
   "source": []
  }
 ],
 "metadata": {
  "kernelspec": {
   "display_name": "Python 3",
   "language": "python",
   "name": "python3"
  },
  "language_info": {
   "codemirror_mode": {
    "name": "ipython",
    "version": 3
   },
   "file_extension": ".py",
   "mimetype": "text/x-python",
   "name": "python",
   "nbconvert_exporter": "python",
   "pygments_lexer": "ipython3",
   "version": "3.8.2"
  }
 },
 "nbformat": 4,
 "nbformat_minor": 4
}
