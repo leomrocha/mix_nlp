{
 "cells": [
  {
   "cell_type": "markdown",
   "metadata": {},
   "source": [
    "# Fourier Activation \n",
    "\n",
    "This notebook is used to explore some things needed for the Fourier Activation paper\n",
    "\n",
    "I should write an entire paper on that and publish it.\n",
    "\n",
    "\n"
   ]
  },
  {
   "cell_type": "code",
   "execution_count": 1,
   "metadata": {},
   "outputs": [],
   "source": [
    "import numpy as np\n",
    "import math\n",
    "import torch\n",
    "import torch.nn as nn\n",
    "from torch.nn import functional as F\n",
    "from torch.nn.utils import weight_norm\n"
   ]
  },
  {
   "cell_type": "code",
   "execution_count": null,
   "metadata": {},
   "outputs": [],
   "source": []
  },
  {
   "cell_type": "code",
   "execution_count": 34,
   "metadata": {},
   "outputs": [],
   "source": [
    "factors = torch.Tensor(np.linspace(0.0001,2., 5)).unsqueeze(0)\n",
    "phases = torch.Tensor(np.linspace(0.0001,2*np.pi, 5)).unsqueeze(0)\n",
    "weights = torch.Tensor(np.linspace(0.0001,2., 5)).unsqueeze(0)\n",
    "\n",
    "x = torch.Tensor(np.linspace(1,10., 10)).unsqueeze(0)"
   ]
  },
  {
   "cell_type": "code",
   "execution_count": 35,
   "metadata": {},
   "outputs": [
    {
     "data": {
      "text/plain": [
       "(torch.Size([1, 5]),\n",
       " tensor([[1.0000e-04, 5.0007e-01, 1.0000e+00, 1.5000e+00, 2.0000e+00]]))"
      ]
     },
     "execution_count": 35,
     "metadata": {},
     "output_type": "execute_result"
    }
   ],
   "source": [
    "factors.shape, factors"
   ]
  },
  {
   "cell_type": "code",
   "execution_count": 36,
   "metadata": {},
   "outputs": [
    {
     "data": {
      "text/plain": [
       "tensor([[1.0000e-04],\n",
       "        [5.0007e-01],\n",
       "        [1.0000e+00],\n",
       "        [1.5000e+00],\n",
       "        [2.0000e+00]])"
      ]
     },
     "execution_count": 36,
     "metadata": {},
     "output_type": "execute_result"
    }
   ],
   "source": [
    "factors.transpose(0,1)"
   ]
  },
  {
   "cell_type": "code",
   "execution_count": 37,
   "metadata": {},
   "outputs": [],
   "source": [
    "fx = factors.transpose(0,1) * x"
   ]
  },
  {
   "cell_type": "code",
   "execution_count": 42,
   "metadata": {},
   "outputs": [
    {
     "data": {
      "text/plain": [
       "tensor([[1.0000e-04, 5.0007e-01, 1.0000e+00, 1.5000e+00, 2.0000e+00]])"
      ]
     },
     "execution_count": 42,
     "metadata": {},
     "output_type": "execute_result"
    }
   ],
   "source": [
    "factors"
   ]
  },
  {
   "cell_type": "code",
   "execution_count": 38,
   "metadata": {},
   "outputs": [
    {
     "data": {
      "text/plain": [
       "torch.Size([5, 10])"
      ]
     },
     "execution_count": 38,
     "metadata": {},
     "output_type": "execute_result"
    }
   ],
   "source": [
    "fx.shape"
   ]
  },
  {
   "cell_type": "code",
   "execution_count": 41,
   "metadata": {},
   "outputs": [
    {
     "data": {
      "text/plain": [
       "tensor([[1.0000e-04, 2.0000e-04, 3.0000e-04, 4.0000e-04, 5.0000e-04, 6.0000e-04,\n",
       "         7.0000e-04, 8.0000e-04, 9.0000e-04, 1.0000e-03],\n",
       "        [5.0007e-01, 1.0001e+00, 1.5002e+00, 2.0003e+00, 2.5004e+00, 3.0004e+00,\n",
       "         3.5005e+00, 4.0006e+00, 4.5007e+00, 5.0007e+00],\n",
       "        [1.0000e+00, 2.0001e+00, 3.0001e+00, 4.0002e+00, 5.0002e+00, 6.0003e+00,\n",
       "         7.0003e+00, 8.0004e+00, 9.0004e+00, 1.0000e+01],\n",
       "        [1.5000e+00, 3.0001e+00, 4.5001e+00, 6.0001e+00, 7.5001e+00, 9.0002e+00,\n",
       "         1.0500e+01, 1.2000e+01, 1.3500e+01, 1.5000e+01],\n",
       "        [2.0000e+00, 4.0000e+00, 6.0000e+00, 8.0000e+00, 1.0000e+01, 1.2000e+01,\n",
       "         1.4000e+01, 1.6000e+01, 1.8000e+01, 2.0000e+01]])"
      ]
     },
     "execution_count": 41,
     "metadata": {},
     "output_type": "execute_result"
    }
   ],
   "source": [
    "fx"
   ]
  },
  {
   "cell_type": "code",
   "execution_count": 45,
   "metadata": {},
   "outputs": [],
   "source": [
    "dephase = (x - phases.transpose(0,1))"
   ]
  },
  {
   "cell_type": "code",
   "execution_count": 46,
   "metadata": {},
   "outputs": [
    {
     "data": {
      "text/plain": [
       "tensor([[1.0000e-04, 1.5709e+00, 3.1416e+00, 4.7124e+00, 6.2832e+00]])"
      ]
     },
     "execution_count": 46,
     "metadata": {},
     "output_type": "execute_result"
    }
   ],
   "source": [
    "phases"
   ]
  },
  {
   "cell_type": "code",
   "execution_count": 47,
   "metadata": {},
   "outputs": [
    {
     "data": {
      "text/plain": [
       "(torch.Size([5, 10]),\n",
       " tensor([[ 0.9999,  1.9999,  2.9999,  3.9999,  4.9999,  5.9999,  6.9999,  7.9999,\n",
       "           8.9999,  9.9999],\n",
       "         [-0.5709,  0.4291,  1.4291,  2.4291,  3.4291,  4.4291,  5.4291,  6.4291,\n",
       "           7.4291,  8.4291],\n",
       "         [-2.1416, -1.1416, -0.1416,  0.8584,  1.8584,  2.8584,  3.8584,  4.8584,\n",
       "           5.8584,  6.8584],\n",
       "         [-3.7124, -2.7124, -1.7124, -0.7124,  0.2876,  1.2876,  2.2876,  3.2876,\n",
       "           4.2876,  5.2876],\n",
       "         [-5.2832, -4.2832, -3.2832, -2.2832, -1.2832, -0.2832,  0.7168,  1.7168,\n",
       "           2.7168,  3.7168]]))"
      ]
     },
     "execution_count": 47,
     "metadata": {},
     "output_type": "execute_result"
    }
   ],
   "source": [
    "dephase.shape, dephase"
   ]
  },
  {
   "cell_type": "code",
   "execution_count": 50,
   "metadata": {},
   "outputs": [
    {
     "data": {
      "text/plain": [
       "torch.Size([10])"
      ]
     },
     "execution_count": 50,
     "metadata": {},
     "output_type": "execute_result"
    }
   ],
   "source": [
    "torch.sum(fx, 0).shape"
   ]
  },
  {
   "cell_type": "code",
   "execution_count": 52,
   "metadata": {},
   "outputs": [
    {
     "data": {
      "text/plain": [
       "tensor([])"
      ]
     },
     "execution_count": 52,
     "metadata": {},
     "output_type": "execute_result"
    }
   ],
   "source": [
    "torch.rand(())"
   ]
  },
  {
   "cell_type": "code",
   "execution_count": null,
   "metadata": {},
   "outputs": [],
   "source": []
  }
 ],
 "metadata": {
  "kernelspec": {
   "display_name": "Python 3",
   "language": "python",
   "name": "python3"
  },
  "language_info": {
   "codemirror_mode": {
    "name": "ipython",
    "version": 3
   },
   "file_extension": ".py",
   "mimetype": "text/x-python",
   "name": "python",
   "nbconvert_exporter": "python",
   "pygments_lexer": "ipython3",
   "version": "3.8.2"
  }
 },
 "nbformat": 4,
 "nbformat_minor": 4
}
