{
 "cells": [
  {
   "cell_type": "markdown",
   "metadata": {},
   "source": [
    "# Notebook to download the OSCAR dataset \n",
    "\n",
    "- https://traces1.inria.fr/oscar/\n",
    "- https://team.inria.fr/almanach/oscar/\n",
    "\n"
   ]
  },
  {
   "cell_type": "code",
   "execution_count": null,
   "metadata": {},
   "outputs": [],
   "source": [
    "url_pattern= 'https://traces1.inria.fr/oscar/files/Compressed/{}.txt.gz'\n",
    "dedup_url_pattern= 'https://traces1.inria.fr/oscar/files/Compressed/{}_dedup.txt.gz'\n",
    "langs = []"
   ]
  }
 ],
 "metadata": {
  "kernelspec": {
   "display_name": "Python 3",
   "language": "python",
   "name": "python3"
  },
  "language_info": {
   "codemirror_mode": {
    "name": "ipython",
    "version": 3
   },
   "file_extension": ".py",
   "mimetype": "text/x-python",
   "name": "python",
   "nbconvert_exporter": "python",
   "pygments_lexer": "ipython3",
   "version": "3.7.3"
  }
 },
 "nbformat": 4,
 "nbformat_minor": 4
}
