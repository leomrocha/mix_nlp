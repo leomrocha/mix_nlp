{
 "cells": [
  {
   "cell_type": "code",
   "execution_count": 5,
   "metadata": {},
   "outputs": [],
   "source": [
    "import os\n",
    "import sys\n",
    "from pathlib import Path"
   ]
  },
  {
   "cell_type": "code",
   "execution_count": 7,
   "metadata": {},
   "outputs": [],
   "source": [
    "BASE_DIR = \"/home/leo/projects/Datasets/text/Gutenberg/Gutenberg\"\n",
    "zip_list = os.path.join(BASE_DIR,\"zip_list.txt\")"
   ]
  },
  {
   "cell_type": "code",
   "execution_count": 8,
   "metadata": {},
   "outputs": [],
   "source": [
    "with open(zip_list, \"r\") as f:\n",
    "    flines = f.readlines()\n",
    "    flist = [os.path.join(BASE_DIR, f.strip().replace('\\n', '').split(' ')[-1]) for f in flines]\n"
   ]
  },
  {
   "cell_type": "code",
   "execution_count": 10,
   "metadata": {},
   "outputs": [],
   "source": [
    "outdict = {}"
   ]
  },
  {
   "cell_type": "code",
   "execution_count": 12,
   "metadata": {},
   "outputs": [],
   "source": [
    "# this makes wure to only keep one of the files only, I don't care which one, just that there is a file\n",
    "for fname in flist:\n",
    "    pth = Path(fname)\n",
    "    outdict[pth.parent.name] = fname\n",
    "\n",
    "fout = list(outdict.values())\n",
    "\n",
    "fout = [f+'\\n' for f in fout]\n",
    "\n",
    "with open(zip_list.replace(\".txt\", \".dedup.txt\"), 'w') as fo:\n",
    "    fo.writelines(fout)\n",
    "    fo.flush()"
   ]
  },
  {
   "cell_type": "code",
   "execution_count": null,
   "metadata": {},
   "outputs": [],
   "source": []
  }
 ],
 "metadata": {
  "kernelspec": {
   "display_name": "Python 3",
   "language": "python",
   "name": "python3"
  },
  "language_info": {
   "codemirror_mode": {
    "name": "ipython",
    "version": 3
   },
   "file_extension": ".py",
   "mimetype": "text/x-python",
   "name": "python",
   "nbconvert_exporter": "python",
   "pygments_lexer": "ipython3",
   "version": "3.8.2"
  }
 },
 "nbformat": 4,
 "nbformat_minor": 4
}
