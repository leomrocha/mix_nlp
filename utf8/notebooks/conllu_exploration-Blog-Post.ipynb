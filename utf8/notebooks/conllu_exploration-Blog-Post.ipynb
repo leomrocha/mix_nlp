{
 "cells": [
  {
   "cell_type": "markdown",
   "metadata": {},
   "source": [
    "[Leo's Home page](https://leomrocha.github.com) -- [Project's Home Page](https://leomrocha.github.io/ud_conllu_v2.6)"
   ]
  },
  {
   "cell_type": "markdown",
   "metadata": {},
   "source": [
    "# A statistical Exploration of Universal Dependencies Conllu Files\n",
    "\n",
    "## Introduction\n",
    "\n",
    "While much work is being done in the current days on NLP and NLU, there is little work on describing why a certain length of transformer (or other as LSTM time steps) architecture has been chosen for the training, it is mostly arbitrary and depends on the goal of the work and resources available (mainly hardware). These decisions are hard once the model has been trained and there is nothing that can be done to extend the length of a transformer (for example) without having to retrain the entire network. There are however some works that tackle variable length sequences. \n",
    "\n",
    "This work presents the first complete analysis (from our knowledge) of the Universal Dependencies v2.6 dataset and presents the global and individual results by language.\n",
    "\n",
    "This work does not intend to be a conference level paper (that is why there are no references to papers on the subject), but an informational technical report that might help to better select the most effective compromise text or token length for your particular NLP application.\n",
    "\n",
    "The number of analyzed languages is 91, the token length is measured as the named UPOS tag in the dataset, while the character length is just that. There is no analysis on what constitutes a word or not, this means that a token includes the punctuation and other symbols presents in the text samples.\n",
    "\n",
    "#### Notes: \n",
    "* The graphs and tables in this post is best viewed in a computer\n",
    "* This is not a tutorial"
   ]
  },
  {
   "cell_type": "markdown",
   "metadata": {},
   "source": [
    "## Dataset\n",
    "\n",
    "[Universal Dependencies](https://universaldependencies.org/) [v2.6](https://lindat.mff.cuni.cz/repository/xmlui/handle/11234/1-3226)\n",
    "\n",
    "The process is the same for any UD version.\n",
    "\n",
    "The Data is **353MB** compressed in gzip format and **2.1GB** in uncompressed raw text format.\n",
    "\n",
    "The entire pipeline takes less than 20 minutes to process and generate all graphs and html output from the uncompressed UD dataset on 1 CPU core of an intel 7700.\n"
   ]
  },
  {
   "cell_type": "markdown",
   "metadata": {},
   "source": [
    "## Technology Stack\n",
    "\n",
    "The analysis was done with the following software stack:\n",
    "* Ubuntu 20.04\n",
    "* python 3.8 with all dependencies installed in a virtualenv \n",
    "* conllu files are dealt with [pyconll](https://github.com/pyconll/pyconll)\n",
    "* [pycountry  v19.8.18](https://pypi.org/project/pycountry/) is used to transform between country code and country names\n",
    "* [NumPy v1.18.4](https://numpy.org/) is used for numerical computation\n",
    "* [Pandas v1.0.4](https://pandas.pydata.org/) is used for DataFrame generation and making easier some operations\n",
    "* [SciPy v1.4.1](https://www.scipy.org/) is used for statistics\n",
    "* [Matplotlib v3.2.1](https://matplotlib.org/) was used for the first graphing iterations during the exploration stage\n",
    "* [Bokeh v2.0.2](https://docs.bokeh.org/en/latest/index.html) used for the latest graph and table generation to make interactive presentations\n",
    "* [Jupyter Lab v2.1.2](https://jupyterlab.readthedocs.io/en/stable/) was used during the entire process from starting the exploration to writing the current report"
   ]
  },
  {
   "cell_type": "markdown",
   "metadata": {},
   "source": [
    "## Method - Steps\n",
    "\n",
    "Some code detail can be seen at the Apendix of this document, the complete code is available in the [repository](https://leomrocha.github.io/ud_conllu_v2.6).\n",
    "\n",
    "1. A single zipped file containing the dataset was downloaded locally and uncompressed\n",
    "2. All the file tree is explored, a list of all the files is returned. All files, train, test and dev are used for this analysis to have the maximum amount of data available.\n",
    "3. undesired files are filtered out (used only during exploration to select different languages to explore and check errors)\n",
    "4.  each file:\n",
    " 1. Open the file\n",
    " 2. language code (2 or 3 letter) is extracted from the file name\n",
    " 3. sentence, form and upos fields are extracted for each file\n",
    "5. All the separate sentence, upos and forms data from each files are now merged in a single list for each type and enriched with language information\n",
    "6. Data is now set in a Pandas Dataframe to simplify handling (select by language in this case). For development or different needs a list of languages can be given to accelerate the processing (for example for exploration purposes)\n",
    "7. Every language is now processed independently and several possible distributions are tested, only the one with the best Kolmogorov-Smirnov test result is chosen as a result. This is the most time-expensive step in the pipe.\n",
    "8. Statistics are computed for every language\n",
    "9. Results are converted to json and saved in a single gz file (available to download in the github repository)\n",
    "10. Statistics tables and plots are done per language, graphs can be explored here and are available in the [project's github page](https://github.com/leomrocha/ud_conllu_v2.6/tree/master/docs/plots_html/)\n",
    "11. Tables are created for upos and text (character) length for all the languages together. These tables are available in the  [project's github page](https://github.com/leomrocha/ud_conllu_v2.6/tree/master/docs/tables_html/)"
   ]
  },
  {
   "cell_type": "markdown",
   "metadata": {},
   "source": [
    "## Observations\n",
    "\n",
    "The histograms show a skew on the distribution, this can be a skewed gaussian, a generalized gaussian or a beta distribution form. Due to this, we test different distribution fits with the Kolmogorov-Smirnov test.\n",
    "\n",
    "There are many languages that do not have enough samples so the dsitribution fit will not be good  and errors will be big.\n",
    "This is not an issue  from the code point of view. The important thing is if this data is used, take into account the number of samples available.\n",
    "\n",
    "\n",
    "While doing this work we found quite interesting that are languages whose number of tokens or characters avoid certain bins in the histogram (Bulgarian, Breton Welsh, Danish, Slovak, Tamil and Thai are a few examples of this). This can mean that, either the language structure supports only those lengths, or that the analyzed dataset only contains samples that avoid some sentence lengths.\n",
    "\n",
    "For some languages the number of samples is too small to make any good assumption from the data.\n",
    "\n",
    "There is one missing language in the analysis, the language code is **qhe** correspinding to the *UD_Hindi_English-HIENCS* folder. This is because the files contain only underscore and space characters.\n",
    "\n"
   ]
  },
  {
   "cell_type": "markdown",
   "metadata": {},
   "source": [
    "## Conclusion\n",
    "\n",
    "This work presents a sample length analysis by language on the UniversalDependencies v2.6 dataset presenting the statistics for all 91 of the 92 represented languages. The analysis then shows the length histograms by character and token length.\n",
    "\n",
    "The best compromise for choosing a sequence length on the NLP architecture for training will depend mostly on the requirements of the application, nevertheless with the numbers here you should be able to make an informed guess on what might be better for your case.\n",
    "\n",
    "We can see that having a multi-lingual approach will necessary make the needed sequences longer as there is a large variability on sequence length, but appliying to single language might allow you to optimize your neural architectures."
   ]
  },
  {
   "cell_type": "markdown",
   "metadata": {},
   "source": [
    "## Future Work\n",
    "\n",
    "We are currently working on a more in depth analysis of the complete Gutenberg project dataset ( ~60K books in several languages) that will discriminate several other text characteristics.\n",
    "\n",
    "Stay tuned for those results ;)"
   ]
  },
  {
   "cell_type": "markdown",
   "metadata": {},
   "source": [
    "# Appendix - Language Graphs"
   ]
  },
  {
   "cell_type": "markdown",
   "metadata": {},
   "source": [
    "You can select the language you want to explore from the dropdown menu.\n",
    "\n",
    "The language graphs are interactive, you can turn on and off the histogram, PDF and CDF clicking on the leyend.\n",
    "\n",
    "All tables can be reordered clicking over the column titles."
   ]
  },
  {
   "cell_type": "markdown",
   "metadata": {},
   "source": [
    "The graphs show (from top to bottom) the UPOS, which equals to the token length, and the character length of the sentences.\n",
    "\n",
    "The interval column tells what percentage (quantile) of data from the dataset will be captured by choosing the value on htat row. The only displayed value is the max (right) one which is the most interesting one. The low (left) values are not shown."
   ]
  },
  {
   "cell_type": "markdown",
   "metadata": {},
   "source": [
    "# Appendix - Tables"
   ]
  },
  {
   "cell_type": "markdown",
   "metadata": {},
   "source": [
    "The following tables contain the list and statistics for all languages. The tables are also interactive, you can reorder them clicking in."
   ]
  },
  {
   "cell_type": "markdown",
   "metadata": {},
   "source": [
    "## Sentence length by UPOS (token) count - All languages"
   ]
  },
  {
   "cell_type": "markdown",
   "metadata": {},
   "source": []
  },
  {
   "cell_type": "markdown",
   "metadata": {},
   "source": [
    "## Sentence length by character count - All languages"
   ]
  },
  {
   "cell_type": "markdown",
   "metadata": {},
   "source": []
  },
  {
   "cell_type": "code",
   "execution_count": null,
   "metadata": {},
   "outputs": [],
   "source": []
  }
 ],
 "metadata": {
  "kernelspec": {
   "display_name": "Python 3",
   "language": "python",
   "name": "python3"
  },
  "language_info": {
   "codemirror_mode": {
    "name": "ipython",
    "version": 3
   },
   "file_extension": ".py",
   "mimetype": "text/x-python",
   "name": "python",
   "nbconvert_exporter": "python",
   "pygments_lexer": "ipython3",
   "version": "3.8.2"
  }
 },
 "nbformat": 4,
 "nbformat_minor": 4
}
