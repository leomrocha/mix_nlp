{
 "cells": [
  {
   "cell_type": "code",
   "execution_count": 1,
   "metadata": {},
   "outputs": [],
   "source": [
    "import os\n",
    "import sys\n",
    "\n",
    "from preprocessors.symbol_extraction import *\n"
   ]
  },
  {
   "cell_type": "code",
   "execution_count": 2,
   "metadata": {},
   "outputs": [],
   "source": [
    "base_dir = \"/home/leo/projects/Datasets/text/wiki-unicode/IPA_chars/\"\n",
    "files = [\"Extensions_to_the_International_Phonetic_Alphabet.txt\",\n",
    "         \"International_Phonetic_Alphabet_chart.txt\",\n",
    "         \"International_Phonetic_Alphabet.txt\"]"
   ]
  },
  {
   "cell_type": "code",
   "execution_count": 8,
   "metadata": {},
   "outputs": [],
   "source": [
    "outfnames = []\n",
    "for f in files:\n",
    "    fname = os.path.join(base_dir, f)\n",
    "    outfnames.append(fname.replace('.txt', '.chars'))\n",
    "    extract_chars(fname, save_output=True)"
   ]
  },
  {
   "cell_type": "code",
   "execution_count": 9,
   "metadata": {},
   "outputs": [],
   "source": [
    "chars = \"\"\n",
    "\n",
    "for fname in outfnames:\n",
    "    with open(fname, 'r') as f:\n",
    "        txt = f.read()\n",
    "        chars = chars + txt"
   ]
  },
  {
   "cell_type": "code",
   "execution_count": 12,
   "metadata": {},
   "outputs": [],
   "source": [
    "chars = sorted(list(set(chars)))"
   ]
  },
  {
   "cell_type": "code",
   "execution_count": 14,
   "metadata": {},
   "outputs": [
    {
     "data": {
      "text/plain": [
       "650"
      ]
     },
     "execution_count": 14,
     "metadata": {},
     "output_type": "execute_result"
    }
   ],
   "source": [
    "len(chars)"
   ]
  },
  {
   "cell_type": "code",
   "execution_count": 15,
   "metadata": {},
   "outputs": [],
   "source": [
    "txt = ''.join(chars)"
   ]
  },
  {
   "cell_type": "code",
   "execution_count": 16,
   "metadata": {},
   "outputs": [
    {
     "data": {
      "text/plain": [
       "'\\t\\n !\"#$%&\\'()*+,-./0123456789:;<=>?ABCDEFGHIJKLMNOPQRSTUVWXYZ[\\\\]^_abcdefghijklmnopqrstuvwxyz{|}~¡§®ÍàáâãäåæçèéêëìíîðñóôøúüýāăČčēĕěħīıŊŋōœŚšůųƆƇƈƉƍƐƔƙƛƞƥƭƲǀǁǂǃǥȅȸȹɄɈɐɑɒɓɔɕɖɗɘəɚɛɜɝɞɟɠɡɢɣɤɥɦɧɨɪɫɬɭɮɯɰɱɲɳɴɵɶɷɸɹɺɻɽɾʀʁʂʃʄʇʈʉʊʋʌʍʎʏʐʑʒʔʕʖʗʘʙʛʜʝʞʟʠʡʢʩʪʫʬʭʰʱʲʴʶʷʻʼʽʾʿˀˇˈˌːˑ˒˓˔˕˖˗˞ˠˡˢˣˤ˥˦˧˨˩˭˳̴̖̗̘̙̜̝̞̟̠̤̥̩̪̬̯̰̹̺̻̼͇͈͉͍͎͔͕̀́̂̃̄̆̈̊̋̌̍̏̑̽͆͊͋͌͑͗̚͜͢͡ΕΦάβηθικλμνσχАБГИМНРСТУЧабвгдезийклнопрстухцчшъыьэяіїўҚқҡҷӀӑӣՀաեյնրְִָֹּבויכנערתئابةتجدرسصعغفلمنهوىيچڌکۆۇیەހބވދސަިެްߏߒߞठथदनपमरलहािीेै्ংবলাਜਪਬਾੀੰଆଓଡ଼ିதமழி்గతలుెทยไລວາ་གདབཡིོაგთილმრუქማርኛአខភមរសាែ្᪽᪻ᴰᴷᴺᵀᵊᵑᵗᵘᵝᵶᵻᵿᶑᶚᶢᶦᶴᶷᶹᶿ᷽᷄᷅᷆᷇᷈᷉ᷢḍḏḥṃṇṭṳṼẽếệữ\\u2009\\u200e–—‖•…‹›‼‿⁼⁽⁾ⁿ₍₎⃝ↀ↑→↓↗↘ⒸⒻⒼⓀⓁⓃⓅⓇⓈⓉⓋⓚ◌◯⟦⟧⟨⟩⟪⟫⠁⠃⠇⠊⠑⠗⫽ⱱ⸨⸩中吴客家文日本粵言語语贛ꜛꜜꞎꞭꞯꞰꞵꭓ국어한\\uf267\\uf268︎ﻉ𝑓𝑝'"
      ]
     },
     "execution_count": 16,
     "metadata": {},
     "output_type": "execute_result"
    }
   ],
   "source": [
    "txt"
   ]
  },
  {
   "cell_type": "code",
   "execution_count": null,
   "metadata": {},
   "outputs": [],
   "source": []
  }
 ],
 "metadata": {
  "kernelspec": {
   "display_name": "Python 3",
   "language": "python",
   "name": "python3"
  },
  "language_info": {
   "codemirror_mode": {
    "name": "ipython",
    "version": 3
   },
   "file_extension": ".py",
   "mimetype": "text/x-python",
   "name": "python",
   "nbconvert_exporter": "python",
   "pygments_lexer": "ipython3",
   "version": "3.8.2"
  }
 },
 "nbformat": 4,
 "nbformat_minor": 4
}
